{
  "nbformat": 4,
  "nbformat_minor": 0,
  "metadata": {
    "kernelspec": {
      "display_name": "Python 3",
      "language": "python",
      "name": "python3"
    },
    "language_info": {
      "codemirror_mode": {
        "name": "ipython",
        "version": 3
      },
      "file_extension": ".py",
      "mimetype": "text/x-python",
      "name": "python",
      "nbconvert_exporter": "python",
      "pygments_lexer": "ipython3",
      "version": "3.8.5"
    },
    "colab": {
      "name": "160204014_Problem#1.ipynb",
      "provenance": [],
      "collapsed_sections": []
    }
  },
  "cells": [
    {
      "cell_type": "markdown",
      "metadata": {
        "id": "4uQOQTfUh1-3"
      },
      "source": [
        "### **Problem #1**\r\n",
        "\r\n",
        "*   Apply only **logistic regression** for the **NumtaDB** dataset and build a multiclass classification model that can recognize `[0-9]` Bengali handwritten digits with different hyperparameter settings.  "
      ]
    },
    {
      "cell_type": "code",
      "metadata": {
        "colab": {
          "base_uri": "https://localhost:8080/"
        },
        "id": "ppWY9yDeiUtJ",
        "outputId": "5daebff8-ad97-4e5d-e147-49106e982fcf"
      },
      "source": [
        "from google.colab import drive\r\n",
        "\r\n",
        "drive.mount('/content/gdrive')"
      ],
      "execution_count": null,
      "outputs": [
        {
          "output_type": "stream",
          "text": [
            "Mounted at /content/gdrive\n"
          ],
          "name": "stdout"
        }
      ]
    },
    {
      "cell_type": "code",
      "metadata": {
        "id": "fvulO4XShzIo",
        "outputId": "53d5ced1-2fca-4c11-f0e1-277f6d2ee5fe"
      },
      "source": [
        "import os\n",
        "from os import path\n",
        "import shutil\n",
        "import numpy as np\n",
        "import pandas as pd\n",
        "import torch\n",
        "import torch.nn as nn\n",
        "import torch.nn.functional as F\n",
        "import torch.optim as optim\n",
        "from torch.utils.data import Dataset\n",
        "from torch.utils.data.sampler import SubsetRandomSampler\n",
        "import matplotlib\n",
        "import matplotlib.pyplot as plt\n",
        "from PIL import Image\n",
        "from torchvision import datasets, transforms, models\n",
        "from torch.autograd import Variable\n",
        "import numpy as np\n",
        "from matplotlib import pyplot as plt\n",
        "\n",
        "import os\n",
        "print(os.listdir(\"/content/gdrive/My Drive/NamtaDB\"))\n"
      ],
      "execution_count": null,
      "outputs": [
        {
          "output_type": "stream",
          "text": [
            "['testing-a', 'testing-all-corrected', 'testing-auga', 'testing-augc', 'testing-b', 'testing-c', 'testing-d', 'testing-e', 'testing-f', 'training-a', 'training-a.csv', 'training-b', 'training-b.csv', 'training-c', 'training-c.csv', 'training-d', 'training-d.csv', 'training-e', 'training-e.csv']\n"
          ],
          "name": "stdout"
        }
      ]
    },
    {
      "cell_type": "code",
      "metadata": {
        "id": "chnKybS6hzIu",
        "outputId": "1727c4d3-d33e-405d-8eb3-c39b607eb0d7"
      },
      "source": [
        "PATH = '/content/gdrive/My Drive/NamtaDB/'\n",
        "os.listdir(PATH)"
      ],
      "execution_count": null,
      "outputs": [
        {
          "output_type": "execute_result",
          "data": {
            "text/plain": [
              "['testing-a',\n",
              " 'testing-all-corrected',\n",
              " 'testing-auga',\n",
              " 'testing-augc',\n",
              " 'testing-b',\n",
              " 'testing-c',\n",
              " 'testing-d',\n",
              " 'testing-e',\n",
              " 'testing-f',\n",
              " 'training-a',\n",
              " 'training-a.csv',\n",
              " 'training-b',\n",
              " 'training-b.csv',\n",
              " 'training-c',\n",
              " 'training-c.csv',\n",
              " 'training-d',\n",
              " 'training-d.csv',\n",
              " 'training-e',\n",
              " 'training-e.csv']"
            ]
          },
          "metadata": {
            "tags": []
          },
          "execution_count": 3
        }
      ]
    },
    {
      "cell_type": "code",
      "metadata": {
        "id": "RoARfNxOhzIv"
      },
      "source": [
        "def showRawTrainingSamples(csv_filename):\n",
        "  df = pd.read_csv(PATH + csv_filename)\n",
        "  print(csv_filename)\n",
        "  print(df.columns)\n",
        "  return df"
      ],
      "execution_count": null,
      "outputs": []
    },
    {
      "cell_type": "code",
      "metadata": {
        "id": "174frN_shzIv",
        "outputId": "80a8d3e0-7031-448b-f3d1-babdf6ea332b"
      },
      "source": [
        "a_csv = showRawTrainingSamples('training-a.csv')\n",
        "b_csv = showRawTrainingSamples('training-b.csv')\n",
        "c_csv = showRawTrainingSamples('training-c.csv')\n",
        "d_csv = showRawTrainingSamples('training-d.csv')\n",
        "e_csv = showRawTrainingSamples('training-e.csv')\n"
      ],
      "execution_count": null,
      "outputs": [
        {
          "output_type": "stream",
          "text": [
            "training-a.csv\n",
            "Index(['filename', 'original filename', 'scanid', 'digit',\n",
            "       'database name original', 'contributing team', 'database name'],\n",
            "      dtype='object')\n",
            "training-b.csv\n",
            "Index(['filename', 'original filename', 'scanid', 'digit',\n",
            "       'database name original', 'contributing team', 'database name'],\n",
            "      dtype='object')\n",
            "training-c.csv\n",
            "Index(['filename', 'original filename', 'scanid', 'digit',\n",
            "       'database name original', 'contributing team', 'database name'],\n",
            "      dtype='object')\n",
            "training-d.csv\n",
            "Index(['original filename', 'scanid', 'digit', 'num', 'database name original',\n",
            "       'database name', 'filename'],\n",
            "      dtype='object')\n",
            "training-e.csv\n",
            "Index(['filename', 'original filename', 'districtid', 'institutionid',\n",
            "       'gender', 'age', 'datestamp', 'scanid', 'digit',\n",
            "       'database name original', 'database name'],\n",
            "      dtype='object')\n"
          ],
          "name": "stdout"
        }
      ]
    },
    {
      "cell_type": "code",
      "metadata": {
        "id": "MIKuRr1ChzIw"
      },
      "source": [
        "#here i make a function for taking filename and digit from csv file.\n",
        "def dropColumns(csv_file):\n",
        "  csv_file = csv_file[['filename', 'digit']]\n",
        "  print(csv_file)\n",
        "  print(csv_file.iloc[:5, :])   \n",
        "  print(\"=============================\")\n",
        "  return csv_file"
      ],
      "execution_count": null,
      "outputs": []
    },
    {
      "cell_type": "code",
      "metadata": {
        "id": "OpMmxvDghzIw",
        "outputId": "d3003676-2ddf-4018-f95c-c95dd2f16576"
      },
      "source": [
        "a_csv = dropColumns(a_csv)\n",
        "b_csv = dropColumns(b_csv)\n",
        "c_csv = dropColumns(c_csv)\n",
        "d_csv = dropColumns(d_csv)\n",
        "e_csv = dropColumns(e_csv)"
      ],
      "execution_count": null,
      "outputs": [
        {
          "output_type": "stream",
          "text": [
            "         filename  digit\n",
            "0      a00000.png      5\n",
            "1      a00001.png      3\n",
            "2      a00002.png      1\n",
            "3      a00003.png      7\n",
            "4      a00004.png      0\n",
            "...           ...    ...\n",
            "19697  a19697.png      4\n",
            "19698  a19698.png      3\n",
            "19699  a19699.png      8\n",
            "19700  a19700.png      3\n",
            "19701  a19701.png      8\n",
            "\n",
            "[19702 rows x 2 columns]\n",
            "     filename  digit\n",
            "0  a00000.png      5\n",
            "1  a00001.png      3\n",
            "2  a00002.png      1\n",
            "3  a00003.png      7\n",
            "4  a00004.png      0\n",
            "=============================\n",
            "       filename  digit\n",
            "0    b00000.png      0\n",
            "1    b00001.png      2\n",
            "2    b00002.png      5\n",
            "3    b00003.png      2\n",
            "4    b00004.png      5\n",
            "..          ...    ...\n",
            "354  b00354.png      5\n",
            "355  b00355.png      9\n",
            "356  b00356.png      2\n",
            "357  b00357.png      1\n",
            "358  b00358.png      2\n",
            "\n",
            "[359 rows x 2 columns]\n",
            "     filename  digit\n",
            "0  b00000.png      0\n",
            "1  b00001.png      2\n",
            "2  b00002.png      5\n",
            "3  b00003.png      2\n",
            "4  b00004.png      5\n",
            "=============================\n",
            "         filename  digit\n",
            "0      c00000.png      6\n",
            "1      c00001.png      1\n",
            "2      c00002.png      3\n",
            "3      c00003.png      2\n",
            "4      c00004.png      7\n",
            "...           ...    ...\n",
            "24293  c24293.png      3\n",
            "24294  c24294.png      2\n",
            "24295  c24295.png      7\n",
            "24296  c24296.png      2\n",
            "24297  c24297.png      7\n",
            "\n",
            "[24298 rows x 2 columns]\n",
            "     filename  digit\n",
            "0  c00000.png      6\n",
            "1  c00001.png      1\n",
            "2  c00002.png      3\n",
            "3  c00003.png      2\n",
            "4  c00004.png      7\n",
            "=============================\n",
            "         filename  digit\n",
            "0      d00000.png      1\n",
            "1      d00001.png      1\n",
            "2      d00002.png      5\n",
            "3      d00003.png      7\n",
            "4      d00004.png      0\n",
            "...           ...    ...\n",
            "10903  d10903.png      8\n",
            "10904  d10904.png      6\n",
            "10905  d10905.png      1\n",
            "10906  d10906.png      6\n",
            "10907  d10907.png      1\n",
            "\n",
            "[10908 rows x 2 columns]\n",
            "     filename  digit\n",
            "0  d00000.png      1\n",
            "1  d00001.png      1\n",
            "2  d00002.png      5\n",
            "3  d00003.png      7\n",
            "4  d00004.png      0\n",
            "=============================\n",
            "         filename  digit\n",
            "0      e00000.png      9\n",
            "1      e00001.png      9\n",
            "2      e00002.png      0\n",
            "3      e00003.png      4\n",
            "4      e00004.png      5\n",
            "...           ...    ...\n",
            "16773  e16773.png      2\n",
            "16774  e16774.png      6\n",
            "16775  e16775.png      5\n",
            "16776  e16776.png      4\n",
            "16777  e16777.png      4\n",
            "\n",
            "[16778 rows x 2 columns]\n",
            "     filename  digit\n",
            "0  e00000.png      9\n",
            "1  e00001.png      9\n",
            "2  e00002.png      0\n",
            "3  e00003.png      4\n",
            "4  e00004.png      5\n",
            "=============================\n"
          ],
          "name": "stdout"
        }
      ]
    },
    {
      "cell_type": "code",
      "metadata": {
        "id": "Pkf4d_uLhzIw",
        "outputId": "b064a490-c704-45b3-e9ce-6b551634784d"
      },
      "source": [
        "a_csv = pd.read_csv('/content/gdrive/My Drive/NamtaDB/training-a.csv')\n",
        "a_csv.columns"
      ],
      "execution_count": null,
      "outputs": [
        {
          "output_type": "execute_result",
          "data": {
            "text/plain": [
              "Index(['filename', 'original filename', 'scanid', 'digit',\n",
              "       'database name original', 'contributing team', 'database name'],\n",
              "      dtype='object')"
            ]
          },
          "metadata": {
            "tags": []
          },
          "execution_count": 9
        }
      ]
    },
    {
      "cell_type": "code",
      "metadata": {
        "id": "3y0DFTCrhzIw",
        "outputId": "606cee6f-b676-46f5-f0ec-c5222c7d90b3"
      },
      "source": [
        "a_csv = a_csv.drop(columns=['original filename', 'scanid',\n",
        "       'database name original', 'contributing team', 'database name'])\n",
        "a_csv.iloc[:15, 0:]"
      ],
      "execution_count": null,
      "outputs": [
        {
          "output_type": "execute_result",
          "data": {
            "text/html": [
              "<div>\n",
              "<style scoped>\n",
              "    .dataframe tbody tr th:only-of-type {\n",
              "        vertical-align: middle;\n",
              "    }\n",
              "\n",
              "    .dataframe tbody tr th {\n",
              "        vertical-align: top;\n",
              "    }\n",
              "\n",
              "    .dataframe thead th {\n",
              "        text-align: right;\n",
              "    }\n",
              "</style>\n",
              "<table border=\"1\" class=\"dataframe\">\n",
              "  <thead>\n",
              "    <tr style=\"text-align: right;\">\n",
              "      <th></th>\n",
              "      <th>filename</th>\n",
              "      <th>digit</th>\n",
              "    </tr>\n",
              "  </thead>\n",
              "  <tbody>\n",
              "    <tr>\n",
              "      <th>0</th>\n",
              "      <td>a00000.png</td>\n",
              "      <td>5</td>\n",
              "    </tr>\n",
              "    <tr>\n",
              "      <th>1</th>\n",
              "      <td>a00001.png</td>\n",
              "      <td>3</td>\n",
              "    </tr>\n",
              "    <tr>\n",
              "      <th>2</th>\n",
              "      <td>a00002.png</td>\n",
              "      <td>1</td>\n",
              "    </tr>\n",
              "    <tr>\n",
              "      <th>3</th>\n",
              "      <td>a00003.png</td>\n",
              "      <td>7</td>\n",
              "    </tr>\n",
              "    <tr>\n",
              "      <th>4</th>\n",
              "      <td>a00004.png</td>\n",
              "      <td>0</td>\n",
              "    </tr>\n",
              "    <tr>\n",
              "      <th>5</th>\n",
              "      <td>a00005.png</td>\n",
              "      <td>4</td>\n",
              "    </tr>\n",
              "    <tr>\n",
              "      <th>6</th>\n",
              "      <td>a00006.png</td>\n",
              "      <td>3</td>\n",
              "    </tr>\n",
              "    <tr>\n",
              "      <th>7</th>\n",
              "      <td>a00007.png</td>\n",
              "      <td>0</td>\n",
              "    </tr>\n",
              "    <tr>\n",
              "      <th>8</th>\n",
              "      <td>a00008.png</td>\n",
              "      <td>4</td>\n",
              "    </tr>\n",
              "    <tr>\n",
              "      <th>9</th>\n",
              "      <td>a00009.png</td>\n",
              "      <td>9</td>\n",
              "    </tr>\n",
              "    <tr>\n",
              "      <th>10</th>\n",
              "      <td>a00010.png</td>\n",
              "      <td>7</td>\n",
              "    </tr>\n",
              "    <tr>\n",
              "      <th>11</th>\n",
              "      <td>a00011.png</td>\n",
              "      <td>3</td>\n",
              "    </tr>\n",
              "    <tr>\n",
              "      <th>12</th>\n",
              "      <td>a00012.png</td>\n",
              "      <td>5</td>\n",
              "    </tr>\n",
              "    <tr>\n",
              "      <th>13</th>\n",
              "      <td>a00013.png</td>\n",
              "      <td>8</td>\n",
              "    </tr>\n",
              "    <tr>\n",
              "      <th>14</th>\n",
              "      <td>a00014.png</td>\n",
              "      <td>1</td>\n",
              "    </tr>\n",
              "  </tbody>\n",
              "</table>\n",
              "</div>"
            ],
            "text/plain": [
              "      filename  digit\n",
              "0   a00000.png      5\n",
              "1   a00001.png      3\n",
              "2   a00002.png      1\n",
              "3   a00003.png      7\n",
              "4   a00004.png      0\n",
              "5   a00005.png      4\n",
              "6   a00006.png      3\n",
              "7   a00007.png      0\n",
              "8   a00008.png      4\n",
              "9   a00009.png      9\n",
              "10  a00010.png      7\n",
              "11  a00011.png      3\n",
              "12  a00012.png      5\n",
              "13  a00013.png      8\n",
              "14  a00014.png      1"
            ]
          },
          "metadata": {
            "tags": []
          },
          "execution_count": 10
        }
      ]
    },
    {
      "cell_type": "code",
      "metadata": {
        "id": "W-UxE_W9hzIx",
        "outputId": "dfb6981c-4619-49a6-d663-e979ab8bab80"
      },
      "source": [
        "b_csv = pd.read_csv('/content/gdrive/My Drive/NamtaDB/training-b.csv')\n",
        "b_csv.columns"
      ],
      "execution_count": null,
      "outputs": [
        {
          "output_type": "execute_result",
          "data": {
            "text/plain": [
              "Index(['filename', 'original filename', 'scanid', 'digit',\n",
              "       'database name original', 'contributing team', 'database name'],\n",
              "      dtype='object')"
            ]
          },
          "metadata": {
            "tags": []
          },
          "execution_count": 11
        }
      ]
    },
    {
      "cell_type": "code",
      "metadata": {
        "id": "_T11mzqXhzIx",
        "outputId": "ccf869c4-6bc6-42bb-d715-161545bc5242"
      },
      "source": [
        "b_csv = b_csv.drop(columns=['original filename', 'scanid',\n",
        "       'database name original', 'contributing team', 'database name'])\n",
        "b_csv.iloc[:15, 0:]"
      ],
      "execution_count": null,
      "outputs": [
        {
          "output_type": "execute_result",
          "data": {
            "text/html": [
              "<div>\n",
              "<style scoped>\n",
              "    .dataframe tbody tr th:only-of-type {\n",
              "        vertical-align: middle;\n",
              "    }\n",
              "\n",
              "    .dataframe tbody tr th {\n",
              "        vertical-align: top;\n",
              "    }\n",
              "\n",
              "    .dataframe thead th {\n",
              "        text-align: right;\n",
              "    }\n",
              "</style>\n",
              "<table border=\"1\" class=\"dataframe\">\n",
              "  <thead>\n",
              "    <tr style=\"text-align: right;\">\n",
              "      <th></th>\n",
              "      <th>filename</th>\n",
              "      <th>digit</th>\n",
              "    </tr>\n",
              "  </thead>\n",
              "  <tbody>\n",
              "    <tr>\n",
              "      <th>0</th>\n",
              "      <td>b00000.png</td>\n",
              "      <td>0</td>\n",
              "    </tr>\n",
              "    <tr>\n",
              "      <th>1</th>\n",
              "      <td>b00001.png</td>\n",
              "      <td>2</td>\n",
              "    </tr>\n",
              "    <tr>\n",
              "      <th>2</th>\n",
              "      <td>b00002.png</td>\n",
              "      <td>5</td>\n",
              "    </tr>\n",
              "    <tr>\n",
              "      <th>3</th>\n",
              "      <td>b00003.png</td>\n",
              "      <td>2</td>\n",
              "    </tr>\n",
              "    <tr>\n",
              "      <th>4</th>\n",
              "      <td>b00004.png</td>\n",
              "      <td>5</td>\n",
              "    </tr>\n",
              "    <tr>\n",
              "      <th>5</th>\n",
              "      <td>b00005.png</td>\n",
              "      <td>5</td>\n",
              "    </tr>\n",
              "    <tr>\n",
              "      <th>6</th>\n",
              "      <td>b00006.png</td>\n",
              "      <td>4</td>\n",
              "    </tr>\n",
              "    <tr>\n",
              "      <th>7</th>\n",
              "      <td>b00007.png</td>\n",
              "      <td>6</td>\n",
              "    </tr>\n",
              "    <tr>\n",
              "      <th>8</th>\n",
              "      <td>b00008.png</td>\n",
              "      <td>9</td>\n",
              "    </tr>\n",
              "    <tr>\n",
              "      <th>9</th>\n",
              "      <td>b00009.png</td>\n",
              "      <td>7</td>\n",
              "    </tr>\n",
              "    <tr>\n",
              "      <th>10</th>\n",
              "      <td>b00010.png</td>\n",
              "      <td>4</td>\n",
              "    </tr>\n",
              "    <tr>\n",
              "      <th>11</th>\n",
              "      <td>b00011.png</td>\n",
              "      <td>1</td>\n",
              "    </tr>\n",
              "    <tr>\n",
              "      <th>12</th>\n",
              "      <td>b00012.png</td>\n",
              "      <td>6</td>\n",
              "    </tr>\n",
              "    <tr>\n",
              "      <th>13</th>\n",
              "      <td>b00013.png</td>\n",
              "      <td>6</td>\n",
              "    </tr>\n",
              "    <tr>\n",
              "      <th>14</th>\n",
              "      <td>b00014.png</td>\n",
              "      <td>8</td>\n",
              "    </tr>\n",
              "  </tbody>\n",
              "</table>\n",
              "</div>"
            ],
            "text/plain": [
              "      filename  digit\n",
              "0   b00000.png      0\n",
              "1   b00001.png      2\n",
              "2   b00002.png      5\n",
              "3   b00003.png      2\n",
              "4   b00004.png      5\n",
              "5   b00005.png      5\n",
              "6   b00006.png      4\n",
              "7   b00007.png      6\n",
              "8   b00008.png      9\n",
              "9   b00009.png      7\n",
              "10  b00010.png      4\n",
              "11  b00011.png      1\n",
              "12  b00012.png      6\n",
              "13  b00013.png      6\n",
              "14  b00014.png      8"
            ]
          },
          "metadata": {
            "tags": []
          },
          "execution_count": 12
        }
      ]
    },
    {
      "cell_type": "code",
      "metadata": {
        "id": "RT7X_X1FhzIx",
        "outputId": "929835dc-fdc4-454d-d493-56694e302a58"
      },
      "source": [
        "c_csv = pd.read_csv('/content/gdrive/My Drive/NamtaDB/training-c.csv')\n",
        "c_csv.columns"
      ],
      "execution_count": null,
      "outputs": [
        {
          "output_type": "execute_result",
          "data": {
            "text/plain": [
              "Index(['filename', 'original filename', 'scanid', 'digit',\n",
              "       'database name original', 'contributing team', 'database name'],\n",
              "      dtype='object')"
            ]
          },
          "metadata": {
            "tags": []
          },
          "execution_count": 13
        }
      ]
    },
    {
      "cell_type": "code",
      "metadata": {
        "id": "gI7QpblIhzIy",
        "outputId": "a4856702-c837-4c6a-ef47-2eb6b07f29fb"
      },
      "source": [
        "c_csv = c_csv.drop(columns=['original filename', 'scanid',\n",
        "       'database name original', 'contributing team', 'database name'])\n",
        "c_csv.iloc[:15, 0:]"
      ],
      "execution_count": null,
      "outputs": [
        {
          "output_type": "execute_result",
          "data": {
            "text/html": [
              "<div>\n",
              "<style scoped>\n",
              "    .dataframe tbody tr th:only-of-type {\n",
              "        vertical-align: middle;\n",
              "    }\n",
              "\n",
              "    .dataframe tbody tr th {\n",
              "        vertical-align: top;\n",
              "    }\n",
              "\n",
              "    .dataframe thead th {\n",
              "        text-align: right;\n",
              "    }\n",
              "</style>\n",
              "<table border=\"1\" class=\"dataframe\">\n",
              "  <thead>\n",
              "    <tr style=\"text-align: right;\">\n",
              "      <th></th>\n",
              "      <th>filename</th>\n",
              "      <th>digit</th>\n",
              "    </tr>\n",
              "  </thead>\n",
              "  <tbody>\n",
              "    <tr>\n",
              "      <th>0</th>\n",
              "      <td>c00000.png</td>\n",
              "      <td>6</td>\n",
              "    </tr>\n",
              "    <tr>\n",
              "      <th>1</th>\n",
              "      <td>c00001.png</td>\n",
              "      <td>1</td>\n",
              "    </tr>\n",
              "    <tr>\n",
              "      <th>2</th>\n",
              "      <td>c00002.png</td>\n",
              "      <td>3</td>\n",
              "    </tr>\n",
              "    <tr>\n",
              "      <th>3</th>\n",
              "      <td>c00003.png</td>\n",
              "      <td>2</td>\n",
              "    </tr>\n",
              "    <tr>\n",
              "      <th>4</th>\n",
              "      <td>c00004.png</td>\n",
              "      <td>7</td>\n",
              "    </tr>\n",
              "    <tr>\n",
              "      <th>5</th>\n",
              "      <td>c00005.png</td>\n",
              "      <td>3</td>\n",
              "    </tr>\n",
              "    <tr>\n",
              "      <th>6</th>\n",
              "      <td>c00006.png</td>\n",
              "      <td>4</td>\n",
              "    </tr>\n",
              "    <tr>\n",
              "      <th>7</th>\n",
              "      <td>c00007.png</td>\n",
              "      <td>7</td>\n",
              "    </tr>\n",
              "    <tr>\n",
              "      <th>8</th>\n",
              "      <td>c00008.png</td>\n",
              "      <td>5</td>\n",
              "    </tr>\n",
              "    <tr>\n",
              "      <th>9</th>\n",
              "      <td>c00009.png</td>\n",
              "      <td>3</td>\n",
              "    </tr>\n",
              "    <tr>\n",
              "      <th>10</th>\n",
              "      <td>c00010.png</td>\n",
              "      <td>0</td>\n",
              "    </tr>\n",
              "    <tr>\n",
              "      <th>11</th>\n",
              "      <td>c00011.png</td>\n",
              "      <td>6</td>\n",
              "    </tr>\n",
              "    <tr>\n",
              "      <th>12</th>\n",
              "      <td>c00012.png</td>\n",
              "      <td>5</td>\n",
              "    </tr>\n",
              "    <tr>\n",
              "      <th>13</th>\n",
              "      <td>c00013.png</td>\n",
              "      <td>3</td>\n",
              "    </tr>\n",
              "    <tr>\n",
              "      <th>14</th>\n",
              "      <td>c00014.png</td>\n",
              "      <td>9</td>\n",
              "    </tr>\n",
              "  </tbody>\n",
              "</table>\n",
              "</div>"
            ],
            "text/plain": [
              "      filename  digit\n",
              "0   c00000.png      6\n",
              "1   c00001.png      1\n",
              "2   c00002.png      3\n",
              "3   c00003.png      2\n",
              "4   c00004.png      7\n",
              "5   c00005.png      3\n",
              "6   c00006.png      4\n",
              "7   c00007.png      7\n",
              "8   c00008.png      5\n",
              "9   c00009.png      3\n",
              "10  c00010.png      0\n",
              "11  c00011.png      6\n",
              "12  c00012.png      5\n",
              "13  c00013.png      3\n",
              "14  c00014.png      9"
            ]
          },
          "metadata": {
            "tags": []
          },
          "execution_count": 14
        }
      ]
    },
    {
      "cell_type": "code",
      "metadata": {
        "id": "x46EIXGKhzIy",
        "outputId": "20da9bc2-fd93-4515-b095-55a82d3ce87e"
      },
      "source": [
        "d_csv = pd.read_csv('/content/gdrive/My Drive/NamtaDB/training-d.csv')\n",
        "d_csv.columns"
      ],
      "execution_count": null,
      "outputs": [
        {
          "output_type": "execute_result",
          "data": {
            "text/plain": [
              "Index(['original filename', 'scanid', 'digit', 'num', 'database name original',\n",
              "       'database name', 'filename'],\n",
              "      dtype='object')"
            ]
          },
          "metadata": {
            "tags": []
          },
          "execution_count": 15
        }
      ]
    },
    {
      "cell_type": "code",
      "metadata": {
        "id": "u-urcrJEhzIy",
        "outputId": "3186d746-4820-4f4c-bd5d-602554ddc9dd"
      },
      "source": [
        "d_csv = d_csv.drop(columns=['original filename', 'scanid',\n",
        "       'database name original','num', 'database name'])\n",
        "d_csv.iloc[:15, 0:]"
      ],
      "execution_count": null,
      "outputs": [
        {
          "output_type": "execute_result",
          "data": {
            "text/html": [
              "<div>\n",
              "<style scoped>\n",
              "    .dataframe tbody tr th:only-of-type {\n",
              "        vertical-align: middle;\n",
              "    }\n",
              "\n",
              "    .dataframe tbody tr th {\n",
              "        vertical-align: top;\n",
              "    }\n",
              "\n",
              "    .dataframe thead th {\n",
              "        text-align: right;\n",
              "    }\n",
              "</style>\n",
              "<table border=\"1\" class=\"dataframe\">\n",
              "  <thead>\n",
              "    <tr style=\"text-align: right;\">\n",
              "      <th></th>\n",
              "      <th>digit</th>\n",
              "      <th>filename</th>\n",
              "    </tr>\n",
              "  </thead>\n",
              "  <tbody>\n",
              "    <tr>\n",
              "      <th>0</th>\n",
              "      <td>1</td>\n",
              "      <td>d00000.png</td>\n",
              "    </tr>\n",
              "    <tr>\n",
              "      <th>1</th>\n",
              "      <td>1</td>\n",
              "      <td>d00001.png</td>\n",
              "    </tr>\n",
              "    <tr>\n",
              "      <th>2</th>\n",
              "      <td>5</td>\n",
              "      <td>d00002.png</td>\n",
              "    </tr>\n",
              "    <tr>\n",
              "      <th>3</th>\n",
              "      <td>7</td>\n",
              "      <td>d00003.png</td>\n",
              "    </tr>\n",
              "    <tr>\n",
              "      <th>4</th>\n",
              "      <td>0</td>\n",
              "      <td>d00004.png</td>\n",
              "    </tr>\n",
              "    <tr>\n",
              "      <th>5</th>\n",
              "      <td>1</td>\n",
              "      <td>d00005.png</td>\n",
              "    </tr>\n",
              "    <tr>\n",
              "      <th>6</th>\n",
              "      <td>0</td>\n",
              "      <td>d00006.png</td>\n",
              "    </tr>\n",
              "    <tr>\n",
              "      <th>7</th>\n",
              "      <td>0</td>\n",
              "      <td>d00007.png</td>\n",
              "    </tr>\n",
              "    <tr>\n",
              "      <th>8</th>\n",
              "      <td>3</td>\n",
              "      <td>d00008.png</td>\n",
              "    </tr>\n",
              "    <tr>\n",
              "      <th>9</th>\n",
              "      <td>7</td>\n",
              "      <td>d00009.png</td>\n",
              "    </tr>\n",
              "    <tr>\n",
              "      <th>10</th>\n",
              "      <td>7</td>\n",
              "      <td>d00010.png</td>\n",
              "    </tr>\n",
              "    <tr>\n",
              "      <th>11</th>\n",
              "      <td>2</td>\n",
              "      <td>d00011.png</td>\n",
              "    </tr>\n",
              "    <tr>\n",
              "      <th>12</th>\n",
              "      <td>0</td>\n",
              "      <td>d00012.png</td>\n",
              "    </tr>\n",
              "    <tr>\n",
              "      <th>13</th>\n",
              "      <td>6</td>\n",
              "      <td>d00013.png</td>\n",
              "    </tr>\n",
              "    <tr>\n",
              "      <th>14</th>\n",
              "      <td>8</td>\n",
              "      <td>d00014.png</td>\n",
              "    </tr>\n",
              "  </tbody>\n",
              "</table>\n",
              "</div>"
            ],
            "text/plain": [
              "    digit    filename\n",
              "0       1  d00000.png\n",
              "1       1  d00001.png\n",
              "2       5  d00002.png\n",
              "3       7  d00003.png\n",
              "4       0  d00004.png\n",
              "5       1  d00005.png\n",
              "6       0  d00006.png\n",
              "7       0  d00007.png\n",
              "8       3  d00008.png\n",
              "9       7  d00009.png\n",
              "10      7  d00010.png\n",
              "11      2  d00011.png\n",
              "12      0  d00012.png\n",
              "13      6  d00013.png\n",
              "14      8  d00014.png"
            ]
          },
          "metadata": {
            "tags": []
          },
          "execution_count": 16
        }
      ]
    },
    {
      "cell_type": "code",
      "metadata": {
        "id": "T27G1WQDhzIy",
        "outputId": "f6ca4597-20e6-4c5b-c86b-0588af7e6653"
      },
      "source": [
        "D_columns_titles = ['filename', 'digit']\n",
        "d_csv = d_csv.reindex(columns = D_columns_titles)\n",
        "d_csv.iloc[:15, 0:]"
      ],
      "execution_count": null,
      "outputs": [
        {
          "output_type": "execute_result",
          "data": {
            "text/html": [
              "<div>\n",
              "<style scoped>\n",
              "    .dataframe tbody tr th:only-of-type {\n",
              "        vertical-align: middle;\n",
              "    }\n",
              "\n",
              "    .dataframe tbody tr th {\n",
              "        vertical-align: top;\n",
              "    }\n",
              "\n",
              "    .dataframe thead th {\n",
              "        text-align: right;\n",
              "    }\n",
              "</style>\n",
              "<table border=\"1\" class=\"dataframe\">\n",
              "  <thead>\n",
              "    <tr style=\"text-align: right;\">\n",
              "      <th></th>\n",
              "      <th>filename</th>\n",
              "      <th>digit</th>\n",
              "    </tr>\n",
              "  </thead>\n",
              "  <tbody>\n",
              "    <tr>\n",
              "      <th>0</th>\n",
              "      <td>d00000.png</td>\n",
              "      <td>1</td>\n",
              "    </tr>\n",
              "    <tr>\n",
              "      <th>1</th>\n",
              "      <td>d00001.png</td>\n",
              "      <td>1</td>\n",
              "    </tr>\n",
              "    <tr>\n",
              "      <th>2</th>\n",
              "      <td>d00002.png</td>\n",
              "      <td>5</td>\n",
              "    </tr>\n",
              "    <tr>\n",
              "      <th>3</th>\n",
              "      <td>d00003.png</td>\n",
              "      <td>7</td>\n",
              "    </tr>\n",
              "    <tr>\n",
              "      <th>4</th>\n",
              "      <td>d00004.png</td>\n",
              "      <td>0</td>\n",
              "    </tr>\n",
              "    <tr>\n",
              "      <th>5</th>\n",
              "      <td>d00005.png</td>\n",
              "      <td>1</td>\n",
              "    </tr>\n",
              "    <tr>\n",
              "      <th>6</th>\n",
              "      <td>d00006.png</td>\n",
              "      <td>0</td>\n",
              "    </tr>\n",
              "    <tr>\n",
              "      <th>7</th>\n",
              "      <td>d00007.png</td>\n",
              "      <td>0</td>\n",
              "    </tr>\n",
              "    <tr>\n",
              "      <th>8</th>\n",
              "      <td>d00008.png</td>\n",
              "      <td>3</td>\n",
              "    </tr>\n",
              "    <tr>\n",
              "      <th>9</th>\n",
              "      <td>d00009.png</td>\n",
              "      <td>7</td>\n",
              "    </tr>\n",
              "    <tr>\n",
              "      <th>10</th>\n",
              "      <td>d00010.png</td>\n",
              "      <td>7</td>\n",
              "    </tr>\n",
              "    <tr>\n",
              "      <th>11</th>\n",
              "      <td>d00011.png</td>\n",
              "      <td>2</td>\n",
              "    </tr>\n",
              "    <tr>\n",
              "      <th>12</th>\n",
              "      <td>d00012.png</td>\n",
              "      <td>0</td>\n",
              "    </tr>\n",
              "    <tr>\n",
              "      <th>13</th>\n",
              "      <td>d00013.png</td>\n",
              "      <td>6</td>\n",
              "    </tr>\n",
              "    <tr>\n",
              "      <th>14</th>\n",
              "      <td>d00014.png</td>\n",
              "      <td>8</td>\n",
              "    </tr>\n",
              "  </tbody>\n",
              "</table>\n",
              "</div>"
            ],
            "text/plain": [
              "      filename  digit\n",
              "0   d00000.png      1\n",
              "1   d00001.png      1\n",
              "2   d00002.png      5\n",
              "3   d00003.png      7\n",
              "4   d00004.png      0\n",
              "5   d00005.png      1\n",
              "6   d00006.png      0\n",
              "7   d00007.png      0\n",
              "8   d00008.png      3\n",
              "9   d00009.png      7\n",
              "10  d00010.png      7\n",
              "11  d00011.png      2\n",
              "12  d00012.png      0\n",
              "13  d00013.png      6\n",
              "14  d00014.png      8"
            ]
          },
          "metadata": {
            "tags": []
          },
          "execution_count": 17
        }
      ]
    },
    {
      "cell_type": "code",
      "metadata": {
        "id": "GgAY6XTlhzIz",
        "outputId": "3adf315b-b407-4813-9a9e-3e7d2d3a82e7"
      },
      "source": [
        "e_csv = pd.read_csv('/content/gdrive/My Drive/NamtaDB/training-e.csv')\n",
        "e_csv.columns"
      ],
      "execution_count": null,
      "outputs": [
        {
          "output_type": "execute_result",
          "data": {
            "text/plain": [
              "Index(['filename', 'original filename', 'districtid', 'institutionid',\n",
              "       'gender', 'age', 'datestamp', 'scanid', 'digit',\n",
              "       'database name original', 'database name'],\n",
              "      dtype='object')"
            ]
          },
          "metadata": {
            "tags": []
          },
          "execution_count": 18
        }
      ]
    },
    {
      "cell_type": "code",
      "metadata": {
        "id": "VVlyzMEWhzIz",
        "outputId": "fe685ae5-b348-4fdd-dee3-40009cba1dd9"
      },
      "source": [
        "e_csv = e_csv.drop(columns=['original filename','districtid','institutionid','gender','age','datestamp','database name original','scanid','database name'])\n",
        "e_csv.iloc[:15, 0:]"
      ],
      "execution_count": null,
      "outputs": [
        {
          "output_type": "execute_result",
          "data": {
            "text/html": [
              "<div>\n",
              "<style scoped>\n",
              "    .dataframe tbody tr th:only-of-type {\n",
              "        vertical-align: middle;\n",
              "    }\n",
              "\n",
              "    .dataframe tbody tr th {\n",
              "        vertical-align: top;\n",
              "    }\n",
              "\n",
              "    .dataframe thead th {\n",
              "        text-align: right;\n",
              "    }\n",
              "</style>\n",
              "<table border=\"1\" class=\"dataframe\">\n",
              "  <thead>\n",
              "    <tr style=\"text-align: right;\">\n",
              "      <th></th>\n",
              "      <th>filename</th>\n",
              "      <th>digit</th>\n",
              "    </tr>\n",
              "  </thead>\n",
              "  <tbody>\n",
              "    <tr>\n",
              "      <th>0</th>\n",
              "      <td>e00000.png</td>\n",
              "      <td>9</td>\n",
              "    </tr>\n",
              "    <tr>\n",
              "      <th>1</th>\n",
              "      <td>e00001.png</td>\n",
              "      <td>9</td>\n",
              "    </tr>\n",
              "    <tr>\n",
              "      <th>2</th>\n",
              "      <td>e00002.png</td>\n",
              "      <td>0</td>\n",
              "    </tr>\n",
              "    <tr>\n",
              "      <th>3</th>\n",
              "      <td>e00003.png</td>\n",
              "      <td>4</td>\n",
              "    </tr>\n",
              "    <tr>\n",
              "      <th>4</th>\n",
              "      <td>e00004.png</td>\n",
              "      <td>5</td>\n",
              "    </tr>\n",
              "    <tr>\n",
              "      <th>5</th>\n",
              "      <td>e00005.png</td>\n",
              "      <td>6</td>\n",
              "    </tr>\n",
              "    <tr>\n",
              "      <th>6</th>\n",
              "      <td>e00006.png</td>\n",
              "      <td>3</td>\n",
              "    </tr>\n",
              "    <tr>\n",
              "      <th>7</th>\n",
              "      <td>e00007.png</td>\n",
              "      <td>0</td>\n",
              "    </tr>\n",
              "    <tr>\n",
              "      <th>8</th>\n",
              "      <td>e00008.png</td>\n",
              "      <td>4</td>\n",
              "    </tr>\n",
              "    <tr>\n",
              "      <th>9</th>\n",
              "      <td>e00009.png</td>\n",
              "      <td>3</td>\n",
              "    </tr>\n",
              "    <tr>\n",
              "      <th>10</th>\n",
              "      <td>e00010.png</td>\n",
              "      <td>0</td>\n",
              "    </tr>\n",
              "    <tr>\n",
              "      <th>11</th>\n",
              "      <td>e00011.png</td>\n",
              "      <td>2</td>\n",
              "    </tr>\n",
              "    <tr>\n",
              "      <th>12</th>\n",
              "      <td>e00012.png</td>\n",
              "      <td>2</td>\n",
              "    </tr>\n",
              "    <tr>\n",
              "      <th>13</th>\n",
              "      <td>e00013.png</td>\n",
              "      <td>6</td>\n",
              "    </tr>\n",
              "    <tr>\n",
              "      <th>14</th>\n",
              "      <td>e00014.png</td>\n",
              "      <td>3</td>\n",
              "    </tr>\n",
              "  </tbody>\n",
              "</table>\n",
              "</div>"
            ],
            "text/plain": [
              "      filename  digit\n",
              "0   e00000.png      9\n",
              "1   e00001.png      9\n",
              "2   e00002.png      0\n",
              "3   e00003.png      4\n",
              "4   e00004.png      5\n",
              "5   e00005.png      6\n",
              "6   e00006.png      3\n",
              "7   e00007.png      0\n",
              "8   e00008.png      4\n",
              "9   e00009.png      3\n",
              "10  e00010.png      0\n",
              "11  e00011.png      2\n",
              "12  e00012.png      2\n",
              "13  e00013.png      6\n",
              "14  e00014.png      3"
            ]
          },
          "metadata": {
            "tags": []
          },
          "execution_count": 19
        }
      ]
    },
    {
      "cell_type": "markdown",
      "metadata": {
        "id": "W3d1LTsDkdpx"
      },
      "source": [
        "Here I merged the 5 csv file into one file."
      ]
    },
    {
      "cell_type": "code",
      "metadata": {
        "id": "hwsAjEh2hzIz",
        "outputId": "ea38d7a8-e6a4-49db-8500-6f9b043fabc9"
      },
      "source": [
        "total_csv = [a_csv,b_csv, c_csv, d_csv,e_csv]\n",
        "merged_csv = pd.concat(total_csv)\n",
        "print(len(merged_csv))"
      ],
      "execution_count": null,
      "outputs": [
        {
          "output_type": "stream",
          "text": [
            "72045\n"
          ],
          "name": "stdout"
        }
      ]
    },
    {
      "cell_type": "code",
      "metadata": {
        "id": "-9ZF9fG7hzIz"
      },
      "source": [
        "TRAIN_PATH = '/content/gdrive/My Drive/NamtaDB/train'\n",
        "os.mkdir(TRAIN_PATH)"
      ],
      "execution_count": null,
      "outputs": []
    },
    {
      "cell_type": "code",
      "metadata": {
        "id": "io88JOoAhzI0"
      },
      "source": [
        "def processImages(folder_name):\n",
        "    src = PATH + folder_name + '/'\n",
        "    dir_folders = os.listdir(src)\n",
        "    for dir_name in dir_folders:\n",
        "        file_name = os.path.join(src, dir_name)\n",
        "        if os.path.isfile(file_name):\n",
        "            shutil.copy(file_name, TRAIN_PATH) "
      ],
      "execution_count": null,
      "outputs": []
    },
    {
      "cell_type": "code",
      "metadata": {
        "id": "EbPDOVSUhzI0",
        "outputId": "21c97e24-9ccf-4e60-cf02-83247de3e8e0"
      },
      "source": [
        "processImages('training-a')\n",
        "print('A Done')\n",
        "processImages('training-b')\n",
        "print('B Done')\n",
        "processImages('training-c')\n",
        "print('C Done')\n",
        "processImages('training-d')\n",
        "print('D Done')\n",
        "processImages('training-e')\n",
        "print('E Done')"
      ],
      "execution_count": null,
      "outputs": [
        {
          "output_type": "stream",
          "text": [
            "A Done\n",
            "B Done\n",
            "C Done\n",
            "D Done\n",
            "E Done\n"
          ],
          "name": "stdout"
        }
      ]
    },
    {
      "cell_type": "code",
      "metadata": {
        "id": "qWqR8XldhzI0"
      },
      "source": [
        "class Dataset(Dataset):\n",
        "    def __init__(self, df, root, transform=None):\n",
        "        self.data = df\n",
        "        self.root = root\n",
        "        self.transform = transform\n",
        "        \n",
        "    def __len__(self):\n",
        "        return len(self.data)\n",
        "    \n",
        "    def __getitem__(self, index):\n",
        "        item = self.data.iloc[index]\n",
        "        \n",
        "        path = self.root + \"/\" + item[0]\n",
        "        image = Image.open(path).convert('L')\n",
        "        label = item[1]\n",
        "        \n",
        "        if self.transform is not None:\n",
        "            image = self.transform(image)\n",
        "            \n",
        "        return image, label"
      ],
      "execution_count": null,
      "outputs": []
    },
    {
      "cell_type": "code",
      "metadata": {
        "id": "BMWP18FVhzI0",
        "outputId": "f2ed5838-333d-463f-d026-f2c3d1a2e969"
      },
      "source": [
        "mean = [0.5,]\n",
        "std = [0.5, ]\n",
        "\n",
        "train_transform = transforms.Compose([\n",
        "    transforms.Resize((28,28)),\n",
        "    transforms.ToTensor(),\n",
        "    transforms.Normalize(mean, std)\n",
        "])\n",
        "\n",
        "test_transform = transforms.Compose([\n",
        "        transforms.Resize((28,28)),\n",
        "        transforms.ToTensor(),\n",
        "        transforms.Normalize(mean, std)\n",
        "])\n",
        "\n",
        "train_data  = Dataset(merged_csv, TRAIN_PATH, train_transform)\n",
        "test_data = Dataset(merged_csv, TRAIN_PATH, test_transform)\n",
        "\n",
        "print(\"Trainig Samples: \",len(train_data))"
      ],
      "execution_count": null,
      "outputs": [
        {
          "output_type": "stream",
          "text": [
            "Trainig Samples:  72045\n"
          ],
          "name": "stdout"
        }
      ]
    },
    {
      "cell_type": "code",
      "metadata": {
        "id": "HiLykRn5hzI1"
      },
      "source": [
        "# Hyperparameters setting 1\n",
        "# here i take batch size 64,number of iteration 1000,input dimension 28*28,output dimension 10 as this is a multiclass clasification,learning rate 0.001 and number of epochs 5.\n",
        "batch_size = 64\n",
        "num_iters = 1000\n",
        "input_dim = 28*28 # num_features = 784\n",
        "output_dim = 10\n",
        "\n",
        "learning_rate = 0.001\n",
        "num_epochs = int(5)\n",
        "\n",
        "# Device\n",
        "device = torch.device(\"cuda:0\" if torch.cuda.is_available() else \"cpu\")"
      ],
      "execution_count": null,
      "outputs": []
    },
    {
      "cell_type": "code",
      "metadata": {
        "id": "0pUQwZUXhzI1",
        "outputId": "61ae240b-84a8-45b4-8917-2a2dc5282a84"
      },
      "source": [
        "\n",
        "# split data 10% for testing\n",
        "test_size = 0.1\n",
        "\n",
        "# obtain training indices that will be used for validation\n",
        "num_train = len(train_data)\n",
        "\n",
        "# mix data\n",
        "# index of num of train\n",
        "indices = list(range(num_train))\n",
        "# random the index\n",
        "np.random.shuffle(indices)\n",
        "split = int(np.floor(test_size * num_train))\n",
        "# divied into two part\n",
        "train_idx, test_idx = indices[split:], indices[:split]\n",
        "\n",
        "# define the sampler\n",
        "train_sampler = SubsetRandomSampler(train_idx)\n",
        "test_sampler = SubsetRandomSampler(test_idx)\n",
        "\n",
        "# prepare loaders\n",
        "train_loader = torch.utils.data.DataLoader(\n",
        "    train_data, batch_size=batch_size,\n",
        "    sampler=train_sampler)\n",
        "\n",
        "test_loader = torch.utils.data.DataLoader(\n",
        "    test_data, batch_size=batch_size,\n",
        "    sampler=test_sampler)\n",
        "\n",
        "print(\"Train dataloader:{}\".format(len(train_loader)))\n",
        "print(\"Test dataloader:{}\".format(len(test_loader)))\n"
      ],
      "execution_count": null,
      "outputs": [
        {
          "output_type": "stream",
          "text": [
            "Train dataloader:1014\n",
            "Test dataloader:113\n"
          ],
          "name": "stdout"
        }
      ]
    },
    {
      "cell_type": "code",
      "metadata": {
        "id": "-GV_QDvohzI1"
      },
      "source": [
        "class LogisticRegressionModel(nn.Module):\n",
        "    def __init__(self, input_size, num_classes):\n",
        "        super().__init__()\n",
        "        self.linear = nn.Linear(input_size, num_classes)\n",
        "\n",
        "    def forward(self, x):\n",
        "        logits  = self.linear(x)\n",
        "        probas = F.softmax(logits, dim=1)\n",
        "        return logits, probas"
      ],
      "execution_count": null,
      "outputs": []
    },
    {
      "cell_type": "code",
      "metadata": {
        "id": "4ptEqePyhzI1",
        "outputId": "a14ebe0e-37cb-4eb0-fb08-69a63efd4a79"
      },
      "source": [
        "'''\n",
        "INSTANTIATE MODEL CLASS\n",
        "'''\n",
        "model = LogisticRegressionModel(input_size=input_dim,\n",
        "                                num_classes=output_dim)\n",
        "# To enable GPU\n",
        "model.to(device)"
      ],
      "execution_count": null,
      "outputs": [
        {
          "output_type": "execute_result",
          "data": {
            "text/plain": [
              "LogisticRegressionModel(\n",
              "  (linear): Linear(in_features=784, out_features=10, bias=True)\n",
              ")"
            ]
          },
          "metadata": {
            "tags": []
          },
          "execution_count": 29
        }
      ]
    },
    {
      "cell_type": "code",
      "metadata": {
        "id": "5EumJXwohzI2"
      },
      "source": [
        "# INSTANTIATE OPTIMIZER CLASS\n",
        "optimizer = torch.optim.SGD(model.parameters(), lr=learning_rate)"
      ],
      "execution_count": null,
      "outputs": []
    },
    {
      "cell_type": "code",
      "metadata": {
        "id": "zaoiLp_jhzI2",
        "outputId": "459bdf42-e3f1-4e1c-aa25-8354a13a7b99"
      },
      "source": [
        "'''\n",
        "TRAIN THE MODEL\n",
        "'''\n",
        "iteration_loss = []\n",
        "iter = 0\n",
        "for epoch in range(num_epochs):\n",
        "    print(epoch)\n",
        "    for i, (images, labels) in enumerate(train_loader):\n",
        "\n",
        "        images = images.view(-1, 28*28).to(device)\n",
        "        labels = labels.to(device)\n",
        "\n",
        "        # Clear gradients w.r.t. parameters\n",
        "        optimizer.zero_grad()\n",
        "\n",
        "        # Forward pass to get output/logits\n",
        "        logits, probas = model(images) \n",
        "\n",
        "        # Calculate Loss: PyTorch implementation of CrossEntropyLoss works with logits, not probabilities\n",
        "        loss = F.cross_entropy(logits, labels)\n",
        "\n",
        "        # Getting gradients w.r.t. parameters\n",
        "        loss.backward()\n",
        "\n",
        "        # Updating parameters\n",
        "        optimizer.step()\n",
        "\n",
        "        iter += 1\n",
        "\n",
        "        if iter % 500 == 0:\n",
        "            # Calculate Accuracy         \n",
        "            correct = 0\n",
        "            total = 0\n",
        "            # Iterate through test dataset\n",
        "            for images, labels in test_loader:\n",
        "               \n",
        "                images = images.view(-1, 28*28).to(device)\n",
        "\n",
        "                # Forward pass only to get logits/output\n",
        "                logits, probas = model(images)\n",
        "\n",
        "                # Get predictions from the maximum value\n",
        "                _, predicted = torch.max(probas, 1)\n",
        "\n",
        "                # Total number of labels\n",
        "                total += labels.size(0)\n",
        "\n",
        "\n",
        "                # Total correct predictions\n",
        "                if torch.cuda.is_available():\n",
        "                    correct += (predicted.cpu() == labels.cpu()).sum() \n",
        "                else:\n",
        "                    correct += (predicted == labels).sum()\n",
        "\n",
        "            accuracy = 100 * correct.item() / total\n",
        "\n",
        "            # Print Loss\n",
        "            iteration_loss.append(loss.item())\n",
        "            print('Iteration: {}. Loss: {}. Accuracy: {}'.format(iter, loss.item(), accuracy))"
      ],
      "execution_count": null,
      "outputs": [
        {
          "output_type": "stream",
          "text": [
            "0\n",
            "Iteration: 500. Loss: 2.2015676498413086. Accuracy: 18.933925596890617\n",
            "Iteration: 1000. Loss: 2.22872257232666. Accuracy: 23.52859522487507\n",
            "1\n",
            "Iteration: 1500. Loss: 2.028140068054199. Accuracy: 24.764019988895058\n",
            "Iteration: 2000. Loss: 2.1287338733673096. Accuracy: 25.735702387562466\n",
            "2\n",
            "Iteration: 2500. Loss: 1.9706476926803589. Accuracy: 27.470849528039977\n",
            "Iteration: 3000. Loss: 1.984222412109375. Accuracy: 27.63742365352582\n",
            "3\n",
            "Iteration: 3500. Loss: 1.9988902807235718. Accuracy: 27.887284841754582\n",
            "Iteration: 4000. Loss: 2.031585454940796. Accuracy: 28.470294280955024\n",
            "4\n",
            "Iteration: 4500. Loss: 1.8358056545257568. Accuracy: 28.123264852859524\n",
            "Iteration: 5000. Loss: 1.9742591381072998. Accuracy: 29.997223764575235\n"
          ],
          "name": "stdout"
        }
      ]
    },
    {
      "cell_type": "code",
      "metadata": {
        "id": "eSUGXEDChzI3"
      },
      "source": [
        "save_model = True\n",
        "\n",
        "if save_model is True:\n",
        "    # Saves only parameters\n",
        "    # wights & biases\n",
        "    torch.save(model.state_dict(), '/content/gdrive/My Drive/NamtaDB/model/model1.pkl') "
      ],
      "execution_count": null,
      "outputs": []
    },
    {
      "cell_type": "code",
      "metadata": {
        "id": "2-7swQqzhzI3",
        "outputId": "13fde506-8edc-40d0-d014-1696b1bb8815"
      },
      "source": [
        "import matplotlib\n",
        "import matplotlib.pyplot as plt\n",
        "\n",
        "print (iteration_loss)\n",
        "plt.plot(iteration_loss)\n",
        "plt.ylabel('Cross Entropy Loss')\n",
        "plt.xlabel('Iteration (in every 500)')\n",
        "plt.show()"
      ],
      "execution_count": null,
      "outputs": [
        {
          "output_type": "stream",
          "text": [
            "[2.2015676498413086, 2.22872257232666, 2.028140068054199, 2.1287338733673096, 1.9706476926803589, 1.984222412109375, 1.9988902807235718, 2.031585454940796, 1.8358056545257568, 1.9742591381072998]\n"
          ],
          "name": "stdout"
        },
        {
          "output_type": "display_data",
          "data": {
            "image/png": "[encoded data removed]",
            "text/plain": [
              "<Figure size 432x288 with 1 Axes>"
            ]
          },
          "metadata": {
            "tags": [],
            "needs_background": "light"
          }
        }
      ]
    },
    {
      "cell_type": "code",
      "metadata": {
        "id": "2a73SiTbhzI3"
      },
      "source": [
        ""
      ],
      "execution_count": null,
      "outputs": []
    },
    {
      "cell_type": "code",
      "metadata": {
        "id": "chxBKr3BhzI3"
      },
      "source": [
        ""
      ],
      "execution_count": null,
      "outputs": []
    },
    {
      "cell_type": "code",
      "metadata": {
        "id": "w6Bm1fgBhzI3"
      },
      "source": [
        "# Hyperparameters for setting 2\n",
        "# here i take batch size 100,number of iteration 1000,input dimension 28*28,output dimension 10 as this is a multiclass clasification,learning rate 0.001 and number of epochs 5.\n",
        "batch_size = 100\n",
        "num_iters = 1000\n",
        "input_dim = 28*28 # num_features = 784\n",
        "output_dim = 10\n",
        "\n",
        "learning_rate = 0.001\n",
        "num_epochs = int(5)\n",
        "\n",
        "# Device\n",
        "device = torch.device(\"cuda:0\" if torch.cuda.is_available() else \"cpu\")"
      ],
      "execution_count": null,
      "outputs": []
    },
    {
      "cell_type": "code",
      "metadata": {
        "id": "acUNdYQ-hzI3",
        "outputId": "9df870eb-73d3-4506-f224-5e8e9fe1cde4"
      },
      "source": [
        "# split data 10% for testing\n",
        "test_size = 0.1\n",
        "\n",
        "# obtain training indices that will be used for validation\n",
        "num_train = len(train_data)\n",
        "\n",
        "# mix data\n",
        "# index of num of train\n",
        "indices = list(range(num_train))\n",
        "# random the index\n",
        "np.random.shuffle(indices)\n",
        "split = int(np.floor(test_size * num_train))\n",
        "# divied into two part\n",
        "train_idx, test_idx = indices[split:], indices[:split]\n",
        "\n",
        "# define the sampler\n",
        "train_sampler = SubsetRandomSampler(train_idx)\n",
        "test_sampler = SubsetRandomSampler(test_idx)\n",
        "\n",
        "# prepare loaders\n",
        "train_loader = torch.utils.data.DataLoader(\n",
        "    train_data, batch_size=batch_size,\n",
        "    sampler=train_sampler)\n",
        "\n",
        "test_loader = torch.utils.data.DataLoader(\n",
        "    test_data, batch_size=batch_size,\n",
        "    sampler=test_sampler)\n",
        "\n",
        "print(\"Train dataloader:{}\".format(len(train_loader)))\n",
        "print(\"Test dataloader:{}\".format(len(test_loader)))\n"
      ],
      "execution_count": null,
      "outputs": [
        {
          "output_type": "stream",
          "text": [
            "Train dataloader:649\n",
            "Test dataloader:73\n"
          ],
          "name": "stdout"
        }
      ]
    },
    {
      "cell_type": "code",
      "metadata": {
        "id": "ul7fJ6WGhzI4",
        "outputId": "7228779c-191d-45ca-abd7-5cea8df0604a"
      },
      "source": [
        "'''\n",
        "INSTANTIATE MODEL CLASS\n",
        "'''\n",
        "model = LogisticRegressionModel(input_size=input_dim,\n",
        "                                num_classes=output_dim)\n",
        "# To enable GPU\n",
        "model.to(device)"
      ],
      "execution_count": null,
      "outputs": [
        {
          "output_type": "execute_result",
          "data": {
            "text/plain": [
              "LogisticRegressionModel(\n",
              "  (linear): Linear(in_features=784, out_features=10, bias=True)\n",
              ")"
            ]
          },
          "metadata": {
            "tags": []
          },
          "execution_count": 36
        }
      ]
    },
    {
      "cell_type": "code",
      "metadata": {
        "id": "ifihgBtwhzI4"
      },
      "source": [
        "# INSTANTIATE OPTIMIZER CLASS\n",
        "optimizer = torch.optim.SGD(model.parameters(), lr=learning_rate)"
      ],
      "execution_count": null,
      "outputs": []
    },
    {
      "cell_type": "code",
      "metadata": {
        "id": "iuBIISRshzI4",
        "outputId": "63220269-332f-4362-8d28-0b740144b08c"
      },
      "source": [
        "'''\n",
        "TRAIN THE MODEL\n",
        "'''\n",
        "iteration_loss = []\n",
        "iter = 0\n",
        "for epoch in range(num_epochs):\n",
        "    print(epoch)\n",
        "    for i, (images, labels) in enumerate(train_loader):\n",
        "\n",
        "        images = images.view(-1, 28*28).to(device)\n",
        "        labels = labels.to(device)\n",
        "\n",
        "        # Clear gradients w.r.t. parameters\n",
        "        optimizer.zero_grad()\n",
        "\n",
        "        # Forward pass to get output/logits\n",
        "        logits, probas = model(images) \n",
        "\n",
        "        # Calculate Loss: PyTorch implementation of CrossEntropyLoss works with logits, not probabilities\n",
        "        loss = F.cross_entropy(logits, labels)\n",
        "\n",
        "        # Getting gradients w.r.t. parameters\n",
        "        loss.backward()\n",
        "\n",
        "        # Updating parameters\n",
        "        optimizer.step()\n",
        "\n",
        "        iter += 1\n",
        "\n",
        "        if iter % 500 == 0:\n",
        "            # Calculate Accuracy         \n",
        "            correct = 0\n",
        "            total = 0\n",
        "            # Iterate through test dataset\n",
        "            for images, labels in test_loader:\n",
        "               \n",
        "                images = images.view(-1, 28*28).to(device)\n",
        "\n",
        "                # Forward pass only to get logits/output\n",
        "                logits, probas = model(images)\n",
        "\n",
        "                # Get predictions from the maximum value\n",
        "                _, predicted = torch.max(probas, 1)\n",
        "\n",
        "                # Total number of labels\n",
        "                total += labels.size(0)\n",
        "\n",
        "\n",
        "                # Total correct predictions\n",
        "                if torch.cuda.is_available():\n",
        "                    correct += (predicted.cpu() == labels.cpu()).sum() \n",
        "                else:\n",
        "                    correct += (predicted == labels).sum()\n",
        "\n",
        "            accuracy = 100 * correct.item() / total\n",
        "\n",
        "            # Print Loss\n",
        "            iteration_loss.append(loss.item())\n",
        "            print('Iteration: {}. Loss: {}. Accuracy: {}'.format(iter, loss.item(), accuracy))"
      ],
      "execution_count": null,
      "outputs": [
        {
          "output_type": "stream",
          "text": [
            "0\n",
            "Iteration: 500. Loss: 2.2691783905029297. Accuracy: 17.892837312604108\n",
            "1\n",
            "Iteration: 1000. Loss: 2.1983869075775146. Accuracy: 22.529150471960023\n",
            "2\n",
            "Iteration: 1500. Loss: 2.1276187896728516. Accuracy: 24.097723486951693\n",
            "3\n",
            "Iteration: 2000. Loss: 2.021664619445801. Accuracy: 24.416990560799555\n",
            "Iteration: 2500. Loss: 2.058455228805542. Accuracy: 25.888395335924486\n",
            "4\n",
            "Iteration: 3000. Loss: 1.9959750175476074. Accuracy: 26.860077734591894\n"
          ],
          "name": "stdout"
        }
      ]
    },
    {
      "cell_type": "code",
      "metadata": {
        "id": "81WGg-IjhzI5"
      },
      "source": [
        "save_model = True\n",
        "\n",
        "if save_model is True:\n",
        "    # Saves only parameters\n",
        "    # wights & biases\n",
        "    torch.save(model.state_dict(), '/content/gdrive/My Drive/NamtaDB/model/model2.pkl') "
      ],
      "execution_count": null,
      "outputs": []
    },
    {
      "cell_type": "code",
      "metadata": {
        "id": "UCpiNkqghzI5",
        "outputId": "ea0be741-7fa3-475f-eeca-1a4b93dc1d68"
      },
      "source": [
        "import matplotlib\n",
        "import matplotlib.pyplot as plt\n",
        "\n",
        "print (iteration_loss)\n",
        "plt.plot(iteration_loss)\n",
        "plt.ylabel('Cross Entropy Loss')\n",
        "plt.xlabel('Iteration (in every 500)')\n",
        "plt.show()"
      ],
      "execution_count": null,
      "outputs": [
        {
          "output_type": "stream",
          "text": [
            "[2.2691783905029297, 2.1983869075775146, 2.1276187896728516, 2.021664619445801, 2.058455228805542, 1.9959750175476074]\n"
          ],
          "name": "stdout"
        },
        {
          "output_type": "display_data",
          "data": {
            "image/png": "[encoded data removed]",
            "text/plain": [
              "<Figure size 432x288 with 1 Axes>"
            ]
          },
          "metadata": {
            "tags": [],
            "needs_background": "light"
          }
        }
      ]
    },
    {
      "cell_type": "code",
      "metadata": {
        "id": "M2sFsqD1hzI5"
      },
      "source": [
        ""
      ],
      "execution_count": null,
      "outputs": []
    },
    {
      "cell_type": "code",
      "metadata": {
        "id": "sfUbuawZhzI5"
      },
      "source": [
        ""
      ],
      "execution_count": null,
      "outputs": []
    },
    {
      "cell_type": "code",
      "metadata": {
        "id": "H8G3lkMNhzI5"
      },
      "source": [
        "# Hyperparameters for setting 3\n",
        "# here i take batch size 64,number of iteration 1000,input dimension 28*28,output dimension 10 as this is a multiclass clasification,learning rate 0.0001 and number of epochs 5.\n",
        "batch_size = 100\n",
        "num_iters = 1000\n",
        "input_dim = 28*28 # num_features = 784\n",
        "output_dim = 10\n",
        "\n",
        "learning_rate = 0.0001\n",
        "num_epochs = int(5)\n",
        "\n",
        "# Device\n",
        "device = torch.device(\"cuda:0\" if torch.cuda.is_available() else \"cpu\")"
      ],
      "execution_count": null,
      "outputs": []
    },
    {
      "cell_type": "code",
      "metadata": {
        "id": "4bunhCljhzI5",
        "outputId": "2a30e74c-a3cc-4fa7-e26f-2bf5ed1b14e2"
      },
      "source": [
        "# split data 10% for testing\n",
        "test_size = 0.1\n",
        "\n",
        "# obtain training indices that will be used for validation\n",
        "num_train = len(train_data)\n",
        "\n",
        "# mix data\n",
        "# index of num of train\n",
        "indices = list(range(num_train))\n",
        "# random the index\n",
        "np.random.shuffle(indices)\n",
        "split = int(np.floor(test_size * num_train))\n",
        "# divied into two part\n",
        "train_idx, test_idx = indices[split:], indices[:split]\n",
        "\n",
        "# define the sampler\n",
        "train_sampler = SubsetRandomSampler(train_idx)\n",
        "test_sampler = SubsetRandomSampler(test_idx)\n",
        "\n",
        "# prepare loaders\n",
        "train_loader = torch.utils.data.DataLoader(\n",
        "    train_data, batch_size=batch_size,\n",
        "    sampler=train_sampler)\n",
        "\n",
        "test_loader = torch.utils.data.DataLoader(\n",
        "    test_data, batch_size=batch_size,\n",
        "    sampler=test_sampler)\n",
        "\n",
        "print(\"Train dataloader:{}\".format(len(train_loader)))\n",
        "print(\"Test dataloader:{}\".format(len(test_loader)))\n"
      ],
      "execution_count": null,
      "outputs": [
        {
          "output_type": "stream",
          "text": [
            "Train dataloader:649\n",
            "Test dataloader:73\n"
          ],
          "name": "stdout"
        }
      ]
    },
    {
      "cell_type": "code",
      "metadata": {
        "id": "trckmz7YhzI6",
        "outputId": "de66d6e8-fc7b-4567-e6a7-486a4d507c4a"
      },
      "source": [
        "'''\n",
        "INSTANTIATE MODEL CLASS\n",
        "'''\n",
        "model = LogisticRegressionModel(input_size=input_dim,\n",
        "                                num_classes=output_dim)\n",
        "# To enable GPU\n",
        "model.to(device)"
      ],
      "execution_count": null,
      "outputs": [
        {
          "output_type": "execute_result",
          "data": {
            "text/plain": [
              "LogisticRegressionModel(\n",
              "  (linear): Linear(in_features=784, out_features=10, bias=True)\n",
              ")"
            ]
          },
          "metadata": {
            "tags": []
          },
          "execution_count": 43
        }
      ]
    },
    {
      "cell_type": "code",
      "metadata": {
        "id": "g2tzb3wChzI6"
      },
      "source": [
        "# INSTANTIATE OPTIMIZER CLASS\n",
        "optimizer = torch.optim.SGD(model.parameters(), lr=learning_rate)"
      ],
      "execution_count": null,
      "outputs": []
    },
    {
      "cell_type": "code",
      "metadata": {
        "id": "QpIk1bgThzI6",
        "outputId": "b58ca20a-e28a-4dd8-8fd2-c8b16752993a"
      },
      "source": [
        "'''\n",
        "TRAIN THE MODEL\n",
        "'''\n",
        "iteration_loss = []\n",
        "iter = 0\n",
        "for epoch in range(num_epochs):\n",
        "    print(epoch)\n",
        "    for i, (images, labels) in enumerate(train_loader):\n",
        "\n",
        "        images = images.view(-1, 28*28).to(device)\n",
        "        labels = labels.to(device)\n",
        "\n",
        "        # Clear gradients w.r.t. parameters\n",
        "        optimizer.zero_grad()\n",
        "\n",
        "        # Forward pass to get output/logits\n",
        "        logits, probas = model(images) \n",
        "\n",
        "        # Calculate Loss: PyTorch implementation of CrossEntropyLoss works with logits, not probabilities\n",
        "        loss = F.cross_entropy(logits, labels)\n",
        "\n",
        "        # Getting gradients w.r.t. parameters\n",
        "        loss.backward()\n",
        "\n",
        "        # Updating parameters\n",
        "        optimizer.step()\n",
        "\n",
        "        iter += 1\n",
        "\n",
        "        if iter % 500 == 0:\n",
        "            # Calculate Accuracy         \n",
        "            correct = 0\n",
        "            total = 0\n",
        "            # Iterate through test dataset\n",
        "            for images, labels in test_loader:\n",
        "               \n",
        "                images = images.view(-1, 28*28).to(device)\n",
        "\n",
        "                # Forward pass only to get logits/output\n",
        "                logits, probas = model(images)\n",
        "\n",
        "                # Get predictions from the maximum value\n",
        "                _, predicted = torch.max(probas, 1)\n",
        "\n",
        "                # Total number of labels\n",
        "                total += labels.size(0)\n",
        "\n",
        "\n",
        "                # Total correct predictions\n",
        "                if torch.cuda.is_available():\n",
        "                    correct += (predicted.cpu() == labels.cpu()).sum() \n",
        "                else:\n",
        "                    correct += (predicted == labels).sum()\n",
        "\n",
        "            accuracy = 100 * correct.item() / total\n",
        "\n",
        "            # Print Loss\n",
        "            iteration_loss.append(loss.item())\n",
        "            print('Iteration: {}. Loss: {}. Accuracy: {}'.format(iter, loss.item(), accuracy))"
      ],
      "execution_count": null,
      "outputs": [
        {
          "output_type": "stream",
          "text": [
            "0\n",
            "Iteration: 500. Loss: 2.3110997676849365. Accuracy: 11.687951138256524\n",
            "1\n",
            "Iteration: 1000. Loss: 2.287186622619629. Accuracy: 12.382009994447529\n",
            "2\n",
            "Iteration: 1500. Loss: 2.2307519912719727. Accuracy: 13.77012770682954\n",
            "3\n",
            "Iteration: 2000. Loss: 2.2809886932373047. Accuracy: 14.991671293725707\n",
            "Iteration: 2500. Loss: 2.197176456451416. Accuracy: 15.574680732926153\n",
            "4\n",
            "Iteration: 3000. Loss: 2.235475540161133. Accuracy: 16.67129372570794\n"
          ],
          "name": "stdout"
        }
      ]
    },
    {
      "cell_type": "code",
      "metadata": {
        "id": "G35f25NchzI6"
      },
      "source": [
        "save_model = True\n",
        "\n",
        "if save_model is True:\n",
        "    # Saves only parameters\n",
        "    # wights & biases\n",
        "    torch.save(model.state_dict(), '/content/gdrive/My Drive/NamtaDB/model/model3.pkl') "
      ],
      "execution_count": null,
      "outputs": []
    },
    {
      "cell_type": "code",
      "metadata": {
        "id": "hqLNeXJ-hzI6",
        "outputId": "28a87dbb-23d1-4f56-b0a4-e13090e72874"
      },
      "source": [
        "import matplotlib\n",
        "import matplotlib.pyplot as plt\n",
        "\n",
        "print (iteration_loss)\n",
        "plt.plot(iteration_loss)\n",
        "plt.ylabel('Cross Entropy Loss')\n",
        "plt.xlabel('Iteration (in every 500)')\n",
        "plt.show()"
      ],
      "execution_count": null,
      "outputs": [
        {
          "output_type": "stream",
          "text": [
            "[2.3110997676849365, 2.287186622619629, 2.2307519912719727, 2.2809886932373047, 2.197176456451416, 2.235475540161133]\n"
          ],
          "name": "stdout"
        },
        {
          "output_type": "display_data",
          "data": {
            "image/png": "[encoded data removed]",
            "text/plain": [
              "<Figure size 432x288 with 1 Axes>"
            ]
          },
          "metadata": {
            "tags": [],
            "needs_background": "light"
          }
        }
      ]
    },
    {
      "cell_type": "code",
      "metadata": {
        "id": "6prh-ckJhzI7"
      },
      "source": [
        ""
      ],
      "execution_count": null,
      "outputs": []
    },
    {
      "cell_type": "code",
      "metadata": {
        "id": "JtX4TnoxhzI7"
      },
      "source": [
        ""
      ],
      "execution_count": null,
      "outputs": []
    },
    {
      "cell_type": "code",
      "metadata": {
        "id": "0_muDIQehzI7"
      },
      "source": [
        "# Hyperparameters for setting 4\n",
        "# here i take batch size 100,number of iteration 1000,input dimension 28*28,output dimension 10 as this is a multiclass clasification,learning rate 0.001 and number of epochs 15.\n",
        "batch_size = 100\n",
        "num_iters = 1000\n",
        "input_dim = 28*28 # num_features = 784\n",
        "output_dim = 10\n",
        "\n",
        "learning_rate = 0.0001\n",
        "num_epochs = int(15)\n",
        "\n",
        "# Device\n",
        "device = torch.device(\"cuda:0\" if torch.cuda.is_available() else \"cpu\")"
      ],
      "execution_count": null,
      "outputs": []
    },
    {
      "cell_type": "code",
      "metadata": {
        "id": "3voafJR8hzI7",
        "outputId": "f72b5110-b8df-4c2b-86d1-6e2488472787"
      },
      "source": [
        "# split data 10% for testing\n",
        "test_size = 0.1\n",
        "\n",
        "# obtain training indices that will be used for validation\n",
        "num_train = len(train_data)\n",
        "\n",
        "# mix data\n",
        "# index of num of train\n",
        "indices = list(range(num_train))\n",
        "# random the index\n",
        "np.random.shuffle(indices)\n",
        "split = int(np.floor(test_size * num_train))\n",
        "# divied into two part\n",
        "train_idx, test_idx = indices[split:], indices[:split]\n",
        "\n",
        "# define the sampler\n",
        "train_sampler = SubsetRandomSampler(train_idx)\n",
        "test_sampler = SubsetRandomSampler(test_idx)\n",
        "\n",
        "# prepare loaders\n",
        "train_loader = torch.utils.data.DataLoader(\n",
        "    train_data, batch_size=batch_size,\n",
        "    sampler=train_sampler)\n",
        "\n",
        "test_loader = torch.utils.data.DataLoader(\n",
        "    test_data, batch_size=batch_size,\n",
        "    sampler=test_sampler)\n",
        "\n",
        "print(\"Train dataloader:{}\".format(len(train_loader)))\n",
        "print(\"Test dataloader:{}\".format(len(test_loader)))\n"
      ],
      "execution_count": null,
      "outputs": [
        {
          "output_type": "stream",
          "text": [
            "Train dataloader:649\n",
            "Test dataloader:73\n"
          ],
          "name": "stdout"
        }
      ]
    },
    {
      "cell_type": "code",
      "metadata": {
        "id": "oaRAAmsmhzI7",
        "outputId": "1b1b0c1f-0396-4365-ef39-c70977fbfa9f"
      },
      "source": [
        "'''\n",
        "INSTANTIATE MODEL CLASS\n",
        "'''\n",
        "model = LogisticRegressionModel(input_size=input_dim,\n",
        "                                num_classes=output_dim)\n",
        "# To enable GPU\n",
        "model.to(device)"
      ],
      "execution_count": null,
      "outputs": [
        {
          "output_type": "execute_result",
          "data": {
            "text/plain": [
              "LogisticRegressionModel(\n",
              "  (linear): Linear(in_features=784, out_features=10, bias=True)\n",
              ")"
            ]
          },
          "metadata": {
            "tags": []
          },
          "execution_count": 50
        }
      ]
    },
    {
      "cell_type": "code",
      "metadata": {
        "id": "18BDOmXVhzI7"
      },
      "source": [
        "# INSTANTIATE OPTIMIZER CLASS\n",
        "optimizer = torch.optim.SGD(model.parameters(), lr=learning_rate)"
      ],
      "execution_count": null,
      "outputs": []
    },
    {
      "cell_type": "code",
      "metadata": {
        "id": "STj8qucGhzI7",
        "outputId": "20d88948-b6d9-4df1-8462-419330715255"
      },
      "source": [
        "'''\n",
        "TRAIN THE MODEL\n",
        "'''\n",
        "iteration_loss = []\n",
        "iter = 0\n",
        "for epoch in range(num_epochs):\n",
        "    print(epoch)\n",
        "    for i, (images, labels) in enumerate(train_loader):\n",
        "\n",
        "        images = images.view(-1, 28*28).to(device)\n",
        "        labels = labels.to(device)\n",
        "\n",
        "        # Clear gradients w.r.t. parameters\n",
        "        optimizer.zero_grad()\n",
        "\n",
        "        # Forward pass to get output/logits\n",
        "        logits, probas = model(images) \n",
        "\n",
        "        # Calculate Loss: PyTorch implementation of CrossEntropyLoss works with logits, not probabilities\n",
        "        loss = F.cross_entropy(logits, labels)\n",
        "\n",
        "        # Getting gradients w.r.t. parameters\n",
        "        loss.backward()\n",
        "\n",
        "        # Updating parameters\n",
        "        optimizer.step()\n",
        "\n",
        "        iter += 1\n",
        "\n",
        "        if iter % 500 == 0:\n",
        "            # Calculate Accuracy         \n",
        "            correct = 0\n",
        "            total = 0\n",
        "            # Iterate through test dataset\n",
        "            for images, labels in test_loader:\n",
        "               \n",
        "                images = images.view(-1, 28*28).to(device)\n",
        "\n",
        "                # Forward pass only to get logits/output\n",
        "                logits, probas = model(images)\n",
        "\n",
        "                # Get predictions from the maximum value\n",
        "                _, predicted = torch.max(probas, 1)\n",
        "\n",
        "                # Total number of labels\n",
        "                total += labels.size(0)\n",
        "\n",
        "\n",
        "                # Total correct predictions\n",
        "                if torch.cuda.is_available():\n",
        "                    correct += (predicted.cpu() == labels.cpu()).sum() \n",
        "                else:\n",
        "                    correct += (predicted == labels).sum()\n",
        "\n",
        "            accuracy = 100 * correct.item() / total\n",
        "\n",
        "            # Print Loss\n",
        "            iteration_loss.append(loss.item())\n",
        "            print('Iteration: {}. Loss: {}. Accuracy: {}'.format(iter, loss.item(), accuracy))"
      ],
      "execution_count": null,
      "outputs": [
        {
          "output_type": "stream",
          "text": [
            "0\n",
            "Iteration: 500. Loss: 2.3359694480895996. Accuracy: 9.994447529150472\n",
            "1\n",
            "Iteration: 1000. Loss: 2.3197431564331055. Accuracy: 10.730149916712937\n",
            "2\n",
            "Iteration: 1500. Loss: 2.3051493167877197. Accuracy: 11.340921710161021\n",
            "3\n",
            "Iteration: 2000. Loss: 2.2901713848114014. Accuracy: 12.965019433647972\n",
            "Iteration: 2500. Loss: 2.243507146835327. Accuracy: 14.630760688506385\n",
            "4\n",
            "Iteration: 3000. Loss: 2.2629690170288086. Accuracy: 15.782898389783453\n",
            "5\n",
            "Iteration: 3500. Loss: 2.1853678226470947. Accuracy: 16.5741254858412\n",
            "6\n",
            "Iteration: 4000. Loss: 2.219459295272827. Accuracy: 17.656857301499166\n",
            "Iteration: 4500. Loss: 2.192821741104126. Accuracy: 18.267629094947253\n",
            "7\n",
            "Iteration: 5000. Loss: 2.227369546890259. Accuracy: 18.878400888395337\n",
            "8\n",
            "Iteration: 5500. Loss: 2.1800620555877686. Accuracy: 19.53081621321488\n",
            "9\n",
            "Iteration: 6000. Loss: 2.2018914222717285. Accuracy: 20.238756246529707\n",
            "10\n",
            "Iteration: 6500. Loss: 2.1517128944396973. Accuracy: 20.94669627984453\n",
            "Iteration: 7000. Loss: 2.1926164627075195. Accuracy: 21.654636313159354\n",
            "11\n",
            "Iteration: 7500. Loss: 2.142092704772949. Accuracy: 21.515824541921155\n",
            "12\n",
            "Iteration: 8000. Loss: 2.1768765449523926. Accuracy: 22.25152692948362\n",
            "13\n",
            "Iteration: 8500. Loss: 2.1889350414276123. Accuracy: 22.320932815102722\n",
            "Iteration: 9000. Loss: 2.180769920349121. Accuracy: 23.028872848417546\n",
            "14\n",
            "Iteration: 9500. Loss: 2.108374834060669. Accuracy: 23.237090505274846\n"
          ],
          "name": "stdout"
        }
      ]
    },
    {
      "cell_type": "code",
      "metadata": {
        "id": "60DwcpMbhzI8"
      },
      "source": [
        "save_model = True\n",
        "\n",
        "if save_model is True:\n",
        "    # Saves only parameters\n",
        "    # wights & biases\n",
        "    torch.save(model.state_dict(), '/content/gdrive/My Drive/NamtaDB/model/model4.pkl') "
      ],
      "execution_count": null,
      "outputs": []
    },
    {
      "cell_type": "code",
      "metadata": {
        "id": "S3OQ1dO4hzI8",
        "outputId": "11131d3d-51cc-4fcb-d21d-60ffa68f8c49"
      },
      "source": [
        "import matplotlib\n",
        "import matplotlib.pyplot as plt\n",
        "\n",
        "print (iteration_loss)\n",
        "plt.plot(iteration_loss)\n",
        "plt.ylabel('Cross Entropy Loss')\n",
        "plt.xlabel('Iteration (in every 500)')\n",
        "plt.show()"
      ],
      "execution_count": null,
      "outputs": [
        {
          "output_type": "stream",
          "text": [
            "[2.3359694480895996, 2.3197431564331055, 2.3051493167877197, 2.2901713848114014, 2.243507146835327, 2.2629690170288086, 2.1853678226470947, 2.219459295272827, 2.192821741104126, 2.227369546890259, 2.1800620555877686, 2.2018914222717285, 2.1517128944396973, 2.1926164627075195, 2.142092704772949, 2.1768765449523926, 2.1889350414276123, 2.180769920349121, 2.108374834060669]\n"
          ],
          "name": "stdout"
        },
        {
          "output_type": "display_data",
          "data": {
            "image/png": "[encoded data removed]",
            "text/plain": [
              "<Figure size 432x288 with 1 Axes>"
            ]
          },
          "metadata": {
            "tags": [],
            "needs_background": "light"
          }
        }
      ]
    },
    {
      "cell_type": "code",
      "metadata": {
        "id": "hky5lev4hzI8"
      },
      "source": [
        ""
      ],
      "execution_count": null,
      "outputs": []
    },
    {
      "cell_type": "code",
      "metadata": {
        "id": "B2TyFo1FhzI8"
      },
      "source": [
        ""
      ],
      "execution_count": null,
      "outputs": []
    },
    {
      "cell_type": "code",
      "metadata": {
        "id": "B8V1CFBLhzI8"
      },
      "source": [
        "# Hyperparameters for setting 5\n",
        "# here i take batch size 32,number of iteration 1000,input dimension 28*28,output dimension 10 as this is a multiclass clasification,learning rate 0.001 and number of epochs 15.\n",
        "batch_size = 32\n",
        "num_iters = 1000\n",
        "input_dim = 28*28 # num_features = 784\n",
        "output_dim = 10\n",
        "\n",
        "learning_rate = 0.0001\n",
        "num_epochs = int(15)\n",
        "\n",
        "# Device\n",
        "device = torch.device(\"cuda:0\" if torch.cuda.is_available() else \"cpu\")"
      ],
      "execution_count": null,
      "outputs": []
    },
    {
      "cell_type": "code",
      "metadata": {
        "id": "aZJKmj2IhzI8",
        "outputId": "54ff89c4-e653-4874-db89-65f9e211a774"
      },
      "source": [
        "# split data 10% for testing\n",
        "test_size = 0.1\n",
        "\n",
        "# obtain training indices that will be used for validation\n",
        "num_train = len(train_data)\n",
        "\n",
        "# mix data\n",
        "# index of num of train\n",
        "indices = list(range(num_train))\n",
        "# random the index\n",
        "np.random.shuffle(indices)\n",
        "split = int(np.floor(test_size * num_train))\n",
        "# divied into two part\n",
        "train_idx, test_idx = indices[split:], indices[:split]\n",
        "\n",
        "# define the sampler\n",
        "train_sampler = SubsetRandomSampler(train_idx)\n",
        "test_sampler = SubsetRandomSampler(test_idx)\n",
        "\n",
        "# prepare loaders\n",
        "train_loader = torch.utils.data.DataLoader(\n",
        "    train_data, batch_size=batch_size,\n",
        "    sampler=train_sampler)\n",
        "\n",
        "test_loader = torch.utils.data.DataLoader(\n",
        "    test_data, batch_size=batch_size,\n",
        "    sampler=test_sampler)\n",
        "\n",
        "print(\"Train dataloader:{}\".format(len(train_loader)))\n",
        "print(\"Test dataloader:{}\".format(len(test_loader)))\n"
      ],
      "execution_count": null,
      "outputs": [
        {
          "output_type": "stream",
          "text": [
            "Train dataloader:2027\n",
            "Test dataloader:226\n"
          ],
          "name": "stdout"
        }
      ]
    },
    {
      "cell_type": "code",
      "metadata": {
        "id": "j53V7CpHhzI9",
        "outputId": "09d1fc3a-6741-4db7-ddb8-03f76ea70017"
      },
      "source": [
        "'''\n",
        "INSTANTIATE MODEL CLASS\n",
        "'''\n",
        "model = LogisticRegressionModel(input_size=input_dim,\n",
        "                                num_classes=output_dim)\n",
        "# To enable GPU\n",
        "model.to(device)"
      ],
      "execution_count": null,
      "outputs": [
        {
          "output_type": "execute_result",
          "data": {
            "text/plain": [
              "LogisticRegressionModel(\n",
              "  (linear): Linear(in_features=784, out_features=10, bias=True)\n",
              ")"
            ]
          },
          "metadata": {
            "tags": []
          },
          "execution_count": 57
        }
      ]
    },
    {
      "cell_type": "code",
      "metadata": {
        "id": "w2PYYpCghzI9"
      },
      "source": [
        "# INSTANTIATE OPTIMIZER CLASS\n",
        "optimizer = torch.optim.SGD(model.parameters(), lr=learning_rate)"
      ],
      "execution_count": null,
      "outputs": []
    },
    {
      "cell_type": "code",
      "metadata": {
        "id": "7h0gMzn1hzI9",
        "outputId": "051538c1-ed99-42f5-b5a4-c52ef7d87466"
      },
      "source": [
        "'''\n",
        "TRAIN THE MODEL\n",
        "'''\n",
        "iteration_loss = []\n",
        "iter = 0\n",
        "for epoch in range(num_epochs):\n",
        "    print(epoch)\n",
        "    for i, (images, labels) in enumerate(train_loader):\n",
        "\n",
        "        images = images.view(-1, 28*28).to(device)\n",
        "        labels = labels.to(device)\n",
        "\n",
        "        # Clear gradients w.r.t. parameters\n",
        "        optimizer.zero_grad()\n",
        "\n",
        "        # Forward pass to get output/logits\n",
        "        logits, probas = model(images) \n",
        "\n",
        "        # Calculate Loss: PyTorch implementation of CrossEntropyLoss works with logits, not probabilities\n",
        "        loss = F.cross_entropy(logits, labels)\n",
        "\n",
        "        # Getting gradients w.r.t. parameters\n",
        "        loss.backward()\n",
        "\n",
        "        # Updating parameters\n",
        "        optimizer.step()\n",
        "\n",
        "        iter += 1\n",
        "\n",
        "        if iter % 500 == 0:\n",
        "            # Calculate Accuracy         \n",
        "            correct = 0\n",
        "            total = 0\n",
        "            # Iterate through test dataset\n",
        "            for images, labels in test_loader:\n",
        "               \n",
        "                images = images.view(-1, 28*28).to(device)\n",
        "\n",
        "                # Forward pass only to get logits/output\n",
        "                logits, probas = model(images)\n",
        "\n",
        "                # Get predictions from the maximum value\n",
        "                _, predicted = torch.max(probas, 1)\n",
        "\n",
        "                # Total number of labels\n",
        "                total += labels.size(0)\n",
        "\n",
        "\n",
        "                # Total correct predictions\n",
        "                if torch.cuda.is_available():\n",
        "                    correct += (predicted.cpu() == labels.cpu()).sum() \n",
        "                else:\n",
        "                    correct += (predicted == labels).sum()\n",
        "\n",
        "            accuracy = 100 * correct.item() / total\n",
        "\n",
        "            # Print Loss\n",
        "            iteration_loss.append(loss.item())\n",
        "            print('Iteration: {}. Loss: {}. Accuracy: {}'.format(iter, loss.item(), accuracy))"
      ],
      "execution_count": null,
      "outputs": [
        {
          "output_type": "stream",
          "text": [
            "0\n",
            "Iteration: 500. Loss: 2.3828108310699463. Accuracy: 8.953359244863965\n",
            "Iteration: 1000. Loss: 2.282559633255005. Accuracy: 10.091615769017213\n",
            "Iteration: 1500. Loss: 2.2905383110046387. Accuracy: 10.702387562465297\n",
            "Iteration: 2000. Loss: 2.2498223781585693. Accuracy: 11.687951138256524\n",
            "1\n",
            "Iteration: 2500. Loss: 2.1898233890533447. Accuracy: 13.034425319267074\n",
            "Iteration: 3000. Loss: 2.2383785247802734. Accuracy: 13.82565241532482\n",
            "Iteration: 3500. Loss: 2.2975094318389893. Accuracy: 14.255968906163243\n",
            "Iteration: 4000. Loss: 2.1829185485839844. Accuracy: 15.741254858411994\n",
            "2\n",
            "Iteration: 4500. Loss: 2.073547601699829. Accuracy: 17.101610216546362\n",
            "Iteration: 5000. Loss: 2.117353677749634. Accuracy: 17.892837312604108\n",
            "Iteration: 5500. Loss: 2.175448417663574. Accuracy: 17.504164353137146\n",
            "Iteration: 6000. Loss: 2.236600160598755. Accuracy: 19.031093836757357\n",
            "3\n",
            "Iteration: 6500. Loss: 2.108600378036499. Accuracy: 19.044975013881178\n",
            "Iteration: 7000. Loss: 2.234562635421753. Accuracy: 19.6835091615769\n",
            "Iteration: 7500. Loss: 2.1723592281341553. Accuracy: 21.15491393670183\n",
            "Iteration: 8000. Loss: 2.14898681640625. Accuracy: 20.79400333148251\n",
            "4\n",
            "Iteration: 8500. Loss: 2.1586360931396484. Accuracy: 21.09938922820655\n",
            "Iteration: 9000. Loss: 2.1188642978668213. Accuracy: 22.04330927262632\n",
            "Iteration: 9500. Loss: 2.0628740787506104. Accuracy: 22.4458634092171\n",
            "Iteration: 10000. Loss: 2.207984447479248. Accuracy: 22.4458634092171\n",
            "5\n",
            "Iteration: 10500. Loss: 2.121852397918701. Accuracy: 22.626318711826762\n",
            "Iteration: 11000. Loss: 2.045753002166748. Accuracy: 22.917823431426985\n",
            "Iteration: 11500. Loss: 2.0530848503112793. Accuracy: 22.890061077179343\n",
            "Iteration: 12000. Loss: 2.1378259658813477. Accuracy: 22.959466962798444\n",
            "6\n",
            "Iteration: 12500. Loss: 2.0468356609344482. Accuracy: 23.264852859522488\n",
            "Iteration: 13000. Loss: 2.2049505710601807. Accuracy: 22.848417545807884\n",
            "Iteration: 13500. Loss: 2.229640245437622. Accuracy: 23.514714047751248\n",
            "Iteration: 14000. Loss: 2.1329293251037598. Accuracy: 23.41754580788451\n",
            "7\n",
            "Iteration: 14500. Loss: 2.1379387378692627. Accuracy: 24.333703498056636\n",
            "Iteration: 15000. Loss: 2.01102614402771. Accuracy: 23.38978345363687\n",
            "Iteration: 15500. Loss: 2.031665086746216. Accuracy: 23.61188228761799\n",
            "Iteration: 16000. Loss: 2.155240058898926. Accuracy: 23.82009994447529\n",
            "8\n",
            "Iteration: 16500. Loss: 2.0701606273651123. Accuracy: 24.528039977790115\n",
            "Iteration: 17000. Loss: 2.160151481628418. Accuracy: 23.54247640199889\n",
            "Iteration: 17500. Loss: 2.129347562789917. Accuracy: 23.91726818434203\n",
            "Iteration: 18000. Loss: 1.9786357879638672. Accuracy: 23.875624652970572\n",
            "9\n",
            "Iteration: 18500. Loss: 2.1342177391052246. Accuracy: 24.042198778456413\n",
            "Iteration: 19000. Loss: 1.8018203973770142. Accuracy: 24.9305941143809\n",
            "Iteration: 19500. Loss: 2.1093664169311523. Accuracy: 24.7917823431427\n",
            "Iteration: 20000. Loss: 1.8962132930755615. Accuracy: 24.416990560799555\n",
            "10\n",
            "Iteration: 20500. Loss: 1.9511693716049194. Accuracy: 24.9305941143809\n",
            "Iteration: 21000. Loss: 2.0683367252349854. Accuracy: 24.028317601332592\n",
            "Iteration: 21500. Loss: 1.9938572645187378. Accuracy: 25.09716823986674\n",
            "Iteration: 22000. Loss: 2.0722529888153076. Accuracy: 25.249861188228763\n",
            "11\n",
            "Iteration: 22500. Loss: 1.9497774839401245. Accuracy: 24.694614103275956\n",
            "Iteration: 23000. Loss: 2.0774917602539062. Accuracy: 24.583564686285396\n",
            "Iteration: 23500. Loss: 2.153376579284668. Accuracy: 24.750138811771237\n",
            "Iteration: 24000. Loss: 2.092041015625. Accuracy: 25.680177679067185\n",
            "12\n",
            "Iteration: 24500. Loss: 2.033468008041382. Accuracy: 24.95835646862854\n",
            "Iteration: 25000. Loss: 1.8503210544586182. Accuracy: 24.7917823431427\n",
            "Iteration: 25500. Loss: 1.9652873277664185. Accuracy: 25.04164353137146\n",
            "Iteration: 26000. Loss: 1.9623314142227173. Accuracy: 25.569128262076624\n",
            "13\n",
            "Iteration: 26500. Loss: 1.778491735458374. Accuracy: 25.610771793448084\n",
            "Iteration: 27000. Loss: 1.934583067893982. Accuracy: 25.37479178234314\n",
            "Iteration: 27500. Loss: 1.853518009185791. Accuracy: 25.638534147695726\n",
            "Iteration: 28000. Loss: 1.9780460596084595. Accuracy: 26.166018878400887\n",
            "14\n",
            "Iteration: 28500. Loss: 2.119797945022583. Accuracy: 25.818989450305384\n",
            "Iteration: 29000. Loss: 1.8301275968551636. Accuracy: 25.943920044419766\n",
            "Iteration: 29500. Loss: 1.8705792427062988. Accuracy: 25.583009439200445\n",
            "Iteration: 30000. Loss: 1.8687406778335571. Accuracy: 26.04108828428651\n"
          ],
          "name": "stdout"
        }
      ]
    },
    {
      "cell_type": "code",
      "metadata": {
        "id": "PG4fcGjLhzI9"
      },
      "source": [
        "save_model = True\n",
        "\n",
        "if save_model is True:\n",
        "    # Saves only parameters\n",
        "    # wights & biases\n",
        "    torch.save(model.state_dict(), '/content/gdrive/My Drive/NamtaDB/model/model5.pkl') "
      ],
      "execution_count": null,
      "outputs": []
    },
    {
      "cell_type": "code",
      "metadata": {
        "id": "h1_FKP1AhzI9",
        "outputId": "d1925b3f-4af9-44e4-c33f-7ef00aec5dd1"
      },
      "source": [
        "import matplotlib\n",
        "import matplotlib.pyplot as plt\n",
        "\n",
        "print (iteration_loss)\n",
        "plt.plot(iteration_loss)\n",
        "plt.ylabel('Cross Entropy Loss')\n",
        "plt.xlabel('Iteration (in every 500)')\n",
        "plt.show()"
      ],
      "execution_count": null,
      "outputs": [
        {
          "output_type": "stream",
          "text": [
            "[2.3828108310699463, 2.282559633255005, 2.2905383110046387, 2.2498223781585693, 2.1898233890533447, 2.2383785247802734, 2.2975094318389893, 2.1829185485839844, 2.073547601699829, 2.117353677749634, 2.175448417663574, 2.236600160598755, 2.108600378036499, 2.234562635421753, 2.1723592281341553, 2.14898681640625, 2.1586360931396484, 2.1188642978668213, 2.0628740787506104, 2.207984447479248, 2.121852397918701, 2.045753002166748, 2.0530848503112793, 2.1378259658813477, 2.0468356609344482, 2.2049505710601807, 2.229640245437622, 2.1329293251037598, 2.1379387378692627, 2.01102614402771, 2.031665086746216, 2.155240058898926, 2.0701606273651123, 2.160151481628418, 2.129347562789917, 1.9786357879638672, 2.1342177391052246, 1.8018203973770142, 2.1093664169311523, 1.8962132930755615, 1.9511693716049194, 2.0683367252349854, 1.9938572645187378, 2.0722529888153076, 1.9497774839401245, 2.0774917602539062, 2.153376579284668, 2.092041015625, 2.033468008041382, 1.8503210544586182, 1.9652873277664185, 1.9623314142227173, 1.778491735458374, 1.934583067893982, 1.853518009185791, 1.9780460596084595, 2.119797945022583, 1.8301275968551636, 1.8705792427062988, 1.8687406778335571]\n"
          ],
          "name": "stdout"
        },
        {
          "output_type": "display_data",
          "data": {
            "image/png": "[encoded data removed]",
            "text/plain": [
              "<Figure size 432x288 with 1 Axes>"
            ]
          },
          "metadata": {
            "tags": [],
            "needs_background": "light"
          }
        }
      ]
    },
    {
      "cell_type": "code",
      "metadata": {
        "id": "mYC0BPfthzI9"
      },
      "source": [
        ""
      ],
      "execution_count": null,
      "outputs": []
    },
    {
      "cell_type": "code",
      "metadata": {
        "id": "xVZYWlnChzI9"
      },
      "source": [
        ""
      ],
      "execution_count": null,
      "outputs": []
    },
    {
      "cell_type": "code",
      "metadata": {
        "id": "BOHdwGuChzI-"
      },
      "source": [
        "# Hyperparameters for setting 6\n",
        "# here i take batch size 200,number of iteration 1000,input dimension 28*28,output dimension 10 as this is a multiclass clasification,learning rate 0.001 and number of epochs 15.\n",
        "batch_size = 200\n",
        "num_iters = 1000\n",
        "input_dim = 28*28 # num_features = 784\n",
        "output_dim = 10\n",
        "\n",
        "learning_rate = 0.0001\n",
        "num_epochs = int(15)\n",
        "\n",
        "# Device\n",
        "device = torch.device(\"cuda:0\" if torch.cuda.is_available() else \"cpu\")"
      ],
      "execution_count": null,
      "outputs": []
    },
    {
      "cell_type": "code",
      "metadata": {
        "id": "pYS54GQNhzI-",
        "outputId": "e8a3f3e8-9acb-49c3-f4af-8e8b2dcc14c8"
      },
      "source": [
        "# split data 10% for testing\n",
        "test_size = 0.1\n",
        "\n",
        "# obtain training indices that will be used for validation\n",
        "num_train = len(train_data)\n",
        "\n",
        "# mix data\n",
        "# index of num of train\n",
        "indices = list(range(num_train))\n",
        "# random the index\n",
        "np.random.shuffle(indices)\n",
        "split = int(np.floor(test_size * num_train))\n",
        "# divied into two part\n",
        "train_idx, test_idx = indices[split:], indices[:split]\n",
        "\n",
        "# define the sampler\n",
        "train_sampler = SubsetRandomSampler(train_idx)\n",
        "test_sampler = SubsetRandomSampler(test_idx)\n",
        "\n",
        "# prepare loaders\n",
        "train_loader = torch.utils.data.DataLoader(\n",
        "    train_data, batch_size=batch_size,\n",
        "    sampler=train_sampler)\n",
        "\n",
        "test_loader = torch.utils.data.DataLoader(\n",
        "    test_data, batch_size=batch_size,\n",
        "    sampler=test_sampler)\n",
        "\n",
        "print(\"Train dataloader:{}\".format(len(train_loader)))\n",
        "print(\"Test dataloader:{}\".format(len(test_loader)))\n"
      ],
      "execution_count": null,
      "outputs": [
        {
          "output_type": "stream",
          "text": [
            "Train dataloader:325\n",
            "Test dataloader:37\n"
          ],
          "name": "stdout"
        }
      ]
    },
    {
      "cell_type": "code",
      "metadata": {
        "id": "MpAX6J4MhzI-",
        "outputId": "5cc6e38a-21dd-4c23-ab32-50c0bdb14be6"
      },
      "source": [
        "'''\n",
        "INSTANTIATE MODEL CLASS\n",
        "'''\n",
        "model = LogisticRegressionModel(input_size=input_dim,\n",
        "                                num_classes=output_dim)\n",
        "# To enable GPU\n",
        "model.to(device)"
      ],
      "execution_count": null,
      "outputs": [
        {
          "output_type": "execute_result",
          "data": {
            "text/plain": [
              "LogisticRegressionModel(\n",
              "  (linear): Linear(in_features=784, out_features=10, bias=True)\n",
              ")"
            ]
          },
          "metadata": {
            "tags": []
          },
          "execution_count": 64
        }
      ]
    },
    {
      "cell_type": "code",
      "metadata": {
        "id": "zICz_qQlhzI-"
      },
      "source": [
        "# INSTANTIATE OPTIMIZER CLASS\n",
        "optimizer = torch.optim.SGD(model.parameters(), lr=learning_rate)"
      ],
      "execution_count": null,
      "outputs": []
    },
    {
      "cell_type": "code",
      "metadata": {
        "id": "s3GysYjhhzI-",
        "outputId": "87939094-0655-4756-aa52-41b9966f8f27"
      },
      "source": [
        "'''\n",
        "TRAIN THE MODEL\n",
        "'''\n",
        "iteration_loss = []\n",
        "iter = 0\n",
        "for epoch in range(num_epochs):\n",
        "    print(epoch)\n",
        "    for i, (images, labels) in enumerate(train_loader):\n",
        "\n",
        "        images = images.view(-1, 28*28).to(device)\n",
        "        labels = labels.to(device)\n",
        "\n",
        "        # Clear gradients w.r.t. parameters\n",
        "        optimizer.zero_grad()\n",
        "\n",
        "        # Forward pass to get output/logits\n",
        "        logits, probas = model(images) \n",
        "\n",
        "        # Calculate Loss: PyTorch implementation of CrossEntropyLoss works with logits, not probabilities\n",
        "        loss = F.cross_entropy(logits, labels)\n",
        "\n",
        "        # Getting gradients w.r.t. parameters\n",
        "        loss.backward()\n",
        "\n",
        "        # Updating parameters\n",
        "        optimizer.step()\n",
        "\n",
        "        iter += 1\n",
        "\n",
        "        if iter % 500 == 0:\n",
        "            # Calculate Accuracy         \n",
        "            correct = 0\n",
        "            total = 0\n",
        "            # Iterate through test dataset\n",
        "            for images, labels in test_loader:\n",
        "               \n",
        "                images = images.view(-1, 28*28).to(device)\n",
        "\n",
        "                # Forward pass only to get logits/output\n",
        "                logits, probas = model(images)\n",
        "\n",
        "                # Get predictions from the maximum value\n",
        "                _, predicted = torch.max(probas, 1)\n",
        "\n",
        "                # Total number of labels\n",
        "                total += labels.size(0)\n",
        "\n",
        "\n",
        "                # Total correct predictions\n",
        "                if torch.cuda.is_available():\n",
        "                    correct += (predicted.cpu() == labels.cpu()).sum() \n",
        "                else:\n",
        "                    correct += (predicted == labels).sum()\n",
        "\n",
        "            accuracy = 100 * correct.item() / total\n",
        "\n",
        "            # Print Loss\n",
        "            iteration_loss.append(loss.item())\n",
        "            print('Iteration: {}. Loss: {}. Accuracy: {}'.format(iter, loss.item(), accuracy))"
      ],
      "execution_count": null,
      "outputs": [
        {
          "output_type": "stream",
          "text": [
            "0\n",
            "1\n",
            "Iteration: 500. Loss: 2.3428592681884766. Accuracy: 10.494169905607995\n",
            "2\n",
            "3\n",
            "Iteration: 1000. Loss: 2.295673370361328. Accuracy: 10.938367573570238\n",
            "4\n",
            "Iteration: 1500. Loss: 2.2927603721618652. Accuracy: 12.173792337590228\n",
            "5\n",
            "6\n",
            "Iteration: 2000. Loss: 2.277794122695923. Accuracy: 13.520266518600778\n",
            "7\n",
            "Iteration: 2500. Loss: 2.2481184005737305. Accuracy: 14.464186563020544\n",
            "8\n",
            "9\n",
            "Iteration: 3000. Loss: 2.2533528804779053. Accuracy: 15.505274847307051\n",
            "10\n",
            "Iteration: 3500. Loss: 2.2418816089630127. Accuracy: 16.5047196002221\n",
            "11\n",
            "12\n",
            "Iteration: 4000. Loss: 2.2268900871276855. Accuracy: 17.143253747917825\n",
            "13\n",
            "Iteration: 4500. Loss: 2.223447322845459. Accuracy: 18.22598556357579\n",
            "14\n"
          ],
          "name": "stdout"
        }
      ]
    },
    {
      "cell_type": "code",
      "metadata": {
        "id": "mEtU_bFjhzI-"
      },
      "source": [
        "save_model = True\n",
        "\n",
        "if save_model is True:\n",
        "    # Saves only parameters\n",
        "    # wights & biases\n",
        "    torch.save(model.state_dict(), '/content/gdrive/My Drive/NamtaDB/model/model6.pkl') "
      ],
      "execution_count": null,
      "outputs": []
    },
    {
      "cell_type": "code",
      "metadata": {
        "id": "vrbRdEt3hzI_",
        "outputId": "f10087bb-7d32-4ec6-ec4f-1e319913872c"
      },
      "source": [
        "import matplotlib\n",
        "import matplotlib.pyplot as plt\n",
        "\n",
        "print (iteration_loss)\n",
        "plt.plot(iteration_loss)\n",
        "plt.ylabel('Cross Entropy Loss')\n",
        "plt.xlabel('Iteration (in every 500)')\n",
        "plt.show()"
      ],
      "execution_count": null,
      "outputs": [
        {
          "output_type": "stream",
          "text": [
            "[2.3428592681884766, 2.295673370361328, 2.2927603721618652, 2.277794122695923, 2.2481184005737305, 2.2533528804779053, 2.2418816089630127, 2.2268900871276855, 2.223447322845459]\n"
          ],
          "name": "stdout"
        },
        {
          "output_type": "display_data",
          "data": {
            "image/png": "[encoded data removed]",
            "text/plain": [
              "<Figure size 432x288 with 1 Axes>"
            ]
          },
          "metadata": {
            "tags": [],
            "needs_background": "light"
          }
        }
      ]
    },
    {
      "cell_type": "code",
      "metadata": {
        "id": "JOXx9eYyhzI_"
      },
      "source": [
        ""
      ],
      "execution_count": null,
      "outputs": []
    },
    {
      "cell_type": "code",
      "metadata": {
        "id": "0HeJhWwuhzI_"
      },
      "source": [
        ""
      ],
      "execution_count": null,
      "outputs": []
    },
    {
      "cell_type": "code",
      "metadata": {
        "id": "RQmMH18ghzI_"
      },
      "source": [
        "# Hyperparameters for setting 7\n",
        "# here i take batch size 256,number of iteration 1000,input dimension 28*28,output dimension 10 as this is a multiclass clasification,learning rate 0.0001 and number of epochs 15.\n",
        "batch_size = 256\n",
        "num_iters = 1000\n",
        "input_dim = 28*28 # num_features = 784\n",
        "output_dim = 10\n",
        "\n",
        "learning_rate = 0.0001\n",
        "num_epochs = int(15)\n",
        "\n",
        "# Device\n",
        "device = torch.device(\"cuda:0\" if torch.cuda.is_available() else \"cpu\")"
      ],
      "execution_count": null,
      "outputs": []
    },
    {
      "cell_type": "code",
      "metadata": {
        "id": "9UlFvE_ChzI_",
        "outputId": "58e697ec-7dbf-46c6-f786-2dca351c3731"
      },
      "source": [
        "# split data 10% for testing\n",
        "test_size = 0.1\n",
        "\n",
        "# obtain training indices that will be used for validation\n",
        "num_train = len(train_data)\n",
        "\n",
        "# mix data\n",
        "# index of num of train\n",
        "indices = list(range(num_train))\n",
        "# random the index\n",
        "np.random.shuffle(indices)\n",
        "split = int(np.floor(test_size * num_train))\n",
        "# divied into two part\n",
        "train_idx, test_idx = indices[split:], indices[:split]\n",
        "\n",
        "# define the sampler\n",
        "train_sampler = SubsetRandomSampler(train_idx)\n",
        "test_sampler = SubsetRandomSampler(test_idx)\n",
        "\n",
        "# prepare loaders\n",
        "train_loader = torch.utils.data.DataLoader(\n",
        "    train_data, batch_size=batch_size,\n",
        "    sampler=train_sampler)\n",
        "\n",
        "test_loader = torch.utils.data.DataLoader(\n",
        "    test_data, batch_size=batch_size,\n",
        "    sampler=test_sampler)\n",
        "\n",
        "print(\"Train dataloader:{}\".format(len(train_loader)))\n",
        "print(\"Test dataloader:{}\".format(len(test_loader)))\n"
      ],
      "execution_count": null,
      "outputs": [
        {
          "output_type": "stream",
          "text": [
            "Train dataloader:254\n",
            "Test dataloader:29\n"
          ],
          "name": "stdout"
        }
      ]
    },
    {
      "cell_type": "code",
      "metadata": {
        "id": "bGUjbodBhzI_",
        "outputId": "35517d7c-27f0-4606-e462-56dc6cd46a17"
      },
      "source": [
        "'''\n",
        "INSTANTIATE MODEL CLASS\n",
        "'''\n",
        "model = LogisticRegressionModel(input_size=input_dim,\n",
        "                                num_classes=output_dim)\n",
        "# To enable GPU\n",
        "model.to(device)"
      ],
      "execution_count": null,
      "outputs": [
        {
          "output_type": "execute_result",
          "data": {
            "text/plain": [
              "LogisticRegressionModel(\n",
              "  (linear): Linear(in_features=784, out_features=10, bias=True)\n",
              ")"
            ]
          },
          "metadata": {
            "tags": []
          },
          "execution_count": 71
        }
      ]
    },
    {
      "cell_type": "code",
      "metadata": {
        "id": "2s5zpQHthzI_"
      },
      "source": [
        "# INSTANTIATE OPTIMIZER CLASS\n",
        "optimizer = torch.optim.Adam(model.parameters(), lr=learning_rate)"
      ],
      "execution_count": null,
      "outputs": []
    },
    {
      "cell_type": "code",
      "metadata": {
        "id": "pRQBdDWXhzJA",
        "outputId": "95be904e-2929-4c11-ef20-ceb629aa0514"
      },
      "source": [
        "'''\n",
        "TRAIN THE MODEL\n",
        "'''\n",
        "iteration_loss = []\n",
        "iter = 0\n",
        "for epoch in range(num_epochs):\n",
        "    print(epoch)\n",
        "    for i, (images, labels) in enumerate(train_loader):\n",
        "\n",
        "        images = images.view(-1, 28*28).to(device)\n",
        "        labels = labels.to(device)\n",
        "\n",
        "        # Clear gradients w.r.t. parameters\n",
        "        optimizer.zero_grad()\n",
        "\n",
        "        # Forward pass to get output/logits\n",
        "        logits, probas = model(images) \n",
        "\n",
        "        # Calculate Loss: PyTorch implementation of CrossEntropyLoss works with logits, not probabilities\n",
        "        loss = F.cross_entropy(logits, labels)\n",
        "\n",
        "        # Getting gradients w.r.t. parameters\n",
        "        loss.backward()\n",
        "\n",
        "        # Updating parameters\n",
        "        optimizer.step()\n",
        "\n",
        "        iter += 1\n",
        "\n",
        "        if iter % 500 == 0:\n",
        "            # Calculate Accuracy         \n",
        "            correct = 0\n",
        "            total = 0\n",
        "            # Iterate through test dataset\n",
        "            for images, labels in test_loader:\n",
        "               \n",
        "                images = images.view(-1, 28*28).to(device)\n",
        "\n",
        "                # Forward pass only to get logits/output\n",
        "                logits, probas = model(images)\n",
        "\n",
        "                # Get predictions from the maximum value\n",
        "                _, predicted = torch.max(probas, 1)\n",
        "\n",
        "                # Total number of labels\n",
        "                total += labels.size(0)\n",
        "\n",
        "\n",
        "                # Total correct predictions\n",
        "                if torch.cuda.is_available():\n",
        "                    correct += (predicted.cpu() == labels.cpu()).sum() \n",
        "                else:\n",
        "                    correct += (predicted == labels).sum()\n",
        "\n",
        "            accuracy = 100 * correct.item() / total\n",
        "\n",
        "            # Print Loss\n",
        "            iteration_loss.append(loss.item())\n",
        "            print('Iteration: {}. Loss: {}. Accuracy: {}'.format(iter, loss.item(), accuracy))"
      ],
      "execution_count": null,
      "outputs": [
        {
          "output_type": "stream",
          "text": [
            "0\n",
            "1\n",
            "Iteration: 500. Loss: 2.0311360359191895. Accuracy: 25.347029428095503\n",
            "2\n",
            "3\n",
            "Iteration: 1000. Loss: 1.9153038263320923. Accuracy: 31.399222654081065\n",
            "4\n",
            "5\n",
            "Iteration: 1500. Loss: 1.9527558088302612. Accuracy: 30.49694614103276\n",
            "6\n",
            "7\n",
            "Iteration: 2000. Loss: 1.9518731832504272. Accuracy: 33.814547473625765\n",
            "8\n",
            "9\n",
            "Iteration: 2500. Loss: 1.8942816257476807. Accuracy: 35.980011104941696\n",
            "10\n",
            "11\n",
            "Iteration: 3000. Loss: 1.8271476030349731. Accuracy: 37.57634647418101\n",
            "12\n",
            "13\n",
            "Iteration: 3500. Loss: 1.909185528755188. Accuracy: 37.38200999444753\n",
            "14\n"
          ],
          "name": "stdout"
        }
      ]
    },
    {
      "cell_type": "code",
      "metadata": {
        "id": "u5FcJLighzJA"
      },
      "source": [
        "save_model = True\n",
        "\n",
        "if save_model is True:\n",
        "    # Saves only parameters\n",
        "    # wights & biases\n",
        "    torch.save(model.state_dict(), '/content/gdrive/My Drive/NamtaDB/model/model7.pkl') "
      ],
      "execution_count": null,
      "outputs": []
    },
    {
      "cell_type": "code",
      "metadata": {
        "id": "qNUHSJywhzJA",
        "outputId": "a7427291-fd20-4172-a1cf-bb8165585adf"
      },
      "source": [
        "import matplotlib\n",
        "import matplotlib.pyplot as plt\n",
        "\n",
        "print (iteration_loss)\n",
        "plt.plot(iteration_loss)\n",
        "plt.ylabel('Cross Entropy Loss')\n",
        "plt.xlabel('Iteration (in every 500)')\n",
        "plt.show()"
      ],
      "execution_count": null,
      "outputs": [
        {
          "output_type": "stream",
          "text": [
            "[2.0311360359191895, 1.9153038263320923, 1.9527558088302612, 1.9518731832504272, 1.8942816257476807, 1.8271476030349731, 1.909185528755188]\n"
          ],
          "name": "stdout"
        },
        {
          "output_type": "display_data",
          "data": {
            "image/png": "[encoded data removed]",
            "text/plain": [
              "<Figure size 432x288 with 1 Axes>"
            ]
          },
          "metadata": {
            "tags": [],
            "needs_background": "light"
          }
        }
      ]
    },
    {
      "cell_type": "code",
      "metadata": {
        "id": "a3ogV8NIhzJA"
      },
      "source": [
        ""
      ],
      "execution_count": null,
      "outputs": []
    },
    {
      "cell_type": "code",
      "metadata": {
        "id": "EUdvm7GmhzJA"
      },
      "source": [
        ""
      ],
      "execution_count": null,
      "outputs": []
    },
    {
      "cell_type": "code",
      "metadata": {
        "id": "RvWWIA6jhzJB"
      },
      "source": [
        "# Hyperparameters for setting 8\n",
        "# here i take batch size 256,number of iteration 1000,input dimension 28*28,output dimension 10 as this is a multiclass clasification,learning rate 0.001 and number of epochs 15.\n",
        "batch_size = 256\n",
        "num_iters = 1000\n",
        "input_dim = 28*28 # num_features = 784\n",
        "output_dim = 10\n",
        "\n",
        "learning_rate = 0.001\n",
        "num_epochs = int(15)\n",
        "\n",
        "# Device\n",
        "device = torch.device(\"cuda:0\" if torch.cuda.is_available() else \"cpu\")"
      ],
      "execution_count": null,
      "outputs": []
    },
    {
      "cell_type": "code",
      "metadata": {
        "id": "QS-t9GsShzJB",
        "outputId": "9cbb3725-2c95-48bd-f873-afd6bc3b3e8e"
      },
      "source": [
        "# split data 10% for testing\n",
        "test_size = 0.1\n",
        "\n",
        "# obtain training indices that will be used for validation\n",
        "num_train = len(train_data)\n",
        "\n",
        "# mix data\n",
        "# index of num of train\n",
        "indices = list(range(num_train))\n",
        "# random the index\n",
        "np.random.shuffle(indices)\n",
        "split = int(np.floor(test_size * num_train))\n",
        "# divied into two part\n",
        "train_idx, test_idx = indices[split:], indices[:split]\n",
        "\n",
        "# define the sampler\n",
        "train_sampler = SubsetRandomSampler(train_idx)\n",
        "test_sampler = SubsetRandomSampler(test_idx)\n",
        "\n",
        "# prepare loaders\n",
        "train_loader = torch.utils.data.DataLoader(\n",
        "    train_data, batch_size=batch_size,\n",
        "    sampler=train_sampler)\n",
        "\n",
        "test_loader = torch.utils.data.DataLoader(\n",
        "    test_data, batch_size=batch_size,\n",
        "    sampler=test_sampler)\n",
        "\n",
        "print(\"Train dataloader:{}\".format(len(train_loader)))\n",
        "print(\"Test dataloader:{}\".format(len(test_loader)))\n"
      ],
      "execution_count": null,
      "outputs": [
        {
          "output_type": "stream",
          "text": [
            "Train dataloader:254\n",
            "Test dataloader:29\n"
          ],
          "name": "stdout"
        }
      ]
    },
    {
      "cell_type": "code",
      "metadata": {
        "id": "mHgOInsPhzJB",
        "outputId": "4093494b-2559-434c-d504-df85325b2e42"
      },
      "source": [
        "'''\n",
        "INSTANTIATE MODEL CLASS\n",
        "'''\n",
        "model = LogisticRegressionModel(input_size=input_dim,\n",
        "                                num_classes=output_dim)\n",
        "# To enable GPU\n",
        "model.to(device)"
      ],
      "execution_count": null,
      "outputs": [
        {
          "output_type": "execute_result",
          "data": {
            "text/plain": [
              "LogisticRegressionModel(\n",
              "  (linear): Linear(in_features=784, out_features=10, bias=True)\n",
              ")"
            ]
          },
          "metadata": {
            "tags": []
          },
          "execution_count": 78
        }
      ]
    },
    {
      "cell_type": "code",
      "metadata": {
        "id": "wlEciyElhzJB"
      },
      "source": [
        "# INSTANTIATE OPTIMIZER CLASS\n",
        "optimizer = torch.optim.Adam(model.parameters(), lr=learning_rate)"
      ],
      "execution_count": null,
      "outputs": []
    },
    {
      "cell_type": "code",
      "metadata": {
        "id": "_zLO527NhzJB",
        "outputId": "e5f54aeb-92f2-4925-be4b-c2897ffb6b42"
      },
      "source": [
        "'''\n",
        "TRAIN THE MODEL\n",
        "'''\n",
        "iteration_loss = []\n",
        "iter = 0\n",
        "for epoch in range(num_epochs):\n",
        "    print(epoch)\n",
        "    for i, (images, labels) in enumerate(train_loader):\n",
        "\n",
        "        images = images.view(-1, 28*28).to(device)\n",
        "        labels = labels.to(device)\n",
        "\n",
        "        # Clear gradients w.r.t. parameters\n",
        "        optimizer.zero_grad()\n",
        "\n",
        "        # Forward pass to get output/logits\n",
        "        logits, probas = model(images) \n",
        "\n",
        "        # Calculate Loss: PyTorch implementation of CrossEntropyLoss works with logits, not probabilities\n",
        "        loss = F.cross_entropy(logits, labels)\n",
        "\n",
        "        # Getting gradients w.r.t. parameters\n",
        "        loss.backward()\n",
        "\n",
        "        # Updating parameters\n",
        "        optimizer.step()\n",
        "\n",
        "        iter += 1\n",
        "\n",
        "        if iter % 500 == 0:\n",
        "            # Calculate Accuracy         \n",
        "            correct = 0\n",
        "            total = 0\n",
        "            # Iterate through test dataset\n",
        "            for images, labels in test_loader:\n",
        "               \n",
        "                images = images.view(-1, 28*28).to(device)\n",
        "\n",
        "                # Forward pass only to get logits/output\n",
        "                logits, probas = model(images)\n",
        "\n",
        "                # Get predictions from the maximum value\n",
        "                _, predicted = torch.max(probas, 1)\n",
        "\n",
        "                # Total number of labels\n",
        "                total += labels.size(0)\n",
        "\n",
        "\n",
        "                # Total correct predictions\n",
        "                if torch.cuda.is_available():\n",
        "                    correct += (predicted.cpu() == labels.cpu()).sum() \n",
        "                else:\n",
        "                    correct += (predicted == labels).sum()\n",
        "\n",
        "            accuracy = 100 * correct.item() / total\n",
        "\n",
        "            # Print Loss\n",
        "            iteration_loss.append(loss.item())\n",
        "            print('Iteration: {}. Loss: {}. Accuracy: {}'.format(iter, loss.item(), accuracy))"
      ],
      "execution_count": null,
      "outputs": [
        {
          "output_type": "stream",
          "text": [
            "0\n",
            "1\n",
            "Iteration: 500. Loss: 1.9379525184631348. Accuracy: 33.78678511937812\n",
            "2\n",
            "3\n",
            "Iteration: 1000. Loss: 1.797506332397461. Accuracy: 38.3259300388673\n",
            "4\n",
            "5\n",
            "Iteration: 1500. Loss: 1.8201409578323364. Accuracy: 39.228206551915605\n",
            "6\n",
            "7\n",
            "Iteration: 2000. Loss: 1.7025370597839355. Accuracy: 39.2976124375347\n",
            "8\n",
            "9\n",
            "Iteration: 2500. Loss: 1.7382293939590454. Accuracy: 38.52026651860078\n",
            "10\n",
            "11\n",
            "Iteration: 3000. Loss: 1.8034796714782715. Accuracy: 42.79566907273737\n",
            "12\n",
            "13\n",
            "Iteration: 3500. Loss: 1.7937020063400269. Accuracy: 39.07551360355358\n",
            "14\n"
          ],
          "name": "stdout"
        }
      ]
    },
    {
      "cell_type": "code",
      "metadata": {
        "id": "XiIxTcnDhzJC"
      },
      "source": [
        "save_model = True\n",
        "\n",
        "if save_model is True:\n",
        "    # Saves only parameters\n",
        "    # wights & biases\n",
        "    torch.save(model.state_dict(), '/content/gdrive/My Drive/NamtaDB/model/model8.pkl') "
      ],
      "execution_count": null,
      "outputs": []
    },
    {
      "cell_type": "code",
      "metadata": {
        "id": "66k0dCufhzJC",
        "outputId": "d88619b8-2632-4b48-ca5e-de874262496b"
      },
      "source": [
        "import matplotlib\n",
        "import matplotlib.pyplot as plt\n",
        "\n",
        "print (iteration_loss)\n",
        "plt.plot(iteration_loss)\n",
        "plt.ylabel('Cross Entropy Loss')\n",
        "plt.xlabel('Iteration (in every 500)')\n",
        "plt.show()"
      ],
      "execution_count": null,
      "outputs": [
        {
          "output_type": "stream",
          "text": [
            "[1.9379525184631348, 1.797506332397461, 1.8201409578323364, 1.7025370597839355, 1.7382293939590454, 1.8034796714782715, 1.7937020063400269]\n"
          ],
          "name": "stdout"
        },
        {
          "output_type": "display_data",
          "data": {
            "image/png": "[encoded data removed]",
            "text/plain": [
              "<Figure size 432x288 with 1 Axes>"
            ]
          },
          "metadata": {
            "tags": [],
            "needs_background": "light"
          }
        }
      ]
    },
    {
      "cell_type": "code",
      "metadata": {
        "id": "BDF9iLgghzJC"
      },
      "source": [
        ""
      ],
      "execution_count": null,
      "outputs": []
    },
    {
      "cell_type": "code",
      "metadata": {
        "id": "4kbwGGmohzJC"
      },
      "source": [
        ""
      ],
      "execution_count": null,
      "outputs": []
    },
    {
      "cell_type": "code",
      "metadata": {
        "id": "Oa4vknt7hzJC"
      },
      "source": [
        "# Hyperparameters for setting 9\n",
        "# here i take batch size 256,number of iteration 1000,input dimension 28*28,output dimension 10 as this is a multiclass clasification,learning rate 0.0005 and number of epochs 15.\n",
        "batch_size = 256\n",
        "num_iters = 1000\n",
        "input_dim = 28*28 # num_features = 784\n",
        "output_dim = 10\n",
        "\n",
        "learning_rate = 0.0005\n",
        "num_epochs = int(15)\n",
        "\n",
        "# Device\n",
        "device = torch.device(\"cuda:0\" if torch.cuda.is_available() else \"cpu\")"
      ],
      "execution_count": null,
      "outputs": []
    },
    {
      "cell_type": "code",
      "metadata": {
        "id": "1B9uKWxKhzJC",
        "outputId": "5565816e-d094-4a2c-e77a-ed5b45a6f438"
      },
      "source": [
        "# split data 10% for testing\n",
        "test_size = 0.1\n",
        "\n",
        "# obtain training indices that will be used for validation\n",
        "num_train = len(train_data)\n",
        "\n",
        "# mix data\n",
        "# index of num of train\n",
        "indices = list(range(num_train))\n",
        "# random the index\n",
        "np.random.shuffle(indices)\n",
        "split = int(np.floor(test_size * num_train))\n",
        "# divied into two part\n",
        "train_idx, test_idx = indices[split:], indices[:split]\n",
        "\n",
        "# define the sampler\n",
        "train_sampler = SubsetRandomSampler(train_idx)\n",
        "test_sampler = SubsetRandomSampler(test_idx)\n",
        "\n",
        "# prepare loaders\n",
        "train_loader = torch.utils.data.DataLoader(\n",
        "    train_data, batch_size=batch_size,\n",
        "    sampler=train_sampler)\n",
        "\n",
        "test_loader = torch.utils.data.DataLoader(\n",
        "    test_data, batch_size=batch_size,\n",
        "    sampler=test_sampler)\n",
        "\n",
        "print(\"Train dataloader:{}\".format(len(train_loader)))\n",
        "print(\"Test dataloader:{}\".format(len(test_loader)))\n"
      ],
      "execution_count": null,
      "outputs": [
        {
          "output_type": "stream",
          "text": [
            "Train dataloader:254\n",
            "Test dataloader:29\n"
          ],
          "name": "stdout"
        }
      ]
    },
    {
      "cell_type": "code",
      "metadata": {
        "id": "Y2_T4M4YhzJD",
        "outputId": "550ef60a-95fe-42a3-97b6-ed809919e119"
      },
      "source": [
        "'''\n",
        "INSTANTIATE MODEL CLASS\n",
        "'''\n",
        "model = LogisticRegressionModel(input_size=input_dim,\n",
        "                                num_classes=output_dim)\n",
        "# To enable GPU\n",
        "model.to(device)"
      ],
      "execution_count": null,
      "outputs": [
        {
          "output_type": "execute_result",
          "data": {
            "text/plain": [
              "LogisticRegressionModel(\n",
              "  (linear): Linear(in_features=784, out_features=10, bias=True)\n",
              ")"
            ]
          },
          "metadata": {
            "tags": []
          },
          "execution_count": 85
        }
      ]
    },
    {
      "cell_type": "code",
      "metadata": {
        "id": "mrgYukk3hzJD"
      },
      "source": [
        "# INSTANTIATE OPTIMIZER CLASS\n",
        "optimizer = torch.optim.Adam(model.parameters(), lr=learning_rate)"
      ],
      "execution_count": null,
      "outputs": []
    },
    {
      "cell_type": "code",
      "metadata": {
        "id": "48234L-NhzJD",
        "outputId": "8e850f20-13cf-409d-eea6-10abc54cc6bd"
      },
      "source": [
        "'''\n",
        "TRAIN THE MODEL\n",
        "'''\n",
        "iteration_loss = []\n",
        "iter = 0\n",
        "for epoch in range(num_epochs):\n",
        "    print(epoch)\n",
        "    for i, (images, labels) in enumerate(train_loader):\n",
        "\n",
        "        images = images.view(-1, 28*28).to(device)\n",
        "        labels = labels.to(device)\n",
        "\n",
        "        # Clear gradients w.r.t. parameters\n",
        "        optimizer.zero_grad()\n",
        "\n",
        "        # Forward pass to get output/logits\n",
        "        logits, probas = model(images) \n",
        "\n",
        "        # Calculate Loss: PyTorch implementation of CrossEntropyLoss works with logits, not probabilities\n",
        "        loss = F.cross_entropy(logits, labels)\n",
        "\n",
        "        # Getting gradients w.r.t. parameters\n",
        "        loss.backward()\n",
        "\n",
        "        # Updating parameters\n",
        "        optimizer.step()\n",
        "\n",
        "        iter += 1\n",
        "\n",
        "        if iter % 500 == 0:\n",
        "            # Calculate Accuracy         \n",
        "            correct = 0\n",
        "            total = 0\n",
        "            # Iterate through test dataset\n",
        "            for images, labels in test_loader:\n",
        "               \n",
        "                images = images.view(-1, 28*28).to(device)\n",
        "\n",
        "                # Forward pass only to get logits/output\n",
        "                logits, probas = model(images)\n",
        "\n",
        "                # Get predictions from the maximum value\n",
        "                _, predicted = torch.max(probas, 1)\n",
        "\n",
        "                # Total number of labels\n",
        "                total += labels.size(0)\n",
        "\n",
        "\n",
        "                # Total correct predictions\n",
        "                if torch.cuda.is_available():\n",
        "                    correct += (predicted.cpu() == labels.cpu()).sum() \n",
        "                else:\n",
        "                    correct += (predicted == labels).sum()\n",
        "\n",
        "            accuracy = 100 * correct.item() / total\n",
        "\n",
        "            # Print Loss\n",
        "            iteration_loss.append(loss.item())\n",
        "            print('Iteration: {}. Loss: {}. Accuracy: {}'.format(iter, loss.item(), accuracy))"
      ],
      "execution_count": null,
      "outputs": [
        {
          "output_type": "stream",
          "text": [
            "0\n",
            "1\n",
            "Iteration: 500. Loss: 1.8853522539138794. Accuracy: 31.204886174347585\n",
            "2\n",
            "3\n",
            "Iteration: 1000. Loss: 1.8893365859985352. Accuracy: 35.7023875624653\n",
            "4\n",
            "5\n",
            "Iteration: 1500. Loss: 1.7191168069839478. Accuracy: 38.173237090505275\n",
            "6\n",
            "7\n",
            "Iteration: 2000. Loss: 1.8112187385559082. Accuracy: 38.589672404219876\n",
            "8\n",
            "9\n",
            "Iteration: 2500. Loss: 1.8147915601730347. Accuracy: 37.992781787895616\n",
            "10\n",
            "11\n",
            "Iteration: 3000. Loss: 1.7493596076965332. Accuracy: 38.86729594669628\n",
            "12\n",
            "13\n",
            "Iteration: 3500. Loss: 1.8244837522506714. Accuracy: 39.214325374791784\n",
            "14\n"
          ],
          "name": "stdout"
        }
      ]
    },
    {
      "cell_type": "code",
      "metadata": {
        "id": "7tg4TB0IhzJD"
      },
      "source": [
        "save_model = True\n",
        "\n",
        "if save_model is True:\n",
        "    # Saves only parameters\n",
        "    # wights & biases\n",
        "    torch.save(model.state_dict(), '/content/gdrive/My Drive/NamtaDB/model/model9.pkl') "
      ],
      "execution_count": null,
      "outputs": []
    },
    {
      "cell_type": "code",
      "metadata": {
        "id": "s2CzFx4QhzJD",
        "outputId": "86a4aae0-e85b-487d-a47e-199760be9fff"
      },
      "source": [
        "import matplotlib\n",
        "import matplotlib.pyplot as plt\n",
        "\n",
        "print (iteration_loss)\n",
        "plt.plot(iteration_loss)\n",
        "plt.ylabel('Cross Entropy Loss')\n",
        "plt.xlabel('Iteration (in every 500)')\n",
        "plt.show()"
      ],
      "execution_count": null,
      "outputs": [
        {
          "output_type": "stream",
          "text": [
            "[1.8853522539138794, 1.8893365859985352, 1.7191168069839478, 1.8112187385559082, 1.8147915601730347, 1.7493596076965332, 1.8244837522506714]\n"
          ],
          "name": "stdout"
        },
        {
          "output_type": "display_data",
          "data": {
            "image/png": "[encoded data removed]",
            "text/plain": [
              "<Figure size 432x288 with 1 Axes>"
            ]
          },
          "metadata": {
            "tags": [],
            "needs_background": "light"
          }
        }
      ]
    },
    {
      "cell_type": "code",
      "metadata": {
        "id": "bPJ_4TZrhzJD"
      },
      "source": [
        ""
      ],
      "execution_count": null,
      "outputs": []
    },
    {
      "cell_type": "code",
      "metadata": {
        "id": "_fhEA5cRhzJE"
      },
      "source": [
        ""
      ],
      "execution_count": null,
      "outputs": []
    },
    {
      "cell_type": "code",
      "metadata": {
        "id": "1cI6_Y1vhzJE"
      },
      "source": [
        "# Hyperparameters for setting 10\n",
        "# here i take batch size 512,number of iteration 1000,input dimension 28*28,output dimension 10 as this is a multiclass clasification,learning rate 0.0001 and number of epochs 15.\n",
        "batch_size = 512\n",
        "num_iters = 1000\n",
        "input_dim = 28*28 # num_features = 784\n",
        "output_dim = 10\n",
        "\n",
        "learning_rate = 0.0001\n",
        "num_epochs = int(15)\n",
        "\n",
        "# Device\n",
        "device = torch.device(\"cuda:0\" if torch.cuda.is_available() else \"cpu\")"
      ],
      "execution_count": null,
      "outputs": []
    },
    {
      "cell_type": "code",
      "metadata": {
        "id": "TjPGkIbjhzJE",
        "outputId": "3accc25d-ab2c-4f58-9dc4-d43432b9079f"
      },
      "source": [
        "# split data 10% for testing\n",
        "test_size = 0.1\n",
        "\n",
        "# obtain training indices that will be used for validation\n",
        "num_train = len(train_data)\n",
        "\n",
        "# mix data\n",
        "# index of num of train\n",
        "indices = list(range(num_train))\n",
        "# random the index\n",
        "np.random.shuffle(indices)\n",
        "split = int(np.floor(test_size * num_train))\n",
        "# divied into two part\n",
        "train_idx, test_idx = indices[split:], indices[:split]\n",
        "\n",
        "# define the sampler\n",
        "train_sampler = SubsetRandomSampler(train_idx)\n",
        "test_sampler = SubsetRandomSampler(test_idx)\n",
        "\n",
        "# prepare loaders\n",
        "train_loader = torch.utils.data.DataLoader(\n",
        "    train_data, batch_size=batch_size,\n",
        "    sampler=train_sampler)\n",
        "\n",
        "test_loader = torch.utils.data.DataLoader(\n",
        "    test_data, batch_size=batch_size,\n",
        "    sampler=test_sampler)\n",
        "\n",
        "print(\"Train dataloader:{}\".format(len(train_loader)))\n",
        "print(\"Test dataloader:{}\".format(len(test_loader)))\n"
      ],
      "execution_count": null,
      "outputs": [
        {
          "output_type": "stream",
          "text": [
            "Train dataloader:127\n",
            "Test dataloader:15\n"
          ],
          "name": "stdout"
        }
      ]
    },
    {
      "cell_type": "code",
      "metadata": {
        "id": "YxNMGkfchzJE",
        "outputId": "56147e8e-796c-4e58-ac96-d8f42f6b089e"
      },
      "source": [
        "'''\n",
        "INSTANTIATE MODEL CLASS\n",
        "'''\n",
        "model = LogisticRegressionModel(input_size=input_dim,\n",
        "                                num_classes=output_dim)\n",
        "# To enable GPU\n",
        "model.to(device)"
      ],
      "execution_count": null,
      "outputs": [
        {
          "output_type": "execute_result",
          "data": {
            "text/plain": [
              "LogisticRegressionModel(\n",
              "  (linear): Linear(in_features=784, out_features=10, bias=True)\n",
              ")"
            ]
          },
          "metadata": {
            "tags": []
          },
          "execution_count": 92
        }
      ]
    },
    {
      "cell_type": "code",
      "metadata": {
        "id": "vjBVdWi8hzJE"
      },
      "source": [
        "# INSTANTIATE OPTIMIZER CLASS\n",
        "optimizer = torch.optim.Adam(model.parameters(), lr=learning_rate)"
      ],
      "execution_count": null,
      "outputs": []
    },
    {
      "cell_type": "code",
      "metadata": {
        "id": "Yo-fPAtIhzJE",
        "outputId": "d33ac9fb-a0e2-4d35-b6a6-c50f6f7d0aa9"
      },
      "source": [
        "'''\n",
        "TRAIN THE MODEL\n",
        "'''\n",
        "iteration_loss = []\n",
        "iter = 0\n",
        "for epoch in range(num_epochs):\n",
        "    print(epoch)\n",
        "    for i, (images, labels) in enumerate(train_loader):\n",
        "\n",
        "        images = images.view(-1, 28*28).to(device)\n",
        "        labels = labels.to(device)\n",
        "\n",
        "        # Clear gradients w.r.t. parameters\n",
        "        optimizer.zero_grad()\n",
        "\n",
        "        # Forward pass to get output/logits\n",
        "        logits, probas = model(images) \n",
        "\n",
        "        # Calculate Loss: PyTorch implementation of CrossEntropyLoss works with logits, not probabilities\n",
        "        loss = F.cross_entropy(logits, labels)\n",
        "\n",
        "        # Getting gradients w.r.t. parameters\n",
        "        loss.backward()\n",
        "\n",
        "        # Updating parameters\n",
        "        optimizer.step()\n",
        "\n",
        "        iter += 1\n",
        "\n",
        "        if iter % 500 == 0:\n",
        "            # Calculate Accuracy         \n",
        "            correct = 0\n",
        "            total = 0\n",
        "            # Iterate through test dataset\n",
        "            for images, labels in test_loader:\n",
        "               \n",
        "                images = images.view(-1, 28*28).to(device)\n",
        "\n",
        "                # Forward pass only to get logits/output\n",
        "                logits, probas = model(images)\n",
        "\n",
        "                # Get predictions from the maximum value\n",
        "                _, predicted = torch.max(probas, 1)\n",
        "\n",
        "                # Total number of labels\n",
        "                total += labels.size(0)\n",
        "\n",
        "\n",
        "                # Total correct predictions\n",
        "                if torch.cuda.is_available():\n",
        "                    correct += (predicted.cpu() == labels.cpu()).sum() \n",
        "                else:\n",
        "                    correct += (predicted == labels).sum()\n",
        "\n",
        "            accuracy = 100 * correct.item() / total\n",
        "\n",
        "            # Print Loss\n",
        "            iteration_loss.append(loss.item())\n",
        "            print('Iteration: {}. Loss: {}. Accuracy: {}'.format(iter, loss.item(), accuracy))"
      ],
      "execution_count": null,
      "outputs": [
        {
          "output_type": "stream",
          "text": [
            "0\n",
            "1\n",
            "2\n",
            "3\n",
            "Iteration: 500. Loss: 2.0274624824523926. Accuracy: 28.484175458078845\n",
            "4\n",
            "5\n",
            "6\n",
            "7\n",
            "Iteration: 1000. Loss: 1.9030672311782837. Accuracy: 29.608550805108273\n",
            "8\n",
            "9\n",
            "10\n",
            "11\n",
            "Iteration: 1500. Loss: 1.9552994966506958. Accuracy: 33.30094392004442\n",
            "12\n",
            "13\n",
            "14\n"
          ],
          "name": "stdout"
        }
      ]
    },
    {
      "cell_type": "code",
      "metadata": {
        "id": "W095V_CphzJF"
      },
      "source": [
        "save_model = True\n",
        "\n",
        "if save_model is True:\n",
        "    # Saves only parameters\n",
        "    # wights & biases\n",
        "    torch.save(model.state_dict(), '/content/gdrive/My Drive/NamtaDB/model/model10.pkl') "
      ],
      "execution_count": null,
      "outputs": []
    },
    {
      "cell_type": "code",
      "metadata": {
        "id": "QPTn5Hb_hzJF",
        "outputId": "a0d2a8b3-599e-4e20-e7eb-55f5b66c6785"
      },
      "source": [
        "import matplotlib\n",
        "import matplotlib.pyplot as plt\n",
        "\n",
        "print (iteration_loss)\n",
        "plt.plot(iteration_loss)\n",
        "plt.ylabel('Cross Entropy Loss')\n",
        "plt.xlabel('Iteration (in every 500)')\n",
        "plt.show()"
      ],
      "execution_count": null,
      "outputs": [
        {
          "output_type": "stream",
          "text": [
            "[2.0274624824523926, 1.9030672311782837, 1.9552994966506958]\n"
          ],
          "name": "stdout"
        },
        {
          "output_type": "display_data",
          "data": {
            "image/png": "[encoded data removed]",
            "text/plain": [
              "<Figure size 432x288 with 1 Axes>"
            ]
          },
          "metadata": {
            "tags": [],
            "needs_background": "light"
          }
        }
      ]
    },
    {
      "cell_type": "code",
      "metadata": {
        "id": "250h8SEOhzJF"
      },
      "source": [
        ""
      ],
      "execution_count": null,
      "outputs": []
    },
    {
      "cell_type": "code",
      "metadata": {
        "id": "-8d98MGBhzJF"
      },
      "source": [
        ""
      ],
      "execution_count": null,
      "outputs": []
    },
    {
      "cell_type": "markdown",
      "metadata": {
        "id": "5YdjokCnjLK2"
      },
      "source": [
        "Here I take num_iteration 1000 for all the settings and input dimention 28*28 = 784 with output dimention 10 and num_epoch vary from 5 to 15.\r\n",
        "\r\n",
        "**Settings Table:-**\r\n",
        "\r\n",
        "| Settings| Batch Size      | Learning Rate |  Optimzer |  Accuracy(%)|\r\n",
        "|:--------:| :----------: | : -----------:|:-----:      |:-----------:|\r\n",
        "| 1        | 64          | 0.001        |  SGD    |  29.99    |\r\n",
        "| 2        | 100          | 0.001        |  SGD    |  26.86  |\r\n",
        "| 3        | 100          | 0.0001        |  SGD   |  16.67     |\r\n",
        "| 4        | 100          | 0.0001        |  SGD   |  23.23     |\r\n",
        "| 5        | 32          | 0.0001         |  SGD    |  26.04     |\r\n",
        "| 6        | 200          | 0.0001         |  SGD    |  18.22     |\r\n",
        "| 7        | 256          | 0.0001         |  ADAM    |  37.38     |\r\n",
        "| 8        | 256          | 0.001         |  ADAM    |  39.07     |\r\n",
        "| 9        | 256          | 0.0005         |  ADAM    |  39.21     |\r\n",
        "| 10        | 512          | 0.0001         |  ADAM    |  33.30     |\r\n",
        "\r\n",
        "\r\n",
        "From the table it can be seen that I got the highst accuracy for the NamtaDB dataset is 39.21 for the setting 9.\r\n"
      ]
    },
    {
      "cell_type": "markdown",
      "metadata": {
        "id": "STnLuP8j831m"
      },
      "source": [
        "Here I show the loss curve for setting 1 to 10 setting respectively."
      ]
    },
    {
      "cell_type": "markdown",
      "metadata": {
        "id": "KQDOtJdYltJj"
      },
      "source": [
        "![xs.png](data:image/png;base64,iVBORw0KGgoAAAANSUhEUgAAAxcAAAUXCAYAAAAr8J0GAAMlKnRFWHRteGZpbGUAJTNDbXhmaWxlJTIwaG9zdCUzRCUyMmFwcC5kaWFncmFtcy5uZXQlMjIlMjBtb2RpZmllZCUzRCUyMjIwMjEtMDItMjBUMTglM0EwMSUzQTE4LjA3NFolMjIlMjBhZ2VudCUzRCUyMjUuMCUyMChXaW5kb3dzJTIwTlQlMjAxMC4wJTNCJTIwV2luNjQlM0IlMjB4NjQpJTIwQXBwbGVXZWJLaXQlMkY1MzcuMzYlMjAoS0hUTUwlMkMlMjBsaWtlJTIwR2Vja28pJTIwQ2hyb21lJTJGODguMC40MzI0LjE4MiUyMFNhZmFyaSUyRjUzNy4zNiUyMiUyMHZlcnNpb24lM0QlMjIxNC4yLjklMjIlMjBldGFnJTNEJTIyNDlOZXJSeEd3RjVsMHVHX1dYS0clMjIlMjB0eXBlJTNEJTIyZGV2aWNlJTIyJTNFJTNDZGlhZ3JhbSUyMGlkJTNEJTIydzN3OWEzYmMwYkNZQThLNkYyLWElMjIlM0VqUHpYa3V1d3NpV0tmczElMkJGMFglMkZTRzlFSjRyJTJCamQ1N3o2JTJCJTJGUU0yMXUzdWZQamZpVk15WXBhSUZFcGtqeDBnQSUyQmklMkJVNnk5cGlhZEtIN084JTJCNiUyRjNLN3YlMkJDJTJCWCUyRjYlMkYxR1hpZ0Zmc0VqOTc4ak9QWDZkNkJjNnV3JTJGRiUyRjN2QTclMkY2eWYlMkY3enY4YzNlc3NYJTJGJTJGSGhkczRkbHM5JTJGYyUyQkQ2VGdNZWJyOWoyUHhzb3puJTJGN3lzR0x2JTJGJTJCZFlwTHZQJTJGNjhBdmpidiUyRiUyQjZoZloxdjE3eWoxSnYlMkYzY1RtdnklMkJxJTJGMzR3UTlMOHpmZnpmRiUyRiUyQm5KMnNWWiUyQlA1Znh4Q2hmOUN1V1VjdDMlMkJmJTJCb3ZMTzJpOCUyRjdiTHYlMkZ2RSUyRno5biUyRjFmRGxuelklMkZyJTJGYzhQNTN3eEYzJTJCMyUyRjY5cDkyYmZkJTJGZHhZMGNZSWY2JTJGN1BLdXlSTDFzTmJLSEZTZDVaNDFwdjlUaUE4OG00YldNUEx1amdDVFpPMjNJWjl5SGp4bTVjJTJGaDZGRm44JTJGJTJGOGN6bUs0dTRiM2JPSUdqOFRyOUc2Mml2bkxRUVBidmxjeCUyRkgzMzk5eEh3T1l1MyUyQkw5UTV0JTJCZmIzRWF5djk2YzdYSG12YjUlMkJramx5SUFmNCUyQmRXZ2x1Q1R5SDhUNUE0SmdTJTJGV1dpTk4lMkZ2OW1QQWlNN0JGWDdhZDVCMjlzcmQ0UjElMkZXQ0FQN1RDVDZsVWhkcmNoUmx3N0dsTHl4UjJ2MFhhJTJGUE1wYnRWeXJyaEhiVDIlMkY5NXJkYlRkM1JUUjEwSkdudzJGN0NLSCUyQmpnMCUyQnFBJTJGelRoRkpoJTJCT21FajBOdnRoSzluWTRPSlpubFFlWGdTWUJUc3lvZm5CTDVWT2JYaWVhMVRtRnJoR080elRzeVd4RzklMkI4QW02bTVKQm5NZ0VPWkwza1FRbSUyQlVOUDBDRmsyMElqV0Z3VFFaZjRvemVkNTJwZlR1JTJCelVtNTE2YWZXUDEyeGRRSzhvcERmbWRoWVFtY3ElMkZFR3FZbCUyRmdUMmM5MjlEY281Um1HWUdnNENyZ0J1dzRqMkdJbmRjVGVyZ2NNdGMxTmQlMkJJR1RoSk12U3ZHcFlOTDB1czlGWFBxbW9jZ2ZNVjVieXU4dXRpZ2N2SXYzYjZ1UDJ6a2liTnIzb1lrclBPMiUyQnRiRm1VUEYlMkZobDczenUxa2t6T2xDQzlnZzVETThyQ0dORmxxcHBpUHp3JTJGJTJGM1pkc3VsU2hpJTJCTHVBNm5LNm5vZkQlMkYxaDZsJTJGYWFXSE1mVHY3RyUyQkdtS096Wm5td2ZYaHFCN1p4eWc4aEU5ZkZEQmhPdUdGVDlua2ZrJTJGZktoMGYycmxBUTdqaiUyQjFpU0pLemZvQzVwY0Z1QVhHZ0xIa2VIWHBvMHM4WU4xeXNEZGhmenAxd3klMkZQZFlHdmhERjhidnBkWjJXTzVseTRmb1ozOE9MZmZGVGZqdDc0NndtT2huJTJGa0NMQ2dueDB4dDhBTTVnWTc3OEltMVU1ZkZzamJLaWlzZDR1T1EyV3h1cHIwaGR3Qkx0bnFzRlhKM1FDQnQwb0NHcTRrU3ZaaFlvSkloT3NydkclMkZibk5KNEI5dFpLbmVnZlhDRDc3U2U5RlJkVmElMkZnaU1OelN3ZFpwVTdSNk5wZ1VXJTJCb2lkM0FqcE1FYVR6cSUyQndRSEZ5dWV5QUYlMkJZcXJwVlRmdkh1cmphN1hIMHRQQmtBYkloeUtmNTB3dlNucHJIYTluY3hHYUUzNmdyT1hFamhpSCUyRldGaGRPR1h0eklPdzB1YUo4NEdHN3BaJTJGWDZzNDRHa1RWUE9tbVlXZXVjbGxGN05INFE1VHh2T1JGRWRJSWQ3dk1JeHZ3RUkxNzExciUyQjRTOGhDUFU3RGhqNDltbDh5dm1RcDBySmhJellNZXFWOWRSb2RkZnYxajdnTmJyZ1pURndBaW5YMDklMkZGdDBReHozNzNoRDVGZldRN3Z6ZFQ4Q2lIc1l1JTJCJTJCU2olMkJIUTI2JTJGekE3dE5ySlk3VVZldW9iOUxUNzZ5bnlJVkE5VXA2cnFYMGw2MWpQcUU3c09ZeWxSbW8lMkZlRVZiOGRPRHFBN3UlMkJ0cnVQc29kdTcxYUdJYWpwa1Y5MEZKaHN5QnpkTnRObzducjl4dVhsRXVsOVVUNko4aCUyQklxdUNhMXRicG5SZjdiT1RNc1BOamdzaEt4Wml1WWprTGlsZjFQVFhnbDJiSHpVYTZOSDNaek9iMiUyRjFRc1hPQTU0aDR5V3BVTzAlMkJ6djdiUm0lMkJFc0VyU2JsWm50Zm1HOWtlM2dqMDI2bUFCaWd3TkJ6NnQ5ajFxQzVhck5XcXZlV20lMkZxY2RoMnRSU1p3NHdPU1BycW9BJTJCemZmMUJPcSUyRjRtZHllUDhMendmSk1LYThTQVlEM3hmRGRiMkg3a1lEYnFtdFhSODF0NEtzNiUyRjZQclBuSnBycVQ4dU9UVVZPWmpNQjlyQnVlQTU0cUdjZlRpemliUHVqdW5tSGxadUQ5a3Y1UUZ4cDRZMDNuZ2tyQkwxcSUyRmlkdUpmOTR5eEZudHF4eng3WXdqcmh4MDlTbERSVFJZVjZKNVNvODZGZk1YYyUyQnVXdXZGenhDY2YlMkZYJTJGUmRsYkZ2TlQlMkJYWWVabXNhbGNqSkRZNW5mek1uVGVJTkZnTVY3MXdCUHJGSlBsTW0xcm9jUW90anRWa2JFV1c3S3ZGWDJSbDk0JTJGZFBiY3glMkZzSTNlNVNIZWtiVXFqMTI0UHVGaXY5RnA3WFJ2NGNrRGtNUEpWaHJPRlJjVFclMkZUZmJWUVpVTWF3b0Fkc3pkS0hYOFlNMHZyNVZ3aGsyc0lNRkxFelExeUVEazQlMkJqUVludzJMMlB3RmV5YyUyRlpBSVN1WU5yZlJtYU5hTTFaMm9FbHFMZXA3dEdCVERka1d4WGxOREElMkZJRVM3c3IlMkYlMkY3UyUyRmg0d0p3cHcyYyUyRjBpUks0ejQ5M1R3Wlo0dnZ0b1V4TWtROXZjaVZLVG5XRTlHVklVNXV5YjJJa0k2S2R1dmhWRkpxR1BjUFQ5JTJGejNIdkh5UTZFdTNqRHJjdDdMUzclMkJ1dzJhV09sV0V2T1VQNWt2Tm44blQlMkZQUGhBTkZndVZnYmN5R3U4M0dVMzE0V3lGN2cxM09MNjA1TDdyWEs4bmIzS1dJT2k0aDZmZVp2UXRFQXRxJTJGRzM5V3l0T3YwRjhncUhpQlJscnk1VU02WkQlMkJaMXZtV091MWE2MEFHZWI4aE5QaWxKODlJMzdqYWd1T2drM0VzRGJtUUFIRWVXMmxVb0QlMkZFS1d3dW5HZmlabUVoU29wbHNoNG1SaCUyQlk5R2xldk14QyUyQlV2MHEzWlF6eiUyRmNIQ2I5MDU0V0lvdkNYNmVQSUR1UFQyYk5yJTJGYm9ubjVSZVgxTlZqNk9TVVJ0bm94d3A5bjVPam1ZeTBGMkN1QXFlNEdZNjVlaVRQUmhqWjQ2NVc4WndQcXNaaFpnTyUyQiUyRnFhNkM3M29sNWZvNWZXWktTZUlCWW1yU0RheFcyanBLSzZPWERwN2pQVWxuRWZWSVBJY1ExWiUyRnN6NXVTbnpKVVVJdXVMWU5mWEYwb200amg5WGF2eGlqJTJCTFpxbzhBRlBCU2RyT3FJTkxNWVl6ejlQMkhVbE1Bc3Q4JTJCVmpoR0s2TTV4UEhaYWN2akE3QzJiMSUyRlJabVZxTk1kZHR1a0J5ZlQzdTlpTUJabU1NRU9qdnRXbzZEdXZEJTJCOXIlMkJIN2dxZHU2cnRnJTJCcVd4TXFMYWRRU2FVSlpyaDRITyUyQnBtJTJGOGFvM1BIWUFkVHElMkJvWTdtcHBQbDIlMkIlMkZoRTIwZnFCYVRtQ0VucjhkaTJDJTJCdlU4OVQ3dzY5ZFgzODJtejFJWHJuS2FtNlA5TlBUaUFKSkhPdkhJRzFmJTJGJTJCa0hDJTJGc3hzN2laOSUyQjdBTjd3SWZFZnlqVFJpJTJCcG9qcHp0VDV1TlJuVUFoQ2tYWG81ZlFnZ3p0c2R3Q1JJRWM0V3YwaTVybXM0S0R0azFSY2VkNlUzUVNNYSUyQlNwM21Cc1hhOG5pTSUyQm4xMVNFYzZUeSUyRkIlMkJYNnNLa1BCSDMybmEySTR0eHAlMkJiRCUyQjJQRFpwN3FtdUtTY3JDeHZaNmElMkZmakp3czlic3B4MEhvS1JqRnF1T1JWOTQ1UTExbHgzJTJCOXEzZmdQTUV6UzdGblB6VXlhdTV0bm42eGRqbUd0SjB0aTZEa0w4Y2RNTjFreSUyRlhrRSUyRmglMkIyJTJCN1YxWGVBYkhXeEhEU0JVJTJCRXp4TkklMkZKa0JjQUYxa3o5cCUyQiUyQmZqdEpQeSUyQmxOYVBLM0ppa2ZyZGdWSndJdVhsWEZkWlJVRTlqZXBPZmhPbnZ6JTJGMTFuVDNaZ3pERERpV3Z4Q2lBNFI0UmRsYWpseDdKdXFUS2V2b2Z5Mkx5ekFtcUFKT2djREFsc2NURFBueW5lWmlybEUwTGtPeWxVSGk3MiUyRiUyQk03MUtweWU1b3dURGY4OXlMelN1USUyRnZ3azQ4MyUyRlIzd1h5UXBJSnp0M0RhQWs0bzJKNHZuNW1RMEpHQ0Q2dU14SHFjOGVqb0doVjZqNUFKZG5uRk5MUE1zUHlPeEV2ZGFwJTJCd25qVTR6ajRBUFltOEIycmM2JTJGOSUyQmZSb3hBNXYxaiUyQnVhWlRRcG1qcmRldGklMkJpRyUyQjdJeE54OVhibnNTUXdzTTlhclhtaiUyQmxzdVM4cHIwZlVXQmdFSTdFdmdMYno5MlQwaXBHdkxlSzdyNlplbXVRejJ5QTc0SW9uTFlUWkxTUk9IWm0wMlJEOGRteUZEM3YlMkI4R1NOUERrRHFNJTJGRkloS2FoM1hyMTAxNXZoa3YlMkJ4bCUyRkNHNEVTbCUyRmJYeG1YdzJySFp1bUs0N3NZSGdITkpNZkJ2UjI2UzlxQjgwbTNLOXNpJTJGMFhZeEp3dlE2dlA3dXNsMWIlMkJMbHY5bFNsZ3ZJbnBsMmZUdnZLRjlNUEJmWk9JbXo1d2NKWHUwQUp2Z2pHNzBZVkUzSXAwSUgxZnhldEZlbm4xJTJGdWpPJTJCNjhGa1JXS0RGYXJ2R1RnSWtsUDVFNG5nSjJKWmtDbm5vdlF6b010WTcxUSUyQmpXdCUyQmMwYWtuSHhzZGNYSHpLWiUyQm9rYXZoa1BnZm1EWTVwcmNxRkJyc1VUWThCUjM4M0xySzhtcjIxTk1GRDlVTTlYTTUzVWpSWGszc2NSNFdZYTEzVEVQTVdBWSUyRkpha09teWkybzFMME14NHUwNDR1dko2eWU5ZWs0cXd2cmhCNmpQU2h2UzQlMkZPNUprWDl1a2czOVFFZXhCVDZBbHFhUmVVOTZaeWZ1dzU4NzY1MnF3WXl5VEs4OG9NU1N0WWgzZG1CNm5pSGN0MkhJa2pFaWhBSiUyQnNpaHBiT3pFJTJGM1M3JTJCa20wVTZ3QXhsbkFhYWphNGJyNm9zTXFPbzliTEp6a0tiQTJNcFBwbUozS3BHYXB1JTJCUzVEdVBsRCUyRkNaYm5VeWJtcVN6djJhUlZNNGhXdjlUaWtuNk0wZHhkMXM1OGN4MnprRldzaThvJTJCTWJwUnJOOXYxSUcweVlBaGM0JTJGclVJYVpnJTJCQURqbTN4cHoxVG1uN2tVbE44bllMU1V1ZkdyUzByeWppalNXVlNCSjFnM1FudXY3NGR0SWQ2Q24lMkZ5V0tpWk5TWGZDQnJNdEtBM1dTRXB6Rk12WWFOTTBtVlRHWjRwMG9hMlpuQ1ZQVHZNMDcyc3JJZk5CM2dib2V4QjBjdld3R0ZJYXFjYVBJTDBRakRPOU56d1hJUktNdEZidlFlR3ZDcCUyQmdQSWIwajRId3hZV2NsR2cyS3hFQ3ZtaXdIMmttaVdXT0VBZVpLRklrYW5QT0IycTRwTVNFdXVndmg5QmVlc1FDSkR3R3JWdGk1ZUxUSjAlMkJkNmZkSCUyQkdqRjJmbWExQ2lZRXEyZTR3VjdjZXBRbTY3aXg5WDZsd1J0RWJPVkRXTGxoc3dVayUyRkVSbHg5RDVtY1c5ZmhLJTJCNUtOVGt0SnBYaGtGT2dMNTZkNjJPTGtGNEFZNmxEdm5qQ3FDZDI2S2ZBSWclMkZnOWJLZFdrb2thYW5DbTYlMkZVVTFVTWdPOXNIWmdBUmFrdzVyT2hTSmFsaU1ZcWFDWUxXRk12aTVaNmYlMkJwMVh2N2ZiSFZjR3MzRm5WZU53a09XWHk0UUl1MWtNWk9SSnRvb1REWmlabUdLV2RLS255bTJIRmFQUFQwdEFPdm5hTEthcyUyQmt0VUZqVUdPaHhrbVJ5a2hDMjJaZEE3Q1lQZUhzVGZBNE9tMDk5MCUyQmxrekUwblVQZ0VuYXE4UENHeFN3UmdoNjZFVnZjWkRRZFIwYTglMkY3bXYlMkJVemN0VG43WDZBaFRWbWFIbUtaaG5GRFlLMWQlMkJIcDNRVVE2YUl3RGpSazclMkJlenRqeDUyZFolMkI1cm1ETFNxVkVCY3BkdzI0RXZkWiUyRmFqSmhEakRFS0UlMkZGVnplcnB4VXhpSEoySzFtS0lkcWgya0ZtayUyRnFFRDJmckpGbUVVZjR2MzJBUGNlZmxKWTAlMkZDY3Q3bTZseUJTQVNCdHhiUndlVjJlOFN6V2pJbmJWNGlmSkoyOHpFYSUyRmh3VXVybFdKUSUyQmNkQjJ4dUtlMmNqekVaNjE3M3Q5ZW5jN0dQYnUlMkZuVldzZHphRThFeW5rekdaaWs5YzRGUDloaEJaMXVDa05rUDY1JTJCdk9uUmQzZDltczl0alhkemtkQkFPeW0lMkZseW9ER1VJZyUyQkNqMG85Vnkxd21VRlB5M3BZeVJyJTJGYmRlcTZtM0tPTiUyQnElMkJMOCUyQnozWTNMVjdrWGM2ZGFaSWZPcjZpblI1UjMwSkx5akNuMlVtVzFFdXR5UXRJekh6UG8zOE9VQXRHNmZnZEhsb0lINHMlMkZvVWl5U01zRWdwQjZsWjZWek0zVVJja0hKNUZrTmREeHBSNldmOG9zOEw4VCUyQm1VelA4TlU3SGRRelRBQkRQZCUyRktOSVN6d1dGeFRpSWdCNnhvOTZkeG90U0tVQnVXY2ZnMkM5R3JWNVklMkJxcDM3eVJ2b3NNZ2VlQktmaXUzTlNmTSUyQldvT3NXVUVYMElMRHRMMmlreUtaRmN6MEx5OExYbnExNW9EbU5mUDF4JTJCQ2wxY28lMkZpOCUyRkZtYzhTR3NVZ0N0NExqdFlIM3VodkJTZldwOExKWU0ySjBCeHJXb3d6cklBVkVKc2ZGMU5pRFFYNlhxTlVlb0tPbGJLWmpQNUdONVZUT0l2cFZwZjJpcTB4OXl3RlJNTnVWNldUbVNibDY2d2llZE9NRFZnV3NRVENnVW4lMkJiUnBabiUyRmUyZDRJdWlBYjZ6RzVYMExuJTJCdTgzSndYOEcxYyUyRjZqU21SQzBWMGpvbXRIZWZUbmxZM1pvVU5QZTBTR2R4cVlmTWhlViUyQmtsRjJVT0I4VEtiaXRpSlRXOWYyWWlxVlVENHI1Q3Nyc0ZCTiUyQmVZZm81akFBdEVCcyUyQjI2JTJGZ0lmODAlMkJjcmR4JTJCZHZrbVpqRVhrRWxENmxQUmRJWCUyQjduNGtwVnBEJTJCMmdOQ1IyMXh1OSUyRjlSTmo0SFJWUSUyQjVVWkxRMlRVY1o0UWh6aTA2SyUyRkFJJTJCb3d0SjdPZldRWmQ1VFpuaFFIZVFCT2lHVzhRbVQzdnQ2T08lMkZCUHB1RTRVZDFQSSUyRmNmJTJCcnZNOXliTUIyaWlQWHl2eEpMWWhwNGdSbEhRJTJCakRBMU15N1oxajJGJTJCeVplVlo1QjhxQ210TE5uUkRrOGdzNTBZaldGUXBCaiUyQmxSd1c1dmpSWGlJQmw0a0VPY2NjR1BBZ3dRYjJuVTJueUJ1S29aSlV1TmhucDBwJTJGb0dSZiUyQjglMkJGTFhQQUMzbnVMem44cVVjNld4UjJTTmFqTTdRVXBiVnQ1NllUV3ZXeFd2VjYybEwybmJjb0RMSUtrUWZ2a0puOWpOdkx6JTJCMlZ2NWlIeWpNQ0Z3RCUyRjFCRW1YRFh1WWhpdUc0RkpLMmRWbXJ1ZjBldFhHUklEYyUyRk1nT2duZXd6QUNqZSUyQld3aG5IMlBYNmFmOVpYUzNLRyUyRmExZnVVcmlwelpUMG01S1ltVUt0ZmpUZnFMUDJJJTJGJTJGUmNmMjZrc004UGpjbUtlRmNPcjJzUXAxVmpKQWZZcUhxcnF6RHJTbFYzNWFhZzN1OXcyU1Z3WFQ5UWxVeGN2JTJCUVltSEExNCUyQmZCYUpSUnRoamhmalk2U2lBeTJZMndDMFdmMjQwZCUyRnIwZEoxQ1JGWWpaRyUyQmRLb0RqVGtIMGo3c1IwelpiVXVQeEV1RGNsWGFQJTJGeXpMM3I0dkR5NTRvMGglMkI4eExGSWVOQ3BrQ05KcVhhamZiaDZlWTlhd00zUVFQZWhYNlEzMWxBN1VuJTJGb24lMkY4dGl5M3JKazZPYWY4cEtoOHZvRm5tVkJabkZrVWxMTUxYaU9hWFozSFBlNFQ2VDZ0d3Z3MXpVbWVPYUhUZjlWeHpHUHJQcU9BSEZYdkhjYyUyQiUyRmdVM0lkR2ZSOVlDV1dsU2FzUyUyRjFEUVZhS1BwYXFCcXgwTDM2a09Rck1UJTJGdmo5Zm02OVlXU2tIZHRIZE5vTnlxYWVrRVlBeFZRY2RwUTVJMGhRU0hLMVhyZmVQNVlGcko3MG1TZE9NemtTMDlzJTJCU2M4JTJCZmk1eHhpJTJGYUZWNllxckJack42d2RwdjZHYm5LWXduNEhzRDVEWGduQ3V0ekhsVzhvazcxZ0JiNzRIZ08lMkZWTjgzUnVrc3p6MGt0JTJGMXo4YlpoeTNWOGlIa2hrbFJpZ1dTZ2lOdDh3dE8yZm92ZTNaVXlqSlRVaWY1JTJCeUUxUHBuJTJCd2x1S1R4JTJGV2RLelpVeUN0alFINjNCcVhBS3klMkZJVXhOa1dUWm5FdlglMkJpY211WHhlaGdQV3Vkb0t1ZVhEWTJCQmtUMlVReTIwTmVvRFZnSFdpTlBYcjZlMklqanpyRmclMkZ4R0pSYTcwQXYlMkJuVlE3TzZrOXhIcHJHZXduWDBzZGJxaE5rWEtucTFFcmQlMkZzJTJGTlFxaDNtJTJCeE9TSUNhOEhDU21PUEdVaXZTQk1JWGhuMTdmREJKSHhENnV4MjJJcHcxalV4U1hxeDhZdDBDNlVKYTNzMjV0b0ZNMTFtZVdXcm9CQXA3a3pQQXd5eDRMT3Y5d04yakV1UiUyQno4ak8lMkJtY1BJbXBUQW9tMDhBN3lEWkNnWVVrTkwyd1Y3QXU2UDRNRnFseTdkakVINEhRNmlPR0laWSUyRjU3eDdZMml3djBEVFYlMkJjUFlRRktDSXBsOTJEa3BWRUV0MjlQSGdTRVlrVjZGMzB1cmhwJTJGZnI2UkRIcGFoJTJCWkxGSGh3Q1RaNXBKd2tLWjIlMkI1MyUyQiUyRjVFNXU4VGlRJTJCMkV0UDNtckJuZWtabDBvTlhrVFBKMkJBVVFya3BqTVNJVEVwN1FKOTBVekZZJTJCWXp5THRrU2d6WlNZdm5RVndoaVlYNlhFVVREVnRnd1g2cVFSTnZvdUFrOXhNJTJGd0plV0lnNTBlQ3o0OWUlMkJtQiUyQmVpUXo3ejRrSm5PSDdLU3RWdjM5ZWQwVyUyRjhGUHBaQVdEcWgzVG90QW5TMyUyRiUyRnFyWFlyckFGaGVZVnVxR0dtbXNramdtS1c5ZlM0RklncnlIZWZkOUElMkY2Rm01dHc1MGIzeExla3AyT1UwS0RNSTFmWm1iN2RiQXRXeGRBeG5selNPR096blMxZGZFTiUyRll3eHpKUEZFVEJmWWlTNGp2NzV2N0olMkJZa2ppJTJCbkUlMkZvTFJGVGt3aXk0eEMlMkZRZlJQQ29lQ1Qxc25qNkk1azlqMFljTjFOU2h6ZEpBbkx2S3FIN1lVV1pvZjJBJTJGU2U0YzdXUTZyenFrQlpVYTElMkJYNGtuTFBZVXZQMkpkWWwyNGJaeUt1MEF3VDhEQVdjc0JQUlFLUDN1N20zbDZHanRhSGtyWlNpQjRuSnNXaDhvc3NaT3JmNTVlMXhGJTJGWDI0RkN0WjhwQnNtcGJZQ1JkMjZYVTRBeiUyQjBYaGtLOSUyRmlHNDE5S1ZvNyUyQlljaHRpdlpHblFqRkpZdnpVbWlhVmFNQ1lsb3FYaGN6ejFycDFhJTJCdklDeGlHUEYzVU1VOUJCVlR5cHJkcVk4TExmUDZiT3lPd210UTJNeEZ0WlBuODhYMHFaZlNmWHRwWnBJbHZKWFQzNllFUFN1OXYlMkI5TEJsbUVBQndNaVJMMHZGYnl5OTFRJTJGbGprUnVtUnRpNnRIcjU2TW1RWER6ZzFXS3lQTWNFR1ROSEclMkJMTHZ4YSUyQkFUbVIzMzRZakRDWXZuaXI5OE9Qb291YUlMQW51SmFyeDNpZWFldmtLaGNwaUduQ25jUlM4eXhpYXlRWDV2WHVHZ0hHdE1pMlJjVmdHYVQwUTlCM1YwVzd3Mnp0TW5lViUyQjlvbXBNQmpCSlo3NDRyNTdLY2ZlM0VsUGJvcjNWbUtyJTJGQ2FWUkpSc2taRk5OSTltZExxWkFHd3JlbWZyNk1Jd0dDZjdsRVpNeW9tQ21abVYxbTNwYlhlbDNGNXgzOWRETjlrVTUyQlB3OHhOZUdSYThNUHkxJTJGdmxkVDQlMkJaNmlpRyUyQkRVcFdMZk12NE5uMWV4VmUlMkJTdVE2U210VVlLanJNNk92SXJ1V3lOWWg1VzlIJTJCMGc5c0I0S1VUbWpmUWRuV2lLbG1MZVhvRjBITDV1Ykk4RCUyRm1vWXpHOEN3dUVTd3RadG42WXpnY3lSVWRLMU1FeVpZT0FzdHZiRTh4V0ozNER1MG5QN3F3VGtjWkslMkJ3dHZnJTJCOWZ2ZFJpb0ElMkZRcXFYMmtqWXp6N1I4T3BTUEFqOGIlMkJlVUg2T2p6ZUcxeFNHem5VS2NXZExWZzVJamxBRSUyRlhxYmc2RERQbnU1Qk1tTVJrMEpmdzdZT3JyWmtmQ1lFVDhpMlE1YjM1U25IMkJDT3JTZHhkdyUyRlRhS3VmdW4zdnAwWHVLanFiQVpTWTFQZWNBaXRwTzlTY2wlMkYxbURsenZCY0plb1lEcnkwVUV2MkMwb082YkhwbWQlMkYxZFg4NXElMkJKUHNOR2N3T2FEVjNnMDA5RU5aZEJTR2Jwc3QxTmlPcHJLRSUyRnklMkJNT2FzWHk2Sm13RDU1ZnFCQ21vc2FUdncxd1h0SWtDaDJJRTJ1biUyQlJkRTZ2ZmZsSEd2SDNFTDg3ejcwJTJCTlpvVE9LY1R6b2Y3T0hMR1hGJTJCT1BuV0xFZmNNOEklMkJrZDM0WUpKcElNeUxObk5GV09yYXZmNU5paVZuUU4lMkJMV1VxYkp2M2Foam1ENk56ZnlFR1JPb3U1NERkOXBTY0xTNXI3NiUyQjhQTklTYjVTMjJHeWN3QlVIVnVHOUtpYUk3bnZxbW9YZXVkZXRUSTFJelJwWXNTU2kxaUUxdVdTJTJGbzlzYWQlMkYwR1VobU12QTdXRE1Xa2N0dm5GNWNGSWlJalZXdFptblVGZHJBYUJYTUpjdW1IcEhPOHU2Ym10eGpjWjd6d2lpTGduTVc3SGpJcG1DMGxGQjhsdmpJb3FKSE1XcExmVDFmdnBUd0w0UDd5dUdmS0h1UUNtRE5NWHpaeTdTMzJ2R3NFRXRZU1hKUWJqOEkwTmt6JTJCNVptcVVGaXZUaSUyQmZFZ0w5SDh2UEdBRFdvUnJaVkZjNE9jeFpZc0Nsa2hJSiUyQlJtanVvQ1h3RVZqSUtwQkdBQ1RjczREM2ZKdUNWcnRialhpTXpEMVJzVUxQajh1aXE5VSUyQm96dTY1aU9SQzFaRVAxQ2Zybm4ySWhqVnpSeUMlMkIzdU03UUtIekt6Zm9OR3FKQlBzN3prZGt6UUVvVWFnRE56TmxIUGdDdEx2MUx2N1hEZnRsTnRTJTJCOUxCbXJwVnIlMkYlMkZYdVp0NGcxd3lBTnJYT0lNOSUyQmFZc1JicUslMkIlMkZYdk5Td3k2MWtacHZaeVI0dkh1WXNQNUtXOExpJTJGN3FWamZDWm96a1FXNDNZZmhvMFpibFcwVjBZa0dhZHlkdVlqQXpSS2Rhb3ZzRlU3RVBjaUFBN004Yzc3UFNuSDJQa0M5Y3BBQldMZU45YWg5Y3R0OEs5MFdhVjJXRUdYVGVMcEp6NXpWQjJYdGJ6SGswMzY2R2clMkZDV2ZSSFNjYmNIdlJZMlU0N25QNFlDd3lHMEpnc1pXSTBHZjhSMyUyQnFlQmdxckRuRiUyQiUyQnY5ZTdQUk9VQWZDVk5ETkNoMiUyRks4MHYwcTgzVFpjZENMWiUyQndYJTJCeDQyc0slMkZQQTRnMHY2ck8wWGxsU3pWNVZieG40eGFVZWp2ejclMkZWQldRMlB3Rm1ReFBqUUV0WWxweGJCJTJGSENTM1lncWprMGdTdFhBSnoxWDBoam5wVTRhNldybkhtSnIlMkJQJTJCSFVOcWYzVzYxcUloJTJGcUFDemNBRTVYb1FPcURIMUclMkYwRDAwOUIlMkIzanpwRjI3amM1aiUyRk9rdElIRnJuNkJrNmptJTJGY3pQYXBrU0R1dzI1UExqQlFkSmhiYUk4Q0ZDcVUyZSUyRmIzZHVUczhHRXc3JTJGSXA3M2xKVWh1ZEEzTThUN1BHYWVjajdpNjBnR2ZzYjBHWDBQSXpPMGNvSWNYREdaaXp5dnJ6alpiJTJGTk9RTVkxNk5sY3UyZjQwdDA5ck5oSk84VXVkTVhOMHE4MiUyRiUyRjRIb2RndEJGUkdhc1hROUJVWXV4OGNWM2MlMkZjRTE3dmtRcjJldXBJcWNtdkJ3UjBDVVU4WXFVNE41NFZ6STdUOU14TU1MWk9lbzEydGhFWDY1ajc2Wk54d1BsUnpDQUh0WjJURE9zTVl0SjUzY2tWRWdmREFPamdSbHFnYXBWY2ZuMUFqNmpmcnB5eDh1WHVqTktPMTl0eWR5d0FNajFHWjFqUWpsTXBMbWZITTZIJTJCUUhRODcwSjQ5WjhTa2VkTWVhZ0ElMkZyZDc2ZCUyQmZqTkttTENNOVBidXozMmhPcGxYJTJGczdpQ3pUdTdINEswQ0I2TkFyeHRaTXFhV2JodFBobEhWaTRla21relp2SXhiYjg1aEdrM0h5YTlrbkh3OXBReUVxeTlDZnNKdno5Zk9yRiUyRndlckdYUHAyQkc2b3QwMktKM0pKY21LYVIlMkZwWDdEa3dOdXNPM1h4JTJCSjVZVllZRnE5SWNGR1N6VXp1emV5VWNtc2FwU01XN3pKTCUyQnB3aDlKdFByYXdmTEE4VSUyRjBENnF6NE4yWG1rRWRacWlnWFpkNFQlMkY1aWJVM3ZVbmlKJTJGVWRjWFVZUncwZUlpMHdHY2ZqY1VtJTJGTDRTUWMlMkZIVGE3OWhCczJxamVsQ3VDSVg3SGlLVzZNcUdINzByNnNrSnhmY0NXRjhDTzVsVml0bkVVJTJCR3lITmk0RSUyRkhmQTBYN2VHNGtqWkhpNUR5REU0U3J1MHdvVTBSJTJGTk9FdVRFejhsbkJjQ1FKazI2Q01ZUnJ4Y05ZMXNUeWIzbiUyQjhraVhaZGRhNkY5dEJPdnYxMmxGQ2Q5WFhGeHdZemtTbEFpNXE0U3p0WUdvOGJIM1M3SXdkZ0xLUEdFSUdqcDZ6WEFkVExvY2czaUU1bFBJTk1GYk1hdnBVZ2R6WUJORiUyQndHWENkeGtjQkNETzc5VmdTbkxTQjREYyUyRmp3ZCUyQiUyQm1MQlglMkZIOVhjNVczY245b3dDeHpCVmVBdUFuSVphbGlXMDRKSW5tS0FzRnJNOVVMOSUyQnM1QWFJWm80c053UmpZNnJ3dXhYYVIlMkZiN0JxWXhUUXF6Q2JTN0tzU2lDTjVyY29oTll4V3dHeWRVSk5lOTZPcWVOcEE5cnlNJTJGVlQlMkJEUTRKOFZIemdPRFpBa3VCWVhMTTNzSzN2aFB5UkUlMkY2cnR5diUyQng1Z0ZKUXcyd2YlMkJhaCUyQktsY2xWMW1ZSm1saHFiN2xSSXlEZ3JXSjZRMFdMbTJQdk1OWkcydTR0a1IwWW5hRjVVakc4dDc0OE5adSUyRnhVcVdRSUdIanZJNjNYRndoQlFTVVZ3TEEzSHZIRTJrJTJGOUNlOGhrUDJKYzY2RjJ0NVVrdGVUa2VYREIlMkJSbDBHcmk5NmI0NTB1OG9Bc3NRRyUyRk8xWjdoZE1BWU5kZTglMkZTUmdWbGpIZks2eGRGM25Wd29EazNSQk5oTXpjaXFIdWEzUjY4UEsxUVpVNFRzWU1QVnpvRDUwcDMzYnZxaGhhWiUyQnAwbnFvJTJGRWNQcmxJUUFUSHNDWGJBciUyQiUyQk5MZkswcUU1azNwYlFtb3hsUEs5S1lxZGc4SHVpYmJZczVuNkFLVCUyQndvcVFwWTF1bnklMkZzSkZOYmlNZkxIVmJMSzFpRVQ0JTJGdDJyM3pRSkpHNkp2cjZzalJWc3g4eTJkbTklMkZKenJqZ3pTWnRCRHVsazRmRktRNUdZTUpZRjdadjF1SXlZbmRjc3MyWW52ZVFtUFkyV0xpQ3BTayUyRlJkZDUzajY0NHlOTWFUR1pnNlhmRlB1TFpYTkglMkZMTTRCbXpob3FpbjdrdE5LUE9ITnklMkZFT0FFTndwRm5ZWFB3OEttVjhmdXZ6V3J6TER1S0Q2ZXZFZUx5ZHgxbVQ4dDZKRzF6eWJrdVV5RDAxWnFoMUg3TjcxQzFaOFFiNFByZ290VUZkJTJCcUV3N0RzSkV6THRlclBVempLeTZmNXJGbkVCczRtcmtwMHVSR2lNUDRBNG9ERDlzcWJWbjlQUVZENVZ4WmdSY2ZRUURCJTJGVDhjd2FyS1Q0R0d3OVhNQmFPbHZ4Q1JYU1E1OURwWGFrRXJGM05oemptJTJCeFRlbjIlMkY0ViUyQiUyRkNMRlpZcml4dVFkWTVRdyUyQjlwcnZtJTJGNEFkZzF4MyUyQmZYMW41WSUyQlVuNEIlMkY4USUyQkd5V3FYV2ZyTlVyJTJGalRDc3glMkJjYzZienQxQzQlMkZxRk1OUXZXQjFVRkhyejRxOTZyVUdjWlJuMUolMkZhOGZFSzc4allaJTJGVXNEU3hidnkzem94MjBQSDNOcEtQRSUyRmhhR1d3aUxuaVVHdHNmNyUyRmR5MnU5VTdrcXBzJTJCM01TSmlVb09IaTljb2pCT3NaRGVtc0VkaUVVUW9nQzhKUHlpJTJGa1Z5R3FSMWNVNUNPZWNMOWw1elNONHpQMzNVanpQdkZIVDQ0biUyRjhKTUV0WGZQZ1U1VHlQMDMzaWdwTHh3dTdzQTlBTEV1a0NpZGZiMWhNSWlRTDdWNWJPZEs2ekN4SWJKJTJCb3BJQzBaemFISVozd3l3TVUyeE44Wk9wWUV5OFc0WUVZeFpTaGVPVWhJWWpBSU1WOVRXYU9hMXpIcHlnTUYlMkZzd3ZQUjd4Sk01RjNXUkFqZkJxeDdSbDgzdm5tRmtTam9lUmNJbDFLczNUUXI3QkhyVnBZJTJGajI2aiUyRkxyYlNxcUlkOWlYellwZ3g5ZjVaTG5uJTJCaGdOU2hIS0t5ZGJ2MHlBVmN1dEJUd3h0bGN5TTBRTXE5elBkOW91SDBQTUdFc3I4SFhQcTFNJTJGRVVCQVFYZk82VXNvZlRRWG5wWDlQZldTUjZuMnhjbFdiJTJCWFolMkJpUTNLdW5VcktwZHlMbTVLcCUyQlF2cG53ckNGcTlYbm9nREtObWYzVVBBZ2w5NVRCbGZRcFVxME5JZUU4WUdYZUxHdFlYTEFOSlNQNklIWG13UjNBV1NaZSUyQmh5SmxFelRaaWFPaW1RTXA1WGwlMkYzTkE5Zm9zYzFjemI0azMlMkJvZERFSTN2ZGVFTWN0QW9uemhFWDY3QkVIWiUyRk9keE9IUHBoQ2c1U2gyOG12MTNDMm03M244bE9NemZwQ3E3UmZxRDlUMmJDRFJRNU11dDNISlNRZ0xJRHlidnYzZTdqM1gyd1VnbE5JdGppYk1KRXM1UXZoUVYyNXdvTHlkdHBzckZPa1RibzgyZjhFNFp3RUtjQzJodkN2UFZQbndzV2tldU52T1BETThnUDA2cUR2QUlvcUJwJTJGeG5qR2tQT2xJR0VRZ3E4OXVSaURRb1FwNFdWWSUyRlU5SCUyRlZZVyUyQmozVUNXVGVqM3JYTmEwJTJGcGpPQk1Fc2V2YlAwaDlLM2lSd1VZZXpGZDZxeGE4YW9Ec01MbFA5VU8wNHZ6M2pFZ2FYU0lpMHUyUzI4bURHM2djMU1hclBKVnp6ZDhpMFhTTnN0S283WVlMeHN2cTJOdjk4SU94c3ZheEx1M1VveGp0aFRJb1IwTGpWS2lJZyUyQklnazB0Wmh1S0ZHM2JCaWZiRkhJdzRUZHd6enAxdENhWXU2SDJXTFl2WnpSUkFwaHpvUEFpNnFlaWEydUdtZjFwMGFzaUtwRGZOV01JRk5uYkJ5R3JZZWJ4UEtPa1Z4dXowUHFMU2hYaTR3S2xWNCUyQjNmc3Y4SEo3dXlDN2ZHY3Awb0NpMnhzaHA2UEpwbklRT2VQUWVJTUM5ZmxhWndDJTJCTFlzMk1oVlFHMzFnOVdTTVg3THhQanUyMmpndUdOWDFReiUyRnBiQnUxbjlpcUMxVHVJS0JkOTlkSUVSYyUyRnRVZHMzRzdka00zamtFYlA4Q2olMkJJbHk3SmtneEtGd0hrVFdQVWRSRlFhUEo2SnI3VDdzRG0yZkJ2VDdmQ1FvbHpLcjhaTTNUaEt0Q2U0T3J2ZTVjaVg5YkFsSzhlYjNMdFRQMDdFRjhGJTJGSUFYeVA1Q3ZYU2Q0T2J5MHdhQ2VOaFZwUE10ZTJwQjNzcFdIczh0dGpNMUNZSWxZYUVLUWR3bXBDJTJGaTM3YjNJS0RzaWFZVkh0aGJqcWg4SkRHbFo2elQ0SDA0a3JZVnM5bW41UmFjeUxMTUs3cjNVM3ZzYlg3WTU5JTJGVmZmQjNtUWRtM3Z6V3NYbkIzQjIwQUl1WXlpUXFxVG9nOVFTdDBOY0toaUhDa2wlMkZxcm9Yc2RMRFVFbGNJVzZCNjNSN3hhTlJ0NzZWd21KZlFMb0FFdmhhMkpnSTcyVXBsZUNFSmhjelA1OFhKTHQySyUyQjRjb1JLclM5OWw5Q1BJaE5ZeEcwSlAlMkJHbEk0JTJGVVRrMldXZVdXZ3dNWVdmMzNXayUyRnpFRWdmdU9yMDMyd01TQ3JvNWFyVkVpTDRoJTJCMnVwSjBPNndhOEkzOGpBWXZIeHU5Z1NGbU1sMDlCd2phVzFQaGsyZE9lNnpzN2Z6JTJGRnJDU2NTMnFqT1l1VmVOcHNmcjBCNSUyQnMxOXZnOEJocWR5R010YzB6QWlIMDMzMzFwUms2UGVsWG1aWkNWclhZVUVlMTgwUzhzN05xc0pOdmFTMzdMdHBWREJlNE5RSTRPS055YXJnVW9mJTJGNk9XSlFaVWhoQk56bnYlMkJITzFCZUZpbVJ5MnQxS0h1NHF6MjJNZmFvJTJGOVpDbjZmYyUyQmtaemdNZ0RvSWhpSiUyQnNqTDdpcmJnaTZuMWl6M1YyNEI0N3haQ2pyS3k4ejNJc0oxZzRuZ2pLeVRyUXRZalZLS1duSmVmZGpzJTJCSjlUS0tXWnpNenZJclY1VCUyQlUzcDRuVm1KMUlrZkJCRzFRTzllN0FMUUJhZGpoNjB2bW1QeDV4T2N3dVd3M1glMkJzQmNDQmhyck1aMkY3JTJCYWVYNmd4aVNRMmZXWHFYMVV6eGdXNFAwSDJtMDlyWVMwZERudDNHSjVGVHJWQmRkY0wwSnB4V1BuZkdUdlpnTEdQS0hzM1lpUHNRbGJHUVNaYldPdDZIUE9Wa3Fwd3RTQjF4TyUyQjBKWExBY1lpQklSNHNaUzVycTU3dWIzV3haS296OGJ0RGxwV211ZG5qQVBadFAlMkJ2Tmtmb2FBYm1iSW1FeHBJVXJObzdEUHhGQ2ZQVUcxTmR2QVpDclNVNHRZOGppS09aQklnTDgzRmFGYUpnc0N3dmVKanQ3ZWhpJTJCWHNJT1RLRGxyYUwlMkZ5T2pWUEtvRG94UldjdTRSMCUyRmVBbjBXMFV6YzRRMUwlMkJBc1hFV0c2VXlmS2JBJTJGR0gzY0FXYXU2TDFYazhhU1ltMjd6ekF1SE54JTJGbDBSME9RcVIxY09xdGxtYjQyU0VyNnNTSjhXOTZveTNtaFhTVGZQRG94NFVRV0xDM04lMkJSSnZESFlvN3EzJTJCdEZvUnRmZzVQdmRIc3puYnNubjhsYmNsc21RcmtPOXR2WGFkZ0N3RnVRRThsSGdLS09IUEZDTjglMkZ1R0JlJTJGJTJCYUlTcjI2ck5obzZXZjJldU0wQnU0JTJGZ0xvb09lJTJGaEcxc2xOMyUyQkVjTWFvaUFqQWc0VHZ1ZjNhQjdUQWZuTlhFQ2JkdjFzZHJpbjRpUyUyRmg2OExCOEVEczclMkJta3JDdGllb2RIeEJ6M2NIZjc3UUVSeTQzbDZrWDZheE8weFU2NSUyRmZHaCUyRjNhQnVhM3FXYzBKSnl0OEx4VEUzMmphbzNEUk5iOVFoVnhrdmM4MlJzOWpSeGwxYWhCaHNYV3Qyd0s5VDYlMkJ1WnVwWWpnSkslMkY2aXBPOENiVkV6aUZmazNNbTZsR0pCWTk5RWxwJTJGYmFSVXdQZFRDeWJHbHdKZXB5VEE5Sk1RMUE1Y0J1d1p3JTJCR2RXYXVNRTlPejk3ZkpnRndPa2NZd2NVZmc4czVGaXh3JTJCZjAzdUNWbzFqU1kxbHklMkY1VDNGS2NzVzQ0dW5nUExackFNbXZGMmVGUHVSMHZLT2dBNHU2JTJGQzVtZEhGbklGazVuQkdPV2xNWE9PQzc3TjFYdEFUZ2JLNTBGRVdYTVJoNyUyRno5VW5zczM1Y0daUW10cjR3bXJYNnQ3M0F6anJXMnIlMkZWcDFOYlJlcGxxJTJCU2klMkZOc1hWU0RCMWJlViUyRlo1UFBhTExQZGs3OVA1d0prQ0dTTlhxZjAlMkJhMHJIbnZtM3BhTjBBMmF5ZEhwNFpFblRLeFduTFBxQ01zTTBrSSUyQkozanNJRW9Fak9lOGQ2bVFHbmolMkJGNWRxNUNLU1NIZWQ1THl1Q0JqeHExMjFkOXhkemZWZUFSRFhGazY5Y3lxUU1tbUhBR1FQT0tKMjdxcHIzWCUyRkFsemNqOExWc2tuSG9ITDFQMEF0bUtoM2s1TFA2Slgxcjc4RWtNR1BTc1RXTDJwJTJGT3QwMXpLU0tqZCUyQnF3emJGQ3NuJTJGYkwlMkZraklSejZEZ3l5YXolMkIzU0dIZFpaNUJsWVhtY1NrSkdwSWdmQlBwSWttSDZwOXRmamI0cGhLaWdUNEZXYVBKNnpiSm1SUkdhNUNQdmE4am5BSlFFU29JTkRodnRVYU15cFBhbG91NDhUQTZVNWx2QVVEcXZHWlNHYXhGU1NLWnUyaW1JTEF0ciUyRm5TbEdmQXZVYkdJQ3gweloxN25HZEwwRzRjVUFVNFRtN2ZBOHhwSjUlMkJTTElndSUyRkhNcnZMaG9DV2tsMjhOUldCaVd5VjE3NEdEbDAwekJkUktFcUZjVnhGOFM4VHVzT21SUGRFcHYyb2o4N2JPR1gyMVNtOHF6NG52JTJCQ0FFbHA5TEJrb3AybmZJdzNTSDNrVEFoZmI2TlRyYWpHWmhnRGlrZkRuVUJ6dDJlJTJCJTJGUDZqbDgzRXQ4ZUdBUUdlR05ROEVlMzB0eFFRZlh4RGlMNTIxelRxNm9PQmdkN3JNWWg1VWpJeGw1RjBrRmlEdnRPbFIwb3N2cXBoRGNxbnNZV3JLcDBUVUpQZkRmQlQ2cFh0cjc2OFlOaFprSHN3NlolMkZhY0xEbjFzN3JJJTJCaHhJa3MyRTV6NG45cnklMkJ0akRBSjJyVUhONmJsaHpLbm5QS0lMVXBIY1NLUTI0blV5aVJRYmFQSUw5JTJCN3BWN0hsQXk5NWNYSmpJWVFrNXVrZUc4NG5nQ3RSaGpXcTROJTJCMTFHeG5NbGpYUHFIdlJ6d0ZTSlpjbE8xbDJRaGhIUU5BSFglMkJKMzhWTFBFbFB5UHQzdXhLMXc3JTJGMFgxejVJOWtVb3F5Snp2SDB2UEJYdyUyQmJKa1R2MjMlMkI4M0tjZzZWN1k4elhSV2NuVjFlT3Z0WG92ZmwlMkJBY2pzWDVRZ05IZ0F4aXQlMkY5eFJleU5pS25WWmFuV3cxdkclMkJ3dVJVdk1IelN6QkV0Rk1kem1OV0R3TjN6a3hscnRWWTE5SnJ5V3I2ZW95RWJMOGZ6Ym12WGZ1QVc3R0UxS3BicjRjMSUyQlYwc3RHY2slMkI0REpPRzJBJTJCRm15bTM5TEkzakxOWnJpZVE4TzJ2TENWVjRIMCUyRjdWVk1hbiUyQm5kUGo2SXNJMDl5RmF4RW0lMkZHMUZydXU3QnpHa1poUzVUNExBNTRPd29qWVJkekdQREJ5WXhCdzFBeElkTFBTbG80YTNHd3RHYXdzZEJmY3JUWmxsb1Zla3dZZUhzbzlEU0llcnRrcnJvWkdaUE5BMCUyQlZLMDdEOWk5JTJCY3lLendQbGVEbmF5UTZUZ1FWV0VhSzZxcDFrb3owNCUyRmhoTE4xOWRlUGtGUTl2YlAzRlU4NFJnTDIxM0dzaVA5YTUyUCUyRm5ETDdDUFdyeXdSeDdCUUFwdFNIVXlIQ1pWR20lMkZSVFNsbjVvTFQlMkZKWXRlRyUyRmcxTHMlMkY2a001VzNWSjlVaXIlMkZNVXJOc2gwUWYycnNnUjMlMkYwbiUyQnFTY3FWRzVKWFB4TlZ4VHNQZkZwa0szNTk3TmxNV0pCU0slMkJiZEpDUTV5N0ZZeTglMkJUcUxaVUI5amlTeEFMJTJCMlJuME51Rm9oa1N2JTJCJTJCamN6czBDa3ZzOEFaU2h1d3lMUiUyRmtuejFhTlRuJTJGVlo5NlprVURXdFJzeENSa2dRMFdZYmF4YlJqVVpOSjZKJTJGeXpEWkdQNiUyRlhsZFZjTjhRcE4wJTJGMldXOTZjeTklMkZld0h4NGl2MFVWbUNqciUyQlZxdkxmNEhZZHJEcFExSVRMbGxCYldVJTJCRklSR1hiZ3Z3bTUxUkhlWHRkUzlrcHo2JTJGSCUyRjRsb2tFTDRib1hWQnNZWDVxMkxyJTJGWGpZbDBVVGxNTkN5R1dLJTJCWE5MU1duMUlJRXhsUEJaZjBpdTdBM0ludjk3SjFPZXZuakFDdERNNUFiWk1SRSUyQk9PazMyaTBUUHBBSjNpd0dGR0tEdk83U2EzclpXcjNnejFnTXRhdDRNZkpEbk0zTDRIUVBHMSUyQjhldkk0cFlXUmZyeGVNbE8lMkYlMkZ5U0dnNlNlbjgyZjBRSDYwUUVhSzVJTXl3aWlKMnR3QjR1TlFuTVVhT2UzZ1B5R054eWpYQmI3OTdXUnQ2YkROZDJxVW1uZFlaMzNLa3plakxISUtUTzJsTiUyRnJjWWtoS2ZycE5kVzVjbDk2ejZmN0VHU29KN0w0dEJKZUNuU2J1WkxranRFbmpUMHMxTWpKdnJLb2lVSkcwV2VsQWNXWE1vazRoOW03bXdua0lMeWxyJTJCdldhJTJGVXUlMkJMY3ZsJTJCd1hDWll5MkJralpJOVRSTnd0NHpZenhKNXJ1NEc2ekdiSiUyRnBzcHJ6ME1oaWtSTmhtZHY3TDczd3JDcFlLNVUzbjVXT2F6M2hIM0JoM3ZiS21ZT1NTSzB4MXFiWklDMUhha1E0cnU4SVl6M0YxJTJGVG5paEElMkJ4NnZ1R1Z1NTZtMXZrekZBTnZjbSUyQnBDYXdCSXgycGVTOE9ZSXZRY2dvSDY0WiUyRjY3cm9TektIZU5sZWtnN1YlMkZhQ2dxU1BZS0I4aSUyQjhzRXlTNENVUTU0TW5XRGtmN0cwZ1NRb1psMlFubG5GYkhoUzg1OHN4ZHBxQTNXcjZ0cEV2ZiUyRnVuN2MlMkJGcFMxJTJCd2R3JTJCVGFYMGdDOUhMbW1uSm1TdlJWWGVndlViOVYwMGg5UDZmM0s5dW9pJTJCOEtiN0NLaTY1ZSUyQkJVcDI1U2RSR1N6ZEVoWU1WcUx3aCUyRkVUaVdENzNrN25vdEd3WTB1NG1NNVNaZnM2cjhWMmt1N2t3NFlNVTBRJTJGbll0bjJmeUNnTTd0b1RqZnVBS05UMnolMkJEQzJvJTJCMnpTejNjSlZzcmNNS29KS3JiVmVBV2xEUFUwb3dQdlNIbnl6V3poa0tCdEhneFpwNlRuMjZ0aFV3U2gyRmw3S3JoaGEySERLbnBLWHZ3Q3dMdm90YjA2T0RzMEVBc0xLSjJET1dYRDE0YnF5ajN0MWR5JTJCWllyUWg5WG4lMkZiRFlCd1RwQmJVanFlU2wyRHY5RjNLTmgzaSUyRjlwJTJCTHVMJTJCNjEya2lxJTJCSSUyQk1CMVoyaE1VaUJiazglMkJKZmFWZHdtazJnaGlRYTIwd2FPMzZCZERoMU1QUXZDcU9uWEtRdTJHN1ZWZ0l6YTV0SWV5RlF1ZCUyQmZzbiUyRjJpNXR2JTJGYXQlMkZPM0J2YUxqNDBySUZYZVR0Y3RRd2NEcXJ3OE5DdmRnU3RHU1huQ2VWRUY5JTJGVzklMkYlMkJIdGhTZ04lMkYwV0pjaE1WY0VyT0olMkZpcyUyRkt0Q2xocyUyQjBoWklRSk0yYiUyQlRmR0lEZHBFdHhHckxwc3ZzenZ2JTJCVjdKdlE0dWhHSGpCa0JjNGpRN3dCR0RtN3I0Y1dOTUtpaDd3ZSUyQjdlcWZSMDk5biUyRmU0OGMzSGVSNkdZMnZaNkxGR3QlMkY3TFc3b0FFVm1XVCUyQkJtSU9mazcxMUhwJTJGY3c1N2xFRmZvcjdmVTNYbjdyVE1KUCUyRk04N0JleUxoOGhINVVwNjJkTG5kUUl3aG5Pek9HQ1Y1ek5lJTJCcEZqWmg2TSUyRjF1SlhaYWdDcDJ5cUtMTmdOZ1hvTjlseFNhcXNBNDhIa3ElMkJaQ0QxeEdISUJYQ0RtbFJMUHglMkJQQXZ0dE5aUGVHVWJ3TmEyRlhqVFZ0WWlVbHNxaXdvVzNKYWVKSUZDODkyVDNNWXVuR0huUDElMkJ1Wmhmb0tCWDJsVWo0UlF3WDhzTXByMkdyeUZIZWdwJTJCWjVxdjdxa3MyQUxDaWNjbkhsVHd4bkYyJTJGMEhXVFkzOGlSZGFpSU5pSUczTHE1Yjhaa0JYdUVrZjhrQ1pKUXdNU1AxUk5oOSUyRjNva1ZSb2plVWhUUUVCQ0NpQ2RKUEtvenZ2U2FQbFYlMkJCU0drR3pGalByVER1emhjbXdubyUyQjhrSG80cDdGYUJWVWklMkZXZFglMkZrZDJDSDFTc0xjbVg1eVFZTXBkeGdHWk9NNmJxTmJZZ3RxQ3ZlZnc5MnVKRk11QXZVRnpXUnFIeGV6OEVNNnZkNExrRTlpbFpYRmp6ZHVJTkJIOVhLVmNpa21pMG55YUtUUkhZamVCT2hVOTlRNEhsVnhUdUc5JTJGUXZadlM1RzJTJTJGb3JPcXh1YVFHY0hVank2Y20lMkZPa3Y2Y3Y0WTUzUHJyWnh5eWIxYXk4NFdLU015UURvVHg3bXlWOGkyZ0xtJTJCZ0g5RG5EalQzcjBMUXFtdHU3MDBpbHBDT0o5cnY3YjNTcGRhcW81bGpja0NLN2dqWjU4aVp0ZTJiNXRTaHYlMkJmaXNqc05qM2lxJTJCZWFuVE5maFNyZXh6aVhuUzVwNCUyRjZTNVc1bWZ3ZlV2TnVaREJGazRJNTVTbFU1S2F0YnAxT3VvSnhlMDA4TjUwVFpPdnpVR240YUI3TWhEc0twREhkd1ZPMWpqRlg2JTJGdCUyQjI3d2xraHFseDVIVzdCZUQlMkZjNXlUTnphSGNvSCUyRjdNU1UyeWowcld5MnZxeXd5MTdwSmUlMkJwS1h4WWtSUkglMkJZbUtndzIwckY3WE1LVElnSlpFVmJWaUUlMkYlMkY0eGdXJTJGWXFFUDhwMEhyVVUlMkZJdXAyVzhQTG04aTJPVWhxMSUyRnhscVNRTHozUFpLdUlVb1ZlSGYlMkZUZ3lQVXhkV1JiMW1EVlFJWjNTOFlmSXZDdFhPSUdUTjBwaG96a2FaNkk1NGNOeUUlMkJzJTJCZjEzaGNENkljQjdvRGRhRGlMemVURmV6JTJCa3dFdkIlMkZURkwlMkZpaEhVRFAlMkZuUFhVJTJCRHppU2JIUDdhNW1tT3B0bEhSZzNKWFQxM2glMkJEMEJ4U1F6SDhiNHFscU1JTUxROTI3dVpUYVZmNCUyRlJnbVM5WHJSdmF3cEJwZmNJcmw0NUFXaXFreXZNSGFrZ3c5MTBXSHFva1psRDlFbjJwR0UwU0tsS1dET2N1SzduQ3FYVjdGOEhhT2k4b0pPdGdxNVA3UE4yZHdyJTJGJTJGWkQ0U3puSXVwMDhWWFNKYXowWjkySjNEQlMwTkZIeVZTRnVWWHlaRmFmMFRsJTJCRERJSSUyQktPNjNDMiUyRjNOcTdrSE1LZ2JLdks1cjZ6SnNMWVNsdTFlNlU4N1lhMEJESXpqOEZwcjJWR0FKSWpHVlN5NHo5MVVzcjIlMkZIMmZxSHZUQU9QNldtVkNzaEluM0VIZVlSJTJCS1BtdVNuakF1eTJpb2RpNUpKNzV6WWkxRlpaWUxMbkhWOWVtYjR3TldqMzU4ZGtwJTJCV0lqcmU2REpaJTJCVE5RTmZFcWVYdVglMkZZd2FaMld4U3h0bk8wenpMYTFMeWlZZXpBQ1ExJTJGNk5QZHFzOGpKbFQlMkZPZ3ZXS2RZUE1QbnJNcDQlMkZ1YlI0VyUyRjRCdTNCN0dXblZDS1RFTHlMb1NVUkNMUWxzQVB6aFZFUlhJVlQ4aSUyQjQlMkJFdVpGTU5oZUQlMkJ2N2slMkJId3BVUEluZDhDVmxJUjU5UlhFYW1YcjhldDM1Q3ZYcVlqTnVlcDMxaHl1S3JMeHU1WERjdjVKUjQzMndoMG9GaiUyQm5QUkM0Z1lsMjliZ0U2Y2lqbjd1NGRZSXZadGk0N1o0Mm1uJTJCTmtIQU1EQ0dTMm5jd2Zta3pQeWNCaE82eERZdkw1NUp2bVYzdCUyQiUyQnl1anpaNTlod3NwNkZQV0RUbmtpVEl6TENyJTJCdFcxRjNMdUplZ0VZRVdsSUdnMktOMHF3WGtoRUQ5Nm9oNmlodlZhQThodkxuOXdhVnA4akNNbnhsaUU3d2xWZVhkajllJTJGT0tETXU3ejZuSXFXQSUyQmRnQ0xOZFBFUzJIRURLUXg0dnJMU3pkbyUyQlNxMWg4ZnI4N2ZnTjFxSlJ2WUJ1NXRIMERHOHRMT3J3NXVwdmtkb3VTZHpsV2Q5dktxcVMlMkZjeWFWc2F2dk5wJTJGaU5Kem45cXlvWVAxMkQ1ZFc3N0J2SCUyQmFKWFBNJTJGa3lEYktBZGluU0lsT3JBSGZ1cFYlMkJWOW1hVGNEaHhjaW9aM2FzNzdkcE90Y0NyN2w4YlFvNzAzTzhmZ2QwVVltUFV4NSUyRmdWdEFuRmd0UUVlWVd4Q1VaRnY4JTJGUmlmJTJGaUNERU16UUh4RXlKVCUyQmYlMkZsMjJuT29USnRBU01zMGhCeE16U3RJJTJCRWZEMDRjdmhRWlRtcE52dkxJWEc3UmtzYzJvZHQlMkJRJTJGdWRuNVI0ckp0OG4zWDg4dG9PYTZpQkJsbW5rUEhOc2VZMElwVEFMTmZtJTJCdGhlaW1QMkowNGdkJTJGbTI3ZnYxd1FRc2ZKUTNQbG13aGtOR0hCbTRmaXMlMkZyT2lCaSUyQkV5c3ZjOUR4T0JJU1ZwRWVCeDVvVEI5Z2dSbkI2RTlSNjJ3Qk12VFBrTGs4akI5SjR5bDAzc1RaYXdNc2trRzBOamNHSyUyQiUyQlVQUTZQaU9GTkRMeHFjbzFaUVlia2o4a3ZFUktjc0MyamlqQ0JUNW5FeXRiMmIwdDRwUlZBdzZvc2RaU1dSZXdpRnlKSDRST3NYSDJKSXF0bkVjNlJ6UTZUVEVNNFhUY09WUXhlTU5sN2xnVDNHY2hXVU9pV1lVTm80ZGVTJTJCdWNQZU1NQTNtdnoyajJzMkdBS0owb01FUlZKekVVQWdHV0NMSlh1ODZyWkhuJTJCQ0FnaiUyRmZ2UUFEaUppRE5sOU11OSUyQmRtNWNxeFZYeng5M3d0RUZ5d05ncyUyQlZ4RXdhSkZzTFhSalpQaVREOHlVT3E0STh3WVVSSFZidDN1ODVxZVBxVkgxOUJ3dWVUbFM4UyUyQnFPSVZod0Y5WE9jUEMyNzFqOG1IQ3J4Qm95aUxBUU5wS2FoOHVCZHAxaUFEdnZ4blc0Z2c1YnVUJTJGVSUyRmxOemZSRFdnemNvbEh0bVA0MyUyRlFnJTJCZnpsJTJGTU5mZmNUWHA2ckh6S2YzJTJGMkh1UEpkbVZKVW53YTJZZjRNQVNuSE9PSFhpQVJvQ1RyMjk0NUMzU2I2cExaak5TbTc3bnlMa3NNOUxoYmtUVnpGenhyVXVBcTV5JTJCQmtjanpPQVB6dUJzVUkyakhUTDZnVnhRVmdkRmRTVFZRTkNxamdkNGZOR1JiamNtTkxuNUFKJTJCUVklMkJGSTMyMEs3NGRWbVh4dmdCeEU5UWU3bSUyQlRoMU5KSk82aDFQJTJGdTNZY3pjbW1HUzh1Q3pXdUk3dks3YTFzQUlTQUFra2FoRHFDWmMlMkJsTEhTMUxuJTJCMWQlMkJjcTEycEdLV1ZQbWxmYUp6amg4U3ZJSG4zTiUyQnFSRCUyQmNmd01YNlhZWTJSOXdDMHlFSXc1OWglMkJHVTdGJTJCJTJGaDUlMkZnaVozZXFJRFU4VTYxUGJ4TUg0Uk94cXYlMkZxU1M1SkExd3FPVFg2MTVUZmsyJTJGVm9JandZMGVMYnMzNHNXZE5KTWNZS3RwRVR1ZnIlMkJISU5VWld1c0JjS05UcGFmOXNPdjlFcXBwRzZOOTluM1NFYVJKJTJCOEclMkZua0VvR1ZVMyUyQnRrT0Flb3RORDZCcCUyRmREUUUlMkI0am1WazlwaGdFTEhreW1sVmJmVUNocDY0NVlmYjRySVR1Qk1wdXZCTjQ2QzZiJTJGeFRyYldQQmkyNEhwYk1XMnAlMkJFVTExSkg5NjlPRTdka3g1WlpOVkliZ3lrU1BwQ3FTd3hvU05KSjNnNDBGWiUyQnJUTXNlM3EyN3hGTnZnRUo2UExMT2p5VVo1JTJGbzZRSVVXNVRBaiUyQkcwRmtrZmVkbE9FN0Z1QTQ3eWN3NndVVEdIQWRFMkRrRFhnTTkwQU9JRmhGcmtTdEZJRFd4RXp1cjM4VGl0eUNoNHI5QXlTbHdsejFhRzJSdFBLSVhCZGljQnVPVmFMdmxWdlFmUSUyRnQ4T0tSTTJHazBoTUdlMkQwak5iU254JTJCelJYQm5PYlJrcjlwcyUyQmFUJTJCMDhISU5xZmtiT3BDWHpSdmtYelhJZSUyQnV6bUtTckZZNVdvczNWNXVubVFrRFhiczRNNXR4JTJGVGJwQjZSb1NqM01xQ2RIaVlZb01veGpUV1REbyUyQnNPOXJ6NGdQNjU3MDBKczJRJTJCV0VnUHlRRENpYmZHJTJCVllCeUhubWpyNUZENFI5UHRaMmtZRFdZbno3NFkwbDFHTzZONGRjVnN5VnRCUHFnMiUyQkYyJTJCbXJKWE84Y3N3aFVFMGtUV0syNGtwMUVScGdRWCUyQjd0c0glMkY2OHF6cDZ3RjVlMU9FT1dWWURKNFlYdmZ2RUd1UjElMkZVOE5oZ2ZqTGNSSGdyU1N6aDVvbFVXdmNYZkRDc3ZIbzkzTVh6aDlWJTJCZ0FVdCUyQlp0T1BzZVVYN0libzBSekVlazZCNiUyRjJReG9oJTJGTjY3MVdCSTVxUVJaZVBFa2clMkJzNFd0dWxmTHlKSUhnJTJCTHdaeEJia3NRJTJCZUhxcnNucjhKQ3F0NkZjb2FSS0YlMkZWdERxemdyZkRmY092cSUyRmpkNTYzOVRZdlBBb05mQmglMkJlOHFGTiUyRmI5VUJOTzhZeGZFeGZ1NlV1cTZCNkIlMkY0emZ3ak1sak9hM24lMkJINFVLb1glMkJYUHh4T3Nmd001VG8lMkZlJTJGajY1eHZRZndRVCUyRjAweDhwOSUyRlBmNURmaEdoJTJGdEV1ZlA4bjZVVVklMkYlMkJjJTJGcHY5SVB0YiUyRiUyRnNuJTJGb1lvSWNNT2ZNT0olMkZMWktJJTJGRiUyQlJ4UDhSa2NSRDZQNURKTEZBM241U0FTUkJWbVhoMXVTNnNyWnRNNjd0VFMyenpkc1dUMEppNiUyRlFtcXl5NnpkTU1JT20yNFNSVjdQZzYyOW1uVVdzNW5LYmxrNUlDTyUyRkhqeDJFWnVxYmZUJTJCajJiQjdSJTJGbnozMjNoR3NoVnZ1aCUyQnd4Z1dOZGlRb01ITFdWYyUyQnNsdnlnc1B1MlN1Y0I3UEVCNkZaanI0Y0ptT0YzdkM1NkVJSDd6T3I1dUpOb2tzdERhSUQ3cUJjb2g3M2JuZjdlNW90SnB2NHZyJTJCOUxKcDNFVWp5OHNsVSUyRmw5OHJkaFY0VVFvVGFhMiUyQnVaT3MlMkJFNjVTa0xLSDN4NWZYUyUyQjZBdUVTNGxUZFAlMkY3bjZQSkxCQlVQSnRsQmlXbW1QamYxa1pQRUxVa2xJWEFJU0hwZWhyblUlMkJRS2FOTXFKSG1CYm9GZlp0JTJGaHFwc3c0eDZNZHo2cnV6NlFHbDNNRktCcmpSYlA0UTJZMzBIUyUyRnVXNEhqJTJCUldPSG5aeVc2UUg5bzBVajNBJTJGazBKU1VpMWZERE9jJTJGdiUyQktGZEQyRE1CS0MxQVJOZ0xVbGdlMzc0SWlsSDhTNCUyRk9BcmtPd1F2TGdjcldCS2tlTCUyQmUxUVR2Q085VEszOXlpSjZuNkxHZ05WdDNDdThRR0pTSHBEN1hIc2g4Y2ZrRnpJUlhETm5DNXJxNG5qVkhJaThjSDRBZnh2QUpoQWhsZVYlMkZDaUVtMnc2S0xzUEo5ZFFIdFJaZ25wTTNPR25TRjhNRVVSVTNnb01UVEpVNFRGVjBLdnNqakdGVmRJYTdkMDBnZmZuRkk1V2dKWnlHUmFjbURrTDlyNzJUWHpMQTBJVDFOcm9WV1RxbjFtd05wMTdiMk5wd3ljd01yeGx5bnNzczVpTEZjWVUwMGRkSjdUb2REWmM0QjJLVGtqUiUyQkN3bzluWlY0RmUlMkZiWGpCWXJ1bDBpYUo5RE5xS2dZZFRZYjVIdmZGSVprcHZZOTNvanBOMUJnNTBYN2VicWVZYTJCYW0lMkI1WlolMkZJSXJMJTJCNTNYNWE5R1h3ak42Z3doa2MxYlkwcW4lMkZZUndFcmV5OHhZUzVkTDZaTkslMkJTSVBNeTVPeU1seWQzcTMxV29OSTkwam9aV0x5ZWU2TllKRmtUWDRZS2NoODQ4WG9zWHdwSzhqYjE4MFNiemJ3RnZvJTJCT0s4WlFMdkE3WDNpSVY2c2hKaGglMkJOayUyRlluUEVTTEp0ZHprZmw3VUQwSkNYSTRLSlZVWWE5JTJGTm9iRU05cTFibkxhQUNIME40czZNelhqRDZjVXMlMkY1VU50TmtiVXFENHRGeWhGdzZQWWtXSW9aT3F1aHlvTHVWZG11R2JVd1FCYVF2RmolMkZWNVNheTdUOEEzcE0yTXMlMkJNcEd2YlJLMEQ2YkRYeGMlMkJQSSUyQjclMkZUT01Xd1dyd2dkNzQlMkZtVmM4TEZ5THZqeXVSbWM4QUNqSyUyQktSRkxGak5uVng4cUR0bGFYemIzbUF0NiUyRmNWR0RRSk5PU05taUdOUlA2VUtwOVh2c3J2ZkdHUVFmdUhQMU1NMHNFd21IJTJCYzVmeXglMkJNanNvNENFYmtyMFB2bjF1YndRSVRjNE5xdGVpbG1wckIwNFN1RVpJcHpmbWt0ZmRHS0JnTGZnMSUyRjhaTlBsd29HZ1hDc0lBN01kQUhTRWhPVXZPTlozd21SbzJVYWp1Z0M0UUNGcG1CQVBOSzR6ZW9sQXNmTDNqTExGZFk0VVBId1A5T240alN4VEdDaHNCcGtvWWZhTHhUMDBrNzA5dURqTnBxbVR6SThpRHNxY0lSUDZGRnB4dnRaWmdLcjBsYW1LaFE3NUppcUVQdVF1S2VXT3FwUnQlMkZmbXRPTUpiZmlRQjQya1l0czI2am5EYlV2eGFBREczSkgybiUyRlJWS3lvNCUyRmpsUmtwNFR5eDdIdERIWnhZb2d2eWJHalRQY3A3VFRJQ3ZTbUFBanFqTE1zckVRSUxHMzQzOG1hYTZVSHhuWFg2ZjM3ZmJoUnolMkJUamE3VTdrblRFWnRYJTJGY0JWdmo3Q3huUEJZWmV6VThvcFJlRllncnk5clVCJTJCMmp2NkdWMzMlMkJ5ZHNlVnBwaTNwUExFRWQ5eGxRQXc4NFpJeG9jRE8lMkJxY1dWNW1JS3ZIckZtSTdZbSUyQlklMkJMeGtEM0gyckNsRWNLT3R2dUlWdzdlVm9XQXpBZTMybVdkNW15M1FZYnBUJTJGbWlXS0p4ekVQNnlGSG5QWlp4bDNST1RzZmtKMHJRamQ5UTNHTHh0RXFBU3laYW1zcWhiSDg5a1clMkJhdWYySjVQN3hEbVg0c1M4d3pIdzFlU1JsMVdqSVIlMkJWMUElMkI5eElSSyUyQiUyRjFpZkdmMGY4b1RQQyUyQjlOWURJJTJGY0dSbER0QlJzeDhNOEdNVXR3VHhJb1d0ciUyQkpndUNWeGtzYlgyaVJqWXVVdEd4UjE0WWZLQUR6VCUyQnNNRGpDTVo1NlR5Slh3Y2R4c0xoNTJSSUJUVnFmbmtjZW9LbE1iNEM2Zkwyd3Z0RkclMkZKOSUyQm5KUFJ0Rk00aXh6YXQ5WGRwUXRpUlNIQWRpeW01bVlBcDQ0bG9OR2t1dXAlMkYlMkZ6WUc3R2RLMTE2eVloVFBpYnVYNHR0UEIxZVVmczhleWlVOVVraERScmc0JTJGNHZKUmY3aloxelFuWlZ6SzJ2TXprcVl2SGhKM010aVIlMkYzY1gyOWVRY3RDUjdyZ0c5TzU4UDJnTzEwQ1ByRXhvMms4REZlbmlmcUV6dHNKRzJldWpyVFM1eEclMkJKQiUyRkk5d1hZaHhxWHpTdzYlMkJMREM4Tm0xS2JPOTE5aDJ3MWQ1QjklMkJES2NqdVgyaUI2UnViUGlBWW1GZ1ZMMmFJUFRkUWVPTEVnMGFlNCUyQmdQTHQlMkJrR3JYU3ZORmpDTWlZMzJyZHQzUEF0OGQyM0ZCcm5CbEpZVnRmJTJGc2ZPck0wYWxUSFJSJTJCSEtKSG9QVml6R295JTJGQUljVWZWdVFXVlhmeWslMkJqMU1oNmZETUtFSndha2VOaFplRHpXWWVwVjlEQVREeUhyOENsd2NaZUJ0RkZ5emElMkJSSzhuckNkMnI5bnhibHNMaW12MVc1dExGaVFHbHpySkhrNTVTV1VwQmlKNHB1UlE5RjUlMkZUUVpaZGVqSU45WFBKS0gzZEFMS2xCcWJtN1RFODBGb21GMWElMkJEdlJKRCUyQmVyd3dDelZYMXl6Y0pmWiUyRlZmam5MTlM2SlpEb0F5OEk5UXd2RkJ6V3RvY3hPUjhkd2J6SmNNNUtVVnlrWUtQeW1PYVVKVCUyRnhWWmlFcHglMkY2ZFBsN2hNZ094aSUyRm9Hc052NFBqQTg2Yk40OGMwQjJsblJzdTR3NW1WJTJCaFRNSWpweUJ3M2dJJTJGWW51V2s2d2F5dmVVcHZUY253d2dvUnVxSyUyQm9qUWJRMGNTTUdjdUFaS21Ga0sxM0U2U1RtV0FVOSUyRnpXV3ZJRTdNdHdKMzdCOVkzNG5nbE9EYnVWclZxWG1aNlpvcmNMdlZ1dG80T0daZjNIeTFqQUVaR1VMSURlQW9Tb3J3bEtFTzdFeklLczF1eG5RejFLNUt6c0txYzhLNzVqS0R3UWdXZ3Q4N29oMm9FZnJINjl3aTdHaFJWQ1p6bDRDNHFBU1Q4SnJuWFV0YTBON3VNbXR2bkJ5NFg1Q2ltV0gzWkVrbmlpYThXQjNxWHhzWTJTVkp0cHJRV2NIZ3olMkJLOEpPRmNWTWdMOG5rQm5vSkdZbXVwRnRsa2VsdWRZeW1nY1VSeExmVkY2TiUyRkl0OFZjaTMlMkYlMkZLcVZoZ2hPVWdnUkpZWXlBZiUyQlMwSm5uJTJGM2dJJTJGYUFVTCUyRkVEdVpyODVkVEplbWNMcElGZndONnRrelV4Tmh0YXRlQWN1OURXemtyZ2dZdVNqZHhmQ0tYJTJCUVE5Yk9LeEZCbSUyRkMlMkZ5Q0xUbCUyRkl0N0J2dXI0TGU4Q25jQk13R1o3d1NKM1k4a29RNzJ6dE84R0IlMkIyMXolMkJxWHNxdXBzaUlXZlpJRURMd3glMkZvcDhlUDBQTE0lMkYzUkc5TGRsOW5GSmZsV2cyJTJGemRidm5mRVZQcTI1dTVhTEIwRFV3RkdnUyUyRmklMkJPSEllMktDbllCQ01OaWVBd21FYUpuWmlpNGVjaEw1amh1JTJGblJLUHJJZEdnam1uQTBGejFuJTJCTkdSUSUyRmFsU081dld6SnIlMkZQcmVGWHpzdVczYW43dlZ2ZlhDRHZMMjZPanVzRFZjbUt5bkU0TzVYeEg2UU91N3FaME9wdDNjSFJwUXUlMkJOSkQyTzhpQUhkSlFzRDRCMFFzUjNiZFVSeEFWajBOeVklMkI5cktOTzE5cTF2ZER5bm56QkVVVUpnYWV2cFJRdGw0RUJzcjBnZXBncHJBMGljaVJDVHpTWmR0JTJCUlYzWFd5dnZDVXE4bVA5WlpkbnUxblVsWVBudTNpek9rOVh1VHJFR0hJT1Z3NkpxOU1IODJIWFNUbWg2emZ5ZVZGanAwNTBvZWR6UE5LUEJVa3RIWWF5T3ViVlNqMnJBQ3YlMkZVS083eXB2eSUyQlFyeGFUNkh5eHNFaUslMkZKTGU0Vm9YbGlDbHQ2UmJiWSUyRm1aNGhRNVJUbTI0TDE0NCUyQnNpNFFWemgxdlBJQ210M3FhUmN5N3FjNnZmMEVuQW1KMDVYYzZqZEo2M2wlMkZXbUJHQ1lnQ2Y4Mk9xclhFNTlwVlBjemZSUmt6akN5ZWRYVCUyQkhGRnVpR242Y09SeHBYRnNzSkQ4ZHRXNnZ0N2ZJd29JaDNpaWpZTVJhRkE0dm9UJTJCdVg3QnVqeEJIYnRxSGFrTXg0S0MxMkV6WlI4MXElMkIzbktzdEJOMnNTeFNRSWtXSWJ5ZTZPeWdQMmhDUiUyQk96YnlIUzBPcXJqa2xiaWp6cGxUbW9MaSUyQkh1VTN6T3pBaUFDaTVMbTV2ZmcwV2ZyT3UlMkJSdW9QTVRmUnFEbnNydzBhVHNqa1RuJTJCZ01YOEZQNzJ3cVNZRldWbFB0M2lRYk5DaHlsY1MlMkZTQjhWbzRFdHpCQnY2RXMlMkJYelhZTzJHcXFWWktrT002dURMazViVlRiWk1RQlZTUFRIeUIyUG9WY2xFJTJGVjFPTFNqMmhScXIlMkZDTjhEOEZsR3VwcTZwS2w3JTJGclFQbkliaUllSHFOWnFRbXpUbGNsUWVyajN0aUxGWmo1b0tOUGRoMUR0Y3hWMkQzZUglMkZoRDF0NmJKTktEZjNJNVlsUzBKVXo5cGk2JTJCWHNNaDZjQ09UaG10a1VRJTJGYjNQYnIyS090OGFMS295QTRCZUNpJTJCRkJvZ1ZSUHdhNXB2RFlyVm05dW04NEdYSFRGWW1wRlVOSXVYaGhDUFFENlk5MmkwaHV3aE1SWTExcjhIWjNUOThUWHFWVm5PQURWeE9JUWZPWVNNd0E5Tlh3MmFvJTJCVm9lbEJEb254bVlUcE5nb09JSlBVcXNTaGE5JTJCcUl4eWJDREdwQXdLc2pBMDNHJTJGajZIeU1aJTJGU1pLNWdpN28zMHVRd25Na0s5a01jVWYwOU9VTkVacTVxNkRJY2VZNVQ2UzYlMkIzdGElMkZpVkZpa0RBeXhPbldzNXFqU25BYWJUcnp6ZzhlSVglMkZla08zdGZEUVFJbFlNNEFoTmJabFdmTDhLVGVZQnpaRlVpclpJaHMlMkJOZzJYRWJKS1dKZlB0aWxKJTJGJTJGWDBCeEVQREU4VWI2MTNoY3pDcXBqZlh5TEVSM0haRUVQNWxLVDVpRyUyQnZ6bkxTNWlQSjdieUJRTUdMTHpzSmJzRFFWZ1BDd3oxTkFVQlU1QnJwJTJCWTl4M1U0aDFOcE5tZmtIWTh2SWYlMkZzOEoxMFJHMVNyUDF5Zmp5JTJGSXhFcG9uOFpock5hdDRFSGFocGozcXpwSXREOE85ZWlxc002OWVzamJmanMzQXZid3paY0x2ejc4cFVSRHJMUjBFVGhSMHU4JTJCN1BqRHh1NjNaRml3ZmoxTmVqVFFzZlE5Sk4xRmI1RURtbTg4b2ZyM2k4VkJhaHBVZEM3TEJJMDgwJTJCaFNDV3U2TGJrMnpMTTUlMkZWRlZaWFVpYzdUY0dZaXFTZEFVbSUyQkF2SyUyRkNlN09GdTBxYkFCdWlvYXNCOGxsRkFTWnkybmRmTnRBNUQzZHU2dlJ6dVpZZkZNeWRNYXNldkdwaWowRiUyRlhWVno2S1pyOU9aODZKdnBzeDR0eGklMkJoY0EwcDJROWtlWmNqTjJVM3lTZ0FVZlo0aVAxaDkyJTJGQUxIWEFCY1AwVFM5eWZYd3FXSjEyYkxzWGRxNUI5ekslMkJVcnl0SVZxU3lZVDBVNGxHY2Zjd1Jpc1RFeHhGOG5OTmw2dUE3SDBlaUtMamdDVnRDa2dFV25IeXlOeVRLNnduTVVsdzdNZFdHbk55WWg4VVJVS25KNG9hVyUyQllDc1pCQm5CWHJENzA0WTlBdyUyQmlHNzRnJTJCVnZMSWNCRkJtZkZKZ2pIRVBJJTJGS2Z4MzI4OEFKZSUyQkgwRHNOZHVNUnAwM3NTd29qNjlvWTA0Szhtc3ZCZGFtREtZS1hEellRbm5VYzd5eHpOTmtqUjklMkZmTVdENmZ6U2dFVFppZjN0dG9EZzFnaCUyQmQ4d2d6U1dJeFNNRGpDc1piTVA4a1RvWUJFdzhjY3ozcG9GNTdmdGdqcFFOZnFocFRBeWlFb1pWSXIzeG53SkF1TzJCeE9xY2I2NG8xRzNFS2QlMkI3ME1ZcjVxYjZZaVJzRGZJOFBmZ2YlMkY0em81aFp3Q2d1eXNZQUkzMFloWUg5c3ZmR1pDTHBjUEpYQmlpSU5tUjZuV2E4ZmhncHpOaHNYZ24lMkZyMHJKQkFtSkhNcmo0M25JbVNWOXd6ZmlLJTJCakd1TzRBSVptOHdmNjBGdWZ5b0U3MWtJQ0xSTll0dXRlZnRuZVNmMVJxcUxMR0FxTG5jQ1JTeEVRZlpyR2xBR0RiVUhRN3BTdnlIMEtqVHlCNGFqdVRQVHlHJTJCQjZuZWVwZkhDNkJiQU1TZlVpZSUyRlclMkJRWnRJdDBYOEp5dlVreWFMSkglMkZRJTJCZyUyRkVxYmxrck4lMkJ0MFp5NHV6OVpUSElhcDUxQXpoMHhqQTJXbmRoejVEb3dtRiUyQndBJTJGZDZQQVVpcmtFNHAzdDRtWGFqMHdHcUVKSGlCRVROUXclMkJWMEpBVUtVSVJOTGFLRCUyQkpCdUVLOUhtUFBjNGUxRWxJR2Z0ZjYxNnRXaGxmUTJ2ODFraXglMkJVQzZ4WGg3T0dyOGtYMDhkQlBIT0MxU0JQNnBZdnVYYWpjZU1iMXRWY1NRbjdEd0x4eDdGbGZlTTVvZTZtRHVtZFNaczhub2FmVWZyakFTQXV0SzRydllnWEQ0R3JBZmcxVlVlQzA1MUJWYmIlMkI3SmFrMHllNkdZQ2o4OXFwQkt1OUhwTDNIQlpMSU92WG5MemVDaGdoTUJvWk43VWwlMkJxa0JxRXYwZ2VSa1Jhb2FGUXVRU05xSDV1OG9pUDJtQXMzNWE0bjVWJTJGTVhOdldQeGVpVUl0RmNUNVVSNzdHazQwcGglMkJzSDMyMk1DSU53RVdpcjFRbk9mNkR1M1h1NUhvcE9wRmdCMzZ5V0MxdDclMkJjVUdkVTBqT1glMkJ0bnZ2SVBoaUlQQzcwZW1ITE12Qml5ZDZNZFg3azFhUzluVHQ3cGRua3pOWk5zc0UlMkJJJTJGdFZpc0hqbzViZGZuQlBNSjlJRW1zMkF6SHpWQjJER09SVUlIa09rYnhjaFdncnNXdnpXS3NsdGpTYXRUNnpUd1A2a3hOb3NUYUdFVUFSbHBmclFHWXRrNFlOMzYzamJEZVdqOWpmQzJBJTJCb3NUdWFDUE1xUnJtc0VsJTJCRmV4NXQzWEhKdElOYkpVeEY2SFNuc01tVVp4elUxRlFrM28lMkJubHNoaW5MJTJGYiUyRm1RNXIlMkJPVDBRdmZST1N6OTlDNGw1dnBNNVFHQWhxQ2pGazF2RTBMOTJxdCUyQkhmYXloTUNyQXNVc1JEWldpQXF3Nm4zUldDdFpRd0lWMVZ3R3VPZ256Wm8lMkJ0dmR2amJJU0tCZHJjYmNjdkJKeldmc3RoMUZIVmZ3NGdkeGhJQnhtNndaNWhRa0hJbXNBUHFSdXJwRE9uaDk0dVRlQ0JyOEF2V0V3OTM4d3A4REs3aFFvd0s5WFFFM0V2OCUyQnB5N2s5Y2MlMkJCVExKb1VUJTJCeVZZV0IzWnU4JTJCVmhpZFpSVTV1T2RzVjJOcHBPJTJCRnF5eWpTZzNMRyUyRm9pdHBiJTJGYm9IR2xmb1JUQ241eGdLYUtmeHpvN0tCRm9kcVlJbzRrOUd6emY3S29OZjBTZHV4V1k1OWNuNk0wenJTVUpCNHVmOTAlMkJ2a25rVkZsWW9mNmVwRlZRcmEzcnFDOEdEbjloM3JXTVAzU1ZqSnNSTzZQemFHbEpxOHpLOGRibUdKbWZVSk9yaGN4c3lXVEFtNnF6OTZiazFIdVZHb0p0cGd1blhGOUpRJTJGYXdkSjFyUCUyQlhiMmFqaUtYNyUyQjhlbGh4YWxlV2pucFZzZGppSUZPamZHRSUyQkc1WjIlMkJwNHNJRk9wZkVSVkprOEJQME1nZW9aZ0l4MWxTRnRHeUxNN0tUbm01d2s0JTJCa05RaCUyQnNLaDNOc3Q2JTJCRnNRNkhMcUYxRkxkU2E3d1RwMGRQYmR1VHR3QXVydG9KJTJGb2M3Sjcza3paJTJGaXdtcjFTaXBNVmdpNFBMN3R0YmJIdU1EeURKVUdxUExpSG5rMllZOG9CdHVuRGd3UXV2ZXBIcXkwQ2xHUWtkdE9Nejl3aHVpJTJGTWVoNTZUTkhZNXJDdFNKWnB4UHJZYnROQVpnZUllVkR6QzVoUk85UFVQdjFpVUI4WE9wemJ6bkhocVpGWWw3eUYyblMxdHFRNkQ4cTRZS2Zub0J0U20lMkZXYVhPNmwyZjElMkZkSms3VDZZSjFyYmNwRiUyQkpWTEhLYXRzZzg4YnMyNWd4JTJGSVhBT01iWUZwUER1elhlJTJCUXo4d25HdkRWbXBPUUdRVUNOTFNjUGxsekx6Y1d6MlpQeWV3SmllVkNCa0k0bU16Ym5WZ2VFM1dCYmZVJTJGcjlCMG04MlBMakdYdEJxOUNHclBOZU54TWZkNTJ6UVB4TVFVTUNOQ0hkWGRkZng4WnB1TUp2MyUyRnV3WHhuS0YzVklHRWE3OFRhbFZzYkxQTFRHVXVXRUN2eWhCMksxOGtkOW9CVjJPUURHYlQ3bSUyQnp6UWRMOU5NN3lEUTA2Rzc4emZ0UGlUaGtOU0tUZ1Y0dkN6WHZCalYlMkJGUXVvNzRLclVZTVVzTkgzSGVwbXFiSGhyOXF6amxwVXh6SGRuSWVYOVQ2QXRhcVZxOHRxVGQwVSUyQlNtMlA5UXoxWDA3TUt1WkREWVNoZjZMNjNWMGdocnF1VHVacVJNJTJCOEJKeHE1UmlCdlYlMkJpb3IlMkJMdEE3ZSUyRmslMkJ6WVdmM3lSeEZxeXJEaGVoSE1LdUZSNkUlMkJBWVJsd25iYUFoYzdMa2gyd1dtdndpc0d0MW93S0F2U3lLSW9WSTJvZkpPSDU1JTJGJTJGSHlBZ1F4VTVPajc0alp5TWJzRDlFTW8lMkJaSDQwQSUyRlNRM29RJTJGYVM5OU9aQ3hlWEhiUXlDVWVHR21ZYld4bmkzYkllNDg4NEdHMkNpU0NPdmFnVm1QSyUyRmswTkpnYUlZclNiR2ZCc1g3SyUyRmVVcVc5S1klMkYzYlA3anJCJTJGcXdZWWNLWTdnUnBYekgyVDd4dGRvZG5YMWhqVkw3R0RUOUcwTHJEMXpic3NMUDVCN1U4cG1Zd0NWTUxEcDElMkZSMCUyQm5YMU1BQjQxdkVwMGtmUlQ1cndXM1l4aVpFamJjQjZmQ2xNcU1zbG5OYk1WNUJHJTJGZE9EaEFrY0EycG5vc1JjdkxwOGJ0enQ0akJSaHJMQ2dSSGo1JTJCazhmQkdXWGlxdyUyQklBJTJCdDQwVkliWkhGUmFvakxCTVRoNm9uQ0xtdzJtem01eklCSiUyQmhJSER5T1NZdjk2a29KR1ZpRXR3YTA3blZtTnBWUlA0YkwzSU92emZQJTJCZiUyQmxiJTJGZ3NhS0NaWXpKblNLQndmdUdYV0ptMkdBR3NDM0puYTNhMlJkVWdhMnFTeHM3b29yYVdpQWxQTEVZWWhqVXA4b0dIM1klMkJPVjJXU0pRWEsxYnRFdjYwY01EUGpuRFc1d1ZyWFlvbHR3WWlpQW9xQk8wR1dTc0V5QUh3cExFNE5WMkNNRnZCJTJCUGxvUWxJSlRjeU5PWWdrQXVLaE1tcjFsYzZHSlAlMkZsJTJGcVpqVSUyRjQlMkJ6R2UxOHVIM3BBY1VHRXhqWiUyQndaS29QUnVtalBzVjZGR0duOGJ1dXNMViUyQmxSV3RoZiUyRm9RZDV1cG01TCUyRlhXTyUyRkFqWmtQUHljRm9qUmFTV2g1JTJCV291R3dkb25UMTBMdW9pMXlWM3N4bWZ6bDM2ZnVndnVVaUZQUHhBcVF0NFI0bENLN29OanZFRjRyTXZLeE02V2FBelJUNExHbVBxeGV2bk9Gc2h6VkZuV2FRa01ob0tTZ1NtQU1TU1BBRG5ZbmRQOGR6UVhmZEYlMkZpJTJCeHppOW1peGhYaTFLczRNeHZqRkZBeFR3YWtlQ2d1WXY1VSUyRjhEWkVoYUJlbm9XQkZQMHA1YmVwZjduWjhJc0klMkZlYUR6JTJCWnhXSjZIUnV3bSUyRkpsV3d6ZWVyTWZqYXZ0NTdhZXdaT2pjSlowb21GSnhSZnZJYWRQNHNHSU1RMzlqeHBJWVNHREFyVEtraW0wT1p1Nmo0UE5pQ2xTVGJzbTFHN283cEZmdlFXZWdEV0Z0dnZpdk5NaHZtZUdBRUJham1jSDhmUElRZGw2RW1oRXpGaTFBTlo1WVJocm5pQk5rdkN5amgwMUNQUFJ5S3J1RW4yc2JwOEdXRXJsd05EcHp4eXFyemFNVVdIVDNBZ2hSYlRpYjdUNUNhbXU0Yk5IWEt5aUM5dTd2MkVVWkc2V2hBQ252JTJCWDFyWW9RUXpyZmh3U1ZPUWc3QWRDbncwekhHenpVYjdvSzRuMTI4VHhGNmRwRTdhdHUzdDJNMFJKTGxEekElMkY5YzVlSFZENXYlMkIlMkZXbXFhcHJvNklJNjUxZUoyTDBVaVZIdk1RYjBRcnJIa1UxWkVreFllUDUyMU9WUTFGQVRwV0olMkZCNFNWWFVnQXBJbEdVT2ZRTjg0NzJReVJtSkFmOEI5VEZ0UmZ4bUhsRElXU2dWOHprNEJkeXcxS1A5N2NvUnd5ZjBlakNWNlM2QVhoV1Y4a1NFSGZvR3g3ZURkM1liN3kwJTJCUVozZzNwemtRJTJGaUtOYU4lMkJvMjFNdExEM05IJTJCMUIxbHc0QkJycEglMkZpWDRSdm9oR043JTJGNkRMekN5JTJCVHR5b1dmNVFzJTJCdmk1Rm5MQWZGQyUyRndZSnJGaVJDZGt3UWhBVWNFZzlFR2ZhblAlMkZBY0NVVWFIbG55a0dwSWQlMkZmUlB3Q2ZZWGNOS04wZUoyS0pZdlA5TEdXOFRBMkFkenRtcUhWdU1EaVlNN25Gck0wb3BaaDF0SVFtU3M5WlR4eEJ6TnMxRGhRWTYlMkJHbVN2JTJGRWJvRFBTU3UyZlZmT0NBS3BnNTJYZnI2czNtTWdXa0tWYzd0a1hqdE5mSDNobFhBZDNVMEJLa0lBdnFkdlYlMkJVNzVSQ3JGcSUyRkhzZkpQZVpNbE1ma2tBbFFCWGcwaE9Tc0RDJTJGQVJvWEx0NEk5MWRUU1VhdFVEUHBUdUZGSklwV1lidFBGMkZ5M2dNTUNJMEgxbnFEQXNCd29kRDFRZW16TkpPVjUlMkI3YiUyRjFXUGt1dmRxdFAzTnczeGw3OHBNU1J3aHM3T25ONmlqZVNNTkdGVlRRRDlacmxUMVltSU9iZWRpczVUbzljcGhTdWNIUSUyQjhxMzZ2SlBHYWR4dDhoZFBxd1ZOcVhhUDAyTnMzSENyV0xzV2dNVThhNk0lMkJ1UFN3WjRKbFAlMkJLOTRSaHZxdlhXWmxZOWg5bWdpdEpYZlI2anRxSjc0bUJUTXA2U0FydTNsZ2ZXJTJCNjJyOEtzcXpvZWtETU5XZUs1WHZqdWVIVXIlMkJoVnQyTnYyTG5YclZMTldZYmh6MmNFUHNNWkFiMjBiOW1RYWlmTEdhazRyUiUyRm9hNTZVQiUyQklySVNKMWVkUmN1R2JxJTJCR0V3WHE4elltSGtXYW4lMkZTb0dNRUhpTkZVZnVRb2VQbGlkM1BHT1JPRVlQYXh4bnQlMkYlMkIlMkZJRW4wbXJ6dXp5b21QMGhqVkJYRTBvRlV6c1BrMyUyRmolMkZEZnc3QXdNeHllWlBMQzB4enNaJTJCMVdGWW1MUTVQdzB5Ulc2MVMzNVQ5NEhNVkZOZXpwZyUyQjNkSWhSYzNLTG91cnZGMFRLQ0Q4RVlvd2JPc3V3eDM3YzZ5cnd1T0V3OENsZ3NidmFXY29GUXZEWW5Id2hONzRjdFdBbHh1dSUyQkQyQTJHZ1cyU3RSRmVjajJtb1V4ZTlTSXVtMzN4eWRhUWcyNkpNMDlsalV2bHBoMzNjNHNrQ1M1dFBBcld3NFhXaFF6TXNXMVk2c0NLYWFsQWV5VnNGZU9XalRoUVpPZmNkc2VFWENxSCUyQk5xT1ZFNGVlJTJGNmNpZ254ZXhpSUF6RUh1R1BHcXlhcG9CMGRmSHE2a2k4MTNtb2xKRTBoUiUyRnRybmtaNXF5YjY5OSUyQmozJTJCb045TzglMkYwTHE5ZndVbFhsdFo3dzdmMW1INzI1MlhpWVdLM2x4UzhtVU80WVFDS29qQVZFVlZ4RiUyRnVjbXk0Z1YlMkZ3aFUwV0tKU0JYZlNRRkZNJTJCcHcwUlJNQU5CNnMlMkZSOE5zMkZ4WVlpZnhDNlNMJTJGNXBNSjlUVzlRTVc1dmNHSXdRbm1wSnFYeTJOSEFuJTJCa3NBMCUyRlY3WmdXZkYlMkI0YWlVOXV6VmJoRm9wS3NnMkJBOVJvNHFEZ0w0Z28zd25STkkybjFFV2pqZVRSVEVMemtwcDJQJTJCMUxJTWwwTnVLY3U0Ym83NnVaZU82SUd2Umg4cHVNRk5LeUY5TW1ja0g5aHhPNFpyWUxFUVQ5NkZwS2M1NWptTVNiUEJrR0tPQktKcGpGNjUlMkZvcmhsMzJ2QnhUZm9JUSUyQkVLVURzSXJzS3R0NVRVZ3gyQVZHd2gxbnBrTWl5Uk4xWGxTNGVxMTJGOFcxaHF1SVBENFBydHd5VjFTUzFQYmElMkZER3U0bHhibyUyRkJkN3NTY2RlN1MlMkJUWmNJa0N2MWg3U1VibVhvajViYlczNWI5azlQTUdlUVFKcHMlMkZlJTJCN0NBbUNQQW9LVUlRREdCQmpiRnJ4aTZBJTJGcWdqdSUyQkpMcFR4ZzU1aVo4VVNtek9Cc2dMV1ElMkIyc2s2aDg3RHp2czJWbUtGTmVwcUw1bkhmbmY0a2VmMUdhcSUyQnhKTXdnNnolMkZTUnV5YUxoRjkzS0RKNSUyQjhXWVZxTGRVQ3ltOWo3M1FFSkFXQkdLUk1WJTJGQ1NYU1NLZk9BcW5WMXNaVkc5WG8lMkZzZHd0VUpMRiUyQm1OcGI4cVBZRVFteHEwd1VVeVk3b2VKbFNFUmFzUlJXajZJUXFSQ0dKc0dTVDZ1ek00M1FRbUxXUHo3ZUNVWE5Pc2Y3QWhmY2w0UjQ5ZWZ2dUtiamo5bEh0WEJSJTJGaHduQlAlMkJxbnR4UDI0eVVINzRxJTJCOWhWRzFYNTBOJTJCeW9QZEpuaXhrcjdtdThtY3JIM0dSOEd1UFU3R3F5c0UlMkZTVGJISjhEZThPNjE2U1FkNWVRUExlTlhTVlRvdDVtdkljZnkza1JRejRNWHJoZUhxd2NtZG5HZzc3Y3YxbkdnY3glMkZmejUlMkZXRDJzakhqZ1RZdG9KRyUyQjBQSXZVU084dnlJeDI0TDQ2NGRleE55QjF3Z0hZWnhaYkNPNmFjMnVjNjB1Z0I4ZXNWRkFya0JTcnpTMEd3UWVSZFNBSzhQcHVVWXUzU0RkOEN4cGUlMkYlMkJid2t1SWlRT2wzdkN1SXZQQjBLUXFSQW0lMkJBRjU2JTJGbTI3N3U4OXdUT0s2VFBHSEs4MVklMkZvdmY4QTVTc2JTV0JCQzZZM1FueWI3WDBWcWxSNTJLM2xNVnBiZ3NOZkIySjIyMVByUFRwZHBaRE81TnZER2xKUVBlQmphbHVmSlhidFhtYmVTZ21hdzgxcFAzU1JDOHA4SElBZDM3ZFJJS1lSbU5FZERrbGlPWEo1dTlJamo1Q2FwcVdLa0R4Mlk2cVBSJTJCYjVkeG43aFZmR21pSkt1YkFqOXVqN2Y1WUtUcE5WbmxEWERZYTAlMkZQeUVCSE1YcWw0UmRZdFRvNEZGWUJ2JTJCWWYwbXd1aWtUczU0TkVqWmpCRHQyY3l1biUyQiUyRk1SekpNRzZxdTR4Y1BBeGJrZFhiTkpJMSUyRmk3OFVUZUpENjlVT2FMYWlNZnlKblRSbEtnVVF1Y0dNY2U3cElxVVB0WFpDcEJ5cERtaVY4JTJCTmlzVzFpcmo3UkJsOUNXWWZiczlRMTJqRmpRTGMxaEpzMSUyQm0lMkJmREJDRCUyQnB3RWo3NUkzTkwyclE3TmVZZ0ZZdlFtYjQ3cGRKTGkzUkRCb1dDeW5ZM1g5VVFCRnkyUWFmeVQlMkZsQTlZNWxBNWNCQzBoaGhkcXJxZ3I4c3MlMkZtSE5CeEY5dk1nUU5LZXduY3c2JTJGMU9UVXNsbUFFSiUyRnd2NzFzSVUxdVlOVWU5NFJLWWJkcSUyQmRYZTd4R2FFaFFjR1NGT3B6OXA1UTBweFNkVldsYWpCYU16UjklMkZpSkhCd1cwSEE3VzU4c3F6bUc0U2hoZHZwUiUyQmlDQ1dtdGxmU0J6M2pPU1FUUThtUjBMQzFFZkJjbnVJZjRxZGJmMDNkdUxldlhORkMzcWVwbnQ0USUyQjdXcjNJcHdXMTYlMkZDbE54ZUdkMnZtQ0ZUSiUyRkZmY0doaDMlMkZSTEFobWNCeEYyYlhvR1JiYWd0Y3ppNEVsZkx4anlRZ09wRnI0eVIxeDBiaXElMkJvZWNyQ0hEQVZRajh4NXBxYWswbmZzTTBRWHV3VUx4OXVJcGVsOU93REtGa2xBODcwRk9IbmMxUzg2andJWkhnM29NMTZQaXdZelNKTlZuYkdINnRnQnREVmt0OWNsUW9Jb1FNcmdBelBHYWlYMEV3a0RmeVFIVGJXRU1VTDRyTTg2SkFmSUZrV1FTZ0pQM0J5bUVJWjBxOENzaW5MOUF3aXBCeGhiSFhMNUszNFJyRnVXcHJvNnRQdjlieExEUG4xMmZSdzU1NE5rdzE0QlhZU0ttbm40R3RjSHJ0c1NDVGdrZkxTa2NFVmdkM2hYVmtoNlFQaWlPQnR4T0ZtZVAzNXMlMkZmZGZxbzNtSXRDcGRUeVFWZUw3RURxOWk0S3UlMkZPdmxUZEY5byUyRmtTOUxGek5tSndWNEhaayUyQlhFVHVmWUlvN2JpTVZUcEJRSWI1d2dxUVlnc0pEMUZGY29XWHFHMnJYUW0yTkFGMyUyRmhqaSUyQjhMT2pZd2lsWEtLRFlLVDM5UlA4N2JhM3h6Y1lWbVY1Z3FDdDVoa0xxOVMlMkJpNjBKJTJCT2xLbjdxeDRPT3YwQTBpOG0lMkZoUTZsZDdvVmIlMkJTOUp4MkpHVGhSRjJ6RnZBRHlnbDdrSVpXaGxtb1FCMG1UMHlYbmdCVG8zTnpGZlo2RnU0ZHRoRTlYdjJzZ3diY1pDcXAlMkZuJTJCZ3lXZExYOGU2a3U5RTJ5Y1ZmOWJOMkhaa2tIc0l6anIxRVVyQlprc2NMUVYlMkJVNkNYWWNKY05lUWRJZzA5NUZrMWtWalQ1SzRHNEtOU281d1RodmsyZVh4anV1bVZwJTJCeTJFM2ZxemFkbHJrRWRramJlY2YlMkZET3c1UiUyQmQ0c3lPakdpRHBkZ1kzNzJsWlRRVkdTa3JQdHJ3NWJNbVRUZUd2ZllwRXpGVGI0R2NtSUlST0d5Y2VxV2xESENLTldKYjZUZzhZNkpsckhkNDlKblVGa09zTGVGVFp5OWxqRG1IelJlcjVHMVVOenZ2UVB0dk9JQWRwblJjQkhRajljSzIxZGRxWVZDTDVCdGRoJTJGMjdpcWdFNmpadE5XeTFGZjJFOUEwa21sV1J5TWd5dXBiRGVnd2lRczYxJTJGZnVUYkJQcmJBWmlPSFdHVTBzVXlXWiUyRjZRdzlBOTV5dGZFdEJGamMlMkJaUzRWZ0VQWmtUQVNSTEM1T2JiOVVuNE5SNSUyQm1Ud1hmdk1GekZRYjh5WW5LTGI4WlRpSFdFaktORyUyRnV5ZWpJd21zZGtZVmtUMjN3NjFRUXlWQzdxdFJoZmo5czVDWkF3T2RRcWVYeUN2NHQzeUhjbnZZUlR3VUREUHglMkJrdG1wN1BQVkd0SWFwbWw4eEolMkZzWFg2VlFENXR4Q1psJTJGdTJSbjFzUFhTQndjdU93QVRvQkUlMkY2OG52T1JjaUVYUkxQV29BYXZVbEJkb3hha3VQQTVteWZ3JTJCYXJKMzZBN1p5Q25jSVFUNHVJZG1RZlYwODA0MEdvVU5SRFdJRnZVemNZN0Y0aGdjMmxJYVlxSTVWdWNqJTJGeHFVaVdUJTJGYWI1eHFGTjBnV3lPTm5KOW1LbEIlMkZxd0JNN0tnYXE2dTlzSSUyRmdnVTUxdCUyRnoxeCUyRjBUJTJCanRZeDVmRzV6UExEYjhpR3hySGU3WVlMMGZuOE5OSGRaMGJTTXpOYVZvUkJGQlRWcCUyRkE1MXJrNXJESk02U1dVJTJCZVA3VnRDTWZKVlZXJTJCenk5UkIybmZjZ0lqcng1TyUyRnVRZmtQYXdlOTRlR3dwSHJhc3JSaDg3dEZKQUM2aGZUWXpnRHNSSnZPTk5HJTJCRVh2NGpra0E3S0pwQTFlRWRBVXgwbFYxbHV2QjR6amxFJTJCbjVjazRielllenhMT3FaU1hSNzVLJTJGUXhvR2VDdCUyRlhmR0QlMkJBaUlYUVFXdEY3eiUyQjFPZHF5MnRZTzVFQWo2aUk2JTJCOURESUUxQ1VJY2hvZ2JzWE5nQVc4NCUyRkhnWCUyQlU0SEFuUTM1VlE1SUdtRDBudzNIT21EQzBZcXBtNDdpcGVucnlob3N3R3BxJTJCWm1iNWJLZSUyQmROZ2VuZzZhcDZaVzF6Wk5SYktZajJHd2t2Z0JGVGI3Mzd4SkxGaUR2biUyQjcxeW4lMkYxMHk1VEtjWkxEQzJDUHBCSk9TbWsyUHE0RXJzYm5wV2FYMktwY1J0ODBpcjRiOFRkSmVPSkZxQiUyRnBpTXRhTHpzZTAwZyUyRmZYRTFTcFcyVmpIZmMwcnQ1RGc4aXFWNWV1YktQTE50UVlLZDUlMkZ0ZVJLZzkxc000JTJCWGh3ZTl5WDZ5YXhQckN3UDAyd2dIcWRjd1B2R0VGN041MmdSS3lCVTI2Y29PUnJDcXV4S3pMcCUyRjd0eSUyRkUxdmNOMEJhTjRUUEd3bFhGNGZiSzhvNXA4WGhQRFNEbFlhZ21sUnF4d0dZamRqek1vMHolMkZWREZOYVgzR1hRVjZZWUlQNnhSTVZxeDVlTjdaQkpBdmJOYVpUSVpEZVlIJTJGSXpqbU1jMmtkd3k2TDhzY25xd3ZVeUFHUU1QT1kxOTNGSk9xUHhaV2lzZzl3bkVjNVVyVnZlSGl2VlpTbjdKcjBHNGhZNms5cnZXaGJEanhZc2ZvOUY3VGtTd3hmNmFrSkdZVmxONnhYczFsMThFUFFZZ3lPd01wYWVxQ2RYZ2dHQ2FCSzdzU0JDVGZhOEIweUYwem53RSUyQjZ6cjAxYk5LVEJoZnJhdGtWM2pzbkcwbDEzQThHTXlYNTZyRmwwRXlUTXFMbE04TUlFNEJMNUc1Rzg4MHY5VjlWcXpYbU93eEFPRFZnc3YwbjBtN0dlSzFrciUyRnp1JTJGclJ0dlRWcGw1MlFoNEJXVjBraUlNYUxPMlVONkk4MHd0bSUyQlBLbUclMkJ0MnlzY0c5SVg0RGswQm5UeFROV0VpVXFieXlGdVdVQ3hrSngwJTJCd01uVzc4eWRHZElhZ2RoaDBKTkZxJTJCS3JPbHY5RU1KS2tpU2wwcTJ2MGlkOUpvd2NRaVdhJTJCSVpqcTRDRHoxRkNiSXVGS0lXQ2FBblJDd0ZLb1JIRjBXTG9uOWtoaXolMkJodk9kZW9ucWpxR2hJcFh3Nnk3M1RYYTBqQjI1Z3AxNE5BOUR6MWRRek9vRUU2YmF3NnJ6czJmZ05VZTBuMSUyQmVYd2NNNk5pJTJGR2JCVVU3cDV2aXBtdnk5OEE3NDVnNHBOTlYlMkZQTWYwRVo4VUxiN2I3TzNRNVdCMmlNY0FKbXphekklMkY2U2JvMHBvS1h6Q0FoJTJGY0EzSVBhenF1dFNMQ1psN0laaDgxWktIa2NEWWU4JTJGYUJZYUN2bVQzbFY0WXQ3SUdjSzU0bHRINkxQOFBaSFZPNDloUSUyQkczcyUyRnoyM29DN2ZFbHNVakF3OGxYQmlzY3ZiNUp6UTA4NFVyJTJGTG9QRUxMaDN6NlFRUFptZzhoWDRFQ1J0T1ozNmpONFZDQTR1Z0RQeiUyQlpycTlWTyUyRm1QbkQ0ZW1FZ3pkWDBCc0pMQTc4SERYeXRDWlZxeHVKMzhSZjdkOGl1d25KelZDSFFxOEhKVk1MZkRFZERoeXZDT2lITTQ5cGFRWlJaUFlIMlNmM1BEZlF1QktFQSUyRmJzYUs2Z1Q4TG5MOWg1ZHVscmd0ZmZKaFpSZSUyRmNCTFFBd2ZRc2c4ZENCcmV3Mzl3VSUyQiUyRjRVaiUyQjhNa1dObWxvVnJhMldONm8lMkZPMmpwb2N6S0JVdjFQRjVIMk53REY4dyUyQlZ4YzUlMkZIdHhlSmc2VG9EdFBtdXp0b1p4TSUyRld4UG1jV0ZFWkFsZzM0b3BpTGFTUCUyRkJZUlhURE4yalVxTWQxQnVOakJQM3JxT2VWdThPSEVySGxadWhwNXFZVSUyRkJIQTRwNEk2dzNhJTJGRk1WdTlVQ2hxanF0RUZzYjgyb3V5Rk0lMkYlMkZjZVFhaUFzejhmM0FzNHJBRXhsaHlzRVhVd1U5M0g5VXZBZURuVzJIdSUyQkpWRlVtZlJacllWUXFpUDhwajljeThDaHRBdjlLdk9HT0FXVk5QZEhJaGslMkI1b2JENzZMSTNKcVMlMkJkYnNaTlpCekZtMjhQcUkzbUVnNXRvZWptZ3ZDJTJCMnJEeFYzb09VMzVTUU9odjcyM01POURtNGpQUnpMSWlwb0dMOXd4aEklMkJaWlhBTFhvUVZWakxFODhHRjNQbjluRkhHd2FSb0hmJTJCaEdxaWZtQ0F3QXVLJTJCY0ZQcUNiQWt0cmpSTkUwZzElMkZzNG9RU0lMamY5eVFQMzgwa3JRWXZTYzZXbmJRNHZKWW9hVyUyRkFWQVhCNmRKT3puQ1pBeWFad3gza1ElMkJGT1U1MFF4QkpxJTJCbllYQnI2SDZLampXbWxTUXhRb01CRm5QUkxkQXJ2JTJCOEslMkJyYVJSS3olMkIlMkJOQmlaeDNMOTdWeW8xam93MW1zbml4WCUyQnJYN3NFUkFueDE2SzNHWENoUVp4ZTcxem1zejUwdEZSMXRVbiUyQnRRRldTJTJCWnJHYVJZJTJCZUo1Qnk0ZHVPJTJGb2g4RFdUdWglMkJtdFJWcjlEM3hDMUJGT1NKQTgybldZU3ZCTjBEY080SERlbTFLemVmNTZ1Q0RzZ2c1ZTJxeWZKYmZuJTJGZWk2QUlrUHhWOHU5RUZVT3hnQmVjJTJCVENka2V4Q2tyQzQwZkxqaDJjUjFGVVROejFBTGxrUnJFRHV0VG9OaCUyRmx3N2VQS2dlOU1kTk9ENlM0WVJFZ3clMkIzZ0NKaHFzUlJDVFJFN3FPMDJtWDd5YkluQVJaeWdhN2dES1NsQmclMkJTSW9DVmpvZ0Q3blFnOVR1TVVJQTJXd2pyYWJyVTBUMFh2QlFyS0VEVDQ0JTJCclVCaW1sRU9VbUtDUWYlMkZsNWwlMkIlMkJTS202dFNzR0NVODBpeVVFdVJJTHY3S21rUlRwRFpuWWF3d2lVdmFlczZWOWtMZWJDWHY3ZkkxSFZObDdvV2VldHhDeDhqOEpnNTA4TlpiRDJMQWN2WGpXVDlLZ2hXNHhNaXlRTTlHYUY2JTJGVWJCUGMxYWJKa2VzU04xSlhWRXpmcXR1OSUyQnlIWmRKdktJSUdZJTJGMHBqa0RCamZlVGN0RWh6cUtOSGIwdzMzYzJtc2FuOVBPc3k1WVhQd2dKMnNpWkdEdTFTd3liNVYzS0hzdHVMOHVJWTRYU3d2aW96S0o2WTRkNEJ4SUltRERTc1c0UVduUlBNaEF4WmFkSnVuV3k1ZUI2aTdiVGZhbGQzTDQ1T3pDaW9FQkElMkZPSmVzcVl6TjU2ZGVtREY3R0luSDhYVkRNZTFXWkUlMkJTVnlTQjU5TWMyYmQlMkY2YjN0emM4QWtzTGEyY3FYJTJCUmN6eVMlMkZ0eVlVZ0g3ZWQlMkZwYWt6Z3QwNUw5dEh0QkJuUWh2OEJHZWRsUDFjRTdRbUlmZXpSSDJ2REZoNUZjS3dTbVRDMlJmc0tCWTRGSUZCSFRQQ2NQcndiUjVIcndGUlBSaXFzJTJCdnpSayUyQnlMS2Zhb01Hb0ZRNTZmWTNjJTJGWUJzNVV2YyUyQkZjZmxpb0RHMHNoUDhtNnJabHdwYTJhaERvQkdKeFZ4MExiJTJCbVVBakZhNFFQJTJCQWJ1RHpkOSUyQmIzJTJGWktMOCUyQndEWk40NW5IQ0FYVXlmemolMkZxdiUyRmlpcDdNYzV4N2olMkI5Y0lKc1NIYk5hbnUxRHNUYko4UEhUenkzaiUyRmhPWFNBZ2xQWVp3R1l4Vml6UzdubW5vMlE0N0c2a056a2FlVVRiWk4zczhvbDFFRmJxUkN0QXEzbEhzNnBKeHVSSDFoJTJCYXlNVXhvQU1BRWFCJTJCUjNwcXg4V0NOeUVHS2g3cW05Mmd1ZnRDVFpmQWlHJTJCdEFkWHRRMTVrRFVYMHZ0Q3dOViUyQndmNEdKZEpwWEI2RU8wRGFCNzlOY1AxQjZiZVh5d2g0OGV0ajJqWHIwY25KYUROSlolMkZzRzhyS1BZUEVSc1QxYldYU1NZenNNWWlKNkhEQkZYUElzQWJ5NHhpalBLJTJGdzhWbDJSMUhvMlJyNDI1cEpxdkhNOVpPUG1Qb1JnTE1vTVM0JTJGWkZCWUhJM3pFREswdkFtV2ZOU1BkTHVzYThndkx0NlJ0SjB0TXllJTJGTnY4WmxZJTJCZGwlMkI3dGN5cGE1NjJmR3VFOVVDYTJpd2NEJTJGancyTU1GY2hBU3U0OTI4Z2o4cTNLNm8xWEVCTkZZaFlNNWQyYWZmQnJjdHJnWiUyRmdPbDUlMkJZNXdCVllGc2w5OUlCJTJCbEdrVkJPWmlQSW1IT2dhbnlRNWtjWEF5eXpkUE5EWHdmJTJGM3VkTG1sTFdENElza3dTSWZ1SkhoWk84MVV5dnF2WU9vQ3hWbklwQzY0WlV3ZWJCdnpUQzJhT3kyQVB2NUxqQ0J0ZjNqVyUyQkpESXROTXAzZGJNVUdjUkJLdEFDTjhFc3I2aGNXc1FwSzNQdUtYdFVSNXFMNXhnQ2dmb3VKJTJGbXc2Q0piSVZvUFZkUldUWEQ5MVVsQ1lvdU9jYU9HeEhaUzBBM1NBVGxDNEh5dlJlUHh5UiUyRmFqTllkUWw4YjlVR0tjdTB4NmpKazRJTXFmcUElMkJHRVoxN1UwZE1XOUhKU1ZTMThHUyUyQjZEMklSNEwwcmc0TXZkOGYxUnJJVDJkR2NQVXE0ZDZDbXVSa0IwdGJ4RTNYbiUyQjM4QklCa0NaWmk0elQwNUlLSkFqbU51MGVPUzIlMkJlSktPdyUyQldvUVhhYWZoUFE4Q1dYM09ueVljN3Q2UVdVeVJWUnZsUk1Gb2w1UDJCeFo2TjZ6ekslMkZRNEJnUE9Eb3lkSyUyQnNaSyUyRlZpZWFmdklFSzJTaEJHJTJCT2hRTE5WSUdyUnoxcGRacWVxaG5LRmZieWJsV2pMOG5VMU1Qd243eGlIWkR6bzIzZFNmMVElMkI1eEp0cnlmT0hzTElrZzh2V2lSTyUyRkNaNiUyQlRDTkdwOXdUS1BDcHI4VTdMZ2EwaklxZW9aOEtuWGxTbzVHMEh4M3lCbUNjeDMxeTVHMFFNYSUyQnl0RWRHeXNTZkhEVlhwUlhZcXdaWmhvbkNNeWFKTEtreUE0MzExc0t4byUyQlh5YU9jMUg2MkZVdE1NV3UyMHI1RnJaWENGMGVsdG1lUE9maXFtY1JRNThHTG1xdTh2WjclMkZXdHI4VSUyRndFOHhwdDdaZ2xzdXclMkJJaVZpYkg4OVJLV1BtV0w3ZzdZYXNmeGtuZGZGUThWZms5clVyR0htWVcxUTdQWFNzZ3BNWWJIcUQlMkZsaU45d09UWjN2ejRsbnczUjc5YWZYbG9peVhWUVhXYXAlMkJPWGh3Zm1CaVJaVVpWdncxTkt6dHJDQmxwNCUyQkRtNUtLVWZpMGElMkJXdjlIdHJ6QmQ5WUdDT3ZsM29HN1ZwOEVBMWhnRU5SWkRSOGpzZTVWWDJMaUVEODh3NU5qJTJCdWRqZnVHRkVvdGF1MVBQTnFUTUkyMTVreFRPd2tmMmVsSGNwQ3dCdTE0SkVWQnJ4RzBCJTJGQWRyVDlqWFBZclhoMU9OTHZqeUxpblJ5YW9NQ0hTSHZ0bHNJWmNKamQ0R1NCd3MzeSUyQkphQmZtdXBRS1VMVG83dk9xRDdyJTJCY0JUTWJhZm0lMkZYZm5Kb01veDBLeXB3YXV1ZGlWVmRYMnNXN3BQVUlxR1N4Y29OJTJGdGptUXpFUXFDSEZvdGElMkJoN2pUT0slMkZ1QlJiZWlHMG5Jb2tFQTcxMDhyTFJJbVhmOG0lMkJvVG5hMWdMUzhEUWRqVjdZQVpMT0VrZVlwZE91eFFiMXp0RzYxJTJGZ0ExRThXekVSR1RXVm5nRDVNU0o2N2haWEdFTUR0NFgweVglMkZKdkN4V1BmJTJGMSUyQnhMSGd3UUJHMiUyQjdXaFlDN3QlMkYxOXBHZ1QlMkJuOU9tUWYlMkJ2TnMzJTJGaURZTkl2NG5iWm95ZXZ2WVEwaEo4Q2dLT3dpS0xOdnJXM1lvOXFRUGpSYUU1NEc3RjdncVJyczlvNjNGaE1zcXZMcHpDRTFhcUxuREJ2WHoxJTJCZjVvUGZMU1JSZjhqZUYzaHhyJTJGV1FWYjJpUjh4MWtJMCUyRjB4SkYzazRiMVRFekhRRFd2eExqYnVCRmszemRidUxDVlFQWXRENExjZjF6a3dFS3M5WUM2Y2t2MyUyQnA4a1lZTCUyQlNUdVp1b1A5U1R1ViUyRjBnN3RYenVlSFZoRDg3bmxhcjBWM1Y3OHcyTHV1NExMVjZvUFFQWjBGR1llUHIxYTc5WDNFdWYxYno5Nk9DbE0yS2pYbk4yUXNWblYlMkY3cnp5NyUyRlpLUEdkJTJGZVRTRVJQNmI5YVQ2MkEyaTZ5c05Qb2x6bTNQSTUlMkJLT3JGbHJKOFZkYVR3SjNpazVMNmw0ejIlMkZyVGlTRlJlRjU4QXdVWFc2aDdHbDN0bmVvTXhWS2YxViUyRmNmJTJCWURvdzlrUUFiQWhzeU9ZdHhSOUs0a21DJTJGUWVIVHJqajA0N1RnMmxmQWNwJTJCaHZqQUlNUzJzbXF5RHR4SkZHNXMyUjg5cSUyRm9HMDdkdUJSaU03MGtPcUNiVWRRandBJTJCekNYSFdMdEZ6WEpxbThBSktDJTJCangxbml4JTJCUHJjbGxhd1U1N3l6bTJ6c2tVM0FhQndDZnBJbmpDaFhMSVI4Rmw3YVhNeUpVczNuRG1HTFVzJTJCbjElMkZnYmd2JTJGM3FwQlF6SkZ4YmVKdGwlMkZzTU8lMkZuTktmUDBUZjA1OVdraUhJQ2Q0QXdjMlFtOXk2SzczcyUyQkY2cUhWN1VvMnVEZDBwM3lyTnUwZlR0JTJCZVZ0eW56aiUyQnRsTGpKNHR4YzFCMmRhOWVNeU9XUE16UkJpYzJYMkFsSGJhJTJGRTQ5WSUyQnBxd2ZFQ09wWVNTZW1EZXBsSlpvS3hCbldaelBzaWZ6OXdUVkpkWm12U0lqWWk2RDFsdFNzdHZ5dnduJTJGQ1BFbDlOUnliMkszdHZIcGVSem5IMk91cyUyRjVmMkM4TmwlMkJndnBhJTJCS1NGYU42a05vZzB0OXlQZmV4aEJmajJBbGhNSHZ4OVlFeFFjSERRVTlYMldWeDBoMHA3NFFQSTgzcmZyazFaalp1Z1JDTjZuR0o3dkNNRDJNJTJCV2Nhd3FvY2xvSWZRSiUyQk9rYmRtRWVnajFqaU8zbjJyekxsbnUlMkZvVzQ2UDdpZWhLMm50aURuV1FnaEFDa0pDZFRMZEFtc2dCdnQ3VXo4dGpaR05wNExUeWZSSjJiSHllV3VRcTQ1V2NsREY4WG1YVjNiQTJiRncwZmM3SnJscjZMNms4WjNkVDZkZkhGbkxUUDVOZ21rOHhod3ZBbyUyRk84ZFJmUWVpc1I4eEROOWszRE5EMTVwUFBLcyUyQmZGdHdLNDZUMW8lMkZOZklaQm5oWFUwaGNkTSUyQmNKeE5PaWloNyUyRjFBaSUyRnRRVFJhaER2REwzWTVpZTNFMlJkQlR2Sk1yZk52QmJrQW5rRHdZYnR6VTVwJTJGYUdjeXlCQXRodlRIQ0FvZlRvdzVaSGg4bWg2TUlwUUNGY0RvS3BzYVhXNlBRYlB1d1dRTlRNeHU5Y1hMSWUyVDZNZWZUSXpYakl2YUg3Y1I3OHM3OHhON0NCUWlRWXBMYXR4cGduUGpSVDRZcG1rYlNtZ2ZWN1pUQWdwdkozMnY1b3FsSTVlN1p2QXVYcTJ6QXJyN1Z0Umh3OVAySFFMdnhYbFByQWMxaERXc2lHM3dnZFFuVTJwMTFSUEZma2xtTllmaHAzZDQ1S3hkUnQxQURaUDNQOHgyWExxSnk2NTZDWHNOckVXUkNQVGwxQTdXRCUyQmJkelp2dGdxTTNaaEFmSklndnlOaHlZWlBiMEJzOTZTQlRNMEZwNHVPazgzbG5jNFVTNFM3VmhXJTJGUVlqQVY5Y0U0aVY4aTVoNm9PZG8zUiUyQnlnQWFLc3ZtTmlKd1ZSSFZiJTJCTCUyRmElMkJZOXQxWm1mdWxaakRrRGtITVZNejVpQ1NZazVQYjdiMmQlMkI4ZjdPV1JsejN4OUp3dGlleEdBMVVBdXZEOFRhQ0RnOTBJejRrandvdk43QWlhYkhFUGNHb3lNdTB5dDhlUHhPWG5weVVBUnZBWndScU5EeXdNNExSanRGTWNLMnZUbEdRd2lENWx5RUZEZW9LYmlHUktocEY3JTJCVUlQQ0JaY3Rnam9ZQWt5ZTZoUnR3JTJCamxFZHRzMEd0ZDlKSFF1c0o3RG5TdHZFYURtdms1Z25VRG55SVNPRHRoQnFvUmhTbUlodGlkRGJsVWxhSGUya1NReHEwV0N4ZXpUanB0Z2VEUVpYRXA1RFY0VUdIcjJ6ZW9yM3hkJTJGMmE0d3N6M0JnY0F0dlF2dUI3WDF4d2IlMkJYM2hPdTR6aDUlMkJpVFpMUTVOdGpETEVRMGFaNkRCYTFvamlDVGdJVEh4diUyRklTaWNCbkl3Q0lsWW14N3lwT29BcUwzY29CNWtDbDViNWRsVHlDOGwwZVNKb0hnZ2NGSDlONlNIMElKbUJKUW9pZzhIemZleXNBTzFXUkY1RDU0aFoxVlNHdWpibXIxSFNuak9qdW5iZHU3VDRZNzJub2hIMWMwcXUlMkZIeHhTaEIzek1leiUyQnpkN2U4czlBeVhvJTJGSFk5VldvWGltMkRYRkJHVmpZdEZKQVZiSVlRYmV4UnlRNEdkdjNRdCUyRnZCMnJ0WkVUJTJCU2tGUGF3cFREVSUyQm9SNXlsa2klMkZwdzA0VVJjWVlRRkRYMDZDbkE4R1BQUGxQdTVSYiUyQkhoV041dkJPeVNHSnlQeHhHRUd1MU8yU1pWMUFBJTJCMlhxSWxRbENDMlZyOGk4Q0xyRlB3ZThIc3JwR0lBRExsZkNYQmpLY05yRkVxa0ZGR1cyWHVBMnFLcUxWTEczNnZVOEpXbDZ2SW0zTUNzVktNTVJNWktlc28xWUZsYzZCb2diNkRSbzRNbG4wTDhNb0VpNk1IN3d5UCUyQiUyRjc2d2RNeEt4JTJGaXlSb0VObHZqNWZ2RVdEM20wWWd5QWZaTlBBZlFFMW5xVjdPcVpFYnJOWnZrSzFjVHljdVFMSEJrdTgxdnk5aXVKQ1E3YzdmMzc1ZURtNnB2Nk5uYTJTT2d2cWh5RURtQnRqVFBRQmkxR2RyU2hHSXNmRnlmendlZjJMZVFpMklZeE1kT042cHhCcTNnJTJGbGduVXMlMkJXeUhkbGxhdlRyeFM0MnFxSldrTjF3TjBPVzNFSXY5NkVXZWoyV0I1czFOeGk2N1htdGxhdzY3dCUyRlYyNlJob2xSMiUyRmdOd3F5Q1RLTjJQd0huUiUyQkM0UWY1UVdmdVFGSVFSVDZCNmxTWCUyQnZuMnB2OXNzMnhZMFFiOEtnamZkaFB4JTJCUHNkZ24yVWklMkJWd25EWU9SYzc3eFR0MjVNTFNIcXJ6TG5hWjBrMjAyJTJCVnFveFk4MnpVREloNjBnbW5NODlRdlh4eCUyRnE1VSUyRlZobDVKQSUyQjBOc1JDemQ2JTJGOWh0ajA2VmVHY0hPTzBJaDFyYkZiQXFNN2VwM0FzUnREZ1VhZnklMkY1ODBKQXEyazVYazdjS1Y2TUQlMkZoTHBJbVZ1RzBJSU1aUHVCVkFreTU3WWd2bnk0NWdHWlJCJTJCQ2NidjdySGJ1NDU1NEdzRE50eHJpcXMlMkZ2UzlJNVFPYiUyRkhHUTdLZkYlMkZxMjZ2T0JrTnpGc2pKSGJudloxTEdaN0xMZ0VPc3FOR3A3TSUyRlFEMiUyQnJhZEhXJTJCQ04lMkJIdGk3V3NIa2Q0bXc1djJTeGdERExLM1l4ZTRKU1EzTlNaZm96Y3pEalRDd0J3clFNenVWQ2hUbEJteHBiTTU3NEVtS2tXTlo1TkU4d2tVUUVRdGFKeUpEOXA5aCUyRmt5VWFQUzdpYlhBSElORXRQQmhSRTlSWHhSODZENm1tOXRNRGxKZVIlMkZHUldMM1hXZ3p2THolMkZGU1J1V2p6S2FvaXJtUWZieVA4cUxYdEM2Y29NQzclMkZWdERlbXB2Y1prakV4UjlJa2Nhc1lTTzIyVGRvTnZrclJFMG1XJTJGZiUyQmdtMTRTbmtJVHV0VTZaWUNmZVBONnhhYkV0R2hKRyUyRnZIMWFUdnNFUGVTbGd1RVllU1hMRE1zd2p2dWNTZFpVQTlQeEZSWkxTU09JJTJCVlZhczVyY3lUWDBKbWlFRmxTJTJCWDBURUcydzBuNyUyQkoyTUFtbEh3UDlaUmVUS3Z1T2I1YkQ3ZWVodldKNHdPWmU4U0x1OXdDRGtISDVUU0NGU1JnU0RHNTdiWXE3YXU1aXZOaXJnTlFXUGJzTjRvcTVFJTJGNjJIUDB0aTRqWlNZdGxVNWhFU2VDZEFCVzYwbklDYUw2TjNFdkdZNWJaSW54VUY4ZloycjhCaVJmMENBVm5NOVhBYWJMUGxid0YzZzFSZXUlMkZFR2RYNWdzT1VHYkE1UFZneVdyU1FHTFp6NGhmRWVnNWRDd1FnTmx1SVJPaXFYJTJGN2xrNmxuVEgxTzJzYXZXNiUyRndac1hYbDM0aHNlVHhCTiUyQmc5Tk01JTJGNHJ2ZW1ldklSOXAlMkZoeEVZNFh0Y1ZhM09DdkEwVlRITmtyZldOTHRNWVpSJTJGcnlFTVk3MHpBdEE1OUVtUDk5N1Npb0hNNUhaakRkbCUyRkZpTVZGYSUyRllGSXlXUjl4QUNDZmRoMmhmckl0OE5qJTJGQzJoaTVkMGYxRXNpZDRTM1JHWTRubVlVNVYyaVo3U0VHZjI4dEZmdElXdEtEVnozeTNRNG0zTmdFV2ZnNWVwcjg2RFZabnhLRldiJTJCRXEyeU05JTJCN0pvOHU3M3hJSWt1R1BIU0c2djlrRnBXQ2Z4MUwwVktUVVU1c0VWJTJGWmJXWUw5TURINmRQNXRGayUyRkNuYXcxQko3RExlRXFzYSUyQjI4RDIydFVjbFJlUnczMEN3R01NOWZtbUVGVHpKTFhYWGlkZURhNVhmY3Uzd2F4OHZxODdpcmZHSTlHTWdmdEQyRm55TSUyQjBmWFU4ZGNaMjI2THlnUll6aU9OMzB1NnZFSElhMU41d3Bzdktldm8wYlRHSEdGdEc2MDh6WERxd0l5TkE2NEY0dVB4dUg1dzhJa2p6d1g5Y1FqJTJCNkVBQjVHdTE2RXZFUW1VZk5nQnhJV2JrdGxqTjNZWEclMkJHQzlXOVRUM2pWRHJzUjVISU1uaGk4WlgxcDNRRlF1eUt4d0w0Tm85VDklMkJZZ0gzRkNMVzJteEVkV1BDWUlHVGVIOENHclF3ek5yViUyRkxlaDN5Szdvdll2R1JyYW1jOUJoVVVPV0ZuUFRNdTNqQklaUmN3cVYyVzZqekJnSkxCcE1TMGslMkJUaDE5c0klMkIlMkJ0cCUyRjQlMkIlMkJva2JObFhCczJIdkVBQm9xdTFySHVRN3R4MTclMkZCaEszNkNMT2dRJTJCajhkbmhSMGgzREZIWFdJS3hYUDZaQzdYaiUyQiUyRkVtSU9zNVdxaklQaVVPYXY1UXdLWUhqJTJCbXdPYlcwc2VIVEFZa2NPdUV2MCUyQkZVSHhwdWNJVGNuMCUyQklpSHZnU21RV0sxQWp3T214d3MlMkZCMFVCZmZ6OFdIc1U5eWZxQm1pYkVFdHlFSzZhUmxUcGNzbjJjWUl2JTJGRXgyVVdCVG41MkdFN1hUdU1VZFRsbHNwVlR6ZXVnTGkzZTFKUEVJcHROT2pKdWVNbG10bUs0MGJEMUhRUmJjcHJ2aWxUT2gyc2pyVUV3dnZndUQwcGU1a2I1S2hqd3Ntak8lMkJZdkhYd2hJS040eHMzbnZCa25aVXVhd2FiS0VyemZyNTBPYTVHM0VCWWtCJTJCVmw4dUticmhFZk8xZEF2QjBhQVBuQWJWRG5UJTJCNXlQOWVGYTdiVzNLYWtnQ3lKTHdodExQbERiSU5qalBIcG5VR1dPJTJCZ0tOQkkycXY3dGxtdFZleVFzYmZ0bnNDRDdocTFMc3BXcHRPb09JenhtZ1Q0QzJtOTJjJTJCWnNTZXJBYkRMVWhjbEgwYWZ1NngyNXBHUDJEMm9pSHJWcE1XazBxR3BIT20zSUhJVkhiRFZYSEJ6c3hUdDlwTE9hTFRDdlFiOHJIWHF4aUNjeDhuTUxXV3RsZVJJemt2RGYyalglMkJGQXUzQkdTbyUyQlo3eUY5bkFiTjYlMkYlMkJMUnYxanNwaDJ1SWZsV3BOTTJSTkhQVVhWNzllJTJGUWZuVGhHWDF6S29tYyUyRlpSQUlzUldZUWt2Z2JWSlBFUHg0TlclMkJQMW9wZGoyTUtETGhSOXFJbllDV21idk5xTTMlMkI2NDA1dkVkVjhiMk8lMkJHd253RXhqSnNIM21YZWFEeFdMU1ZDQm9NV3VNcmtPMUdxaVozWHIlMkJ1MXdLY3I0d0NSRFlOalhhd2VSTVpZQ09hM1h5NzZOSDFrN2tBR2hISTdBZ1BPMzhpcDVSMnBHVHZVQTRLS3MzSyUyQmlLTmZSb3glMkJkMEpYQU8wT0l1aFVrR2dhWmREd0t2bVdFeU1ubEtMTktnZHN6ODdQTklrODd3UFgyTTdwdWJlZ2d6bHhnQ0V0NVB6dW5ubFEzUGQlMkZTMk1maEVXamwycWs3YTl6YW9GQTFXS2FLOGxaJTJGJTJGeTVxdCUyQiUyRlBPb041SXB6SDM4bk5SUm95bWk5YkQ0WlFSRjVCRDVFOWZoQ0xUN1d1TDRnQ05ob0VHS29sOUtPWHNpV0QwJTJGcnBESmgyYTd6bmRnJTJGQTZ1THV3WnJ6OGNPbkQwbUNzUDhJYllXbnc5Z3lWeGMwUk9zN0R3WFhnampodUZTZzRIWlZVbFYxN082eUFyZEFGOVViVGQ2Z0thcWNjZk0xaW0lMkYybzdzclhxeGhiZGVOUDNYVEluWWxGeE9iamp0JTJGQmRDU0N4d2VvdVlib3FubjFZZVJteSUyRkYxbzNBejhDb0I0cTQwMkxxZ2dFdmtMU3ZWQ2VPT2FGdFVUdEtlcXltUXlaUUJ0UTNLNXhaSWxuTFlMN0NEcDJkV0liU3BvcXolMkY3JTJGc0ozd3VJa0hkODQwZVpyNlVUWXBMbG9DeGJkQ1lYNjllejdCWnoycXIlMkYyWTlFRUlVWGNNTlZoUSUyQiUyRklWR3c4cWppcDhiem8zM2lFV3QwYWxSTW8yNTNDWTFQYzRUM2hweldlRXhEcTdPR0dJRDNXNWlHaVM0TGJkTmQ5MTR2QmJCUk1XYTdINTNiMzBGJTJGOE1zNFBmR0dSZ29kSnAzNFFKTDFyOE8zbEx5SlZVYm1QcU9COElLdm1xd3k1RlFYcFFtQXQxZVpiTjlselp1VUx6VTlhZlE1RUR4ektaQjZDNHVxNE11akdnV3QyY282diUyQk9DQUJCU3VQYTZ2aSUyRnZyeDY4MiUyQlNPNWl4REFuVFc0WFUlMkZMdTU0RUQyTHNNJTJCbmglMkJYRCUyQkVPeHJPUlc4YzJvanNLSndnSG9Lc2p1MXFvTTVzYWJjZzVZODhPQ0J0N1UlMkJaeHl4RUJLSmxPZUxBemxXYXZXbGtYb3c0RWlTdXBxYmhadGpaVjlIY1c5Unp3T3ZEZTBKb2Y1RlFYSGZYdXQ4JTJCUzVKNmR6aVlORm40aG1nSk80cEJOanpnOWE4UWtJTGNkdWhtWEZ1ZUN0UCUyQkt1dXY3TDFEckw5RTVKdWZCUmpxT0ZLc2w0NXRvR2dMVE5UMlhsa1lIam40ekJoTWhyV0p2bDRnSW9yTklpS2JVQXd4MVZhbEZISkdqSjRDdzk2RzU0MXlGR01ScU9pbEI0TDE1WUZuNmpEQ2hYaDZxWWdtNXRaam5LRXglMkJuR2VseW5TJTJGN1F0S0FHVVVjNXcxdm1jYnplNVdlN0s2ZUlpSGFNSUVkMlpJdFNjYlhVSDJlQ0I1Y0ppdWV0NTBVZ1BrTGhKJTJCcDhJY2IwMHNzaDd3cXI5MzJDUUJKU3dFV1YzQ0xoeEQ1ZWFIb2l4VVMzZWolMkZKYnlRNXUlMkZUaDRRQ2tkYSUyQmJ3WVV3UkF3WTNmV2VTNWhqRWQ0eTZoUk9RbVZGSzJwcElyQlNJWSUyQjZSbVNQZWU0WUJseGRkMVRMWkwydWg4OWtSMVpNcVklMkJEdXp4c0VDeTJjVXViMmozN2I3aiUyQm1TOTRGTlRabUdWSWxXMnBYd01leks1ZlpnYXp1T3RWd01XUGt4VFJnQWpYS3htRDEwJTJGY20xZ1J2YjlXMUloQU1uSEklMkJacjlwalZBWCUyQlZBYW9mNHM0V2pXZXRWZDNlblR6NlpYWDhVa08xZmtNN3V6dWVFWGduUUVPRGt3SlRKTk5xZEYwdkgzS2pzcW14VDc3NWFhN0NPd2U1OFA4STY3UFYzamFDV3pqUmhlNiUyRnYzZlpmM29FdWpxalRrcEEzaEdsTVF4ZXI2N3ZCSUg2YTIzaEJTNGV4bTZWMk1kREN3cFNZYkUzRHQ4eFk4VmhBcEdrTlNKcWMlMkZvWGR4Mm05ODUzOWtBZFZFTGFIdlZ4b01PRW5hc3A2SGx3Uk1qYnAxbVNFJTJCQzJVaiUyRmtoSDVCT3RqUDdlQUZaeGxxT1BmQUhIekFwNHlVajBTWUEzWCUyQjE2VGV5anFudUkwRmYlMkZXUUhJeG96TmVxb2VKNWh2Ym1SZG41UFdTVzd4S0kyTWdxdjdQNnV2a09OTmdNdHUlMkZ2Y2p0JTJGJTJCSVJWS2xDb0VKVkVhWm1PZlQ0VU9VRWZGbkpJRGhuWGZ3N2YyNGtoQ1Y0N3R0ZXBCTFhqY0ZxczF1c01NUkElMkZaSGJTMmdsYUdYejVoN0NiU244Nm9lOWl0UHp1eSUyQnBFSTlSWXZ2S2VNNFc2cnZCMmsyQ1NMZUtqNGd0blVNJTJGSVJTZ09xSUNMZGE2VEtTbSUyRmQxWEJ3azB5cGFEeDVvSHlqbldDZWtHZyUyQnJIMTc1NUhRR0YwZ3dQT01mZ281bmQ0ZEEya3NZajdCQXNaeE1Uenc5JTJGNyUyQlBibTVIdFZQV21QRGZOSVlOWHlWRUE2Y05KbTZxY1lRRGN6dlNyYUFLMko0M1lJRnprc2NRZ2pNZ0NSWlFjRTZ4UmFWaFJia1ExdEw5ZzRLdEVLMzk2Q3MlMkJqbno3N1FTMW1COUxRYyUyRjFxJTJGM0NwZVZRUWVyaDc3RWxKczdsNEYxSGxGcHl5RnNleDMxYjdtRTE0ZHhJQ3Frdm9zZHJNcjBkUkk3V3A4QUU0R0ZIbUcwdFhabjhzR3pveUpDM0ElMkJMNVFjJTJCVSUyQk5tZlgycG0wd2szbnVBb0F0N3lMUXROMjJCTnFNSXJFd3JMUFJzQkhURWszT21WMkhNS0owU0VVbzVROEhvMCUyRkUxeWJ2UUJMWEZnRGowQnZCazhteHlWRWFTaG0yRk9qU0FzY0xsMmNNak5HUTZNZnNPQkNYZ1lTZGNlR3ZGUVpYSyUyQkdOQ01HclZYcXRJbE9zdzB1czM2VWtVUmdHdDhvakpIQm1mc0phQzN4dmZDSlVHTVhBY0NOTHRaJTJCeEFydGxhZVdlMmtsYllVUFdzZE5vOHlHaXBYT3BiR2JXZ1Ewb2JaWXBwJTJGYUpUSm9ONlIlMkZjNTgyMjB4UDZnQ0RrbVdydWJ6Z2I5bFpJTTlLdlIlMkIyc0xocUI5cDhpWmg3bTBTdDkwZHVEZ20yRUFkZkFXZThaOGV1Z2VFOEtBMEY5alFYU3ZSblVsdkpKYURydmZ4ZkJPWFpMdlhKQTd3a3ZzeTJ3VjZHQXhJZnBYUFZFeFViUVJZcDZBcHRtenVsQ3RlTXdXMDNPNXRleEZiNjlBcCUyRm9ZeVQ4JTJCelBoOWI3UTVHRmNMMGlSaVpNRGlWWVlZVGV1TUhDNko1SkRTN0NHcGdlUzAzQzMySURPRWJCbXZGTWVib2xveGtQMmozS1A5cVVCMDZlZyUyRnB2cWZNOVY0Nm8yUHE1UjRVUThnOERlaGhVbjU5QkNtMHhPQ2dGS09WM0wyQWQlMkY4MHBTZU5zNkg1Nm5OalJUZE1YV24ycFNhVHNPNTYwOGFaZkd1MmRnOE00OEJIb0tIN1IzbHBhYjB6bXh2dmdPc0NMeThZSUtXUW8xaUNhRjRTRTZVY05OQjFjR0R6elF0TnpNRXFOYjNFd0dCQzk4QkhkSUhBeWFmd1hESkJOWG54Q01HTCUyQkNFcXN6aHZSJTJGUWRwbEtXWnEwQXBocTJzc3MlMkZqV29JalRsZnNsSUEzN3cyNEhPTUNqeEdRazFrQ0h2SXpsSFlkOGRsb2RiTE40NEpvM0JIamdBdGg5eXhIQTBzUVJ3cWJBV0ZnbE91S25sJTJGRVNxUWtpSENDM2VLa0Nvb3IxdmFqSEFBY2pZSGdWenVkckZmU3AlMkIyS05yRUM3bU43eFFhaiUyQnVESTRSeUtvSnQ5bnJLOXJiRkZXYWNHUWlwJTJCRGIzZ2MlMkZyQk5aV2dOV3NIeWVsQlpPbDZ6OSUyQnRqQjdtTkZtSTlsd0dOSSUyQjNtS2tuQW5pWUhzRjc0bEhiNFkwVWJKdDltYXJJeXAwWTN4Y0NYJTJGRFFOMHdDdHJBV09nTXZGVGxVOFlDS2RHUFZCQzd0dXJrZ2QzTFBxZWZnbGJyTWVoSE1BMFFwWGRGazFNZ3VSUEprb2xNMjYxcEc3TXM3VDZhMVBHaCUyRlZzM3hiSyUyRjBZa2lLZXlXMGxvVE5tdzdXJTJGOWl6UklsRDF2Z1JXekRySmNGTEUlMkZuR0Uya2ZURyUyRno0QWpyRUZzSGplZnJNQnF4VEFDbWV6dTFzcFNoJTJCY0F0akZXcWhHUlZiQlZURUZXNk04ek9abmlqbXBOQWdtMXR1ODhUR3d6Qm9reWFiT2hFQmZXRG1iRlFUSmY4bFpFTUZOMUNSbTYxMzhiaFE2a0dYbFhTWiUyQm16eFJXbEtWSTBGMDZxcm1IRVBpUnFBVU9iWEZTTlJzVUFaaXdCSGZyOTFaNXVpbVV0YVZwZmh3allSZjlSVUdBQ1lsU3RtYlY4a2xTZ0ZHOUlXUEJUaGN2OUg2ZlBObTk4MTd1Skk5THFqUzNuWVolMkJrNGV5MiUyRk5CTTJvVDZWU1lJJTJGblklMkZkZDh4Qno1eUhtJTJCTTVodFRZY1JPZUQlMkZQdm5XNU9vN08xUG1PZWQ1anZmSTFtdEdWZ2ZrWTFua3U0eTdKTEZIbDROTCUyQkxNMGNZVFIwcUFvSVoxSzY0VXJyJTJGYWdmeXVWRHJkN3FJd2kyREwlMkJLbDBTJTJGMmN6TnNLUVUlMkI5eGw3dzVuVzE5MkNjS3BxZjEwMWRmSVF3WG0zSXR4Y1lrTHU1JTJGV09WOUR6c0tpbHl5U2ZLcmRFSWNpUXhQR3klMkIzOGNMejNwVFd3QWFsQXhCbTNXVWtBYnA3bW9USmw2JTJGTEF5N3JMbGRCJTJCcHNvQThoTXBEUENQNDQyakI2OXRVUGNMRVRZOExaQ3liMmFkQVZQZE5Cb0dCdXE4YVRqaDBjOWtUZjhjUEJCVWQxSTAyQnpTaWJrbTl0eXp3RG9EcTBnakMyRVNhbm5BOXhocnRQJTJGcHB2SEVhM29BYWg5ZWZhVHNhVGFyM1ZkclhYOW9UYUkzQWNzbHREaXZXeGhuS2RYd0V3RFZDJTJGbGtCVDMwbThtRHd4YlRhT2J2VmJ4OWtQc0FmVHZaOG1peURTd2JKTyUyQmxWZW4zSVYxQWRPQnNqYkhXQyUyRldhcEltZWZ2eTBzYWJJRW9UWDd2UHU1bDl4OHJsNk96VmU1MHVYNWRIRGY5dnB4eWsxQXp1WXVXakl6MGxJVk9ybVAlMkZ1aWFzZWZtbUVKejh6clFaYSUyRnptRTNjWEZFN0VnZ2l2TE1WVVRxRmFLZCUyQkozMzBNc0dBYWNDMklUbTllcGloU29ibEQlMkZiMnFjWEtnOGtBTk9KODJSQUZZcVUyZyUyRkg2TnI4SHJOclFwQk1uNXk2bmIxNElDeFRRJTJGaVBKcG1sQnNtcmF3cXI2JTJCdVJURkRmYnNNOGIlMkJpZFhGNVolMkZab2tiTDRCYzV2JTJCUXpSdExKalglMkJCN283WTB0NGJWaWZXekw1RVFKdWUwdmFGSVRyWkdiODdXd21Hc2doa2k1YnBTaTZaanNJNlFPem93Y3pVNzR2T2VvakUlMkJsVUd3YUV4U0kyTHFVRlg0WTlGV1gzbUFTYTE2YU1YRXlWUHBSczA4aFdoVXZHVlpSTHlsWW5xVUs4VVpHSyUyQm1JaE02NmdHM2taMkYlMkY1TFhtekNvbjloWmVpdWwxQmMlMkJRbDMyRmNEMlNudlc5NWU3ZDBVV2swSkhPOTE0JTJCejJNR2gwMFV6ciUyRmREWjUxRlFJVXhiOGdQcUppMTVxZ0slMkZNWmclMkJoQ1lkY1JXSG01dnVyTXdDNFB6eUptZ0hWSko4QWglMkYyR1pXR3VMU3lVSCUyQmUlMkZDczc2RzlGakpTZCUyRlIlMkYlMkZWY1lleXJUZCUyQnpyQU5xam16YVlNU0xXSWIxbDJKTWNnQ24wJTJGaFBNcm5MTEUlMkIxTzM2STN3bHp2QUhoOG5Ed0Q3RmhYdCUyRlM1Y2ZONVAzTU1uJTJGVk04SjhvbmdzbFI0dHQ4a0dEb0RTVFRUbXglMkY3SzBYNjNFN0FkJTJCaXZLYXZqOFRuQ1E1SGNsTGxnYkhCcjVmemhxT1pmTUJuRGxrZ1pRTDZHZWw2bE1ldDhJcFNDRm1DJTJCbjVSRCUyRk9laGRMb2o5czUlMkJKdVVnemN4YmZmUW1iTUdraUNhN3RmS0pONTZDR1Y1bVhWNjJRSGk2aExBUXJsR2JzWDBaQUlaOHJvSXgxTW5HTGp2Z2k5Qm5maE8lMkJBVU1vYThLbVRJNzBwa3ZjbnRpbzB5JTJGRTBKcFhzJTJGVyUyQkNvY21DSzdSZU1RZlNnODJmTjZGNXpPY3pwWFNKQmJtQnNMZUFWamphUW5ncklZOTJCYXNrWFFBTGRsbkdiaEx6cGJNR1FwcEhZTFZhOERKOGpjbUluUiUyQnZMUVhYJTJGY2tTdXZUUGVHdThqMmZhWlg3RUNac2glMkJSNTV5aUp3c1I1VkZaVnVET3AlMkZGejJEOVFCN0kzSSUyRiUyQjI2TUVKR1owZFE4aDFGY0tPQTQyeEViaSUyRlA3VEklMkJicGVGT2k0ZTZEU1RSYzFUTWI5S21WRGE1REttSVgxNGtqaXliMyUyQmp2S0tLY25ETVNnQ2tJaUpST294d2x5UmMwMUNUYzBQZ2NqeWh5ekdrdlc3aHE4Y3lWVWFrMXglMkZzNEtkSXEzZXpYU0J0dGY0NEw3QnRXbExucU94UFNBS2VjJTJCUTlvSjFGS0dyd1AlMkZkWHRWSjVmM0FDTDJRbEZzUXZ0M3U5cWVRQyUyQkU3aUthdGJtcGRrQ1dtTWd5ZTN1WlhDQjFzTmU4MCUyRjh1d2tlazJGYTZRNm9WTkhraiUyQm5YNWkzeGVScHI5YVA0bzRQYm1oMzN1MjFqWGpwRWc4JTJGZGVwYWRBb1gyUjU1cUozQktCRHp0MiUyRjNXamtjQWdGVXZnNnYlMkJ5Y0dwNzNncFdIdDdjY3FHaXl5NVRxN2RCVTMzaTVTUTJwa21jdlM3NjZUQ2olMkZhUnlQdlhOTW9Fc25YdGR5Tk9ENFEzZEl3cm5USmlEckhlMm5YODU1YTZKMmdBZVJibVRPanoyV1clMkYxdzRzTlVJTUowdFJsWFcxWnQlMkZiUGJTQlBERyUyQmp4JTJCRzNwdXozVjlad2h5TU8lMkJFMnRpU3BYNG9hbFZuYjA2QTZEUXpwTmZLSW5QZCUyRmF4eUJtQlJBOU9ZYnVjbDFqUEwlMkJYdzElMkZyQWp2UXlXWURuZ3BlN1g3NGklMkJCJTJGM2szJTJCYVQ3TTAxb09nUGtxR3JIanhiaVJRbW1ua0Y1MmdDTlp3UnlRa1N3RyUyQm54aiUyQkYxeSUyQmJFY3JpaWl1aGVEVVdmd3VsMmZpQXZOZldjdUg0UXdtUHllVmhzMnNXNFMwU3oxcVo2dlM2YURab1p3anBWVnpSeCUyRkpwYUFhekNvbXBKSyUyRmZIa2FEdWhLWUt0MEVUZlR5ZVVvemd4TFd1Z1h4VzRCbGwyWUclMkYlMkIzdW03aFJvUkxnemJHWWY3eDZhJTJGU25nZHRMcDNPUk4lMkZHNXFRY3U4R3dXekVrZTN2QTNxWlZJOFpVZWFEcGdSanBGeHdkenVZMEdEdFVBSEhhRzI1MmVtQW5FNmhvRXpLZGdWVFM0dDdJY2tad1ptJTJGcnNiSHZLWm9kN2ZYT0dQdm8yMnlJUDdyOSUyRkJFaHNFWnc1TlY3dWxZNiUyQnFyZ0lpdzRVQlZCUm1SUmVnazlPJTJCdGJpJTJCUmREbEtkTHFzajYlMkZXWng3MjhZTTJxYWVnclduaEt6a0Z6d3F1T01JJTJGWUclMkYlMkIlMkY4c2wzVHRnc2lxbWRYVjg2YXhEUzZscjRMTSUyRkliSDZ2UyUyQnFEVGZjTWVIbmdLUDhnM3czYlpKOG50OHZ6JTJCNEhrWDZHYWVTRyUyQmZJd1c3YmJyJTJCSHU2WjNGQkk4TXVmRjRiNUgxa2luMWhvdUUwNWZ1eURsWVklMkJmaDRBT0E2MVlRY2ZtZmxuVmJ1Q1JZNkk0OE05Tm5BQVR3NUpibER1YkI4WGg4TndJczlHZkhKaUo5Z0wzOWRJaHZnd2s2OWlDRnlTJTJGNnA5bCUyRnIxZUtKMVZSdGU1TTVwTHEzNFh4Mmt2aUNlS3c1QjVIRmJ6dlk0Tk9xbmJ0NjRMcmpVWDdQQk5sRWpISmx6NHhDazBza3ZKck1EZVVMS0dXJTJGRHlTSyUyQk55cHA4OVVsVGt3czB4a3YlMkJET0xhTmxldjh3QTNnczRERCUyRmF2TTRqVlB4VWZuS0M1cGVxajY2Z0JQMDVObjRpSzBZdlJvNlNlQkVVY1k5bUdwMXJOYkR5ejVaUWxqZERSVmxzRXVRTzdVUDE0akMwRUVYc0c1ZXpOcUJIUEtOJTJGWkxUUmRLVGlXeTB6cnYlMkZjejlVakJzc3FnUm1CQVBCSG5ZbWVtdENQbWZnWTN4OThNVmtMWm9lQ3BDU3JOdVhIMHIwWVlUJTJCNkszdnpSNnFCMU45VCUyQnliQTBqZHp1YTV4SU9aJTJCQks1SUhQMlVsN1k5dDl5WjlKdzNFSjBxSXRndktDdk9NcmhKcFAxJTJCdndNRldyayUyRm1INiUyQlolMkZCc1JwOTY3U3JYalBXWmdSQzNpckwyTHYxTUVqVUwzQ0VNWGlZTE9ySkkwem44ekNFalZNQUVOM0xOMFg1MUs5bVhqM2s3anZVSTVUdllvTVJXNnIzbyUyQlNKTG1hWFNvS0RlaDBYVG1IbFphenluSjg0UDZNZzhGMHhHcVprJTJCaVoxSG5pUnNRJTJGRVBFM0VURXp6YnJad0NEJTJGUkZTWWNFcUVJWk9KM0hqNGZIREk1biUyQkRlS0dsTWxaRThYaDdlUHpTJTJGWEFlYmdqdUNFanlicDZBMmJ4S3ptNG5YJTJCdkNQckglMkJsM3dHMFNMUEJ4bmM1aCUyQkxzV2JjUDFPdFlJYTBDaVpsOEh2N2R3UDh3SDZ3amclMkZsaWtCd3NETyUyQlNDcnpZRWM4QmJ3VDNNNDNheUxHaEFOQmJlb2p6anJZU3RoQW40Y2Y1akNMckJwVDgwSGZRcDFtVWFuODRwNGd6TEJqayUyRmdUakQxdHdqMGVxNHZHRzhSZ3Ftb015TWF5eDklMkZNVFo3WklNb0JUUUNsJTJCeWhGJTJCZXVreU5mekRLa0NmQm95dHhHNGozeDd5UXhUcWQ3cTdhZGI3U1R6M3cyNThjQUZ6cDduNnpaVU9YZDNscHNPSHc1S0NGdWpzcnNvWmdwa3lHcGdzVzd1dWJDUFNlJTJGS1lrJTJCbnFiVyUyQjVPMlFhJTJCZWU1TEtXdG12M2JnT0dmalNIS2NXWXRJZnBUR25tUTVBVG5sdmVSZklBTTk3RWxVWGl3bWxocjNQWFBlWmlFRDRCZ1phU1ZXckFCeHNQS3F1MVFZNXpqcUdkb3M3M25CVzZrTWolMkYxVDI1MzdlJTJCYTF5dCUyRmc0UlQxOXdlVm14Sm5JTkxXJTJGTkRHMTVVQ1dTWG5Fa2lvRHhJSHdmenVaMzhodWNyM1ByZVJmTWtEM1BCN1dUS1NrUG90aG00ZUl3bWZLSUhIVzB4RkdrMzVNYlhxQlpxZTl3cWI4bjg2QndzM2M5bEZMJTJGM0ozTGROMHlleHhVdThVMXNTaGc0WjAwb2xRSHE1M1k0TE1qN0NmSDJpR0sxVDhvUEc5YUI1dnhiUTdNTVMzNzE2ZDFNVWZ5RGNxN3FCbmtSN0lOa0J5UnJKYlg5OG11ejNaSjE1Mmo4dmFwSWh4d2d4NURDOE5sNHY1RUF2JTJCb1k2Q0dVJTJCNmtkUzNSZFI5SnNYcFdIemdtWWZ0Nk1ndmZyZiUyQnhUZ0hCYXBKQnpLMDFnQTdnTEM0OVJMdFRHUmo4MlpVZnpDOUN1NTFNcFl4anZNU2J3eWNYdFdQcGVJQzFYVTFIVzdRR1JMMWklMkZwSEgyTnE4bUFPeVUlMkY4U3hWTSUyRmhuQW53Rk1PNGpTenlTT0Z4bWNUNk41a3BjalBnVW5lYUI0OW1FRWJXOW5zbjZhZ3RWS1VtcThjUnY0SzdXJTJCa0NzMiUyQmolMkY1cWgxbTRjeXR6Ym1RUFJOemFsN3BUNThNZzklMkZaTEtWa0E4OUhrOEpnYVNMamdQQ2xKeHJZZHV1Mm8lMkZyJTJGZHpIbXVXTEtJM2FNc2FRSk9iaGhqYlk4eWdieG90TDFBb2tTZVNqVjZReDFWYU9QWFZpT2xxWG5zY1I0NmQyYzdiSERlMldLWUZwJTJGRmY2RGVyQjc5JTJCOFhBYzJDRVNnJTJCb1dnNiUyQmZhM2IlMkJvTzdGVENreU8wMGVWY3M5ZlhBQSUyRkx0QVA5emc5Q3h2cUVFY2dGUW5WU3ZqT0lnRVVHR1lUZ2lHamt0dEt0cE1tWWRMOGhqJTJCbTV1bUZaUlFra1Nua2NJSmYlMkJHdzgxM2hWczRQdkIzNE9ldnJqJTJGblRWZGtYTjZtamxMWFlDOWt2MGV1Zk1UUTZ0UVg1ZThkNzVOenIzeVhHWUJTZVhRVHZYQUZwMmRrMU5hd0h1d29TV3hLbmJPVFVVN3FZT2w5TURsUkZHcSUyRlFWVUhIdyUyRjZCJTJGZkkyVDdMNnVwJTJCWk1CTktCcmdvSzJ2SndRSWYzUWdCNWFsZiUyQmJMTXZxMHRBWUVYY1VLJTJCRWdMeTdsdVMlMkJOQWdLclAxMVZJZG1TVmMlMkJMV3IyNzRwJTJCJTJGMFhsSnhneUdXRUhYalIzQ0ZISW5iaVJWcWp0bTFyMG0lMkIxT1RuZWR6YzJpcE80VUZNR0FleXRIOUhYJTJCR3ZjcUd1c0pxRSUyQkJocHAwaGcxRmV1aVRtV2MyYmdBYloycTUzZUVQdTUzTzloRGoyMXFndzNOcjJIejhUa3VrZ2pBS0VJcTVvYyUyQjRZRlZkTVViTzA2Nzd3TmZYWFdrZFNwcTBsZVJqZExVMERza0toZFQ3ZmVOU1BQZWM2Y1JzYndBRG4xRlZQMDhqOTR5TVU3aXlEY3IxaGhHSGlUdmpmN1E5VUhmQVpoWUQlMkZDeDZqSzVIUXpLWldZUnFQRTZ2Z0oybTVpdWJCV1FMeWwlMkJWcEZMdEthVHdyWjVuZ1I4TEh4c0QxWmFiUjJIJTJGSUdnJTJGT2pkSUF0YmhJc1dNbGNSZiUyQlNQTTd4MzBhcEgyM2wxVFJPM1dWa21zdElxbWdSMWE4dDNOaGJLWEpvaWlRSFN4TjdMU3pjYWZVWFclMkZRckVzVHdncXRQRGxLUU5tWG9QbjZTRUY1QkZTWVBjcWVyS1JEbSUyRlFiRlpBUWFIZCUyRnpPdGhGblRhMG45enR6N3glMkZmOFF1MjhVanV5MlZtQUpJb1clMkJRSDJWbDBWT2xWOTBOUGl2ejIxdkd0WnFNcGFCUGh3UkdKeWJPUkp5dFolMkJHTmd3QTZjMHFId3hxNngzZFRaUVUyJTJCdTk1R1NDWTZoaEx4ZVQzRWg1dnRVcDMxOWklMkJwWjBSQm12WXI0Q2VjQVJSODN2MHglMkZVWjd1SUNBOTczMlZVQyUyRjlDOEYlMkY2OGVuUFNDTk5LbTdRenYwWnBHNjNRanhwMjdMM3dtb3hlR0lvWmRPMnNybThLJTJGZTJ2Q21ROSUyQlpZTjZJb3l4SWN0ZjZWZU1ESzlaTmRBVm4wRzhYQ1dkOHdhajVxMkglMkJ0bXJUWlJaJTJGaUNxJTJGZ1Z5VHFLJTJGWlhRRUhqazZwWHg0UW5ESkRBaW0zbktuNm9JUXglMkJkeFA3YnVZYjNTOU9sRDhtaXJEclNQMkIlMkZraGFsZU4zS1JTR1h6aWlZYnRJJTJGS3pyVEdGRU9uTXJIJTJGVTMlMkJMVmNOR0YyejBCUWU1TnYlMkZFRHlTMFJCUXVtYWl0Y09mbSUyQnQxV2F1dUhWdUNmSjdiZzc4aEdad09COENjc1BsSDNORklEVnRRdk9ibkJhWFNtVVFkWjVZSmI4WDZHdHI5YnFxWDVGZEUlMkZwJTJCYUpNanolMkZidk5PUDUzSGh0WEVCeGtSVVBOQ0tHWUZBdEFjREFZV3U0MXhoSiUyRmdjQzVIY3VUajJnUmNUcDNRZmM3RVoxYzZoRWJ6T1BhZjVRZDlQdEdBc1F1cVBmaVNtNzlYOWdSSHl6d2R3Q0lldEE0U1ZYbklCeFVaQXZxaWlUWkJWYzJYS3g5ZkE2amRZWnp5V0loSnFtZGNONjFmVVdKeWc1TEVOSVlPT0F2N2xGWDFOc1liTEFZNXFjQjljRVdoU1dVVUNtMDZEQ0hQWGJKTG1NcDZXODFQNE1TRjJjbjZGa0dBOXVVSTJUaWpxVzh5ZkQ5d29LTU9hbVBWRWQ4STZCejNyOEtkcGtRTFkzJTJGbEtZOWJHSTRQTDZ4TGtpZVFlZ0RQU05DR3lKSkhVVzJLc1Q3d3o2b0lSeTU3Q1kzbU0yZ3NDdUx0eHl6SUwlMkZURSUyRkp6ZmY5ZnU4QnpGTWlHSnolMkZOMDBlOE4yT2IwUVFJWVYxdzhLTDFnbDJGa1J3eFFtYUpmb2h0Um42ajhVQyUyQmxVOUtlU1l5Z0MlMkIzb2dBV2NWek91VUtQOSUyQmZxcE5uMHpnQVBvTkZ5aCUyQmFLRlpCcGQzT3ROcUw1Q0lPRExSanFoZjRsTUcxN2tVRTNWTDU5R0xTQUxOJTJCaDUlMkIyQ0xPVEVJRlYxeW9SM09oRkpmbjRjbGxRZzNFTmNFVWVzSUhROUtjNXFISmVVMEFuYVhSSXhiYU90QUVrNElqeVdhQUJLakl0NlFmZlFMViUyQno3V0ZINk05UlZ0dkFUU2JpZ2FITGpvbW93ODJIaDB6NXlWb2drREcyeG5oamtKTFVoNTloTzZ2MVBOZ090U2N4N2ElMkI1WHU1OFRTTHBvZXFCU1BrdDVBMnMlMkJaWEg2VGJneiUyQlFUT1FJZ3V4dHZFVXdqbUppSkFWM1F0NFRDTjlxN0xGSVVSMHZhME5Xa0p4ZE10OUMlMkZsQmgwcjk3ODZWb2lBcGN4bUhYU010aUlJRVA2MUdpakw1MmRBVmdjdVJTd3FpRUNWU3JTZDM2Q25WbG80QmJRVW9HYjI5ajA2aDlQbHdsckNpamVKQVpRNCUyRjBvZTZIMXZqZ1dTaTRMUDhjZ1p4YVdZRmZMcmlZNU1ZZmhQcmV5NFFFVFJjdUdGSGVqU1V4bWFsS0IyYk9wanBsOHVxQlV1M3h3NG1zQXBiY0pJanpkbWgwRXBDZXBSUDlSSUltYzhtcWVmam10emdNZTFWd3V0dUFMSDRxT0RrOCUyRnJvUHlNQmgwMGk3WDhwcGtyejlrWGVvenpKTGp3UUF6Q1V1cGplWFVXV2lkc2JXVmNXaERhRTlneTZrMVhZMU5kbUFwb2ZCTHRVZHRuQnJTd3E2NWNRbTRodnhyUHBQb1psWW1Bb2F4aG1qNnF1T3RXeWxBdnZkaTFaWmlkUlhKUXFJdGdjSUV5RmthZVdERVFoYm1sY3VDazFKdTdKJTJCZmlRbFFISFdUNkUzMmN4Qjl2VHlsN1VYM1ZyU2N3cnVDcHBQckEzZk1FV3BwM2slMkZNZyUyRiUyQmZEVG5iczZLNUxwYnFDUER0M21TNzlGVzdjRFBkWiUyQlQxbHlPYzVyRnp4WkhQTUZvJTJCdndDSHlZWUdqcmR3eE5HRjlnREdKd1hsJTJCelAlMkJ0NW1MTllTTTV5Z3FCNnhGN3BLQTFjUFpaNW4yellWOFhQYkFpc3ZlZ0xrUVYzdFFmMnlNT1ZwSU1McXhBdGZPcmNUJTJGJTJGbkJ4NXU2Um5lJTJGJTJGRTU0MHl1JTJCUEgzaDZrcjlGZlRQcXNBYmdqMERMZGwzVG02QnNXSUhjMFgzVEM3aUslMkZnaUVCYk1QT1AzMGhFSzA1aU45YXIxN3ZIT0cyJTJCVDklMkJNNnJSNTJRY0dNMk0lMkJIU1h2OG9VU0YwTXVtblg0RDJoTG5YbTQxZzU2QXVTalR2T3JMcGdKSEVsNSUyRkFJeGRCVTd5YXdkV3RlNThlJTJGRndtUGdwczVsZ0h1WnFEZHc1eWo0UHY4b0E3cGM2cEE1OHY5WExaeXBzWDlIdTc5UzYwMWh2bHVKRWU2VFVxQUJoVzlFTjVGRyUyQkFVaFJXd01tM3klMkZoJTJCV0tqNldpcnd2eGJEa3RTNEJSMnhXMEdoTWNRN29uNHFSVlhBODlnNUFQWDRPcG1keDlldDhYdFRpWG90Rm1HblZyNTc4YTFOQkslMkZqblVSJTJCNm1vQzVPV3h5ODFub0IzVjJUSTVqJTJCJTJGM3klMkZrJTJCJTJGYXdvcDRtM3B2N2tEWUZGUWFjR29Nb1RVb3JqJTJGcE5uNGNpY0ZlYTZIaU1yR3M0cGZBeWV4QmxUTXlSZUlYdTVTJTJGbmZUb0gzNzRKQVZEa3clMkZqMWp2eUs4NWRtcVUlMkZRdlBaekVXQUdGSll2JTJCemR0NFJhdU95M21hMFBjVDRKakYlMkZUbFA0MzlseWRzTnZNUVN5b0NDUllENzdwTTdxUFZJJTJGODZpV3VWb0ZiM0tFM0FjZGdFRVlMYTBaVUVzWVA0JTJCS25NSmhrUUVBNVA5aEVlNEVmeHNnOGNBbWFsJTJCcUUxMlROMVZWZTRHZTlEQVhGajJ6RUZVSWZrcHVqWmR0QWhzMDFnODd2TnpzVnZDQmk3ZVFWcDBNVVFzd2EwdWtCd01GVnBpZlNsdmNUd2klMkZWdTc3Rzdla3V5Y3Y5UnJ2YVpNQVJnUnRoJTJCV0l5UFdaOUxiZlMlMkY5TXQ5RWFiR3JvNmdZM0MybXNFbkJqNlJmYmY2ZGFaSURRdXpGTXY0cUhPMGVnQmpVYWYwSUlEMUh5Z2tFOGlTT2hEUDAxWTY3b2clMkZqM3U0UHR5Mk5URWFhclhQT1Z1R0tJb2ttNkRDRzROM1pDVkt1NlBaMTJjSGJwb05PVEJxZVhnV09tNDU1WTZETmZXMERJR1g2RDBsRGFQcXhyUiUyRkdvUiUyQjU4bzA1bmgyY3VIdURrOFNpRDl3Q1BXSWU3Nkt6QkRYQ0JkQ1VhcWhxdHZRdzN3Q2hxbmx0STZLUjlKbUxRNGFWJTJCMGNtSjdwWGdKc1hRVzF6M0pjVlZOZVZtRXlkaVpWVjRTN0t0dTNqa08lMkJFR1pvYXRHbnpyNCUyRnlncGJ5UkR2JTJGamw3U1laS2M2dENLTWtUMVl0VjUlMkZMdzlFMUp0bFhCJTJCMFVMNnM5SUY2MVhmWkh5JTJCODg0UG92eHhLTmdQeXhVUHM4T0RNR3JXVDJSQTMwUW0yZzI4cjVzTW90V0x0ekpteDZFdEk5JTJGQ1lQVm42cUwxejJ3OHY3T09GaHE5U0sybElpWDU2cmUlMkJhUG84Um93aXNXS1dQajRCVFpFa29xMGxUOFdENXZseGhlMlIwVlNXREgxajZFbEYwVkZBR2JHVGp3dE9ITTJRcXFpUm1xdnNLSGl6UVczeWd1NzExZiUyRnZURTZlRGZwVnc3Mk9ST05qb3lkMGhtYUVEZVZrRVJLTVRPRlg5eDkyJTJGUUsxTUpKaDRtUjdrcjFuTSUyRlp0VkwzeXR3OEM5QmRmSTNrZktqRmJHQnd0MUhWNUVmU0JvMEttT2pRJTJGM2VmSVRaTVlhTWdhVkw1QnhIRTQzMGw2d0ZTNG9meXR2ckVSJTJCVlh6UyUyQlJLU0ZCelVzSEdDS2ljSDcxU3I5aTAwb2pUJTJGOHRTMEJ0eWglMkZyb2xlM1M2JTJGNVQ5bFJoeCUyRlI2cTg3S2VxT1J2NnFpcEhCbHpZeGtHeTlnSFA1SlZvbWJqdk1KUDhXc0JTd0NnWm1mUXFlR0t0eHFuMnVTQjNPN2dPV1ZsaHR4cnFuR29KQSUyRlA1V1p2WnZzRHVCWDJmQmFRQ3pCVXlaU2tWMjloZnA4MDJlSmtmNFB2WEdKcWNtWHZQSXJ3SWE3cnpoRWx4M1dncmJlTWE3M0tYVFlLQXVvN1F2QWQ4OU5yU3ViNUlzNkVtViUyRk94NGtib2ZJTkZra0pEWDYzbnMya2tMdTloUzZROWpRVU9pVGZzZmxkM0U0SGJsOE14ekdDekVCOWRGQmRLcXl1aW04bEloZXFZUEhxTnplNm1ZJTJCJTJGN0slMkIyVmJEJTJCMlR2WVZ6a2RaVWlMeVN6R0RETDBqSUU5Y0h4azh6OGg4aDd5ZWgzNlRYaGVTQk5KTTBYYjlseVRQa3VmZDFtbkVzVTg5dSUyRlF4JTJCV0hTNTJOQUNZWnMlMkJXTmxYcHV5NnlZWEZ1TnVjOXhTcWFKZU1BNzR0VjNERjB3bEk3MUx4ZnFQVTlOVk1oc3VoTFFBMnYlMkZZb2xCJTJGY044Sk9YUHk3YTJyQWpmMTNuV2pmM2piZGg5WHF3bSUyRkpmUEpIWFNKczllZW5lRnlvWmRyREZqaVp5S3ZWNDh1TzFkVGpydFdRRHRYbG41RHBkbkwlMkZVNEtHWldGbXFIYyUyQmZka252NEhlYkFCdndvMlRJOVg0amdDckZUQ3YlMkZiRTBYblVLMEdheG44ZzhPJTJCJTJCbG9hSXZpRlhJdFI2QVcwem14ZG1YOUtNZzclMkI0NmFTWlRvWDk0JTJCNm9KbW9seEE3UmU2TmhUWnhqWDdVeXI2S2J6M3lsdUFsJTJGayUyQjFPOU1BYmV2dlRZRlp6amxkN1lJRzFQTHVUJTJCN0R2dk9KbU1jOVlZMThMN2tMJTJCNjlQQWoyZmhCb05jaiUyRiUyQlZQcThCUnIlMkJPVlpRV1RybWcwTWdLemRpWnFBc3VNcWdFVVU0UVFxb2t1VXE3cWQlMkJlNGlXJTJGWGlwRDhLb3o1WjVUMlJqaEkwOThnZ240Uzc3M0hMa3IxSDdlQ3oxWm96Q1gwT1IlMkY1WjlmaWtYJTJCNmxrWXBvblJpdGJ5c3NjNURWOUptVHElMkJBTXphSGRUaG9XVmdoeFpwcjVndEl5cGFzUyUyQkxEak11Zk84ckM4QmJzMlFnUnolMkJvQVBvWCUyRmd3eThlcXQ2QWtCajByeTlTMWM1ZE1Id0x3cVc2TVNTc3p5ZHZwaFhPMkwzeVlkdGQyazFaJTJGOTV4Rm9SZ0ZsWW0lMkJiUE44TXd2eUV4bE5UJTJCRkxYbGdTOSUyQkVROURqY0M0dGhhczQwbVhrR25DJTJGdXo1a2ZYZlh5a0FjRW1DJTJCdmxsdHNOc0ZmWHNjWSUyRkp2UHJVSHJMV1diRW1NeWElMkJQNFdGWTFZclZQMEp1cXRBcURBQVEzdVRoaWpmRU1CM20wZ2FhJTJCbTc3UUQ3ZUtFMWNvZzglMkI2ZlZtYWxRbFpaNmhUbHd5VlpmMDl3aUFjSGx4dkI0RWVLQlNISG5wa09adUtsckhFa3NOJTJCJTJCUml2TzRXenZpSDdzdUVvSjB2OHRtJTJCR2h3bjBkbXQ1NGtKRmhZUzNFSDVyUmVTWnJMZTZ3OU1TZCUyRlBXSlRyeUt5aDlFUkFoYSUyQlNBZGlLbm51U2F3Wlc3QVhVNUNROEw0QiUyRkdaakk3T3hCRkVIazdrblpnUndETnVHd1FLWjBPdUVYQmlNOWE2QnM3ZlZjdDgxNzN5RTdTMThsNDZ1RGdVc2JMN2JFaGN3bHNiRkEyaXVNd0ZsRm0xWE9FR0pmZlZrbSUyRiUyRkN1TGtEYXl4R0llTWtMajZabFpRSDRpeFBhcXBrSGJGWlhYUXlOOWhKdTFuQzVqRzR3MUFTUkpyeXV2U2JjbFB3bFFBNDRlRiUyRmZ6RE53RG9YNGFUVUlSeHNwUGIlMkZUaiUyRm1tVXl0MFAzOFVZTG5TY1pXQ0NOd0FrMXBxaUl4RXpMZ05kOVhJRmNyM3NPJTJGeU5mWk82TCUyRndXY2Q1M2lLQiUyQiUyRjJIT0dCWGN6MFpSN1g3eldybWVuT004WiUyRkRsZTBXR1VmYXJ1MzhKUkp6WWhWSFlac0FFMjFOek5sZHhzZHpGSlpEV2ZCeVV3TG12dWZJeDlmZ0p1SzZYRFc1ZXpBamxTVDMxeFZQUVM5aXUlMkJuQXAwMDdHUkRFZDlrNjQ5aFJPU1lGM3NUcUFJSGR3MUtTTmEyV1lET0UwYndKakVITHpDOHlpR0xMUm5paHY4M29Ma3MwQ1dpMnZkODFROVhrMDRCVXplNHNIVUZWNkhySWpRZWZvYWglMkZDNjFPUzRLcUhneFpNcXVjRGluNzFMZ2w5ZURvOHdTMFlaQ0xvdXdTa05SaEdPSjR3bWtTVENFaXlpYUhhMGVXMU5ENFVmT2E0Tm5MUWxpUFlLOGhWTUNXVlBreTFVR2NVa2pqOWF1VmxxNzklMkI4OFNScGMyaE5qYnBZNkRYUzNBR0lKYzdYRTRqdjRpRXBLSWdCd1RsT1h6NFN3RGNyazNXQ2lFOE55OUklMkJQUDhFbVklMkI3Sk55NkdITWVKJTJCR3l2M2xHJTJGbE1GYlcyVUxzJTJCNnZWU3FCTjJFSWRTTW1TT1pjZnhlZ2RwSklxZkxNTDBsdndwMnpFbkF2ekxmcFRZJTJCbUFsVTMxd2dzeWgxaUZCbW1raCUyQjc3YiUyRlZ4cmZPWkdhRnJJTVEwWkpkTUwyRG1aVzQxR2hBVzI5QkRGTEUlMkJIeDZkRDJFN1glMkZDMVJySW0lMkZBYzI0a0szZjcwcmJhd3dzeWc3TDBHNWp5YjBPUnlCdGdDeksySHVLUmpZOURKdnolMkY2ek02QTk3dkZlZDhnSUlPU0V3WVVFVTdSWUFadThiUHQ1WUtQaWZJbks1RDV2RFJ5aGJNWHpFQmZ0RnI1JTJGRFhmTDVMNU96V2JmTjVIa0FxTXVBMTVXSmV6dEZMbE4waWVUR0dZcThKRDMzMlJBUFZocW1nQyUyRklxb3h3MnFiQVFJNHl4MSUyRnhjeEJuRWY0bVd2UzZxSWtnd0gxcmNXTXNuN09OZlMlMkJlRTlvZHpKaXRKR25CbGFkb1NGbSUyQlVaNSUyQlZWR0VQemF6emxSU21BNmRyaFJuQW4xaWUyZjBBa05lbUdEZnExQkVrZyUyRnhsZlFsNnF0YTR3cGlKVXdjcDM0ZWpmdmRUJTJCdGtUWGhhYktZNHNuNFEzTm1XNDhna1Z1Ymc5Z3ZYRnpOdmpXOURZZTJLQ2NLY1RpSGJLZWQyJTJCeXJmdjFYRU5VVXdBdyUyQmJsWlVFcTFXOThSbFFUMyUyRlViSXY0S1RXREJZWHdJRk5PTG5CUiUyQmd6bWdxNzBiTmJtdVp4WkR0YzRKVGRFR0NUR3FFRk0lMkZlZ1QlMkZLNVpCVDNtWlNwOEljJTJCcDUweWJLVVpVOUJsMFElMkJrQ2pkaGd3eUR2ODZwUnYlMkJsU3RLeXo3azlXTUxlS3RnJTJCNURvYlolMkZuRUJQTzdSWXZ2Vk40SE94dlRyZk5KMGE4WmdhQTdmMm5DVEx3Z1c3YU5RSFBPdGZMdlljWnVvJTJGWG1Zd3dGSHl5MXUlMkJFdGFIbHhNciUyQkxPTWdtb1hFalB5WmtYQk5QbVQ3ZkhuUThqMkk3OFZOZ2pneDBaMjNGTFVSVUpwWDVBeWdveHdTM3paa0Y4ekJxbzdJdkh6TWdaS3olMkJSNE02Q0J3bkhMY1IlMkJ3VnhSRXJVMzlVUkRaYUp0RXZJODdnQWU3SEtuNmpKJTJGbVBmbXRzUzFJOFpZaFRjZkhmd05xREVBakZUV3NHeUU1JTJCcTVTZGpkdmIlMkZNek0zcnlPRnR2YSUyQllob243cjVnOUVSMVd4anNrQktBaUF2N0ZtZVRrbkY5QmdkOFNuUGRvNEdUZ3Y4aVNKbldhSnV1OUwzd3UlMkZWMFhzRjU0aW5YbXVXTGVUSlBNdGtZSFd6bEkzTTdkU3M0UDRBVW8zb3Y1eDdTQU4ycXBkUUhPWFVldDFUUkQlMkJ3bG1FTzQ5aUlVJTJGbTJxdU9wejVKc3Bwc2NRMmJlUlVFMnUxbVNaN2tuZXU3d2JMRiUyQlNENEVCMTEwWXk4cDQwQnRPVVRuZ3dqYWdFYXB4OUk0RTJ3MGo3MXR1aCUyRmVtUzVRZ2JTa0RudG5WJTJGU29NR3RWUlBxSHJRb3dJdCUyRjhLSElQTjFuaE53NiUyQnpGMUt1aUg1d1FmNEJHSENOMG92ZHh0MWZQY2YlMkJIOUFTaCUyRnlJbmlNTEklMkYwVTlRZnolMkY2d24lMkJQOUlURlA1RFR6Qkg3NEF1STR6S1M3V3VqcW82STQ1anVqUjhTWHlsYUdSaUlocll5VEpDNWxtZTZTZ2slMkIzRU9vUUpPcGlXZ0NaeE1UbEg0c09ITHpneXJPTjZjWXYlMkJVYnVlbUpQaW9VUGtTbEw3enl4bXNzZ1Vka0dLR0dyJTJGNUFVNTlVME52VSUyQmM3T0FGaTB6NnJ0cjUlMkJuTzBYJTJGZjVVJTJGUFolMkZxJTJGalpmeXAlMkI2YjlWJTJGTHhicXZtR2UwR3I3YTFBQ0djU0xBRDBsQ1VGUmRIU0JNb1Ywb3hBcSUyRmFSSWRMc3ZlcXJjYjZTZ3prVXpndDZJZkFjbWYzWSUyRk5kdiUyRlVkUEVIalJmeWtLJTJGdSUyQmY1c01Wc3FkSjQzdlZYemdzUGNoU2dOOUpDWVFuNE5tNlVBUE5Tc3dEQ0xEJTJCRU9YN0JYUm9qRkJxWWJkUTZCNXRDN3VVb05KYkIlMkJPR2RZb2NubEFzSXB5cUFZJTJGQXZUU21YVDdxTG8lMkI1M1djMmtjMmwzYUZpbWxBckx0UmlrTFM4c1NUeFJ4b2ZFdEFreWlVZyUyRlRmciUyQlVaQyUyRmZ1djY0QkZYOEZ2VHBwUGJkNnZJYnFQQjVhZm9PZU4xTVpidUV6VEc1a0hFT3MzbENyUHV5UG9BUXElMkJUSkNwSGFRJTJCaDZra0RwYkZyVUhmMzhBWHN5SFJoZjFhQkdMR29ITiUyQngxM0RmNDJyUDRjaEw2VmVURTNoODZLVGR0cHZVcmNTeERRMHhNMWg1b0VYQ3RwamNjY1RsZ2xGd0g5bUlRWFNFeW84RE91RGV2SFVHRGllcG1EMFE3ZHFsTTYyblVpbVFUeEU1bHViaHBTbjh1JTJGN0prUlF2Nk8wVVBRM2h1QXhydnFLSThnRGVZS0ZCSCUyQkczT0V4Y3I2bzFGc3klMkY1OSUyRk4lMkJqS2MzamRmJTJGNDlvNHl2OWE3VGxaZmY4WGxXcnFBJTJCSjlXU1lDQnBSRDhNNW1Hazd3dkp6YnV3JTJCUnNPbk9CWDRSWU1ON21BaHRXSEolMkZMUE1LRG5LbVVtY2FRdGRJSSUyQlJPRHpNdHRpb0p6N2ZXJTJGcnZzSDNKdlZEdG1ocWw0eTd2RUhTSkVudmRJOHBwWTF1c1cwOUg1ZENvJTJGbGN2aUxDMTZ1akF0TEVpUHBGTDVqNlFSQzF5VnRQY2klMkZXa2x6a0Exc2dCNDRQYSUyRnYzcWFaNVBrWDdrRldpZExVSUM5S2RpJTJCZVRVcSUyRlVEZWNxeWcxcUdrVmI1cHRzdyUyRm1ITm9lSnVOWExxVHk2T1ZsVzZEZVFaZ1ZYTWNTWjNXeGJGYiUyQiUyRjU3RzVvWG1NWHZxbUltV1h5Zk5yWlJyMEFRSHNMWTZINjJScmhYMzJ5TzVBSmlGUFByanhXTlA1cnFyRyUyQlQzbGZjRDlneFZ3eVRVNEY5d0UxeCUyRnExNDFaOEVzdGlIajl4WUVtbU13JTJGbGhKUFVuZTVIeFJxWlpYSWpXOHlUZWp2R1I5eTBYRWdCenRLNDAlMkJYVUUzVTYzZW5sVzQ3M1dFVCUyRlJJVVIzTTR4d2pJMUtzdEozQlZWJTJCTlVkSE9DWVRQYXRUT09aelh2JTJGamJFdkNqQVh0NDN5dDlJQiUyQjdhTm1mcmNYdVAxNmFnUnB3ODdiRk1mWVhVa1J4bWpwQ2VVY3dnZjlXSFdUSWx3MG9xVzJOOFdiME1oaU9STEx6MHoxbVZCMlY0djdLJTJCdkJ6eDlVVVpkTHlwcTZJQ2NQSWdJJTJCOWFxZThpWlFVM1hNd3V5REVkbEF3NDdXQ01mbDk5UWklMkZudkhoenBrdkp4OGVmdGk4UnVKQWNWWkdWTlh1WWNVcmpzWFB3dVl2TlB0TmpsbEVhMnk1em5hN1JjTk52dFNxeTRpcjBFeGdZR1lTWDlLNmxoeDl6Y3FGaXphR2Fpam5zYSUyRkJ4Vjl4U2dUaURIRmdVJTJGSHhqQjYxdmlHUSUyRjJvMlVNdTlKUWdwN20xWGslMkJQdjZwN3FoYXh5eTgzSVElMkZ3JTJGeXZxTlpWcVRKOGk4bEdwWm9yVFU3ZEVJQ2lWYSUyRmZvaThWZDJmVFclMkZIckJkajlhcGUyYjBwSVBCd1A4ZmQ0JTJGZzV2c1BUOG5uWlZaUkQyZWs1SGZHdmxjQkJCR1ZCdFRBSjBMZ1FabTdRVDd3RHZyJTJGdTF3a1l4ZlM4Y01MNjRKUFE5aGZmT1Z2MlJQT2hwJTJGbFJ2Z2FRRVJTTDl5JTJGZnloQmlNaHRRd0c4VFVPRmNIOTRHbEtBYTBuV2xEdktnQjRMRFFSR050a2c2Ymw3ZHA4SjFhJTJGYkpGaU9FYk4ySUE4VTVTTFRITEZCQmcxd3BqVHJKNnIlMkYzUTYlMkYwSG40OCUyRnZNUVBnTEMzSUtpYzk3RFU0SXFZODBxVW4lMkZOUHF3VCUyQjNTJTJCMENVWWRjYTRxc3VTVG1Qckc3MWl0MG9sc3M3RlNIMVFtJTJGZ3hxM3NaU0VMOTlRcVlFb1VGamglMkZFT2E0OURvbzlzeGFkTzRuR1REQXQ0WHBadzlLOUdJUVdJa3BBNkJKMElnYzBLOVZ4WjQ1STJEVUdZS01qVDJPUGpTVzl0dmdwUDI5SVJob2o5Q1hhJTJGWHNHJTJCakQzcGVQJTJGR2xYS3ZQdHhOM2YlMkJ3RiUyRjd0c1NWNTl6UEo1TXdNJTJCcFNYMkFlJTJCJTJCSlllVVlFR09ubU5vOCUyQko1M2RyaDV4Y1BEeWh1bDVqeVk2TE8zMFAlMkZtdU1zTmgyTDhuMW9yYUk0QXdpb3pQWVIwaUR6eSUyRjkwJTJCNk95YkU5ZkU3VEZKJTJGMzdYcHdGNXBsayUyQmNPdEZjcVA1bzFUZ1llNXVKalBKNGY3cEZpUEtlbHlNJTJGRjRTMndCNDQ4SmtWZTUwOTNzcERFdWpHMCUyQmY5Q0VFY3ZNS0txRjJkMUJHRG0zajllbnp6QThlWTlLTktoWWt3b1BYdGhaTkdUM3JPTlUyJTJGZ09sbWJCZ3IzOWhGS3lnMnFORUp5TTJvJTJCOWZadGYyU3V3NjkzTk9RcDd1bnUyVkV3R2ZIU3ZIM1V2TEglMkZZWmpBNDR5Zk44Q0NEZEZOa1ZNNjJuR0V6RWE1bjRqWlpzbDV5czdqZ3REbTVZVGpPUjRmdUdQU21PRyUyQlRmcHlSV3VRZG5zSUpLZGZyZWU4WHZuRzFTTjdLRHJma1ZZSGFIdTQzNzhJb3JxNEVZbVVLUElmV2RQZEN5UGtoNCUyRiUyQlBjdDlxNTdNcXZJZXM0ZTFDOEtjJTJGZnU5dkl1UzNVeTV0c3JsSVh0OXVzRVVWd1pSMjR3ajFvQjM5VXlhSzgybSUyRlQlMkJGSGk2d2N2UTcybjQlMkZsTzg0eGM3YzQ0T3ZSZHZ0R1dObW5rek5IUVo2dG5VNVBIMXRkY2RMUmFsQ3RVTEZReVA1MzY1WHgxMGhyaU82NmxsUVVtT2p2cWZvRVhzMjJUMHZ2TkJXME1hQlR1QUE5OEpmcjdIaiUyRm1YUkpheEduT05LN3RzZkRCWnJaWkdabno1czI3ejBaU0pvdjIwJTJGdjNFbyUyRlJNU0Y1T3g1UWREODFTcHdrN2FPNXhpaHFqcUxJdVBwOSUyRnhzRURENzQlMkZsYVBmbzIyQUhoeWoyTFVqMmtIT0R2ZTNZckkyJTJCclFpViUyQmI2N2Rxbk5zNURsamV6bmllQUdEMVhFYUlpQWViZUFJWFpoRGE4S0VaVVJqZ3Z1N2tIVHQ5QiUyRmlnUE1qamNvZjdoVTFWZkg4RCUyRmR2aUlqOU5jRW9nVEVvJTJGejZsSGQ3byUyRiUyQnVGNFZOR3JYMWElMkI1Tm5PNHA2Y0pjT25mczNrb0MlMkI5JTJGN0E4ZjFPYk1xTTRmb0FKSFhWSTIlMkIyMUlSOFhHZHpsbEIxcGVSaENBdElqeXVBTzZ3cWFZbWRxSkxwa0ZaYzNhdkRubFRsbTl2QjRMVHN5bWlpc3MzeVB6OFU1TlM0TjA0ZSUyQiUyQnhLbzhxSUhlOERHbGk2WWFUbW5xWkxIQWxUb25rSEVvd2lCWTAzMHd5QlM5TVpJblE2cW1NVnIybU5LUkZwb3hVUDBpdnIxQnJjN3dhd3lDdERiYlRNYzdTSHlaZGdSVWFrWFgybnRZMVFUbjQ2SFZQWTRTeGdmZTQ0VmlCYyUyRm9aOGMlMkZHQkxGRkszZE9uT2xueFVNM0FBaGNLUVZpejdydWYwYktmMU1MZDdMMHJNWTFiVGhSVXhGbzExZnVmWk5sWlJJN2pSNnVnMVVOMlQ4bzRDeFBXVGxHbzhZSENRJTJGJTJGQmQwbFJJUk9oTmFJdkVHNTRYNHdJeG5wMXJvUyUyRmRmZ0haRTVrUnlCMmRzVEIlMkZsQnZ6WURQb0ZDbFpBWHBoQnQlMkJ3bmpxS1kzSm9YSFFudkFMTzJGc21nUlMlMkY2eWpFMk12WXJidUFxUE8xUUZCUTVNVk12OXFHN2ZGS2NpS2RpZ0Y0TWlZTEdSU0lHQ3RCTHdTWUd6dWVXQUElMkY0WmZQJTJCRXcxN0MycmZ5b01UYkVFWG43M0ljZGpub3MyR2JPSyUyQm9maUVjdzVZZzIzdjhicXNZbDNsRTB6ZG05ZDZxS21tbFBqUUNsc05ka1lqVmtEUVozZzlIZ3owaHo1Z0J6cE1xOGxya1M4JTJCb05MQ1dHaVRybzlmcHRFRXFwSFBwclQ5YkglMkZTQ0ZIb2t2M2VVaFp5ajRkNVc4WWdHSG9UT0M5ZG9sJTJGNUU0VzUyakh5bHJ4UXJRRTMlMkZCNU1LYW0weDFzZ1MlMkJvN25zOWJDdTNkWEZvWiUyQk5oTnJNNyUyQk5DUXp1Qm5VYjVtTGlVOVQ5JTJCYTNSMyUyQnhXVWZoTERtTjg2OGYlMkI3WXducm9tanAlMkZnbiUyQk5zNWU3akJkQUZXY1hPbUdRQjFLRVRkWkpuaG5VU1Y3a2FvUHZ3RHAzeldlbjA1Qk5DQzlZYWZkQm9JZ3B5cDlrbjl6Wm9SQ2FVeEt5R2ZOU1dPNGRDaFZLQ2FqQkE2aDN0R0pRakNjR21zZW02cXhwOG9lRHhLRWh6SGhBNjFkN3FyeUR4YTNQVVVjdXpING5kMTVKJTJCVlJYbmh6NFlCViUyRldDQ2FuR25PZzdPalBmaUR6QndJTSUyRloxVVdET0NsMjdiRGJtZUpPQXhFVkFYelRRJTJCSEdNOGdDTktyd1c5eSUyRkFneXlkWjNHblc3MWRXdHZ3MGc3bHhPVW9jSkt1aW5CN3VLem1uTXpHd3p4YWxZQkJWRkRoVzJoV3oyUndmYyUyQiUyQnVtTmM5WVpzcjZSd3V4NWRTU0g3UEFqV04xZmNsblBvRUllSTNnOXk4M25yTUx0ZVlFTVZjQTMweHlqNEF0ZUl4Q1pNSHBiQktVTk9mJTJCelI4T0hheG5WJTJCdkd5VGUlMkJSVG5sZGZsMzJGTzBHc1RFcjhLOVdOeGclMkZMOVNha1U3M0V1T3BCaGZuT2lNNm1kNFVtbzkzRzkyaXVaY0g0Ukc3eHYlMkJvbnBkYlZKRUJtJTJCQThuT1NCWkE4aHY2MGQ2Mml3SUY4aCUyRmNGZDE2SzElMkYwJTJCNlJ3UkRvdjlteSUyQk0xWU5lSTlkdGxEJTJGU0tWVjBXJTJGaWNXQTlPVCUyRnNVemt1TkNSWkRSJTJCbUVJbVclMkZQWU9VTUdnbDZCQzRCVnRwZ3cwJTJGRCUyQkV0Q2U1JTJCSHpwVkJiT3ZhSFNVMjdpeTVFeHlZSkZBaHA4VEp2VzFmZmM3QUVuTXVZN2VzSWN1bmNyMmJxSDNmblZMSm9Wc1REWndUcEJWQ0pRbWFxeVlwUWs4MEtaYnY3JTJCQmo2SnFLV1JFb05pRCUyQnNsV00wV0ZLNm16MWNnNnJnU3FSbXpLd2wlMkY4MmxHNzdidmJLZWw4d3N3a25jVkxra2JWdDNtJTJCczJ5Y2hpaEZHZ3dPVnhRa2IlMkIwWVNMVEo0WlV0UkNZRDBBd2EyRTNmOU43Zm9QbFpyd3BqVjNEeGxFUktYOGJNalVacW4wdTlXV1pwNlFwSlhFZmtyUzZPeFNMRnJON29QcWdrTFVxUSUyQmZjR2clMkJ5N08lMkJGSnZtZ3AwZENtMEZkYnBRS3J3Z0duJTJCZklLJTJGQ3BZSzVEa01DdTVrTVglMkY3TFd0SXhlc1lQbXMyTmxBekc3UHVNZVJOMTd0RFFNdUN3OXVEV24yVngzRTlCQ0toZ1RlcUsxOEtMdVZ4TFI0bHZFdkplRGIlMkJlVnNiR29PYjEzWGluVTBsaWMwM1FDZXk0JTJGV2t2MnMyUmRJaURiZTF1UFd3YnlUVFpkTlh0ajNjRlp2UFhIdlFQZjVrMER3eDVZYmVqV0t6TTVVSCUyQlR2NER0cU9SY2FLeDIxNCUyQmg2YWpZQmxZNEhCSlhXMHJWNmhmRVYwT2Nwa2hleEZ2RnlEaHZuazdiS2lCQlg4cUd5dVJRQkFWQ1FObVFQOU9DQzRsdHkwSGxXMjhnOGJhJTJCWHBCNGNwJTJGdnJRY2dLWiUyRkpPb1I5NXJmaXlBbVdCZnM3SGR6JTJCJTJCYnpZaUNQZ0pKbDM5bDdkbURVVmk2Zk12UzZyZyUyQk1MZzhGUTV4UHRPYmRjTHpCJTJCWEREZUJNM0glMkZ2VWgxVkxCSGFWJTJCYSUyRnBHQWF4M0JtSktRUVo4ZVB6bUR4aWliaDBzd2RJQXRtOGo2bzM5bTVzbTE4YUR4NklmNWFMRHJteDBGMG85NzNlSndqYkFUNVJDUVY2SlZXa3piUExtbG5kWkgwWTVVbHp0YXVRYTBCbDBiUHdFMXNKaVBLbG05aDU4NWVnZ3BhTjA0TDlaZGslMkJ0WkF3Qm83dG5YaWp4dlhUNU4lMkYlMkY1czBaJTJCOVN6alU5NURvbXdMTndIQVdxZjNNS1dmczhYQ2N0RERxUE9HT0RkNWRlaGtWJTJCUnVUbnpMNEZsOXNWYWt3NDAlMkJVVTZxaXdDYWM2ajJlT3RhWUloaW45dDdleFRGMHlROTR1MEVCZ2hLRWoyUm9JTW02Y1AwdzBXQ0ludHhONEp5Sm5CaDd2SVoxZXRhT2RBSjBwYUo5YkNKQUFyOHg3ZTBzN0c0dUlBcDQ1V3E3VnMwMGxkMHljMDBUdmV3a3ltT1VYUEQlMkJWJTJCbjlWSUwlMkZUVFdweUZuVjM1dXVYeTh5bzNZaEw0S053YUglMkZZSWdzRXdBUGRTYjRDZEVSNVp3ZnB3YVZtNW9FY0FnNFNVQ2JXbHhDU3RHNHFtRnZsQXhxNFhReE1qa2MzbVZzRVZQdE5XcUwxQmN1Wm42cCUyRktWREV3SWJrQjVmQjZPSUhOJTJCZmxLdVpGaSUyQjhYT0dmTGp2ZzFXcEFJb01uM0tGUUxOWHQxSmpBViUyRko3cDI0ZkRlVHZ4WWd3MlBCWUVwaGt4WGlQZ2xlOUFzRUxhRjlIWjdJYm4wYnozUyUyRnhvdEhoV0NKekhDVnhGTzNoJTJGMWpweTZNZjVHNUhUNDZhU0k2aHgzSWZFNmNYblJYaUtEbXM2cHpHV1oxQjZsOGd0NUE5cThmR3h4OUxNUHlBeDZaVm14ejREZ3RobXVCakF5VVR3WGc0WDlLY1FyM0M0ZkFNUTlVSGRTcGtCQVBqbjNnVVBBN2t5VzBaNEMxeHhkc2FSMEhWMDhnWDM5Y1FYc0xkVklyb3djNDV2aGRwanoyZXBXVDNXMERhSUxkbHJQWXNkTHElMkJudFlSd3V2dUNYeGVUYzIxSyUyRjA2NEdHM25TWVVlMUQ0dUhSam0lMkIxVjZzVHE4ZW1uaDcwc2FPMGt0VkZIN1lwMlBtWDRIZmhWdlZrUG5Ldmw0VnZ6UnZ2NTg0N3lXMUVub2l4VTBnRW1zNzJ6RnRuVnloZEZEYlF2RXI3cng2MG52UVl6TVdZMUM0bDdmRUFiTEVyOW0yVGNyWmdLbTFjVE1LS2lEU2N3bmtZTzl2UHRZbTZNRyUyQkM5bXo5c3VpbU5mdUFwUkgwRTAydmZ0cFlMcEFSejgzcjhyam5KbU9RZ0ZMYVNqJTJGQTZVREJCRlpobmFHaiUyQkV6RkI4TkR0YjZXUmolMkJiWGswN2NmV0oxb1lJZCUyQjNDaW10cTdJTG4yZFRLRnNyc0VkSmRENElkME1qekxaVHFQb0d4JTJCc3dleCUyRnViM0FEck5KZGh1dXRwT2FFQlBFU3B5S1FrJTJCYzBNVVNkOHhHSUVkMEEzTGglMkIlMkZvQnV5ZkpIa3JDTXVRVVVUQXdjMVl5Z1NndlZ3T1MlMkJ6aG1RWU12U0JVTUxqeEc4YTJ4RUpZT25qckN1Z3VBRkt5NmFIWmdKZUxtaHZkZkNoNFZJd2dUMHd6VVY0ek5ZaVU0RGU1SVA2R1VsaXRKN28xclhsRkYydjhhRSUyQkQ3Tk9DRiUyRkpFSUI0JTJGUFZCUE1ZMGZFJTJCZmRueWElMkZuN2dqSW40bzZWTXZMTG56MnRacUZ6TTVuYWV2d1l3TWN2VTdBJTJCeFFKaDRiczZIUnFST2pZNWtXTXRxeUlDWUhrVzR0WUJvTUlweUR2SnU0RzQwUmFwSll1d0FMVmJhbUhmZ2RyazdXcXlmRG1RYXBRUWZmMzZDRklKbFVINVMlMkY4UnFNRktWQUdGWXVHN2pEMENYRiUyQjdtaVpveko1QThPa25CejZkcGJ6dThndjhDckh2QTVuZVV0Qk0waUpmZ3clMkJ0WEVCUSUyQnMwRzR3ZHhZNW9RQlpFU0ZoUnRWdlQ5SWh1QlAlMkZFSFZPNXlmUCUyQkhzak1SVDBLZ3NsTTA4MVVaQXVlMVFaSjZXSjEwWWR3NHN2bmVrMHhRSU5DbFpoSndrcTFabVFabHNHTG8ySmFWakFCJTJCdU9FejAzYnBWVmY2Rm1pUDFTTUNFWVFwYWNBcjRXbUxjYjFDb2FhN2VBSHV0RFQ5R2clMkZiTmR4VVRTeEt1OGVVVGtUVTBlUnJiRmozWTRTRTI2OHM4TmNlc2cyOWxkeEVHdkQlMkZROFNUN2JseXR5d3F4RyUyQnU1RFZIZVVadVh3N05oNW1ORmpOJTJGRklHdEZ2WTZIaEJqUHE5JTJGN3ZLbm8lMkZ1dURidE0wb0pJVWZaeDA5TDRlaHJyWWVLdzBDZ0xtZEJwZ0dSRDZObGNiVkY3TkN6UkdQRUh6SVZSZ29TSWklMkZMWGt6VWhlRFhJRnolMkJHNm5UTkZrR2p1U2drdXo4QVcxNWF1N2Q4b254V1duNjJXcldpV2dwQkxzVnRiVWNHekFiS2ZvQXhmalJDYUZWaCUyRk5RdjMweWpwUEpaNyUyRkFJTm95VXd1WVkyM1QwZ1JFUFlmJTJCTUVWODdRNEhhYnJxdlpBU2NNUDhJRGpPeE4lMkJvMnhmbjRnOTQ4WDRNbHk1dzhLb0xBTjFWRkVhSU5aRVFRczhTS2t5bHdXZWZjS0Z4QlJSJTJCN1hScGpFcUp6UFhvTDJ2TDdGVGU4ckl3WGY3WXNqNTFqSCUyQkFwRiUyRlk5eWdRVDhHM3l0JTJGVHhwanRLVGZZRmJjQWlGZ1pOUEJtc3UwcG5sTG4wNnZkQUJRQ0dQJTJCOXN2NnE3czNnQ3VubHpCUVZoTnA0S0RNT1psakN1ckFlclhJRFplUWRYeno1dUxjQ0cwdHVTSXFWdkxVSUtkQVNVM2NmUGlsaE85S2pBNlpYOVRGUzZFNHo1czc5UkpvMENrb2dmJTJGRlRHOGo5MElrZndsRGFHNE9rU2trTmFPZ2x4R2JIb01BdnBoaFE4VkxwUDdKUU1JM01kckIwRWhMMzBqdmhVM0xFZ0V4UTNyalpJZThKNlJ0SnJGVnU3STQ5OGt6VTAlMkJ4NGVpd0E1SUhpYVl4NEc0WlFUVTBXZnJNTWlMVUg2anhiTlZRdVdJTklEUGRjR2tlc0VLeWUlMkJyczVxdDdJTXpzViUyRkxHeExmZU9JdkxSQWR5SE13Q0Uxd0ZPQklkMUlYeXFDSGU0VldBSXp6TzFaRjJ2MTN2TDBOJTJCd3NjJTJCMW5lWXZ1cHZuMFNnd0psMkZadHMwQU9XZkNiaFQ3VWdZT3o1eW1BRFVBdWxMZWpqJTJCMnBtNFNGemhhYnJLbzk5dWFKQTFSa2VLJTJGa3lYa0dURldHUGF1eHlYRDRnS1U5JTJGSnRzTUxTVnk1d2djZ3lKU3A4bDNoOTBlZWoxVCUyQk16JTJCTGF5JTJGbUR5TXdmdHp4MHlCNlUxcGc2ZEVFJTJCVU14d2hWVnhWbEJFaiUyRkJBa3hyZld2UmhjdGx2bGpldzBFMkF4V1dscVVmVFFlek4lMkZPaGhvR2tKdGVRWFg4aHF3WFFzTmFFVmZJUEdHdTlLZlNaZHNkT3FCbEJlRFdpbkFNQ01Zajh6NG8lMkIzYWVxUWZ5M3J3ZmZyV1pTaUlVQTNsMjlvemRRT0xJRlBEN2JQJTJCRGY0ZDV0cmJmQ1A2MFhQc2VIaSUyRlBtbVJWVzRNQ3VDR1ZrZ29QOUMlMkIlMkZSR0hXdmVvS0taelRyQyUyQktLVDViOE1pN2R4NjVYZVZKU1R6UkdYRHU4Q0tJMFBDYVplQWczQmp6Y1dZM2xrUWFQc09EcnZ0U0k0TUYxSWRJSlBNWXdWJTJGbXFtUlFPbHh6OGo0TzlNWlBGRG1pVVhOMGExd1o2bXdScGxZT293NGRHQTczQ2Y0dEF2Rnd5ZG1OREZuZGM0Q0tXVEFvcUQxUW12eSUyRkZ3N2hFJTJGNHI5ZnhNaDZuVUhxa3F3cGVVS1JqeXMySE9oZ1JtcEVVMzdSb0FTakZZQnZqRTVOM2h5dHBhdDVUV3psZTY5eWdLR2d4SGNBZ0ZJQWgyN0Y3akJVd1U2Y1E1d3NvNFklMkZhYkZBaWppWXZjaCUyQnN6JTJCc3RmMjZWSUVVMXM0dDRFY0hqT0hRc2kxJTJCVUlpYUZOWHdzWjE5MGtpcDhYTzFlWHlOVTBuRkpyVHRjV0I2b210QlJEMmxXWnVTY2RPJTJCcmJuRW1tcDZPb3hJZE9sUUx6cnNmJTJCeE1yeFliZmFKaDZGOFZiNlBvZzV1ViUyQkVMTWtXT3F2YkI2alRIVkFNJTJGVktnJTJCSjNIUER4OWZ3Q0k3JTJGSlNqZFZZcEZacldmc0w5R2QwZEh2SkhSSHV2R2tjJTJGbjZTcE1ER2QxT0lUMmRtM1VzREFORWclMkZJaldOU2JZS204UXBLSDRla3psbWVnaEZEOXVpRFJBY3dpb3p1VUo5NEJhRkFUJTJGQ1duMENkSU5jTHRnOWNWTFpnNWpFd3RQazVEUCUyRlZqNmFBVmVUam5ieXZPaHFjV0k3SVp1RHJkRVJkJTJCcUMlMkJtTVdHRkhkZkNHVkZyemd5bURNQUZoRnJYYnRScVFrNTRGZUJlb3p5MFp5dk44VnpOMzdtRDNyRENTdGRkbml2R1lUYVBKWEFRR0Y3NVYlMkIyZ29RY1hadmVsQjl4V21yNDEyY05aV2RPdXZ3d0pQblN0eVdVJTJCSG9UUGVZTCUyQlp3UmYyeUUxUVlMdkVQb3AzSzBoUGtYN29hU1pRWEtGMUI1ZXZuOEFQWFM0R1hnYlhQcFZtaFBzUFR0NmF1QjNFQ0VQcHVEJTJGUUlqV0RNQWw1RWxUdkklMkZIYWY4bWgyUGdmZTM0a2tEQnBJVkUlMkI5a0k2UVZaSzdrcG5RZFdFcnkxQmxNcWtJNVFoV3RGeUc5NU00TTBIVHJ4eXlZaE82UHZYWU45c0pmVTNnN0pyeGJvJTJCQTElMkI0eUFQMlhHanJFUXV2Y25RUWY2SlpmeUc0ekZqTEllVDFiV1N0VDV4RTJXVWFSdUxlTkRMRDdzMCUyQjdQWHVibVdiMUlSeGpxYVg3ZVlQRUFYTmNjdDZSNGtkNGo3YmJUQ0dORFVaYmJBUjRUcWJ5JTJGM2FsdFdYdk4xamglMkYwMWNMSCUyQmJoQkNnSHIwVCUyQlVGZVZMNWtST1czNVJmWWFPNlB1NiUyQmljMlFtNFpEdWJZeHlBV0FoQkRaVWU0Q0gzV2Z0JTJGdkp3cVh5QTNjUWh4Z1llQUVLa3l1c0tIbE9mJTJCYVVaMzBUcFVLcUpTVlclMkZyQjhVJTJGd0dYYXUzUXlKVmt5YWY3RDhkMmRUJTJCYkw4SnAlMkZoJTJCd2FLSjdSaE1tZUNMRXl0amlIZDVqJTJGZGRtMUVKS3dJa2h3aXV1WCUyQnBFbHZMZllpM2VhVW9pazB6cTZDRmJIM0lCOXlaVkZNU2l4d3lpVDVjSDBXYk55TDBnRWhjJTJGWUJ4NXR3NDZQeERrbm9ZOXhSa2xYMTYlMkJFTzJGQzJldmo4b2llYWlOTEQzTUlPWWoxTEhINXYydXYlMkJ2RnRuT2N6OXB0YmxnREFEMElOcm5BTDdIazNqaGRKZFVBVUZYNjJWYmFkZnZENlNQbEwzYWMxWnFBaWZqV20xTWppVCUyQmRaWlRLMkdQSk5jb3J6TGtCekR0UHQxN2lJa0NPZyUyQjBXdlAxU0lrbXNMcyUyRlNZaUhFVlZNaHZPWUZNMkVFJTJGbVVwd2VqZ2FRa1VGVUYxbXUyQUV2bkRXNmtVaWEwdUtoMkdnZnZhVTJiNFRFdDFmWG1sdDIlMkZNWW1Xdms0NUZUTDh3V01rU2drM01aMnRKaEklMkJiWHVySDMlMkZrNnp0V1ppVlFkUSUyRjRvM2hVUGNUZ2Z0c2I3TiUyRlJkZktuZEkzJTJGbEZIbnBFMks4enR2a1N5ajRMNjU0RzA1VkU5TEpVJTJGZmYlMkZJUDdrZnFUY2lzT2ZhSG1sQ0lSWjMwWFh5Z0d2emRORXNDSDNtT0RxeGVKeWFoV2ElMkJYUWh4Qk9nYkJHWllES1RpciUyQnY1JTJGYW5WZGtKMWllVTRFbDRBNWl3SUgzb21yYnZrOUFtS2hoZW1lR0JaJTJCV2VYQlRlQ3JHS1I0TjdCU212MWJSVlhEQXNZamU5c1FkcUd4NDRLSHJyM0Z4cHpvJTJCcExBTzJmR1B3RXZ1QzRNJTJCdkdGZGM5VEh0Mk1EcCUyQlVHWnJHeHNxU284YllKZEtXd2NWVEd5N1l4elJFenpmdjloNiUyQmdXYWJLbjRGWWpJa0Y5JTJGTG9Rb0lOckRmTWp6RzczR1VWcmQlMkI3UTdHbmx6aHZGV0NNVEIlMkZLNTRkWWwzNEdQQ25aV25vOWJDY2VFT08lMkYyN2pVWkclMkI5eUZ1TnJRYXVKR0NhU0pCZWdoeGUxd3VFWk81bWYlMkIlMkZUZ29NVTNPeUZhQ2diUzY0NXFYS1NqT1hXMWEzZVpvYmxhTVRCeDRkcHRLWGdoNlNJUWVrZnZ3cCUyRm5ONzB6MEdxbmR5V0Z0NmNhYlQ3Uncydng1S05JY2tRVG4lMkZqRHhLeU00eTJxeHRNYWl3QkxuRjdSR1l4Sm9KTElkRyUyQjdxRHhtTGR1eHR1OEduQzI2U2FLbkhOMklkaWRsdmZHeExVbWt6JTJCbFVnNlN1bGJuMGlwU1hwUnZKN1BOdzFDVWlTMGg3MHVKSm1ESGdVUEZidjlObTlXd1R3SGVoUldEdHM1N0RIM2VkVHBmOUNBdE1pZjdtJTJCOTVSQW5yUGxIUGN3M215WWNqV0dUdWYxT3h0NjY0ZXhjM09FUExBWkxXY1VvYSUyRkxYJTJGZmptQzc4UVMxUkFHWDM2NnlHQmRZeSUyQjhmbEM2YmhGbW9tcWdoMTBGd2xOZVpYTVczNlg4bDBPb1FnRW1hbUlYUkUzOFN2OXIxM0dCTiUyQlBMejhDSjkyY3RKdEN1TWNKQldxQzBEZE1zclQ1cTdBWEY4bTJUUVRLUHN4YW5FakwlMkZzTEU1VzR3Nkw3SWRtQ0NlUldQbk91TyUyQmpLVEVoaCUyRm5EaDZ2V0VwQml5aTJJMW1kJTJCdjhVN3ZVSnclMkJaSE1NVUt3VCUyQko3ZTU1STA5alJvVVklMkZ1V0xwQW9LUXozSnNmMzZBNElkUU9XS1ZmSlhjem0lMkI5M0tDTHJwa1lhUENYcjNDSWFhZnNZdm5NZm12ZFJmejlZV1FrdjBGcFpSV1FLdkFOMk05ME9nWHlWWGdqMjFhRFk1WUNnbkZHa3M1VWZzbkoxeXZrSmh1TGRiN0xkUVk0VGtjTGxoV21tUkE5QWxjdWoxVTBvQWdoZFpVQkxHS0VnOVd0TyUyQmtFaXRWdVFwTXlOb0M5eXg5dkppTUpaUjl4MjhoRVJMZWYzZDNadCUyQjA0SVNOcEpib1g4UFJOS012Q1RpOSUyRlh3SmszYng3YmcwQkczdSUyRkc4aXJkQkwlMkY3ZCUyRlRLeGNJS2wlMkJHVzNoT0xmazR5NTllNG42ZkFEVnFzV0ZEY2x2Yk5TJTJCYTdPQzVQS3ZwSWs4amtnQlJHZCUyQkxBMnczbVp3MWNmVmV0V1BhUHAxMjA1dHVyRDluSks1VEJzM01BTHdqOTRFZ1JtYWZyd3FuQnJDRXNaNHVEa1IzUnR2MnBIS3VmT3JpJTJCaWxNa0dXYVJvMFdmTDUlMkZ6Y0I0aTl5WGN6eWFEJTJCa1ZaVjFxVHZSQWp6MHBSUzhObmtjZDJRWWFSODJaeDFTVkZBajVrbFZXckE5QUFOTmFMUURHTmFZTXQyWk1BbXM4OWxkaXNWSnNmc3JQbjRYb1Z3bTQ3a0F5ZFcwcU53WDFITklBelZmaGhKT2Zob1pZNWdKU0JPdng2Z0pvb1dTcGpVbDVwVVlvd2NGcmpSUlhJa05PdGNKQ2RmRDElMkJFWUhSdXJmJTJCOEJnSG5nc0pVcCUyQkNaaUFnczZBR3EwM0NsZiUyRmUyNW9MVUtndlVFbW9WM2twTVJGTFJzTFBodEd5NnBNVm9IWUxkczBsTklJa0dKQkx6Vjl4Vm1YS1N5UW9vam8lMkZBd1hzajVkSU5JZk5DJTJGZFZneGd4S3dHbnhDdXklMkYlMkIxWnpIS2cxbnk0MVU2WENOaFpmZ0dHS1BBRnVKSjBhNmJ4TzR3VDBtRXlNTlhFU25Hck9POFM0TGFIOWZLdmclMkZnaWtmZ0ZNNWRVJTJGU2dRREtCdndVcGlLenNKRHZiMXE0d3FSMWd3dEtDendhcDRpTGlJSEgyQ3h5bzlKZ0dzbmVJT2Rwak0lMkJYeThUajRNY3NZUm42eHJlVEVXV29UYnZYblFEMjI1NHdzc0VsUm1Bd2JKdm5uRHUlMkZVOWZaM1RtJTJGeWpMck1YZW5DYlN5VVZSRzZHYjlEJTJCZDdJZnBXdWtCWUhvJTJGU0dKT3R1UUwlMkZ5Z0xlaDQ4TkR0ZUVlY1VvTkZ5QUVGcnVUeUolMkZNaWtacWtOZ3VqcGhQMllSdzVUR0xkOUIwN0VXUFFWZ3Q5b2lUSVU1bkVLSjlaMUNFeTBPNFdzTG9HV3pZOEk5aEdRSHNDRTJOdFVFVVp2WGVtN3lIenlNVTl5N3U4JTJCMkRpQjFCbGRJckgxa05pcEdJJTJCS01adlUwYVBOc3YlMkYzZ0JDenUlMkI2WmlaWG0lMkJlSHE1WGhZOGRQWEI4SEpzJTJGMnI3ViUyQkYxbEFDVGxlSmRBSWxONGdqN0NZSU9Na2NsbUJOJTJGbEdZZmx0JTJGZlJlUHBIeWVYYlAxbDZXQXVDMXhaSTEyVXZKR2hNZG5IR0pSNXl0dEVDbGdacnZqWWplcjdRUjJ6JTJGUkI0YU5DUHloYktjRTdxejNaRFBWTGtOdjlBWERMRHZTaTNzNVl2U1d3RE4yWTl5UzNjJTJGN3ZaV2IlMkJPbWxVMmRndUMlMkZoakxSaWhMN0xYcUQ0d0dha2glMkZHJTJCRW1iSnFORzVEcUxKVGFDUjlPNVRON3hlYjlWYm5BTjY5ajJDT2NtTm9rcEo2a0M3UXNaUlFzTjJLJTJGc2RLJTJGN1F5ZXNueXFPS1FvNmdtTDRQTWg5UktEYTBwa2tzbXBiZjZWbnQ1YnNXeUptM1RvViUyRmlPU0ZzbGtkYkRTV1k4TTUxclg3WUdFMEM2dlcxQXJ4bFJKQnl4M2Z0NUJrTEVDSSUyRkV5bmJqcXJLR1dGcjNacFA0RXVGUk4yNzVUSG16eGF2dVFlMmElMkJQNm1icnM3TlFWeHV3eVJoS2NvbWJNZzBSREZWajRCQWtCVVJnWk5RNjIxRXB3b1VSS1hWSGF0NWFYU3QlMkIlMkJISlh5OUhnV2RsbDhqT0M3Q0tnZ2pPdyUyRkNLUUlDMVlHazVJMElOaEJzZjRwcHVtZUpTSmd4U1pBbGhJYmIwNkMwWUNyVXNXazJRc0VDWjlXd2dBbmdHZ2JoTEtZRmhVSEttcmE4JTJGRlZ4ZUVyNGNGMmhTNWZyOGdRUlhxJTJCTE1SUzFURDduWURKUWpvcE1BWnlBc2Q3WGhodm55UmhzUUlwYm9ScFJlWVUlMkZHZWpJeVR3NktWUk1OZ3p6emc4NXl3UFF0SDRyb2czSEZHZmlycjB3OWtqJTJCJTJGUWZaNiUyQmtkam5XQTVEc0dSMVVzQ056NiUyRkpNRjdsTUplV3E5a2ZRQiUyQm1ldldJZHlzOVlPcVYzYXl6JTJCUUl2S3FaM2J4ZFU0czNDQWhMbGVCVWE0dERTeTUzQll4cWNkdFRHaUtISiUyRmpDQXJMSFQxR25BMmFVRk51V0lGUkdnaTVrNUI0VEVyUGV5byUyRkhvdkhMbEx6bDg3amEwVVcxNk1kcmdaZEtOTW53NVFMT3MyanBPVm94Z1AyNDZteHYwbSUyQndpcGliM29sNnU0MGR2QTNoemRqaThFJTJGaENXa2RwQ24zUGQ3akx4Nm41VGVVdEg1MG84RExBTmd4ZXolMkZaRnBlN3c5cUtKR1VyaHVDMzdIWldEJTJCYmU1UGtZcFdSM0ZoYUVQQWIlMkJHZ09qbSUyQk1CaVBCRXY3bSUyQmpzN3JlWThQa01YVHphZlRtQzBVUWNNcGs5T1VabEFzTyUyQkt3OSUyRnRTT2hSM0tjQkU1VUpWdDRtTEgzVzl2OW5PQlNGQXZQUEhhJTJCdjZDUzBHRTNTb21hWFdlJTJCOUVFOEJJJTJGd1B4M0pWWCUyRnhEdmdIUmpzazZDT1JPZTEyVVM4anElMkJUS2NiUmUwWGZidVdUTnZjclVqQk5HWm1QUzlSZFJCZGprM2kxOGJZdG4zdjZJYlhnODc3cyUyQm9xd3F2aFNHdTg1c0h1bUR3ZGJmbG5SbkVjdVd4dVF4M0YlMkZ6cnprSTF1UzlTZWNWWm94V2xkUUtrSEUydEZMJTJCVTdscEUwRTlVMiUyRkljMUJSVVBXTVg4ckN1bUplUjdaMFclMkZzTXJuJTJCTWpzelBTTGR6aW5MQnVWNiUyQmgxVUg0ckJrUmJtWlNlUTRnM3NYb01FU3pRaCUyQlZsViUyRnBhMTZDJTJGand0eHVNczRaaiUyQkpkRWFtRUZtMUtYdllUU3pHSzRkNWE5dFl5cG12clBtc2E5bFF2ZkVkelNXclR4cU53Y29OT3ZlRHpJdm9PSHhoJTJGNk5saWdBYjZmSDQ0WiUyQkZWWEhNdzFURk4lMkJJUlJwTlVWUExWZXVPTzB3Q1R4dk5nTzZRMU9FTHhVQURFJTJGTnVXR2N1bHFWMFVBOWlVb3dyd29nMyUyRk9UbndRSXlLclJmc0VKbkZ3c2hYdzY3RElpT1FnODNZYnJmN0V4SzVRdGdRYThRdDBQSzk3ODVhbEIwSHp6b1NVZm00QkVzYTglMkJZb242a3VKUlpkbmRxTlI4SkZQJTJGRHFySDVZJTJCQ3FPOHF6U0kybDkzWXpLckJWMWk5UEtSUDdkJTJCd1JvejdqJTJCdHVXdSUyRmZ0bkhrd1dvNWR3eUpEMW5qaHgxdG5xN0V4dDBuWGNEJTJGT09PSW1YZWRCcGJ2NUc3YVclMkZjcjJ2SXcxeUY0NzBFNkhlZjVydDIzMU83JTJCbFJRa3dkMElDWndRQlZJMlh5JTJGUVFyUTlqYzRXNCUyQjNpUVNxZXowQWI0T2VJRmxrckE3S1JNV0tqZGU3ejJFd0RxJTJGeG1NczVFM2s5M2JzU3g2YnpMUkxLSHFybGtqTUdsUiUyQnU3MTRsNGtOdDNqNzN5Y3diJTJGaHN0Wm9QaFFJRTBVQSUyQlpybHROZk53JTJGcUhlQiUyQmlUVDhpRkZ2bllwJTJCJTJCWGMxRiUyQnZNYmJQYlVtVnhQQ3IlMkJVaWJrckI3Qk5FQ09FY0xqcWZxUEVXdFQwQmtrS0p6V1Nza2FGeW9SdGh6UVp1ZXl1SnJQNjRwSlg2WGMlMkZ5Z1VidThHd0olMkZubFMlMkZmSUREQmxXWUlCR3g3Z2lVa3I3ZCUyRmZ0aFd1bktNWGNTdyUyQkFPRmhWMGJURFYlMkZGR1pBU0RkMExqWWMzTSUyRmslMkZ0dWlnZmI2TWNLdlJjTWgzN254UUZBQllzVzhDMmVSNGw0ZDNHd0ROYkRDSG84bGNTVHV5MSUyRmFpb0Qxa2RJJTJGJTJGWDRJd1BSWDg4T3doOXE3azJvZiUyRmpJUzg4JTJCb3dacVAxY1FaeUJ4eXZ5T0MyVyUyQjdJM3FwcklsaVBVWCUyRmhEQ0pjSFB2VEppa1l1S1dxU29yYzV2U1AxNkxsS1AlMkJFeml1UjZNYkNReTNvbHRZYTh2RHhXJTJCT1daTWZocFpGOUIwdzRiMyUyQkklMkI4YU9DQVV1RVFsTWtlbDNpYlk0amEzSTVmS01tQjdNeHlQJTJGN3VIdTBQZUNtSEZldlh4SDRNNDRMSmpuSkZnaDAxeU1ZTGRlT3kxODN2Z3dxME5aVDE3TVlzZWZZaW1zNW5BVkJXaHhPbDFIV0dUNWtSV2NuUk5Id28lMkY0U3c0aHR4SmlrZUVwbHRZUUtWajRjR3ZxdERtZXhUZklqMzkyMlJBazFhQW13Y09qWVIxWUdKS3JZRGlzckk4ayUyRmxaM2RURSUyQmNKWjE4TWtnaDhFUjJoZloxWkVMM2xacjY5SXBuQ1Y0SjQyMjl5YUxKbm5Uc1E4WFliaFBMMkxnRHJCb090Z0o2Vm9MWnhtZW5lTUVwcSUyRjAwV1NheFMwRm1rOGpvZ2xjeDQzRjlIVyUyQkFsdTN1TzI5YXBBNUNKS29PVUdSSURCU1YyUmt3eDRBOUJsdXZ0clNaNUxVVkZCS294VnVGUEptYWN6cmYzJTJCTUZmTk1aRmJNM0lZUnQ0UiUyQiUyRmlRdEolMkZKOG9FYzM4Yjd5JTJGQWFsZGFhQ3RoN1Q3WFAyNGJNYmNWbGpaUklOdHQ4ZTRYV3NCSzc3OFprT0F5OFFVc1hLcmE5QXZNZkdhTTZGZDROM0MlMkZPeW5RSVNvYUUxVUZiNzNYZENCWE9iNTAyd2tUSndvcUN3WlZua3o4dm1HblZ3WnVCbm5nVEE3WVRISUc3dlg2QUtjVVptbUpQcGo4Y1VIUFJZRDg1UyUyRkxrVXZ2OEdXVTRmT20wM1ElMkJDeExNJTJCdjZ4T2psR09HQUw0MGVpTnR3NUNxMkFMUXVVTjZESGN4UmZ0cExBRThwd2xsM1I2SHhINzZ6cmlwRGNjSUE4eDRBRFNVVFk3cFpDY0JEcElYdzR4Mk5wZkQ1TTlrdk9vRFEyUU16eHA3dVV5aDRUT29LclhoNFlKTVQ0Sm1NNTFxUmM3T0dvanVtWThMckNGOTI0TCUyQmZ6ald0JTJGWThKQnolMkJPJTJGWkRlVGRIbkZ5RW95ckREQ3dTJTJGOXFxT29zSk4yRVlzUFBLNVlOeEw3czNMYSUyQlRKQk9RTGJUTFVLMTRDaEUyWW9aZ2NCbFl0MzFFZld6YWF5dSUyRkhHYndLWGhSMzBxOUVuTHJTR2plbFJFRDBoUkRUSjlJczdRblJIOHUySnBpbnBhUEVhJTJGWTFnUlBTQlAxVXN5NlM1dGZUZXdNSER6WmdYV0RIZVdydmcxN29DdXNnMzVUWlZlekRtSnM2MFhtMiUyQlpMc1BlUktsU0l5a0NISmdEM1hhQ1hYS09pdGdjb0tvU2ZvQmJWWm90V3RRT0tnTkd3SFRjanp6MEV6N2VuQXBvRmdldTV1Y3BYbHZ3bVdUVXc5RUVrMU5HbFRNdDhmJTJCMU8lMkJrMUwlMkZYUVZwUHRBZHdqdHQ3eXJOJTJCN013WGNkTVpoYm1pSnFjZ3VjcDhhcmw5WWt2TzVzNzc2Zzh4YiUyRlNPNHVkcEh4Q2pWRnhabEFYelRvVUkxeDVMYXZ1SkttRG8lMkZldk1LTTRFQk9rQzVaZEdENElDOEVUUyUyRno3UEFYa2pMQTJYUjhUMXpHbkJNV1J6UXdGNlZ4NDRyeDNLd001VG0lMkZiSHc5Y0M1d1dXbW43OEJ1V2MlMkI1QzRrRnNFajk4SnlGdSUyQjVNSEtsMXZzWTZmcWswQWd0MmRoZG5wR0xROXFyV0RUUVBLVm5RSDBYRHdoZFV3UzVzWXV3V1JRV2IlMkZwJTJCNTBMUmNTanJueWFpZ0lHeVRFajNtMkdHU1RCZW9PNFJJQ08yVThzV2glMkJsOVZRYlhZYzhmVHo4cjNxZFF0dGZydlRNM05jJTJGMllJbFF6ejdQQXRVJTJGandiUmdPUU01clhiQnJad0NLeU94QjB1ajJNV2VBQzVseXhUUDJQbnRVYWRNYTd2YUdQY3FQeURSb1BTd2ppMHZJQU5OWCUyQjlhTmhuN2NnZ0M0VHBwcGVEeWhXMnJJQTNpRU1ycGQxZVJIQXdyb1N0JTJGYkJldTNqdVNiYzUlMkIyJTJCMFZ0SUhtU3FsdDh2WVh3JTJCV2NwcTZjMlB6eiUyRiUyQmw5RVAlMkIyV0hkR1F5M0lPUiUyQmJOb2pUemhhOHU2dDRabmY3NzdBNll3Q3pxU3U5Mkp1RU9CMHFGYWp4S2dhWWxKdjFTRUUzczl2SW9RY2pwNmoySDJYdWNRaWM3RnJHbTlhUFF0ZnQyZnE3JTJCcmQ4dGplSFNoSmJNcnJDZmxlYWQ5UEhTYVBXaDBMZnFKbFRzVG9PR3pJVnNld1kwUzZRdFA3T1g2ZWoxTW9DcDB4VXp0JTJGdno2cUxpWHh1VWpRJTJGOUNDRk53UXJGeTVoQjlpTVRIOWRuWXhFbjlER1RpM1h2UFZ3dEdhUyUyRmU1ekVPZTh5cGF1ZXFDZEo4RURnVk5WRHNZd2NCUSUyRm9hSWN2T0lUbThZYmxGaDJZNnVaZjlVN3hNNDJkRmJaRkVuaGozZWZiSSUyQm5mNmw5VHlYamxmd1VaJTJCNDd4azVKZEl6YzFQVzBiSmNiTlkzanNqYmRqMDcydHJGaDFCRE5kZFN5NlN6MCUyQjV5bE1hclhtcjV1MTNnOU1MeDRWUUdWQ0U2dW42TUpxeWlPeEtDelc0VmNRMldtbm5kMkk1NXE4TjRGeU04Q3BHMUtIJTJCZDRXc3dVS1ZzMTM2cVhKd1RmMFU3JTJCSkw0JTJCSG5Dckhwemx5bzY0SmNKeGdVNk9pQjB6WnNtMU15RmdtU1VIOFJva1prNnFkSHdPanZ2JTJCajE2bTc2ZEhWTSUyRiUyQmYxOU1obXZINkYzMnFWd3VtM2ZxJTJCREY1T0hhWTRnMnljNGJoUUE2VXhHODRHT1FlM1pmOTVrSmEwZ3BUQ3klMkJXbHolMkZkNXpCdzh2UTN1VmZ2M1g5VE55SnZrJTJGYk5xTk5yc1h5VCUyRnJjQnVQaFh2UnFzR1pPMEJHTlAlMkJPWUklMkIxVE1JSWxtRmwxcnRBNGN2UTMyWmZmUHptd1UlMkY5TnQlMkZLOExjQ3F0NXdkSzlnY1BLT3R1ODBBR2s1UWN2JTJGN3NsbjJuelZSOUR0JTJCV29RWWU3JTJCNHR0alEzVnNPZHklMkYzOVFwcUglMkJqOUthbSUyQk1iQiUyRk84MHVMeDZNU0xaWVdhY1ZocjFIV0FXSlFJVUhIVkhtQjZVaEdOQkZOdyUyRk9XWUlpJTJCNmZiVDZmWldSS3BJSUtWRW9ZMHh6JTJGZEI1NDklMkZzMnhxOWplUnNLZGNMNno3T0wlMkI0Y2Q2ck5ETUZEVjI2UU5NS2w4aTBCTk05bFVtZmdjT1pyakdHSCUyRmp4UHJwcE1DbFRxTkVSTzFrV2RIZEpQR3VKc1lBNGsxdVZVMFJ4OTVUTWRTJTJCSVY2bjhCdiUyRktadUN1SVRqTGYwTENYQUdJUnNmaGtUc3lIYkI1SmF1b0JKVmhDRkdIUmpSSjFzekVLOHJJZHBmVUY3Y0tMU2NzJTJGbURVSDVPQVJPeXN0clhxS0tEWVZnWWl1RFZTY1QwNkVYd24wNVRBdkslMkZlYTdQMzhzUiUyRjZDT1pKVDl6VjNlc3F4SUYzQWFmZXFxYiUyQlZRJTJGOXpPdUklMkJTWXpSWTgyS29GZmt1dzFXWWdSbVB1YklqdzlhMXA1NCUyRlQzQkNjVzlLY0ZFdkg5T09BUWVVaE13cUZKYnU0NWRRaEVNa0JkWVFtUmNaQ3VuNGhTRGIwb0hIckxqdDZ3cHhJZFUxR2xmUXpCTmhkWiUyQldxdmJJV1QwMldkNm5nTEhQQSUyQmglMkI3Q2wlMkYlMkZUZXowJTJCNW93NWVEazRIRzkyZ2pDYTI0MCUyRlc1OGEyViUyRkNKY1pPaiUyRkZwQ0JLUTJIbEo0TDZ6V0NmWDYlMkZLMTJYTXNnd1p1QXRJQUpEQ2laUHhoJTJGMWt4RiUyQnh1ZGJsVWJIVnBCQng0VVhab3J1alh0anlmbGZtbG1Ha2JhWVdPYU95em5FSjFnTDhyQUJzVU1iWDB4QVVsZHBOTXdNVWpxcVptUVBuOEhhaVN3dUtoQWhOMnhRVmpWMnk5WEFWVHZoYlZVSnFzU2tWJTJGMTkxMzhhUmtjWWVLS01GQzElMkI3Z24wRDJXZkxxYVpaUyUyQktEZWUlMkZlZnYxVVclMkZ0bjJXWXlxaHozNFpXem41a0QlMkZ0a3VxJTJGdEV1S3NIUHBkSHJUcyUyRlFsVWZnc3RVdWpuJTJGZDBsbEtjcDl6SmkxeHZCUVJUckdBdUloOE16U2x3ZFl6c01vSDNNbVdGdUhlc0FpYXpNaUtNODRCeGhYZUtpY2JLaEJPNkl3U1hnSGRqalhxQ0lMUkI5a2tJeklTTXVZT0JIJTJGQ1lHTndnaFp1dHIlMkZCVFBYanpZUkQzczd2UjZzcWJrUGliV3NpODhDOUtOWFV3aXB0TVpkRnVhdm56aFJwJTJCdDRDT1JCc1lSTmk4UTFDWVBJTnZMYUkxSjJ4aThodlVTTjJIVjhmM3pZSDhyc21ZcnFpQ3VjaTMxRmVjZXNOOHVhQ29yQiUyRmJReHRxeThIWGJ5VllLUUxsQkYzZ0RMOVJwNDV5NzFwOERCc25BQkNrb3dmWmJTaEhBRGIyTHZFZFRyaVBtbzhIZmQ3N1RsUjVOTjRrcGZDbVJrb1JPMGczbWRuWlZoVjVrUDVTMk53aFVtemhVOW5yTkhuckRKcjdVTXZnMTJGZ1M0dURQelRITmtMTG5XdEhZZTl0U25LdnpzSUpYdTJFT3NSaFdxMnowd2lrZUdmSFlJRzBoeGxPd1NubCUyRkZwTzUzeSUyRkE4b3pnamtDZ0diZ1h3WDVoTFlwSm9qZmNiNDZ3TVJOZzlKQlhFTGhZTmZ0N05nS0d1MWZoJTJGTEh4cEU4Z0VObSUyRkRMYXBqSkNvckJ5MVpBdGpmSVpyTm1BNFAlMkJkZUZJTHdCU1E5MFBJOSUyQjhHRWdWb3JyMnJOZnVPNnB3ZGxpN1JGT2VjTiUyRkglMkJGWjMyY3pkZk9MOXkxbFV4dVdwNUFwZGliWk1TdWJaVk1jb1gwenoxN1FadnlHTk9IY3VSazhQTnhSa2xzY0xoWUl2ejIyRVl1djUlMkJvNEpVRDVjcEJhSUtUd2RLVjdSWHlwY2tRczlUTXl3bmRFeVQwVkg2VmZXazFWVnRJcG9Ha29GMDFITXY1dFdaUXpMaVpzVm5Qdm1nSCUyRjU5Y0RIcGVTWDB6aEdxRUU3UWglMkIyVDFneWswYnolMkZYaFh4VG9KRURSbDNicWJ5d3dRdWRpUFNJWjd5S0pjWXh6aFFpcGo3dmYwRVVIbHlIQmF0UnpZVkE4ME5IJTJCWkJkc0RScEdLdTlWVTBaTDZoJTJCMzlEYlJuaXRmaFVqQWlMczluUHJpWGUlMkZwQm5KN3pmcUJtSndiUTlYdDBkZzlsT3kybXo4RGdDZ1FWMDVqRnRIWlVxJTJGQ3lkY25yUTZ0VVBZN0duJTJCd2JKUWtjNHBBMmlobyUyQjFHVWRTSnJvbEdEbUoxU1ZvNHhTU09MdUNuQyUyQkhoWkJMdWRXOUcwRVVpMVJsbnZjJTJGJTJGbzJvVjhQWHpWQVQycGdGTUl1dUJENjF0MFlveHdhNkthQ2RMbkkwQTI2Skh0cm8lMkZEWHFnSnUlMkJDUGZqUEtRRlpRYTFuOFlvV3RCZmVheEoxNG1LdHNJbks4aEdnSW52eWNIUGdoZkkzYlBia01SQ3lvUGhpRHdhM2p6ME93ZW1CMWJ6ZU1jQk9xeklMRW54ZnQ2U1drTHdKViUyQnlqNTAxMlJLcFZzZVJtYjdVTlJSSnZ0djRKUFg0ek9SaVBnOWpBZ0pwdGMlMkZKYUNaRjJPc0EydkpRSWdPZCUyQml5NkU0MWJqRmx1M3BTSU9qa04yOHpuWUtBV2NJJTJCeG5ZbWlCalklMkJiZFJnTHU5VDJKUnhCWnNjTXlzb0lyd1daT2piaiUyRkpzOVlleWdiTzVBRTVKNUdzalhYeGZrd0MlMkZUZXczcWh6Y3lJa1R6djRxNGFrenZrQ0xwdlg3Y1lwQjVEZCUyQjJSTlRmNkRBUDdxaXB2ZVAlMkJpRWclMkIlMkYlMkZxSDRJSmdJamMlMkJKdEd3cERCYSUyRlZ3YkJHVmdDNnliYWVSZG52RGF6JTJCanMxdzkzTnBXT1pQd1ltZXExRW0wcGhLdzlKSjZFSVZacXJPOGI1bk80TTJ0Z29ndW53JTJGRktNU2k2ZUR1cmZGaW5CdXlsd291VU9iOU1rT0dSViUyQkFDZlJNREl3Q2VyMEVjZzI4aklhQyUyRmVGYTNWRTFpQTdMa3dlbzNnaVNaVFAlMkJmaGhobW9IdVFpSG5PTHlidEptMjd2TmdIM1RQM2tqd3V4cCUyQmpHSUJiOWJSb04wWU5oRFVxNXFUNlNYdUVtQjJJYUhIZTdpeXF5VUV4R3d4VmhGZzF6SWFWbXl3T0RYYUJhWXJDYkwzeEJMVEo1d2w5SkczJTJGcFl3bHVKRXM2QzB1ODhoNzlxYlFkckdVcHduVUNTd2NlcTJRVklpcFZDbzdkQXBUTVhDUlFZYVhLaGZtWHolMkJnWXFiYzBRc3VDJTJCUVpZTlR6VldybExtWE8zWnpBcUVXNVBGMXZ5SGtuNXgwdno2dW5FakpJVVIwZlpvTWJVSDZEcW5WbFlEc2hVVEFCWTZxUEFnZ2M4ck1LQW9jUUs3OGpsUVdMWEhObDVGRVhaVVhxQUFTZ0hQUE42MngzRXdKZFRPYWxMWTgzTVRka0ZEdjBTUldUZFlUWlVxVnBuRXpXb3FqJTJGWUxqY2JkJTJGdDhid1Zybkp3UVpxbDlZYzVheWx2SmtQUGNTTSUyQlFEd1ZxVHpBTVYzaHFjemszNHNyS2xxQWwyS0tub2hUTiUyQlVac0pVVkFzV0FLcFNBcGZDcGFvWTZPNTNnRWN0Y0F2SkpnOTBSa3I3UUY0RWpkY1p2SiUyQmF4UmxYQ3Z3OGhhSU1NbFRlV2xzNWhuTlp1SUhuTk9RM05kQndqZzE0MUtwUlVTMGZOTHk5V2pycXFxQU95JTJGSjl5NktjMmlUc0hicVRYeFFGMnRHSGNuemRHN0FrenMlMkJEU1I2cEV4Tkh0T2UlMkJMRGJOYzVrQ0lKdzVxZHQ3ZkJwQ0NBYTZKc252aUxKWiUyQjZBJTJGbEhlaUxkJTJGOEQlMkZWZTBRRHRaMnpDRDIxNXZHV09SWURoZkcxTkI1dldRbjJVSlFhVFdzV1JwZ3U2S0prTE82aTV0NSUyRkhZa0ZnMHE1d21JJTJCYmZUOVFMaU1mdzNBJTJGTWtha1lHYmF3eEtlVDFpZzB0eTJhZWpRZnJkTFlaUktDRmlNc2VyWSUyQnVCaW9UT3FoNlhJNnh2eGx6NmklMkI0T0h3VjdiQnNSNjIwQ2VBRmpDdnM4ZmxIR2UxMCUyRnlhb0VhSGEyc3VIRkNhbVhnRVJvQnp2TWlUUWd4RGJZTFFZNHUlMkY2c1M4T3lnbGclMkZFd1E4N2RLMkd1WXdSQWhraVlFY1A1Ym8wQ1pYOFhRSlZ0VHF0Vkl6VnlSVFV5WmdhZ1h3MktxdDh4Z1YwcWt0RXdQaFl3VHMwdUkxMU1wVFJramdlSWdJZDAlMkJTQlpReVQyNVFrbmlOeEJMWFd3TUlsUmhwUnlOMW05VlVzT3FWd08zSm9JcFIlMkJjVEFyalJHbW5qN05vdnFpdXNXRFpQUGRRJTJGek1idlRBWjB0RWJjUEJ2MzVkczB1anI4NE00enNOTWt1OEwzUjNBJTJGQWZEbG4ybnJNUFJMbmdjUmNlMUNTJTJGdFgzblNjbXBMVzFJN1dlbiUyRm1YTDJRSEVuYWElMkZpaURxQklXR0xCNENRdEFDOVFjUkc5c05aZjVBUSUyRnYwelJFbVZyRHhCRHFKT1paMDd3bTB5QXBraFFCelpRdTZsZXVGMlhGNXhQcnhIQzM2NGZ4bTJsQzdTUlVaSXgwZ3FnbG5zTjU1QXdFVWNGSkMlMkZvS0FMMkZDdG9USG5JaU1DdGQlMkJDWG13bDU1JTJGRVFBdmtTMVhaajA0T0FNaURMbFNKVGJGMUppdEtHbDNlbzZpNTNmaDBQTnBtQiUyQktpQUMyNVRQYUJMNHFDaCUyQmpyc29FMm5mTktsYU9DZThpakpXMzZvZzVuVXd6d0JDUUpxQVBYb1pMUGtHNHdBclFoc21KQzZrekVPT014RTB2MkRGNTNZY1FocUlnUWM0RjN2c29JZjBoeGNuNzhISXhRSXJkdmM5TUh2NVZRJTJCUCUyRkx6YlFGQnF2eDNHTVhOZVBJJTJCZng4S2QlMkJhSUFHYkdDZm9keXk0WDUlMkJ0eDVJNWRHTTR2Z1lQMyUyQlV1cTZCZEIlMkY0OCUyRjlFNnhEQiUyRmhmRkR2SCUyRlA4UU81ZjhVTyUyRnpDbUNMOTd3a2RNbmIyJTJCbGZvRUtiSzZNd0xaUGgxTTJNOWROMXA4TnF2ZlhITiUyQktFUXNyY21ZVVB6S2kybEw1NGJuWEZsVlRkWWllYTFJaTRlZ2VhUXJTVkFsYUZjMzU0NnBxR3dUcGZBc0clMkZicnNma1lsQmljWkE5aEU5bDNaTjExU0c1MzRmU0lsSHNTd25mcnJXdWxuTUJ4OG13YWthNnhOd3FIYlEwTU01c21mbFBtdlVKUXc0TFhtMG9vUllUZnZRMXdQJTJGUGdlTXNiT3VuN1JTeEw3bGducDk5VmVmOG56ODdpUWljTUlyT0pSSFhTR3JQTlNqZm43UjlKWGJBSEdndUNvcHFwRkVXM0E0bnMycHhhQ1E3JTJCelRndE1ycDRqMTVTOUpTa014OWFGUGtHNFJDRVV0cWlCVElrdjZtZkw4N2ZIZFN6cG1CY01CSDdDcmRnOW15WkppeGNEVDVMYlBjdDVXJTJGcjJtTXIxN0xEeEJNYU85MFR5MzRHc3dUSEdwRHVFNyUyQk8wWlQ0SU9FZXhLOVNQcEVKZGlRUVVoa3JiclhCWFpadyUyRm9sZmwlMkI5Zm0ydXhxUk9tOU1QZU5kSG1Ib28wV0ZXVWR4QktXZW5iUmlQanBmemo0UG5TeE44bTgxJTJCQW04ZEtJTmtwRTVRVDBtaHpoMXRGd0dUcUJvMU9TZVlSbWV5bklCTlhFOTl2Zm1JNTVEREwzMSUyRnBvcGtwdVpEYWFwMWtUM2FRbFFjbEVhNjh2TWJZWUZrSSUyQkplb1dvNXFhVndEbzElMkJ4eXJ0WUtqU3A0Wm5ySnJNUFRqbmFjVnhlMHdGclNxSGRpRGhLZHJnSFp3cmpOZzdzTyUyQmNJNDdnOGJZaWg4MnBSVzhMMHdreXJ1SGM4eHE3c3cxZXJ3TnRVcDJNdFliMG40YVhvSm50cUU0TWt1Y0lpdnlBaFNMall3JTJCc0lUODlQQUxQbzNQeVFQWWsxJTJGSXNLMUZJN0NwNjVscVRzbms5SzZuNGtTREs4bnI3UEgzM2IlMkI1blZmTDJGWG5MRG9NU25OcGtIb0ptY3Y0VHJnUmdmJTJCNTNVblhiM2tiVU5Ocm8lMkJVMCUyRldiJTJGN1VOUlI1SFY2VWYxeG9vRTJyJTJCV01Bbk8lMkJ0eWNpY3U0TllLMFVSTjlSJTJGRktpenlsQnh5cGY3alJWZFg2TGhVSXh3QXEwcHBYNUVGdFpXam1TbDV6UTRCczFkbFo1OGR6WW12dGFzdkM4biUyRiUyRjRnU2pLSmdPOWdxeDl2YUJPJTJGRUxpNSUyQlVJb3EzWm5hJTJCbmolMkZWNzd1SW45WVFZZG82YVhpZUF0dXdRTnB4Skg1VnJOcDlQSE5tV1RvYmZBQTlKUU5ZUldOWUhVbnhaRkElMkJEemw4YiUyRndhN1NFOXIwcWJZaFl2JTJGJTJCVzVFRkwlMkZjOEZGS0I4THo3eiUyQnYlMkJhRDJSVGVaaUpyNUp5R1l4NktkMnZDJTJGTEUlMkZMRHhJSWhqeEtienZsQXZaOE40d2MzUzJiU0NEQyUyRiUyRnNrcGhmMmZMeTZKb3VHRGpScXBaNmRlcUdmMHRQR0I3OUR2cEJZdiUyRnI2Q3pITUFqSTdXcDElMkZQNnY4M0pEeEJqOFZjZUIlMkZCZCUyQm94dGNCOWMlMkI5TlBQelZBR1dWRzZ3UHZUcE9jOTJrRWUwSnBWR2s1elMlMkZUYlNnZDZlc1BPWXhNbURZanRXcWwwc0lvUWZjZ3F4aVJzQTFpbmpGdTlQS0hrMktSaGdVSmVIZHg5ZlFaa1VoT1pJbm5mZ0pMakFnRXVHM3YxcG5GQ2hZaXA4Yk13MU9aVzBseVg5ZElwS3B2aXA4QiUyQnJTUG5KJTJGYjQlMkY3Qmk0dTc5OWdTb2dzeWdvMTlyRG9PbWpNTnYxZ2RJcUhodTdGNzdOMUx2QmFvNnprbnljaTJuRWg5TFhZdWtSMWs2NHlrWHZkZm51U3B2WUVhVEhSY0N0WTVPcmp5QjV2U1p6ZHE2OHNiVHhKRkg3TjVBa1ljRm43ZlozYTNqNzQzS0hWOUxNR05ob2tWR1BseE03aUlsb0slMkJla0Z3S0wlMkZqYmU3dFJSJTJGNGVtNjFweTNGYWl2OFFjSGtXUllzNlpiOHc1WjM3OUpXWjl5elhlc21kbkpJSG9FN29iRGZEbHVMREdlRjJ3cGJTV1VqVXBMdEIlMkZ4NiUyQlNsQ25JdVkzMGxKOUswUHU4dEg4SUZXRFQlMkZPVWNydkU1N3BodE42JTJCYlpIM1hSOEs0VGR5azhHSGRya1h3ZGZKa3VTTTN2bzk2RGJTbk96Z1ZmZDZvV1ZWY2VORWhmajlHNkxucXQyQXdiSmtjZ2pnZklXRjl3NFRzblhHZVQ2b0lmcWN1UGw0ekEzTkhsajN6THJad3pvZCUyQkhpTE9RRG9heVhNc3BuTGQ2OTlnTUp2MGVsYWgxRXY3anljaXAxeHFrUGZTV2hRNGJPb1hWTHdGV2h4aXBEbGZjJTJGMyUyQnl1RU04bTl4MTdWNk1pcjFKZUhQcUhNMGFmJTJCJTJCbjdUUGklMkJSdkxOOVYlMkJZV2VrZ3paaUFRaHo2JTJCbkFnblJxa01QN0pZMjVEVU5PTWhJciUyQm1EVTRub0p6MnpZZ1pCMlJDSVNTT2MlMkJ1JTJCTGtNN0oyeGdPVWgwZmc2aDklMkZoQXJ4OTlJa1QlMkJFMkthMzhhJTJGNGVzRUJsZUtMam9KbkN2dkNmNmZ3V2lDM2RjRXFOb0xJYUxoN09YWlNJUU5EUHhpaWxSWTB4eSUyRjYzSjFVNzYzVnNVJTJCd2dCeFE4M2c1bk9hNnolMkJ4a0JtT0RFTG1Pbkd5a2JRdmI5dk5lbWl2Mm0wMSUyRlRvUkZHQm1IZkR3dnFjQyUyQk9BOWl2Tk5rVDM0NGhtTSUyRklGV2lPQ1RaJTJCd0ZaVlNZbGloJTJCMlRNOEZKZlZobUIlMkJHemJvJTJGTTRLQ2JtVG14SHZHOXNrSVdiOTgzbERCaGNRaGhLTXFQeUw5SlZlamlYJTJCMWdVYUQwbXlvQyUyQlB6Q0RSRTh4Q1NxNGVSYmo1JTJCaEpEJTJCR1g1ZGxnb1NOTUdNQ0lPZkZQbUtiVVVCUWVwcFI3T0VBMVdiQ0pWdyUyQmUlMkJPSFFYcWJTNyUyQlZNUWVmNUJyVEg5anFPd2xCY2JmeFFrSGlXSDUlMkZiZVFNVXoxSFdWV1JoOUFZRXZFWHhlYjI4ZWtiMml6ZU1Ha0d4UDc1S1VOcDI5NDJqSFhxa2xaUHhRdDR6MXhYUHR4UlBXN2NJZVJBVGQxNXd6WCUyRlhhVVAlMkJEcnNibkRXREpXdzcxSmsyYmJmR0ZkRWFyTSUyQmF1YU9HWnVDUHMyNUt3Y3clMkJpNiUyRmRVdiUyQmlRTUs0NFJmR0I3Vm53NUFiZW9rNXFZMWEzeTVMSnZyVEpIMkY5bVdza1Q5Q0FjalUzNFVZViUyQmVOSmxOVExhdnclMkJNbFRycnQxQyUyRlNWOGVFMU9TTDdVMDhBYkYlMkI1TXZHSnBOZTQ3NzBqTThKZnpjZFBKYjJ6WWhEaGhxM0FlYyUyRnE1dUFMVFI5MzNWOWU5Vmo5WXo2TlpzMVBGMzAyampjUFJmVHFQM1h1YkV2dW45UTdKU1hLaXpoVjZOWlprTyUyQkVGS0N1bkVzJTJGRWhlTmdJakNGa1hDUiUyRkhWZVQ3ckpYUVVVQ1IlMkJVQXVrZHRMaE0yYWRSa245VktFM2tKUDBVVmVXdnR6RUN1WFFaY2FrZGlFVUh3VDNKd2o0QUtWNmRkVjU3ejklMkZWZUlweEc4MTFOc0x2YUJyMjVsMlg5VHNtYUVUWk8xZ3k2JTJGQWZkdjdqcFpxRCUyQlhLUmlRMXlQTjJ0cUJpSXhvcDVhVnlRZndLUDdmRCUyRmdWR05mSGtrazUzJTJGN0pHNGhNZmxJM1I2WGpTMGNZamVGZUlkaG0lMkZueGZHeUFFV0owd0lpRm40bnB4UmNLWnVVdlA0V0NDZEolMkZLUXg3c1lwdWZUbnp5YmFYWjc5aGZkWnd3cU5EVHdvc0x4Yk90ZXV5TmY1WjNOVDFuR3ZrZ0VGaUR0cktWJTJCQ3FqME40anE4azRJJTJCNHM0U2lucm9UR0JrbzZsRElvdmY5QnZtTldkV2ZJOW1XJTJCRlliViUyRmtXQkFUZ3JETG9EM3p2NzI1VU5tUkRBcXI1UUZxeFJnTmUxY1ZRSDIlMkY4SkFOR1hsZ3hPcUFMektsWVBabExGbzBOMVNrdCUyRk84S2JOcktJRGIzUkVVbU1SSXhhTCUyRkNVJTJGZFZLU2IlMkJFYnlKTEh2endzdURKaVl3QU5LNEtUNTdGVFY0ZCUyQkw1JTJCMlhLMXhpaGdtU3dSdTJMOUJFV2ZtMjNqTWJPV0ZqN0I0ZWoxUkFjaWFwcDQ2RCUyQjduRE5RVjZtR0t5VWh6d05qMFhOdEFnSTl1eHJ0M3RUQXlmTXkwNFhCUXVkY0RTSiUyQkhJajFaS20xbDhtZmVNVDYzZ2l6d1ZXTlJZRE9vNW0lMkJSWWY4RmklMkZRUTdVNEx1RzJCZmpuUUwlMkZ6Z2ZZM1FhSUtVbFB0c2NCZUM1diUyRlBjYlIlMkJhRE5nRXpHOUVIVXNxSWEwcFZVVnlIZnJLcDBad3dSbHYlMkZ3Qndnb2tidEs1NWNoQTZFN0oxbTlzciUyQnVnWlZBcjFoQVJOOHpCZDZYcDJObU1aMkQ1Qm5mdCUyQmQxOTdwJTJCJTJGVHhPbThDZm95UXg2SVBpb0RHUXhHVHZ4dXNvTU1IcWUlMkJWVnFicGk0NWlEd1pOaHVTVGF1bXlaS1FIaWtqREg3VkhCTk5uV0I1dTF0QXRVeGdMd2tEaVlrUGhSbW9KNkdEJTJCOG1kYmRFY3ZEVlBTOEVoeGdCWXlPVFBGdHlLeGNtdXdWRHNqVUhqcHJCWFJidlk3SGwlMkJUczVJWm84S056UndNZkVSNjFKb0UlMkI5S1Rzb0xqTDklMkZ2cTIwdTklMkYwRWZYOHN1VlIzMWNNVTMwc24wWnFMNlNSWUZ4ZSUyRkZXMlFLY3BrJTJGMEZFVWFFTiUyQnRjUzE0RlFmemVibHZDcm52YjRPTThLRzcwYTZ4cHhnZm82SllmJTJGRUl3clBzdkpGTEllMSUyRmJVeFFlV0wwaSUyRiUyQm55b05JZWxwYnhFOXVTODN4WG1ydkNXQ3Q5dFVpajFpVUx2MUxGazFyTEFjVDAlMkYwTGpDJTJGb21VVTlmank4MDltYUxxVjhHaGRGNTZwY2RvaXI1NkN3Slg2ekJVZWxKNlJYNWhQVzNXUXJwMnc2VmpseEJDMWJUclRocDV0UHhSZGozQXI0OEkwaWp6a08yR3BvZ1BkaW9PNnhWaktWRnRqdmZObzh0bnllRkdERnVkJTJGVHVSZm5acWxTNWZkc256WkZXMWZGMm80RWl6bndXd3Y2Z0o3dUxuJTJGTmk1WE90aFdCandkOTFmVEZwU2xjYk1MS29xdEVxcGRKUUg0QTY5QzZKMFNrWll3S25OaCUyRlNPQ0gwOVpzaHZEeWYlMkJOZTA3a3pIS25ab3c3WmRMV2l2JTJGTzIxdkJGcUNMM0pZT1JsY3IxWHphdDdVRWduNWZvRkhNTlNjYzdyMW1EQ3JUVkJjQ1doNEY3b0YlMkZLQjJYZVl4V0NlTExiY0dKa2M1aGdrellQWVhxRlNGd2UlMkYlMkJVRCUyQlJWQ2wzTVhnMmoxWFFId1ZZdU1kN1dYVlVwRGN5VWhiUTkxa0VBaHZOYWtvdnJmZThXaW9iNUElMkZBUzVKMnI1dmVESVVQdnlQeGQyczVVNGptNW9BT0R5WlhjJTJGOFNFb1Y3ZlJFc3RGJTJGSDklMkJyciUyQmxBZjQyUW9oYkdKdVg1Uk9jeEJVaFJzc3Y5OHR3NHVQU3R2MlNiYW52cHVkOTlwSTFzd0Q4aDZlTXV0QkVuOENCaXFuSSUyRlVWazk1cWFrd2xXMVRkRE1UeWRjOHBuTHJBRWtnZW85SW1SN0tXM0l3RkM1dkdaWTZ2cktyalFhTyUyRmNudjY3TENqSTlzREklMkZEeXM1Umgya2c0ciUyRldpTUt2UGptcXYzc1QxMkJ6Y0tHUThUZyUyQnJqU09DdjZVdENoU250dkRKdHAwVGtiOFJocUQyJTJGYUJJRTFSd0o4RjdlRkxyZFBxR2wlMkZ4MndtRnBrTGRubiUyQmU1ZllQYU1ZQ2xjeFRsTkFuakZDaEczNmdVZ2VnS2NqZWRod29Vc0tkNVpaZ003QXE0dk9VVWhiQklsTSUyRlZ2U2NVdHdhWUFsZlVQakJOemkwJTJCeHRaR2ZXTTV0eXhheWlyOWVVR0klMkZncHMlMkZLczRYM3pvdDhhMThsZ1FuUGNVNzdSSTViZ0pJNFVHV0lYM3A2VSUyQk9OM3JoNSUyRlYwJTJCSHMlMkI5cnZkOSUyRlBtSUlGQmp2aUFjNGlVSTl2ZlIlMkYlMkYlMkZLZ0NpaVJZNEFYNzclMkJCeXFEeHdHdEJSa0s0YmtpNzlQS0ZJV29MM3hmMFFWVUhnejRHVEJESGxBUTh5QW50OUJaZ3FBaVlhaEVaa2xHUlhOaDV2Q2x5c1VlNzM1QXplMlMzRlduTnFST1VhbmlpNzBxaW5KNzlOZTF4NUFTckQ1a0RTbFVBMUJyNFdVbmpyRDBrNm80NnVqbUQySWVDTkxDVHhxOXdmSEg0R0V1WkxaZFAlMkJrSFB3diUyQnpDcURVaGtuVzF4UUxSc05PNDA0enRVaExueE9OU2RvUFdKbFRhSjRLRjN6Qm1oTkVSdUNaYTUlMkYzZTV2M3J6aVN5cTlXYlRMM2tZaUNhVHRHb3psczdjZk1jM2V6d3dPclQlMkI1aDRxTkw0VCUyRjdsM2ZjRUNlNSUyQmZjM2YzazE2VThRdktING1FWWxxMGhGQzMyYXBGQVY3VkVkTUVzQW5zYTk2cm9ZZkpQQ05OQ1BSdnYyQ2pIYlFYeWZJcU9CZmF0dGQ1OHJWaTNXVDRGSnViVFpjMyUyRkx5RXpQeSUyRjFyN1haSXR3eEF0YTlXdFltaTVicnN5dkJzZ3lSdmgxMzFFaElSVlNXWWY3V0o5QkIlMkJROHU5VElIbTF3enFNVW1VMGtPM21kdVBSRXV1ZyUyRlN3VnAlMkJoVThWUk15Q0g4JTJCWVpRcmNkZ1JmMXJ2OFVueXUlMkJNSHNXMU84cFZRYmpXZ3N4MlpZMXZuTDklMkJjJTJGJTJCRlJpd2Ywc1o1aCUyRjZuanRuNjdMc081UnBzMkNFQjIxJTJGeUJTaFFDcHYxMkh6UCUyRnB2WUdFT1JZTVM5eEtCNzZkcGdvTVh5a3hQeTY5SGo1azdDazhMeVdOajJGYTl0Zjdhc05uZjExRDMxejVzaEZjZFYxOWpSZmhHSUxvVWN5SkRmU01uampwWEpjTDRua3hCakQ5ejRLSXZ1Q0N2cGM5dWtQRDVaRnBEa3RGNG10QUUxZW5HVUtnTjFlU1ZXelIlMkIlMkZGVktCdk1qUER5cUFIWkh2UHolMkJIbzhIU2hSa2hkSTBxRFlsU3I2VEF2T2dWNXI2N2JydXoyT2dHOUxyS3dybjJxMGNHSnh0Wm1UVklVenpJbDNhdVZDdHJNaFJqMzZoJTJGUlNqVGhTJTJGa2hMNiUyRlIwVlNacDYyMUd0bHE5MWFEJTJGVEJUeUpIcXBDJTJCOHRPVG12Y2w0RmplM1JBV2czNmFPa3JsR2JxMFI0SXVDR2VLbU0wc3VUQ2RVVzJCM25aTjU1ZzVONjJqeVVkcGpDQTJ0cEVqS2dDWkt2eGNZbnJ1T203SWk0a3hiVEglMkJlMEVYUnlJVmVUSUclMkJEMFM0U044ZFMzZWJUREtyWkx0N3NQcEpkNThkS2s0WFN6MjJqbDlqZVVvYnlrTnpoZDdOMjVCZWJSWnNPJTJGTGlWc1VtJTJCYVV6SWxFSzVyV0QlMkIyVjBNZjhyc296YUVNRHRWakRxTHJ4WDFtMkJEeEY0aTdxZFh4MVNITDJHd25vS1FZUEJIdnRJdHR1UmN4S1hTbnA3biUyQjBpemNqME80VGVPY0xaR1hFdEtCbXhmNDlKaFQ1WTR2cUYyR0p2NnJVNEtwVEZmZmVVRkhpM3RENFBqTGV2RjZldU1JNUlxTE1WeVZJZnpDeDdLSkZpQXg3ZFNEQ282RFBUQmY5OHJQaFU3dXNRaHZ2RjM4aWtsNkxMMmxxMCUyQmIlMkZya25wc1NSNXVFZW56d3A4NjglMkJiTkpNJTJGR2Z1NVBjTjdnMTNEaEU3eTQlMkZMaGhRWDMlMkZscnJQeFJVaTA5akhvVmlIek1SUnJmUDE2MVlqN2lJQ3QwaUlqbzV4bjU1VkF1blRPMUpnUzlVbW9EdmJzZzA0WnFxUzc3VlBXTFZrWWYzWGx5VjF4aGxOcGthJTJCenpkNmxVY1M5WG9jcjVtamE3Qkg5TmltV2ZKVFR0NlhlUmZGNnQxaEs5VzRyelZnWGJPT3dOaVZGOWhSZEl4YVhmd2NwdHF2NHJ5djhxRW10aWVaOWJKVVFZRm55ZkZmbGJBZ0xBUEFSZDhKTzhJJTJCVjlvWkxqekhGY3lzdUp0SGhuV2FEOWplNk5kaDNFTUclMkY0WDk0WDAlMkIxM3QlMkI2JTJGOGUlMkJTSEZtaklWMjBzeVFMUHZjTGUlMkY1ZkolMkZDVGRUZkRoeEpoOVptcVJTNHZ4SE5WWXROVWhOOGMlMkI0Q3MxbEt5dTNJc29oenlXbFBLaEVVa2wySkxGQlZsRG9XU0lsejRVbUR4OWJGNGl4dEU5MTdkbiUyQmlnaXQ5QTByUkdaUVRZJTJCYyUyQjd4TVh0aiUyRlJmNVRwc05tbnk5QXVHdmRDaWxzbDlHSjBUWVFjUGtCbXZheUl1dTFmb0FrekZPdWhucHR1NjVkMVBxU2FWTE5FYnRmTjZscDN3ZGJ1M1FOJTJGNXl3Z2dObyUyRndtSXpRVmd6VGpBVFM0QWw4eFhNMDJBeGp1aWo4eEhtbGt1eUNPQ2VlJTJCNG01dUNvNm5LJTJCdWFnWVUxaTk4OUhBU2g4Z2hYRDJtZHd2S0lwQzZYJTJGa0x1S3JHT0tKSkdPb1BBUmhXeDlQYlNQY2FKbnMlMkZtelAwaDFhYllua0dHZmpBZ3JacTNsUVpDVklwclY3OXBTMmR5JTJGdERmNUt3YjNkY2Nzb2E0cmF4bzJ5SmY3ckdvYXV0RUVhcE9tMThWV0o0ZUVyTmE5ZmZlQlRnWk5GbTBIUWJrVVl2VW5yZTFJcmdGNzRmMkE4UDA4THhja3IzaHVXZUg3V0d2MFVaWjBOOWpNWVFMTjdVYiUyQjFTdTNiV1VBb2EwSVglMkZHekNEQUtHamd3MHl3QVNrWEZGUUdIeEUwYyUyQkolMkYxMGc4SUVwSWhRTzdhT3JUd281UGJhWWZSZVRleUp2ZmQ3RXlLVGVNRyUyRll3a2hhclcxWlNjSkR1dHFJTUxDQ2JFdDBKa0NaQkJNMFk5ZzFrR2RGMjVWJTJCZzlBSkFRVlVYUFN1OHRsM09VZDlpWiUyRjNOUDNzVHZnM0tGUDdieVRxanA2dzFESERCNDhrMWc2YUk0bVpGJTJCM1V6ODJZNUxkcmgwWDRwV2k2ZzVWbW53ZSUyRnVxblFrbDFqVWQ5SXdXTDNZSlpTWmh5Q0doeFpvV0IzeWxQc2E3bjBaUWxGdUk0cVJmQzg3R3JQMndpakZ0dGswZ29vSUwlMkZBbzEwR0JNTW9XeXZoViUyQnFTQ0ElMkJvUnBFZ1RFdGZ1ckk1SVhCRkVyd0lPRmIwdSUyQnFmMHElMkJ5QlZtZmNYSWxlYzVIYU1FWlclMkI0ellhMUR0Q3JmSUtwZlBmaTA5TVg2MmZidWRISiUyQkJOJTJGbXlobVZ4d2cxaWZDa0dmMGdSeVhaeHFWSUxreWdVdXpmbFpNTWJTNW9vVWZBJTJGcTJxWlF4Qm9RVVBXWkpGbVgycW9raUVoRjdtVFJpVlZqZFFwS3MlMkJldWxydjI2YXhJd0pFdXBUSTVxVkNZV09mJTJCQzdiRnhTVFklMkJveVFnSkhYdUszWDdNekFvTmlaJTJCa2JLUDNpSDB1MVNvT1YlMkZtWDJodFdEc21DJTJGTzZXWWZjV2lTJTJGbGN3YVRmWm5iYjBkWWZ3NUJ1Z3plaUdKV25vNFg1YWhOeDJjakJpb2kzQXMwMWZIVDd2JTJGOUt1RU1EdlJ4cklHRU1CNmhzcHdpJTJGSDZqVUlWdmVwOUtDU1hLNG0wT3Jsb2ZxYWFKRUtZYzl6WXJwOWNGamZQckpTaTJVWlJLQ0Ewb1R6dDBtUk5NMmhvVHdGdktiajdJQ0wzS3h4bXBSVE9KUkgza1hFJTJGVyUyQjE1cXIyRkRicVp1bmdHN01Cc2ZRMFhzOGwyNFplVzRoVkdjMXI3OHIyc09VOWEwMWtqb3l1aW9PSmZhTTVyMFJ5Mmc5Q1VBMlVGRE1rb1IzbjRFdXYwN2pJTnd4ckFIcEROWVZJQW5BJTJCMlN3c3BWVmxPdWZRUnZWJTJGeCUyQkpwQzFheHJmJTJCbHJpYkw5QWowUVFsZDRvdjRFSzQ5cnZZRnk3c084QlJDdGI5RGVuNXJEYXk1MXlRY2NpSUpuWmNYS1lCbnBHeXVOdVNQU3E3bVVrdmxaOVQlMkZGQkdYV0NNSU43UFJLaWJSWjRNUzNrSEc2cGlEaXFxV0Q2bXhwUmNKOHZWWFNwc3RPUnA0QVIwZ3hvTm9oNnBKJTJCb1F2WDZYSzZPUW96N2xzblF1bU9MWllsbTROWFNOZEVWTE9jc25HSEtadmFXRktuS2VUZjlCc3FROEFGWmRQVk1PeXBzU0w3ZXJqMURxRzVERXozNFVZUkI0WUxWR1JWWGtNd2dFS2hjd3FxeXNpNThyYXclMkJVMHZHUlhwdmVoRE1yTDhWbnlTbmxnamdSenFsUkZEUGZUMWFJZ0xoU1puVjFTVmJMVE4lMkZ6M2tYOGlJQzR3U3NFdXRibENmUnBuVmR6N3hDRXNHZWxoUUg1V1lNcUZucFUydDNmTEpndlBadFpET2RpWVhTYUlEYjh6WDZWbTVoTkR4UjVyUHVRcCUyQjFvWW5yVCUyRjQ3ZGVmSWpPajRPJTJGaDJ1SWx4YWdwb1lWNXk0cG1tMTczWFlGWUNrODlOZlpqZjRZZEYySVVPbDhmRDNpNkJKT3RNJTJGUmhyRFRRaE5yMzhKJTJGRkhUVlVadm40aUolMkJUUHZPeHVLYndLSVZwcWJLdlZwYmclMkZscHRuQTdZM0tobVJYMFBwMEgwbHVQd3YlMkZZVnFKQU8wTkE5UFpxUDVlTVoyc3ZUbjYxSU4lMkZDRUM1SDRWbWE0M3BUVmx5ekN1czdQSEs4YmJXM1dBYkJQMSUyRmYxbHExOW1QbzVQRGFNazVRWWtEUW9ENlNGanZ5VTM5WGVIdzYxV0pVYXNtQ3NhQjl0VUMlMkJmJTJCc2lTaEVwdWdqemxHcFFQVDM1bjhqSVdObTJyM0dKbjQ2T3BmQnUlMkZxUnhnT2xId2ElMkJuVFdmJTJGbk5iYlhWRzJVVE1nZSUyRktiJTJGWG94SEtEVkllNzclMkZEZWlHZ092NWN4RmVZTXQyQnZ2SnptelBPdmI2QklPUXhIcUpLcmVNeGdMNHFlJTJCbzhtYUNyRTlCbzhUcWc5alJFdWF2bUw0eTAlMkJZYWljSlNIQ212a2V2cjZPVlhuJTJCYzI0SGttWFByM2diUm80cFFyU0VBREN5SUVtOGFzSFRoRm9qeTl0SFM4Z3kyME03czc3RFdXaGNNcGZ2cjRLUDAwSHl3VUJBZDZnWks3NGtyNVVJQ2w2OURHNyUyRmZWcGc1OW8yYjllNVhoNXlMOWhDeW11Z0liRjkyOGZXaFRHRmZWUXAwYm9mayUyRkcwTXBPcGR2eW16MnRVUEx4UXZqTEIlMkZRMEhIdk02UHNuRVE4NXNMd3JzV3hRQ1g0Z0NwbDFucm9NQndqVDY5aElnOWwwZGhXTjdwTThKekUyTDhaTDFBN2lEdjRUR0lhRkRpdk9zM3g0eHcwRnZaNTcwM01VbDJPZnh5UWlaYmhLRmlTWm16cXZSRGNXeXUlMkY3YjhZbzFBMERqbWM3cW40RmNudms3S0doTDBUVCUyQkFmazNuRVpJWGQ1cHJQcGIwUUdqSUFrRWNoM0xGdFRWSm5UM3Z5Q09JVmxyUEdudDBqQkpnY1QlMkI3YzRQeVBSdFREQnglMkJKdklMeWNFN1R6d1JuNU9nT2xUVlVxRkthY0ZXS2t1cmhuRDhIdlZXYmVXZkVQYUVIMElWUCUyRkNKUmtmT0IwaWh6aVkzeGlUSUolMkZRVWYlMkZXbTclMkZaViUyRk14OG51T2NsWGwwYnkxYTl6JTJGa1p0NnIzTWFXd1hiam1HSnRwMFVjVGNnajNDWkxlNWcyU2QlMkY2U0FmMVRsMTlrYzFEYmtTdjNkWHB6M2dPaDRkR0NvciUyRm45bTVLSG9NbURNUnV5dmtncERiOG1BYVo4R2VzWHNiMDkyNEt0NVVFRlVESDlIVzR1WkJzVDJ6T2hGNkFQUzF1JTJGaGxhSUhibjAlMkZmQ0FKRWxmZTNyVXhPalBaSnV2cDlqWVNtUkIyUm9aQnQlMkY0VXMwb1JQRWVnWURKJTJCSXgzRWc3TWNLUjJSdno0UTJVNXlHZkpJVmdpY0FYeDFSRWxRVTF4dmN6WEI5SE1aT1FqVk05RkZVZFlsSThFJTJCNiUyQkIyWnUlMkI4bVZDQnVzbXFzQ2FWYmhQbUViU2FIQWphczgwWXVmZTF4ZUt5c1lnJTJCVlBob2w1UmtCVXBMNjlQbmJWciUyRlV1ejZxNWpaZFI0OVpCb2NWbjJDM2c0WldIa1ZmblJtQ0Q3dCUyRnBWSHJ6Q0Y3b09YZjNmN1ZXVWFFbTE4c1JtcXVrVyUyQnQyM2NmNmJrQUIyMiUyQnM4ZlVXcXdYOXpxMVBYdFI1YzI1QzQ1aHIlMkI5WWZTVXhsbjBsM1cyU0J5eFNsQ3ZVUXlGZVMweUd6UkY3WVRlemxWb0d6NSUyQmhiQzM1U1hJVkklMkJOWnUwMTFNS3kyUHpSeFpPTG8xYkpvdFlIMlFaREhYcG1XVUZ5YjFTQU8yNHlKblhTdUI3UkdpUjVzaDVjTUtGMmNMdTNmSTZZZ0lyeEVVanNXSUNScFhjaFVqU2dsSm5xOUloclV1NjlTRVJZb3o2YU80TThzVFFIdGtLdDFpZ1RzcFU4UnFEcHlJYjlpUUVSSU9RdG5SJTJGcUdFSENvZXJEeXZSJTJGSzBhYnRkQlRiYkZPZnVsRE51ZWc2Tzd0QVpTV0lycW01M2FyaVg4bWlpdEZzeHYlMkZBaGdWdm12RExpaWIwS1FyMTdiclE1SHpJSHVUR05KSFZtbk9KeDM0dUxra254c1M1YmpzeVNJdjZyWFBpTldRajd1a0NTcUN1N1JZZnFjbndwaFU3NSUyRkY2bWM5cUcwQ29oUXVOcGVZYkxDSG1uenVoVHduT0VrJTJGTyUyRjNGJTJCZGJqMDdHOE1RVkdZbUpudSUyRkc4TUpFUWNSVzklMkYzTmZsNmFIOFVCVCUyRkoxdUJkM2FsTFZTM1BXZTN6SmhLd012NmdGYW5qaWh5ZmplQSUyQmxlJTJGdTc1czRRbGVEdnNIWnlwbjVuJTJCOEYzaUw3QSUyRjFEODBoakQ3NkNtOUdPY3d5N3VNeW0lMkZERG5ZZFVwbklBTWNHbWtJRE9LNzBsczBiSGY2dXJQZjE3eWk0MUJrajV5NDZKbDl2TnJJNjJ1NGpFUEZsY29RUVltJTJGdXJBWlhDTktYcEdtUFdxS2FjNGlMWUVUSkQ1a1FKWDlNdGY5YiUyQnVLMTM2cWlaTXJNd1FiMVgxbkgydlVYaFd2cDZEQ0olMkZINFozNlMlMkI3V2k2UGUxTVRMQ1Z5QjklMkJUc2MlMkZsaUMlMkJLSWFOJTJCR2lLZjNWbURleWs5cUVYSVVlJTJGRmZvc29USFUxbDhYcDY1YXpIJTJGVERIWlNqTFdGZlh1MDFuNU1Mbk40Z3RWS2pIamo1OU9BUWZXdDVUd05kQ1A4Q014enYyOE1FSVVYbDhrUWZ1OWlyOTFUWkxEUkEySjZQTzZ3bDh6MTlOdktLVzZVJTJCYyUyRlRNTHdsOThvMHlQNVVaRWllWjNOb1RHSGtVdm1uTjJtZVQ0NGlUVnNYZm1yU1M2Rmp4RUVzZnU4S0w0NHJxM0EzSHkwa3dORUhkbU1rbiUyRmZkZnc1JTJCamQlMkYzVlN1cGJESFB6RkRvT2N0cEt2c014RkY2UjBDUDBNVU5IMTQlMkI4UEVJJTJCRloxJTJCZnZiOHBDS0lOOTk5bE9SbnJaTDZHYzkyc2hEM0glMkJYTngxNWFtUElsJTJGWGJSNEthcjE4SlhpZE5sRWxKMlEwYWRrZlhmN2IxJTJGQWFtM083JTJCTThraEhTN01QV05hSnAxMDliNmQ2eVNVYlJFeTM1WjR0aHkyJTJGYWolMkJOMWI2JTJCUmtkT3VROVJDcGQyTktyTGRybU52Z3JWSWxBNmt5TGZJSyUyRmNyeSUyRlBzS2MzdkQwQzdYJTJCcjlEZVhZdmc0WiUyRiUyQkRZVVlqSjNhUk53JTJGbHNRSnlqcFZlR3JrWWd5ZThDVkNJd2ZRT2xrZnJ2N1lybHZad0NsOFRtcG4xQ3FPWE5oZjlOWlFOMUkxSHZ3THFHYXE0ZWFQWHR4elg2NFhJc0YyMmlxbDR1M290WmM1UU1RSmZsVmhzdG1rdlRHMkY3dVBKeVBaR1RwJTJCbHpIUiUyRjl1T1YxY1Baa2RjaklKSHhFOFBzZ3dobXBLb2F6MmpWbTl1U21pb1ZrRnNUTHNiRGc1bjJyQmRuMnZsemdlN3RjYVlGMGV5a3dxV2FiUW9iODlyOGVabWhjSHBGVHN2MFpNVlYzTkYlMkJzbSUyRk9Xbm1Vc3czSGljWCUyRks5ODIxdzNQTlljTnAzWVVadDhYSSUyRjh6UHZtYThkMWhSNUVqMWclMkJjNXJPQnh0RGliZzdnN09kREFBcVJ4a3pYbmM2RnF5T2xBZzBLY1RuT0RJMzduS2YlMkZjTmJQSnMwJTJGRnlYOGRncHJuSExkdWxsa3Z4WTdoc2RsUDFWQ2dOMURoJTJCQ25MQU1WWnJqY250VFFxdGRRa2s3ZDlBZldXWDBLOVA0SUJ2ZnNtUTlLTktDUnNhSklMNDJOamYlMkJRUjRGSnZwb05rcnRQU29icmhId3c5VDFKcjA5dzNxOUp0NmtuNDlCeHRvUCUyRiUyQnNCZlA2V05saWMxemJCVFhHU3pXUFhMcXpRYThDc1hRRU54UXJWZ3RPJTJCV0NFaWNnRktJck1CQlJQVmpoWDlubElMOVdvbk1ZaTdpUUNWbHglMkJCQlN3N1ZkR1RVanY0Smp5bDRVRzhtcFkwVVE2V2tUN2VQTWJpWDZrU2tRVXhNMG90N3RoY3RiT1FCZzduS0RZODNtOWM1c1ZYVDZCNUZzNjBaR0MwNloxQ254bDZINzBrUXUzZG4lMkJndzRtSGM4WUpnUTU0T2NNdFJGbTlyS0F3aGxwQzBCUnlyJTJCSmNER1VtQmVGVm56T2xySGxOYWN4SGJPTUN0VDZZQUt4aHRTUkN5MUZMMCUyQlE4RWdVSUpPTjRrZmpjdHlCJTJGZERFaVZ4Y1BKJTJGV3lLMEc5VG9hdzVtSmFqUFFncWtoZnJKTkFuSnlCYms2S1E3QmlOazRsWSUyRnExQXk4REt1dlhEZDNlOUhmMUM4ZllzTGhKUTQzTnBKM2VNSGVvNms5STRuYTVVNm5Ua1lidXh2RVNDT0J2Y2pGeTRDZnVQc0VuczRPNHdnM0RkcTFXUkQ4YUpUeTUlMkZEaDVBZFpVSkprY3hGS29zM3V5TGpjdWNLS3dQbiUyQlZ2Qlh4T1Y2YSUyRjVwZ0hPVnIxcnNHOEE1dFFjV3VQaSUyRm1OY3ZmeUlnUWVGQW9kNnQ4RlhhQ203V2NsUlE0eCUyRkpWYUQydVB1bCUyQllpVFYlMkJjY3FEMVFlYzhTWlRQbjdSdG4wTmJxOEJuRXBjZWhwSjN5cFlVRTBzTjR0ZldNTU91WlRtRm1vQ0ZIZW9ReHE2YmhYaW8lMkJ3OG1jeDMzZmtxbFNTTjlQMHF4bzk0c2tVZXEwUGZCT3RtdFp5WiUyRmUwZlFlJTJGS0MlMkZ0aiUyRjhHRjNSTXZCeTQ4dnBEelZjTk1aaDBmRDdRUEVWMnI4Z3hLRnRNdUJPREw1aTIyZ0JGbm9HcnZSRWxSOXpDdjBHVm9jSENVJTJCc21lTmlTYkU1MEpnUDNxc1F0ZGxvR3ljWUh5clQwNGJFbGRtMFpHWWpjaXI1eCUyRnlyY2VTcUhsU09ERm5yZlVnZjZKb0pKTHJqbzklMkZ1Z25SNU5YOSUyQlczUTVYZDB2RXlsYW9xenMzYmVmN2Q2UTNrNTdyemtzcU90TUJ1bU5aOGJFVmVpNG13VVZHb2RiMEV6QWZpOFVPY2NtVFYzNjFOaTVpdlBXN3dxdCUyQlRXUGZDY3VjVmpFT3h3ZVV4d2U2VzR4eXRiWkdvd0xzJTJCVlFDRkIyc2RGdUY4R01TVTU5OU5VNFJxOWJ2S3c1Rkc1UkMlMkJkU1pXamZ0T3pyeHZWY2pGTDJ2SWNaRUJGUmY3a2clMkZ6NXkwMDR4c09DbjBhTmRlcndFOFgxdThiMzMxY2lyd1ZIc1o5JTJGbjd6bVclMkYlMkJXMTlmUGRSSDJKbVE1RU9tRFJ4ZkhIQmlXNUdkZ04lMkJtTHZvdXJ1UW93ZDglMkZTa0M2UFZudE1iQjhtSlM4OXlWRk9DalFneVYzY1V0em1MJTJGakZhbm9DZjF1Vko0OHglMkJsJTJGUTFucnN2RVA3UEpES0x2MjEySURmcGZuMXZjUklpZmVkJTJCWkN2cXIlMkZHU1o5eHJVVWY3TGtwVFZnTzBsR0JKeFdERHNaUTZPV2pjQ2VSVkMlMkZ1VHdDUkhHQ3VQYmVGVzhuRnVheEF2UDRMNjJHS01tb1M4RTdudTU3UGVOQjdDYzg0eEVoTGJHUmxOdEQ3TWtDZldwNHBsRW9jWXQ3R3ZOTjNYciUyRmZhdmYlMkZmQzNZZGRJSk92eDc5RDE4elpIaGFrOVdTT3JOV0RZeEhJY3pHWFVtYXZUaFAlMkJWdU5kQVBBbml4c1dkUFNSanpnMGNaa1dneklmT1hHVDI4ajZvakhPWVA5NG5OT055YkdPSzRPJTJGV09kRm5OJTJCJTJCJTJCc0R3ek4lMkZGQ1NXREtFN09lVHElMkJ4dVVEQ2d0S1Z4MUhjRnRaQWw1QUFaNFM1TG5oV2JtN3d4S2RKSHVjQyUyQkxXb0k4UUEwSEcza2JKQTEzeDE5MGY1MWNrMFdwcDl3ZmtOWVo2aTB4ek9QY0JIdjd1NkdVc2p3cCUyQmEzWlhZcnFGazM1VXF3Qkc1TUtyOXJsNjR1YlBXQjRRN3YyOUhQNmlPUzB6ZjQwZWJtZGs1T0ElMkJnOHhRbXdWT2ZKU3ZDOGFHd3ZOZ1BSMmJwWUxqV3l1S2hWQk1HbTVJYlF1RmdXcmdFWERsN3RVQXN5VGxONjNLS0ZxJTJGNkM4eEljaUVuN3Z0TExuOWJMellPSU8lMkY1TkZUWmcyZEp4Y2FlSlhKaFNaWWx2MzUlMkZUOHd2cVZlYkRvZjZsUHVqWnRoMUdHYUNibjNoZXZKeG5nd1NiWW5QWGpneFYlMkJIa2dJaGVWbmJTUGFxTGVBbG1EcSUyQnF5YmpKOThtTk91S1BQYlhyY2tqOUd4YXZCakZYeDVYR3glMkZ4VFBZYk1VUU9ldnJVUjdxYTBmOHVzbmNKVjZDRVYzUVlvNlpHJTJCdHI1TEpEcFl1NVJCSyUyRld1JTJCQnlZMzZtd3I3R0QlMkY0SjkyUnJ6TnJzQmkzZHNhd2h2JTJGdlZGaWFCeURlamdGSFJaR2p6U1BNaDZoY3BSRUR4VjdCNnVmJTJGMTd6WGpzVGZVNjNtJTJCNThxVDhkUmQyV1F1emt2dVFDU3QwWkFlb1NrcE9qcGlNVmJXYXFBJTJCbE9Gemd6JTJGNHJYcUd1RyUyRlNNaEVqZGx6TSUyQjdKJTJGMkp0YmV3aUdFMHUlMkZTRW1QJTJGQzElMkZ2JTJCY0RWNU8wUEQwbFlXQ1F2cVcwQkVmc0JOUkY2akg2T0s1cHJXRUdPdFJnUXREUm43SzNxYlBoSlVKTmg5OHE5VkRqMnlOY05CbUo5QnRHdENmT2gyTGtyMGglMkZ2ZEFITTRzc0pEVzRNNCUyRiUyQldWTTVCdExvd1J2c2JVamsxc1dZSmIlMkZEJTJGTHZjeVdqSUQ4YVpFSm14aFBPcmpFcDhBMnlvdG1wanc5ViUyRnQ2TWt4NFMwbnZzNDA4cnhRc3ElMkZDcEpHdmslMkZWZzl4MTJVdkZJaVVaREhxeTFhZTNhQWcwRlVYZWlvRGhjRzJYMUw0VXh0OWxjV0R0cXpjZjY4b3p4TlhoQnl0U0xNWEM0Z1UzbTRwYVBCejRYNHI3OUVPcnJOVjA0NzdSazk2VHI4MnNodUdwQkoyVmhNeWFXQjlhMUVjTnd4N0htOEJIUE5ubGMlMkZTNWxTNzlnc1FCNnU2emhEUFptWkZjNEkzdkRpdEhtMVptakNUOWJDWVJGJTJCekZHQkZjNUslMkZsYUdra1EybzN3YVdxVVZvblh3JTJGc1ZZT3U1JTJCWTJwNTlZWTV2Q1VoeSUyQmMwRzlrV1BYcDNaJTJCRkxXZ1V5d1dkdTNGOGR1cks4WFp1NUZrUzhSMzd0Zmp6c1g3SXglMkZBV1VvY3JWcmtUc3d1MXZmTlVoaTBiaVJJRU5IVVU4Wm5EUSUyQjNuUGZZJTJCOWljTlducTNWRkdkWGxWWURjdlQ4YVl2UWRPSXJ5eDNLUmVYbk92Q0JpSUh2QTkxdjYxdjRTcE5vUE1KTml6bGlnV2RIUUhLeEV2bXV4WU4lMkZsVFNRelhHM1QlMkZWUVVKMFJnanVuWVBIYnpUYVpFaFkycHpNeG9STno4dFA1YVByRnRQaWVjZGJoRGx0OWc0QkZRS2RVNVdjbkF3bDBrUXdnaSUyRjRqMVFkYVo4VTRyV0VSWnNnMEVpc2tjYkNocmZwYndZR0x6T3Z3dXB4M2VCSjFPY0EwVjF4RSUyRmh1cnVIZEsySHlTdyUyRmIxa2tRSHI2ZmtUc3l4WDlwMWJPTDhsOHJSUHFEdyUyRjdCVjVQU0ozcnd3JTJCT1hLJTJCWFQwRmxvMU1hQzVHaGVOMGF4MCUyRjFINWIzVUFBWSUyQjZGUVFlOGJWVlFYbnI1ZWxVR0Fjb2lZSURVZFpOUDdKR3JUQzY0OVpoV1pGTTVYSWZYajVhOG9YQmpOWCUyQm1pMGF4alRnRENrdnJMWnZGWjhtZkh4dyUyQiUyRmF2bnZBcTNTRFBxc1RnUGNhTkI4eHk4eXpQa0o5QmJxZiUyRiUyQkZnakhPMFNNSURpJTJCd1h0OXQwakR5RWRKUDJaeHN5ZXRKJTJGMDdNM0lXZkVHZyUyRnM0ekNkNWY0N01RcTVpRnFvNTNzM0dyVGM4RVo1ZCUyRmpGQXF0QUo3VmphZkl6QjNaa09xeGJBOVJvdGhVeUMwSkwlMkJPZ0dXbnhXNzFTWk91V3U1RlNlekZoQTZvSTlaZlk4VU1wYzZxSk9lVW51d0syVWlEeiUyQnVNaUVSMEdOdVROenJHc0dHd2I0dFRnczJkZVVVeHRRVlNMOTQ5UVFTJTJCQU9BV3M3eCUyRmtSVGp0M2t1S2hUckROMllLSWFva3R0T3YlMkI2WWolMkZpbGhyU3NlN0Y0STdoR1hpck9yMyUyRk8zTWUzcDFlVGZ1cnNtejhaeHo2WlBqdVpWNmZ5VzVUN2hsJTJCdWlBM1gxTUJDNUNrSm05V1dqaThPU3J4NUpheXZMMWNiR29TN1ElMkIlMkZrYUg0OVRaRUpkZHZIYllYaU1mOGVLZEVJQm1zMUZTS0RVbnplYUZxSGpOeEZKbzJLUFptMUt6dEpNZ3gzUjM3UGlRVmJPYmdrYldsODMlMkZqNFRtSkZUbGRScCUyRm9XNmU3eWluJTJGTEZRbXFEOHRPVDFPbEhacnQ2dlJHMmlOYllUZHJDaCUyRmRBYnhMRUg1UVNXYkdDY1JtZENjWG5tQmtMRTQ0ZVBOZmpOM1JaM3dRZmVBOWZOVCUyQlE4SEt4Z2VONVNST2l6Q2IyWUhUQ0QzVjI1dEV2MGZQMlRuUVd6RDl2OVlQZFNkd1MlMkZyU29lVyUyRmhuME1CSnhhWWFzN3JHaUh2T1lTZll0RVZuZGFjQ1hmSFlNYUZWcmdjQXklMkI3RHRId1RDQU1sVGpRbjdndSUyQlpvTlhEUHAyVGJrM0d6aSUyQkJmRmkxSnFWRW03RXBjdnFHU1BaSVhuMWdodUtkUDRzSFBnZHVDMEZQVUVReTBmTm14VXBONlBmaTVhdEFnTG9OakpzZHVyMDNUJTJGZGFzenF6TUlmMnhKdlllV3AzRmt0JTJGVEJLR3l2NjRsTFFKeE03TVlRYkV6Mjk3Uk5uQmpkJTJGRk52UWlpZGo0dVRuN3lhdHFVUTZveHI4anNYRmJ6OGRBTzlXMWxLUW0xNE5Bc1lrb0N1QklUM3h0ZUVHdTdrZkc2ZkRqRWZhck5HRlJsdSUyRlVKbks4TUlLV2V5SjVWNjBiemw5JTJGNm16dnFUcktCJTJGRWZuVzJsU3lMJTJGVFZuZkdxWnVONnFrZjl0SDl0N0pwSlAwUUhVb2U5WjFBY1FOODhidWJueUp3MVM5aGZRMUxCOHpVZTlib0NtczlETmhOcCUyRmZlY0slMkZQWm54Y1BIMFp1SCUyQkclMkJEVkZTdjNQdVdwWHc0c2w4cEhtWTgzc2I5YThvU1ZHbHhzVjRyWFRodWhyNSUyQkVzUDF5TjlaN2UwRDZLMCUyQmxZTjc0am1pTGVXYkMwem1CUGslMkZOMnFpRzhSYSUyRmtuJTJCeHJMM0xRUXZVZjFmOHh4RyUyQm1KVnlrN2lrR3JxVjY3RU4zZmVaaXR5S1hmYTBZNHlpa0w5QWhDJTJCa0RKQlolMkZQcnJlU3hJZms5R1hyTVJ6Sno2NTJyeHhIQ2x3JTJGb3lIJTJGelQzeWQwbDM5cldudVYwMXgycGZieFc5a0xtU0ptJTJGVWYyTnA5SCUyRlZGOVBWQ2xIVEQ1QVE4SjdNVDR0bU91T29WcyUyQk5pRjdzeFludTFUQTglMkZkZWhVU2JDcEFjNHRuM3BCc01ucjRpOFk2MXF0V0s1TUswMFA1bDdkNVVXaVp2NXF1SXkwOSUyRlFYOWJjWDJWOHFQS1RpbElDUWYwc1hYZ3lnamI5d1lqVnA5QnJmWEdlUDN0ZDNBZG9mRUVRUExRJTJCUXZNTVRiTHZpd2hUcHVYSDhwMTR5eEptOTczdnJJbTRsMjJNcks4OWY5MFVPcmQ4TU9oSkklMkZuU2libFZSNXRiakFxRjlya0JKZWVmNG9NYzl4ajNzZnlnb0lia0VjaG0zYThSZDNiM0ZUQVBOQjlockwlMkJ2MW92NzFDaXElMkJ6dEUwRHNCcm4lMkJqJTJCaGVCRXA2U3FNMk9vUFlNNmZ0VnRCJTJCZXN4dExhQTM5c0w0OWJQSFMxeEtYQnlZQ3F6ZWExRGxJOHN6MmtYNWpLSE9BZzhGd2Z6c01RWVpyZVgxNEprdnl1SDlGd3NYblNUUHZYeWxzdnUzV3dQcUZTS3pLJTJGS0pKJTJCY1NVTk9KbGRWZGp5QVoyakJZdFhPRGdMTjh5JTJGYVpneVRjNTVwUk1ZWVpHT2xRSlZaWDdZdGVneTloSGZJb01vOVVKUmVmanFaQzg2RjJmREJFS0xJWVIzSiUyRjdkJTJCJTJCZzM4S0NhYmxRc1hMM2ZmSDZXaE11JTJGOXNYUyUyQjZpTnVVbXJoczNicGM0WG1BTmUzbjhjSXBNZ2F4aUl1dFpaWEhwYTZ4NXRTdXM0WiUyRmd3JTJGJTJGbVFwRTlJT0xUOCUyRlh6bHQ5QXdvY2d4UDJoV1JQamJQZDkyWlEyZ2M0QTNoeWNjd0J0TzZFVXZPRVZRVG83WFAlMkZmbThJdnNsOGVzQWJ0UU1TeDkzYjBqU2tTSkElMkJMSDNVYm9QNDZYblhvJTJCSTZmNkszOWVFTDdoYUR1ZHhmYnMzVWdLZDZqUno5Q0hkUzlsdHFMbSUyRnR6dFhJb3ZqdmpURXN3OVdWNzM5SktmVUFEQkVKdGdrU3dKN2hQa21GZ1BTNlYzSkJuZmglMkZ2QlFGbjk0MENwSHJHbklUR21GOGVxYUgxUlhYZWolMkIzMDJZOWRqYnVBJTJGM2lmSXlmYkpoc1o3dFYxYlNpbFRQTWZvbHRmV3BnalZ1UGtVZzJJZ2d4bWZkTFp2NU9CJTJGTURLVmM1UEYxZTE5bWZWWk5UNzN1clNKSU5hUXhwYkFHcmJJJTJCRmRSZWdOSzhNbjYlMkZUNXZWOFJnZHF3UHJxYmlUSndkTU0wbHBiMSUyQlppRTVoN0d5OVZmRHB4NDYlMkZYWnYyWkRaUEFnWU81azlOV285a1VGZE5mQkVRSWZ2Mjh0dlBiNFZOUXg0ajNSalhKRGpFdXZUWExsWmc5dG9lbnEyRENwJTJCJTJCRkVNR3RSbUMzTHZKU1FOdWxpR1dwJTJGNWhSVWNFRURHQnBHaFBIRnlNMXFjQWlXdHBzN3g4bHNYbERWWHUzSkl2c05zNjNXTml1dmVGbUFOJTJGeFVaUXZCdkN6SzNONUJzdHg2a2oxajVuWnR5eTBTS3BrV2Q4ck53NXJVN3RmTG91R0RTbGdpMldLR2NNZjhRZW03c1RvN0FlZm1hSE1vSllwQmV5RHVFciUyRlZEdFBEMXFONlhXa2w5eGhHak5mQzkxV2E5dUh4U2hLYSUyQklhcE9KQVhtdENDanNCTEV3VWpjclVXWkRRJTJGU3FMYkptVjdqZUwwdmxya3lRcVRqMnlzNlpCSWdaNlpzTG9pQkVnQXRkbmhlU09xaU5ZbHh3ZXVTT0xzM0UxTEV2TmhhNU1IQjFCb21JNm9mY3clMkZTMHZ6Tm9mcXBNYkdqJTJGWGpZRjhVY3pPTjFPR256Tjc3JTJGRVJyMHZhSW96cmlDOXBqJTJGNmdydlpvTyUyQjB0QmRnWFM1JTJCUWp1TGpQRm5RWk1LM3Q2SkdWc3NzOW5XdXpobmJudXJBWFJzTExhVlZpdUtZUEVHaUlrVmVYeWJ6eVo5Z29vciUyRldiMTA2ZkpZRkpDSGRtRDI4b3NpdGF0anM5NkM5VHg0YzJ3VDdDemo3enJNWjA2T3djeUcwbXZhNmtpWmZpU1h1RGJEVU0lMkJTWm55JTJCcVN0TXdqQk80Tkl4NXZYVWdrQlg5QlVnT3I0USUyRjRoQ2lMc3dicXRQa0RkenpJYWdyTkpxcHdzdnlRNVJ5YnlIZnZ3RnY3SmZpSmZiRHhUa21zRWJPS2NBbUtSaTB4JTJGdXpBRjZ5YTloVGxtUmVwdGhwdEVnZFllWWtQcHFESnp6QndTSFNYajFYMklSTlljM2ZlWDY0N2VFVlhhNDdCYUNmNmtLRHN2UTBqSGxob01nNFVlZ2V0NnNhcFhoa01zWXBHWm9JVjNuVE0wUTJFZFZ0Tnd0JTJGaFVtNUlObm1YanolMkJ0S1F1OWFFUlhDQkRoRWl3ejYlMkI3aVN3ZHBBWVdueThVZ01QVnMlMkJQd2lwblhOOFNEZlZ0NnEwMWFWQWwzMTkzcUtGaTBQTjd0VSUyRkRZMExqYzN3eVFZZVJhcUZKd21xQWZIeHZBNVFpJTJGYlpGa3JqaFl6Z3lIc1hQSTRHZmh2JTJCYnZRaWNIMVJkOWJ1QVJEZHF5UnJscmtoVUxnWGR0ZGolMkZQRUJwUkdBcm81SUUyRDZRT0h3WG02a3NvbWpGajdXRGtDck5uWTB1YXR0dSUyQnpOZmNnVU1wa3EwMm9CdHhwRG44eTFsN2ttQTJyWTAyWUQxOXI4ZjBBdzVVb1JTZHVwRjk5ZnB3N2RMejZ0MWo0WUhVdFFVUjZkJTJGUWszS1BTbTRvdDJmeHolMkYlMkZVSUQzUWJJd2JFMkRjNjVPMyUyQmNkT2VPekZHeXdqcmtwMDdoaFhLYk9LNXdIQmhrUnUwN2tjTHZnYTlzY09oVlU0bzIlMkJITTFKWXlRYmNyaEVxZEElMkZ0MnkwaTNsJTJGMHcyUGM4VGRueXlRZ3FJYnF0bTZ3UVV3dDdxOVE1Z3k2V3F0TlVhZGw5QkpRcnpXdjVObGxacUJKSG53c2d1eXFsMGZrWjh5OVZ4bThrR2Y5RFJsM2U0NCUyQnFEemFoc3VWZlk5Z1B1dnJ3TkFpZVAyekJQcnRQNWpGZ3VUV09iOEs4SHpRSnVGdzZmZFJNY0dWeU1SeWFmc1ZCUGJjZFk0ZEtTJTJCT2ZPaFBkVDljbE51ZW5OejIlMkZRMnElMkZQJTJGZU1wTWp0MDhFN2xjdmhXT2NMRFJQQ2FLS2tPN1Z3bENaY3VJNiUyQjBmQVJyRlo3V2JvbmZTRFVDaklTV3JscllLejRLaENOTDFUSExGM1hCUVp2eFFZMEpoZjFSYnYzbjBnY20zU1lxbnIxVzRWbGZMRXh0U240cWQzc2ZlNGdRRVVvTTlCemslMkIzNjNUb2tidXc3dU5ubXlJU3B0cmI0U2pOM1ZyeWtNanZod0dSUE9YS2FDbjM5NDJSRnVKZkYlMkZ0NTFhdUhzT3J2eCUyRjJSMDZtZ0h4b0tPS0NETTFCeXlzRXNGbnhMblZQZ1N5UDN6MzlqcSUyQmJ5emslMkJrU2tIbERmeWNQQ0w5dzljYnZYR2swUDlLY1lESCUyQnpWQnc2MmY0V1l3THlaemM5alZOZm5HWWZvSXYxQjEzQ0tDSmpibGhBRGt1cTEwcU9zem1NV0VHYiUyRkNKTXR0WVhhUGJVcFRaJTJGOGs0Z25QWm44TkhFTjJrdHlZQW53Q1ZGWHgyNnpYaXNjWU1NbUNpYnlVdlBaUFVsJTJCRXo1Y2Jod3VZaGRnVVNHbWZxV0REMnU2OXZHZDcwMUtBbXBUVUszTmlWNk43dmlBV2RGRG9FbHkyNW1hMDJHNTR0SWk1UjBZb3p0WWM5Unl5bjVrMDdodFdmTTUlMkJuT1hMM1pzVWFiWFQ3R1RPMjY3ckMzMHkyckVueUclMkJ6blJsdTFhQTl6dnFhU3NFd3VHblB2czY1NCUyRkNxdkZielBoUHQ5QjNNRWgyc0VQMVV4JTJCUkVSeU5jUHhMcjI5UGpXMlVseG4lMkJwWDY0YkgzT0FydktyWHppanlDVHd3MVVSb0lTZmNSdnM0UEY4d3RkdUg0RVhwJTJGUTFMUGQyS1h4dEVWJTJCejZyJTJCamtrT3YlMkZUa2xHYzI5N3lzZlNLdjVLcGgwY1ZZTDdCdURoeTlrUnM1YUtMVzBnOWVEQzdjZDZVNlBUV0glMkJQRVN4NnBnRW1zT2lVWjZHWDFVejlGcFZwZDU2YWxKelVNZWZJaW8lMkJ4dk5GYlllYk8lMkJXNkt0QkpTRERjNTNWV1hRbFNsJTJCN2VkMTdiNXVXZ1ZvYndXNjElMkJMbUtzcSUyRk4zeGFzR1VuOW1YYTNNTExXYjlsUDFyJTJGWGFmZDBVeWNLMHJpbDdINTV5QXF2STdCMHNaeHl1ZTJseWlkYnBmTktMMU5XdE9IWHF0OVpVRjVSNXo2Unk1aTBBc3JqWWlYMWI0VzElMkY2VTlZamRSU0I5d3pXaE53YjVwdU1USlFNejh1c0glMkJVME00ZDlDb1RRTk1BdDNkOER4OGVOOXhnbEw2MHhZVGF4NllhN25xVld1bzFqZG1vWG1yUGVMdDZmaXElMkJ1dldjUmdDV2NQclZ4YWgwMm1MJTJGQkpScER1YTc5eW5wWURaTU9iNWl6VkR3SnB5QiUyRjdsZnQxdHVsRUNXaWY3UjFBJTJCOEZMYXNYNlo3YUdWVm1JUHFOdllYcXB4b1haMjFVaDglMkJSSml2NXB5YVlrTnBNR1M4djBuSUtlWnlkZXRYJTJGcXVhRUprJTJCRkt5OHZuWVVjNnhjJTJCRWpQeHlkUU16a3NYSFA3aGNkcnNUemdMWnRhd0g0NVM1OFM5Zkk0NXJVdSUyQmdmQUdkSEN5aXdIb3JyJTJCZU43VFB3SnBYJTJCNUxKaXZFTk9jTHlxSVkwVXNiMXNtVlNtZSUyRnVpaFByZWNrdkxUM2c0JTJCWjMxcCUyQnlsaW9CaHFTdE1YNmpaVjU0c1pKR1VrOUZReTVWc0g1N0g1YWZxWnFPcSUyQkdmWjhNT1VWZTAzNm16SHd3NGFvTWV0a1pZUTVjQ1FOTmR5cVl6M1B4Z29tVWVwNnBmVjF6dUtZNG9ZaSUyRkt2Qld6MlJhR2hVZkd1SjY5VGJTSHpNNXJkOFExZlZaRDBMJTJCSXBwNWlIenU5N29DdEg4U3lxVkttNTdtYWQ1QjZzUDRNNmdmSW1MdnUlMkJMRHpwVUtSc1ViUSUyRiUyQmg5Vm9lY2h4QXprZCUyQktUOTRvMDJzOFQlMkJTbCUyRkF6REVHV3N1WnNlNjZhUzNyVnRrZE9MWWZhZW1SRHhUTW1SdjZneGxCVmVqZGkzaWd0bXBoJTJGek03bDVIaU9XcFVGVEQzQ2hzMlRvczBiWlUlMkJaZGdkekxjTnRwVlo4UE54NVJERGxZbGtMUFh4TiUyQnJ1YlptQ2hHOXglMkZYUm00SkpoaFVkMUtPMWMlMkY1JTJGWUh4WDFlYUY0SE90TVh4UHNGVjJhdENzdFRVOFhlWEJWM0VudWhxZjJRd211QllOaXolMkYlMkJKcUloTzFGRDh2dGpzSXQlMkZyeFk4ZGlwYnhtU1FRZGVYSkFPaUpWN3B2WjJKSkhzVWVYNnFLdHZxelVxQ2pvJTJCYVc3eGFydkduWnhXcnZ4TURmSXoydWlpT1BNQlU2U2J1NkIza2daRGlkaTYyM0pXYkgyUURWVyUyRjM3cTRjcXRsJTJGd0M0eFNGZW9GT01OR2glMkJKNXNhJTJGME5zUGlGJTJCUlo4c0VvYjElMkZmVk1qNTlJWExVNEJSOUVKUmxtQVU3NW5rVko4eFpNM09BU3pwWUpXejQlMkZab1RNVWJ0JTJCdXNwZTklMkIlMkZNT3NQbm9SbmVrYkdKOEptWEJaaFBrWGJsbDhYJTJCMFhWVjF1bjI3cDJxaUxYZWpBUVU0VGtkQnFvNlNCV3QlMkJXdjRtMDVpViUyQiUyRkllJTJGVHZwd3Z3M09penc0RGJMelVpRGZJSTU2M0hsNm1LWHR0OUJxYm81dElDWWZ4dG9zVUxTWjRyUnJSN0JBdU50Zjk1SWN2UlNzMVAyQjZHRm02bHhaYXN6YXQxcWxmTUJhSVdPZTRtd05sZFcwcHY1ODI5ZElYQ1IlMkZmVHBnOU9FRjFOVHVsZDd1STRMc20lMkZYVzhjQ0dJeEdBRFppNUdXeGl4OERDQ25rSFFpUzFCUjNWaDdHalNSOHJmeElZYmZsWGgzMUNLJTJCNnRNZG5YWXE5UzFXdW1KczFMTGdzWGJ0RHRQeTJURkhlU1glMkIwQ3d3ZVpiTyUyQlclMkZpcWVIRHZOVlRFJTJGcVg3YTJHTVJMZ1ZNdGxMNGwyWDVOQU1mQlQydXF2RUdKQUplUng5Nmc2SDk5OGpzM3dadm5VaEZhN0dPQSUyQjlMMXZDNkxTZ1BaQklRTnNDWjFTZGl4SEpGalNzJTJCTkVOeHN0YTZyWDk3R3dLbjZWNyUyQnloeiUyRlQ1ZXYzU3FqRGlnS0RuNWxMSDExNnBxUWxCamglMkZaQjBneEpuM0x0Ym01czc4TEd6JTJCT3lyQldLNWE3cGNEVjdGNSUyQjFMaG5FWHNjOEEza0hrRmZjelRsV0d2eER2JTJGQ1R3TXc4dVI4Z3JMQmJOc1NvYTlGQ09VSiUyQjNuc2FGUWNyeXJzU0tzcFR0SjdLRyUyQjM5d2ElMkY5d0sxcVpHR0VOYkpKeFhIblJMekIlMkZJaHZYYnE5JTJCNkhub2l4Wk0xTzd4eDB1S3RtVVVYWjlqT2hnaTR4N2pHNXZkTGNROXUlMkZhJTJGQ0VHQXFsZGRHdSUyQmUyVkhzOFREc09tNSUyQk1MWmhDQnpJNUN2eSUyQkd3bnlYSzE4RmJlMU83WDFVd0k3NVcyOUp0U0h5Vnh1bmVUeE1rZnRFOTV0bnN3RnlLYSUyRmUwT3BKbXRKM3lpQmpTVmolMkZzNzNFNjhaY29hUzdsJTJGdmhUbE85SzQ0a01IUTNTSU92cEdiTm1wZlR6MFZEZE5WbUZJNHZGVW03UExOUyUyQm1wT1RjYW1BdlVuOFpFajFRWXhlNE5KUG5NVUlSZlVjcU9RM1Q1M1U1VU9jJTJGbVBKVVprRmxaMXh4Q21RZm5vNmljR2J2JTJCJTJGa2ZlZXpSSml3UmJvbjhKRXIxRWkwUWxHblpvVGFMVnIzOUUxbmRIM0xHWnhkaU16ZUl0dXEwN3E3S0FJUHo0T2U0ZTd2eVlPUlg4aFpYSkpOZ3pabmM3NWo3Q2tWT1IlMkJYNFlYTUJzY1ZyWDkwamwwYWFlTFdyd0JZdHZpTWVpa01Cd2tMYnZleTlJUiUyRnFGM1p0TVFyYlJuZXhsUXkwUmNMRDQlMkZUcnh1Um1xJTJGZUlmNXNUeHl5MmZoZzU1bTU0MnI1NHNldzJ1MEFIQ0c4aXkzYTlVbkxTNUs2JTJGWVo5TXo5dW0lMkJ1NDZ1SE0lMkZjR0ppNWd2M0wzT1QxZXNTSTBBakFIaThqaXE0dmhOVWxzYm9nUVdwb1N1b1lBY1R5bzE0Mzh5OWtrVDNzZVlCaEdhckpCb01pUWhDQkJhcm9ubUxDbFN2UTU5VXVRaCUyRmE2ck92UU8wMFRsUFNGc0RTOCUyQlBBYjJwN2pDdG5jMmpTQ1JDNlJXTFduekJSViUyRmRReUxSNXRVNW1uYWFLUVZuSnlqJTJCVXF0OG85UksxWWFpSU5zdCUyRnR0dWk5SERheHNQekdxY0R1TkZmSjA4VyUyRlpjdTlRMzV0VXRMU1ptVDZxem9iSE9Ga051OU9vJTJGdnY5ZXpsd01MYiUyRll1Tk1WZHhnZkFmN0tSU2RZbXVKcCUyQklhQU5SJTJCdzJ1N3RzRSUyQjMlMkJUQ00zNHI2S016RXYxRzRmWllQa1NVOWNmVmZNUiUyRjElMkI5S2F1NUFLb0tIeUVXNVdaSFZ2M1BlU1ZycSUyQiUyRlhYRGElMkJ0ZlZRVXRyRDhmSDhXNjQlMkI4dDhMUDdQVXA3MzhYaHlwTk9yN3BTJTJCNiUyRmpObTJURmVmSkFnZk10ek1GV3dBR1JSbzdMQ1BtSWp6emc0a2lKSGozMCUyRmlDTmNmZHNmR0tXUFR5YjlGVldYMTMwMmM2eVg3djgyTFNxeWFyMEtGN1kyNkpMaG5RT3ZVOVUzRnlmS0Z5SHlFdmU0MUx4OFlmNVNRNzgybWl2V3liZlR0NiUyRmclMkZnU0ZmVGRmcGU1cWZEVU9wdk5VT3l0ellmNE0yQlFpJTJCczJIcWRwJTJCZXR6cEMyV0pjJTJGT3pZeG10eXRUTDJQdiUyQlBxZHpncVhtYWhyY054RVpvU3RVeiUyRkRLb3dQVWZNQlB0ZVNyNVZyeElVOCUyRlpJZUk4NkhhR3ZOa1NRSDZ0bkpMMHI1c0wzMXFXQm9YVm5wRSUyQnZoVjNSZXJHNzRUYWgxbXNnUURIcWxFamh4dDZuVHZlNmxxanJjYUxmaVdrJTJCaUxvYk96YmY2dXV3Zm01TFRZRlZxbzVkMTJHMEVuSlhraEo0eWpwWHFWSW0wZiUyRkdXdm5uOEJzb28lMkZWd3Q3RmRpcG15bzNkeTd3VkdYZU9TQ3hDY25lJTJGcjExa29FOWtNT1ZZJTJCaktUdE5PcDBBakpmbFZXcU5RNURVSG9JWlRnUGZVNkdtelJiOGxvVUhrQnY5MTZsNGYlMkZtNjFXdHFnWTZTeHZUWjMlMkJqYyUyRlUxQXYybDFNSmlaSnpRUW9xWDRBZDJHSU9SUmJDckFNZCUyQlAlMkJuQllKNHRZVWdQWlN4TXh4UGI2UU96b0NUbVdjbTBiSDhONHlFN0YlMkIlMkJkQ1NtWWJEZzFnYnFCV1hCWFJwWDd0MGdNeHdnU2ZlaWFLbjRmcWZhOFBXVTdPeDlXNCUyQldwSzdWeSUyQmx2bXc0RGV6VVhONHY2MkhsJTJCbkVIcjRyUk04TXFHNmJSQm40ODVldEdMbERlNWhmTnhsandjdmJBbUdNbEVnSkdyMXRlWXpGQSUyRng1dU1ZJTJCY3Q5Q0N2Znl3emRzdGhSb0ppSm9aSzQ1Tkh4N1FhczdieE54VW54d2VLR0pQU21xY200ZUp1MGxsbHcyTnoxZFNtOFJleTNGbGpsZUtuN0poYlJRdjE4NktHWnJwamF2dTZZdiUyQlZKNDdhOTA3TkclMkZJbThaOWxHcmFDTVRneU9Cem10WUluejB4Q2w1JTJGM016NnE4T0MlMkJFRkZmSDExRTJqN2d2SCUyRnVPZGdCQml6UFAwTXBuU3g5SDJiQVJMWWV1bXJXJTJGODJBUVdyRlhYNUpDN3FRZWtVVEtsb1l3JTJCWGhURGhKMyUyQjZJTmVlZjRFU1JQTEJCSk51RWwlMkY0c0NWSGxsVUp1U0tkbCUyQm8lMkY4NGNXOEo2bnlxM1N3bmglMkJmMVdQc1BtTkZHdmpxbHh0UHp5U2VYR1RnNDllTnZGSlpJS2pYRW05JTJCMzBQckFRZnhwOEM0U1VVM2tvcE5EYmdJVElpYnd0ZU9jVlBDTXY4OE1Pc01LeE5oWTlIT28zc0Q2RVNGcDh4TG1TN2lmb3RjamhaN3ZrcnVXSVlXajNlblc1b004N3M4S2Q3MFJUNkwwa0lhZk1DeHdaR3pnYTd1NUslMkJ1MWtXWFBjYUp5SzZOY2tBaFRvdjRydjFTcm80JTJGUDc1QktKMENMVk9xeWpUSWtDJTJGbVBRT1VuemloVFExVWF2RXBMSUExRGV0WEVFYmZIaVNsUjdLSk90ajhNWmlTS3o1eCUyRjc0VU9HQ0xKZ0xKNjRVS2M1M3J3RlZjcjEwNFRJdnhQTnIydjZraTMwY0FUdEprUDdBc04lMkI2Mmh3dzRsSHRQakIxaSUyRldiN0lGOHFFdkNIVkwzRFZFY2clMkZINUxKQkl5TlF0V2Q5bEV1V3lnJTJGSnFJY082bjNzUjRnWXVldnVHJTJGZ243cGN2a2syRE5YTWZwcm4xTXlUM2prJTJCY3dNdUZGenRrQlp4RTluVXQ4V1Y1dElER0E3QTVETEtoaE5mWFdWY3RZZFUlMkJ4S01LME9JJTJCZEZHNjZ3QjdtUzFXR09LYnlCaGJpeVIlMkJtYiUyQk5kdnFnbUdPRW03RDN1bFJRTER2TW1ZRFc3QzhlekY0aHRsQmZxaFZGbERiOTZpN3ZBOEVWY29DQ2ZjTU1YQXdXeDNsSVklMkZwWVdJM0tSQVh2OSUyRmhoZ29pWmZvYmlKSlIzcjcyM2FBWW96bEVoUlBsRzhCbEJvU0FUaXVvWDBiJTJCQ3RjR1owTTZBRGdtV1pCdnZsbm9sc1ZJdnIyOWVobzFiZnhzUTdqS1RvR1F6SFFXZGRlbVJQNHkxZlRlVDZkYmo4UERmOE5tRXRQTTc4ZEM5MVUxY3Vzem9KeElBanJiUTBKb2ZuZHc3OXFPaTRsYlpFRTF1NjdaNzUyUGRmWUc2WTRMU2Y3RjhiZHJxWlZZQ3RxTTFpZHhucXlDTWElMkZFb25meWtRUEMlMkI0Sml6dmZyWGR0JTJCMjJLZyUyQjlhRFAzUTZ1UmpFV0cwWW1hMDlDNmZRYkN3ZWppQUxyVjdwcyUyRiUyRlowZ3ZHczM5ZTlmMFJTeTQ4ZWpYcSUyRiUyQlJXQ3V3RW1MWmxid1NTaEJ5cFlqcmhKazROOVIwTjRyRnljdk4wR1J6dXhWSEpyS2daUXg2WTF3SHNtT1BIMm0xWUhPN1Y5eCUyRnpLa2Vub1NOJTJGQXNuSzdSUiUyQnJQQTBVa1dVMWFDSFVkclhEbTE4czk0bnYlMkZPdjhER1RCQnNrek1HRVdjNFNtWHMwaFJtY2UyMlN3cG44NmQzMXdDSFl2JTJGMWFDVlklMkJPcUJldFh1OFRpTmNkbkt3ZVNVTWU3WnNXelElMkJ6c0E5cjF2bWZ6WUNHT3Awdnk3TUUzSzBOdjVxUFFkaFFHQ0M1bzdhc2ZQWkxiNzFtZk9ubmpVRURyTm5hNG54YkJ6Z1FvQlhmRyUyRnIxTiUyRlhNRXh3WjlPdVhGbmt6YiUyQiUyQkFHRkZ2UWZzd3llV3JUWkhoRUltaTZ4QUxiVGFuQ1pzYmpVQm02MzBKOHJuTE1qdzhZdnR0UHZhRE12TWxMTjdVNWtjczVsb0VldEk1bTF1amNYbWlXOU82ZmdKSXI5WG5mUWZaWWolMkZOcE1jWHBNU1ZSMTJDQm5Da0djcUNtM0pDMVROZmJma1M1bTVvV3JHaDR4ZElMWDhCaVVmJTJGbk9mNCUyRlhqJTJGR1p4M0hMSU1Jd1FhbkhHOGxzZUNab0ZBZUxzUGwwRWN5VW54dWdYNzFIMzBNcFIlMkJJQWtRM1pJTUxFSTRualJFa2ElMkI3dCUyRlQ2THZJREpETzJwQU9uRDF1eno2Ukp2JTJGY0xIU1RjS3klMkZBaE91RVFlYXZPQTQ5TWEyeCUyQktta3ZFZ1dYa0lxVnVJRlVGVWo5SkNzTTZOZWRBMmJVb211R2xVbUloQzd4ZldZYnZyRm12cDVCdDlFY0RXZmMzbFRoazB4NCUyRlE1JTJCMHJlQiUyQk1tUHVRc1VMTEZPaEJrZ0tacVRzdGZWbVhEOUlxRFU1ZWdhNmhPWmV0c2FEZnhNTWR3WHglMkYxQXNhQVdJeU5MSGRqUyUyRmNvUFZSd0NlUHowM0llYWtZN2pnc3pLellmanFwTUlaUnRGMHh0SmJXYkJaeDlaRUhtUnJEemZNaUl6MnBpU0RMd3JPMjgyNEJDOTg0Q0ZWUmtUTXh3VGVMMzVrR2dZJTJCaWFmdWEzNWNTOFdFTHgyY3huUTVWNSUyQldGNlFycldrSWElMkZiRmc4NmowY3g0S0dxbTV5TnMwaXVKQm9PTmhnUU84RDQlMkJOUUxKbzd1JTJCa0p4Q0xuSFpJV25qY2pJd1ViUHVpd0RlNyUyRmFNRnBYbkNnV1pEcTJOQThON2pQUXBZSklkUSUyQmhRSXRhUEQlMkJGdGpCdkRPTzN6ZmJCdyUyQnlLNyUyQmlBTWg3SEhaOEZVbkdEZmIyZVd3QUJQc1pFNTMzNHRiZ2ZGMFVJbFd0M0NXbHZvUUV0NkdYbjVQdyUyQkZsb1pSZiUyQmloSFhmSG5vc20lMkZOZ0ltRE5XZk9qU2IyWWUwMlF1TlNhaGclMkJNOThiRmdicHAwTkJ1ajVPSkRLQ3VRNTlNTDRZTVB5ZUFzcnJnODhyb0c2SyUyQmI1THdKemNMMTRHWXZwUnNYUjFQbEljNDR2dmVJUjZocXAyeW9yMDhBRExpWmJ2dWpkUWptUGRGbUElMkJaQlExOGVZcVByalgwOFplYSUyQmM5NnFRdkZrWDlRZ29qTG1oOG1yVFNDSzNRS2ZKM1JYN0QyNFNLd0lZczdTYndmNHRyVUFWZWlXMThSZXE1d1JER3Vtc2JYcDU4VjFjYUhZOGxtNyUyRm00MzZXeHklMkZFRmYlMkI5ZyUyQkpVMEpoNTQlMkZiMGV2eGRsZ1B5ZFA4cXBNdDdvJTJGSzIxa09uVmtPdWl3M1UyQWx3QkZoRUpmMjhzMkMxN2xGVGswOEo5WTJuUVlLQlZUMkw2ZXhIWDBESTFBQ1RMWVoyVFl6dUs0TVZoSW9XNVFnS2FwMWlUU2EzYjI3R2wlMkY4eDFlT3l6SDE2QkxncFhQR25Ra1ZPcHNxdiUyQkNDbExVUzk4SDQ1OSUyQjUlMkYzWFlKM2NlNXpNJTJCZEowMjYwU2RLRlRIJTJGYUZZdHIzU01MdjI4ck4lMkZveWZOMzJCM2lPVDg3a1IyJTJGZGpNc3N2YnZlOW11ZkRzNDFzcjg4cldOaHhIQnl1ZnZHcUFEOEZ2RUhPaHV6cjBlRzFlJTJCY0xONmVzQjMyUmxsM0lmazFJZURwU2tob043NHFqNEQ5JTJGREZPZCUyRmZPWml6RGVNUGhoV001UUxiQnJzQmJnQXAwU0RxRSUyQmQlMkJjNUhCcEZoMTF2Y0JMVWpUckpIcm00WGclMkI5THlBVUhnMVhWUVFpS3NuMTJuOFoyV05LcSUyRmJLUFM3dzhXWTZEUFBiUEdwQzZuJTJGNTZpdUpqM3Bmakt2TURDZ3h1d2FkWGJJTU5mb0hXR3hxZVZmdXZuaHd3OVAwTWp5WDNmNUNPNEt0QzdmU0hqTTJJakNLeEFFMGZQZnZ4RSUyQmdkJTJCM084azJtVzNzcHo5eURHMDAzQnhycmJUQ3ZLQXhTd0d0JTJGcFUlMkZzMTFndVdrVEI4S1hsaSUyQlJWc3kxcjRFc3BGM2NwUyUyRjJTJTJGSkNWSVYwd2xQcXVWeGFpeVRwZm1BUzBSbTZQSFJCYWhxSnlVY3ZueHdjTnMxQTlNdlNmb2NNeXNIZzNmYlM3RUg1cnMlMkJ5cFAxMDlMQ1RjWGE3ZyUyQiUyRjB4MzM1VjdzQmRFalpYJTJCT2RvTSUyQk1tdUxXRDklMkZUQWtVcVYyJTJGRE1uak15TkN2T1pvMEp2U21LYXJxdExnS09PeUlsaHNzdyUyQjdvWG5BRGxxUU9XbVFROHBwbTZmVmZJenM5M2l2SDh0QUphTE13aDNCWU9NWFQlMkJvSHRablgxNHFvSGhINVJkazF1NTl4NXVkaEpEVUpKYVdzMHNiR3pHaCUyQmlxTXo1T1YlMkY3cGIlMkJjTU9mOTIyZEQ5JTJCd05YeiUyQmJDc2IlMkZmYnI1VGI4ZkxvZk1qblN0MEclMkZTZGJEN3pwdkh1WDlDWSUyQm9rbWxkeUFqdjVkVXZmcnI3YjF6JTJCcGcyTk5DT01kQkRTR0J5ZHBnVjY3R3VMcm5qZVowRHBlaXdiWGhIM1VQaHdlampLNEx3aE81VE0lMkJqdHJnaG9tTFVCT0s3Z3MzVngxVjMwbldQckM0cGNRMUpDVVA3T0prRFRqJTJGT3BtaVdVRGdIYXFSOVclMkZzd0FIMHcwaXRhUzZEQkd1MXZqWVhiV2hDJTJCaXgzMWYyQWduTVhRVWwlMkY2ckFESU5SWjdjWDdBVTNPaExKQ1RmSTdBM0wlMkJFYlZ6Y2d5TUluRHRXU255QXZrJTJCU1ZDckNlZW9zRmQ0TjN4aXdjOGU1QnQwJTJCUiUyRiUyRjdPSDlVJTJGZzhOJTJGeGFWMnBQQnExUU1wNlVYeWVLSnlIZE1NVExuUlZBaE9HUDVmQkVwQ2tPSHBPWE5wWUZ4M2x4cHhTTkdOT3ZGTHolMkZHWWNQRyUyQm5ZQTAlMkI2NkxHVzNUQkdYczZmVDVZWHh0TWZHQyUyRktjQkEwSGY4bUZybzE2VURnNzBIalRJcGNJbHBHZjJOV1FPWEF2bm5MdjdTWE9EQ1BQYTdaNHBmeGt3bSUyRiUyRjViYkwlMkYlMkZKa1o0WE9tRlI4VmpMUG9ZV2x0SHp4dWo0SXd3aTdaJTJCTEcyUlM2MU9hMnYwaVpkc3N0OTYlMkZCM2h4dUhvYm9MUWFsMzBjWHNuMzN4MzJiVWtiRkY3NmpkTlhYcjAwVjVyWlVVaW9BVlQxS1A3cnpMa2NjSGlVS3ZISXE4a0RENFNodmh1ZCUyRmszdU80Q2t3MThhbnVUJTJCOHhIUXN3WHZWZ3JCemlaaEdDYnF0bXdKMzhxbnVFSFVoeEtKNlUzbEVPdFYlMkJMakV6a2w2c0VnbzM4VFJjNUlqMFdzZjdxVklMZiUyRnZqY3JxSXJhdiUyRkMxSzhlY1RwRVRzJTJGQ2hJNnhiNnpBNG5nd2Y1dkZvS0JUYWk2NEFTZWxuNTg0dFBxM2dYZ1BBOExzRXBiUDNaRyUyRjBib0d1JTJCVjhTZUNwaEN0eUhEVEw2OFRZVkNhU0NHSkl1WmpQR3U0SFBSSlJ2YkhEQXVHRDBXWnVwalc3eGpUcDdMNGVKJTJGSzhWaVlBZkVuazg2RVBsSG02NnJKUzdCdmJybUxsdE1iUTh0RFlsa0w3VWZDOTVlWkRwMGklMkJ5N29iV0phdDUlMkJ0UW1MWmJTTmdMd0ptNFI2WnhsQmRVSHRHa1dXT2ZsRG9VJTJGcTV1VTRzWmcxMTdodDhDOVB6NU41OEpuZlA1dVFONEZUUnpTT1Q1ZnpXdUladmU2cXBsblJ4ZTdudVNBOTIzTUoyZUtXJTJCVXlFJTJCM2trbFpTRzNkRHV1MXZKeXYwdVpGcnZnUmlpWFd1c3FPbm5ScSUyQkc0Tjdyc04yc0o0bURpV3VRbVNtayUyRnJxb2xxcmtwSVdPMWlXdktCZG1NMXJ4OHlHeGRpc09YbCUyRjQ0JTJCZGZyU0JmOTdGcjdCUnNYRm1yT3NQSzY1MnclMkZPbXl3elFubWJIMiUyRlA4ZHFsd0s3ZjBrcnNSVlBDQ0w3VmFtcTJISDNBdm8yTGhsMzZtNjVvMTMlMkJnVDAlMkJkREtSJTJCVkRxS29RY3FabHdZNkJlN2xuTDV0Y0NWbjZITDJZWUNUdSUyRmY3WWRJSHljeHZjSnB0eGo4QzdvaWtnekpMV0cwUDZPT2V6V21pZW5DaDliSSUyRnRiUnhBeGpKeEN6ayUyQkgwZlFVNEg5JTJGdXZIckQyTlYlMkZhRmZtUyUyRiUyQnM4Q2R6S3NPZFdIVnV4WXdUTG1PS0FVbG0lMkJkZ2J2WUliOGpzN2t1dFVDRUxFRnlZeFpjWEFtblElMkIlMkZaSGlGcFdzNVgyZVVSbWolMkIlMkJTd2ZMYnR3V2FRMmpnUEljTWhONVpNTnRIVlNJTWJYZE9IU0VmcHQwRHVKJTJCdE1lblFQd1JzZjhZY216TXBtZTVGNE5iUnRUcG9QVTBncEVMUXklMkY1c3YzYjRaTjBaejUyY3RNTktBU2RtZ1FHbGh4QWtzMHFEMDk5VFB2MXR6SmhCZXlZUFNpTHV0OGhQVXMzVXBoNGElMkIlMkY1M2QlMkIzNXglMkJwNDl6RU8xZmZaTEpRaDhWYXVqOFpzS0Q0SjR4aHJZSVpoSlpvOGI4RjRSYnhiOTVQZjh0NnYybno5NW9MRHNLZUtTa3NxM3NMTkJmSzRhWTNLSDcyYTNMVG9pNG0lMkY0bWc4MnlwVEsyMWI5N1BQY1lmaDhOcUlnTTJSVEp5UnNJblhoVERHY1NobWUwbE1xcVFiOHUxTE1YMjFxdGZCeiUyQlFxZXJKZlFDVHdzanlkZkpodXlzUnI3NGtUdEJSckNrN3gwalg1a1g5ckViZUN3MmZIJTJGSHZpSGs3MXQ5NllDelpaY1dZWGExRFQzOGVPMmhuY0ZLUEdnQThPUXRoRVk0VzkzeEZqbE4lMkIxZmZSTklreURGSERUUERHWXlBT3NQRzc2bzc1UHYxY1gwa3UyS2RPUkZZelNZQjJjbWdSaWQyY0RDMGs3YnBla1dYRXdRNk9QVmc5MzRGYWlWQ2UwRlNQJTJGekpGeTN2aW9COEkyT2hKVkdDeUhrMFNEY1A0d0NoUEVydlRlWFZFd1U1TERsUGRCSEtGejU0aHBDZ3VtRndmNEdDOXRJZTJXWFdicVhpNDY3Zkt4RExPcERTYTJRSldFOE1WRzZKbUxaNWQ0Q1pvTEJSSVAyMklCOUVBZVNKRnpoQ2YyM0ZWbENxdk12M2xHZG1oZlJaOWxKa2dXWklQdm1MRzQzcm9aSVQySU01N2JkZ0VaNjl6T0FPJTJGTG9uZnRUZ21IQWhnTW52TFJYJTJCOWdIeUphTEYlMkZ4V3JnN01QQiUyQkNSU1JCOGIlMkJOeWtUNzFUSHFjckFiJTJGZWJIcFp2R2MyV3p6M3ZVdFF4V1QlMkZxS2w5VEFmeUpnb0pDb2xYa2N1c05iVVpVY0xYSUJ6WTVTSk5BZEgzUEVyV09sZnRjYjJqVjFRUWtCaUpMMzNNT0dHU0E0eDZFUDNHbXhJWGlqakdDSFExRkY0R2VtMjQ4a0JVRG9Lc0t5OEJKUGdSM0NmdzNDREhsaHRtb0pnRlRaYlBOb2lscWJnTVdrVVhJWXBKRmRWV1JuRXBDTUtOd2dmUUFYdUZYVkFsU1UwcG85akUwajNReVpZSGw2Z3lZeVA5SHNGbUFuWlM4V2V5SU1zbzJUaTk0R1ZLajNLN0pPc1pSbUljcVAwVUc2VFl4SmdRSmNqdEdvVDkzbEFKdFZ1N1VZZm5zbDQwTXo5Szd3OUVKckE5b0JxbXBLbVFpNDR3SGE1bTdzUE5yQVNhWFdZMVh6RHJNelllTm1WRTFwQ3Y4OFpCTGJlZDV5Q0IwVEdqaE4xN0pjJTJGUmVUNUxSRGlSSXBGT282JTJCU3MlMkZ2SVB2Q0xZRnJ0amxXbnclMkZLNnc4V3AzNWkyWmlVYW8xdGdvTjFJOG9ubmFlQ0R0JTJGbyUyQllVdSUyQkpVTjhqaERXWGhEeFVIZWZvcWVJMlpmeWNSR3lHJTJCc2pZRjV0b0lWQzglMkIwZnV0QVlWb1V4U1hGWkMyY0pyVDhTSlJPSHAlMkZtTjZnVTBOQnBLJTJGMkp5UU1kaE5JU0V6JTJCJTJGR3B4bE1SJTJCSTBWbnJVZVBrd2JPeVFmMyUyQkVCMGVrWkNGTTlFakIyamxYYndya2pGclZ0UTV0MTVXMkszYnEyT3FFbTVTMmhORmJWUHplS0h3NG5nMjI2WWR2MUNMZWhnNUs1cXJoVXJyRnAwRk81azBlRFVYV1pKMTJpTDJQbEdQWTJUSDUzVlM0V2Fpbm9yU0pzMldIVGZGVzZmemVPdndNVUprTmN1ZlJYcEFqMnVwTUk0cUYxJTJGdHNodE02WDMwaHhHajJqZlBIemZOV1gzMXZYZWlpOG52RDIwblVxaENIZE9XSFRWSW5nelQlMkJidlhqeUpDUVVuQzQwaUZiY0FabEZFdEd1VWtNcFU1dUNPNXBscVVjSE55dlNTUlN5cFBrdHZmcm1uQUYlMkZHOGhISlFsZHlrWDlpZHVJVkdYR0NtU1ZudzRPQXQ0aWNuNEZJc0o3blpyOTF4ZDF3OFVSWnclMkZ6YWdFMlgwNlp1cm8lMkZ6OHZYb3BvMGJnVW94RVZ1UW9ETnJQNmVKbjBTQkZNOXhFd3lFeEZZYiUyQkFMdGZzbWRxN2hCMjNvMCUyQnIlMkJ6TlZOSVp3cFlUeEpzckF2eGh5UHZGYSUyRmxLMkZHbHVoVDJiU0MydWRJWHA3TFdZaCUyQnl0WVJKVVlpVDBNaTA5SVZHNWVGc2NHMkdNdkJMNDZJJTJCZ2hsTUl4TmNRJTJGOSUyQndMdzdKJTJGU2J2d2xsJTJGNVBQVE5KTVF5dHduYTdndHdXTVI2UnQxek9zTjhhR3N2eCUyRmJwUW05ZDlOMHNRSTlIJTJCY3BFbmklMkY1Y21hUkwlMkYlMkY1aWtXZjYza3pSJTJGdkliNVBLVHElMkY5azBUWHB6MiUyRiUyQllwb2xrZVhDNlZBSTBCNW1sZzRpeFIzdlJjcG13bkZ4V2ZIMXVDVHlOOFBxYTF0YzhRY1IzOXZNWHN1NkFncno4bnRwZjFEck55U2I3bERmdG9lSkRYcnpLVSUyRmtWcTRqNWlFNXgyalR6V2V1cmtBQ0VENHltcDViY3Qxb2ZLU0J3TWFBSW45JTJGYWpRMk5VWHlpMnl3QW1TN1NHeXRTSk9NdDNwNXN0TVZwaHJkc0Yzdno3S01WUnMydTVGbyUyQjN4OWV0dVZhc3p1bWxpdlpFVHVMZ2RsaW1ZM2J0TWtkblBMJTJCSGhiJTJGaVJ1dnY2TWV2aWpzQkNFWWJIVExwVkV2M0NpJTJGTERkcHoxWEVFcnA5T0hETUVqcnI4UGxiJTJGUGZ6WE1KdXp6ZGZ5dzAlMkYwcCUyQiUyRlM3cmljd1BWY3dNUGs2N2V6NiUyQkJHM0JjZ2pINWVWVXVhUVJ5YkZBR2RVY1BYR0JFYTlUVmhUOGMlMkJwVHlJQ1hUWklEY3JQcFc4aVA0WG15c1BJcHBESnB0NXFwcmVVMW5Xc21kSWh6Vm0lMkI5elAzNTVuOXQlMkZXZjNEdDVkQ1BsNFIxa1FtWnlUeEt4U2lJVnJXNGpWR1RTTGQ3N0I5UDR2RW9zVHlDWktaTSUyRkJzYTJ3cmVVUUtOSlh0VW1ZV3M5NEw4VFhvTm1YaDU3dnk2a1E3M1pxZ1lEZmdTdTBCd0xWQW10SjFsWVlSYWElMkZxUVdiU3JGRmt2dTZJMFclMkJ2U2dFU2JqQnZNWk5Rc2E2Y0FlSlNFclBKbmFUTGc4Q3prMDF6RUJIZHN3dEhTQ2hVajE3SFI1UVFoUHA0YmZIVEhkQlNGNnRHR1JoMUliRGNXdnhYbG5wWk94YnVMTVg3NGNiRWRRQU9mbHBvRmRPQm03Y2J5c1FseUpzS3cxN0w2VkIlMkZ2eXA3cDhSWkpTdlVOR1N2NDJRZUQlMkJEcW5MSk5DRkZZcU5YR1lZMSUyQkJ2WVd2bHo3Q0hja2dCT3FBRHhZJTJCTDRKN25BTVJrVE41bTRCa2RYVURGU0NJSUFBR3FCUDM1RWhOJTJCSUFkNk5jV1c4WHhtOGNDdmMxOVFteUJXMyUyRnREYiUyRjZCdFpnNWJCcHJIZjhPaTlmYTBUZVBXSVhUWlkxOUZrU28lMkZZSHRrYkU0WEtGWmxSSVB1MEZLJTJGdVBMUzlDWVRRNDdkdmVDRHpRS3dSQ09PVmQ5dVI5YmVuSHk4bXpBTXhPRDZFVzl2cklDJTJCUlBnY2FMRDdRY3hPeEl1Q2xwU1JxN3JUJTJGNzFNM1Z1bzVuNjRRbWF3JTJCa3Q1Rk10VzJheiUyRiUyQnkzazk3STFSNndTbEhCSkJlUFJjOEYwajN0TnhPd090dkVJd3VjQTBnTlc5UjhsdGpkN3FVbE9TaCUyRmFLVm96b3FneTBOZmQ0UlpCOXNzak9QWjFCQmE5UTRMNzBoaGFwUklEVVJIYiUyRldiUkZOakNVdUNvS1pFajU2dEptUFNKR3RQaTFRN2gzVE1PNzhYaXBTVk5lREU0YVVwckZkN0xYM0RmbEkwRiUyQjg1S0xhcU5WdUNVTWxoeEh1c2RXNnNkV0ZPVlR4aXZiQmU1dSUyRkE2aEdpUmglMkJvdEVxUGYwM0p3bGpPbGpyMnRTNFE0QTJEUk1WUWp6UkVtdVZSdjlmVmVrUGxjMCUyRk0xdEVjUmZNY0dHUFVRbEFMOTFxZmIzJTJCUzFxRTJNdGdFWVZGSlNYWWVIVzF0dU8zRkFOSyUyQkplVkI0dDhvWXhpNFNOYjlzanZpVW1XVyUyQkhlZTZhUjdQcExMTE84eGEwSWZCdklOdXFYcDBLTDVuZkRKWmpoMEdLcXJiNiUyQmFWT2pXNk1QMHlxR0lVZjN1Z0Q3VUQzYk9TS1BucnFQZkdheGZ2dHg2NlkwOWljY2gyUEEyZnB2UEJKNFV4MnR3WW5TMXRTJTJCWmI0SmxGNU1EdXJtaGR2enZzOTdkc0c2NUE1TkxUZUw5QVFhRXNQTW9JOFFxOGNZWERSQjhHVThXTloxcDFyT0xuM2JZT1FXWjVNdjZ1NjdWY0pTJTJGd0NuSGElMkJCSkV5YmpDNjVRR3pWeGRGa2hUaXNxM0ozMDklMkJTVGhad0ZpNDE0aHpCZ3ViVE82RG9Id2JLbUZEcG5DY09qSXl2bEJOUkRwQ0hHWlduZExmeiUyQlhuNTclMkYwZjVhYno5WHh4MnVFcHJTdXNQRmdLbXZ6JTJGQUxZbWJnQ3k2c3VLWHNoUU1hOXlPWDdobE5nZGJGVSUyQnlBdTUxdDl3T1V2RlY4UXdPblpycUd5diUyRnRUWWFkOEJJYnlMRm90QzlscjRIYjQ3YnNlMHJob1dNc3d1M1ExYlh6YVhrbDFITjJ2NDFrOUNjUXRxdDglMkJFa2NQJTJCbjRBZlc3YXcwUEdGak9GM1NmWDBYMVRMQ09NbiUyRkZUY2gwenZlUTEzRlV4MU05b2JmNTJMOTRTTkIlMkY2TWZiZ3NYY3pjZlQ2eUxjSTlsbHpXMTJ2JTJGN3I0WXVNWWxWR2JpWDlGUXVlVjI1RDhLWndGMW5xS3VHQkdLaDVVdE52WXJWb09sN1ZOSHpMbTRKdlMzM1ZDWWFZa1ElMkZscW5nazBaYnBEJTJCJTJCQ1Nza0JRcHppYkdHblNqVVVyJTJCa0tFTXhQJTJGcllYc3k4cEJIY2htTmlzWjBNZEN6Nk1YRTJZR2l2b0laZmg0Nks2bGZVOFlZaFpub0w4RW5LU3poJTJGTTE5N0U0UjVaQ1A4SU9qaW1qNzBsRjJCQ05KRDB6Nmt2ZVpGS25ZTkxpV3RJVG1FZ0VHYW1Ga2klMkZRZ2p0NUpCSXhxZWtaVXIzWHBtRFZsWnhYanZLT0QxaWpld3lpWGdnWU4wbUFpQ25BVzU0cm5VMkZ0aE5OSkFmaGtFSXF6SnNjbEtrbzBOJTJCVXpwVFBrQkY1aDBMMmE1Q3M2REpxOGM3MGdXU25VdnFPUjI0R2lBMWtlMEI0QnQ4Z25OTEIlMkJxNURnaERUQlNBWUxIZXU3cXpDMmxuZnphcGVZT3RCcDBjZjBYWnUlMkJRNGRrblJOM2RSZHpURkZJMG5vSjF6NXVjc0xxUTNIJTJCeVVKVlZrYUV2bmFqSFNsYklVZkpVRUZWYzlDTFJwTUhRcGc1dWVhYXZjdTNHJTJGMGVoQ1cxYmVVSGg1JTJGSFlEa09ZT2E1d0UxYzc5OGVtM05jT2hxbSUyQjRFVmpSQ1hZJTJGVlJOVHV2eDFLY05sc2QwV0tHY1dRUXdMenlheHFrV0JFVElzJTJGN0txUkswZWk4amVid1BoRFRqN3VzM2JKUUtXcHVib1U0dFlaalolMkZSR0VpUnB2N2k3VGk5JTJCTE5PeHBsVDF2SyUyQkNxeXRnQ21Ga05URDhTaEp1dzg5R045NmZLU1MzNDl0eVJ1Y0FPOXZORiUyRlRKSjVkbXBIcnpLUDQ4SkF3WTlSWSUyQjgyb3pmWVNzRGFhc2dQeEVram0lMkZZN3NXTnFlUk4xbnFsd250RUdWY0dvNDQ5aWV0QWRkNHRaNTBJWCUyRmV3amgzTjNLZER6JTJCc2VwUExObSUyQnpCaDdPdFp1SU9rOTZKSHpzUEdRUkhycGg4NnlyViUyRlBid3hjaCUyQnQ0MiUyQjhTdllyZTglMkY0ZUl0YWtqejBubjlXRDVuMHNuaVZMVlhoV0twekV2OGZKVzNXNDJOYWo0UFBoVTd6WEU0djElMkJmcGhYVGlvWm1Yd3ZlOUh2anVqRzZDSzBXQmh2aiUyQjYlMkJHVzh3c3NidUcyWHRBcmZzZTlRQlQlMkJNTWs3SDVGNHk3aktna1J5emlndnZmTWVVYSUyQnJQTlUzSjJDY0M5YjZ1RFhCTURmJTJGRDhxd2Y4c2RIYk9BMGwzaVgwZ0JDd2l6VXhGUXNPajd3Tk1DekpQODh5JTJGdSUyRmVoYkxUMjFYMXU3bHZTbE02WHNzdldxMkFLdFdwaFBoRHFoejdJSlhYaE40Njh1MjlGWVZTRXBaJTJGWGp2QnJleDVMWG9OdzElMkZQUjRPQzhpSUYxTXBpZjA0NWN0TGREZ1MlMkY3d0IlMkZPcHpOald6a1Jod0hQQVk4QmVIOTUxakJvcm9QTE00V2ZUenhhTzlxNXVtdk9MbHdUc1g3TGt6MER3SUJNTDAlMkJmMktvZyUyQnZscW5YVXlETXBuQTRNaHE3VTJhUDk1bzR3OXpubkNXU1hmMDlHV3YzdVJ5SDNDQWhTY3BHeDN1bE9WVHRQb1pMUDZpJTJCU1klMkZXNkV3Vk5CSEN0eHJzU3VVZGdlRmFPTWhmQzF5ZmNnV1NRRzdNelhQSEp5MnAzeTlKVCUyRmNlSFI1SUxwN2QlMkZQaHQxc0ZPUlN1bFV2SHBicUF6enB4WiUyRjFRamdkUFBEd0xHU1REUEpScUlCTThyeHI4M1ZmUml6c1lqZ1NSSThtdm9VSmVaVCUyRnRhSXF0aFQ2QTEyWHp2QllsRWFhemh4bnQxMk4lMkJlT0xxaEhhYXNqMTRqMW5xVnZtU01DaW5UcHdpQXM5c2xnZlFCYWlVa0MzQkRVUWRlSXgzb0xkRGF3R1RiQyUyQlVrdnVyY0ZGR2dBVUkxZ2hKekJrJTJGWENLSWlLM09xUjJTUXl2UDRVRnBrQUFHQzdTTE5WWjhZNUZ2cXM3cGNHZzVlejM0UzM5VkF1dXBlcDklMkZPQjVUd1M3TCUyQmUlMkJpdFglMkJlZzFOR2FVbnB0Y2MzOHI1U0ZlR0NGRjd5Szl2bDhpZHBWVDR3QzhMdU5FU2ZBbW9SQVEyZGhJWWh4d3h0VnVYN1B4QTE4ZTdFYnZhSDNnbm45V3IzUmgxTmV6V2ElMkJTMlhQQ29zJTJCJTJCTG54NyUyRmNYdU5wZ2NVUmozcXJEQ0doTFkyNzI4RGFhUlB1WVBsRGFQWnNldW03NW5zJTJGZDY2Zzh6SGJ1M0l2ZlNwUTA2U0VDcFlvUGclMkZkRm1qZlR3aW9QOVVzMCUyQnR3UWhNbWNXa0xMdUJDdmR4QWhNM0VOOG5mYkNaeEUlMkJhNk11WDVZNlFnVjdtJTJGenlFM3ZqWndZeE5NR3NScFN2bUtSSFV4UzR2Q2ZOaCUyRkUlMkZXMFUyNHVVaVFuMHUyWDhNVVcwUkNORHBqdzBNdjRsYXU3RlJaWDNFdVdDaXFUYzFCSCUyQmdrWFRGUWR2MHN2Y29CYzhYNmpDam1CdHU1M2VhWTQ4Yk9tWVZZTXZodGNsRzlWaHRRV2NwNnRUSjMzamkyUEpJMExaSGNFdFBMN3hvRkNlejE1ekVTdzdCcndQdm1SN3FoRGo0elQzRmpPYzRheEczM1dhZm5rVDhMM01EVExIbmpzeGozcXNwQVE1UGhaTVpJSCUyRlZocCUyQlo2SHROOCUyQkhDcDBOUWdFQVIyT2tRNklwejhtYk1DaXVCVlFrYzF3VXJIblNRY0FrQUI1bWVkMzhzV005a0NIbFdLNzM3WjlKODRaQ1E2b0s1UTd2JTJGNmxXSVJucHc1RTMlMkZ2SjZNZVdRTWlwJTJCelVqYSUyQkpzWmt0UmVaak1PS1VsRjlqN2lPZUR2T2VkdjNMUHF5WWM0RUMzOWVOSXJTMTdSZmZ6R1ZIMDhXaGVHMzlsU3JnVEpvN2NZZFphU0dnUElVeGhpbDBWOUV0QXh5VXdwMnhBelVkS0dQZ3E2WXJ0RTFUdk16OTUlMkY0MUtoRzUwajdhTHZUcFFVVnRVN3p1OENmUGlOTk8xeVY2QWZoMXRLQ1U5RmpHJTJGJTJCeFdxNDZIa1ZBZmh5dkJueWRyWjEyTGpHYlNSWVRtQkxrYXlQaDN6VUVTUDY1YVBrYzBLZkJVOHdPYXo1SFFCYlh1VHNTN0VicDlYYllycWc0UldkeDZtYkRCaU1TaTRmMlpQN21LZ2lYdm02OGRITXg2UkVHNlZOOGpicnhacWtOaERaMkZ0WWRiS3FEUnZIJTJGUW10RzR3RlpvZ2M1cm1UTmFwdTY4ZGRtcm5VUG1aRUklMkJKdjlWclViRmI2QldHR0g2b2pta0RZZDM2R0lCS2ZLNm1hUlBqRHRaZ0xreHgxaENmZTY2MEJOMjI2SnNOOUVIRk5KUlV4dXUzNFM1aFRIT05YODBtY3R5MTZ4NHFFR3JFbUc4Z1Y3ZWtReTlub2tWM2plSUlCUDRwYzF1QWVLYTVYR3RYSVBrTXNFZ1hUUVNSdmUlMkJPSUpvRE1lWUlUS0ZBcDNmNDF5aTlycUd4NDNXMno0RHZpOGtDUExVMlN6SDNYeExMWTRyT0pkY1ZUOEgwdWljcmFFQUlPYmx5Zm5KZVRkZVBMN2NDalVRaUIzZjBad2x4SHdVbVd2eHZPMHYyd2hmVEUwOTBsaGJHTjI1SSUyQkxtaU1kQVJEbXVrSFQ2TCUyQkglMkZXOEVGakFaMWU0alNiRk5qOFRDYWZkZU1vWXpxYUElMkZBZm5CQlMlMkJVJTJGdFNadDNBSHVmMkxVZnlUaGJQMHFZemZwZ3dGa0VFeGlnVWlxJTJCR01YelU4VVJqSlFlTHd6JTJGUHRuQ3ZWNmdkeTduUjBpRSUyQjNuMWE5NjNaUmolMkYyNmZvOHFSdFh1QnN3Q2J5VjNJRlFyMmZ2RnV0M2dYdlM1TjNZbFpiNU9pb2VTVExFdkZDV1NMTWxyc0E5YXR1aklYMVF3U0g1cFNsWEMyckFGN0RaZXQ4ZTdPbEhLbnBjbjBJQ2JWQ3VHRnRCVnduQkJHRXZ5OXh6REdVRXdDTFNvNzI3QVZGVWlLUXExWkF5eXFURVd0RWQ5Yng1eldEQ281czBGUTc4TkNSZWNTbEJDZXNYczVnTjBDcyUyQjhkT3p3bnNiU0dBbGd3U0ZTRFloZGZOZEhqYkswY1JvM2I5azZtOTRKQSUyQnF4Z1U1TWVnVEhMc0EwM0dZRXJiRUNlU3lCbSUyQiUyRkVjV1RTQkNMR2FSVWtkNTNkcU1qNHVTbVNuWHh5TDhwaFQ4NVRWbyUyQlpZaHRPSEZzJTJCVnJxUTJVUGdtSTVEeDk3MzlFdTY4bHZCdENBeEg1aXFFcGdJU0RlZUZjTUh2bVpJRVd4VER6UDFLMWp5SHAyVnZrSG8lMkJoQk4xdHZDcEh4eUpRR3JDM3UzWEQxY0JYNVJLRWdlQWp6UGc3aDlSRXh5MURhcHdoWGp4SUN2dnpsbTdSQ01pJTJCTmVLelh3SXhFYXV4ZUtTUHNmRm5YYiUyQktjTWM2Z09Ec3dVY0lCZ0lybGh4VE56UGU0Qzc5JTJCeUoxVnM0QUVGWENTRkFqQWlTJTJCWWVWOCUyQkg3WGZuQ0RKbWVTS2V5S09QZHhtdzQzSjVJV0JHTVB6M1hIZVlDdFNsTVRWTmRJamhJNldJQTRqdDJ3djdQeDc3VWhkTVFvb2Y5ZVZZRU9MZEdTRHNiNmJIWlhXUEVHdzQ2eDglMkJVZ282Tk9LWllZTG1SYUdkSGRJQ0JBenBOSkhUVHliOURzWThiSDJEcENZTlV6c2xGVHk0YkZDR2tVM2VaVFVOcWlpTmF6dW01TkhoVVRIbnR0b0RZVXlXQUltdVh4UmJxZUhVMDY2NWdPalI1aWZ4b0kwdVN5QkpVbktOc2dDVW5rUlk2TTNyemglMkIlMkJNcERkaGZia1hVMUt3THAwWE1nemN2cEhFdkR5cEI0VTA5aTI4MXRSalNnTjg5SnhFSHk1elk0VjVFa201MHVsajNxUFdDJTJGbWpicjBpTzZ0WTJEdEpzZm9WQiUyRlBzMzhBU1NkeWRSRXY3TzFCJTJGMXZWUG1LTFIlMkZpRiUyQkxzdjElMkJnQnQwYVRwOTdlS09zVU5JSWJSaVBqQkZtZWQ5V3p3MUI1NiUyQk9WNHpkQ0tQWG5MM0IxcEpiOW14SW9ucXNMTWRsdzNFdGRuM2VoeUJFeTVBWFcza3UyMmklMkJoZ2tyNCUyRkdHTyUyQkZSU3BrOUlEdnhjdlVhQVVlbkFQdDNRRXpLaDJRUEJqWER3RDIzZEg0am5udHZRU21RaVJoU2ZQV09XSVcxdWtYUndmayUyQndyeW90TEJmdU9TdDkzRXo0SEhJTVlzUyUyRlhxQmVvbjVZeWtURExiWFZxbXBYYno2UG9IZHpYWng3UyUyQlo5UWo1Qzdmblh6QW1HSSUyQjdIV3olMkZzV0Z1MEUzaUJma1RkRXl3ckJ0dnJFVkdhTllmNXVtTnJOeDhhYkZYSnFPTEhra2klMkZMeHBjcUxocyUyQlM2Z2ZBRVNlUkglMkZmZ1Q0MUdTVzNzNXd5Y2NYc05tYnRCVXJZZGRuWHZmcjcxTHdrdjc4RXBOTlU4dEc5TllmTnhmJTJGeEw3ejJ0ZGdIYm9TYlV5YiUyQk9JTk1xNG9oU1dRY3ZmWXhsMlJMRk5ncmcxZ2R6RmNBWWJIQnVOZnhQNnR0ZDdqenhHVUZTcHRpMnVhSFlwdmdJJTJCOVk0a2xaUlFrSTR1alYlMkZ4SXllM202NmFsV2dOJTJCb1h5Q2kwbWZwT3owMVNjUjlrY0FJRWtOQ1d1VHJmNWg3VmxranpNWUhXaHF4S3BqWkJuUEYwdyUyRmJGa2dvTkEwY1Q3JTJCemtmbnRHUEdpOUdyelVhZE9hSWdHOEclMkZ4SnU4dlJwMDBReVgwRVFtTVhJOFNLRXcxQkxrZkJleTNsUXVIcmdud3hNQmlZZ2xQR2pNUlFqV2dVUkRFRmxScU5GTndtYXBSbHBXUk1EUWJHTzlaTnJycnAlMkZZY3lMZ0hjMUZ0d3h0UVIlMkJta1hqQTJJc0dVUkxLSkQ5NnYyZWUzRGxhOUJ2U2FYeGtDdXBSMVpzOEFCUWVFSENOMHY4SUpJMEt3TGxFdHJKZFNSVDhidmFIakwlMkZQaGljTXNvelhQM0pTOFRZdG93ekx0YXQyQU9iN3ZCb1JRVW15UFlMaEFoSlBReFlKQU9jS2xPJTJCUkphbWxibyUyQnhEJTJGM2lBRmxGaWI4S2w3dGJJT1hxY01DTDFSQ0t3WW4lMkJxUEslMkJRWnpvV0pSa1FkQml5NjlveUpkWHVTeFRiVmtzRG4lMkJhNFpMUEl5M3hjZ3c3QnJQZXVGbmtsS29XWm1TYzdKY3RDSWtGRkVFSWhFJTJGdGlaZzcyUjllOFZwamlvaHVDUUNHejNka0hSeTJIT2wxM25SUHV6WGFKa3JmJTJGQlMwWk5QUkxjSGZ3OGNvcEpHNEJ5TXYwbHI1UXZqUTd3WXlEVEk4VTUxaE5zUWRuJTJCaDhaMzlvZ0wwaTF4UURQaTBuZFNsdHpGNHklMkJPTml3Y0gyNzNpUTlUQXBXMWZLOVNKMnVESW9wVFpGNW1rNjElMkYwNnE2YWtHSlZnbnpldlVvTFVjeUZCJTJGVG9pY1BVVXVjV1JibDRlMW5VJTJGTUl2VXZwMVlFQk5GWFZYMzAyemY0djhiNFFNaUtuWXNhTSUyQnU1Mlp5emRDcERuV2xQTEdwSDc0MHFuVDBCSmp2dCUyRlgxYTNhWHJvRUFQY2NFR2U2WkpEaGFFbU9QUHFlWVV3NXVWazd0bjhpY3U1SWM5UyUyRmR3VmZta1NpU1NEc0tsR1NlTVh4Zld1amMyY1IxWU9ObXZTQk51SU52JTJGWkpjQzFGSjc5d1FxenY2eDZRbzhpaUxlNzVEdiUyRjFXcHNmYWZKJTJCdnQxMk9JTk1EU0pPSU9RWHB0cVhmM21PYlk4cmY1cFlnYW9WWnNSeGQ4TXdlNjElMkJuVjJscnI3Z2xNc1NIQlNXJTJCVU8xbDIxalh6bUl5eUNEUk9KZEF4S1dmRUVjNlBBNGJTbWVwdVZaMUNrSkV5ekRWM0p2bEhnR0lWZEhxSGk1ekw2M3pCa0l4MjRTcG9NaU5zYUlPQ3JqcFJDVHYzQ1E4SUxwMGRrOTRaRDBWYkMyWGEzTklNZ2M5S3RxQmhLR0ZzQ3RwRWJ2UUpUWTc5MjRYVDdCWWphJTJCUmdsdE8wNzFMZzNrUVE0akJLbnowT0Y2NjhXVGk3ZDNQNnE4Z2VnRWU5ekdsWkdGRktQRHglMkZpdVg3N2RQMWdrZ25PM0FoclE3eHBKZjkxV3FkdjdkUDRvWTVOOWNrNnBHNHhMbXRLSUJzbjBpTHJPdFcxazVWSnF2eWVLTjRBMDdOb0tSSTRWa0ZWZ0prJTJCY0tESGRNMVc4NVUlMkZyT3RnUjhWU3YlMkJsUDlEek8yMEhtJTJCdnR4Unl3MFQlMkYlMkJ3aHk2bTNEOFdPQW45ckNIWmolMkZjUDgzaVVvT3hPd1ZlMlhGNEdXdUtJSTR1ZlRzZjNYODhXNEpYT2RsNjlseTJJTXolMkJkODJ1VkIlMkJKUWowOHNYU2RUUCUyQnhBZiUyRnBKNU8lMkZZSVBNRU4wNmJkbmZwZFpOUTg5akQ3TjdwTUdMRk8xMmV6cWolMkJVUHBwNGxvdGxNRmVFVXdGRE5nSU51UmNxRXNFYmNyJTJGYjhHc3ZBcFNNaW9TM2pBcDdxWkcwYzMxZUtzUHpXOUdEZEhReFRQcXZDazBtQTJ6V2p5STk0Sm0zZ1U5bEZCN3p1VFZEZVFreGtaMlJBJTJCSlpyVzdWUHk0eFk2Vm9RRGNFUW1CZXR5QmVHMmR1V2R0Mm56T3FaTndNeXQ2bG51dUo1cWNXT3JTemRiMW1NQ05RS0RkcHdiR3Y4aHRhUU4yOHQzMDdBMlAyWHowZFNGUTh5bGMzdENGYkR6b3JBOHFNQkxybSUyRkdlcFVZSThrVlFpWTBvUWtRNGNpcHpmRHc4U0hvYkJ0JTJGV2JvSUVmQjVIc1U3dEYyc2pyZUNKc1N6aXZqTUVmQ0JyZUVrd2x0M3gxJTJGY004ck1zZVFiUkxLYVV1V3VNZ2xKRXhXSmlDUHlmUHByVlQlMkJ5OU1HQ01jb0h6NjRoRVlndzl5WDRvaVEyamJmb1FjeTVueDBCRWoyUFJUZ3Q2dEhWZnZ3NCUyQmRFNFVDQm1TQTdqc3o3b2RXJTJCbnpneVhMYlZrTnBXWEVmQmpSSDh1UDNrZkoydWltS0NHVGJMWUxNakxEYmtoYk12OWVOZExBTG9qaXNMVHpMeW84cFl4MUFKNlZGNkVmVTU1M2JqNGlUUzJTSFdWNUtxZmJjZzRvODJ4SFV4UTRWQldKdGxvZ1hiS3Btd3ElMkJ5bDFrT1pDRWwyaDhBV3d4U3VlSFJnWjdqVkZOVWFtQVFJTzlpQzFQMUN1U3VNSGswNUhGMWVOR24xWlNoRHJNUW8lMkY0TE9HcGJRbENuT3hzSXFiS29iJTJGV2pwSG91WVliN3ZDejR5UEJ5WlpxOHJtV0glMkZOQ1pkYzZzVTNSQmtVdmxoSXRtMXluR0pONTYzVWZBJTJCWWs0VmdwSm1RZUZJTzVudUQyTlpHMDFRNndzTUFjSnVkR3FhZGRaU3g4bk9JMFBDNW8xSVdwQXVOZ2FGJTJGWDJ6M3pUb0dQQkJZJTJCYVhkQmNseWwwUWpjUGlTOUFKQUlYZUc2MXJNSVp6d3RxdWR3SDRUU213cWprRmJob1dQSGZKZlN3ZUFvalB6WnBzTyUyRkYlMkJ5TDVhUEhPZ09tT2hkaE5idHFadTNuZk9pbGpqZnVkUzExNkZLUFZLNGZtbEVDVEMzODRnUUtLb0p2WiUyRnNwNjBXVjZrNkhrVWNWU0klMkY0aUM1eDZaTFlHd2kyMiUyQmIwWmw3R0V3R0k0ZThxbHhmSU9XaTJabmlZWGppRm5MOW4yUmNvaU5EZHJWQkElMkJhallsZm96bXNJUlN0RkVhS0J1dEgwJTJGa3N5dXNpSDFuMDVXc3VVOElWUEVqUEk1WGw2T1pINWc3bE5DVG1rRnAxclkxTnpVZTB3dnRXOVAyakVBY1pLRVFTcFhBUG1pSlBjQUwwdFdlcTFjbGY4ZXY3bVVVckVsS3d2NWxHUFRXN3I3WE8xNGp0d25OVGlDV21kNXlYYUZLZk1XJTJCck1LZkUyMkVKTFdhbWJWN2RjR3YwMTJpemUlMkZNTWpJZGtFMVlLU3RrUGtCV1I1JTJCMSUyRkclMkI5RnZHeHZQZ3IzRktUbzclMkIlMkJMd0FFJTJCaERxYkFZNFh4YW0zalFhT2gyVEZzejRvVTJjck01eTJBWWdtQUR2ZlJpT1VTekoyTmI2STRuWGYwUHkwc3dxQ3hXQXNTYkJXTEViSlBkd2V6azN3bklyWmZVMlRxNnNxWW5XYjRxU29PeGgweU9qRFZVYzVFWEFHNG1jTWp3cVdzQlgzZ3FaMjZCa1RMQml6d3lKWWJJRjVubGwlMkZJSm1TRVRGazF6aDhUcWUxV1pCYUJ5d0FmQU9kbEtoJTJGR0tCSUJ1aTE5cHRzRVpvQ2NTQURad1A0dyUyQkpZMnJTbUw4SGMxREE0ZXVKJTJGSXE0VDcxJTJGdVNrUERZeFRPRkRIYmhyUXglMkJ4NjVOZEtHS0FDU2tiUTI5WDNSR21hWVhyclRPZERkNUNIUmVDWDFFM3QlMkZyUTNoJTJCcHZ3Yll5aGNNcDdselFlY2gxSHdQWkgxWktxdzFSdnNJWDc1U1N6d1NiJTJCa0E2dUF5SEhrZUhDOVZBcHh0bnZ5c3oxdkpnd0pDViUyQmJqQzZyZ2Y0MUslMkZxM0VQTURHazZDVENxdEpSdDY2MEVWbmM0c05TY2lCJTJCeVVkcUFHQmFwNGRiT2I4QU1JQVM0cHdBYjBpNSUyRlhGQklLRDZwYUR5SVpJc3I0ZkZPRlRGJTJGVjAlMkJKQWFXZ2RrUWFjaGRXVFdXdG1rOFlXTW44V1ViRTRXbjViTlNoMXpPR0ZienJ3NTYxS2lKeGlIUWdydkpEdExqNndNZEJsaW44T2NLcW9QVVlvM2hJQzNsTDZKa3ZrbG9mVVJ6TTRndzVMWnd3NjlMTWFyTHF0N2wlMkJnbk9OZ0tTRGxESDZSMEZMa1ptOEZ2VmhYWjhwMUdHblpUaGpNdGpTNmFyY25GQXlDM3c2N2dIUDJ5ZkVWRll1JTJGTm5QeE5IRDhXayUyQkx4cCUyRkJFMmMlMkZEcXJUOSUyRnJ6OCUyQkpTeXVPNzNxM1FWQ1ZZaTljWEtZaHhDdlV0WmNNWHBMWHJmcFNFJTJCME9mYW55MUtkeHpBNWJiWWxCMlhIVEZGTTFhN3FMWSUyRjg0ayUyRlE0S0twdFdJWWRwbmRkZmFwWDhRa3BFNFowSll6SmR3VVB0QXdIY3RXYkZrR29JSnlJTWJyZTFNM0hVc1BWVTJwOE1oZVRUTzF3UDlYSkg1aCUyRld4JTJGM3lzSkxUN2diUG95YzFKS3ZzdVNhTTVLUWpWaURUZTBMcnRYWnFHOXZ6YWp0cWFLUFlISUdBWjBGeHFCZmdUTTFWNURJRUVyT0ZqRzFHOE95ejBnejdrUkl6MlBiMlVMSjVLRmVUT0NYNDQlMkZQdlh0VThuYW5lJTJCaHlmb0xhOUI3ZUw4SWUzUyUyQmZkMVRHMER5V290azFuM1hxekdyZkl0VEdBemoyVEwlMkZpeXVQdllmSFg0TWtxUGhSeFdjVXBNN2l1YTQ3czJOTmpOOFZWSEJ3QyUyRk40bXUyREVGcHpJT3NyNUIyVHEyNTd0YUVvRGpaVEJkczI4ZEs1SWZEWDB0WWxEa0FjVkhRSzFlMEhZVjhiSHN2eVlndTRDenloN1g4d3NmQ3hxT1h1MWxkcVRrVnhidzl0MzZucmhCSE9hZ0dNdmRBREhZWHE0OSUyRkFSMFpvdlBIUUc2WW1vdG94Zlh0TjJHZEF1bDA1b0s5N2gxJTJCNzRrdkFOaGQ5SGhDMWdNV0FCRndnRjFNQmJBdWlGTE1Zemtiakx6b09QYlNSWWZyNW11dGZZYSUyRjlhc0lWT3B0Y2huN1pZZ2NpTk01R1RLOWR1Zm1HckpkZjkyYXpzWE95cVVhQWxoRVVGUkRnV3RWZzdRWEpEZDFtTnd3cjJhWDJuUWVHJTJGTVhpRExaelBXM2I1NiUyRnhSY2JubHNpYTZpcXRya0l2JTJGUXc0RWRsJTJCUlpBbU5nZnZTTE5NWnhISkk2VU1pdDNUMTJxN2xSSmdrNDU2VjJmZVFxTUF1a1olMkJYY2ZxUUJVZ2w5JTJGcXN4a2Vyb3NodGt2cGFCN016ZVJsV0pNSEtUaEl0S2NNQ0tNRnk3VUFCQWxOZmRiNzlHYWpRUkg5WTJRMndxb3RBVHI2ZnhROUt2UGJWNjBaRHclMkJ1Y0JpbllRWVFyeFpNaVJLVk9URkhCUjBsZFB3OCUyRmo0MGswbGVBTHZESlZpa1NLbzZsZ0RyakdNTVNWQ0RJWHlnJTJGRnRqMDUwZmU1SkZINlpkWHhoVHJPVXRLbEpRdXBxWnRKdTZ5bkdFeVZoQXhoaW8xJTJGN1ZUYjRyOEs2aXUwdXl1ckoweGdPVmwxYnVxNkk5RURCVUtwZEJSSFdTQ1FhaThkb3Zvb1RXT1pHYVdJbGlFSEdDU3ZoSVV0Mk9yV09oZHVVMnJORiUyRlU1Q29DeHk5WlY1d1E4TFp3NjZUWVkwejglMkJvaDNXaFM1SVg0UVFVSnh1ZXRoY1lsU2lSYlFGZ2c5N1hyaVN5dmlMd2JLdzhXZmtxTGRhcDFJemNVYkJzd2RJRnhLanhkeGxjbnZYdWF4NXElMkY1V1FrOGhFRmNvbnI3MTRBMVpvNlUzYjFFZ21zcSUyRkRpZWolMkZYJTJCNlhSQzNSUzJyT3dWdEZ3MndTNVg3OHJoM05yVzk3dmFwOUxTWDVMSXklMkIybFNsMldiSFdwUVNMdXBrS0I0Zm40d1V1ZlN5VzUlMkY1a3Z2MSUyQjVGR0dwanAlMkZ1OFdMTThLdlpVYnU5enZSdkd3cnl2aXlFTkdscUVXZXBJNHQ2JTJGSHpxZVMyZjZTVSUyRk1oc0VwQkxKS2xwJTJGUlVoTHZNb1FScWUyeTdqUUNGOEhMOGk1JTJGWXZxN2NmcGdoRThQbnF6bSUyRjAlMkJJOGtqQ011ZnIxTUt0Q3dzWWs2M2hIZXRtcGQlMkZXU2RvOSUyRjhiUyUyRk9VSDBEbzNLYlVRRkhFUnJIM0F1QUVVblFFWFRUUENMemNjUXo2eTZmRDZneVFqYXpMRVBXTyUyQmZvbTdreG9iR2lnV3dmbEV2S3olMkJCUjM0ZFoxZTVoVllMQ2o3NFM3dDgxSkRvMDRzazhmNUVkUW5TenNaRXJZbGx3ck1FJTJCcUd6ZFh0UkJVVU9GdnQ0c1lQTGpCbWNQSnpiemgweTAwc2NzM29XZiUyQkZKUmJob25XRm80eW1RJTJGWkk5UUw0WmJEREVjSmV2WmRnVVdUdzNGS0J4c2xnQlRlJTJCN2FKMWo3QXMlMkZJZSUyRiUyQlolMkY3M0JVdTEwano0N1clMkZaN3VXeG5XeWV5JTJGRk9nNE5tYmF4V3BQTVpLTHZ2bnVVNVFEdXJQNVluUGJOeUZuNEhsOUpsekR6WVpIQ1J4ZkVoMHQ0OHNvYjdaa1A5UlJVcDZRTTdYJTJCMFByT1kwdHZ5b0lkeXhuV29tS3YlMkJ5UUo2SlVidEY3TUN5YTVNZ2dQV0lLQlRzM1ZlOTA1QmJBQ1B6bSUyRnolMkZ5dm1QSGRXWFo4cGRFMFElMkZwdlVqUmt6TjY3ejIlMkZ2cG1xYzU4Qkd1JTJCT0huclFPTUNwd3E0cWljcU1YTEZXUkdRRXhCd2RXUzI5OWhxNDhSRDJSOXNtbnpoNElQcWdmbVJ4N1JFUGZLVXRwT3UwZEdEaUx5JTJGUE8yN0dIdGxqRDYlMkZvT293Y1RaZlEyUGpDU3hncjFXamw3bjUlMkZnUSUyRmFmblFoRlY0djdGMDAwNnZZRXR3dmRuS3dEeUdFZDF3UVB2V2JXaEVxMyUyRlpORTlaSm8zTDg4N3RTbGtMd01uMkQ0cFglMkZEWTRIcHVoWnVZRmsyc3V6eSUyRkxGcVFRYTNaUzRlcTh3ZGF1UFcxbiUyQjlsVkZ6dmd5NTlpSHNFamhaM0p0MnF6UFJ3MUMzelE3MENTUzQyVDIycVRaaVFBbmJFRGtpTzUyQWdsTmRsZVp2aWtmdVV2RW1lR3V1b052cmNMUG8yazMzMmdPdmRqYTYzQVVlODFYaFJBRVE5YU9JTGVidlhRNGVNZE9ZRHVUa3p1RnlYMHRwU0x3NmcwMlZ4dUJ6Um05OWlCOHVpRDJDdHRaZHBKUSUyQkhWUyUyRnBYdnBXQjlXOGFrSjZoOXNIY1lPVExMMzUxajN1SDB2TzRlWDklMkZrZkhnSjV1YXhSR0FyRnhvQVNickJZdDk0WGkzT3BqOHM0eTVuWlVtZUo0ZU5sMDYlMkJvTlRxT2pTZSUyRk1oJTJGUGNpd3lrMUh0JTJGJTJCcVJ0V0ZoM2loZzBuM2VjOUd5SUlTT0E1N0tyRENpTFRLanpNJTJCMkt0YXFHNjlva1FrZVFRdmptQVRGbGlNNHdWRHlCdiUyQk05blBXS1ZqNXBvbkZBMllCSERtQXpVZEMyeEYyWHNFcjJwTnh4TlFQZXVNJTJGZzNqZlJidThUakFSNklNb0xxOWdjQ0ZKZUxROExyY0ZZbk1zJTJCS0xrNmg1MzRYMnMxVmZaU0JYTVNqMDl6eXFkSVF2dWZmamN1Wk5rSnFmcnVoWDZOTnNKRnFDN2duUWE1QkIxV2FkUGg1OXJzbGJFd2s4bU14UkNRTGdKeHBvNlNmVVJPend3VmZGQm56QWpYZTc0VWJDJTJGWlVVcHFzWTNmVjVieDJ4T1ZWN0txc05VRGVjMmphckpyaXZGWW5IRUxUY294Qnp3U09DVVRjUDRXZlJVU0tkSVBNJTJCQUxrVk14VFFPZTdIYk5QUklBWmt1eFpCT1lJR0UlMkZycmx3TVNyMTlLQ0ZBOGltZ1ptak8xVmJZMlElMkZpN3JRZ2NiRjFoRDlQa1NSRHEwWkJnNkVPY1A5OFlObnlSelFGJTJCeFJKS3FyM0RoMldNUTk2THlsY0JYcDhmdnhhbzI4SHFUJTJGSiUyQmZ6QU83TXZqVXNhSmFUTU5Xd0JEaTglMkJiSHhSMDNUemZNa1Fjd2FSc2VjZEhqYTFVMUg4aWxxT0Y4ZXQ0UEVFbUJuaEVJM2JQdkR3WVYwUmhVVG84ZU96VGQ3VHJwNmJWaGpVVSUyQkZsOHZMZlkyS0FKRSUyRnl0cEtLMVBHY2tIaUlGWExDaDhqWU9mb1I3TG80RGU0am15aU1UWEIzYUVBTHpqT25iSXpWY0hwNlg1VmM0V2k5cFhYUE9lREVsWFVuMThzWHo5JTJCelhqeEEzZ2lYS3REWmMzNHQ0MjJrYk9PMU1QOTZnVnglMkIxY0pCNCUyRjhobUhFcXpUaWQ1cXc0ZiUyRlpQa3RuNFhrMjBKS3haNm1RbmJBNnNoJTJCJTJGRWl6Tjg1a2prc0ZMd21TWG82WnVzT3dWMXMzJTJCNHRCc1FrT25KZWs1VmpWRDBWRzB2ZDQ5OVFkMDZCT1ZiSEhqcHY5MU1CN2dpNGRpcGFrZEYlMkZ3aEslMkZQcEswTk85UWRwTlhVRWtmVHU3TUtmZlVySGEyNGxsQjBVOGk2REhZV044aUlmOWlaT2tjdTNLQUxSZk5xNUt6WGdYS1pjWkJGVWhNS0cwTDBIQnQ4TzMyMDBmWTNxSGlQSHVxV0YlMkJsR2MyQjFMdmNIbHF0Q3loJTJGMzk5NDElMkZleW03ZURKUWZ3JTJGcVhJMWpsR0V4WEk2b2R6TyUyQmJvM2ZOWGdLUjIlMkZnNXVEUEsyY2slMkJ5YjVjQk9ydExFMnVsOGxzWFJsbTFWZ29oMVZrTFlMTjBRbFJUeENXamNvZHJDUFVCY2xUQ1BBZDM3alJsUmt3VHkzZVFKWHdLNkE2STM5VmNrd3lSNFdmY3NxSjFLWGNxaUs1NzVpdDg1WHI4aGVJWmZNNURRJTJCJTJCTkNhSTlEVTFIeGh4biUyQklKVlk1UlJjY0x0ZkoyJTJGNHNpdEolMkZYdlNzeEJyR1hoR001aGEzeGlXUWhWbTdrSlc0eDhvZXdJUWw3THNmblVlUnB3NXVPaU9Qc3RhUlBWa1JDNWpoMUVlVkg0TnZlSGxOTktkJTJGcFVKQ2FQNDlUdGgxVlE2eSUyQkk2ellteDFWbGFYeExHR0FjdXkyRUlaNEpWUTM4Qm4xcUk5bDlpU2RBODJrSzM3bE11YVNxU3AyQ0o2UElNNUdEbGN2UXdnMjFBSEdIQmNXNVNtcFZnNnRST2ZhaXRYQjZxczVBakhVT2duZHdOTmFwaWc4JTJCSHU1Qk81VGh6NjlKeXlYVHNhSVZBVTklMkJMSDFHQWRmUnRYQVBuV3gzaVpTcFUyRHlPNGdSWE9xU01KdXhjQ2xCQW5YTFgwbXYyVG9tYmMlMkZxWmZJdXpYTEJaWlQ1azhiaEFhMVp3ZGhGc0lNJTJGajNWTVpKWUt6R2E2R0tFTEVFWXQ4cmI3MUNtQm15bkZIalNjbnl3aXA1UzhBYWRCWEpHMnpOeVNFVkFKNTdkSEU4RWtXYlQ3aVJhdTBLNkZjemU0UjlLZUd2dEJHM0ZrbUIlMkJmNll0ZXZlbFRweVN4JTJCeUtodWw0SWVQcWFwJTJGVDh3YUNFYmhzcHphTkRoU1QxUHNnMHhXZ1olMkJnaW83N3lzZjZyM3Y4OSUyQkJLMENTTTFuNGlaS0g0cE1tWVJIRVQ5JTJGTU1majZQcnlCTkRLN0Q3VzMxZUF2OXkzR2Jzb0I2V3NNdnVKNDhkTTd1enVuU1MxciUyQlFBY2ZYOTFpOTdFdlN4VmU0NUJidDJHJTJGZ0xYSEI5OWx6SDFHd0twbHE1WFZhUGc0ZjlEZ1BXS3ZVbmpyejRmcGp3MXBrdUp6cEVxNzNYUFFSU08zNUhlYm5qWHQxVVRFZGxZZzVTc3Q3N1RzNnRab2VOWW5WY3lVOFFNMEs2MFBBJTJCblpydEs2eEJLTHVvbWpPSVJpRVFqeWNXaklMYXJDQjl5ZHE1OERFRmNCelpNSFpBRVBIUUxveHEzJTJGTzhQdUtIN2glMkZxbGo3NjJsZmhPQk0lMkY4WjNSU1FTeWZVZHFucTB2M3lLaW9OUm5oWFBZbVhSOURJVmdMdndUdHJFaDNvbDdZVElxVFZGeUNNdVdHdWQxciUyQnhxbVJFN0J3SFpqWXJ4SGdqb0ZRczhjSSUyRm1UQmtESWVISHNvQXBnQ3ZJZEVhNWo5RVIlMkJZRGtzTEYlMkZ6VU5XUlI5R2Y5Wk53NFduTTBiVlVmUUJuR3BQb1ZOZFQ4d1lnaGZyajhPSWo4aWZFRGx4ZHZFMlpyYSUyRiUyRklGaFdselMlMkY0bk1taFVJWjh2ODUyTG9sNkZLQzZhN0lPJTJGNHZaYjdXM0JnSk1hVmJualJWUUxPZE5ldVE3TEclMkJYNm5mMk45ZlpXYWhpUUl0eGRzbmhoV1gxRWJ3c1FGTjBrRFV2TkZtbjF3TUEycko4SVBGU3ZVTjJPUXZKWEhNWFJYazNiekQ0bkkzVkNBQ0NQc1V5SWl1Z2NWRnRPdnY1ZmZQdiUyRnJRVDRVa1k5T0lkb1NlQWxEJTJGb1RHODc0ZjFvVFZaOEdQbyUyRlZrJTJCN1p1UnNyYldyJTJCZDUxbGdFZklnVlhRUXVvVEZBMHRZJTJGb2paYmhYVTd5dGc2N3ZBRjUzaUtpWkVpJTJCQUdPVGhnS1F2R0Y5U052YWpqSVgycVR0ZlNnMVlxdGozN1owUDBUTG5YZE4lMkI3WFVQdkczMTAzeWNmSzI1QVJJTjdKN3p5YXI0MDdXYXFmZnptcm9VSWY0YVB5MW9abnJ4VDJDOSUyRjhUQXFQaWxOJTJGMFpyN0ZQdmFpQVBQWkc1SnJwMHVndndESW1IQTJsU1NqbU85ZlhZMmRzSmpJNERybU9mVWRDJTJCeXo4NGt0VnZmM3ZXR2xnR3E3NmN4Q0ZsQmVvZDdHWnU4ZjVNWWcyQlN6YSUyRjhOMGRSU1pOWmYlMkY5VGxuUmszR010JTJGaWV2ekg5cEx1MmRMT0lvNUJTMUNyT2FGeEFFWUZoNnpFcjNGVEVxZWZMTUVYY3RHakhieGlidGJCbmg3amklMkZsM2pBMnIlMkZ2ckpBd0E2JTJGTW9rcjVSdDBROXV3RDFLQ25yNU1mVTk0c1ZSc3NWQWF2QWdDOVdrNnNvMFFQZ2ZiMjFRdnglMkZKWHZZVFN3c3FaNmJWYWhmN1lVTlJzaWdNeDlNSHRwYjRkSXdYZUpzM0I4NXZsYnJrWUl2WUY4TjhyOHhMVjRZV0lCYXVwc2xGVVN6SVBDTlkyODI1OFZLTXYwcFlTYkViTXFndCUyRlJjZWVuSTdaaEFORVhsd0g3Z0k5MVBIZjNQMDB1WHU1M2lWQWtxNUxHd1BiJTJCMlRINm5mT0JXUyUyRmI5czFiOGFCU3QlMkJTdFAzTk5ENjNOczB1RTVKVE1zJTJGUDJ5MGp5QUhGZ0pTVllSWUZnNEFmMkN3U3hMbGtSb21WWSUyRnY1QmRJb3k5UkJURXVXUWRKaGNCQkp3dUgzY0x1UDNhJTJGd2pGcW9EZklsaTFSVGx3cWlvOFlMWTZiNWQ4QkROY015VEN6SmZYUmRBQ05HVG9GS1d2clI3WlRnbHdBaWN0YjRxdXUxVWZSRkRXT1JFVXdJaE94ZzhDclJDa3dqMkJlbzFHTVFnczlYMiUyQlBvJTJGVmM2OUhieWNpYURtWG8lMkJTVTM1czdNZmJrZiUyRmlSR3lrNE5VUU9rdzQ5QmZ0VW42RFgxMTglMkJKM2FwUlJDRVlYOFVjUEVodkJJa1NNbnZwNm5zZms3bUkwaVBxSktWWjZqN0lwcG5OWGo4NjRGT0JTMlZ0RTZ5TWZuT2RMJTJCRTBkZzkzSUpxOXRJaFlORFpmdWd3emJMdTBxaUVDd1ljeGZiUWpHMnZMaEhsemZUQ0RsYTRmTGZNcyUyRnMyRlBvRXFQVjNXeEY3bjBDeGRxd1dTc1JoaGNTQ3QlMkJiMWhYRGE4WVEyekVvN3NsJTJGOXkxN0xWVXlQWndyY2JES1hKbkRTMWhIR1VpY3lvJTJGUVY5Z3RlQWRqdjYyd3FGOVRRSDJXejlLQzNBR1lzNzlhcE5zUTc0aFpncDVGMndpNGRQdjZwQkNOOTgwUDJCJTJCa2JGZWFTbWRZRThDSkk3cGIxJTJCc3pHekFWeGg0aDhBVXd5OEwlMkJzJTJCUVFOREFRM3E4NGY0TFd6SHFzZVFya3didDlaVTNxa05Va0JVa2xGeU5ESEpNdnIlMkZHVkVEdUdGZGRtRGtMbE02YjRoMDZBZ1FLM05IJTJGWFJ5NjZPQjFhRVdIc1VUdWViR3ZNelpoQ003VUV3YXR2b1hyNTFlWjBnUXg1b3lVd0FaQ085YndrbGIlMkZYZHZqQTZqVHVwZlVGaFZsRkY4NHpaM0lYOWxueDdVRWVBUE1UV3NINWZ0YUtLN3BFQkIlMkJQR2pldldmWWc2Mk4ycjRtNjVNdUpGdWxLaVpMVmxTa3c5Q2hXJTJGVSUyQlVTV3NjWURFeXZ1elVoWkdjUVNOSHZGYWQ4YU1iUUswZnJOaVY3dnVFSlBjbkw4UWNXQWMlMkJmMTBtNzJGdHBqdFNJYWpqelRDVXVoQm52ZndhTjZ6enZka04lMkIlMkZBZ2ZyWUNnZmR0azc1MFU1Rjlxc3hqeVBDdjVQZ1N6TE1aTlFFcld2ejQ1M3I4SDJZJTJCV0FzV1BxQzNpN2NKdllHOXRlR1k0OG9zZllCVGZSMFo1djRSZ2xJR0dIcWpvc3N6aTIzOEpLT3VTZmJPSU0lMkZPTDhDTWhJdmt1RTBCMm84JTJGazJWQXlxZiUyRmRhOWdCJTJGSWo2T2FTRFdBRiUyRng3VEs2MXh2TzFYMHV5RnZ6N2hKc2xBaFRVS1dTNWNhaGZ5V0FaSTRJdlFIVGxpOXF2VFNIdjExY251cFFqRDluRDV3dlFIZTAxekRWR2RqcW9vM2clMkJENURLWDV4UjNrRUtWYUpqdnRSRXg2TVZaMk1RN2s5Nm5MMmwwSDNueVhKWU1vdW5KNW1EbXlYd2tteTBTQVdubFg5VTdhRUhRWlhMNThlUnpETUlhMmNzVlcwJTJCV0lJeFFBMEhiUlJ0c1dKSmw3WlNNYmpqWjdCN2pQc2VKJTJGOEZ3UjhpODglMkJHa3IlMkZqZzh3S3RmU2ZpNnc4SnJ3SG40cFpBNmZGU25xRFR3UHM3ZWlhQjEwSlJJd2VaUklxSEVJJTJGVHNSdzNQajQ3dUF3aUFlJTJGVTZxSk9kMkElMkI4cGgzM3klMkJ6JTJCbWd0RTZXOGVCd3dtOWwzekpRTTFnRFJndGRDWjRuRnZ1Z0wxVmk4NUEweGNCUVNUTXVJRjJwZ1R6UVhxaHpTTkRHN1IzakVkSlolMkJQVkw5MmltNlVKNHNZaTJDVFNxbzVmc2QxZk5rNTNiZFJzRDdjT05ZTWElMkJNMmU1WGI5dEQ0NnQ5cm5UOVk0QmNyOWVRank4SUolMkJKUGgwOGZLVjkzOE1aeTU0UHBJUnRoSG9maVdURGI2SVYxZGExOGhWSnFsT2MxT09UNm4lMkIlMkJWbzcwY0hHWkNYNHlybkthJTJGJTJCRGtQN1p0Z0FpZjlVSnhNQ2wybkpIJTJGdmE0aDhQdmZ0dzBoMyUyRjlMYlVPSSUyRnolMkZhaGlEJTJGdFczSWhjS3ElMkZQJTJCd1pRZ2N2UDZ6WlVnS2wwNll4eFNSa2ZKd2ZxS0RZeWhaJTJGSElqWnpsS0gxUE1XdURPWWtHRHZtMUR0NFlRN1B6YUVrT3o3JTJGTGh3aWdTTXlqSyUyRnVVVWkxTG9Vc0xLMGh3eCUyQmZxaSUyQjY4STdpeWglMkJxcXM4QW9oJTJCZDVTRkslMkIxZTBXUk9FeHd3RDlKSE42VlIzZ0t1cWJGaUpMY3k3Tll4emtramxYZW90RHh5bmtLZ3FaRm9hT0tYUEQ4Yk9TZEpUbkxzcllxbjhHJTJGMVBTZFBrSnRnOGlCc2VLckpoMm5QRm5OcU5pTHUzcEJzZXV6cVN0U2pSQzlidmNoYmpPZzNMS3B0S283dGppZXJiR3VXYUVOaHA0VmhJODJ1WFdsYVVIZ1hKT25QNjkxanBZaWY5SCUyRjRYZm04MWR3bWU3R1RXWnp6ajRQJTJCN0ElMkY1Vm5OOG9iZThYbkw2ZnlPVlhqNmJDWDQ2NWZLY2s1d0FxMnpmT3REQnlINHVQJTJGaSUyRkxNR2pBbGVjVEFGNk0wJTJCaDMlMkIlMkIlMkJrMzl3RWJ4NWpyNEFPdnhxS3BGZXlqc0F2R1B3alU5eTZtVWw5bkVqRGhYVWtWSWpEbyUyRiUyRjRoVzRuZVAzSjh6anpZcHBqM1RGWkpJVk1xYm91dFFSYmo2SGJmYVQzZmRFa1UlMkJuNDRySlpUMlJiYW44bWlPS0x1d04lMkI3RDZXVVloQ2Y3UGNkV29NNFBBUnRoNkdid1pJdmFvM094NUYxYmtURzlZbUtmRElHbzlldTdOMFB3N0VEMTVWUlJHTEElMkJkUDFNSVl6RFdxaHhjRDM5ZFNFTURIbFU3WEFvSDRoNHRtcUtnY214ZWlOZzVqVHR6JTJGRm5Oc0VlaFlQTEZYR0oxQnhGdmluejYzaWZyJTJGN09SRmdmT1laUkJEWFdVU2oyMEE4JTJGaW9oNW5zY3FMVTNWakpmYnVpQ3JRbXZrSkx4MFhPNjlRR2NJMXJWZ2Z4JTJCZVoxdSUyRnZDRUtraVhBeFMlMkZlbExrMkZDUWlWNExNN0kzZDdzMnRwVTY1RGUwSDdIN1lnaWk2cWUlMkI3ckN1NzRhY0tlZ1JtbTNhOGtkJTJCTWRWTU85a3o3RW1TJTJCcXl1b0lIcldzb01vNTVVRW9ObkZiJTJCaE8xVTM2cEg5ZFczbThIWllqQ0wyZTNudWVRSzluTjNVSmhKRyUyRkdrbWR2Nm1KeTRSJTJCcXFpMTZ6VHZ3dGJtRUxDZVhjRVRVek5SVmtCUGtBM0JMMiUyRjVsQnR5UFZ3TWElMkI2aVVNWk5mYU14RiUyRlJBS05RRloxRWtjRk1xYWF1V2tuandMR29BbGRPNERWY1Zyc3Z3c1czWFNZcjVyakdLVFJnVUJwVUVlclZVd1dOUHRXcm9Ja094dnhZTlBiWnh4dm04aENxdWtmbVJ1WkJ0ajA5UDd4U3dvUEx6S3pnZURnZVNGZ1BGOGVQRCUyQjY3MG5GUlpMN2c0Z1U0WGhUNklnTVN3WHN5SkU0NnJtN3ZDZnBnQnZidVQyWXZRWTBmaDBoVjJqbU9IR0tXY0N5Y3pPQTFKQUVNaW9Md3RvS2hMMDhoYnZ4dWliYzRwJTJCJTJGd3djS0c2VWhUSFk3M2xtbmh0d1M4OE9uWE8xajFNQkNqQ0o0aGxucDJHeXpsMVpCcHFBdzlQakpubDFyYlFOYlBJT2Q4NDlWYTdKNDBhczJYQXJJdndUSlRYcDZxVk5ub3MySGxGb0NpJTJCOHU0MFIyNFFzcWZQUXolMkZOJTJCdm41dDMzJTJCajZtSGJqdmw0RXFibkdBdnJYcGVPUUt2N0lSbGtDalNYalRMZGQlMkZVZmU3dnJYdyUyRkh5cDBCRzVKVUp0WnN2UDRSSTF6dnV5QkV6cDk0c0MlMkZ1MVN0akVkOGQ3Y01ZZXViYUhZdmlCOVVTYUtBNlFSNVFNOE5XejFya29yajd6bWJDenluZ3hrUlpOYWVFU0JHJTJCN2F1djN3VUphJTJCRTltQllSUzJFWGRMWGM5Skc1cUZmZWN6Y0VTb0d3M2tXVmlKJTJGd1E1R256ZnkyVklvMHU3bnAlMkJtcHNydVAlMkJ6JTJCMExGUlJSSzYlMkZsY2dPc2xuZW9uV3JLYnM0UVhDb0NqZGtPY21kd3lHMDU4dTVvaDBSQ0VOZnZwRjBqVHNsb1ZSSDMxemU2aVlmeVk4cU5RVjNsJTJGUUhyc0E0bmF6a1E3VlMwejBNUHJ6TVFmY3NuJTJGNnV4WlZXJTJCdEtzNmxuMHlpZFJHMWp6MGRVcXlYMDJFRW84MW14TzV5R3RhMUdndWVPeDR2SXFqTlZadjU5RDdobnh3YjlsMFpCaWtGNTMlMkZRMDZTaW9sM2FEeUVHNUZoSiUyRjJPRWxvR0NzbjRSZXFRZUhQViUyRmpZSXklMkZQN2tTSVhHWUgyJTJGYnNJMUdNQWRLeUxoNU4yQ21DQ0JYREYlMkZ5SDJZNTM1JTJGJTJGYTlVd25wOVI5emZRWkIxWDdWSFpUVjBBYUdORUFndHpoQjRRdTN2R2hlN1ElMkI1RlpWRkVid3NuT2FEbmRZeTYzN2tTN3M4aGp5b1ZUZmRVQk01cHRoVkxBb016TUlHVVZPbk5jQkJrc0Q3dmx3QTFkMDhFeVc3SmRhUGVjTDhScnZhMW9Kcmx6VkRPdDVQVTJySGp2WUk3ZEZSJTJGcG9vZU1WRDlBeE1yaWZ5UmZmalV0ZDlnd1QlMkYxR0czbklTUGRaUEVUWkZvekxLbXMyZFk5cTlmR0gwZ1d4Z01RMmFMeThmMyUyQnQya0Y0bmlwJTJGSCUyRnFwUyUyRlo0TVZ6ViUyQlpaMmw2ZmF1S0NsalN5V0FaUnRKd3J5RExXQngwZHhBJTJGazhnOEYyR1lkMkZRT1VNaVJ5THpsbTVzVTZMRm9DOFM4UDlqNGdtR25oa2kxJTJCeiUyQlZyUHVpaWJGb2ElMkZSWTA3RklZJTJGaDM1VHZhT0h2cXVrb3JQcDBXdDhvVHE4R09UREF2Y1M4QW4lMkY4SzlxMGd6UVI2RWVxa1pmUHdYM1FKdlU2VW1hQlpTUTBGandLRzc2b04zN0syNjBpbE12RElUYmZOZjE5YyUyQm0wUVRpTjc0UGNEVEIlMkI0SFZKJTJGJTJCU3hRWFdIN1NxN2pjRyUyQk1pWlc2NFQ3Qll5S2s1bk42Z0dhZzNVQXJiYm1jUEt0OWlCb2xQcTdWb3FBd1RKZ1p4cmJZdWRaRW5USkpkZUV0JTJCd1NMMUxaMzlaRnp0Q1JicE43NlpOM3VkWWZJT2dxUXRqZ2lMSHhvSFNISTRreEQ3V0c5TW0lMkIxaVNyJTJGV3RXQVk4MDV5ZWVGZmlqZ3VoT2ZmUUplWXlaYkY0dEpIWDZoR2tRSjM0VlI2RDhBVDVZYUlWTWtnSUdtZE1jdVk3dXJqdkEwTWV1QVJNSjM1JTJCcmlTZlY2aEdoY3Q3cUM4JTJCdTI0dG5HVWVualNYb2d4RkdZem9uJTJGWk5scjlRYlIwalpsbmJhaHNnVTFHQUxwWTcxMkM1SXR6azlvTUh3TmRlUzhKSEpscWdnNGFYdDdvaHl4dFF2eHF4JTJGc0UxYlRZZVJzUSUyRlRCYVl4VXRxRXJqZCUyRnNGcHJyUDR2cG80T2tXMjJkUXdqcDclMkZralJJRSUyQnBvOWclMkZTaDk3RHR4RGxnNCUyQjVCTzJ3Mk1uNkc4Nmc3OFBhT3BzNVQxZWw3M2VkZEZvVWVhM0ZuZWZ3WGF6emNGWG0xSVJQQXplNXRkSlFGeXhwdmlhUFp4elg3NUxFWlJFWmFmZFJEdmRNVEZRQTclMkZYd2g5R01KZTVMOVJWUmJKelQ3RUhma2x6WWpOS3k4cWlRbUZobWE3OHVEUkRCNjFORkgwN2piMG5vRTI0VHdSbjEwbmhsUjZtcFJNSzdlWU5oS0clMkZTd2ozOG5wc0h6Z1NCMTZZaXZxdU0wZ0pQdTY4U29SMDNlekV3OVNWWWpKa2l5SUltYkh5TWRLQk1SQWo5ZFNFN25FemNMT0ZrUTFJU1FkJTJGYjlyRTJWYnZraDRrMnRINmNpakFsaUZqRm13elRLbnBDN2V0elNxdlVIT3JjVXpzeFRGTk1sWHFibmJOVGJZb2k5cUxtcVlyckI1bSUyQm5jQm54Y2o4UUlSa0taREoyRnFXa3A3SmdLSEhnRE9JNGhKcUh6dU1RYmEya00ySE5jblFYQ2dOajY3d0NIJTJCdzZIa1lJTlZOUm94ZThjdk82TVl2MFYzRnlsZVdjb0dEOUdpeU9DZVBGWnUwd0lmUGNOb0phJTJGRTAzd0lJcmJtOFRIc0lBeFVLcW4lMkYzeDBjTXlIUEE4b2hjNWVKUkp3cE9wUnNURG4yd1NkUGpRdmlXYTJiOUtucnRPeVpXOEI3dmZQaTJ1MHJlM09Od2s1OCUyRkxDdVElMkY1RWw1TkZmQmpJM1dNYnpMckJvQnIzZDd6YjE0OWNORWp3Mkc1aXlCWW84UUZUNG0xQ1dtOExqbWtDNm0wQXVaSiUyQkZ0REozWiUyRnhHYjAyalBJMkR3NTBmRyUyQjRwOW1GdTRDTWJRVzRramFpNGtYRFNoUzMwcHlJeXFzWGd2eWJoSHl2a0lUR2prRlV5c215aU9xclIlMkJBZWw0V2xOcWhjZnQ3cHNLYmQlMkZYancxT09SU2hrclQ3djc0bmclMkZBRkZId3ZrVjZFTmhKRCUyRld2cWR4ZVdYcUdVR0lSZHRQV3lCdzNpTHUxanBLcEJBeUQwRzlwZlA2clBsd29YVkl0OGg3MlpSWk9GdDFNUWJhekgxZnYxQkFSTGMxQVRZM3FWVVVWYzRoM0VXJTJCa0JWSWRBeE5VdFk3bGx4S1FnUHEyRSUyRnJGJTJGblFKTGN0Uk1tYTZCRGZyZDAyRXIwV095cmV4SFZSUDYwMlROciUyRjdEYTZsU2ZQOXdTQzdQOGdWJTJGN090Z0pJWTZWbSUyQjBVbFVaTGNoajFRdUdUS2pyN2ZRY2lCZElOVEROdGJYZFYya1k1bktQcVFSTVBYSVhKWmVhZWl5THNabFg3RUIwOXNrZUpqcFhkQXhWUWVjTmxYVEE1VU4lMkJyS2Rxck5yWHklMkIlMkIwUU53c1lvMDlXdnI0TVJ1RGd0eURXcU5GT3lkUVZQaiUyRmhyeE5pQm5MYWd0Vzhlcm5zblBRd0t0WiUyQmFQQWMwSEZ4VjhUVCUyRktmV0NrMUJjNGE5d3dFekpNdVRpaUdFM1RCdyUyQkxOcE1yNSUyQlA2RU91RzA0QjU3T3VOJTJCRjExNVdXSTRMTzd4ZWVzWVVFZnY4Vzg4YTYlMkZGZVJVOUZVWG1mcHJRSDhEJTJGY0klMkYzeHVJMm1NYXhSMVRUMVFud01kTzh6enpoMkhGdCUyRmZmcUd0JTJGZzBlc0pPanJKUmFrUXdsdTZFR3hxNGdMT1F1RUZocmREU3o3dFV6Znh5c3lOV0NHRDR2MEptT0tKaUhCWDdwTUJaakdUTXNxa2h6WiUyRnJKWDF1M01HZmJqaCUyRnVscTBoZmQxTDl1bk9pa1ByM285QTU5Y3JORFFvWmZmRzlVQmNJTnZ2SHdrUHhsRVhoTjJUcVlYZG1LWWFQaSUyQlZnT3Y1T3lvQndIZzljJTJGMkVEdk5QWTk4WXV1TEpyVVR3Um16ZE9uVGRsNWZ5bHM2cWExamVWSEZMMktGYzRDYk91NXhVWVRDdm1QNnN2eW84THBjOHNNU241ZFdGR1Q0TGtBeElNWXFWSnQwVFUlMkZJNCUyRksxd0VZRGRIRHhER1B3JTJCM1g5UE1HV0lGamtxdFNSNDJkb2thdFprYTZCSVkzdkI0MkljUEc0OEcwaU5jV0NuUm0wMVklMkZXQUpqSVlQcTE0M0RFWlBRZE1Tb2J5QUNnZkRad1NxZkYxQ0VYMTl3Vk9jRDQ0dTFLR3ZYcmw4QSUyQjZ5RkZGckRUZGJuWkJodWtTREp5aGpxbnZtTlElMkIlMkYlMkJJMGc1eThKVDgzaldWQmxZbiUyRjdlNkVERWV2JTJCdHdKOU1xbERzbVdOb1FqMU9RZEpSUldQMzllSSUyQlJUTElQNE5OQzhPUTRITlA3SyUyRmdVc3p1NWxVeDZJa2NmN0xIV1Nnem5UUGt6Ym8wOFZPWFFldiUyQktLNnBLcEJCTFZ3MzlONzZyNW83cDhrTiUyQjYwZVloeDY3dXBrSWRtZlpHUXI5TzljZEVtWnpWVVRtVWNTR2YwaEM2NzB6enNqcDU4VlM2R3JMZjlYam9JQktMaDVnYjNMRGM0cVpjRXdzemx2ZXhCRkxVTERKNUZpMHElMkJmREI4MGkzOG5SdzliRFVnUG1oRDdDJTJGVXFhSTlZYkRIZUhJa3lHMjFJMm10ZDB0c2VNdTIlMkJja0VMMW81VGtvZ2lpZzNUbWpsVlpHUUxDQTFMZFVTOThKSUZOd241a2RQJTJCeGtkSjhIRDclMkJzcG83a1FCVTB0NlVNbFM5QmRrMyUyRkluJTJGaXl1bHZDSG80U2lsVk9NeXA3a2NPTEQ4Y3IyVDhJRnUlMkZRYnRScjFpbjFMOWRDZHp6JTJCaWo0TlJmRU9RSFdhYiUyQklTUTdNUTVack5nSXc2TlpqcnRKTmR2WHFqbiUyQjVmcGY3bjI2SmdQMUJJJTJCTEZqJTJCWmUxdVRRWUFzMVk2UjZFQmJya0w4SDJrUEU5ODFIWVNlejNnV2JKZkRadzM2QzZmJTJGMUZsdUxQaUpkc0pwQ1lpWVZxcmVidnRzNyUyRjVkZGZEd1VaUzFjdkFHNmtuekI5VU9OeDdqTG4lMkJvbTNFRkI3VUd6JTJGeTV4UkpHVFI1eCUyQldNQ3VPbWJlU3F5djhRZGQzdUpYUXB3UmMlMkY1cmhmUXdWSWdKRzVhZHZXSUV2ZkNmbE5VY3ZtZGs0R3ZFRWdDZFlnaWJkQWpvZHdqVzhwMWFXZFJnJTJCV09JN2UlMkIwZ0kzMFNVNERpaiUyRnVQTDVDaDlDaEhUMEhPNjh0NWhYemV0Y1R2cFdYeXolMkY3Z3NmdmhJRDhGamM0JTJCRmRMaHE0anklMkZ2dGVHa0NZUVdyUG85WUJHdUc0ZU04RSUyRkJsWXV6Nmw3UEtpTmhieW16RDRlTmMxODNiaHZOMjhEWFBqTWRZYkhUdHo4VEJOR0ZIRmwxZ1RxRExmWUlWaUJ4cEFrc3pMenF1bmdsSjQxS2ZFbmo2eEZoc29EcUFyeFdMV2cxY3A5JTJCb0ZsM1JWQjljZXp2eDkyVmdMeCUyRjIwUDdCWlJXUFVQcUpKdXZKdkh4cmVnJTJGMVRTekFLbnVTb2t1YmtYS1IyUTZWNmoxa1pTYXBoZHIzY3olMkZDYUVxaiUyRmxiYTYyTFF0VGY2eXR1eTlQTDc1T1NmbjdXUGtyWjluYlcybWVvV0NXTmpnYWozbEJmTDdOOTdxdzEycnF3QmpNamtSd3lZJTJGRU9LQ0xvc0MlMkZ5ekFIJTJCb1lneFl5S1g3Zjc2dXBsaSUyQnJZeGglMkJuVFE5cWRzZTFWd0VUWkElMkZzUVAzODU3QmJ3YXJpOTdjbkY1cmViOXZsbHhiNUJWRHJJM0hGQk92TjBXMnR5a2hlTDlEdmZnJTJCMWxXbEF4c1d6eWwwZllQTU5UMGtCaG9ydEx6U2FqdDhUTGY2Zk8zR3FudmtWUmJ6TkdRUEdZdWtWaFc5S1BFU1N2amkwd0VMZUIxbVBuRnJ5Z2JhSnZDUVpiRGJBem9XanVZTjRVVmlrRCUyQmFPTnVUWFhkNEhBMVB5TnZWaXRwWkxNNmhZY1h2TjZtYXRJdHlITTBKSUtQJTJCMG40d0Z4Tlh2WkJLMk9CeGlvZU1wb1RTSHBzblhMMEtoV0FmemtEU29lc1JZbGF3YkxXMm16SlRWTVFrVldkSjE4TlRoT3B4RnlIcTZBYzFtRjRBOSUyQjFxQmlHTTJJR0tTU29GN2hIUk5lciUyQnltclRNTk5wNHVVMm9nJTJCQ1V3VGVLbHYyNEh6N2ZCUWRGQUNBaWxZSk5uSW5RdEg0SyUyRjVsZXJ0aDVXRlBEeE04eUN1YiUyRjhBVVBsT0R6NW00WUpIcFk5NiUyRnhvWHJjYXVobDBObFNrd2ZKa0FZcW4yVXQzeDlmbDQ1UVIlMkJ4NCUyRmtQUTNUZGdGTnU0TWVzUjNtOCUyRmlMYkxJR3VmSWc1TjVtQklnTGU2Q205emxZdnZiY2tHVHN5cGtHR3JRczdRZG52ZFdtMThEVkJZWnVSQWZoM2N2ZzgzMjREJTJCQ1VhSWU0NHQ4SlVHRHpjRDZWeEdLd210SW04dDdOYzZPdU1OZ2VNUDFFd0xnbU8zeDd0dzlZa25Sc2VmaWg3eEI4ZnBuemlJYlhDSVRWUWtjMUp3VThNM3hsQno1Wnd3WCUyRjFIWFZrUkxnaUgyOHFxNzA2TXd5dlg2MVZYTGgxdnNqdWhTTDE4d3JORFlJWFNQSWNPODQlMkJTYmtjbURwZ2ZUT3p5eSUyQlZkbFVaNXhNZCUyQkdsOThla1pidWhTeWIwc3dRd3JnNXVXd0N2V1E1bDNtdjhaNVQ3TFglMkJnOGdzJTJGcVZXYnlPTTZEem9SWk5EOSUyQk9ac2NlUkc3Z2lTcGF1RHMlMkJJTDE5N2MyT2xlOTNnWjBDRDBvbXRCMTQ0Z1N4ajN5dDBwcmxoTkR3QnZZMUJMcVJJJTJGZlBPN1NSRHVDR0tXOTZoT0toRjhPM1pMcDlZcGhCRG44ZFdwUDQ1ZGxoT0wyRXFFM2dmYlJ5Y3A0MlJLZHBJdEFNSXhwVXd1VWlyVDE4S1pJQkg1RkM3VlRRUThDVmNvcGd2c3g0M05HQmNPeXlVMWlFJTJCNnMlMkZIemRpUUI2b2NtdmJSU0FiVzB0eGtNZ3dwZnFSZ2Uxeng2eVlyVlJsaHYyZU9KT2VvSFFWWnNZWnpPdlN5bGtIeHVwcTElMkZyNmE3JTJGdk93bXRTJTJGakxCR3ZNUjklMkJJJTJGbFUyV1dLOWl1dWx0cjlMVzY2eXR0N3drNXUwRjk0Zmk5c2o4NXloUjFDdHVYU3k1JTJCclRpRTVTSG5lZ2VDbzZLVWd2NjdTYWN1ZnolMkZIVXhZeUVaQllaTW1aS0h5JTJGaE9zJTJCajl3JTJCZEJHVW9qM3dhZjNuN2slMkJlSDk2eTFjM0pyQWFSM3ppQ3NnZEZMMVQ4dEJSWVJWOEl1Z1I0bHBFSzMzWWJCSjhLYjFHMks2Rlc5ZFNQSVFBMTV2dlVUWEw3Y1h3dU9oeFBhTHdPR1A2MHJWa0hMdWluNTByY0pTcjFvZFZ3UGY1c0RCMkpVblA5SVZOSDJtRlo2NDQ4WUJCVll2TG8lMkIlMkJnaFhyUmI0NHBiZGpYaUJBNEljQSUyQjhWb0hWMiUyQmRZbkxqbjh4cjVIY0tiUmVONXd1MW9rTG5VVWU2QlJOMUVKaFJtQ2IlMkZoSDdMV1QlMkIyNnBUbFBnbVhNaXNwT0JvJTJGdXdBYUlYY1l0ZXk1N1A3endvNVY5dHlOTFc3d2xVbjlDcHprTUYlMkI0TUpUVmk3TkNEdkNxaEllRWh4cUJ5NVRiT0FIakMlMkJuMlJReHBsNldKdHFVNjVOa0NlQ0s1Rmppa24ydUR0JTJGSHpmRFhOJTJGaUpaU052OEhGSE9TNkZwRTQ1bDJhb08wUFNzbm9uJTJGZSUyRklteWNYWUF5c2k1cElocUFFcHdndmJQSTlMTG1OZEUlMkJqMmpZJTJCWnpUZGlyTFBDOUNBYTJTRDhXN0tVTlc4TmRrME1sTmlNYmpTMXVlZDdqMXhmRGRQMTY3VGd3NTdNV05IUlY4UGw2em42cEN3MW1DaVFnZ1huYXFEWHhWcU5OcHBxJTJCMmhHVktsV0tiZ2tWcHJ4Zm5GRkxhR1h4cXk5REU2cjFYR3clMkZhUGE3cWVVck80c1Y5bHlvVDZHTmFvTkQxUlliZiUyRm1hNyUyRnNSUzhCdWIxWTBiR3llMFcybFR6eld3VEFwWDRFRENqcm9Bek5lQUJhZ3psZlNqOXBJZ29OempnNkpNeVd4cFprVlNyViUyRiUyQklYV0o4VUhEVGUyWmVtNkk1Q2I4JTJGYTV5N0RFT3NEV1BHT3ZQSTN1VGZveTY3aWQzSjNNWFBZWlpQMEUxWnN0amVhYW1VRHp2azQ5bTFkM1VLUjl3VzZZMlhtNW90SWM2JTJGR0E5RGVDR2lJalZvJTJCdUQzV1EwYzBZT0I2WmZSaHlnam9SOU5uaEhBRzhqYXppUUNnRmN6cFR2TXNlSDZ6M3BzZnpvcXp5SDlTODBNWWdxclp0ODZUaWduZ1F3ajdlb05SM2FxdXNSTHdLNzZLS2VDVmF3SXRodXVMNUlUOXdOMnBtVDJXd09BaTVXWGFnU281MnIyQTFGMGZsNEl2VW1UTUJsSG5KbGtJSXB4TDJOY1BvdG05bE1XRUlxakY2TDlMZTJGT29YUEdSMWt4OVlNMWgwcyUyQjcwTjAyM0wzdSUyRk00RG5nJTJGRFA5R0QyaHhKOEh4MmIlMkI0dk10aWN4TjVwemhGMGVXazdCQm1CQUhkcUFraGh1RkdWcGxsWHpvNmdlaiUyQmFtRUNtWCUyQkpzVDZyYWNYdmQzaCUyQnhTZWltWDFaaGVwWlhCJTJGQWFCWTZXU1k5T3kzZTRiNDhrb3UyWHdZMjJWNExZZ3VDR0N4dmI4SzNZTjBBZ1owZTcyZ2YlMkZldENJd2xJJTJCWFJ6aUgwZXg1c09jSVpqTDdzOUR6bDVycWxpOVhnNkM1SE9BTUVBd2JSVkl4U2dReFFiUE1iJTJGeTE4NkdtYVh3ZnR2RWJGMnlBRmFIdndtajl0VkFTQ3o5ZjFXdmw1JTJCMmR1bXUwM0hmT2xYVTF0c2xEbWJzbTlFbHlRMUM5alZtWVBjRTFQejFjJTJCMElOQ0hRNmd3d21yJTJCQWM1ekFuTzVpSVh4V3MlMkY1cU5nRDRDcno0JTJCM3ZyNXNzcHB1TVBxSWhqMzdBRVhrWGFPYSUyQlBJbWhKRUlNJTJGb3RyaThGanclMkZnVGlHcUd6WGhEWnMySklzeUtrMm9HJTJGJTJGa2tCb2owWlBZSGtleUdpOVo4WVAzZjNkd21CTE1yOVhKcER0SjQ2UjhVRm96UjRxOSUyQnBxOW1LVHdJaTQwMzNrQzB2SEhTanFOWVVIalZBZTVqdjhOeG9jdk9abXZ2VXBzQUFPMHNHM1NWZGVmamE5MDBWMWo0TFBWeDd5ZW41cGdqNGswME81dWFHWU9VNGpYaFFVb0t5UDIxV21YNVpzN1dpTm1NZ3FMVVBSaE84ZmJsbGk4aEolMkZHY2JSdWQ3VnpTZXBmaEFaU3NUeTc4SmtIMklMdXVMdm5vcFBlSHFCdkVXOVNsd3pQdGdUOEE0TWFKU1lnb0RqcDlkQnJSUHVmQ0dmMUVMV3puN1Y4NVh5WmRKSExoRHAxVkVOelVVUEg2YjJiTUFhdmljTHElMkJCVHluMXp5QmxiYjFDOE5VNlRQTFdUMDV4YURkZ0p3NW9RTkRYcGhmOUZuWmlUcEtIbjJGYXd1JTJGNUdkTHcxa1FLZU9ickMzJTJGeTRFM2lqOVphJTJCOGRiJTJCdUdidFVTVTZFNiUyRks3bGZBbFRRSk4wREN4VHJYalZ6S3pwbWFTM3Nzb0VpZE5OSW52MWdicWtwbzJwdCUyRnQ4bjV4TFhmdzdSODNQVlJJNThCZVRCUHB5ck9yaXh6dEYzUkU2QTd3RjNiOXpQblJFQzhjeGQ1eDUzelY5MWtGQVFDb3duMk1iQVRsJTJCJTJGTUt6dGhNbko3NG9Hak1FY2k2ZE44M3RxUnpaaFNWWW1YRmVjZGFaWXpXRjRBVGEwbDVxa2VNUG5CNTh6NGlHTUxMblRWWXQlMkI5eiUyQjZVSlREYlZDTE9jeUJjV1dEY2FjZndnNDB6S0wwRWhHNmRxN1NxS0g1RnZpaEhEaGFzOEhMUkF3RUNUQ0FKVG80VThLRGlMOThBN1QlMkZMaTVQSFdUNUhtTTZVMUpLWUxyJTJGVUtJMGpVNjFkSEh1bEg0UmRlZU5oSkI2MDNCOUk4WnFhQ3h0RjFWamIlMkZDJTJCUlUxUk9aaXhnJTJCcHdvSjBPQ3diNEJLRXpKZ3Q5b0RSbFJWWXpIUjVmYmp1VlI3NFFGR25Za3h0YiUyRlhpSWlpeHFzbyUyQms3Wnk2U2JjYXN0JTJCVXJQc0olMkZ6czFSbVglMkZuQmt3dVdVQ3JzeVZVbWhNQWZJTktHWFRxSm82d3QydDclMkZYTjBXSSUyQlhyYVlLZWhsZjByTGF0ciUyRlVDTWxBRzRIZDZvMkRROWwlMkJ2bXNKRWV3ajAzJTJGJTJCS2N2V056Z1VjbjFBczdSQm9XdGVHSnlreURENmZFbW5FaW9aNSUyRjd0eGdhQjFwZDJmUjJVYzlvdk5HVTA0Y05vRkJac1hoRmdRS2NLdGxBRHdRVXBIQ25oNCUyQnhOJTJCUHJSV1BaY09oQ2R2dmNWUTUzSHFZTWlZJTJCTTBkNWdZaUFmNGUlMkJnc01lJTJCaiUyRkdwblAxS3pQUndwTW1YYm1KR21YaURrWFdkVndZNVpjelIwaUh1ZndYM2Jlbk1sTFNHY09QJTJCTGZsZlZwJTJGR0lsanZYdEFkYiUyRm5EYkZBb0JPdk8lMkJOVHN1NmZmUHlwSDNPeTJHUHBtT1YyVjFKTmVSTGg5UHBzVjlCemllcG12T0prb0pmaGNQZ0JOZzBmQzJWbmpDMlJMcFB5TEpQZUszbUVPbk9rcFl2JTJCMjZHVnRWdzN0NDk1em55NkdvRUI3M09YWDhTUTIlMkIlMkJMVkdkbFpzNUVJVkJ6RXZQRkVmUFJIV09PZ0d1QzBSOUtrR2JMTkhZbzRsZUw1ZU9xVzN0VFg5WktNbGcwY0EzYUdWQmkwdHhjTzFKQ01lcVFNNmRRRURzMSUyQnl0QWJsWWN6WXJKSk9mV0J0ZW9kZ0VnTGthcXFjUzIwbjJqczd3ZFFSUVJFdXZBMGoydWkzeFpnaW53ZnJ3R1VFSUklMkZ2aSUyRkVWSTNyUUNRQktESjBGQ2RDYmhxbjNEV05rTzBUUWdOZmxMWWRiJTJCVGFacndpcURqQ0oxZmhieDdhc29rNElMWmF2bUxOU3pYSjBDdzViRklJUXJCblRXTmc2T091MW5JYVZaMHdNVVdkVnk1YmtCJTJCWHJNJTJGQ3dwYktIdnNieTQwUDFHN1Z0cndoRTVXWkNGZXhsYmYwQkd0Nm5ZMEw2b3RXUXkzc1RRTTMyNDU1N0NRQ2I1SmU1UDF2S2ZoaUxrRWV4OTNEVVZzY1hrMVVlOWVaZ1NSc0xuNEdjbDl1VnRObW1VaXB3RHI5NTNtVjA3amZUWGNrZTducjJhbDN2cyUyRkR0WHltMFlDZDFIWkUlMkJudHY0WGtHbklJQ0Y0YzAxTGZCVUlKbHZyeUtQdzdpSUNpTXBHWnlKTUdiSmd4VUF5JTJCd084S25TNFJXMHpNOFFRWUE5ZnkzSk9kWTVxS2xnUjMxOU9Kbmt0RTdXeHg3VHF3ZlJ6eGVSdktnSnRQMHRMWGVIRkM3cTYxMGtnNGZOU0pZSUROeDhLeHBqenVsc20lMkZKbERFVCUyQmZiQTB2V1dSSUhjTDJZVFA5M1A5NWl0c09vMmFrS05WcnpKRE9MR3c3MWRKbkdPcDRQcjVydjBlcXlxY0lMVWx3JTJGdlgzcVlYY2UxRVlVY0ZuaGpmcGliUTdCdWxYUnAza1AxU3FYcjdxTWdDcnBST1BtZHFITzhDbjhpTm1mQVE1dXhoZHI5R2Vpb0NQbE0zJTJGTmc2cXV4QmRua3g4V0pRcnFTeVRVNFUzJTJGQUl0M0V6ZWtJb1ZHclZEM0JtMEhNcUZBbW5GZlBiNUNPSGlwaFV5OCUyQm5pOVJMSTZyWDBzNXZoekk5UzZ1d2w5djBuNXlnSyUyRlZxZzJwSklCemNaVDFCdkZpTGdzVGNYUU5Wd2FtdDRvdE1hRzNQVlNQRGZWcmp6TEREQlhHNm9TVjQyeGx0THklMkZncHE4S0Fsa01aYVBVUUdFbXZFZ2k2amVSSm5pRVhDR0pmOUZrMFJVNCUyRkpBekdxVWVqdjdQZkRjcTVHT3FUcFMzbElyV1clMkZpbXhJQ042NiUyRkIxa1A5bzRDaUYzaDZxTm0yNUNmJTJCU2VjdWxvZUczTXVPVXZTZXVOdkJiTWRWS0w4TnZPdlJ1UiUyRkE2M2FXTGlpMERibFFIeFFhcGVBY2lLbE95RlFQJTJGcU5VTmFXRXo5em82bW5hNkF3TVh0JTJCJTJGSERTdFV6bU5IVVhxMUlXZXE3b1k5am1vZHpZM0JtR3U5VldCdU41SGExRGMzTyUyQkx5OGRjJTJGazJ4eXQ3ZldzNzh2WVdNYzBOcWclMkIwYTd2WXFrRERrMGZmNHNHeEwlMkJDcVhzaFpPUzFFN3M0a0lSckowb1VpTVJCWmhTSWtmU252ckN1UlB3YzFpakR4MWlKandTTXpqN3MwOXZPVSUyRjZ1NHlUMHlrOSUyRmplNVljZW02c1A2bGJ3RVlzdVJFNUlvS3NLM285QnRGOVZXSnc0Wm5FQnQyVFRtWE8xNHN5ZEpza1NyTENkeDU0aEclMkZMcjA1Y3lCeEtuWXBlbW52SVQycEtrbkxId3lOOGFWM2RkMG9ZczA3V0RoMUtGZ0JhTnRlRDZ3WHRJbURoUDZtRVZ5TEFoJTJCVjJlUCUyQlg3ME4lMkZmYWJhVFI0TW5OZnZ3aHBkOUVaeVRLdHVGZ0t4cGM4bVhHcUx2Q2x4WlNiSlFiSTJZbWNUV2RwRm9qcUMwaFZtVm91JTJGVEZSS01kQkdFSmFqNEExZE5zUlNHamswNEtGUDlLT2Ryc21tUUpYblk3ZG04dzVnMHhGRUcwbVQycDdrU2ZSOTYlMkZMOU8lMkJ3dGpUJTJGTkltN1JDcGNTSUI3UXdQdSUyRiUyRmVKJTJGQjZwUnRvaEdSJTJGOUtMYWZtTTV4JTJCR2xxNVJ6S2Izc3F0RTJQRiUyQkJpcFRSeTlycmZUeXQ0d1klMkZrS01PUyUyQkE4QWZ3WmRZTEhUMU01VldidnFhdFZCRU9aVHVEVmVJcG1tdUxIUFYlMkZteEdXc1VMWWxrUTlIa3dCQVhQYmZ3NFBGazNZc2JhZElmNXgzNE85d1JBVVduaCUyRmtrQnhaVmpSSjhOUXpCSExXZmpYeklXWG1VdGFuSEdKTG95NEh2VkYwSUtodjR3N2VDUmpsSFhmUVhGZE8lMkJrU0ZZMFhaRFhqSzdZbnlHWGhzczZhWHdaTWdCcnNKUVQ3bTRoVEI4MnZTM05TSWVYZ2hJVzVDJTJGb0ElMkZXRDJCZFU2cEFYNU9ISTFPREdCdDZadVd5aVY2SDdmZm5jOXdOV3A2ZlloU0dKTDRqVmhKakozc2l2ekg2ZlFZT3F2eTZNSDc4SjI2clNLREtYenU0OEI4Z1VRNjY1NVZTYnBFVGh3bSUyQlQlMkJvTTRiSEJhZ215SDRCY1RaM2UwOGRQUlU4S1JCcDdzOGNNYXVTOWc5OFd6VyUyRjYlMkZSQzViclZ1T0dYZ09XOEdYJTJCNmJGZ0R3aGprOTZZNkZ6OXg4ZXptSVdrNjVjZFlHY082cDJWZlY3b1BNdUM5aW00TCUyQktsVFJBaVFHN1VqVDBwNFg5Rll0JTJGRVJCSWxXQ0VONlVhNFRwdEhnejFIektleHFITkNab0RtSkhXUTJIMXI0NmNYSkl1dXZnTm9oTWE3cTFkTzljaTVJZW02JTJGdjYlMkJ5JTJGcldpViUyQnVrbyUyRnc3VXpYcEJUSHl3eFhGMlFvc3dxTnllaktzbDhSUUMwMDJzTkZLSWowUnJibTVRSjE3NiUyRnVWVTZsTXNNc0NyUUJGbmYyWk1RaCUyRkZYNGVGZ2RnNlVUdWhya0pubUgyZG9mSnJCNVpqNDZkN2M3VXBqZGx3NGRsVUdYdlZ1QTYwSVdJQmwwajVGSjFFM3RFU3hLOTlFc2RTZG5QbGpnJTJCREoySVBHeGFrSFBWMjRPRCUyQmxlRzA3MjdBN0prSGV3akREJTJCVVdna2NVVyUyQk5ZUG5CQUM1amhnNmJRcUNOclV4ZFNCaE4yJTJCOU92NnVuYUlIJTJCbTF6VWZhTnR6cTVvb2JQTXZ2ckUwZkVWa3BpalVFbUVBb1AzU0tlWDJFekFkOGJWVThpZWRFVjhhTTNLRWZVcm1VemhZJTJCbVNOUEdKUTNvUk1iYnhmR3dITmpvTjY1JTJGMkFSNTZFcG1MbkN2T3lHT1JnZmNwRjNOSU1UVmJvRHY2ek95RGtoZmFEcHZnOHpWcEJxYUlEd3diQWx2ZFNjZVJkdiUyQmJ0UThEcERPUFQybVhxNE1Ea011bTRMSkY0RU5nZmhFTkhnJTJCYjdWNkVqUzEzejdmbzljNExTMlZhMVNsTGFHamdFeVp6OXN6R2hHZk9tTjFyM2xUajVRT0t6eTk1aFBhY09BbUFuYXRodmYyd0Q3Nm5PZ0VtY3JzVnRWYVA4ckNodjdpRFl3QkttbHJRQ1NKSGJEVjkzWTg5Z3h5Z2ZaYlpIR2FBekoyR2NWTnpkYnpNSnNOQnVuNUxrVktWUXhLTG5SOXBxdWttOG9HSkE1ZVE2bFVpdGIlMkI3dSUyRll1eThsV2tRMGhHSnlaSUF1Ykdua3FtSWRWM3Bsd2hqd2hNSXNRdGtrUVYlMkJMSFlOVTRyRkxDNEc4RGhJNUZ5VHdMdEVVUEcycTAzb1E1aE9KN2VSYUNoU0lJeVJYWiUyRjlUY0RGQW44MXdadERGbDBaWWJ4VmFDM3dMSFV6ck5xQUt0SCUyRjhnQUJzc2Q3b0xjVjgzc1VqYjNJWFh4UDR6N1M3QzR6c0dJM25MYkFVUCUyQmh1RU1jdTBycWtVYUtTUlJyTE9nZWJPMzVPRWolMkJZVjBJYm00cGdkZiUyRmRUeFdCdlVEM0RocHZTMDRlZGtrdGVWbDl5JTJCZ3FsWVRLcU9xREh2ekR1MkYwVHV6R3RYWXNZaVJZMXdCN3hUWXBOdHpvczlaJTJCOW5pRkl4T0E4QnJhSkJNR0lNWDJQb3pLc01YRlI4c283SVdERmZXVzM1Qk5MUWtNN0tWQWpKaXJWV21MN2FXSVllNEltc29FcUo5UWo4ZUhQZ0pGRVk5dk1KViUyQkVscCUyRnhZYVRod3ZEUUhEaTN1TVElMkY0QTdXZWkwSUxLdDEwTEhVU2FYb3hEcWRhJTJCWVoyd2RTN1l3eldua3NRU2V0cnc0N1EyUWQwZU00Zlo2R3N0RkZsNHBNa0I2V21BJTJCWnd3ekl5VSUyQmhLVG43JTJGajU1YUlpTyUyRlQ0WFhyY3F1Wnd6TEdHZWFiUEttdUhQeFY3RUwlMkJZcnFZN2NuZ3R5UGhpUVQ0bTdvaUVFYThIQXgza0pkS3olMkI4anR3Nkp6UlJtdTc0NllMWnpUMjVjZVRxaXFSbXc3b3NEcjJLeTNsQXRXRzllZENRYXBiWUhtMkZqdVhRUWJoazBHeHl3NmYlMkZkWlpsSENSVDc5OUhKT2clMkZyTzV3MCUyRmE5dEhaV3pZdFFKVzhVN01Vd29wNVVONUdQV0xDMTRLVVRkSUtmRWlOUktQTHZ5QTJ3VUxEdTVQOFp3V1FjdnczMW5VQThIUzY4eDdkb3ljVndoWFdmWVhaN24wczMwJTJGcUhHZVRwd0NpQ2czRUpMeXRaeDFIUHlSOHpvMUtwQ1VmRTVEVEFSR3lLWkQlMkZEeUNHSHBYYk1GNDAxWURGQ3AzdlhFeDlBNXR5Y1Q0M3JuYlo1ZGQ5JTJCT3NYdFBKVlVESmIwYUxJa0lzNTZTSUxPOFIwZ1dvaXZVVzJHMkROaklVQzNMUmlBc2l5RktaekxndWgzdzlTaVBkNUFIJTJGWkolMkZoNEdTdSUyQjdKTGNieDNkRFV0eExhY2FuRVIwT2VHTjJhJTJCcmFrbWJUSWh1d2NCbWhyblFMZVh3NWJBdFdCJTJCS1BGWlRLTGM0WVg2NDBvZExvMTRCZDRFS1Qwc3Q2aWNEemNXa2xxSVFmV3NWaVdCdXdwUzNiRDNqdE1mT2pZJTJGQ2hVajFBUERIcnk4b1E4aW5vVTVpSCUyRkZiTThPaTJ3UmIyejZCWHhaYWZCNlczMzBodjMwcmRxd0lwSllEblV1Umw4UCUyRndXVEdQZ2RINjElMkI2RDQ2RTczUURSY2RETlJ1c0ZKbW90MkF6YzZqYXdqQjUxbHVtUXdLUnlMVVdSM1F2ZExVVTgyS2cxNFdnNFpLeERYTDl4N0RLeWh1d3BwdDVvemRmelhGUmkyQzA5aGtIQUk4NG5sSHVsWCUyRlR1THRydTc1ZUdFQlZPejN0TmxDSU5QRDl3ZGtZSENPJTJCd0ZDNVFaMGpSQ3g5UWVlb25EYXRjRzVwaTk5Skw5TEFtclFoa2dpUHRhaFZyWUE2ZEUyT1h1WWIwend2a1FVanNSYWh0dkdyZWUxVyUyQjF5TFJseW1sVXVDQTVabWIzWnpGbUZ0VjlJWGo4NjduV0czeDZVMmc2QTZEMHFHNXJaR2hIRlglMkZKOTFWek9IUExDRThQVmZrNyUyRnRLYVpBV3dTQ0doM3hQa1g4UnZyQ2VJenJiSVN4dG1oSnZnWlhNNklGVzU0NlJyckdaVWdRTSUyQkgzSkNjY2xWOFFKVXc5bnp3WFhVTDd0YjljQjVTZTI1YjRFRHNFNUh1OXZ4RTZ6MFNXNnluYjExM3F5clJBZzYzdHgybjB2RDZ2aENOQzZQb2p2S1ZYUlB0JTJCVk1UVkVzRkdhd0RuM09TRnBOTzdyRUgxQ00wajFJUndXMGpNN0JFSXBVaE9PZ2VqOTBGS1NRaENYTzg5Q1BiWU5pVFdoeE5iOEpOZzdycmMxT0hqNnVCcmZNR2Q3SThCMHVpWDQxcjNrY3dYdmRpVHZLUHZtaVVPWG5UV2IlMkJyUmMyYWt5a0J1dWs5NURKcWREbEFhcGFuNTFldTB2VkpPRiUyQkElMkYlMkY3c3FReEFiUUxwQTJTMFpZandBaThtYjlHJTJGOE9uTFhXblVZU0p5WnIlMkI3YVZJbWR2RE9KOURzakg5a2RMelkzSGplSU9heDh5WFc0THpUZHpkaTYzdVdXaHV1WUFvWDQlMkJ1blZaaGlxSThiQTlOQ040VHRVOE5QWmtBZkVqSFhjJTJCWjhaMjBEMWpzJTJCNjB0SWllQU0zYnNGanl5VTBoVTVKcTl0Q29mcmNhJTJGOEhGZnpyMnd5biUyRlUzcVVQRTRrazlpZDUlMkJ1NWZDbWo2WWhSRSUyRnUlMkZ3MjQyT1I3MnpMaGxmYkpSbGlDRWFCZjI1RTRvRk52cUJpd001UDJJWXF3UUY3MFglMkJSbE9xYkVNSTR3aXhlOE9IdjNscHpnM3IlMkZqWVoxJTJGTDRCT2ZUR3Qzamp0RU5vR0hlMjRKbGl0Rk5JSWhROGZTcU5YWTlmV3c0VnZ4a015dWYxbWglMkJ4eVc2SmY4SEtXOVB4Nmc3dkNDVzRiYkhkNU42U1FtViUyRjU4RXlRYTNkZWRoMkVrSERXTjNzTXVMQTlDTlFGeUdDNzhJTDBlNFhVczMlMkJyOU0ydUNpUCUyQnhRamoxUk5jWWpYdUslMkZLMmVyJTJGUTk1M0xFdXFiZHQ5emVzbkhwcDRuM2pidzNzU1NQelhQMWJ1bzZ0N0k5UlJoQlJxcUhOT1ZlMGtOeXltR1dQYVkybEFwWnBjTm1SMThYNVh5MSUyQkQ2Z2ZvWmUlMkJUSnNSQ0I1QjQ5N1lONjZIRDQ3akw4ZGE3VE90cUhiUVl5Q1JwN2YxbzNWYjh6YWYlMkY4SHRKRkVXckhqOCUyQnI5OUJheTNiMTVGNHRzakNrMm5aWXpCOGhHYlhoeVhiRlcyeWVzUGJtT1pTcVo5dWN6SnA0UzVKOUJ0ZkV1WkxnZUdUakVtS2hId3FxJTJGMUtJTEU4THhRRHB5aUU4VVAyUUloN3pScllmTGVkQVRDUSUyQmRwJTJGdVZmTlRNNmxDdXlYSndlR1lrSHBTQ09iRXRERkxJT0RsZ2I0aSUyQk9HRTM2cFZxdmNvcVFHa3VzeDY2Rm1ncTZFRWlXeWFBeW5aSG9qJTJCTjF1ZDBDbyUyQjQxdTRhaHV6UGhBYjUycVB0bU85MXg5NHRRblhlSnpwJTJCMFhyVVZNa2pHUm43M0tyeGN3MnN2cmJNOFdDeGh4YlNGQTZMdloyMmhQdHFqUmhVbm9lRzgwcm1wJTJCaDNNcURwcHM4ekZPN3B5NXV2aW9tZm5iQWQyWmllejkxVlFMQTlUZ0JRQVNacmlxZHIxNGl3ME5Ocm8wc2NHaXZQY1JCMHNvcXdka1QlMkZoMUw0OGJ5Q3RQb3FYbjNlNkVSZmpVdjNVS05nc1NKJTJGckpEQk5mbDZiSzVaRHRaN0VYR1NXZGxwdEpsdTRJd3B0aiUyQmY2azJuWW5TeWNhJTJCSjBodkc1ZjBjY21sc3FDNk9KZ2ZLUklTS0pTQnJxRjh6Uk1WSWU5YUJKNjREbiUyQldGMlY4NzhEdjQ0TGpLdlhCa3VGWTdlVVluUEIyVzdKY29GSUVNWjJaQkVPbzlQN0QwdXJmNTc2MERwYVhtVSUyQm9SJTJCbXlGY3JpRURlS2ltRU5OZVpXQWY5ejBxdGxaWHZWR1EwNkRadXR5YkdkMElpbUtxc2VzQVE4WTJxJTJCUVNRVEQ5UURyRnRPTDNlOXU1eFJuTlczVWlQOVlOWWt4NGRwM2hXV0RVJTJCeERldHlPeThWekxZNUZMTHcwRFR2MUVvJTJCSURham1VUHh0UVJ6MldoNzFKSTNuNExBT2hCJTJCcGZ1eHViTENTbDVLcVB6TmhOeWRZanlpeEZDRE5yM3F5akFTbmRZUzRBSWJ3bVdTR1JZaUhmNDB2cjRyWld2OXRFWGdJdU5tREVuUjZ1clRuSDhLWHQ0Mk9WOGslMkJpYTN5QWVzSlV0Q1BsWkRGa0tlU211anFvT292WmFRSTZqZ24xeUV5MndpdVEzSmY3QSUyQnpjSXZNQTRBZE8xM0hUQzFsazBOSnJad3djVUtDSDlNN0xTYlhvRDYwVGI3WFM5ZXJCJTJGbGNscGhFcDJiSiUyQnVlTkR4S1klMkJTJTJCQzFtenElMkZSZVY0YzdLVEtOcDJTN0VvcGFCdjNGVjlBTEFJZSUyRklkaGl5RTNyT2NkMWlEVlEzQ205M01FdlQzJTJGR2l5JTJCUiUyQjRyZHppZTRIMzQ1QjRxNDFhV3lJOWNMdyUyRkdHVldUekY3VE9IZSUyRk1xU0c0MTclMkZYSSUyQjNFQVdyRTV4QVJWamdvR0pYZ3J2YlhPTnY4YUpCMVNXcWY0cXN0RGNrYTh6SE1BWSUyRno4ZlBlekZZS0k4VHV4VTJrVzRrdVNCaiUyRmVNcDcwakVDM0pqOWJleGhLMWg3WDdDQXV2MDh3SHp4eDI0WUxtUXQ1OEhxWG56dnpsS2c1JTJGT0R5TDg3Yk51R0N6dUpKRFY5ZkElMkJmQkdVJTJCZWhuOHZ1ZDdOUmEyaTRpMG5zTEhtYVBaSiUyRkhkcWZFJTJGb2FEM2NzeDdMdEI0eHVVVCUyQmgyampRV1ZEM3VuUUhJWXVwbTdJRzl3ZmglMkJiZlZDVWJzczl5QmlXdmliaHMlMkZrVkppdnFuTUxWVlo3MjV2YXhqT2kxJTJCWHpkVFNZVWc2OVlmVTM2SlNWOG9lcSUyRjRrQXEwUVB0T3ZUJTJCYm1WN1RkVzB4Q0lvQTZXVnlUWTlwajlPdGJ4T2NPVjJYWWZYQWVTUEdEem1SbHVyMTI1c3RlU2F6QmxFeG9HWDltQzV6TXB0U1hjZ0J4U0pNdEdCUHJPWGNWJTJGSmV2N005YTNNMWhlREl6VVElMkJSUkglMkJIMm0xQ3VMMVlZUjRlaU9hUzB0NTcyVXY4bG55TldoMnZaS3Z0RSUyRkhFMVdGOUNpQnFZYlN2Zm9SRSUyQnFNODNidTc4Mmw0UDBRV0gzMnVUUUtqQyUyRlAyQ2EwZEhXclpPeGt2QkxvM0hpeGQyRjNwUnBacXhVWjU5WE0lMkJLbmdaZzFpNXpCOXJEdWglMkI0OE1pdU1hJTJGaXgwYlRrN1RBJTJCVFR5VjQ3SUY2cmFqM2QlMkZRT0d5QnU1bVFFbCUyRm9SJTJGdlBCJTJGTWxhUnFBaVU3MDFEWkMwV2c3Y0J1JTJGTnkwd1FWaEpab3E0ZlJCY1kyRjVGenolMkJqQ1BmalI2M2ZGNTE4dGJMMmd5R1hRUkpjVEtJQzhNYTZNWlFXS05kbzBnVzdBbEpwVXZ3M0twbCUyQiUyRlp6aGoweDhlUWtiTzMxakwlMkZ2dEFGMWVDRlB5S1FxbmtuZmQ0aUtnZW5uOHhiYVJtbUgyTEo3TFJEQ3BFTlBrRFMlMkZyek1paU03Tkg3WW5kUFQzTWlXYzRPZDljUzglMkJWamNIN2JSZnluNG52ZDVwJTJGWDRvUlpEazRLTTV5Sll6S2h3VnJWMVNYZFJQTCUyQmdkTSUyRjFRYTVlMm5rbUx4WmlCUE5OM3NraG9KVU5QWjZMMnZMU1BweUhoOUw2ODFxNjhIdWROWWh0cyUyRlRYVFk0YnFlSjFsVmlTa1NKbWZVanM0ZmZBT0x5T1hYTGNPNjk0SHl5c1lFaXZLMEpqU1RuY0xxRE01aFBOMFZSWkVmTSUyQkxuOFZHNE9oejRtV3Vjd1Iwbk5QZSUyRmlqNUlvS3pLdzVINnZjZWt5TDhrUXYlMkJSVkpmRm1QWGtCQ0gxa1A3aTBRJTJGdW1Ia09rcmd2OXVQb1BDZWk1NTFyV3JwRU5zeUJHblUzWnJwalNUMEdRbFR3TGFmU1BQQiUyQk1oVVhFbWV0Y1BqVktOV2UwQjZRRWcyb016Nm5jV0hPSmRlVmJueExSeGNWeFNHaEdqbmc0VVVrUjYwUTJ5QiUyRnElMkYyQ1BIRHhtdEJZODNianlVWnl6MjhaYVdWZENYelBpbTU2UDBXSEcyb05DSGpWcUNqelN2dWtUNXFIS0JKT1F2YWxLbnUxSnpZV0szb3Q2RDl5RSUyQndycVNVZlM2YTNydlBTajlGNiUyRjduVWVQOGwxZnd3JTJGbUFxR09SdGV6eE90TEwzdVQlMkZ6a2xvcGRTbXVycFR1NUhlbXFWRGFuYWlNanlBeEhka1IlMkJQJTJCVUlHZXZTMkE0eXZackJWY0gxZ21QMXhabFRsYzUlMkI4SXZSJTJCUjEzR0Faam5ONVFWTTNZNzh5dnBpdiUyRmhVWUZZJTJGVGc2enFuJTJGNDNjdDIlMkZuT2VmUUZpYXkwZWN0M0U2SyUyQmt0NDB0NFdSRVNJWndjUGM4NWIxeEclMkY4eDI3JTJCc2hQMm8zVlpFbm0lMkZ6dmZERnAycVNSNEd2VDg0NmNHOHhiZVpKdkZOV1Y1JTJCSGNjc2lMWTZhNWRPRmRZRlFDY3h4anJtOEEzNjhHaWZCNU1UTW5jTHlKcTFXMGQxc09wOGo4VUptNFpYeTd2UFk3UnVCd1ZDZ2hLZnNWOFJLQlZmWlcyelZoYlFXOGJCRnR1Z3dySkh5UUVXRTd4cUV1VzBxNThuSkd2bjRqc2FpJTJGek5DWTZ0akJCa3hrQ3dneiUyQkVlUzZtT2o2Ylg1RnJKZXJRJTJGc21HdXBjYlVPakJLQ3E5elJQWXIzejJTaUNudE9QNFhOajlqYXBubEV2WmFWTUlxUVd0ZWRyMSUyRlR3RkZwRWFvRkRpdzRWTnpoQ3lUdiUyQjJrb0dPQzB3U2pIZzJwc3premJ0dWJSOUo4Tm5CYnFSR3VlZTklMkIxemI2c1lkU0dPRVczZGRPTHZCaUFwOW9TQkJ1YTJ3cHFlY2FEdTdpYUcxMm5OJTJCS3BFOWwzSzhGNSUyRkR3U1E3Mk0yRks3a1glMkJ5NyUyRjFlWDZUQWVxTzVZdnZXQU81RDlpOUY5Z0VDU0lSSW9QRFlvMHhwcEkxWkVudWRVU0l1QlUyWlprdXNlUXRBSFcyMyUyRlpBRVlHJTJCOWkzamVyMzlVUmhIR243YlN4dzRqZlQ2OU5lekMlMkY3dFJqVDh6cE1STnZtMndvSGklMkZsdXlCTUNTUFpPJTJGOEt4R2JZaWowR2dRMHRTNW5yJTJCRlo3THFKYkRRZmNJWHZibGgzR2wyc3FBTjl2Uk10dUNGb24lMkJaREJhbHpTcDUxemg2RnZIaGNiODRyeUR1MnZSenFualBSZFhsajMlMkJESG9vaWNzclNHRk11dncyRjNXUE9GTWVlZTNocElMNE9sOTh6UFBUSlU3QlJzTU9JZm1xNTclMkZ4ODVnWjBSWVpjY0tJYTZmalExcWtDSnE1NSUyRnVzM0g5N21BOXlxaElKd25SOTRBZlVZU1RIeGNkQ2NuZDZhR2c1cERVTVglMkJONUFOa0lMZFRDaEpFSER2Z3lsMXFYeFlnSGYwQnFQN2VmTm1QRGc2bHA0ekZUZ1hEQm91OEVQNDZuUGg1QWV1aldCTG9OQkE3JTJCWm1xak1EbjJHbGRVbyUyRkZrU1g2Yk9LNyUyQm83eHBZU2hHdk9ScGtaenh1ZHpPMWRueVEzQ2x2MzFNakJpQmdoRUJoaUxrbTBGbjNicnFHUDN2enFGaDJKZHRGQmQ1Zm5ZNUQ0bUNldW1DQ2JCVGR5SyUyRiUyRlpLZzZLaUYyUkY2dlFWUVduU2dMejdySWZWckRNMjMlMkZ2N1lKcWlqbE8xM29selNic2dZTHAlMkZIYWpERjJNdXJsZzgyMmN2ald6Z1pBbHZReCUyQnJFdGNVRG1mVFVrZjlOcHpKVUV0djVUekpUenRtN1hwYXZ0SEpQZ2hMenZsZmdZUW9qUFRqazRnUTl5JTJGYzd4MXNRZFZZTDBJbng0Z2o2TFJxbUx0RUJuQ1d1ZGREdUtWQVJzMWZxcm9rRXFaaFRoTHBzRllIY2tIMlhWVmppNTYlMkJaNGhIdG9MakphM205TGQ0U0RlTU43ZlRXR1NWNE4xbTFCRXRXN1VHVE5TaktKJTJGZU9ENFpwWGd2OEdNUUgydW9Yd1VIJTJCcjVSMnhaWlMxaWNYT0VTNG1zR2slMkZOY0xHeTYzbDBpZEQzdkhGQiUyQlN4RGkyVW5sSVBuNTJGMG1OTkJuazBFajE4TEthNlV5akZLVWFhS0VFJTJCNDJHSFVoN25JSUJFY1p2JTJGTU1YdWRSR09CUFNiSVFzSTI2Sk8zdjE0QXFHeFJBRXFMZzRRU0JUYVRSaGphTURJQmtjUXRza0IlMkIzMXpkVk03YSUyRlpNSHlVaXo1SVlxRU4yZ1Z2YldpcnFNZ3BLcUJqbG1PQ2dwUTdnNFhTeWh4WEt5bkltbiUyRnZaWjVmbWlqU3Y1bHlzNTFhekx2Uko2eEVudSUyQmd4Mm5xbzR4bVB5Slo2eW1wUEFvQ0dFcjRKZEY3bzZkWE95Z1o4YmRPMSUyRnhrWUZHRmNEQmI5aWJDNDlZSGwwV3FjR1BPR0VHJTJGWHkzaEtSQXpZano4ZiUyQlNnYjVOdXNRdnBNazVFV2RuNjRMOTlGQWNGWkYlMkJPOGNPcCUyQkJpdG1WMExFd3Z2Zm1YT0lOeFZvZ1NxamVvRlhuYVpzWnhHQUprMVV4Tmt2dUxuOUpUYXp1bjMzZlVNRkRPY3kyZjRsMGZGJTJGR0hHTEVTc3IlMkJaYjNhYnclMkZQcmZxZ2YxVlJmUlBCSHE2bTZNaEhMdVhpYjVuRXlZeGM1RkFGZkNXY2hURE1GUnlwM2xhdEJ4cmM0SDRaRDAyWTRqMVVLV0ZGU01TeGRiJTJGazR3ZGdTRlI3VVpQazg1VVJyNnElMkZHdDJKY3dTZUtoaFhTTno0bEh0bWVBMXpNJTJGWVNuSVZ6S0t3MjdxY3RvNXhpbVBUd2t1OEk5ZzB0T1FMWnc0WTdyS2FKWFdoeFRhWnJkdHBkVldhTWN2d2x1OCUyQk5WdjBVV21FSkE4Q1BnOXlTSEJLRFRFbkVyQU9reXlVSTBNREVFSCUyQk9Gb29MazRSSEV1NWdTNVhoYnM2RTFZc2klMkJST2dQRSUyRkRSWkZSZmxndzVocE40ayUyRjhVaHdoUlZKbmdFZktIajN5YW5SY1N3JTJCVFI5WHRFVjViM2klMkZxZmJacmwlMkZ2UjgyRTMyOSUyQiUyRk50dmdiJTJGSUdnNiUyRnlXUGxvZTQxN25aaEQ0JTJGcVMlMkZQN09yM1clMkJOTXgxN1d5aldvZmtKMGhNQ0JsJTJGZmRkbFU1QmJNaENkM3M1RnFxQjIzJTJGbGpsVnp6a1M1THFhdHVxa0VLRk1CUjNyVFolMkY2WUMyYjhQZVJOOHFndEpiWTFZUzJub0FKODcydjR2UGkxR1YwSENUTVVYaDQ3cVNLQjZPZ1JwUVljZjdrTWY1dXFubDlVTFFMWkdTZnA5OWU4dlNsTW9yMW1KTXA0Z3dQYjhrRlF1dW16bG5uUWZTaFclMkZrV2tCdXFSREdlNVpzTDVVZnlmVzNYbmlWZkRtaG9sdCUyQmFhJTJCVG9oVDcycWR4OUQ5Y1NIOVN0TllsRlR2TlZIaHhyRUFnM0lBcHhCV1hFamNrZzRvQUNBSk5jaiUyQmFTMnVGUjFPS1MwNnd6JTJCaXVCSEZKTGhaUlpjeTlRQXlrSVBMUVoyRHV1eSUyRkNCTE9OM1huQlVWQTdnTDBocUxPQXZkWHA2SCUyQlhRcndDWXh5VHMwTVA1QVhhJTJGSlJBQ24yd0tCczhYTWRmNHB6TE1OODJnWDBKTFVqYUE0RE1RUVdDU1FvRDFQT2RQaGFveVJwTWVGY2lDRXIwJTJCSnY4SVM2NSUyQmF1TlNqMyUyRjhrUkJsajglMkJwblIlMkZZNU1UQiUyRiUyQk40dW1yN212VDRwZWkxQ0lCVmc4OEE2MEdXaGFjelZzVFFQWmg0UnpPSzdXSDgwaWxWVmYxbUZmNGZHbGNJMGduJTJGTnEyUVJQRCUyRnhiUkM4diUyRlN0RUxxJTJGNDlwaGRXJTJGVHl2OFE4JTJCV2F2dyUyRm5GaDR2UDlqWXVIcHhmayUyRks2S3BiR3hqMnFJJTJGbGlYVG5SS0dIeTIwZVp0JTJGUU1kU0JmNjZYVmZlaFNFUzdoUXh3dUNpSmNiQVRoWW85S0VwN3drQyUyRlhpTVpUbkZ4QWQwNWZDTXJMd2Njd2RPYWFvNFpqcTZCM1FwUTNhU1lBS29JSm1jakdIa3JSY1hwOFE0c1lSR2dkdUNkNEtKaEc1ZDFubkZQQmhOWWk1cjVzR01zZ1UlMkZhYUEzWlBaUmEwNFN4ZCUyQnNVWXQ1R0p6Sno5ZjIwJTJGN1ZlU1UlMkJHQ2w5dmd3ME9zJTJGVmlzR2E3QUt5SURnSGN3azY5bU1OOFJESFlqNXVKJTJGSWdSSFBtR0NrT1ZqQXpENGZsNjFIYnRyYzlNSGZ0RFB1QkFkZ1J4VHlmQlpNVmZTeXUzT2NpdyUyRkFGNiUyRmtnSnhSQnhBTlZiJTJGMjhDaHRSNyUyQlB5SE1NRyUyRlhWTlVwQ0IlMkZpYUQlMkJaMDJXVXNUTlRMcWp2dDM2QUhBTVVST3ZGSk1pakl3NDAwY3BMTDZORVpyc01QUDFPa3d4TW5UUiUyQkhTTDdBT1RjV1hrVUElMkZOJTJGVDhGRXFmVnhNZDJVc3NZRWo4emZnTDVPY3R0OGtIMUZwVWhSYjJTJTJCSVNSSXNscVBRd2hnaFZXY0ZxcFpvWFk0bnROaFJGdmtTQSUyRlZqc1I2U0ZZJTJCVlhMUmElMkZyUjZSTzBJdmNSSE9lWDJDc1dDNUVGV3FVbUhiblNhTlRJTHczUExsVmhXY3klMkYxWmVDYlFDVVZoRzlLTzRyVlZrb2NyZjYzSGFJVjJ4M0RaJTJCekxZMUEzM2FETzNDa2JBeklmWTl4dkcwUEc0VkdHMWtlZkRCJTJGbWhBb29xZDlVNzh4TXR4WkoyUk9JUnY2NHJ2bDZPSkNMVlVMQ3ElMkZXZTBWVXlzRlRHaCUyQmhUUmllYTV4VTJQMUpySjg2QkpuUVh4M0xqQkR4a0VHY1hCWkI2YklEdjhrZmZmelpBJTJCeUlXbFM1bDYwY01FYWolMkJRMmMlMkY1R1hWMWpwQlpoOEU3RzlmVmZ1Uk9GUHpuc1d2ZUZ6TXBxdXp1ZTc4UkxTZSUyQnhzWWdqJTJGQzk1OUVPWkxXJTJGeXplR1JJbXk5NUJkdWVOODByNHEyQ0Y5aGxTMzlHTUFucUZBWWVPRmdzak8lMkZNaXdMNXJraDclMkJNUG5idjRRRzJ5ZWRROU9mWjUxRXdTRFRTVThYazJXTkR2SDRLaUJISXhqVzluM3NwT2FiJTJCaXFXTW4lMkZtU1pzM3l2SE15a0tYaktCbGpiTVFkRk10QTNlcnlReXMwRE1rTFhjMEJwJTJCZlJpYmFlemhsdllId0FnQ25QaTN0ZDY1ZldhbEJXdWwxQkQycUxqRlVWZDJacWowJTJGa3N3elpuNTElMkYlMkJ3WGxJVDJvTHVzdU9TV0hXV2V0ZHlEckJBM2tTRkNLZ0NRblVDM0xoTDdJbVBqQ3MxbFZSaE1iMyUyQm5TZEh1NWJENWY3Nzlueko1bnVGZVd0JTJCS2UlMkZEWGVSZU52bCUyRk0lMkY3JTJCbk5ERXdoNjJINFNBYjBnWnJBRktzRzJtd3cwVVdtMVVlNnJTN29HcSUyQmhtJTJGbmFZd1NxZWVUaHhMMmpYZ0h2NFA1YUlVN25CZzFaRFh3NTdKWVlmQiUyRklKa2Y1VFhQS0kwMkJDWEglMkYzRWtZQ1Y4ck8yaTdEMzc5dEZpMUpkT0REaUttUFF6WllkMURrT2p6eFhTUmZLazVqYlYzSzhCdTcyR1p5N3B1bXJ6azZIWElMTlF3M3R2SExJSDNhOFFTWTVDc3J2S3U2U3IxWjR1aVNaMnh1ZiUyRm9PejFsMHR4azcxaUlUR3d1cWRmWVZ1Y2pHYUg1MmQ3ckNlSnc4dnNnR1lKbkg5NUEyJTJCYUhFWiUyRlgxdEdUTjNJZkNLSEd4MkRVSUFQMzViTnUwOWhEajk2bjI5cGI1SVJDYkNUazklMkZ0SXdEbTFGaVltVEVIWEgxRHJWTGtiSFh2MEpBdTRBV1Z6OFhpYzBzJTJCOXI1OUJxdHVoaGlNd085ejZ5NkhReHBXZWxRWGhiOTJSMU5WUyUyRiUyQmx5VW1mcWE5OWNJOGV3ckk1bnpCUm9Ucjhpc1Z3ViUyRkM1T0lBUE1RZDVOc2VSRWw1OFB3UGt2TUNvYW9odSUyQmFUMnJPJTJGY1I3a21hOU4wWHJkRlMwcnpxWCUyRndUV0xERFhEY3N1WUVWdDJIbjhpNDFJdU5mNUVHWlc3cWpLdnNHZ2xYTkIyOVVIM252R3IzciUyQmJSTzdBR0RPS01TRnR1d0NKTTFBcUlDOFJDdHlqZjZqaGprMk9aNVkzM1glMkJKNjhMVWRIMmV1ajg5dHdkVVQ3MSUyRnhaMDE4THhFTVBWSkQ5S1plSEwzMDFIVEh1bWZDaCUyQjN3NGc4V1VHQ0pjTFBFdVNnY2ZseENIdjFHVUVUR3Y4TG4lMkZKZTcxZTIzVERTbHN5cmxocklZM21zMDVPQTNzcDdQM0tWNWZxMnlaTGFLalBzNFc3YjI1ajQ2ODJZWG5VQ3ZlTzZhJTJGTFQzdUhuOEtpVm5TdlFzM0ZHczZXbmdKdmFLUVdhajZ3Tzl2c2V4ajlyTnhnUFk5WG9nanNRV0NYTGh4SloyQ0E0VURWMVhnS29kM0JGMVVYS1haUU56aUs5NnB1WlR0NCUyQkgwSU5WWjFNdER5a1BiajQ5Nk92NW5jJTJCbEhKNEU5ZldpazAyeVh0NHdmTEN3QnU5cG9MdXlnYzdWWHYlMkJISTlQMW9rVDU1UlRHbXl6OWU0d3ZMd3ZFbHI0R003a1hVNzdDZlgyM3htTFdBJTJCUDFjWFBSSDJXbVhJZklCVks0SWpkbWY5VSUyRkd3aUI4ZkFvdHZvJTJCdENkTzMyREt0WmVNUCUyQlNsODNVa2VxOGJMTkNPWjNUdjNRY3d4dVNFNUlSOVRQcXZzMTZKRHhTY2d5NGxtSXdMZFVJSkpPTDlwYjYzZjBLekNva096N2NTMG13cmVRejlMQTNLaVA4OVRKUHJqcmVXUHhIUDYxWWRZNHU5cEhJZlI2ODQ5R0daNFJVRDVxRCUyQklNYk82Yk9VVmJqbGVCUWdJVW14OGdqVmhqSGQ4TjIxRnhPJTJGNXp4MEpQWlh3cGtFSERCaXVGakU4eXNlVmRmaE9FeG5YN0Q2MFg5b1hxcDN5Mm43UVF0ZnV0U1Y3dWRjZVFraWJVQWc1TTNOSG9pRzBIJTJCR0hRSnFvJTJCN0lnJTJGT0ttSFdUWExwaXhVSU1CNTUwczBTMnBpTGZtUEZES1U3WG04UWNaR3klMkIlMkY2ZEIwMXg0JTJGJTJCenk3SzZuYURFSVRwSVQwa3Y5Mk5JZVpxdnoxd0JYczgzQmJ4dzFhT1AyWGJSVVZ5b2ZQdjNxRGtPYkcyUFFLUDMzZEwxMWduUktPSEpYWWV4SzdRNWlxejRPU25BRHlRRWdHa29FJTJGMDN4SzFOUFhWNjZnNSUyRkd4aU1XUHNDdSUyRnJIVEJyNWFCclNwWnJzJTJGUHgxMlRqTnhUdE0zZiUyQllIV0tzcWFsWiUyRlNNTSUyQktiT2RQYmFGSGNOcGhDOVZZUHZ6V3BVTFFxcWlHbDNGRDZiRTJmZTlMaXlqbTBxY3VBdnVoY1oydEZRRkJjUCUyQjglMkJ6VThGbDUlMkYwUVdJcXduNncxNTFsS2NyQ3cwQVFaJTJGaE5PT0ptMUhUdEJQeTFtVWdLNDBFQzNMeXg0RDdmb2xIUllEeVd0SUk2UVUyZ1ZXRWdXbHJEaEI3QjY5a3UlMkY3TkxmTkx0NWZINWx1MTh2UUlBVU9JTCUyQnh6dkVNR3V5RXJPYW5oZCUyQiUyQmthZlFOM0NVWnc2TFFBbmJUUkpMZVc1JTJGbVFRRXhmJTJGMHlGZGVadDJYYW9QZ2ZOcnVXM2tHRno0eCUyRnpGbWN0d3o1V2duejRDQlYlMkJrNFZIemR5OWJNT0RPZVg3TmUyZVhkRVRpNXI5TG81R0lzd3JPOHFVdmJvbjY3WlVWNTl6am53S1pLb1FxUjY2Z2o5bUZaSHVSVHNVRXg2T1l4RXJaNWpWRzZsQ294JTJCMTNZOUhoOU5CelBRWHRHNSUyQkp3dmRRenkwYmFacWxTUmNjJTJCNDBYYzE0YSUyQndyJTJCRDRHN0RhenpKVVZqOUNoZWRSSG5mWG9VJTJCYmo3OGdMdGw5cUJCZEMzR1lnUnlQelVpWXhZUGU4U3JoNHo2S3dOamZvbEVQcHl1OHB0dWc1VndtY09DSHF1aCUyRkEyblB6SHdYJTJGNkFVOGpRaHlWVzhVcW9IWnFSbmRvR1JJJTJGbm0lMkZtZTBVRkd5SFdjNGRsVHp0V0NjaDlUWFJkTVNLYmhWdlBIVXZiUHNqSWRaaWIlMkZGRHRHUUNKJTJGNnQlMkZUQjluSWJzNkRjcjlqR2tadUhyNDJpeWVHZmMwMGxxJTJGczEzJTJCMW5YQzc1OGw2WEE4TGVXY1QzcjQ5V3kxVW1LRHdYRHFoVXhhQ1hxekJlWSUyQlVSdER2UWZxWVVjOSUyRnVoR0RXbVMwcGZDd3B2Z3VtZzcybzdCVHlLREFhS2REQzVkelIySllYRUtIU1pYTEZ3Vk1lazlxOHJIbWFxN21DS1lSUlBNZ21sNnQlMkY4WnFldTZuMFlWMTBraTI0ZlBCJTJGdUhMJTJCb1NOczFGajRBdnBqa211TzUzNzJSJTJCWDYxbFFESmNUUXBFS0dxQzloZ2YwZGhGYTQ4eXRPdEJnWWJNakR4R0NldGJ5enNBNDRuS3NNdEpiUk9EMXYyR3V2STVvNE9DcmsxNWk5SXYzYTNPcnJhMFU0SkRkQWh0V25TSmxBVGpOV3BCdlZvcVZJeVBpb0N6dkxIb3Y3T1BpZHh2bG04aWlSOEJzRG01cnNpdExYdXdBejVtU1lGcXpPTG1nN1lpWFA2OEtYTlRSWiUyQjVaSDljN0lwcXg0JTJGbEdzT1dMSzAlMkZETGpGWXpHcEVYbVEzb2szeHdWTWswMDZoejFZbEolMkZvMEd3Qm5DcVNzUjdxUDl0SWwlMkIyUVJxM29leHF3NTR4eVRSTmI0UHVWd0lCdVF3eWlURklQOXMydVVuYzVKZHNENGJudVBzanVCa1c0JTJGM0EyRDJNbjhSUGVnVGRBSGFYVmsyb1Y4cmowbWdHTXJUblJzSXJ0JTJCUWMxZnZPTEJBblAlMkJMdlYyUFZZUU5GRXpFcTE1UUZwV1ZtVDRJbjJhJTJGd20lMkJkVlBOcFVzdkl0T0xPSUkzMFBWdGl5V05kJTJCejUlMkZXT3RLR2xWUmo2MHhidGlaUGtnektvUTN1S29tNkZRVXh5QjdSOW8yQmxWYlhDdGl5ajhlQk4zRGhVNVglMkZrZ0V0ek5JeEJHVzYlMkZzN1hYNW8lMkY4alFrR3BpWGFzZ0J2M0ZrdnJZMkg5OFJxanZLUXRzd2F6VVBxQWNJU3k5dCUyQmZRUmpGanJ5ODNOS2hPZWVkdUEyNzVzcjluMXZFNXRsbEElMkJoUDB4UEtiTjBsTzRicTFjVmQlMkJlc3h6V1h6Wm9jRjAxNzR5cDhDTEJ3V21nVmtNM0lOVWFob3J0d25FN0VTc1VoUkRtRnpRT3VxU3ZORlg2RWJVQzR2Skx0NUszTSUyRnlMSzNjWCUyRmdnZ3BRZmN5JTJCTHh4MDBWekhmaHh4djVPblpRaWFBNWtqT1NMN2E1U0RrUTRpemg3MUYyUnpTRXklMkJkUW9ydU5YNFlqNSUyQjclMkJRNmhSRXJJVmV0bk1UZTlDT21SendKV2IlMkZTWDNSa1RoblVXcmx5TTNwQ2RYYUZvc0dPeWpiY0dVWFIlMkZwM3dFOHZqUDl6ZGhrdTVsRnFEalRmZTZJQmw0RTcxJTJGdWM3a2t0SXI3c2hmTWpWQjh2Ymh2S3hyJTJCa0pWJTJCMlBSZlpsOEFmSUp6Sm5BaER6VTVxOWFtenBLakFacnYwU09QRHEwa24lMkI4aVJlRk4xRXlvJTJGQm0zSWpsRG9DTjZUMTYzZzVyZmdFMVVxcGIlMkZkWE43M3dSZjFXSmZ0QWdQOXhtZlhHYlVrZVB4UDlLMzM0ZHNPeVhNZlBQZ3lkaSUyRmhWRHFZZXBCekxwSXpBQ0kwQWdydEtlazhmdzRJSUY1NmxmdFZnVlZjYkkyaTclMkZFSFpiMUtXWVk2QnpSNzdxV0gxJTJCN0VTb1R5VmpPMGR2dkpmZnpaSkpjQmp0NGlJMzJMQ0pyNDQ4cUI4MVp1RmJubTl4b1BiYWtVVlVoS29IaFl3WmsyRFFPazFSOTA1YUtYYWhoRnhUcHpTamNpMTU1bUVzaVJjRUQlMkZMaVpmbkIxUklrJTJCV0NHdGRQN2xDODhsQTBDSmc3RmZ2NmhQWU9BN0ZJa0J6NSUyRjRCZzdqb1FqSHM1Y2R0UTFhUjR3NXJraHhMdDQ3S1lnMVIzNXFXcnRaJTJCRGpwakNWSjdISSUyQmYyYlZjRmtsS004aHZkWHczOTklMkZFTXpoZHpSanRoWVBzRTBUNW1nS2VINVNGdmxpaGlWT01POVgydFZHSmtIJTJGSktKOXNuczdLRlhwbkE2a3BRNEV5OXlHOTRnajY5RUVrUEVNejdxZUVRYXRsYUYxWUd5ZyUyQjYlMkJZdGlkQlNGcWJsZUFEMld3MUJORmkzWlhZUGVHVm8wa3g3UkFIWFQ0ZGE5Qzgwc0FDU2RieDFJVUFYJTJGaWpsJTJGTFR3eHhrUkljU3o2OGw5RkJKWFJJUURQdnNza2lYJTJGWmw5S2liUEkycXpmdmdOVmJNJTJCRWUxY3U3MTYzSmdPdXMxc3pBbXpKaFlud0JJTVNBa0ZxTUlxRXBRNHElMkZVN1hQTFZxNzkzaVFxS1JyaUN5c0VYbUJrZWJXRHRJS3htRXp1WjJjY2twV0EzZlp0cE42SmVzVU1pTHp1ZDBrd3clMkZ2MlNwM1ZYOFAxNFhBJTJCN2ZkSkVBOGcxdlpxUCUyRkxIRUc3elNBa0QzVG95S1FuNEdxajFMSTFrWlo4JTJGT1NHOEVSTWlRaW5pT2lMcFVKZ3A5WXJqQXdkJTJCMXdaQXJzRGhjV0RYRFFQNUglMkJ1a0hib3hram5CQXFpY25KZk1QJTJGaHVZJTJGeVBmTWtMSUphblNqTXAlMkJzYTEwNDlOVkZTSno1QXQ2VjluR3VLRlk4ZFVJZkxPdnRoR0VrZTdhcURSaUJ0ZTR3WDdXdzNNMFRpVWIzUHEzM04lMkZsZlA0dWVoMjJ4YWEyNUclMkJaY0Q1clhBR2Y1WXZ0T2hwZDA3elo1dW1nbkYlMkZ4UXQwU2ZtUGxETyUyQjgxSVRkbktuVXVUMHNWdUxlOXZqZ0dySmlZWFRiNGsxemlPZTRZVVhhNmxvalVOWEFleHMwanNxWHJHUGczeSUyQjdmMVNnJTJCb094eXRLeWQ5M2ExeFpWT3VCMkJ1YXVrTmdVQ2QxU05nRFMydWVia2FEdENCJTJCa3NVNW5iZSUyQk5hTFg2SCUyRmhDVVRTRnVXeDdGJTJGRlZ6RGl1Yjc2bmFiNm1jRjVhREFacEViZVlnbmdIckRVa0t1Y1FtcXBaanFSQ2VIdXE5U2pJcmpjZk82S3FQbDhNdzAlMkZEaThVSDc4YiUyRnRDQ214ekFYUFNKbW8wTWVHS2dabExFeFJZeG5KNjhqZm9EeGQwRzVjJTJCdEhQa3B4SW4wOXZ3Y01WYjh5aW1rZmtBR3NiRXIyME55ZjllNUk4RUw3bWtYbElSNXNIT2VqNjBvb1glMkJCd3FybmtqMjNVY1lkZlREMXZZN25oRlBrT3hkY2Y3Y2tJJTJGb1NOTW1qMDhRbDg0M2VXSkg2aFd6ZWNWMDRXa1BYajdwWEJtS2VEYmVSRzBLT1lKQXk3bUpVJTJCZHg5VG1Ea3RKR1NSNFhkMFRWZXpOdUF2aDg1JTJCVmR0RUdIUWJ3QnE1YUdiU0ljdnlnJTJGQ3MyOGUzNjZQSXdvRmhUYmJnVnVvYVB5eXBHVTdmZkpDdXhCQ1BDVUt0dm54cGVVN0VqVVFjSWk3b1Y1c3UzSXpEZlVhNGF6YVQwM1dZazRsRmVOUnNVaFBMckI3VzRMdHhnY1k2UzBTWXlCVENvb2JDMDJaOWZycll6eFp1RTlmdHRSRWw0cE4wbGNyVjNRY1V6eHVnM1hGMVVIT0FHZVYyJTJCN0t2cEdGZkhjRCUyQjRDdUduQ09nNkolMkZ6TjZSdFFoN2JQd1lmeFQlMkJRMVRSc2wwJTJCVm8lMkJYc1gweThWc1NHRUNKb3lQeDA0amZWODd5NjIzNkw5bUM1b0YwOCUyQk9Hbm5mRmd5amFCckhrR2xydGQzd2xheUNYQ0E1MXlZcFBwNXhLUmE5eWc4bldEclY0TzlYTjFjdk9pbXl2elVGaEg1aFpQT2Y0N3JIOE8wRnB2Y2JrSmE3WWxzb2RRVm5iSkIlMkJkQzFZRHBKRHJCTjhNWnA4emZYem5mbzV4WjI5bFFEcExRMlFuaUppc2x4N3psUHBJUGJlSmtFZEJ4SyUyRmFlSjZOSldVSVBlZkFtSVByJTJGVTZMSlRKbGdVbmpOeG9GZkxIZjgwN1pnMG0lMkIlMkIlMkJKeEprZyUyRkxvTzFUa1d1dUk5RnJqWWl4NTBSdEhIRXZsMDhMbW12RiUyQiUyRjlxMkZiNHYyQWxQc2R2Z3RFS1AxMllmeEhKSyUyRnRsJTJCaEV5WHhiRlM2UVB6NThNNHU5OXgwRCUyRkRFRENrck1iWjJuaE41NW54Z3pLZ1ZvRWhRZW81JTJCSEtzR293TllQUTlITEZxMDZ1aUhaSlQ2QWlZWTRId2NySWhndjQxcUxkWTlSQlJGYyUyRjQwc2Rhb0RvQUNnS1M4YklYN25kJTJGYm9UbSUyRiUyRnB2eEo3V05ocnFMT2QyeTRSNWc2R2h1c1BCUUtnNHhmUUNpWE5xd0xTJTJCTUxxZWhzR0tPbVFkaE5aZzE3cGxERmhnMG9xWTRHakNUNkx5eUFMVTFNSEc1YzBZdVBZMGxvNnZ0S0REN2t5RHRZTSUyRiUyQjBRbkh2YXRBUHpmQkQxVk1FUkJIazYlMkJIaklGbkdlSDhjN3JGWnRqekolMkJzSVVkbyUyQkNlcSUyQiUyQlloVGExQmpScGlBZldvQTczY1U0MmdqRlpvdkp4SDg3Wng2R1BUQXFTNFZDWDM2c2RtbHlWc29OWEg1SVVheUElMkJSbmdwZmpiTVk0clNLSm8lMkI1YU8yUXZVSFhITWlCYiUyQnNMSVElMkZweUdkMFg3MUpLbGwyTnBLZE53WXlHUllES3lHJTJGbVNhWk9hZXo5azVvRmN5dUNDMmNQeVNTVnlreWh2TWxtRkQ0SWZqUGh3ekpOM0JHcG84UGxSRGZFenluMVlCVUx3NmVRJTJCdyUyQkREbHhjRFYlMkZ3d0tCclJEbktyc1dRRmhVUExxRmkyQXM5U0dhblBlZUhEand2R0lhUXY1VXdrbUtINnExTFZGUURGUzhJeDN1Nk92UEN3QjZFdWtwcVFySDRuVlhnR2oxZll0ZHNjeGhlYnladnljJTJGUUdJYmYlMkJmVURqT2Q0cndoRmZNOTdPVzRBT1RYelFHOGc1alNTY2pGYU9Zbk1FNGxxQVNMa016MXhXJTJCeExYN29WamVVdlpyJTJGMDVCbGElMkJyVUNDamNvRGZpSUVVN0lGNmFGaHI3RkZCNTNuVkFkdFBsNXJ1Y2s3V0duQW1peFJ6azBvOEFObW9COUIyRUJGSFU0dkJMYVBRSzE1cE1waGRPcG9rcHQ4elM1c243dkRjSHAlMkJOWjUlMkZDdFpyT2xSU2FCVkthcEJhdFU1NHUxNlBZYzJBJTJCYldnSXhjQmw1TmFQeWFtbGNsWE1yUnFMaURTWGxvZkVYQWE3UXVCV1poSWpId2VVcGZQNTJMZVdkMFJ1bUtDU1JSZm5rb1M0ZlRoaHhLRllEcnJJUUFKS1MlMkY4TWZoekQ1bEtDbDdLVzNvOTVrZiUyRnBTajVDVWJKb0NkRTdPRWNMcjQzWnlGZDJMSnhuZk1obSUyQjQ5Z3c4MTNmcFlUNE5NNnNYRWMlMkYlMkZPdkplZXNYdHBpNGZFVk9MNjIyN0RLJTJCSk9oZ0REZlNoNTAzeWZFc1lxTU45dllOeHZha0JpQm1RR2xwODN1dUJKVzB1dGRWNW80QTIySzZVUGVrVDFwVWdTQzU0M0NyWkJVVWVxenpMWDMlMkZmSiUyRldLazl4WThtdnRqSW15dlR0ZnZuOEQzaWZjN3JkRUlpYnVsb0VMUzJXOWNqNFdYNjhFZGNQWHpORHF0TUJYJTJCRnduM1NMVm55UjJ4Zkh1UTRQbmFOZmNrUWsxOUdQQk5rMmRpckNDdXJIemdoaDVVWWIlMkZUQjdTNmxWVjRvQTZYRlpTVmolMkJuMTRDWTBzSkJaUUNudFdEbEZmNGNZbG9JdUMlMkJaMlhvMkt2OCUyQnhvRml5QzhMJTJCTTVLTHNON1RGekVqOGlHdHJYdSUyQkVLOVNSdWVqQXROTllOd0RsMGhpdktzOTFXJTJCQnR2QjMlMkIybVV6NGo5bHY1aUZxJTJGTiUyQkxFblp3WlF4TVNydjlJZkV3SzVRN2ZCSDU2Sm1nWFFmdmc5NHVUcVhWOFFpZjdvNTRBR2pZalFkY2FGanhWaWM5MiUyQm9USXlMZWxySjQlMkJqcEZWVVNrZDZpUVhZZ1YybkFBZE9ZaUR1JTJCWXJXWUZGSkdpTyUyRjR5ZThIOVo3RyUyQlJPYkRZc01lOXVuSEJpQ01vUmM4Rmd4b2lPM1hvRm9IbHpGck9JSmxTZnRHWkxPYmVsb0dUJTJCTGh0TjVtYmVpN25LWU9YeVJ0N3pDekFNUWhUTkJoMjZ0RlROSlhxNVdrUTl1RUtaNDF4VEg0QWc4MkVuaURTWXN5NlFLTTFYWXNjQWtuQWdKQnRYdFR6dlI4N3VsTnVIaUFGZ0JDV1ZsWDdmWEpna002NzBOT2JtU0dBMkFYTWgyeXMyRXRaa2t4ekdwb0ZOaGMyJTJCRlFiZGZBR1VjclNnZG8zWnNGM01OYWx1Y3lXcGs5ZWxzQ1JwUjBOVGlsbFBFSmhnUGtUbHRabGJTSjV6d2xyWHJTUFpubDVJa3Bsc05PZ2Y3YmwzblZMSUlQJTJCTXdrU2RBRGFEVWpZQXFUU3V4N21TbmNCc3VnNTBhMWFieDIwM1B1T1FTb0ZTWkpiTyUyQnZxQVRNTHZiJTJGZzVsbHNOTTB1JTJGQzVGNUNVVFpEZzloZm1YTHZwV3dQMW4zMnVuWGpSSVBxQmcxcVNKejlSOW5KYm9uYkZ3dlk0bEN5ZUd4ajQxclJFMFZ3SGNXNnl0VzI4Y01JUE9DMXZKV05rWXFrVUJrbU9ldTZqam16elZaWDY5eFhuJTJCVmZKcnpHU0JkV2xWUiUyQkF4MSUyRnRKJTJCODFHSm91NjByUnhlY1dBUElJbWNGJTJCJTJGU1V4dURwcnVUVDEyZGVObG1yajhLbzFFQjM4V01WUmpGYnhWS1VHcjlnNFlCeFFrJTJGQ3FrNTglMkY3SjMlMkZCUXNEZURjUEFNcHNDTXZySVVyY2hrSzVJbVpnaEUyTEtJZFhnQUFMSVBsTXdadyUyQllPNTB0UllZY2VqWHElMkJTQ0g2UExDWGZtY3NjbnpsM1NkTDVUaFhKNkVjJTJCdzRwRHhtcDRsNVRsc1RSTWNwUVZJTzJBNzJ5OHVNTUxkaG9kWmFVQ3QzUWVmQXk5SmRBZVlIJTJGYUJqcW5xb1FVblJRc1FoVHlwNyUyQkVFRGpGYTU4emhlaUZ0alBmUTdDUXdLTFNvN3diSlBiQ0slMkZxYktUU2ttRkhvZ0ZSYmpxOHVybGVoWml0RHk0bTRsQiUyQmJ2ejdjaU5pbU1vajNqVnFaZEtOcjRFbUdGSFFLd2ZKVklqckl6eVpLOWU0VTc5Wk1leWUxclZSc3AyVkhrSXZyN0l4MFBPTDZkRkhucWMyMlpyZ0U4QktFOTFWRnF4Q0xZZVBWJTJGdEdKdnhTYXFzd2RRUnF3dnNEdXdoTmVCMklpYkRlREglMkJtakFtUFFaMk1JemRtblUwJTJGQ2x0NndHdGVsZnZHU3JDZDV4ZWp4cVVzNDE5dnFkR2I5QjNvNmxCOWRGSW5JblAzSHlxNFl3ejJ1UjlnejZpMmFPazZUYUN2ZHolMkZFQ0tXJTJGekFYcXVKUSUyRlglMkI2Sk0xbUt5RmhEejA2M0tHY2FrcDg2cG9BcGZjakRCcjNJN2QwQ2VvSjYyJTJCTlBLNTB4OFdidXQweDFtWUlUajIlMkYwJTJCSUlzUFBUOWJwQTNVS292OGcxbnFkd2ZIMkNTaTNhQ0x2UHNsYXBZUSUyQjBUWUElMkZoT3J3ZFlrcnJGMWhLOWExRzJjZkx5dmp5azdoWkdyNlNZc0lpaVgwSDJEc3lxU2w1NEkzb2wyUEx3Q3NLYUVOdmxPMDJ5N0NKMThWdk9DUVIxSENsMWExd0o0MVklMkJDdENNdUxMN2h5UmFjWHdEZlBiS3VsSUw0dHdUUGtrZTZYbG5vRjd3OTc4RGlpSVJoN3pueTRGSkk1Z1FjVGRjYlpObjRMcGtnbmY1NDl4dUdaJTJCemdiVEJxRU94MThRQlhwb0IwOUdNeXgzM0E5STEwa3hQSUtYJTJGTTNxTkJFQk8xd2ZrN2I2bWpLV1QlMkJBWmYxSGtCJTJGJTJCa1g4WDBwZ3FYbDdNVXRLSkFzR0o3RjFEamJWUzVHZzl2M0xWSHkzOHdPOUJYSWZRMUZNZkNmT0ZhaiUyQjlKMVpaeDJXVUMlMkI1TVJxJTJGbGlqSSUyQnN4JTJCaEJJbHpXVklFblU5TCUyQnZFa3FmSWZpeGI2d2ZNa1JzeHd1RUxGSmxQTTNlOFYzOWtWbUtoTlVidU45ZXFRQkxXVmc0dWt5Qm9qSWFNampsNlVzNzNoQ0dNZ3AydEVoZVlYZU8xb3ZDdEhTNjdWUDhDTFhqM25UZ0ZaUmJGbXlWJTJCd0xWV1UzRm5QNXBtYyUyRkhFbjFFOHFEdk54JTJGdTh4OW5SJTJCWGZwZUlnJTJCZDkxTnglMkZpaXhkMU9wb2MlMkZmMkNHbzN0U0VmdWpjS3dDWHpXM0w2VnRzUnE5UUlUVWFWbnNVWnkyaVZUOFV6VmxOanJqUCUyRmloOXRIMHJzdDdZczJsT0NCakY0aGhpRSUyQmxlYWs3cjhHMyUyQlY5ekdEYjN0WUtPb2dWNzRBblBsdTlNUHB5dHhFYURtJTJGZjUwbzJ6S1o0Z3ducHlrZEdCSnQ4dHFDaEtmQmZ5STh4N0hxVFVVJTJCYUIwS0RrNjFVJTJGd0YyNmhlMEZOTE53ZXVmMVNpSnNvSDZlY2glMkJSNlNNTHJucEM5TFpqYWFnd3owTVozQnBWNnVGVko0MGU5UEJ6WUZlSDJ6ckxUM1dIb3dRNCUyQmQ3eGxDNmRPVkZ3S1d6NzJWTUJkeWslMkZpYjNkZTdURlgyaXdnZiUyQnloU2klMkZUbHdSVW9BTW9YdkRVNW9Gd05qazlOZ0Vuc3VQcTV5MVBNMktUY2JzaGZnRmdqbyUyRkV1YTZxdVQ2WCUyRnpSaHBEc3dqa0FocjFiWU92RyUyRmFZY1E3QnJsMm5YWXB4Qm9PWWUzV3k0alZCcmRFWjhhJTJGaSUyRnZHcCUyRms5MGZHWGQwWG16Wm5ia2xhakVTbW1tZloydDJqWENoc1J5am5mVWR1SzBZdlpPOTJ4RW9CS1pFTHEwVGNmZmJNeTN3N2tlVTIlMkZYJTJCSXRUaDJ1TnN6RGolMkZOSDVNS3ZRWkw0SlFXRXhJYmJmTzNJdmhqcUF4aDNiSHg5aVF3Szk3Y0d2bUtlMVpyUmJNTU9KNWowT20lMkJNJTJCdHdadUhxM2pTamNrcWdqemVIYm5ra1lOQ09yemJ1S2dOSXpxamhKb3I2REZsVG9aekMxckk0UnZjRGRiS2lveUswaTJRd0dwNlBCZ0FHZkt2Wlo1OGpvUnY2RkxqS0NGTjRiVWVIdGZJMHA5Nkx5MnpUdjc5b2pPcTFQbiUyRnVEU28lMkZmZWdVOTR5bCUyQiUyRnRnS21Yc0FqbWxrTUdyTVJzJTJGNE9lVWJwcWl6djVwNTR5cGRKZEVCTm94aHBBbjQ0Zm1meE40Z2w3OUxpUHQ4ZXdEb0VBaXpTY0pMd0ZaU2U3WFlkJTJCQ3M5UEYyRTJJU2N4dXpvdjMlMkJ5RiUyQlZrdSUyRnR3RWthVkFlU2QlMkZGQ28lMkJKNVJCQTZCQ3BHWWZtWnM4YmxudVFqTmFDNkRXWFlMUlZXa1Y4OFlSMXU5WEJ0eGJ4elFuOEZ5bUxuamxqWVgzVXJOeWd1N1FtS205OE0xWk5iZFVRWFYlMkZkYmtnVyUyRmhnJTJGSEdUanpVJTJCamtmbk1tNFZRMSUyQk5RQWwlMkJXTjElMkZhZEtHMWU0UiUyRm5sNWtIbHclMkYlMkJ3STMyZ3hXcDVOS245U2clMkZPZWpPYUNGRVJ3dWpKejY1QWpzcmdnUldreHZoU3oxck04Wkw2TGNmQlhEb2RBZ0VxR0l5bGQlMkYlMkZmbmZaMmVwUUVxWUFmbmNTN2phZlBVVEtjNmlacm92eDdaUngxVDlrViUyQm1yVCUyQmV6akFsdmN3WkZuVHNLQ2tFWlUlMkZuNDN5VnI2N2ZEVm1pQjRzblUzSFVSZkZFTjNOYnNJbzFyRUY0N2NFTEQ2SFR5aTZGeE5icGdhYjluajVUenJRWkxGd1QwU0xONmdUblFlN0dVc2hnajglMkZFZ2oxenBUSExTalY2OWVLZXp1anp3Q1kweWJTVWlWc3BydkNacTNQaWtDa2U5cm5VSXBhVFJ6JTJCbTJacyUyRm50RzBzcW1GOHRGMzZaSnFVWnNWTWZraSUyRmQ1WDVyUG1Yd0NEOWtJSlNBRHptYk5qQTFLbnlXRmdXSSUyRnB6TFdBSzRQT2pDZjlRZnVxTnBMU0NmUzJCNzdZZFBRQ1I4Q3Y2RmtmVDZRMXBOZnpKT2R2MyUyRlNhJTJCJTJCZVNoaSUyQnJzSXpUbDElMkZVZTRQWlY3RGdKaHYzMER3YVhJVUdqMlUlMkJ5M0pXcXpLQ1Z3d0twV1dkbTc5JTJGJTJCQ2lYJTJGSHM2R0s2TjZ5ejcyVjNXVVpNWThrS0U1dnNWcmV5d3pidTNRYmJmZVJxeUlSWFJ0cHkyJTJGbVR1OHdxTW1DNyUyRlhhJTJGcjZHM1B6V1dkMzJXTXJKUHhxUkxBQ0txNmpnSzglMkIyT2ZJM3VWQlRZNm5BaEtUcEFrczYlMkZpdm9zSVV1ZmVEOFV1MlJNTGNzVUY2YWttOVBZYkc0aXZRZGZXJTJCZjBOdENuZzQ1ajBTdFNyZWVJeXZleGVLd0d3OHlEbjkyNXVNZFU2JTJCaHZ1Tm5WTElYbGZ4N3M5OEJZcVltVFlGR3g3JTJCNCUyRjZiTDQ3QWdxQ2dRWmZKSWV4Qk1FUU1HU2h4VmpEOTRkJTJCUDl1NkY4eDhaYkwzdWo5WEtCU0tTVUgyTUIlMkJnMHZESFh4MThoa2dMSEs2WUE5SiUyQkFzVmZDOTRXQzhJV1B5NW5tMHcxZk5SbEhIT0hIWDBsSGRiSWZpZElaN1RCcVRSMTRSazU5cHdRdWZldEJBbkIyaU9CT0M5SmREVjdhaVNURVRMTmxnaTZHM2UzeCUyQmtod296WEQwdTJvVTdaZnlUbGoyNllpeElvcUklMkJ6UnZLRU1KZmlseWlDUENrVWhaWGYyM2FnSExWUjZPUmZ6V0dYVDFITEZjOHFQVGFIYnVrbEllS3RmJTJGU3pCV042V3lKNE9qaFhBYmlFcXVvWXJYM0tCTGI0T1BncVUlMkJycUxadnBobXRuempUQ2lNdEpIVU9MbzNMMTZFWjlEb1puVkhJQVZFUiUyQnNERTBEZFQlMkZ1c1daaVNOckNBU01LcDglMkJETnUzZ1VJZ2ZEcE1DVEhWJTJCWjBxUEE3UUk2alNhOWJZb1R5MTVCVm02QnlBSVVaNVgzTVpUVzN6djZMZHFTVnd0RFJiek4zckpDNiUyRkgzbWNZdUtJN29sN3ZKQlVwcm5MTiUyRnlwUyUyQlRhJTJGV1F0OSUyRm1GcWVKaXRpd2VwbHNyT24ybVhYWFFnQzhkVXpTNURPSFVWblo1NzQ2ZVZJSiUyRkRFVUI0TXl2ajR2Wk82eUdtT2dnQXJ1TDVxMUh5ZVdVQ3ZacTFXM3Z4cVhzSHZ0eEJ1YXlqZ05mSTQ0bUpkcDZ1SCUyQkZ1VHhQZG81SndlSEFnd2dmQTZidyUyRlBqU28lMkJwN0phTDBENm1HeTB5UWRpJTJCVjdJWGVJWmtIdTA3V01FRUYzaFh4TkhmSnhxTkt6dFFkJTJCJTJCMU1WWTRrJTJCZXlrSGk5WEF3U09IM0ZUdWtrUlFCdnl0dzcwU3VOME40TmpEVEpVc05Yd3NPUnVJZ3hHTllBcFlYayUyRlRpYkozd3VzcEd1bHE1ZjRGWGRMc2xNcjAwYTB6QXREM2pvSDhCWSUyQnhpd2RBSUVjRVNPcCUyQnJ0QURNQ1Q5TjFJWUpsTlVCalZ4MDI2bTVGYWEwQ0t0UkUlMkJJT1QxY0JTVFRNZEJkNHFqJTJGVW9Vam5ZODRFZHZKZDhnZWRxbDl2cHB4QiUyRmVNbTF5dmVWVnJTclpyNlpjajlsSDdBaGdJUWRsNXF4RnBRWEclMkZOeVcwUHplTU5FVHNmdmZXSVZKaXZuRzM2dWtSMG81QzAlMkJuUjkzd2V5c1hWTmlJNnF0b1RFaGpKZlNta3BRMVhObXI0ekM4Q2JVMSUyRmhTczNsb0hjMUc4bUozUTdpeFVpSWFVcSUyRmk5dG1TeDBVSFBDaUwxQk5oc0hzVEVBcHJpUWNpbiUyRjZ3NUhaeno2anZNWCUyQklxT1p6TDN5bjZ6UG5US0Jld2pnZEdCTWI3MWN6OUJVWVg5NHpRZ0lnTDRrNkhXYUlyeDQlMkZPNzYwY25SdUxObmQ2T1lzbGx1dGhBMXUlMkZtbHpRamhwY082NCUyQjlaRmJnTk9INEJUM2U2JTJGRkZZZTRSYlZLT3FaSFkyaDBkaEhJT051OTZyWXZoeiUyRk5SbUx0ak9Ga3VLcGlPTHU3NFpFcXBWeFRXS0R5JTJCUGFnRzU5MUx6R0Fhbm1SM2pKVDlVM1JBQUFCejRQR1VwMSUyQmdhak1JaUJJalBFVGhiJTJGcnZkSUdvRFBuRlY0REVRYVk3UWFZb2N4biUyRjk1U3Vmd1FSNVkzVFRBMiUyRkVUMnd6Z2hoJTJGSEhGeEZsJTJGbmVDR1lCcm1UWlUzT1N2clc1NDFOQkdYYlJSV2Y1eno1S0hDT1RRd3VocUpjbVB3djh6Z2U5ZkFRZlRWNmVHUFB3cm5mTGJkWHZHVzVTTGlzJTJGM3RoeVAlMkZpTWZuQ25RUmE1WGU0SE5Idmg0OTJaTFpNMzc2YVowNWtucjRLRlFRQnZKODRYdW03Sno5VGxOeXIxRWxnUjVQZ2NQcmw0UyUyRkM1eTFxQUw2JTJCSVptenc4VDN6MHJrMDRlZnBpa2JkbHlmdHlmNm8wVmY4MlNxJTJGeWNWVEhwNmxoWWU1UnBScUxvS1lTQ21MOTY0TU01SDZBOUt4WWZvQzI2aU1PUFBRbDF5Zk1rdnVvSzdpOTJGODJxczQ3bmZwQVM4SjlRVjJoT05xQTVQS1ZwS3NnVWVwUkIxWEtESmxmUFglMkI3dkphTmx1eXNKdGNjSnlCM0ElMkIlMkZ1TUxud1JmanNUd3pZdjNYZXFuNk9IcGtlQXJSN3dRTCUyQjJlOXVLTXl3UlY1RlNFZklXUWR6SG5vbXBlOFhmWEhUcEVIa1RMeHZFMU1sSkdMMEYxaWV1R2RydmoxbDBHRVRnTXNWVDE1ZDVWRCUyQndaWnVvUjd2TFgxSzdtODVuZURGbEFyVks0SkhVNW9sMVMxNDkwYVhzTXU2ZkQwYm1lMmFwQnpySTZuTWUwVkdDdnBUVFlHREhQYWo0ZkFOMk9IdSUyRkJJeFpoaGZrWTZVQkFWMGEzY1lib1cwcHF6JTJGekFYODclMkZLV2tscVklMkJxZ21RaXQ0OWFIbSUyQk1JZyUyQjlUUCUyRlVzViUyQnB3MUtubG85QWZrY0lmWWVmOUVROHRkSVNWTFdlMDllejQyd3QlMkZDeHpuS1Z4OCUyRk5oemwlMkZEME00cEZ2UTAlMkJxcEFDN0w0TTBxNkFNVWJRWW1TJTJGYnpySVRNdmolMkZMa2gyZkREQ2cxJTJCYyUyQlA4Z3E1b1lqeWRldmlPQks5aE1FV09wNXVXNU5BUnhXd0ZvT2tMcjN0YVZLcVA2bXklMkJxWW8xVFFtbVl1QzEzOWN4dDdiYSUyQkV6V3ZiN0J6anU4UnVFTjMxNk9TTkRwcUJtOEtTYjhSWWxXWFFhUkFrM1Q4NWVqQWpoYSUyRkJKJTJGdG9ydWpyb0R1anJkczJodDdQSFRGVzV2d1ZaekR1RW1KayUyQlRXZ1c1Y0FkeWpBVFQxJTJGRDh5b3hCQjhJOGpzMFdmOGhZcENIck9rSEpuM0ExZzklMkZaZVZ4RXZ6TjdjenJLREdnbWJwVklsVXViQTQlMkZJdmZTciUyQnFFYXhRYjAlMkZIeDZLaDBRNWFjb1dLYm1LaCUyRmRxbHVjeE1EJTJCcDglMkZZb2x6REs3WTYlMkZvQ0FOcTlBMFlDQm5Fdm5adFM5cW1VMHJKSGJmeVByOE5Ga2o4YlgyWng2WllrdlZlJTJGc0xQc2ZxYnh5NEFFalUlMkJSZzc2UUMwSFl4ck8wbVNPNG9xNUY5SWVjJTJGMm5PM2ZOMUZNWVhhV3Zab3ZYbTZuZjJlOSUyQlpDN0xBNEc0dnJNJTJGd2ZGT3p5eTZLa0ElMkZibjN0WWYwTm5qWGtlb282WWN0ZkJ5UUVMJTJGT0RiSyUyRlZVS29LVE95VUQ2VjdzRlhtWDI2Zm9VdERsSzc4YUkxTElzVnBwT3h4SE1SMGdwUFA0SDdVSnpDbUdyRUg5aU1zSUNhd3Z2bUpaM2klMkZMMzc1RTlRT0NpTHpQNnM4Uk5Vcks1UG54eElrTDRwaW0lMkJqaU1jT2JUUzJpWGp3T1ZZalFoeDZYMUIzNVNBWXZOb1RCTGVHV2IwRTZUMzcxeWtJWjd0cm5IbDZNTUhycHZPJTJGWGFDOHJHczJJdE5UUnI0M1dreGxmbHlXODlVVjliZmVYMEhRemZZekxIZ2V1QyUyRkt2MzhpNDFjWWZmUHh0MkhyVHpjWWM1QVNvQU5VY1B4d2Zrak8wYUdIU1BuWVNlOGE5NTM3V1Bxd011ayUyQjQzazdCMmRoOWlUaWhUbFF0RDZIN3BDUzFxTkN2aUVudklmVSUyQm92cGJpdGtaMUhmJTJCamRIc0htNFFkTVhOSHQlMkZuUnQxUUhEaXVMVDQ4YlZmbTdhY2hnQnM1a1dZeUJ1U0hGRHpLNyUyRjNiMSUyRndGTk4zSk5QOEdLd1lZUzJjS0JTJTJCM3M2QkJpYnNtcHdoTHdTTjk5OU03QmhNWjFoY3JPNnB5bUNOZG5CNnNIWCUyQmRJbncwTXQ2TEslMkZMTEtQVXM0YjhvJTJCOSUyRmtmY1d5NDF5WDVkUDAzR0pwS0dhd3hacUpXUmJUMDdlTzcxZlJmMEYwMUtTaUJ6M0pqSVJyUyUyQmRzV0d0ak5qTHh4MFBaNmkyQVdUVnBUcXRnVmsxUTNMMFEwTUElMkJ6JTJGakdPdzFrZVc0bFlpRHpVZE4yRDNxNjM2YjdBbjE2UWNxS1d6SXoxZHpHSWZsNFVYOEs0NXROeTVzVFJjYmtaNTRHalcybk90bDQlMkY1QkpYbTNHZWhlTTBnSE4lMkZZMXA5cTdVN3Q4Q3ZQeGhZSnBPVHg1MUNBTUZvWmRuQkxQeGxpdlA1c3pxVzdVZUZWb2VsZlBYc0NoZGtUSlVoN051WEpQYzBhUTV3VzlLJTJGeDk2Q3NPeXNQSVZwamxTZmY2JTJGclc0a1IyZ3YlMkZnc3htSFN5SlFWcmd3eE9iS2c2N2IlMkZxUHhTWUNKbnR4MzBSTTE4SmlvQkowU092NXNlSTVVdUF0Z2olMkZqbnpZZW0zcTFzdWlZTm92bWozazNWTHpkVnV6aDlPQ01zTHNIbVQ0dzM2c2p4Qmk5a2tFZU5GaEg5WCUyQjFOb3h5aXVKN2JmJTJCbXklMkJRcEdod21HaCUyRiUyQmNieGdpTkM0Mk9DZHRwUFJMT1FsNm0xckx4cERPeU9wWXFUZnpDV2E5VnUlMkJTSnA2T2glMkJBMkJ4UkgySmxmakpVWHI1cXVJVWJDTThqRiUyQjdkWTdTaGdKQXJXWHZraHY1dHl4NDlBYkU2QThaY3lBdzJJb2tzN3RDdmpLNkpkYzRWU0duWUNFeUI4YXZ2dHN6SDlFTTJhbjQxVWJhR0VJd3FBQjVtamlGSE9NMEw4dGNLY21jM2Q4UXklMkJvNUlKTzJVYTVIbHJPMGVMJTJCVk9WcnM2YW1hRmtDUVZQckJkYVpxZFk2THJDa1ZRc1RoTG1uVHFZM3prTXBsWSUyQmlOMXJ3WW5nRzlkRTlVeSUyQmd0WFlDJTJGNTBYbUJqTVZYJTJCJTJGJTJCc1RTOXByMFo5aXVORDdJbzBrdTJDWndjd0VHbWJPb21XbyUyRk5zV0xMQnFtZVhqSG5relRRaFBPQ3gzanNKMnF4YjdQJTJGaFdmaTdnNUN1azdyN3YxVnYxalNGMmRMaWhOY2JhaW9OUVllcTJ1TnF6U3ljTTYwZmpXVHZsSENPNmVOU1dXZlFsODJOMUNVVHpJYVBrd3dUQXprT3g5d2g1UkUwOXZhNmh0eHd0MVRCdkFmYlBuSXc2ZklHdTl6VCUyRk1NN3NENzBydHNEaHZSYmxkWlhDcnhlYkRLeDlHdG8wYm9qZGQ4TXE2VXc5a2drOG5pR2ElMkJORmJ1JTJGc2F6SXElMkZ3ekZpRDM1OU1vcWNDZzFKTDJRT0J2biUyRnAlMkI2ciUyRkRBTHoyZSUyRllTUk1HOEVwSnI3YnczV2hwTVBHeGROcE1zZUpqbWpTWnN6WDVsM1V2T1dlVDRISXolMkZ5SkJXMWgzbXdwUldpTlBVV1puamVVMkppdWZCVGdOeEVtWFJCWSUyRnFRTEx4aUVSdjlub3ZMM1RRRlo3WlFMeEIyeTF0VXFqMVRkOU04dmllbjJBQzhOSXZDQzJTbUhUTDk5c0Z4YnJicGh6SUZFNmdKMUdmaFB6TUhkRHBaSGYxZjZ0TGVIN2s3RTBTZ2NPSTJDJTJGUllCVUZOZjYyT3h6b2IwRmF0c2xxSU9acVNRSkp5amVNNWpIJTJCaXE3RXdXenRLcjdCT3J0ZTI0YlZJaWhTTUtpaVUlMkJ1cGN6OFBwTDc4ZG4yb3phZDElMkJ0cDlsQUZyTGM4TG44ZmdGRWJIdjIlMkJ1Q1FUSTZSNzhWRTFmeTlRRm81dXBoUmZOQjZOOWY1UHlWbTJGJTJGY1FpZ1pDOVhDOVk4ZXpZSm9LakNsU1F2TVNsRnBCekR6RVJQTEFvTmp2Q2hweURHa1BhVktVd2NCbWNoOGlScG1wRnR6MTNQQmNYVWRONDF3NWl3VVhObnFjMWclMkJzV1c0YXZtbm4lMkJKSWMlMkJTeXE4NTZ1JTJCYTBsJTJGbXA5WjN1VzNhMURZUHVacFltY3hjQ3N5U2NIakVJVGNyRFkzTXREempRUFMzd1pHUjIwanlTbWd0SDlMSzl6SmNobjZtTzhkN1ZvTzdaYVA3UXpVa1JMZWJwZ3BSVVQ2aDhXUXRTYnQxc1lIQzVSbEZPb1hMMlJXMld1OWxISTJMa0F5ViUyQkt0SHVCMiUyQjFJdU9POTNBa1Z1NjF0VWZZd3lJUnNkVlFCNGRkcWN6aFV2dHhlMERlbmVHcmMlMkZLcSUyRnElMkJ3eExreWo0VUU5QjZmNFdwVUdsdVBKTnpvbENnZ3QlMkJHRkFBV0p6TWRGJTJGaVBGJTJCaSUyRjhDVTlUdmNxNFBuOGNlMDFRWkhPaXJIeGIxazd6TjRxU2tOVzBKS2NVY0FvMWdmcUljU3NzbzlLNFdoaDlJdiUyRnNFVXBlJTJCUnRBVWF3NWxtU1A1Mmx3a0luOSUyRk5TZ2Fra0F6YTloaVZXMnRiVXFjOTlHVU1PYjFXNzd2Z0hWSyUyRkpjRGpOV29Bdm9ERXFkTml0SkIyUFN6ZktRY0RjWWJEdjZGdlF2UEk2VWpneiUyQmhZdlVMTiUyQiUyQjBwTk1HbXdRTkQlMkZmSTFJRDNadW1ZRDM1Z0VXRDJnS2dERksxRnRNbW1LdlVSMG94WHV6Q1NhMWJ6QTB5cmYyZ1dGOTNLTEtFZnZnV3VOTnREQVhuOGpQUEdRbEVtJTJGUUEwRmpNUUNLRkJLTThLM21US2hnN09NcFNtRTNNTExzczlQR1VUdkxPa1lTRUFUclJ3cjJmUE43bVdXMHpHR1ZYUHA1SlA1UVVrWExRTTZicVpBWmJPYWUzTm4lMkJkZ2VmeG83S3RzZkl4dmwydnlTSGgxZHV6ZTFJZUp2MFpJTmNTd29XOU9CSDNoY0lnU0hTOHZyaDdTNVJtQTVhJTJGdlZxNCUyRkY0bHBOa1NaVHhpUCUyQjhQd2V0VnJPWDZGZjEwaUVWc1hhNVJaSm1kNHN4Smo5eGI4ZzVqMHJMaFY4MmRrTEFzcEJZcGxnJTJGQTh4TkRnVlVCbFU4UFZySk1IWm5yRUpicE1CQk1JN2dPanBEOEd5b05OWWpSUmNEJTJGTXdTeUpLejAyeGxZJTJGanNiT1pkSGQyNndWVWlsWWVMTHNiWkRHcjYxSXJDOXpwQXZvekhDeFM5OFUzNGZPMlJLcU1zOThPYktaQkpZa01YUVd2VGptQjglMkJxSGdjNVNER3Y2TnpraDhtcDl6UVZIR1RoQ09CSjNVSTVvcXJOb0RUN3ZncEM2cHJ3SzJnZUklMkJoNUg1a1ZTUm9lQk1uZ2ZuUGFIbVRTYlE0YWkwOG4yTXJjc25PT0V1d2Z2NEVSZ1VraU0lMkJoV1h2YkN2dzM5YW1oQUtqOENRd2RZMTUlMkZRY01MeUhXcEFzNUQyV01YU3ZWTHQ3R1RJMXFQMjFPelR0T1Rjb3BlJTJGbmhFRjVVdDIlMkJIeCUyRjYzRG5JRGVOJTJCaUtOZVYySmg3MENNVDZMRW5iTWJQYU5hTWZYT0hIbWdDTEl5UGVvREFvWUNDOGowJTJGYlczSER4UFBMQjdVNXlGQmVvJTJCa0xSb2ZpRGsxY2N2YnV5eXkzNGdJeEM4M3U2UEZ6bUNlTGQ1V044c0JZNU9UcDVuSDRPcyUyRm15c1JhYUh1NVVEeWlITVhPVTVjUmpkJTJGdjdlQnRhUE9oY09qOE5uTzN4Sm9kS0NtSSUyQnBIWTFKVEhNOEU2QSUyQlM0S1FFa1FqQ1J3bWJ1T3pRbCUyRjVHTGRrdzlMVU9WMkIlMkJmRG9ZbHVPNWRkZlV3OHEwZkc2ayUyQlVsRUpINCUyQlolMkZWWnNIRUJUUjZCeXlZbnVGQllRbDZBM1BSRlk3cThVMUM1djhoeWdaVWVoekFoblFKZ3pwQUFoaVolMkZwJTJCY1FJTWkySDlqQkEzOFB6U0NCbnI5JTJGekdEQnYzWEdUUVhobWpLJTJGOFA1TTNEM0wlMkZObjh1QnlxU1JBeVYlMkY3aWRNbHNtSmVWOFF6cmZDeFA2Y1FQZjVQUEM4c1NDaXd2RkR3MXh6T2RzdW45aWhmc3puM3BsOFlseGk5aWZKaGFJNGV5eUlrWXpyVlMxMlc1cUVvc0M3SGZGbFdjdkdMSnp1U2hjcE1GQzJLUG5TJTJGUmZRZ1E0Y0hqWFVua3Q1ZjQ0ME53SHZlQlNqNHF5ZWdINXpFMklOTTBBRFhKZEklMkZrNXJxOTIlMkJVWUZVNmZMdWtZR0xOdTMlMkY0SzVqNHhGYzJRdU9sY3I1ZHdheVBNTFZTYm5uQUlheXA1QlpvRkw1T2FDSE4lMkZLV2NITFBBalJobzNkeG1WU09KSiUyRlAlMkJ3Rm1TNSUyRlhxaWI2cHMySGIlMkZTYVAydUp2cExWdVAzJTJGUiUyRk9hbThpZnpONEcwRmY2bUclMkZLbjhzODBLZFhtcmV4VWxLbnZtZ1NXWUpUY09zYzNadEF4a0RMVzBHeXoxc3NpbG55em9aRzdzMnVxJTJCaU1ZbWdoNVVKTmZleEpyVnlwYk44NCUyRlBPU0s1YjYyRENMQ0dqY0REbkdZcVNvdUtTbjVYb3FCaFdoZ09DbmNKaDRheDclMkJaaEpOM1hqNTlyViUyQlJhdmFFbzJKa09NN3IxZW5maSUyQjhIbWRzTXQ0QnVrMTJJSWRTV2pCN3ZRaVlGMkc5ZGJISnVURmQlMkJ1ODdtRDFlTmlkOTJscDBUbFFOUGVtM256NG1veTViNEJqNCUyRnh2dUJLYTgwNzB2VktmMERlN1gwZGIwZzhDMTQ4M3hMMWdid3JkckV4YkEyWjlEajlhcTdWOURuTFRPbSUyRkYxaDBjV1FQbkRwVmtPODg4amYzZ3IyU3VHemZvZjJlVEt4Sk5wSDhqZGxjWHplM3BhZnA4eVUwRnhXMFI2aWlEWFhtMDEwZEw4YWVJbEd3d3J5REoyMTRsZ2ZJZ0tpZXZaYjBkaHAlMkZrMkI1dHFxYTBxY1RKbmtONWlRcmU0RmZWQXVuMFBtVGIyZW4xNGY3aXZnNyUyRk16Y0UzN0VHS25Hd1V4R2x5RmRUNTlIRyUyRkFOejBPJTJCSFQlMkZwdCUyQkVyeTRTdklkWDFZM1lQOTY4am5VSFdaUkZxMzdMaU9EeVVpVkhCUlNaNEZ2RnpYM2tmJTJGMDFzUFFrNHhCVTRRelF6Nmx1eXMyVXpxOHlOJTJGbWVSakRjY1RpOXlJU1FIam55ckpvcU9MNXNWRDl4RUJxMkFhU0x2aFVGWmhYVjY0dnVINlglMkJKWG01ZUZhUFNiMVZ3bnQ4alNQcGZKdXlsM3RxWWE0b3U5ZWxDWmpFYVJqVWN3cTJvNGxJeWJrZWN3JTJGdXl5SzhBSXdMUGoxTm92dCUyQjB5dXVKMVVKeTd5dGdsVzlCbHJBYVBySWlwVHRVc295cUo0ZUo0a204VzB2MzI3RWhoWU82eG1teDJFeVczd2JzbXA5bjhzajlESSUyQmYlMkZ2MXBaJTJGbllwYzE2NXA4MElrZksxWXU0MnV1VzY1Y3pGSXY3Y2hEMzBHbVVnSjNiZlhTZXhwVFdLMUlreVRUN0VmbmlTZ1RwZ0ZGb2Y1Y0Q1WWV2WGpUbCUyQmoxdmo2UHVYaWNObUlEYVhXaWNvJTJCbm5HMFBUcXJzanlFRTJhUiUyQkhTOXc2NVFiM3h4eHhPa3ZIeTVzOEdUVzZmVk44NGM2V2ZmRmo5cjZlNmNva2NjUTlTUzNlaGw5Wng1elc4c2xEZjk2UGJTMFdOTWJlNCUyRlRuTWlWMFlYdGFEaWJxcU5GdTZqcnZtYyUyRktXamFDQVNPSlpsa3ZpR1RIdyUyRlN5THhzTXdGQ1NXTlVEaHJvdWZXUEVCSmpBakNYRkVIcFIwVGQxbmZyWmJxdXBWR1hNczI1WDJ1b3RDeGZuS3FnNlRGZGJ2aTZIbzVwbkFGOUxRd2RzdnpEQmolMkJtODkzVnNHN0xSS2NGVkRmTjZEek1mZG5QRlYxVTAlMkZrRlhaeXBHU1BQVGdQaE1Ya1BVWjdUNG9zUm1wSSUyQm4lMkZoRiUyQkNPRm5oJTJCWmVISmNhQmRWZkk0WVUxcjFNbVFPY0hIS0lSJTJCQyUyRkQ2eWFFJTJGSE0xRkd5ZVpMSjBOTHVXUG54c0F1R25wc25McGs3Q2ZsODZXOHc3VHJNdGhoUlpFazVEMEk1TkkyTmRBYmxDJTJCJTJCajNmajBRNWNTdzZ2b0lNV3Ftcm96ampseUJNdyUyRm1GSXI5V3o2Zm94ajltYm5laXBRUm1FWGtqMVVtYWFCdW84cVRNeCUyQlBwTnVpOGtNNHh6SktEaXd5WTFEalVGdkdBd2o4cjJqT2JJYjF0MjkwRmNVTHpNZU1NanhxWnVSJTJCTG5ZYiUyQlRPUzNhbk94MFRVeWhzRkNrTW1DUGtFQUE1WW5LWGJKdVk5V3ZnZFR0NnVaN1gwb2VraVluc0pNbjVYYThoSFducEVmTyUyQmNmZTJ5SmRIJTJCdTc1dEJkbTFZT1Zqb1hPY2NLOWsxRlR0a2dwJTJGY3dqWHNPR1B4bVF0NzM0MW5vQ21qWUJwdjdiTTlhOVVHUDgwZzB2czFaTVhma3FGV3l5amprT0VTVnZyWXRwbjQzUWxCUzJqV04zNWdBQmMzZ3ZDR3c3NGFmU01aelBDTVJ4Z0JIa3U5ajRNSXYzWEdEQ1o1OXUlMkI1QVpCNVBWY0hDbTRCUW5mSSUyRk1VTzBwMUxYdmtuZnBZaGdyUjIwM3B3bFZoamVZMW03SmsxeXJneElGc1RaOEFKRFFmT1RhZmF4YktsTyUyRjkxV255dHZsSHVEUjBrNVBvSHZKUHJucWJybnFYclZWUGNQS1BXR3U5RklmMWx3UUxkTEVPRWRORWtNdjYlMkJKbExZcDhic3VTek51ZFIlMkYzN2FiSGM5YkRkSnQ4JTJGdEc0TVpKZjU1Q0E3VTNFMUdLQmlGczQ5dnQyczNlVk4zWTNqTHFEc3NmZzhXdmNHekhIeDBiRm9TcjZqJTJCZSUyRm1raTJwWEVNWWE4SEJCJTJCVnd1ODVsdDhvSERqSk5QV3dhRnNGSGJJYkZuWGM0M2dlMUdlek9qRERyMCUyQmJ2SXVFZkRrdDl4RWl4ZGJtUjclMkZ3VW9TU2oyJTJCRGFoQ2dwV0Ezb0dBSWtZckxpUlNDUU1YckRmRFBRN2xhVEFLQkVsNzQ1Mm03dHlJczZYMm9RYVpwbE5HejFEU2lxa1BydWFDSXI5SkVobWtET3lwZjZXSmlKc3BBbnZUdUgyNTB3S0dYMUZUQ1RPZExtc1J1JTJGNmslMkZqN3IxZ3hIY3pCYmVTTlp1YnhtWFdZVmJDV1AzRE1yM0Rza0NpMnlZbko1ZTZPRVlwc2slMkZma2J6RWZVRCUyRmRvdFNHcG8lMkJNNU45dWkwYUZWbmhwQ0pVUzd4TXBBMXVnaVpUZEJkVGlzUjAzTTJMS1lKRjBrR2V6NzljN2xCJTJCNm1lRTZrMVRhMFhNTzdpSWIlMkZvNm93Z1NMMjklMkIlMkY3JTJCNlFRMTkyQ2pqT2lWTWxlR0F5MWZxbzNEQjJGRG5rVmZxSkE4bkg1NTZkUVdnNXFmS1o0ZXRmT3UwQmVxbmxkTVRrUHNkbXhmSSUyRmg0NHczamp6bk9rem8zSHFvYlFPcmJoOEV3aXNuOGJoakNGeVQ3UFU2bjYyZTAxR21KJTJGaEZGRDRYb3ZqN050U0xTQndjOVVvYThDVUZrakE1WU9SaVZidHExMiUyQmRYVldVZVFXTWtKYzJpZ2Y2a0FIN1cyeDJVJTJCWlpGV01FU3QlMkY4OSUyQmFFMTVacURIeUJIWk9GRTZtR0tYNjZ0UU9GSElPaU04Tnd5ckZ4YVNwbnBEU2JvTXVYbjBIN2s5WkVVaHJIcWF0clFoNGxycFFmQ0Q0VnBEJTJGUUFCWkJFWW1OeFNLVGpnaXJCQnFSZno0THRiTkxPOGRvMThCWVQ0OVBVTHJWR1l6Q2ZVMWhUb0NQMnAzNyUyQjFZc1ElMkZ5dyUyQlFPeWd4VGx4Y21QY0I4V001VFIwdmx5cjk2dnJIVlBFdkVYYUhPbFhqWEtiYVdaV2slMkJ2bTF0bzVOaFZVbnpuakhpN0s4JTJCNlNqcTNlM1lOOTJlUzhGaVhXM0dxT084eHBQdDlqazMlMkI1cDZpdDVLbiUyRmNDU01Kc1ZWV3BybXVGRGxycUJDJTJCRTklMkZiZnN4cEJrcjh3YlBiSHlDYlFaZTZLYlNjM1hRam84UlRjMTElMkJKM2ZXVDc2OW8wYjZEQUtPbmtrWDNtUTclMkJLelVTeElDOVVCSnJDSEw4b29xYTE2V1BLRGgxbmwlMkZiTFZNaWJwQllNZ1Bsbmk2MlVINFpRWElTSmkzUU1FZElkZ0ZKbllhWTVrZ3k3d3NoU2poRjJ2eGRGWHhNa2lNRW9tZENyb1phY1FKY1BycnBmZ0NRZXQwY3Bwa2pzTWJtNkRaQWFPNnplazJycmtvNkM1T0JrZU5KOEs2ZWs5ME1odlBaQ3NCSHVRQmVqZ3c4OW1XOWMzNnI2dW83RUhpWE1mcXZvRU9mVm5oeGhHbiUyRnhKbnlxQ0JWbnNRcEJFV2lZMVQyWjZ2JTJGNnRmQWNXODhHazBGbHloJTJCMmJuZ251czRrM0dvSnNTTXdvVXJTalI0JTJCM1cwMVBaVVVlWlBJT1pXMlFTR0V0MVlqbXRZJTJGJTJGJTJGcVpzYmIlMkJqNFN2WHNpc2dYUmdJc1REdFVLJTJCenlTZUxXdFN6Z3VEeCUyRkxKblV6ZTJFQ0V6M2dsTmlKRXFhSTl0WWZkMUZLJTJGckg3JTJCMHNWZDQ3enpKQjROc0hmQmNjNWY4MjZOYjhVc0RDc2p2ZmhsSU02eVlUSiUyRnliJTJGUmxFblNaOVpRZTBPS0tHWjFpZW5zZyUyQnhLWm9jWHN1c1lSR0tTVVZvOTZMd3hvZmlNJTJGYmVSJTJCNmlYajFZJTJGNCUyQk9LOUd0NFFFZnVyMDQ0YVQwUVBYclZSWlZ5ODglMkZQYnc0QWhaQ1gzS2ZPNTVLRDlkcjdpb1JaQXpoT2dDdjdIbWpNZ0gwWXE4SmVHd2tuSlBaWUdBMlU1ektFV2R6RXV2RnVkaDBYbVlabTAyJTJCZHglMkZxbTdIQjdrciUyQjdxT2VWN29CbkJ6eGpsQ01pMDBpR21mMFBvWGpGZXV5d0Jhb2FuRXI4NG5aNjJiNFVkMkZXYWxLQXlxSU9GRXlXTnNlOVJsZzF2RVF3bWIzYklCOEhYY3N0ZmtZQXg3UWUyMHpxJTJCOSUyRkJ4bVhXQ05ySUs3T2FsQlVDMFY0c2ZCVXllTmNZUEtPTGdCS1FtSzVQM2hsRlRNa2hIQ01kSlBVSHF2NGtQMVFRSXA2T01ZVWVmek1sT1JySUlVck5vSllLVyUyRllCQ0FuT1lzZVN0QiUyRnJGTDFvaGc4ZDUwSkRKd0s5M201cnF0M3BZNUhlMkhoJTJCWHZNWjE2NFY5MkRHQ3VUcEhWS2JGNG1WYmhlUkIlMkZRNng2NHRHNDRFNVBiTEhaYkNOMGMyM2xGc1RXV0JjbmJibmM2ckFOUDJlNW5TMjVtJTJGNFhVOGNQUXllUktYOVRiOWhzeDdVNlpwRUVNTDd5S0dDTjh3NWlRJTJGSzJtSVkxQVhZajc1WFBTMGR2RWdqQzcyRzlJcnZreDclMkJOcTJMRHEzNnpBUUtDc2J2SXglMkZ0V0JYT0Y5JTJGQ0pzV0JNVTMyNU9FRDVWMkpNMVhQYU5iNXdLbSUyRklWRjdQRTdFVHdpMXdUcUl2bGl6N3hwUXNYUDdobTNRTnJIZlhDdWpBUFZyMGluZGpNZk1FaHBxMWVhU1F5JTJGWXZBUnRNOWolMkZEU3RYa1Nqdk9PJTJGbE41USUyQnd0VjVEMWNDVzBFJTJGamRNc2p3eHMlMkJPTkk4VSUyQlJtRmowS3poZlFPMVFBWGFsV2dXcjZnaFRxd2t0bUhSQWkybENSVG1EZVFFaUZDZzdFWSUyQlY4cWFzSTZ2M2NZWSUyQnlsT0VpMzR3JTJGbEdkdGdrNzIlMkZsbndXVGxReDVWM0FIRmlhM3lCYm1RbUNLTVUlMkJNems2RiUyQjB5bSUyRktIT052dzIlMkJzYzl5RDE1MmM1bVZPYnBDelklMkZ4cGREdnlrTWQxc2M5S0k0REN2MjV4WThxVXRVNW9wZ0IyVnAxTzclMkZpTUt2aEwwaUptazhLNmk2alI4UlpoY3dwbWozRXo3ZVRxN0FpQSUyRmV6Q2FPWURCN3lPSjJSajJqazRIYUc4N0tYTmNqZVhpM1NEYyUyRkRRZzNvQTVmMFh5cUxONGlDeUZ4VHZ4NVNWV3M1OTdEOGJJeEZEUG9kcE15QWwxckpZZFhlajZYdXlFeDNjaG1yVEdJbjZNJTJCbFh2Ukt5WnRQamJ5QnZLWm1tZ0ZNZzRtSFpNUiUyQkFSNWJ5bzdoTzMzaHlJZGQxWXJ3WEZJcU05MFFLV2NYJTJGdTM5WUQlMkZ0Ull0RjByUDBkNmh0MTNkNU5YeHJZSnRYUWVkTlVERkx2OE02cHNpTWdRJTJGZkJRWlBlNTYyNXIzdXU2SVJFRGxGc1QlMkZ5N0oydG8yUnozRWxySHJ5S1lwQSUyQm00bGslMkZNY2c1NGxEelJIMXp4UHE0cElqYUpDM0tvNVBvMFBQeGQ0UExuaVlac0pnVjRociUyRk1QekpsJTJGd1BnY0dCME9yd0huVGJMMVpoYnIwU3BFeiUyRm1BcFJ4MTBRZWVDVHpGT0NkSzF2RG93MklaNm03eUdraWR3WVpxQXRTQm45RHpsdXI5djlpJTJGYnRFU0M4a2JHUjJnZEdibkl6SkczaHRhcSUyQlBFQ1B2VEp2UFh6VURIYmdldHZKVWE0RXRkWnhzWFlmcjJpeEdUSzhuaGVNSmIlMkZ3aFQlMkJzbE9IakdTV1JDMU5peCUyRkNpeXpPQU9Xa09PaEklMkIlMkZVeFdhcUc1Vmo3OUhFRnd5dGdzeVByRGo0SXowdVBQWiUyRm0lMkI5YjFrMXBRZHdQWmRTWnhXMlJHTG1tRiUyRlhmcHRNVlBRS2hmaGVBckpwRUhmZGI0aUFldk56aXpYYjc5NklVbThEb01NZ3A5NWg1UmolMkYzN1FPWTZudkJTenJrN083OEdRT1B6S0U0SGdhM1JjVnNZVlFRT3EwVmpGV3h1VVJoSXklMkJCMm95QUJwMDRuaGQ0OWc3dkY0ZmFUJTJGJTJCVkt1U0hwcm1SQURMR1RTaTIzNnFLJTJGcXhCNU9mdk4yY2h4aTFrc2ppT0pJSlVKb3ZJdnFQQ014d3lBMktSNDFxa1NjNVFMdjdLQXF3b1hFOWtSWHd6cndXQlZreXFZRGloS05PakJEQ2ZQZTd6UWZDdEVDciUyQmw2Mkx1YkVPYjM3UWZPTTB0cllHRnZXa2pxd0FjOUxCdGMzWnA4V1d5aiUyQmtxVkxueTM3V05QRHlRdE83UTdiRE0lMkZZZ2ZTOHJVcTlvSzc4dmk3RFR2MGhmY1BqN2d5TEhTb1BnYWg3OEpyTUh5YzlKNHREOVFZWGlZMUtVUkVTYm1uZVMlMkI5Q0xSN0Fkb2dHQWlGWFVqeFE4NkNyODYwWndSZFZhNWxGeFJWRVNzVGZ5MUdINnZuV1V1NnFUREFZOTlZOE9vOUVZNGx2Z1ZtMDFYN21USmc4SXdNVlJnJTJCZFpkUkxBbTRiQ1dtdXdYMmlzZ21ESDEyODBKOTBpUXNZdG12ZDNseVQ2UDRTMjRHR0pVMSUyRjB6QmVNRjAyZHZ4UFNPJTJCZ2ZHbThRNlduYWtOcllOeGttcTZOJTJCdUFEVlZGTVlzOW5oZ1V6Qk9CJTJCYVdtd2dkemI0MDlzYkolMkZFWmRTOHRaVTRDS0U4STJkZmJmWGhoUTRhNEVBUEhrbTA5YzBhbGdJJTJCMDc1a1BXQkdBWnNmWTlDS2VxdmpyMkFkQUt0a3ZQT3kwaUZuRGd3VTY4bTJHSSUyQjd5RExPUGRvM0RJT0I0VUN4UWpZSnBCZ1hBZmtSJTJGYjFkaTU4T1VIRnNaOE1LZGslMkI1Umd1SUc4WW9TbjNUbTN3Ym1PQlFBNCUyQjJTd1cxVERjaEc1NHpzZjhxM1hKYmIxVSUyQkxmQWhIRFlWYnZrdnFCTXZjVElFYnlTdU5tU2tuaThWOHBNZDBKcnBFdHhBeTNjeFhFSldIVTI4OVdPWFJ4a0pSaEpMNEIlMkZzaEFGaGFlbXU4bUdxJTJGOXklMkZydm9ua0R3cTRVJTJCaXAlMkJBcjRWa0ZzNVhqWFh6ZGx1MGY2NVlBUUdlSW5BZVAxMlFuWmdUY1Y2UjllbzlZQW1FbWZ0R0NueGVkRVBtdklNR2lNNGlFcXJnMiUyRnJkSHJkQjBhZW5WUm51TzlvRTFhZDhaZzc3M011UVVUZ0pmbkN4ejhES2pYR2NSOUFJbFhZeVZPb3dITmFrazRLM0lXVUNFVEZpZTNQckZBNWJtb1ZIZEMxc2xwSUE2RHkxUTVMdk5ldHNFd2ZiRDg4SUFPOGpKbVU1bEJkY3RTRnklMkZBZ3ZxR05WQ2UwekhlVkExVENpRUVQd2xVUVZySEklMkIlMkJpSnZTV1VlTzFoSUZNQWVaUVh0RlduRVhpS1R5QlFMU25YWmlRWWVMN1g3S0psMjZZUFY4VmZCY1Y2enNQMklsNjdVanZ1ekhkN1YlMkZjV0poS1VIcCUyRnVSV0V4TmhIRmhiamRjUUViT281TThnRHglMkJLUiUyRkE3T2V6OVBBQ1klMkJQWFZ5eXBnSXQ4WUxuYlJEd2FzU2JlV3pVcFNMMGplemZtTE0lMkZOeGpOOGJqWm9kZDRrcmt1UGV2bGRqMGZKT3clMkYlMkJBa09ncU0ydHVxaklSS0c1WjglMkJTdlRNRGppRVJydHdQN29KdmQzSXhORFk4VmNwZTczRHIlMkJJamxNTUN0eWxnbFNWeTVON1l1SjFqWXJzY0Q4dnV3Y1RtSkdmZ1VJUHZlNnliWm85dVglMkJzbjk5NG1VQXNCMlZqdmZEcDJ3RzkwN3lYYkklMkJUNFFPVFpmNWdIcUUlMkIxVkZneXYyV3lEbzNaZjhpNHhGJTJGd1VQTUszNGJQcDFpVFBYblBjenVDUiUyRm1DbSUyQlFYQ0RUeGx5RlM2VkpaMTI1VTNiQWZQUmwwSTklMkJTOG92ZlBBZWF2ajIzaWN6TE9wODN1WXpPbTdWcGZTQXA1ZHhZMEhTQjg3bGwzTFZ1NUkwUEpPbFVqY3dTZHV2VTgxRllsZURaYmNOQ0twQXZJU29XSmZ4cWNxWFolMkJ3cktHUVF0M2tzV2Y0UVI5T0FmTHd1MW8lMkJMeXAzU0dIUWl0djdNZkJBNlFqbmhSTGslMkZaTE11JTJCJTJCSmNrUGx6YjdseU9ORjRnayUyRlhGNWQzRUNybUN3OXBCQktSVVlNaXhqejJaYzhKajYxZGo3UW51ZDJzSUozZmJMNWZ6OE5IJTJCOFZQb2RjN0dieFNjV09RcnBuZ1BldmdpS1pVQWZ4WmRNTkUlMkJPaHRLbjVzTk11TndTTHZTQTR0RDB1dVlKblQlMkJGbnAlMkJUbVlrNndnVkwxOUVPMHRLdmlReG5jY0RiUTJneXlEcWxvQWtiTHNiQWhVa1lQNnliTVN2Vll2TyUyQjl6bnYlMkJVR0h2UTJwS3I3aGIlMkYweSUyRk5lNzQxJTJCdmpGNFBBNTNOUEslMkI4cEg0a3NESEdEeEd2eDVjNTliNEMlMkJ5WFlyN00yajM4NWxNOW5DYmlDWnBLaG9mTnBIdzJMSllWS2xocnhrTW51QzBmUENqSm1URzRrYVF6MjdHQWFWZ2lNOEUzbnVuTEVOU1AxVVMzSkwzczJiUTl1ODREWXNxYzRJRnNRSFdEeHVZYkl4dldWRVpWWlJCU1dNZHhHOVZSb2hzZXhjVCUyRlpoaFJENmZ6QjdvRTgzVnJUVGxVeTh6Umc0bSUyQnYwSTlnc0JOVkVBOHlYM2tpcmpoOXEzd3NjVGpqMVgzbyUyQkRSM1RmNldoMFZJQlVNekU0UGo2ZzNWOWhVaVJHY2tURmUlMkJUeFM1SjV4ZFRGSmNUV2prNGc5T0dHdTVGd0RyQ2NoYzhIT1FOaWsxc3RWbm1WUlpOMTZPa3hmUzlsNGJvbUY0d2NianE2YTNXdzVPZGs4RVl0QzZHblZWYWNKaSUyQmVZc1E1aE0yUU1hMGNTakJnVVNrc2dQTzl6OVJIbW9leXZRSDVUSkxzSVFxSEpxTUphUnpQelhzNks0VW12d3NhYk0wd3ByWDk2T0o4V1REMjBocEsyblNzUiUyQlpVbTRHRzNydm5DJTJCTElzV0N4SnBEaVc1bTZpZiUyQjRHQ3o3QXRydmZFTm1YVDhqWkJ3dVI5YmJDV04wdjc0VTF5djBZQjhrRjl2SkIlMkJ3YkszVENSTiUyQjNESDV0ZnJhcnZlMTNrVmF5Ujh0JTJCN0xnZlNRckgyUk5PZXgxdzA2Vkl5UENoQVo1dE0lMkJZMWRVJTJGeW9XNDVNZ3dabHFoOHlmeUwxJTJGZG9Ra3ZESDk5MWpBVW9rYUhDS0ZkcHgza1BaczNpYjdrVkRzQXpXWjh4JTJGUzNHaXBSZjU3JTJCS01OVXlXdjBrTCUyRks5dFZ2RUtzTEVhWHFaUjE5aGp0UlFlZGNyUnV2UnpTRWNzTlFBekpZQmJJcWVNVUxFUlZhSWIlMkZPU3FUZ3VCMmxCWSUyQkdRJTJGQmZHcyUyRmlyVUZobW5BdlhYazRTYTlzWWhETk1ocjFUZUZTTmt5VVBBbWxVRE5WTGlBMWgzQnNJJTJCQTZTVUxFS3JlJTJGMzJ3T1FiZ1FxbGElMkJXJTJGTENVM0dsMzdDNzJ3cEo1RzVRR0tpd1RjRjVUYzhUYUE0ckZ4U1R3ejl3Vk83R2tSYzdnOUt1YUQ3d2RwZXJQNDFYWSUyQmdVMTNkRkR5Q2dXQWVYNDdxWTNjWkZoa2pzbkFsbkxoa2NSdTZnMHZTNjdib1JzdWgwbnBMdE4zR3hDMHF0TGduT2d5VkcyTkc0S09uaGNoMEJZRDI0MElLMnJrOEt1bTFrWEJSMnU0eE5yeXhwRzBTSnZGOVFnWVNnQUE2N29nU1BNSlJmQiUyQmRwTkslMkZ4Q1A3a0olMkJtc2IlMkIzR0dJRHFjOGdGU1NHQmwxUmhEejExQWticVA3anJFMFVBZ3Y3MmNXWTBHdE44SGo0M3ElMkJFSzBVY1hmWFZGNkhCb2ElMkJDQSUyRjhBQmw2Y0J5TWdiSlFDV1NQUmp3UEdTUkwxMUJlJTJGc0RodmNjVFZWVE1GTlRKV1l0RXFubzUyQ1RCeEs2dWtVMzlHbmpnRHdlMTlQMVpJcEJoZkk1ZHdWSmZKOHp5bGFNNW1ZU1RRa2lLVWlhMHZnSE9ZOHVYQ0dLdUpIcXdYN3cxc3djRnZwckFob3RQZHJqdklzRks1b2E3cnFneVE5VXpjUTVnVlB5RVhxU3glMkJGNVBxMUszS3BpY0RlS3pHMHFlN0olMkZmMXpsODJnOHVOVGJMTGRNeldyQkZ3bUNpJTJGcVVTS0RIalFXYTRtZGljbko4bnk5Q0M1OGNPSll2RGVOY050VmNaQzFKVkdWeFlyeVIyR2ZNUUZiMENtWlJmTkVwS0QlMkJlT3lSdyUyRjh6aDQzU1JVWXBQREpOJTJGVWhsd2JDRFglMkJ3QUFvaXZXR1F2VkVsSUklMkZxcmlibiUyRlZkZmFncyUyQjg3Sk43REg2M0V6MDU2bSUyQndGT0cwZWwwS0dQV2F1bmNwNTZ6M0JXYmg0MGNUZURaT3A2Zkl3ZUZDZEF2TjklMkJqNTE4MlQ0c21PYWVwV2FJZSUyQlpCWEo2cyUyQnJQeVBCJTJCUWhCNWZIeUdTOGVBSVhoZncxamFHWkxRRlBPQmhBVjhselFWMm9KVVFtUm9Mc1ZwaHZUY0ZCdjl3d3RweCUyRlpWMzZmMm1icGkxbm9vMjhrZDBYQm1BVlJiM1FYZzhJT0wxWlk2dkhGcnJEdGtKTVMlMkJETmtLWW82RmhCcVlHJTJGWnV5TnB5bTJicmc2b3BINzhIRUlNQlV0N1FOVEMxY3JPVk5JQTg5QUNGb1MyeXgzaDlPa3owWEJVd2E4TkJYbzE1d0JMWXNNbWclMkZoZzhiQiUyRkVFTExiV3hLaW9tbmxzOGpqbWNjYmZVdWNOWnJ1azhDTGRWSWNtNURrQTdsWWtNZHd2Y2VBUkhvUGZwblZmWktVQ3BKM0VhQzg4JTJCUFBYWU1QNnMlMkJjc0pybCUyQmlOcVJ5THlGZnFNdUFGQ0Yyc1NVRk1MQ2NxTUJOV0VUY1ZlS2xKeGk5SGk5NGlHY0JXR2ZCVzBwdU1xaHp2RklCJTJCUFk4S29KNFBSZUlnTGlxdTBIeHVjcGx5eEltOUVyOHhzWG1VdVBLQUJlTElhazF4N3dXZTUlMkJnVXlEaTdpU09QUTdIbHQxM0JHRk0yb1N2ZEZpU25zM0dOY3AlMkJJSVgwUFRTU05pa1pKNHBZcGplUHVSZ2d6NjY5aGdweGQ1VVVWVyUyQmlKeUZxZWIxSFlCaEpnZm9wa3BFbW9jbEY2RFV2bllaTVI3cVlYN1RzUFZka1o3JTJGZUoyJTJGRTNDZDZLa2s0MWlnYnJ5QVBmbzFvJTJGTyUyQmNpbGFnSXFLTUk4M3JzTSUyQkhwa1dDb0NTV3lTZTE3a3VZTEVNQmhkQjA1c0pnUnc2S0xTa1Z0Ukx4c1VUSzRUJTJGUGlpJTJGMk9jaHo4N2glMkJzUld5dFZabTAxd1djZFZQYU81bFoxM2FRc0dTU0U2d01vRjZ2dnJIRyUyRldBRnlHdGRrcHFYdEElMkJ2Q2tRVFZ2TUFJUWt3NG9NUEdEV0lLaEJRYklHJTJCY0VEUjJkJTJGJTJCYkt4Q2c3bmNMck5TdnJjNm9Hdnk0bTFCVG5lQVZKTHhIVFc0N1E3MDZDRWROQ1UycFExMFc0YzVSbkZweGVvRXdQMXVpS3RVJTJCZXkwTmdjSlhtNEg4Qnd4TmU5ZVdhUENRTW5MbHk5cWp4R2FpMWxGSjBnMTFRSk9LS1k5b0pUdXBGYW5HJTJGcmwxYXBxbXU2cUxCOVlRZWdaVXJIcUQ2ME9IbmlzZkV4WXlHWk10SDdpMTNyOTBhNUJLRlk1QjNWYTJWQSUyRmpBak5FdHZkSnRXS3J0QkdtTUJ4RVlTUUtDN2k4dkFTZzllQkhqUURUTzBTYXE4TkhGZEIwQXd0alBpZWhEJTJCSFFsSlc0cGd3WiUyRkI4cVZHYiUyRldDd1JGOUpKZFNXdGNlODVHZ3IlMkZFSUN3WE5GRmclMkZFTkpRMG95NnNOeGdMVmJJMWN5UCUyQjgzWVNYZjBNbllrOXF3NTNaMUl0TVh1S3NBNSUyRklIajR5c0I3R0JsQnR5c2phJTJCWHkyNVN4dURxT3k3N2RPaUlneWJsS1N1OElEODBVWXVWcm9yVHhTVHZNZENlM2Y3JTJGc1hFYm8zemZLTFNLZlN4d01KZkhQWm9xSW44YVNqMGNjR1BTbEgxOE1qbEw4OThzRXNCaklNdDN1QkV3TUNvQkQ5Q1JwT2NTc0swZ3VsQ0daZEhPc01HanFjZFpyWjd3blpIclp3ZnI0cUhqNXZrYnUlMkJhQ0JlV0Y2eFk5cmtvWUt4SE1TSlVvUjVhN1FIWk5kd3M1bUZFcEdnaiUyRmdJRkF0OGV3TU53NERUdHlOM2N6T2ZlSEhaOExwdlRkNzRETWJUTHRZalQ4Rkd2d01Zd1RhMXJzMjdkdSUyQmFtQm9mZFB2QktJNzM4eXFmdW9lZVBpRFRWM2E2V2JDOFV0YVFIZTBVblJ6TTlpSTZQUFI4OWZJVnVFeW5MJTJCVWwzNXJCQXR2ZDVmV05FSmpxTkRSYzRSQUE3M1FJJTJGZHQ1NzRoN1Q5U0lHNUJyNDB5UFVLZkViQUttSEIybHI3MnBQSHJOVHM4aHg5Qm80cWV2RnpyVjgwRU1aaXpUd2lHWXN2QiUyQjZYZzh0Qk5uU3ZxMGNRR0N2UlhSZHdZOU84bWYlMkZrMiUyRnV1Q3hlNkRLbm5lQXFTdSUyRnZjRktCMDd2cEZ6cnhYNk1YMkFaeW4yVmkzT1FGT0gyU29pUXFwTndPYVI2NE9XV3VQcVd6MGoyWFkyYlVWVWZ3aTVmZkJoUmZZWkZXU1ROSU5xWVlMTFUzeFRCM3ZpVGZibSUyRlY2clJmMTBOWEFCRFQxOEljWG9kN2hJaXhyNmt1OTczdWZEUld2VXVKNUpEQjhlR01MWlQ2OGJWdXA0c1JZYUZOOVUyZEE5NHhHMHhnVFVVNzZ5cW9hUzczT2JacEZ4YyUyRkdpZ2xYNGh4bzhyQ2ZqZzlqcHJXTkpRSEpPankwT1FURFFaMUtQMlVWT0lIVGRsaWEwYjVvNkNmTm5qVnl4eHpSSkRMRno4T3ZyM1VzJTJGMWd2a3R0NkRYZUJVWGc1RjNPTUt3bVB2NW5PTFJFZSUyQiUyRjFjdmFCOFBsZ0tuVkNQWUx6NHZwNmRCTllXTVN6ckE5VVdtbHNXT3kyVFJmNU5oJTJCa29ydzYlMkZPNlQ3SlkyQUQwWGxOcUhCcWNQaFVMQUNVdzlOMGdRcUdkJTJCZEMyV0w2NHUzMkNBaU1Dbk5qWWM3b2JuTnNuaHpmUVIlMkZJeTFEdGxYMlFtS0oxejNPUXAzYVlvVVolMkZvTENnMElrRGNhV0s3V0JiRSUyQnpRMWNXbDM3JTJGZ2xiTjJoJTJCRjBDdHlJNGQ1MmxDYjM3RnJBZzU0NldmekdWVVBQZTFKQlNCbjhPa3NwcUt6blZDVmRSWGo5TCUyQkhTOU1od3BTcWNQc3U0NlFEQnJVNzhiSUtvWENpMCUyRnlNb0dUcEhSMUg4akh1RUgzaE9YV21UUnRERHZjNHd1UmZDTCUyQjlWQXZrVGJmNTlmWElZTThHOFBLbWhuSXNMdjZMRG1uM0phRzk0WEU5ZzRTeWVaTzNIWHpZQnRITnJCS3AxamhhcWN0JTJGJTJCS1B4YXdxQ0RPRmc2bjVzdCUyRkg1TmRXQXkzN043R1U4ZlBjVHpXTnAlMkJPak9ZeiUyRmUlMkY0VlZPeWFwNlg1YmtOJTJGJTJCaWh3U0Z3QTBTYkJLNEx6Y2l5QWhmeVNjZWNzd3dSR1V3blJ6VDVXWjI0enJtUzlOVVJBUW1WRWpJSGJwbFl5TER4JTJGT0RERGZ4eFRrYjNNJTJGdzNwejZmdE94elpGN09ZRzN0RFBsaTByZHBWVDRwSGxYSmVRNXE1TENxSGlKRjJER1hUUHJWVGklMkZsUTJndFY2Rldja2FlMSUyQkZlN2d6eWslMkZaMU9Va3AwQ3V0NjUwT294emtycEdCeUh3UURKMjcxc3AzWTdrSnJ0MXlGZTRBTThCcXB0eml2M1BOejlqJTJGRngwZzlmQ1BieW40WnJmejQwN2IlMkJodGQyQVRMMTB6ek5JZU1jZ25OVXRZUyUyRiUyRnpwaXVubzJnaE0lMkJnZzVrTGNqQVQ0UW1BV2FPWCUyRjBZU1hQME8yREUlMkJOajNMazB4UGVpRVg1TUNOTEFxT3h0WlklMkZzMnNDTEdZYzJsU0hMcjglMkZzUXVJUERPMWNwbVRSRSUyRlJhc0tRRHZjQ2V2N0JMVktpdTNDZDdTNXlPU2F1ZHFlZDJvS3lHUkdXNkdZcm11N3MyTmpWcE5tSFdVQnh4b2Y2T0ZUQmQxZGtjZU1GS3R5TmFwcDlzbGF4R2c2YUJpMEQ1OENnS0ZCR2hjRGNaOXZWdldxN2RwTSUyQm5xSldOTFdKTTBmM0JzYTdmMFhHb2phWGRUUzZJYiUyQmVLUkx2RzJ6VFR2OTN0N09DdE96QTdJUmZOdldWd0olMkYwQmNGJTJCTjdjNGFvd1B6RzdaM2F4VVpReE9NZ0I2NkJYWkJYazNFeTAlMkJlVEVOdGQlMkZoYTdWcXM3UmNIZWw3TGEzWW12RGw3ZzU2UUJ5U2JSTXJwQUlRcUxEZG40UlQzTk16N0NJemdNNHlFZlFnV1o1MGMyQ0V2ZTkyVkZHb2hLdVdGSSUyRk9LQ1haRSUyRlglMkJvdTRMMkd4QWFWT0tRc0x3QXJlSkwzY0NZcTM4Ylg3SnlJYkJmOWFYMCUyQjhLN3ZscjJCWFB0RVB2NEJvM3pTYWtoOSUyRnJWUExXV2UlMkYyVzI4UE0zdGV1UG01SHd3M1VQcVNQSkpHQ3RQYWFTc2tMYVZJSGxuZFZyd0dPM3dLYXpIaDJCUkEydzhZRUQlMkZOZHlQY1RMZzdYU3ljYTZhRjM5dFE1VHZVZHBGemloekFiY0ZjJTJGRmh4YyUyRjVvbnFpRWtSaWZGTEdiVW9mTXRxS0NnTWYwZ3NiMThOWXlrN2RPdFE1WHFMRjl6VlBXVk5tWm5ySFI2elhpU20lMkJPQ2tGN3FCS3FKZkhha1l5c2JyRHE5TEEyV3ZDZUklMkZiaTZIWE1vaFlLU0tlb2VwQTcwU1VJQUJXMCUyQklaUHN4RlA3RUhuTHc4RWROY0Y3Qjk5c2ljcXNxRUtuYkkwWTIlMkZnNWh1Qk9hUnZJNTR2UFVkOFdRaXdmcGtQR2RaR0VqZ1hPamY3WCUyRmF6OWZhV2NuemYzYXk3akJ2JTJGY1FCM1Z3U0N2M1ZwNEhPTzV4M2RUOWcwJTJGNE9JZXJsUjh3THI0bUhOVHFGRGxNS3BGOG43cWw5c2pmbSUyRkRDNjRFaTVKMVBURXNWQkVBSHlVVVZJRHo0dU11TkxlWTI0b090aUEwalFxdTZuNmJOQ3ZCJTJCdWxDbTRzTmRWbWpuejlzejl3ZVVHd2duJTJCZjJxYWclMkZ1b3dxelBkZVgzSUhxOVRMS0I0TSUyRlh1byUyQm13ZFNpMm1QV0M5cXNIM3pYcFZoUm1ncHJEUU41ZkNJMHdlcjBSOHdBSTN4YjNyRFdnNktLVVduVkJjcG1CVWs1SkhJQ09FeWpFdXdWNXEza0R1Y0puMFJGdGlWJTJCNCUyRm5yb3haa3pUQUFTVjBrQTBVS3dCRFU0Z1RhY2FGOTNJTldqU2JyTmNZeHMzNU1WOVFiMURiakJNRGhERDhtZjd5TTdoWGxaYyUyRlUlMkZQT2VyTTZ6JTJGMVFmUWt3T1p3eGNKVm15ZUxGVWlzV3ZyeWh6blhpc054YTd5aGVlbDZJU1drUWZqRFJFdndXODZDeVNoTEhMNXVENDhFWnk0T21rUHdONjlGQmRmNFdNQzkwZUZXbmFoRFI5JTJCb3lPSXI5eHdaeUJFNjF5VVA4QVQlMkJvdzZxQXpsZlAxV2thQ3lvcHdPWkdlUkhSU1Y3WUJkbnJ0cW8lMkJxUHlBJTJCVkElMkYxTFFYczJvMXdUcHZQa0NDU3dLS09jWjJMTVM3ejQwUVJLT1hkME9pczVWTDk1eFJVTTM4cGhqcFJEQ1dqenJKU2o1V2lQN2hpZHV6WE9UZWxjMDVQaDNmV2dWQ255S2x3MmIlMkY3VE5QQ1NSc1RLJTJGSGolMkJ6alNPSXZFem9jcHNvc0RVUkN2UmVhWG85S2Q3T3llUzhZdVhGelFpeEVOSGNGZjZCJTJCeHI1UU0wVHRVeW13WHVUNGMweWRHVTMxRmZMNFU3SVNXOHY4bnhYclNYTEVkJTJCRnMycnRGSENRTEh0anZlSVlHWHZYWG4wYzhOJTJGaHdrU2tQSlFFbGElMkIwR0Z1akVyYW14a0ZsWDBVbmJsVGRDT1NyJTJCbmJqa1c3QmdZTG1ocW1sbG9xJTJGTmNSNzBMREE2QXpLeWdEc01ldXJmMyUyQmp4MDdhZ3p4WWclMkIxVHA4Rnc2dCUyRjBScCUyQmE2ZktxQUN6dzh6NDRjYXlEajRTTzdsbUglMkZrSUw5WWFnT3NXcnFSOUklMkJzSVdsUnNDWHoxbHJ1JTJCOUFNT3AxaERxT3FFcU00YXN5U1F2ZDdmTVd2UUMlMkJYbFY1eTBZQmlxZnZOdThoU25YYVVBMndWN3o3eHRBWExKcSUyRmtxOFNieG56bSUyQnB6eXZMMXVKV2o1RXlOTU5BY2ZFNldlamxIYnJBVXM5V1clMkJSNkklMkJ3cFpob0VJOW16czNINCUyQiUyRnQwcFRBemlqeGUzM0pUeWEyQmxzb1UyT2FrRHUlMkZuRThqeE9WVW85V0lGZWhtT2Z5N3hXMUlFVmNPRUxqSmkzWHhzQ1olMkJMNXVpRXFtdksydTBpN3BpM2NneTlpZ0F0cElvJTJGWnhmdk5nWXBqbFdPNm5DTVVPNVZ0Z1J3OTh5QkI2TyUyQlByY1U2R3IxYkVYR09PclpCZG5aMEtWOWMlMkZ3NFN4ciUyQm1EY1Zya242cDVJR09ya25saUdURGR6clVFZnJnSlBaUmI4ejc1YVNWOUxrTk5PNTU3S2Q5eDZOQ1RqTlJyUkZoRnJVNmwwMm4zWFQlMkJ5VGd1SW1HQmtyN2Y0SkhYQ3k4RTlYUDVjSDg1Q2FscnZoYmcxUzlZV3YwSFhMYmElMkJTZzZQaW9sZnZCdFRHJTJCU1lWcDlwSXRrVnBQdW1teVdGcldlWnhYUDFlM0Fxems2V25TcE1ZTk1rbjBLb3ZKYVVxV2UzSnlEWHlzN2FPdnVwUlpaN0JaVnFlR0RpZzJNYXBTdzRyTzFlT21GbzVCZjZNRTY5Wlh2ZGRIakpmWmF6dXhGcGowbVZXRGVhSWhXN0NkNmZkb0JyUmZpc1JLU3JWNnZidkRydHA1cjgwM0FSS3hlekRqQWhBcW95VU16JTJGcTFXbW9mTiUyRkN6ZlIlMkI0RE9qR2xnJTJGMnpaejdraEMlMkJTdXV2Wk82NjFJUUdwNnhQa2tyWVlOOTZFamdMYVRZMzVncXd2JTJGVkJqYWkzTzgzSWVSJTJGY1pXTkJCcGJWcFdOamFjeVdsdjZsMjA4UXpYcXFqNlJtJTJCY2dCSFRUUHhHRXNKcDIwcEFWOXZhU1pLSjMlMkI0OHVmZ2RqTSUyQmRTbWZIam9HdnJhMUdnaE16R1BZb3V1dllaMGtRZW0lMkZGeTBjeDFoUmdYUE9QTkJkUyUyRk8xN2E3R1B4Q3hSRGpvUndJUkI0ciUyRnJpOVRzeXRCazlRSjU5Vm1TOXU4OEZOYWUlMkJjbm9oUnMlMkJvdXJZS2c2diUyQlhiJTJCa3hyTTRjNVlvb1BUekg0NGxWOHB0aEhodCUyRmxRV1RSdnhuMEtCNllaMU9PZWFFZ1NEU0dsdENOZ2JYckZYRVdHMmlLM1lPZ0JEVGhBWlRKTndXelgzYjBaRCUyQk9kS3d0OXVEeWVqJTJGV2I3a0lHSiUyRlFWSUs0VkpEUk90WWdMOExNY1ZQV0dQTVRSWUJEOERJU2ZpSlFFd1Q2ZjN4VW8lMkZhTXA3U0xTSTZDNEl3YVhrd3Z5cU1hbk1Id1dQSnAlMkZ2Yk9oZ2RKck1zWnF3bkVtNlh4bEpaT3pCJTJGdlRuczR0MllMV0RuTDQyTiUyQm9ycWM4c2s1RkoxdXI4eHFKblRFMm90UVNtSjBnbEhsdjd0S3Rkbml6VUVQTmIlMkJsV0FTYjJxNkI2NFQ3dFM1dEQzMHRZSHdMSjBHTld1Q0lEdm5sVGp1Um5aWnJIM3Y0JTJGRVFZTiUyRlhxVFBtJTJGMUlobiUyRmN0N3ZVV2FxMEZNQnZrZVRtVlV1RDBvQThjdkZxNVJ2NDIlMkJDOXdHUW1sYnFiSEFmZVVFNjRab3RTeCUyRlZTSlVsWHV1WTVOJTJGdDl3TnBoTkFaUkRGTW1iVkJYMyUyQng4cHhFYW5UR25CVklRQWlYaEJxMyUyQkVEMCUyRndpMlJud3V4WUlUT2x1QVYzbWI0OHROMjNwT1piYngxSXVoTW1majZTJTJGZk55JTJCZjBzaHRFdCUyRjFlbGcwVWxqTWl2a1ExclBaT0ExR0lyM1dxR2dHOTFiQVpjMkRSQVlvYjNqSzQlMkZiQTdTUlFQbWlibzY4bXVaQ1J3NzVWWEpUaDVGVFBVbmNMREwwJTJCOE9GeGx1dU5mJTJGRXhXbEJ0UkNET3RDM3o3ekV1VjRrWjRPQVdidG04Q3ZIOGhHdXVSVXZZSkdhRDR0YUxSYVdXU0xEd3IlMkZKbTMxbFE0MHRvWDJIa2hhQzlJYnRPcCUyQlhubFczd1A4VDZVQUxhaGhrQWN1OHhaJTJCbHQ0JTJCU0cxbmlWdmpDM2tXNFg3eWRvYlZzWVpFSEVlcER5SXdGa3pDb3NIdkJOQjlrWGdSY2VQZWQlMkZwMDFQb3hWYzM5c1ZocDBEMWVtb2kzWFN3bjclMkJHbG9HQ3k4Nmo3b3hCUWU4WlNabEJ5bXJ0cmdDOUdMdm92VTVJSDFBU0dIVzBocUxJak5tbTJudkFmeG8xejNuY0ozN3BQN0x3T2ZYVUhhSHN0cU5taUFCU0dzRnNvYmRUcFElMkYxdCUyRlRVa1VwS3g0S1VOZWdHQ3ZIN3pzRnVuTmNmR2hzVDZXOUZOOU8xWDVkYm8yalBETlRIeWVjeCUyRnh0RDR5UkYlMkZsb0UlMkZyZk1ZUWRZUjMlMkZQcjFGZDB2SHBzS0ZCJTJCUXEyMkJJZEdUQ0ZxJTJGaHpJJTJCSCUyRmVvbThMS3oyMGkxR05UcWdZU0lqJTJGYjVWJTJGcUx6NHkzMkVhdmJ6eFdERHNPQVVlYnhLQyUyRjFQaFBVOWJkaE1teUc1JTJGWTZCWXU2bUdJeDNwWVdzOENQV3hiaG1ScHpKcEV4Zm9NQVZ4VGVrMGFqU3hTRVkwSGJlbmE5RFhVMElLS09GelFGWkZvJTJGRmZPYnhoMlVSMGJwb28lMkJDUnhmdXJ5Q2s4MUFTZTFCamNsMGU2aVRWczkyekJhZk5IR2lWOGtrQmJVdjVzZWF5V1JTeDViRmw0YUEyNGlyaCUyRmNjQlJUVCUyRlhvZW9NR0VRSFVYZUd2SUg2WXhJUVMzcFVJYXh6YW1nUWtJQzZvYXdwTnRFN2dCOHVRdllDNVJ3NSUyRjAlMkZHQW9kZ1g5ZnI4cUZMdGZ6bkEyYks2WjlON2tuQVRncEl0RWpLakpGeTRrZHZEUG84ZXJ6eUNoYW80YUNFdGhuN0xjZ2diVmtOeVYwWHJWUXBYMzlqemN1UzFianVYYiUyRkszJTJCNWV4blVSb0NUTjRlNSUyRkk5aHNMaVZ2Uko0QUdhVFpZc2dhMlVvJTJCRXRrNE5mbzg3WVNqQWlGdEd6UVVwVHhTTVUzOXZVMnZXOHpaS0hyb28lMkZpc2Yxb2lkRVE4cjB5akM2S1BqaFF5NTNwbHBGNHRreFB2TDI2N1FrbnhRRiUyRkVSUHl0RDdUdXZpTjQ5SyUyRjVIR0I5UFMlMkZGT3BYN0FkT1czNiUyRmgxMnF4MFdxUyUyRkhzcUg1R3VDZG9LS3RjcEdhNlQ4WHNpRFlUMXlCUjZrZVFWOVIlMkJrcmdFJTJGTTdEQnolMkIlMkI0ZFVWRXdlVzM2bkxIdk9aN1VyeldadjM0bFVGVkJWJTJCRlhuYjAzdlIlMkJGNTJhY2UlMkZ6NmUlMkZTM0tGbGdPWVBnZE1Id1lUR1NmOEc5TUxUb2E3M1Y2Y0clMkZKMzRXJTJCJTJGYWliZkszWnlkTmh2cFZXWXZmVlUzZUtxQW41ZkVxNzRuR0xnb2FIcWFEbmI4YTlNSUUzUTgwRFBheUtneVhReXBEZm56aGd5ZmFNRDJPOG5sNlRJJTJCeTJKVnRUSWphdTA0VDJIcSUyRjNoZVplSHJRWXdOOE15VSUyRjA2JTJGdzRSTWYzNGJjWTU1ZlpJY2xwJTJGMkpuaE9iTmZYUzE3UHFUJTJCSWhoYWF4dkkzYiUyRjJGVHZIaWxvR0tvY01tRkJPaU9xTGVJcWFMZkhUdUlTS1Z2eHZrbDFkTUhQMzdRVGpabXJDVXJ5S01BWndjUzVUUWxZNGZzaHZLU2VVJTJGajFEd3lQWUtGZ1VyMTlaQkFBamtEdGI2dmgyJTJGRTcycUwlMkZNTW80b3MlMkZOV3llN0RCSHhhaTkyRHBNJTJCUFFObVgwNldwJTJGbkxwVVFHYnpDQlE0QUdUMGszc0MwaXBocERzRXhoNDh0dzdNOUg0S2glMkJmQVMzQW1kUkFGVVdQalVRU1NXSGhXbDQ2OUhWUXpjN2JkMW93U0ZKdEZmMWZsMGNGOW1LRVA0dVcyd25leFhxZmNXUE1TOCUyRnEyUE02aGY1OENScjg3a0g4WHhISEVvbW5TMDNTRWxwVDZaOUQ0Y3F2ZzhXYjdXRHM0cGFma3p2Ym1ON3NDTU9GZUppRHc2akcwU20wYUFuenVHVUJxU1o4MzJpNnpCanVtM0hkcHI1WW1qdlkzdGJkM2J2eTBGNSUyQlhYWVI1bkdmMXk2JTJCbzBXYVFjT0F5bDd3WnByWXQ4S2lZRFVOY1hWOUdLR2hZUGdYMmkzUGFjeVVEUlNlMnUlMkZsN1pPc3dUcTdvemFENTRtZGd1blBHN3hSaVhxd2F3UWNWSDZ4ZU55bCUyQkZQb2ZwQ21STTdIVzdoUkF1RmpXMU15V3NNQzJRNGhGNjVKZTNoUlg5QUY3SlY5UjRrRUVjR3BHd1hzVVFRNCUyRjRSdkVuTU9XajBoJTJGTkJkT3FGQ1pFd1VRUVJyY0JXeEpGZ3cxQlY3Wm82RFlMaGd2ODE5TUd2dE80blNkenlwMnNKT2JlbyUyQjhBcE9ockFxbkw1elZqeGRxbHcxeDAwcDVkb2wyTzA0TlNTbyUyQlY5N3ZPRGI3V3k4dUxrT1h4eDFXbyUyRkp6ODRtall3Ukdhd1U4ODBIJTJGQjdvTCUyRjlEU1pDU25yb1lPSlljS3l2T3dzJTJGOSUyRmxmY2ZTNDBpejNkTm9UM2hnQ1JEZWU3ZUQ5eURoemRNTHhXJTJGdXZiOWNTSXFRUWd0TjlHSzZTY0pVWldXZWs5YXN5aWhHJTJCeUFxeVFWNnJ0ZXkzQ0RyNlglMkZWJTJCVUJ1UUNXOE5DcHlJeHhlNTB2MmxwdHJvWDdWZjQ5THJPa2FjRGpYeUVjbjdUb1hTNFkwUHlnVXBtQmpTbGRPNW5UT3JCM2J6N0J4eThwMUFOOTlPdzhleWhweVN0TWxQaVF1N3lacFdMbFlDYVRueHNSWWE3VTBRenoyJTJGaVh3Wnk2bVExcTJqbm9xdmtyQ2Zsc3hUTnZabTdkbzhSQnVYd3lvQ2VXaENtMHkxajdBOFo3ZUUwcGR4cGNBODdQbzQ1SDRzT0VxWTJFdVZPa0E1QnlPeHZvbWsyZzdsbDhBNEklMkJHZmhCdXpKbXNhQ3RSS0N0YkNqNkZHdyUyQmIlMkJxdVglMkJvMjVrazlDM3NDUU5WbDlIJTJCSUdaTHRkbmd0b2wxJTJGNmxhRmhxeHJoaG12eGlwJTJGNm1SOXZqejVsd3EwJTJCM1JWdkoydGlFOEt0alY2Wk4zJTJGMUhseXZKeEd0SFpjT2Y3WXVwOWgyMlQzczFjdWdvUUc0UjRXS2FwWERoQmlOSnljekdTb2dWV0x4UVhwOHZkZkJ5R0o4Ukl4eHlJViUyRnZ0c1FVayUyQkhjd1E2TnVpdmc0dXZBVEtLSU92JTJGJTJCb3ROJTJCQVFPUCUyQmpWd2pEbFFieU0lMkJCSU5vVHIwcFZuNmswdEhpeGdZM1dKNDY3MGp1ZEtvcE5zbDV6SG1oMk9UUlRlR0h2aDl0QnpJcDM2NEtYMlJET1NiaGYyc0R0eFAwNk5lYWk1aXVjUHU0b2Nob0xQRVolMkJER3ZvOXNlWFBXMmJQVVl4Vm43JTJGVkJmZzh0OXF6dklleHZkT3JRTiUyRjU1SDFTdUolMkJoV1IweklPSWV4TThjYkQ2T1dNNzRBRjFYJTJGVm05RGhPMzdjTHI2cHJNdGN3c25iVHQxTU1RWFd4Njh3VkhBbW16MjV1aSUyRm5uYlppU0NnOFJWZks5QXNmT2lwa2hJTmhMNSUyRk0yanRXdkllZG81UnpFUFd1NEkzVGtxQ25sTzNuWmhyalRUUmYxRk9uJTJGYkpBbDVESVhzejNHT1N4ZUxacyUyQktnUTFyR1VRR3lmdldHamU2THlUVUJMY0pTQXRLSFBoQ3ZLZXZiWEdyayUyQk82ODBCQ0N2RUhmMGM3SU5wakRianlNdTFmTnFYd3pENDhUdXRwWU9kS0wlMkZlRGxkZ1BKcEJhckhxM3lrSWw3V0VBa2tFZVpyeVVKa2s4enlGVE1MdEdsdmhxQXVVcG1BRjZmWnFtSGQ0OWJuZHNyamJManFPeEk5d0UlMkI2eW40YWlINVNZQXQlMkJEQyUyRnFRckExNDNSNEVPJTJCJTJGd3V1TXZ6bXZNc3VJTm43Qmd5aHpEWVd6MlFrVXBjTSUyQnZWaiUyQmQlMkZ0bmNMenFrMmpSRXZxSEFhY0wyeHBvQ1hJN3M5eHp3WURtSGhuJTJGNlUzbElaSFUlMkIweGhwdnphQXglMkZ5RHRZOWhweW5JSHdiTndqbXphbmZ4NThqRUdxeVFobGVDJTJCdG81QkJseHNaRlhUUDV3eEh5TUFmYVFpT2ZKRE9PJTJGSVlxY2tNek1TbCUyQjd3c3czZGVzcFlrQnRKbTVXQjhORlVhSm1SallWeDkxZVhZbFY0ZXlIY3J0Wkg1MnFzbzkzUEhQbWl6d1lGJTJGRlhNaXhia1J1aUxaR1dPb0NOUkJrdGlyckhVS0lOZEFaVlNVTlEzZ2ZIcURNbzFGWSUyRmVHYnNRYnRDTFRKdXJ0UFdMVGpuZGVIbkZnR0w4MHhlV085QmYlMkJjOTVDMGk2cEh6bSUyRjk2M0k4NUlJV3JkOVZtTFhnSnVOM3VtaUtNUmZLZEJSbXNaWTNBQjdYUEpCS2RHSlliJTJCS2dEMnp1cCUyQkhPVDF3UTM3NE9XamkxN0JqdW9Vajh1dWVUbVpOTmdYM2c4V2xsa1cyWGNtUlphZWVPeXRObzE1TVNyMyUyRkVoejRDVEh5cmVReExqNEo0QXN0c1BzNTNxQlhSdVFzOUZnWlclMkZiRnlnWWNJTFFjQTZFMnlIWGZ4SjB1VWFOOEJ4RjEwNmZkJTJCJTJCdmllQk9RcWZkQjNwVmVzRHFRcUFpaFhld2U4WXklMkJJclc1dyUyRk4xbUFKYmxrWng4Z1JSUyUyRmZGWURBeDdpbEtnM3FUb0FNR01XSzNuOSUyRmdHbWszUk0lMkZtVkIlMkJZeW83d01tSmJRZU9XQUVnWlk2VEl3Wk1WYkJzNVJnQSUyRklFOXE1d204VEFERHZlZDdONHRmOWdGM1dTQ3o0azNkN2N5UWRHcjhBcjNQdiUyQnhINjVmZG41ZndIbW1SUWg0enhRVG8yOHRYc0ZGbjJSUHF3aUhRMGROMGluNlolMkZTWkcybG55R0h3cWxEWHk0RHVGRkglMkZCQklWMUNORGczRXhwb01hajVtVnc2UElZQWtJWHdyaFRDcGJ4cnclMkJ3Tnp6anI0Y0xaQUolMkIyVUVVN3VCeDNsMWx2bkN5SFN1bURQUlFYY0tBZm1kY3lHN3ZaMjFwS0cwVW5NdlRYNklJbXR6cEMzWDM1b3pKRG5wRElFUjA4b2VNR0RHMm1ESE5zSlZLTWlHaWd1Q01xeDVSWFJLJTJGNW1vZmF2alF2diUyQmlXJTJCWnQ3d3U5b0lMdnA4SDRlJTJCRGlndzgyJTJCYzM0c29tYThPNEtoUmpmNlRSSGI3Y2t6dkYxazh1ajNwOTNBdUlsSjlNJTJCaHByeiUyRmFrViUyRnBOVkNiblQwdGRmZll6RE5wT0lObVJDR09qTGltM2g3T0RNbHglMkZzUmRhRVBvRkJtdnl4SVolMkJDQms2YmolMkZKSlRVSm52dHlYa3pkMjFvbm1DODdnZ3dFNDhMcDhuUmpBV3lMTm9nOW16JTJGTGcwTVAwYXBzMm1xM2czYkVDYk9KYnQ5Y3p0WGtsaXhrTjlVWTclMkZMeWFrVDZRZFk4TE9jd2ZmS01LRlYlMkIxSkZSJTJCZ2t6YTBicXZSWnZEQTZvcHZwZWxHUVkzdHJ6QVRJY2FEMzlTSVlxQjFaSU5aWmplcDk3NTJUTXR0SWJvbTI1cUV6YXBNejNVZjlJd202alczbXY3NE1iRGxiZmdpMzglMkZGUVdHekJZTHlTQzA2dVMwdSUyRkxmWHplN0w3dWJ2NW5tdWpLUGhST21OMm1HSmMwZjZtNUVaSGxDSmY2aXVQajl0VDc0Ukl5aGpwSVBBaDAlMkIlMkY5UVZ2YU1BMUxvdEFRMjlEUG1sakdTSW5FNlBvNXd2elJJNHAyOEUlMkJMNFJzTTRNUmpmU3RER0FRUXUlMkZGbDlYd2ZBcFlaQVp1eHNUaVZ4ekZSWnNDYm41STE3TUFKS3BGeE5QTUlMMFh1MUd6VmhxWmtJcUxuSUk3M1g2RXJmeXVFWktqWUFraTg5ZjBVUG8yNkhmdzVFR0clMkJPNkNnbTZ0YnpGMDdTNSUyQmV5dGxQcGN1M200NVpVMDQ4R0x6SHlZbzVHblNXb0lSb3VlSHpkJTJCRkpJNXZ2bDZGQXdNb2EzT08wa2YyJTJGTHY5SUhNRXR4byUyRnVXeUp1RHhsM2hRMHRWdHREZXd0anNKZDJMdVd4WlhVcHdIJTJGdVg3U1J5NzNzaEo3WllreSUyQnJrMzlDc2FtSHRnM1JyNE5uNUlWNFpnUGolMkZIcW8zQVA0SFpoMjJQQkRDaFBDU2txeiUyRnE3MzdYdjlGNno3b1JiMyUyQk83Mzd5UDlidmZ1ZyUyRno5NjkxWCUyRjJydnY3eXhaaXZIJTJGc0glMkZmbG5yJTJGMGI4dlJ3NCUyRnpzR1pKVE9TcjNuVWtXMkg0Y1RKRmhvSjloJTJGYUhubWg5UUNobCUyQldBWUJVNEY4TzA0YmlKUCUyRjg5ZjFscjY5U0NhMzYySW9YM2ZlbGpEV2Zncm9sZVZaaFkzTHlTWll4TDU5aFlZNmNOMlNqZTVVd1ZwQ0dVbTVKbldEdVB4cTJmTjFLa1d5TTFVczliTTE0eDNNTzVNTVVUcElhck02ZCUyQnRFbXRoTnpIa1JyTjZaazMxMGlqNkRmdVJGJTJCclF4WWhtQ3VIRzBiMThJSGcwNW8zUUJSOXVvN25zS3FUNWRoakRPbGhqeFdROEZ5UnQ5SjRUcGFWamZPb2x1d3ViVHlKc3puNWpmWVA3clliYjVHdHp1YlFYbmx6akdCdnNsWFpuTldwdjY4SjhrUkdZOE84aUZFVmR4VldoMmIwN2ZxU21xNjNwMUpTbzBVZHJIZE1yaWdwQVpXVTNQbktobFAyM0tIckV0MDlXVjJZNHZOUGY5Tk1DU0xCakFabHBQa0lnWEU3ZFBlcEpJWGo2SmRDNWNhYWxSQm1JdGdFZFlpVWwzWU5HOCUyQktPSjRrU2FNS21jV0wlMkJHeEhqdXhzVUxabnNUYnRKJTJCTmlVVkk4anJ1bE02MTNaNGpndUxWQjFWVjJqZVdzZDFuZVBaenElMkI3eFZNJTJGVGVmS0RtYjNoRyUyRllXUmRDc2NXUW51ZEclMkZNcVh1ZVdKbzB6dlBVa2U4UUZMNTY2dUkzdU83WGNqeHp5SGclMkY3JTJCd0w3OFl3MFgzY2Z5bVA2MiUyQmFGaU02U0wxaWMlMkY2c2klMkZiUTRLNXZlRG5MWDZEekxUTVVmVVo1TiUyRkFMRFZja21CNGFOWkt2anRhenUlMkZIcUdqZEZRc3Y4SFhWOTFsWDBPdHU0VFlXYlNXTFlPdTdyMWIlMkJRbFBWbjMxQ1hvT3c5QUV4V3ZRYlk2NWRqUGN5Ujc0dVJJam1LJTJCellsN2NNbzJJczZDZHBjV0Q1ZWslMkZ0a1paR0c0SGRpV2NkY3FYTTk0Q1pGcDFrR2czZ2pQeEhaeFZERklBV0VPRWx1RjMlMkZhbFhackFvUklnTFJqYmtWWmNhV3VRS0ZLSSUyRjJoc0Z2STZlMDdQSVNJelpXUnAlMkZ2WHNabjRNYXV2bXhxcW9WUlJzbUVlT1hKNFZ6YXQ2cjZPRktjQmxBd1Q0Y09XUEJpQXdWdGZSWmFrQzJxZ1NYd1dwZ2lTd0ljWXklMkJNN0VQd21QejJENUVPbTVtQ245bnMzc2pOYTNNUXJuN1dUNWQzaVVDZldyYVNnTCUyQnduJTJCMTRQZkxYR1F1NDZOSXBxMERySVlxNUVubEV2U3I4MU1KZ0M2T2V2bjZ6UlJiZ2JKY1pmSFElMkZORnVYMWxKeEEyZU1ER0ZUYzZsNVclMkZJMEZBaGhDa3ZtMWhEWVh0RkZRQmo1ekhHRlNUTTcwMTlUbndrZmRNJTJGUEMlMkJlbzRvNjFFcHFUWko5blJQdXB5Rmk1dGtXeEdJZFRkUzBGeGRpaTRmcXYlMkZ5djZQZXdVMnd3MmYxVnNMSkhUbkVEU29abHdRTW9oQ3pVd3AyeGRFNlpLY3FmM1U2UWhBQmlxYzFmZmI2MkQ3NDV5QkxXWjdOdmloJTJCTFNXMFUzRTZFZmFqJTJGTzJyN09VSldsbjhLQjBIZkJCMWdmak1jSGI5RjNNR3JOakdwTmxQOW9tU2tZdmR6VkVCNU9UZHZuOXkyaDhwQ25JZEROdSUyRlFISnJtbHJHVXJBZzhpMHFLdDc1Qm9rWlpZSUl0WnI4WlZ4JTJCWGFXQU0zUDR5aU9PRjloOVlzZWRRTHp5dllacGFrWDM0RTA1dGwzdVFWNHBJWlFJZWZmeENkOXppWk5zN21rZnpuMW0wQUJnV0ZtdHdlVUFqNkFnUWtzNEdYREFPMXpjN2QlMkJWS0duTklFVWh1NzZjaEhwOHVaeDJQSmhFWnIlMkJ0JTJCYkcxNnJXbXMlMkJMM1l1MjZ4Q05qMmolMkZFak1RUlduS1JuR0U1d3RLSjg1eDlZbzBBb1FjUTFCV3BIN0NlSm8lMkJJOXAwelBPd3pnd29IeERVT012Q09neSUyRk04eiUyQlpwYXR6ZjNUWiUyRm0zYyUyQngzZ0NjaU03SmdBdU0lMkZsY3JhSiUyRiUyQkdPS3diOWFPUGZiaGhlRUZPVnU4aTJvdFNMemlGdHJKNU8lMkZNa1g2byUyRm5ESW5leXVnczl4cTclMkJSV1BNYnBQNEVKQ1VDQ0g0WDhmaW41YXJSRjl2QnFreiUyRnRnMENXQ1clMkJ5Qm9vMXglMkJaYVElMkZpMmZHZGk2MmJ1T2VPQjBXUVliVCUyQm1KUEtWOTFzYVlqSXYzSUl5SU52V3RqS1VwaERRS0VvcHdMNWJrMDEzalUwakV6U2tHY2s4RHhkbVBtVWJkdEpsc2pSWXVYYXVONHozMUdDbWZyQVRPUDY5UHNmSjJVNWNPVGJqb2Q4eG4lMkI5Njk2b1FDTzMydVVJJTJGZnppQzhubUFYalZsQzJJaldiJTJCT0pBZUIyaXEwek5KUGhZbTJZajlXamZGbEJZSm5wUzRQWW9LMmtIM3pUQWh4bU5COUQ5dXUlMkZRODhBOFVXZlVvb0R0VzNuV0JZNkxtazdRU1l3dkglMkJzcjhJZlNzVktkMVBJQnh0UmxMVEFFam5wNWZJeDNvOWFKVm5rUERoaE9odlFOODJaMWh6bFJ6eTA3a25NQklSSDNrcGVQSlYlMkJBYmpheGxjUVlCJTJCVXNUSVR2WFlpUVdOdnkyendCVVBPams4Uk4lMkJSOGVJS3ZaQ3kzNjVjUHk5NUsxYyUyQnBOQWVqNmFlcWtrYzJ0OVJlUFM0RmlUd3BaM0R3UGZHa2lidCUyRmF1bmY0bXhIb2k4TVBsRkdxOG5lbndKRXJnVXVJZHk5RWowayUyQiUyQldkTDcxeUVraDNSZEVRVk9WdU9tdFZuempDQnVheXJuZk9xMUZ6SFBkTlJKdUM2bTFTQmpLdkJmWklkeGVxSnhrSzBYZ3lJJTJGVUR6TjY0T0tqZlVjMENDVDlwZ0trS0xuNUxtanQ0T0d2SFJHY1cybEE5V01zVnlFTGxkS1c4TGEzaTRJcEhLRTdVcmlVckFUcEhkb3E3MFViTE5VUW1tNmc4OEVDMnpic05IUnQyV1ZXM1clMkJnMWlreW5KUXZXekwlMkJVbVp6TlE3OURkSlVFTUxtaDM3SWglMkJMUjZGQnFMUGwwZlpEaiUyRlN4SFNLMjF2YlgzcDN2czl2RSUyRjB1UG9FUDZWY2pHUTltdXp2bzNidm0zeEVBJTJGcEVxU1NoZXRBdlhGRVVrSlJPU2w1ZWZkOTJ2JTJGWjN3RiUyRmE2cjJpcGElMkJybVpnYkVTNHNIbnYlMkZiQmxzS1Uwa0ExUEElMkZWc3ZaZ0hzMTVTdDBVRHB3S1ZkeGM0OVRuWUZhN1NlVGphNVVvcm1DMzUyVUs0Vjgzb3lqakNHdUN1akdTWUtJJTJCVnBFUHJYQTVzOE9zTTFhQUt4bnlJOHNWTWlIJTJCZFQlMkZTZnpvc2w0Ujg1clRXSnJLaXFOSmdGUGJWcllKNFQ5MWg4NSUyQllpNFNJT1FhV2o0TEVlYiUyRjRRME9MaWozZEpEMHU4cHk2eEV3VER0Szc5JTJGYTdCZWlMUVNDVyUyQnM3T05WdDV3MGY1a21MT1czcG9GckVnZjFJRVY0Zm9jS3VsckFyJTJGQXhVUVdSWjJyOEVpRVdiN01SdzZXJTJCckVEVSUyRmdZWDZLQWNWSnZJWGxNWEpoSUxjSSUyRmtYajA4N0hVdG5hOHJwOW1teUxCazJRMXVpUU56JTJGckc3UGNiZ3RLeFV5SGROcyUyRm5PSFVmeThsdWJUUE0xNzVkTnZKNXElMkZMcnJLRXNXcjBvNjZRMmtMak9jUklxcXRweUU3R1V3VHQweGh1djlaVTJmJTJCUzdhelY4OFhjRG0lMkJJbTQlMkI0N2wlMkZoaTlMOTFoNHhwTllyQWJZZFg2VjRHTnZPZ01kbXhMdnRpV2s2ZUJHcElnZmN3TkJpYjFEUm5KT1pXaFM5RGdHaEExREVxUGNYbmFjRnpjbko0U2ZLeG5oUjMwOXltbDdsN3hVSGtCeFBNdlo0bGxVVWNqek5xdFY1N1A2M0FPSEFUemdHc1JsaUxSa09vanEyZXJGN1cxeTNoRiUyRng1RE85aUdHSkc4QzdlJTJGTDZ1WUJ5WDJmMmhsdSUyRjNScEx3Z2dJMHdlREFLSVFQcWNaQmlPamVLUFhXZzlrd2dic0JReDlEVnpYZG9pcW1yUjhVaUhBeWozbCUyRkQxUXdJeUwwZ2lWZXhpTWlXMDR2RkhYSDNrRzFCRHJvOThKeXhJYmM2WU5lclk1eFFnY3c2VTdXNEhXS1B6QnRaQXlwRVF0ZzlQcTdVJTJGa0hsRVl3QlpKcGJtSDlUWE9KVFF6NVdleXZ0M2ZlcXBtUmZvb2Mydmo5c1RkUVpadWYzaHJ6UjF1YnY1VFkxdm1PWk1JRHcxZmNVV25BRTZjNW5lMjRqaVJMYnd3akRMcEhyeHhHdkVjZG1MNENQVkRzZXlNUUFEZUV2bEJPJTJGR2N5cVVQenB2SDRmQjc2OXF3WEdlYVZrdFBTSU5nREVRbU9ST3F5YmFiYnhxNFBPaHAwQ0FhJTJGTzBtdFZLUHUwVyUyQjhMQlhlOEJhekVuaFNzQlV4WDFFTGRZTElIJTJGenlmR0RYZDlRNU9yNXViZ0NRUUdHdmlBMUJoaUE1MGxmQzNqR2szUWJ4SXUlMkJyMmpvakdqSzNhMXp0UVdnbSUyRnRyU2xvN0IyanlZJTJCdSUyRk1ZbDdiY2F2V0huUmFVUUtUQVBmWTBkN0t1ME8lMkZIOGdSekd5aGhRVkpIZjFsNno3RVVWemV2NXAzb2p4QUU4UlhIczdDNGw1U1JWVERPRmtJSVlyMjFUSEVhMTclMkY2ZDhTNnlXT1FEQzBCRkxnTGElMkIlMkIlMkI0MjIxR2Fkc2NGb09pMEYzczhLd0NMbTNmWFFXUXdvY1MlMkYxSThVdHN2OXcwcFpUb2hqaGtpOFlzaXcxOXNGWGR3QiUyRkJ3Y1ZpWXBlMzYzM2hhJTJGb05STGRhRUlkaklYY1k5RUVLNVIxUlUzU2lhQ09FS2RGSk50ZDZuQ014cjQ4ZkI2aEpHWFF5RHdrVGdVSTFybUxlUHRuVFU3SEl6JTJGZmk1aUJyQllUbmFEU1pLTmZXZTZJSExlTVg4T2FFNzkyQ0RGJTJCdXVuaWlBaDJlSEYlMkJ6bnJIMHhreWF6MSUyRkVOdXB1ZktGZEZ2NUNoOHJYVXQ2YXR6dlJNM01yejFRbnlhZVhlZCUyQnlNRXJ4dHI0RFVmd1FSN0RBQTE3Tk1EaFFQV0xocTE5WEp2NmJHTEcyWTl0R1BZb0NMdWs2d1lLNFBoQzVBYVNJTnhmVFh6VHpiVURiRTdxdm04S2pJYkw2T0lkM0lSWHZEJTJGYU91MDBubUFGNEtxVmFMeUxTS1hXeHdyUTg3d2o5UEJoNHl1RnM4VHBqTm1mdFNEJTJCbE5qOGElMkJCbHZrJTJCOE9NSU9ZQVNiJTJCVHFSbEFPSTN4QWQwcm9ja3BreGY4cnY2RUh1UG9WeiUyRmRJS2UxYmF1SlVHMFZvUkVXN1IyajBkMm90Uk1abWlUVG1GUFhqS2NncklmSENVcGpmTUl5WThtSmFUbiUyQk5lb01OWDY0NVJYMUFvYmlNckFkcmxsWmZGWHBVazIxZG1TVzg3a044RWNmUkJIaVIwVmlwQXJYaWJnZlhRUFdpY3lETElSc0slMkJwY1lIUXpIa0R3R1NYZkNZS1pUWGxuTVJXbG9aNkk4MzlKMlF2VldyeXB0JTJCNXVKQm42OVhtN1pFSVpabVhwYVB0cjgxcFdwJTJCYUF6NFZDb2F6ZFlnbTlNUmFzV3Y4WUNEQjRETDFycFVscDNMQ3dWUkNNR2xpOWhaM1VKYktOdlBOV0c1TEh5YUpsMzJJajk0TXppRkJ2NHlDSEFLeWNYeSUyRkVjamlLSXZQZnlNNDZaeEtMcnhtQWpNR2Z3QkgzSlBSNzZvNmRKVHNVQ1ZRUWo2czZlSVZuRUdzOFhCTCUyQmw4bXBMeTlUcXJWM21Zczc0a1FKTHIlMkZORUh6SU5tM3M3WDF0QXFxUGh5MEVjM0htT1A1QW9pRkNLWUt5c1BGJTJCSkJJZSUyRkZaTFUwQ2FLMmV2azRyVDY0ajhFT1hhUyUyRkR6RUc0YmYyVUYyYUg1aFdNR2JxUFhhdENpVTY3TzNZN1Ewa0dZRFVuY1JZejV3REoxUiUyQjklMkJxWHk5VkhYUnUwaHZMWlJ4aXJxQVJVTTF1UEE5OGlSRCUyQnpoNVNwRCUyQjNRa3MxTU1EZzdzbElPVGJFMjFFJTJCSnBEeklLSHMlMkZ6Q1piamdXaG9Cc2x2RDRISXY2T29MSGJZSHBpV0lXT1NXUlp1MG4xcGpsanMzSjNFaEoyMDdIQmd3N284aGNQWERLZTIwR25nakczbU55bXdzRG8yNnh5NG1FczNFR3pWWSUyQlpWV2Vib1p1MCUyQm5OWld1UEw1d2M1cFdEMDFSZ3V5eUhSUTdIaDRubnBBS2ppZzZnMiUyRnQxMjFCdUM4VmVkWTRqOUNGazVHJTJCRDFRZ3pOZjNhdXN4eWxMQ2taWmhHVU81dGVIbnRlV0YwQ2w3eE1lSkJGZjVMWkd4UWc4WVkwand0QktOdkRFTjYyTEl1S2pJY1AwQ1RaUjNPZ0lINHc4RU41SElTbTlJbCUyRjNrVmJ2aDd4SmlDVnhCcXFMZWNmJTJCNUJsV3ZvVzBWMnA4SHRKJTJCcjBTSSUyQmFzZ3JTdkhTaVlRMjE1YUtGSDRjZHRiVVA3NWtGdE9QT2RaRXB5NDF5cSUyQmtyaEFmRkdRb3VTcGcxZnZYWklkSndRWVZVSG1jVGlyTHZRRGQyaUJjN1JGMzF1eCUyRkdiWk9Zc1BNa2pSV01WbjdMT3d3OGlXRjd2NDZ2TSUyRlQlMkZZME1zUkRIOWh5QTBTcFY2YjhqQXR3WDdMZnJyV0t5ckZqVkl5aktISTB2SmpYTTZvUWdpYmdwYzJ2OUNGNTd1N2IlMkJMNG5JeGFZV3d0Qm9aT3lDME43MmROJTJCSUZjUHc4ZER3d0NvQXc4TThnVVJQdUg3dE83UlJoNkV2OTVRU0J5elVpdHIwc3pIREdWcGxhcENPUW9vOSUyRmF2UnlJU25kSmgweGZSUHc1UkE0NDFRbEJCbHdXa2xvNWxFeTBJcW8zbU1iRlglMkZyTFpDU1VJNm9Qb25LZGdQZ0xoQldKVzl3NmRnWGZyUVJsaWN6UEJqTyUyQktuUENvJTJGUjNzenlSckxRRWklMkI4eHFlc3VBVlBkZmxaaGtFcG1ibUtEOURNMSUyRnZuVmZLZXhHWm5mWSUyQkF3U09HQ3FZcWFsZGpuS1IzN042WjRRc2M5WDE0byUyQlIyJTJGczduVWdINjFiSmR6VTFjMUQ4SHZOR2FKM09EVzZuWmtUS1dyOGFuMHNSMnJqZHk2QUcxeFd3OXlQUmQzQklYVkFSNWRKWkRqbVJPSWkwakZieTd0dkpkWWdhVlRBeDdDc2RVMUgzWUpDY29YJTJCRDJPNEFRNG1hZiUyRngwVDhoTlVZaHZkU0dkcml2dmQ1aWV5V3lDQldtUFdrR01Ma2tlUmQ1RkYlMkJ4ayUyQjZId2h5ZkNCc2pqcktjYXVZM0MxMUo5NEp6OHZlT0MlMkJMZ1d0amlBVVRlTmZFalFsaUZiUndnSk1mSzVPY0Rubno0bDFjVldHYVAxMmlXOUw2NFlWUmVTWDdkV1RXTHJiN0lHMmpQNUVGWlZkd0cxZ3lrdGpLTkljMmRGRk1EVHd3QklzeXpPbHVEcSUyRmtxVXlneUtTSmNjcnF2NUpTZEpuR0w2RzNOVUR0Q2RnT2xVTkRjUkI5Sks2OEZ0SW1obUxXQjJPaU9vS05oSWxBRDMyJTJGckw0UFAlMkJheEhCdnpSdCUyRkdkNDViUWRiZGlER1BDdE02SUJSZ2FlSEMzWkZEWHdrU2F4RmlmYTBEMHYzZHgxa1d0QnFydDhGQUtPZyUyRjJzQUo4OWlOemRLRUllJTJGYWVIN1lrNkhDellNVVdGWW5qdXpoNEhyZkFSSzclMkJ2TWJ5VzhaaFJha0glMkZTMTFLZ0pzYjZZTkhtJTJCNjZuRWlrbXZXQiUyQjFXYUhpN1pHVm5sTjY0ZnZPMUJ3aVJzSWJzJTJGSTlIZlQ2bUJPZHd3OFEzTjNhZzMlMkJJT0UlMkJLcm1naTVrSmpCNHZ3OElZeXlNZ2lSTWM4d3F5WE1qNEtWREVmaCUyRmtMZ2FoTjMzRmJNV2dma0JqcE92WWclMkI2SkJNV1pWRk15SzZuRmRLQUZKNVJqSnpXJTJCczdXS0MzaDRtVHFMTThpRDViOXpCREkwS1lrVWtLekhqOEc1Q2NxNU9jS3BKcTRWODdxTG9wM1NrWElBUXZNNXI3aGVmTWFOOVV5YzVGVUFXM01vUmFmdEJUNXhRbVNzZHdQUVIwaVo1TFNvaDRDNVc0QVYxTk5aajglMkJpNmV0aEQwUDhxdFpxc0I3RkdmYlBXZ0VSUTV5SER3UGMyOGZqNk9URFpGbU1iYUkyOVVvTTZaZmNBNVRRTiUyQnpmb0VISmRIeG1hUm9CJTJCcktkTyUyRkRMNGt3YzhOTVJtNWc5NHlIJTJGZzRhVkozaW1ERGhFaFIlMkJINUJndCUyQlJtbW8xazklMkZKeEYzcmtmS2ZtWDdtcXJQajN3cm42RVB3VVh2RGFjUUtoVExIYVN3SFlYOVRvNWFiNm0yRG45anZvY0RWODJIdVVYZEZuNmh4MzdCQVkxRHlibUU1cGN3WFdoOWtEb2dTMGEzUFBib0dITUFwR3QxNXJhNUMxMjE2bkZsJTJGWGQwNFp4alNmdHdHcWhCUmZSOHhRZEpKOEJEeWpYN2IlMkZ3MmdySWxjcDc4NWxHVFF6YVhzOW5hWTJoVWRqUnY3WnZmRDJxbFB3YUREUWxNencwVEtYU2RJeVNOMHh3WkQybmFPQUZOb3ROcVZsUEV2UjNyekI0dUZhS09ZMCUyRnNSdmdWOUJnbHdUUTNhMVJ1N2F4d3p5eUU1JTJCUzJTNDJEbmkza1E1JTJCUFlQJTJGem1JUmJmT2J6MkIxWWo4QnZZbjZrTlNTViUyRkQzMHFmMngxanVSZklBWVEzR2QlMkJDbmJ3MHd6VlJCS2VOUXNRTERncWcxNjZzNE1iMzBoNjlWUzgxMVhyOEVTVTlnZGo5UXJoWUt3JTJCODNOWG1EQ1d2RXZ3M2tQQm5jMHN1eGpyOXBsTnlUelgwZHE3VGxVeGVmSyUyQjhvQVk5TDQ4bWI4WiUyQlVmSG83eGlqOHo5WnY2TSUyRkpiJTJGU0NCNE5yQkNWczJ0UCUyRktlM3hsanVPb1U4eGE0eURnN016RXl2UDZ2JTJCWUlJJTJGTWI1VXNnQ0tJQkR5MGpoS0Y0SGhoZXN3OUNoTXYxZEM3dTEzY25VMUVINUJWZjM1QVdyU01mbHNRJTJGd0pGOEVFMWZUdVh5VlRpR2ZNdW5UWlRoZGE3ZDRBdWZvRnQlMkZEWSUyRjdGNkRad0c5TjVqSDVGOHRaZ0pVZHNWNFFaVjVhJTJCWUFvRDElMkZIUWtSRWpHUDV3dXFiJTJGeUFiaEU2ZmRxTzRjMEZBQ1JSekxaRDFDSDVSWWZMWHBlJTJCMFJwemhmbENSWUw1T1pTQzE3VU1IYlRDTGlCOUpheUFBOFRXRDM2d3ZqSWdnck9USFEwSWVuZ093SmszU25KYklwSTJQcUZ0WUQ1ZVZNJTJCajltZkUwbiUyRkRSZTdUTXolMkJzdHlSZElSb1RyRmJUOFptVHJWMVFhbUdEclRWTmNXQmZJeXBFV28wVExWdk8xZXZqOUdUSHNvdUlET0x2Mkd5QW5XZWxXZFcybEM1aiUyRlBpTW4xSVVhdUtnMVpLU3VkTDFRb251YmNDcjVNUlJhblp2WTBmaHFlaVBsUyUyQkNlVThLNUVPc1dpNDZQJTJCUHJyZVI1NEFGdlphUFdCVTBIVXRtUEZnRnJCMSUyQko3MmdHSXR6QWhTZCUyQnp0UWpFcjRkcWIyRFMlMkJIbWhqWDZuTEhPYkdCaHJodTFFUyUyRlQ2Z3pNeDkxWERPcUdKeUdQJTJGZ1JuSnF6UVBiazhtckNSMVJOOVpodElKTE9NV1JPakQzMG9LU2N2eTdheE44MSUyQmxMRDNIUmhacEUlMkJWUE5JcjZLVG1MTVo4ejg3ckVWWiUyQkZPcUxNS0RlRFkzcms2dE5yYUJubHJsbVRndlZENnhXUDdLbEIwOFE2a0d2YU00anFPdW1yY1MzY0NrQTUxTkpqcXNvNXlKdTBGZW9ZbDlWTXZteFpqYTFKTEREYk16dnhMTU9NT3huU1BqUWElMkI2azBZeE1YcDBUcW1xJTJGaEJLQkNCd09CcTd4RkhrdmloSG93WmpVJTJGZzlLMlI2VUNTaHRsYkhrclIlMkZFb3JiVXZXSHIlMkI5bURDV0VpTTJDaFp4cVdkRFF3ZWR2dFlwJTJGTGw5Z2REanF5YUlLWWNFSW5RZmdkZCUyQkxVRmZsNWpoMU5WU1Z0MGZMN0haZTUwTGdtSWNkNFVFZzU5UDZQSzl6Z3dKWWwycXc3ajVpcmZMMlJ2THhGNU1NZ3J5ZGRpdGVvbXNvY3M0NFYwWEZ2UThKY0hwJTJGVkRhUEwlMkJZd2VGVzR3eWtmYnRCUDFTJTJCSkFWODVGa29JWXhxblJVTmZtYmp0Z3lZc1Z1RkRKY3Y3T2ZGMWk5MEFWbmxhR0NYR3JEMGdvSUVpbHFoUmklMkJKRjFLOFdvYXZuTHladjBOeGFnWDc4bzN5WmZoREJuS3U3cSUyRlBOUWFYNWsxVmJBS0JRcWxtdXY0dTBubnV6Nno1cUhwTkZNb2tvTmlXcExPdVpDbiUyRlo4YXBaa2dYVnNOOCUyRjY0QUxBVTdhOFpCeSUyQnE0S3hIcGJrVEpqdGlDcHF1WSUyQmFKJTJGb2xvT0djUU11ZGZDa2MyWElFZEZLbFV3UiUyQkdIUEY5OEY2NmNiJTJCJTJGUVRsQnZ3cElIRVhtNjR2bFElMkZaN3BZWm91MDZ0MlRxcXZmZkxBMnZFWUhoeENiUCUyQmlVdnQ2cGJHY2FUMDRSRzkzcUF2endQUFNhbnY5NnVmcHRsRUVoQ3lLRjR0aUxNeFpRUTR5eHlxRVUlMkJIZkJtNCUyQkJSODRsVXRrVzhyb2hNenZBQ2tNOW1aR3J5JTJCY3JiTWZxa3p2Wk44am9Td1BJalBMaHdIcENhTmRLTllWTyUyRkZYMkRkZlJFOWpJQWJBZHpwYUlvQ3ZZNXJtdVBuS3EyeWU1M09TWWVPdUQ1cUFQYWRkNGlNYWpyY3VSV3NQa3klMkJxazFnYTc3ak5zdnRnVVZnc1I5aEdBMnhSaHRTM3dvbnprcW9EYjdGbGZpJTJCSHV0NFp5dXBkUXpVN3I2OFFXR1oxTHNYb1BLeGpVeTRqbWRlNlNwd080WTROY1M1WDBSVmNjVEEwTEtpQUViQjJGeWh1a3RaaHRnSmdIdEZ6R2o3MFIwbFRkJTJGNDhkVVlPdUdFdVBWU3JVU1F5Q1RqWUVkUE1sY0ZRS1laZ1BGTm5HQjR5SG5MOUN5VURraTJwT0xick9XRzZwTk4wdXNDenM3SEFuNlNLJTJCSGxtT002UCUyRkZFJTJCbUhia1JEalRnTFZCbzVIeU9jb016OHBmNlg4ckRvaFNUZVAlMkZCck1ETnAwZmU5JTJCQjklMkJ5RyUyRiUyRm9ycnU0YXhKYU1wYW0zb1lqaW5FdEllNEViU0lWc1h2b0pLTnAxJTJCTGhVN0V1JTJCVktST0FIJTJGa0UxQlk0U0klMkZhQzhXcmtqczdOS0REdjZzSzZxRm45RFozd1lzb3ExTWNzYWFTb2tsRE83b1Q0YjMzaVBGYnJsbFdhWTg1a1drVkVmek5wWmtHeEZiZzBnZCUyRndMdG5sVyUyRlpHZkh1T3ZzRUJGMlQlMkJIT2lienZqaklUblJQUjlodHlMS2pHcXFrJTJCMnFqTEZFdHZwck1oekU4JTJGRTZPMXlnWDZDVUxwcHZ5Qm5wN3FhRFpCNE41WHZaNmglMkI0YjRJajV2U0w3JTJGS2lnZkNDZWhYcyUyQkJoNXBOUGx1ZW15JTJCdlNGNVoyYVd4MjJhMzZxYWxXSCUyRllOSjc2OGpqZ1FvblgxUUt3bWk3b1JINmc1YjM3eTkzSVEzOHRjRXlvTCUyRmUlMkZXbDNKYVFrODl5aEdxWUZLUzRBMVlSUzlZMnR3eW9nWVRoN2t0Y3BVOVU5d3ZKcE92RGV1ZkN0MSUyRmhyTUNLNkR0dSUyQnlCdlI3bmhHVyUyQmpEaklXamVUSFU1JTJGMFFGb1NHTXRiTjVyU1JCNTNtSWpvVyUyRko0SVpLbWJ6Z2ZFcXBzeHY4b1QlMkJMM3NYQjgwYWY0Y2lmM3lhdUI3U2V6ck5MWllOMmRMYmUxOUZEOSUyRjk3ZnNNM3ExeEY0SGp6UmVBJTJCMGF6T1M5NjhGJTJCaWJQb0FwNW0wSEhMS21CRGtMb3lOYXZvNmVYcmQ5MWJpSkFIMUFIVExuSVlnZkxhVmlLZkJLUklucHNLejc0ekVjQzglMkJ3cVY2aUQlMkZ0OEwlMkY2Zk1pVFFTQ2Q1Z1phOU5udFRqT3QlMkZjSEhHd2lsa1RseFI1VVFteXdqb1RjdGJkVjVndVhYem11a0wzbFI3STA3MWtMWllqTmd0Z08wQk1LVWlrcWdNTjclMkZ5ZTFBZWZoJTJGSmN6dkttQ0NIJTJCYSUyRlN1ZmlaJTJGY2lYUDBZaWhpQVZaWjJJME5xQUtIZ1R6Z0hpZXpLSHRYM3JqdEs1SFBTSWlzRzE2NHpobnZTdGxKMm9QTDcwMzlUYVJlRHglMkZaVllGMXFvJTJGeUhIbCUyQiUyQms0cDRpcVRCRkJzbkQ1SVFaWnV4SVgzVVg2MHZ0ekd0a0FmTCUyRjNXJTJGSXBHT041aDhqSVRLNGFnSXppQlI3OE40VktiSGhYdk9VSXEzS0NpR2lqVGxQSnZIT050WUhUb0FyZVFodjBzVGlpWCUyRkhCMyUyQmU1cjA1Y0JzUmMlMkJlTTZlakJEUWJhOU44dzNBTHV2a0VESjJoNE9DR1h3Vjd2ZnJMRDdBb3ZCY1QxN3Q1Z1RzYUVQMmMyNkExd01qVWVGZVROUHJWaWRoM0hqUU40UHc5aGVCSlJjSjczZjB3a1d1dSUyQnpFd0VUZlhuUTFNMmNjR05jUDBmVVZBZHp6MzJ5amVmSmNCSlhzYXY2cTFKRjVFSTBneTRZYm1STWloMVRDMkRkV1dCMUJzQnp4bVVBOUphUDdpRHgybzBnSkJPOTdPZng5bWJmOTRGeCUyRmc3MmhZWUdKQ3RmcW9UT0U4SzRtb0FtRmFTT29VSTdCbGRza0lqNDMwSEx6Mkc5TUM2VTZ6dDhOSXBVanhubThRbzJ2dmI2Wjc5dDlGSTlwWEZ0TlI4YjBwbUIyVWtITU55Q0tPQ0pMc2taUElRJTJGSEw3cERYeCUyRndzNUFUSnBBcEtnVHpWZzVRVVZoNzhETEdtNHV6RExGTWR0dnRxcSUyRk1vaG5WZThWWlR1bGdnS1Z2ckFHWlJINmZMVEklMkYlMkI3bXpuM3R6UlclMkZ0cHhJMjB5Tmo2dHFCU1dveFRNZkpJaDhZVWNmdmJ5eXpjdjdBQmU2WCUyQlklMkZrMjEzJTJGZzBzQnpldSUyRmREcEdBamg0VnlxR3ZzUjlGViUyQjQ0JTJGdSUyQkY3VW9KUlh5RHFVak1OMXh1cEF0Q0swMyUyRlBuQjVMNVIydHNMQlJ1OFBWckU2NjE3Q3VhdiUyQkhHNlVYMkF4cWhtUHhwN1JtaDVYMXZGd2h6MDB4QWZpbnF1Q09KdEdPTklzSU8wVEFBQmNPMCUyRjJnWFklMkJjMzIxbzJTUnB0aTlBZ21TREpaaUx1OWlHNGt5U3lNRW9Fd1E4SXFxWU5NUDRadE1iRlZ5ZThRU3VMZFlKM3loYkdrNnQlMkZpZ0VRZ3EwOGpQa2s5dkpaV0xLSFg3ZVJRTUtIRVpubXRZZ3hyeGUlMkI5Q3Qzc3NFZmg2MzU5eDB6TkFoRFpmWmRnWlExa2R3VlQlMkY2Rk5GMDdjWWoydUwxdU1yTSUyRnEzM2YxQVZmUlFIRUs4NERBUFFhT3NudGNuclZaa2tjbkFsWFVSak11T3dqayUyRmtqVEE5MmRWejE3Y3dhanFOdDU2Wmo5dkxOcUZLYkF0anROTXcydWkxSVZoZUxWN2olMkIlMkZBb0swUnowV2hscXFuYjlpM2JUJTJCVkQzZ0hNWUdra3Y0OFc1U1JBbGYlMkZmdjdXTEhMSTJWcm1MaEhhU0xZZmpKaTJINCUyQmw2ZUJJQUhQTkNXUzJBemt0RVc0N2V4SUZQQkR4MDVjJTJGUldSU29keDV6NnJmUjJuZjNZR0FkNUczRkNCUCUyQkFybFBOM3RMJTJGVEw5YmdKeEI2SjY2aDJ2T05zZ00yZlFmdkZDM3p1YSUyQjI2bzl0Qnp4dkVablpuMGhFT245QjJVM3hqZ2RWVEklMkZ1Z2pvWWpWJTJGZkJWRmJpTlpqd3hrWmhZUGUxVU02RW5EWUd5aW1IRE0wMlp5MVMlMkJqOVNCSWI3OFJ4Z0tIMXd1S0lGNVQ5TzdOaXB5TzZjJTJCRWRiQk1VME1UOHFOblFLTDl3QWdUSnM1RzBwZTV5N0ZZUUhhZ0FXRWwzVHZRbHBTaEZOUXEwa1hDaWZ6SjYyNkViJTJGY0YlMkJub1NyUW5GMVpDWGJBMUxPUTR4U2lOVDlzUEMyQ0VuZ1d6ZnVlcDlSSTZlWSUyRjFsRFUzMlZjMjdPR2RtNXdNeldOWW9sSHd1ZkgxQ014emxmTEhHdml0Z0g4aDY4eXlzY0w3VjVzRVQyM05ZVlV2MTh1c2dqQiUyQjRMY3IzMHl2d1o2NzBKUzAlMkJ3c3FZWU11WTJ3VU9sZUpKaUN6Z1ZESUpiRk1zN0sxViUyRjVzMkNYQnAyeXBMT296cElMaE16cTI3amVEQkxYWDElMkZYZiUyQnhsZmMxY3FIRmlzUHBHSFM1NXBFVUNZTDBVZEdWbHREaFFtc0ppSGJkVUgwNiUyRllYMXhIcnhHMTYzNHE3JTJCaEFaWTNzUHdlM0JFdFclMkJ3REtIYm8lMkY0TGMlMkIlMkZBOVhvRlpONjh2SklwMEpaYWZsbWMyMFluZjc3bGJ3OHhaUFN1RDRVJTJGNUhBemwxQWJLaGFMOXdUZVNGTFclMkZPUjdaSmNHb2tyTkw2WmlYbDg4UGElMkJwWmxZTiUyQmp5YU9uSzhqT3JncVhpOTBYTXJseTRTdlJoWUpZdERLamdZcmJ3Ym9QN0hoSUNwUXBLTUklMkIlMkJNem83SGtzU01kVDduanczZXhDUEQxRG1ucTRHMDVBSjdXVzR1SWdLOFQxV01nSUNIdXlvSDBkeFhDWHVqTEdXJTJCV0ZSWVpiQTBkeXdvJTJGMWhIWmlXdFVGT1olMkZjTWlad0YzcVpaS1RvekZmUnclMkJnTjBLVzl0WjV2bWxIdllLSEkxQmYzWXpOSXF1Y245ciUyRnhHTXBnVHpIQkhhZkpnT0cxZXklMkIlMkZiaHgxalJHcnhvRDNITHNJMllIV3FUTnBRVXowNWZYT056MEZqcTVaQ3olMkI1OERYZDVtSzElMkJ2QVJBY2FCdDFZRDdpTDA1aURaVGZEcnhQY095NGRoNVh2d1ElMkJYQ2JWU0JYYXRPdU9LSWklMkZwNnl5JTJGMlIlMkJUcCUyRm9HJTJGeHlmNVo2YzNtQWwlMkZvSDFZNnYwVFRqMlZtdHlLZWNYeHB1djZodEVRZm9LNFJEQ3RGZUM3eWtPd3VYd3R2WmNOTHNscEE5JTJCQlBaYndQVU5DcnVNUFVHd2U5RiUyRnB4ZWdTbyUyQkI2ZzA1ckZVYjBpMW1DeXJMNjU0VmZ3YUtYdWFldERGTHI0Skk4STV1OUowdHJqNWpOWXRacUszbTZRcG1pNDB3bHdQNXE1MmdRWEtLUkx1S2g0WnpDbG9uTHFwTldVYTNobSUyQmRtN2lDTHU5VFBMbkUzck10WGtYTE1nciUyRmhwdTM4Y1MxYUhwJTJGbkRaRCUyQlZkamlWVThySENZcjhDbmEza2RIJTJGdmwxbnBMbUZDd2pTR0w0TElNUDlSR3VOdmRvYUdZb0xaSTJyeDBhMHZQdWNBaFIlMkY0UHpFOG91b251VWJTN2Y1TiUyRnlIcmJkdTdaY2VsTVhpNWltWXFWYnM5ZHAzVTFwbUUlMkI1UmFCMHhJZDM3MHBlM2x0SnZYODdpaE5BNHphaTI3R2dTNVBCQU1CcUJINnI2ek1ndDJpVno5bzFpNzN0RzRqeTBaOFFkeWZ2Vk1rVHNzY09yb0RqaGlXYkRCZnpvejJXTE9CcnZ2bjNobGxPVFhuJTJCU3U0JTJGRm5heHhheHRkZ0ZGeW4zQzZ3VHVWQTlua0tzbzhBNkRtUkdPelExUWRrM0N2c284R253Ykg4YjZQek1zZVBoT3p6eUNwQmlBa3l5cVJSVGI2SUxsRlliTmVuRzU0Tm1QM1NGSTR2eVNENVh0bmVRNGQ4VGh6Ym9kQWt2SnhIWXoycTRlM3lUUyUyQmx5cUtKMWtnUGhibVlZbGxkTmVwNmZqUDlCbzROaU1CbWEzMCUyQjVQeFhrYVBEdUxUamZVRSUyQkhCOVNTYno1elprUlRPRGRzY3ZQa2ZlVDJVbnF5cjA5cGF0bUpRWGVKZVdYcUxGY3dMbTVBaTg4TzRJa3BrZjZJdW9yWTdMMzZWJTJCTjEzZnllWjN4dFd6R3MxR2dRcHM2Tk9CYmF1dmUwdmZMeDc5Y0F6M2Nza2tvM2N1ZzdySklVTU1BRE5zd1NiQU10RTFKSEdoM3c2bHVlTVFFSiUyRldNbVVES0hoTyUyQlFjbHE1bEIlMkZaWWhHcVJlNTQlMkIyN2V3NGFGcm5tTDJaMTd1RkU2dEp2JTJCcGJ4S3Z2UHo2YzZ4aG84UkVVVHk3SXIzS1ZZbW0xZURPUDVhamFjNFglMkZjSU5OJTJGMmI3eGpid01QJTJGc0pxWDRlMTRaTU1vWEwzZUNCUGNoWDhVSDE1WWczQnBGbCUyQjB3aUxmcTVncXg4c1dLWVk4TXNwRTVPM2ZDNVgyWHlyRXZCWWNnUHhnMExaTld5MWRoT3l6YUg4djRnUDc4cHJpJTJGYm1FTHdnNlJLWkZWOXhMeVRVSW1XOExXUCUyRkFmQ2NQbk0yTlglMkZwTFhFNUdGblRaWTluQnNNMHZuVzUzaHY0NE54cXVybHF3REpoJTJGdHo5NmIxJTJGalMyZnp6bWxQVmRXWkVVVHBCOFdSN1lYSXAwJTJCS0J4aEVqT3JaRzlhOHoyeHFncFA5NWc3WHdrNGU0dWRSbkpiQWhOdUhycHJ5N1pGcXQ3ZGhZblZzRWJYc1IwNXFGNWJ5eklVRGdvWDh3ZENBcjBXT3ZnQjlrOGl1TjZJV2JhcGRTTCUyRmJrOXliZUhCWGFYUWJzWlB1Zk8wMTdEOUw0OHFiUFpyRENVNGpaUFhIelV1QmxCb1YxRE5MU2hPdVRxOGxSRE9jcFlzZ1h5NXRyaktHbWE1bCUyQkU5TUJ2ZnJyckhua1hXaW5leWd4JTJGQnNYdEpXMDFYT2d0MWNWUUdoUUdRdGVCY1VXcExuUmklMkYwRCUyRnIlMkIlMkY2ejFXN1QxTjhtVVMlMkJCSTRLRUZYdGRQeVhpUVgyNGlIMmJlQiUyQiUyQmRsJTJCT1I5bm1UaDJ3U1hEQ3B5eEZwTWlnUk56MEh0RncxYmZHVGRoU0tFcWJrMHRWWlVIVWMxQiUyRm5YaTJ5MXUlMkI2RjBybCUyQmR6YWVXOEV3aE9mUHp5WGdySnZLTWVWRVh4U0swOFN2R3A0ZmNFODVLRnVuN1VhNFBadEJJQzdVOXEydFgycW5WMWFUN0pGeTgybnpXbzRMRG5sNiUyRkF3U20wemZVU1MzcHVqTXh5cm5WTWJzMVp6ZkFhQ2x6N2JxVnc5SCUyRmtlZkQ1Qjg2UFAwMDdieER2ZEJiJTJCSmZxQ1U1UVVLbVJJQWV6WkxTUHFnUDREaEtEbmp5NjVoUnlDcEtleW5LSTJ0VjkzTWIxbDA2clNJTFM2RGJYbFg2VDdTVjBxQjNOTjZ1JTJGT1U0a1ZPcERZcEdFMzV2aHFqU1BTOFphYWpkV1UlMkZXWGhnTUQ5eW9INW5rJTJGNE15azFTRU5KTkN0am4lMkZBQmphMU5XOEwwJTJGVFMwQXE0U3pTbSUyRnFSRE5GZk1SdXMwZzVRSCUyQjZIZGM0alhqVEV5QmdNREtBZiUyRjlkN3AwV05xN0tTbyUyRmtGWVhTUHRRdThybmE1ZEM5MXZTSWN2ajg2T3ZVZXQlMkIzYklCTzMyJTJGZ3FaNzJ2S2t2cklpclRJd3VpVDVad0tlU3d6WWVNeXp6diUyRiUyQmowM1dsVSUyQjAwRzkxViUyQmhVOVNyNzBJS1VWd3pQb3lqVExEayUyQmFUM21UJTJGVDF3dEZ3TkIlMkJOVmphOGM5M1BabXpEUmxZRWN1MmtiVnklMkJGWWJFcG1xNDNhUTUzcTlRczE0RjBJU3dVNCUyQlFITWV3WkIwRDNBJTJGdk1ocjhaWThjcDMzZGdRSnJLNHRvck9QMHNmVnVhN3YwTSUyRjhaaGo4QVNhaFpjWHA5ZGNZYzk1RjN2eTBBRFJjbjJXZU5tUGUxYVl4WmtKcHJtMUM4ZTIlMkZ5VVVmeXJlaGhia0pSMlBVVVhWSjE0JTJCeVdxenBNcU5seVE0d3g1VnJLbmVqa2F2QTFVOTlFbDdaTVFKcHpwJTJGUHZMR1VOekdZRFh6V1lXUzglMkZkSHZrRnV0RlZVa1NaSW5JZ1FxRHNJeUdGRmdBcVdBJTJGSEk4ZW9FdmZCRWk1Yk1QJTJCeFBLbXN6ejBWTDFoT3lqaG01RTgzN1pJYW9lbWhJanhjQjlLSE1vS3dEamJKMlNUcGpCTzBIVG9MOUIyT3N6RVBNeEZtV1hMSWtnUnZubTNXQ0N4WmZxWGRvYmZ2UHZtQXQzZTZBT05zZDJSWiUyRm9UenUwU2JtVXFkNUpIUUxmdUtrRktIVWZRMFRKeEpuTm1LeHNkOUlLV2pGUVBtUER1VUxmMU90Z1RicHo4dTlRQyUyRkpmQkRtMGFrNUVXdVV1V1MzMXZPNzBIV2NyTTJqWnZnT1ZEakhoajJ5dUdlYjdaajZPUUk3SEZpaSUyRjdqYSUyRlJ0aTF5Sk8lMkJiJTJGdWhUOHJKTkxVQU5YSjIySk9EMzhFdndDVFFuYlBkUk11ajJBQ3JNTDJxSm5wdDN0cGQlMkZEa0ZuNCUyRmtJR2tRaWFBYVpDa0wlMkZuM0M1YTl2JTJCJTJGM0lVU1dqTUhrUERHaGFTVSUyQk5zaW1aUGEzdzhRQk5nJTJCWlJiZ05yR1BjbjMxYUFWZVI3MmV4SENySnVaOVRoc3ZEc1Uzb3klMkYlMkZsJTJGM3hac2thY0c2RnRIM2p4ckVSVHNKZVZsTWVZclJoWUR6V09kRFZNRXB1cUxpZllaRmdHT3M0SHZTdlF0VnJZSUVNQW5BSm5HRzBLQ2xzTHE0aFNTR0UyQjQ1OUd1T0VVUkFIMHdlSzZ3JTJCcTMlMkZCbVhBWTh5MjclMkZseGdkUnF3ZUI3clZrbjZYZ2R3OU1tQkdaejhYbnNXU3ZET0Vrc0pzRGMwVVdBWkJOVzdnVlBma2wwZnZBaVJ2NVZhdFdoRDlBVVI5YVNGVkZiUUY1OGRvOTJybG5HTXF4Um94eGh0R0l0aDl1T0NHTXBHM0lyME1GUVRGTFZLdU12VkIxVXlselVmcGhGUWoyZTMzd0dkMCUyRjh5cGh1NU1TWDdBMXozTkYlMkZQa3ZzZzJFOW1TZXJiVjlrbG9LZWlQWFNKN3RWbFc4WFF1Nzc3T1BFWnlCcENEZUVpczlVQ2lhaVpqaHFJWE5XVmZFbVRRY0FDMmFXRmdxcm1JTFYlMkZtcGRXQ0dSMlVzaiUyQmdSTVdGZCUyQmR5emJ6RHZSOU54WmFVYWxON2FnaGtpVEVoZmowaUIxZ3RRdlZBNWNKJTJCcnIlMkZxRHlOcGtFcWpUS3J2UzRpU0g0dk9GWGp1enZkOXY5TmdqOGE3U1FSaE9OTzZZdVRGQWVnYUFyNzA5V1MlMkJiUXglMkZLVlp4MEk4MlByWDB6JTJGNlUlMkIlMkZOTnhUbFhUZjlXaWIlMkZ1SzV3aHdiN1pNYncyZk1BRXFRVmhkcFdRc1FJbDAxd21OclNoUGZ6U2VjYTAxREglMkJZNzZNJTJGUTZkSG44OGVHRGhpZTJ5MU9uRXQ5OFRzWnV0WEI3UVEzMEZmUnUyUlFiWGs0SjU1aTdMTWJCOVBrbzZGbW52VlZHYkdFQUh0Z3J6anU2cndkbTVIZTJROW45OVVLUmFsZDQ0cDhna2laWmRCOTQ0bVI0Z3oxJTJCVFRBWWo0ZmxaeExIZDZPbXIlMkZFN0ZSN1pmYjRicHZnYzRxclZBTzlhV09xakNUM241NWtXTEZvalJuSEh1QVpQbjQwdkIxamVjaWhlMlNtYWxJUlkzc3BDa1VXYTZDSGpLQjVGRzlTVkpEZlU5SkRDY1FYY0VNd1QyN2FRZlp6QThuMFMlMkJnRFFBVFUzYXFMJTJCV2dEM2ZjcHViOWppT1NzYjEza3IzTm03VDQ1SElEd3ZwTmRWcG5UMlEzN2RibklKUjdEVjY3eGVXa3ZYM2YwNE5Bb2haa1BBQU11JTJGVVdqOWg1VlhnTGFLbklEM2wzeDN1OFIxVUkzUHg5NkQyQXg5UlV6WFUyRUYwWk4lMkJZV0s0a1V5QnVYRWNZaDFlblZUSncxWWRsTGxYbktlUURsQUlJdVUwSXBMJTJCMDBEcTJzRVUwTEJicGhZYUFNQXZNb1Z0eGk4SE9wQkxZQ3lwSjVhR09BT0FpNkh0enhwaHJnNWxmVGxqQVdEeFdneHNXYUIlMkZXbnppY01EaUlNT1h4TlBicEZlV1lKZ0FZSGlRdzBtWVhGZ3dJNkJxd1ROZEV3T2hmVjNZUGFBajRlR0pSa3B6eVFRZFRBWHRqJTJCa0VBTEFGNVA2V3BVUUU3OFJUVjZXQ2ptVGpHSHRETTRuTkxjeEJpaiUyQlFvWlFQekhtR1RrSTcySFUlMkZ1eSUyRklXNDdjUyUyQkdKTlJTTURwbUdlaDJGZFJyS3h0YzZWOWZxZjlsT1B6N2R3U1N0JTJGVlElMkJ6RTA1aFptJTJCdHhabDNtWlZmU2RFbFlJM1czd3d6bnRia3dmJTJCQlk5cUclMkZ4VDhUeUI5RFN6TEZtU2JVc1VJSXJSdFNXSDZteWZVdFQ1dmc5VlNKNnBpc2tKeHglMkIyQkRCamlMVmhvSG9HNHBKZGs5akpISnRveHRUJTJGZmVKVHBGVml2TTNkdzhMRHpBcnd2bjJjb0lzNzFWUVY2TENqcGMlMkJGQmJxWnUlMkJhMGJQdzFSR09mQ0RJdzJDZmRUc3pBVmVNbWs1RkhXRFBSenZHZ0U2V3c4MThpVndEOVJYVFBEUW1zQ1VPVVYxY1UyQzZRT0huaUJ6ckM1NEdBSGpCUnJjOEg5JTJGdXUlMkJ0d2t1RzVNQ1hoQjg5U0VCZzZBUk1vMlolMkJCMDJYMiUyQmVNOEE5NnltZ2VjNkJkSGxjM0ZYZHBwJTJGZm9tNU4zOVhQQlF1QjElMkJXN2hYMHZJVUZSUUJscG81YXd4YzVmam95dGdPUmUlMkJhRDhRR1lrQ1ZYb2o4bVU1eGJtc3VEbXVUMUE4N0JoTm94Zk5tbk15SkRvNjNTSExWNjRzbGR2NSUyRmliODJnZXJpTW9kMk1SOXlZYk1FY2FIYjFWJTJCTzlMZjE3eUlwNXdlU3R0czJEN3d2NFlzQSUyRlRnOGd3TXlINDBzNm9DTjR6MXlaaUJQcSUyRlJpSWNvanZ0b0wzUTRDemdCTlR6ZUFjNjYzJTJGQklPNkNSZzl1WmhDcmxNWUlmTlFDekJHc2dLYW12TTBjczNxckJwJTJGcm5FJTJCU2xIUGd5dFclMkZQek1JOFB1OU1qRHJveDJYUWloMmxya25zcDBrQ0J2NVloNU04QjVyTjdJMDh2Wmc5RGtCM3F5RjNuM3VaVzhyT2h4Z2F5SVpBWGdYMWhZeUFiSkFvY0I5QWNFYSUyRjRxSjYwVTklMkZMckEwbXYlMkZ1UG5JUWlEejRxS3pHbzhHVW1ITTVORms5RXRsUk4lMkZiVGVNOGZNRGVhMlpHRDhZZjEwMFp5Q290Z0k0YWRjNVo4dDJxVVU1c1BiRVlHdTM3Njh5SDdFMWtiMm15WWxXRm1aWUI0aTIyUFM4Q2Q4U21saElqbGZISHZSY0VtaFZ5cVgzRjJoY2lWN25selFoajE1TU83amVPS0dPcE03V3lvMVprdnZOZkhVTHg2NU41U3czMUw0MyUyQmxTOEc4ayUyRjgwYktrVSUyQm4wOHFHSUI3U0JveCUyRk1OVzhIZWtTVDluJTJCc2ZBaERKJTJGN3lCQ1B4JTJGcG9FSWNHQjhQdXUlMkZmQ2JNeWJmV1Bua0J2dkdmQVElM0QlM0QlM0MlMkZkaWFncmFtJTNFJTNDJTJGbXhmaWxlJTNFe6s1aAAAIABJREFUeF7snQdUVMf3x78CKiKgorGBir1iAbFQ7SWaGEkVFWuU2GOs0Z8xiWJM9R9NTIzd2KImJpZoFCuKIEURe6MoIKh0pPs/MwaDirCz+3b3vd0753BE9r2Zez/zuJf75s6dco8fP34MakSACBABIkAEiAARIAJEgAgQAQ0JlKPgQkOCdDsRIAJEgAgQASJABIgAESACnAAFF/QgEAEiQASIABEgAkSACBABIiAJAQouJMFInRABIkAEiAARIAJEgAgQASJAwQU9A0SACBABIkAEiAARIAJEgAhIQoCCC0kwUidEgAgQASJABIgAESACRIAIGGxwUaNGDdjb29MMEwEiQASIgIoEoqOjkZSUpOLVyr2M/INy544kJwJEQD8ERPyDwQYXHTt2REhIiH5mgEYlAkSACCiQgLHYTWPRU4GPIIlMBIiATAmI2E0KLmQ6iSQWESACREDXBESch65lk3I8Y9FTSmbUFxEgAsZNQMRuUnBh3M8KaU8EiAAReEpAxHkoGZux6KnkOSLZiQARkBcBEbtJwYW85o6kIQJEgAjojYCI89CbkBIMbCx6SoCKuiACRIAIcAIidpOCC3poiAARIAJEQNh5KBmZiJNUsp4kOxEgAkRAKgIidpOCC6moUz9EgAgQAYUTEHEeSlbVWPRU8hyR7ESACMiLgIjdpOBCXnNH0hABIkAE9EZAxHnoTUgJBjYWPSVARV0QASJABDgBEbtJwQU9NESACBABIiDsPJSMTMRJKllPkp0IEAEiIBUBEbtJwYVU1CXsJ/ZhFvwv34OXkx2szctL2DN1RQSIABF4OQER56Fkjurqudz/Orq3qIk2tlWUrD7JTgSIABEQJiBiNym4EMarnRvyCwrhfyURm4NicPJ6Eh4/Bj7s1QxTezXVzoDUKxEgAkTgOQIizkPJ8NTRMyUrF6/+30kkZ+Vh2Xvt0bd1bSUjINmJABEgAkIEROwmBRdCaKW/OC7lEbadjcX2szG4l5aDWtYV8Z5zfRy9moicvEIc/NBD+kGpRyJABIhACQREnIeSAaqrZ2J6Nt7fGIqIOymY3a8Fxns0Qrly5ZSMgmQnAkSACKhEQMRuUnChElJpLyoofIzj1xKxJSgGR64k4jEAz2avwLtTffRoURNmpiZYf+o2Fu65hEMfeqBpLStpBaDeiAARIAIUXKj1DGTnFeCjHeexLyIebzvZYfFgB1QwM1GrL7qJCBABIqAUAhRcCO5q19XEJqZlY/vZWL5ScTflEWpYVsS7znZ8paKejcUzYtxLy0aXJf6Y2rMppvVqpisRaRwiQASMmICI81AyJk31LCx8jGX+1/G9/3V0amiDn4Y5waZyBSUjIdmJABEgAqUSELGbtHKh5YeJOaGAG/f5KsWhy/fAVi1cm1TH0M4N0KtlrVLfeL3zUyBSHuXinw89tSwldU8EiAARECs1qGReIk6yND3/PHcXM3dGoLa1OdaO7IgmNWmVWcnPBclOBIjAywmI2E0KLrT0JN3PyMGOkDvYGhyDmIdZ/K0WW0J/r1N9NKxRWaVRN5yOwid/XcQ/H3qgGaVGqcSMLiICREB9AiLOQ/1R9H+nlHqGRidj/KYQ5OQX4sehjnBv+or+FSQJiAARIAISExCxmxRcSAj/8ePHCLz1gK9SHLyYgLyCx3zJfGjn+ujXpjYqmpkKjcbSqDov8ceUHk3xYW9KjRKCRxcTASIgTEDEeQh3LqMbpNbzTnIWxm4IwfXEDCx8vTWGd2kgI21JFCJABIiA5gRE7CYFF5rzRnJmLnaF3cGW4BjcSsqEtbkZ3nSy40GFpsvk7/4ciAeZuTg8nVKjJJgq6oIIEIFSCIg4DyWD1IaeGTn5mLI1nBfpGOlij/kDWvLiHNSIABEgAoZAQMRuUnCh5oyzVQq2HM7Opdh3IR65+YVwrF+V76UY0LYOzMuLrVK8TIyNgVFY8CelRqk5TXQbESACAgREnIdAt7K7VFt6sj11S/ZfxuqA2/Bo9gpWeHegg1BlN/skEBEgAuoQELGbFFwIEk59lIc//l2luHYvA5YVzTC4gy28O9dHyzrWgr2VfTmrq97Zzx+TezTFdEqNKhsYXUEEiIDaBESch9qDyOBGbevJ9tr9b3ck31+3dqTzC9UAZYCARCACRIAICBEQsZsUXKiAlq1SnL+Tis1norEnIg7ZeYVoa1eFn0vxWru6qFzRTIVe1L/kvVWBSErP4alRdGCT+hzpTiJABEonIOI8lMxSF3qevnkfH/waBlOTcvh5uBOc7W2UjIxkJwJEwMgJiNhNCi5KeVhYDi0rNbj5TAwuxafBooIpBrWvC+9ODeBgV0Vnj9mmM9H8LdiBae5oUVv61RGdKUIDEQEiIGsCIs5DKkViY2Ph4+ODhIQEmJiYYNy4cZg6deoz3W/evBlLly7lP7O0tMTKlSvRrl07/n97e3tYWVnB1NQUZmZmCAkJKVM0Xel5KykDYzaE4G7yI3zxpgO8HO3KlI0uIAJEgAjIkYCI3dRJcKGp8zhw4AB3NgUFBRg7dizmzJlTJncRCM93Fnk3le+l+OvcXWTmFvB0J7Y5mwUWVublyxxb6gvYqkVnv8OY2L0JPurTXOruqT8iQASIACegid1UF2F8fDzYl6OjI9LT0+Hk5ITdu3ejVatWT7s8ffo0WrZsiWrVquHvv//GwoULERQU9DS4YAFFjRo1VBZBl3qmZOXyFQxWSXBCt8aY0ac5TEzKqSwrXUgEiAARkAMBEbupk+BCE+fBAopmzZrh0KFDsLOzg7OzM7Zu3fqM4ykJugiEovvZSsXQX87wFCjz8iYY2LYu30vRoV5VvacjDVl1BvfSs+FPqVFy+B0jGYiAQRJQx25KDWLQoEGYNGkSevfuXWLXycnJaNOmDe7evauI4IIJmVdQiAV/RmJrcCz6ta6Nb99tB4sK2k2nlXpeqD8iQASMm4CIf9BJcPH8dIg4j8DAQP6W6uDBg7ybJUuW8H/nzp1b6iyLQCje0fTfzsHBtgq8OtihioXuVyleptSvZ6Ixf3ck/p7qrpWN48b9K0PaEwEiwAioazelohcVFQUPDw9ERkbC2rrkFNCvv/4aV65cwerVq/mwDRs25CsabD/a+PHjeVpVSW3VqlVgX6wlJSUhOjpaKrFV6oft3VsTcBuL919G67rWWO3jjNpVzFW6ly4iAkSACOibgIh/0HlwIeo8du7cCZYWVeRINm3axJfDV6xY8QJnfTsPbU48O/G70+LDmNCtCWb0pdQobbKmvomAsRIQcR5SM8rIyICnpyfmzZsHLy+vErs/evQoJkyYgICAAFSvXp1fExcXh7p16yIxMZGvdixfvpwHKKU1ferpf/kePw/D0twMa0Y4o42t7vbvST1n1B8RIALGQ0DEbuo0uFDHeezYsYOvWhQPLoKDg7kDkavz0NajNnT1GcSlZOPIR1Q1SluMqV8iYMwERJyHlJzy8vIwcOBA9O3bF9OnTy+x64iICAwePJjvuWCpsiU1tsrNNnzPmDFD1v7hcnwaP9H7QWYOlr3bHv3a1JESJ/VFBIgAEZCcgIh/0Flwoa7z0HValOSzIWGHW4Ji8PEfF7Bvihta16W3XRKipa6IABHQU1oUSxcaMWIEbGxssGzZshLnISYmBj169MDGjRvh4uLy9JrMzEwUFhbyalHse7ZysWDBAvTr10/WwQUTjhXqGLcpBOExKZjZtznf7E2lxunXkAgQAbkSkF1woYnzyM/P52+p/P39YWtryzd0b9myBa1bt5a985D6AXnAUqP8/OHr2Qgz+7aQunvqjwgQASMnIOI8pELFUpzc3d3h4ODAS9Gy5ufnBxZQsObr68urBO7atQsNGjTgPysqOXvr1i2+msEa8xXe3t48raqspg89S5IpO68As3ZG4K/zcfBytMUSLwdUNDMtS3z6nAgQASKgcwIidlMnKxeaOA9Gb//+/Zg2bRovRTt69GhFOQ+pZ3/Y6iDcSc7C0Rnd6C2X1HCpPyJg5AREnIeSUclJT/bybfmRG/j20DU421fDT8OcUN2yopLxkuxEgAgYIAERu6mT4EIfjEUg6EM+dcfcGhyDub9fwN7JbrQRUF2IdB8RIAIlEjBUu/m8snLUc29EHD767TxqWlfkG72b1bKip5QIEAEiIBsCInaTggvZTJtqgjzMzIXz4sMY59EIs/tRapRq1OgqIkAEVCEg4jxU6U+u18hVz3OxKXh/Ywiycwuw3LsDujWvKVeEJBcRIAJGRkDEblJwocCHY/iaIEQ/yMLxmZQapcDpI5GJgGwJiDgP2SqhgmBy1jMu5RHGbAjB1YQ0fPJaa4xwsVdBI7qECBABIqBdAiJ2k4IL7c6FVnrfFhyDOZQapRW21CkRMGYCIs5DyZzkrmdmTj6mbjuHw5fvYXiXBvjktVYwM32y2Z0aESACREAfBETsJgUX+pghDcdMzsxFx8WH8b57I8zpT6lRGuKk24kAEfiXgIjzUDI0JehZUPgYXx64gp9P3IJ70xpY4e2IKpXKKxk7yU4EiICCCYjYTQouFDrRPmuDcft+Bk7M7E5VoxQ6hyQ2EZAbARHnITfZReRRkp6/nY3l5xs1qG6BtSOd0aB6ZRFV6VoiQASIgCQEROwmBReSINd9J8zhzNoVgb8muaKtXVXdC0AjEgEiYHAERJyHkpVXmp5nbj2A76+hKAfwUrWdG1VXMn6SnQgQAQUSELGbFFwocIKZyClZuei46DDGuDfE3P4tFaoFiU0EiICcCIg4DznJLSqLEvWMup+J0RvOIvZhFvwGO+DtjvVE1abriQARIAJqExCxmxRcqI1Z/zeOWBuMm0kZODmLUqP0PxskARFQPgER56FkbZWqZ2pWHiZuCUPAjfsY79kIs/u2gIkJW8+gRgSIABHQLgERu0nBhXbnQqu9/xYSi1k7I/DnRFe0q0epUVqFTZ0TASMgIOI8lIxDyXrmFRRi4V8XsTkoBr1b1cKyd9ujckUzJU8HyU4EiIACCIjYTQouFDChLxORvcXquPgQRrk2xMevUmqUgqeSRCcCsiAg4jxkIbCaQihdz8ePH2P96Sh8vvcSWtS2xpqRHVGnSiU1adBtRIAIEIGyCYjYTQouyuYp6ytGrQvGtXsZCJhNqVGynigSjggogICI81CAOi8V0VD0PHo1EZO3hMOigil+8elIK9hKfihJdiIgcwIidpOCC5lPZlni7Qy9gxk7zmP3RFe0p9SosnDR50SACJRCQMR5KBmkIel5NSEdYzacRVJ6Dr59pz0GtK2j5Kkh2YkAEZApARG7ScGFTCdRVbFSH+Wh46JDGOlij3kDWql6G11HBIgAEXiBgIjzUDI+Q9PzfkYOxm8KRWh0Mj7q3QyTejSh84+U/ICS7ERAhgRE7CYFFzKcQFGRRq8/iyvxaTg1pwc5FFF4dD0RIAJPCYg4DyVjM0Q9s/MKMPf3C/gj/C7eaF8XX7zZFublTZU8TSQ7ESACMiIgYjcpuJDRxKkryq7QO/hox3n8PsEFjvWrqdsN3UcEiICRExBxHkpGZah6so3ePx67ia8OXoVj/apY5dMRNSwrKnmqSHYiQARkQkDEblJwIZNJ00QMlhrlvOgwhndtgP8NpNQoTVjSvUTAmAmIOA8lczJ0PfdfiMf0386heuWKWDvSGc1rWyl5ukh2IkAEZEBAxG7qJLiIjY2Fj48PEhISYGJignHjxmHq1KnPoLpy5QpGjRqFsLAwLF68GDNmzHj6ub29PaysrGBqagozMzOEhISUiVkEQpmdKeCCsRvO4lJcGgJm96BDlRQwXyQiEZAjAWOxm8agZ8SdFIzdEIKs3AIsH9IB3VvUlOMjRzIRASKgEAIidlMnwUV8fDzYl6OjI9LT0+Hk5ITdu3ejVav/3rInJiYiOjqa/7xatWovBBcsoKhRo4bKUyACQeVOZXzh72F3MP2389j1gQucGlBqlIynikQjArIlYCx201j0jE99xAOMy/FpvODHaFd72pcn298+EowIyJuAiN3USXDxPK5BgwZh0qRJ6N279wskFy5cCEtLSwouBJ+xtOw8dPz8MIZ1aYAFr1FqlCA+upwIEAEAIs5DycCMRU82R1m5+fhw+zkcvHgP3p3r49PXW6O8qYmSp49kJwJEQA8EROymzoOLqKgoeHh4IDIyEtbW1ioFFw0bNuSrGeXKlcP48eN5WlVJbdWqVWBfrCUlJfGVEGNq7A1V5N1UnJ5DqVHGNO+kKxGQioCI85BqTH30Yyx6FrEtLHyMr/+5yjd7uzapjh+9nVDForw+0NOYRIAIKJSAiN3UaXCRkZEBT09PzJs3D15eXiXiLWnlIi4uDnXr1gVLnWKrHcuXL+cBSmlNBIJC5/kFsXeH38W07eew07crOtrbGIpapAcRIAI6ImAsdtNY9Hz+sWGHrs79PQL1qllgzUhnNKxRWUdPFg1DBIiA0gmI2E2dBRd5eXkYOHAg+vbti+nTp7+UcUnBRfGLy/q86FoRCEqf8CL507Pz4LToMIZ2ro9PXmttKGqRHkSACOiIgLHYTWPRs6THJvj2Q4zfFILCx8BPw5zQtXF1HT1dNAwRIAJKJiBiN3USXLDa2yNGjICNjQ2WLVtWKtvng4fMzEwUFhbyalHse7ZysWDBAvTr149WLkog8P7GELAqIYFzelLVKCX/FpPsREAPBESchx7Ek2xIY9HzZcBiHmRh9IaziLqfiUVvtMF7nepLxpY6IgJEwDAJiNhNnQQXAQEBcHd3h4ODAy9Fy5qfnx9iYmL4976+vrxMLRM8LS2NX8M2dV+6dAn379/H4MGD+XX5+fnw9vbmaVVlNREIZfWlpM//PHcXU7edww7frnCm1CglTR3JSgT0TsBY7Kax6FnaA8WKgEzcHIaT1+/jffeGmNO/JUxNyun9GSQBiAARkCcBEbupk+BCH5hEIOhDPm2NmZGTD8fPD8G7U30sfJ1So7TFmfolAoZIwFjsprHoWdYzml9QiM/3XsKGwGj0alkTy97rAMuKZmXdRp8TASJghARE7CYFFwb4gLB82vCYFJyZS6lRBji9pBIR0BoBEeehNSF00LGx6Kkqyo2BUfh0zyU0rWnJN3rbVq2k6q10HREgAkZCQMRuUnBhgA9FUWrUb+O7olNDqhplgFNMKhEBrRAQcR5SCRAbGwsfHx+eGstSYlmp8alTpz7T/ebNm7F06VL+M5Yyu3LlSrRr147//8CBA/z6goICjB07FnPmzClTNH3oWaZQer7gxLUkniZVsbwpfvFxQof6dBirnqeEhicCsiIgYjcpuJDV1EkjDEuNcvr8EN5zrodPB7WRplPqhQgQAYMnIOI8pIIRHx8P9uXo6Ij09HQ4OTlh9+7daNXqv8NAT58+jZYtW/Lzjv7++2+wwh9BQUE8oGjWrBkOHToEOzs7ODs7Y+vWrc/cW5Kc+tBTKl7a7Of6vXSM2RCChLRsfP12O7zerq42h6O+iQARUBABEbtJwYWCJlZEVN9NoQiNSeapUUrfpMeqjaU9yqdDn0QeALqWCKhBQMR5qNG9SrcMGjQIkyZN4pUBS2rJyclo06YN7t69i8DAQB5oHDx4kF+6ZMkS/u/cuXNLHUsOeqoEQw8XPczMBfMfwVEPMbVnU0zr1ZQfYEuNCBAB4yYgYjcpuDDQZ2XP+ThM3hqObeO6oEsjZdcxn7XzPP6OTMDxmd1hU7mCgc4YqUUE9E9AxHloQ9qoqCh+QGpkZCSsra1LHOLrr7/GlStXsHr1auzcuZOnRbHvWdu0aRNf0VixYsUL965atQrsi7WkpCRER0drQwWD6DMnvwAf/x6JXWF38Fq7uvjqrbYwL29qELqREkSACKhHQMQ/UHChHmPZ35XJUqMWHcI7HevhMwWnRh2+dA9jN4Zw3rP6NceEbk1kz54EJAJKJSDiPKTWMSMjA56enrzUuJeXV4ndHz16FBMmTAArb169enXs2LGDr1oUDy6Cg4OxfPnyUsXTp55Sc9NWf2zF+Kfjt/DlwStoZ1cVq3ycUNPKXFvDUb9EgAjInICI3aTgQuaTqYl4H/wairNRyQj6WJmpUalZeej93XG+WmFdqTzuJj/C8ZndYGb65KwUakSACEhLQMR5SDlyXl4eBg4ciL59+2L69Okldh0REcHPPGJ7Ltg+C9YoLUrKWSi5rwORCfhw+zlUsyjPK0m1rFPyipL2JaERiAAR0CcBEf9AwYU+Z0rLY++NiMOkLeHY+n4XdG2svNSo6dvP4c/zcfhzoivupjzC+E2h+GmYE/q1qa1lctQ9ETBOAiLOQypC7A35iBEjYGNjg2XLlpXYLTtwtUePHti4cSNcXFyeXsMOVmWBhr+/P2xtbfmG7i1btqB169LP+NGHnlLx0kc/kXdTMXZDCNjBe9+/1wG9WtXShxg0JhEgAnokIGI3hYKLzMxMVKpUiZcLvHbtGs977d+/P8qXL69HdUseWgSC7ISXSKCs3CcH6r3lZIdFbzhI1KtuuilKh5rSowmm92kOdtiT51fHUN/GAlvHddGNEDQKETAyAprYTXX9A0txcnd3h4ODA/ctrPn5+YEFFKz5+vryErO7du1CgwYN+M/MzMwQEvIkXXL//v2YNm0arxw1evRonlZVVtNEz7L6NtTP76Vl4/2NIbhwNxUf92+Jse4NaaO3oU426UUESiAgYjeFggtWIvDkyZNg1Tq6dOkCNpCFhQVYDXK5NREIcpNdSnlY3fKg2w8Q9HEvxVSNSsnKRe/vTqB65Qr4a5IbKpg9+YNj5bGbWHrgCg5O80Dz2lZSYqK+iAARALhNL/qjXRQI+QdRYsq7/lFuAT7acQ77LyTg3Y718PkbbZ7aZ+VpQxITASIgQkDEPwgFF6wOeVhYGN8s9+jRI8yaNQsdOnRAeHi4iHw6uVYEgk4E0tMg+y/EY8LmMGx5vzNcGtfQkxRiw7L8XlbtavdEV7SxrfL05uTMXHRZ4o83nezgN1hZKzFiBOhqIqAfAprYTfIP+pkzXY9aWPgY3x2+huVHbqBLIxusHOqEalTFT9fTQOMRAZ0TEPEPQsEFCyR+/PFHfPjhh1izZg3Pa2VL2RcuXNC5kmUNKAKhrL6U/Dl708RSo7wcbbFYAX+QH7p0jy+9T+nZFNN7P9m0WbyxsrR7zsfz8zuqWMgvHU/JzwrJTgQ0sZvkH4zr+fkj/A5m77yAulXN+Ubvxq9YGhcA0pYIGBkBEf8gFFwcP34c33zzDVxdXTF79mzcunWLb8D7/vvvZYdYBILshJdYoIlbwnDmJkuN6inrSktF6VA1LCvyTdxF6VDFcVyMS8WA7wMwfwDL+W0kMSnqjggYNwFN7Cb5B+N7dkKjH2LcxlDkFRRi5TAnuDZRxuq48c0UaUwENCcg4h+EgoviohUWFoLVJX/ZQUeaq6FZDyIQNBtJ/nf/fSEeH2wOw+axnWVt/KdtC8feiHj8OckVrev+lw71POG3fzqNe2k5ODajG0xM6ORY+T+BJKFSCEhlN8k/KGXGNZcz9mEWryR1IykDnw1qjaGdn2y6p0YEiIBhERDxD0LBhbe3N3766SeYmpqCbd5LTU3lNclnzpwpO4IiEGQnvMQCsdQodqDeoPa2WOIlz70K/1xMwLhNoZjasyk+LCEdqjiSohK7a0d2RI8WVBJR4seFujNiAprYTfIPxvvgpGfnYcrWcBy9moRRrvaYP6CVYgqIGO+skeZEQIyAiH8QCi7at2+Pc+fO8epQoaGhWLp0KQ8y2OFGcmsiEOQmuzbkmbw1HKdu3EewDFOj2EZtVh3qFauXp0MVZ8KW4N2WHkHz2tbYOLqTNnBRn0TAKAloYjfJPxjlI/NU6YLCx1i87zLWnrqN7s1fwfdDOsDKnPbFGfdTQdobEgER/yAUXLAN3Cy4YG+oJk2aBE9PT7Rr1w7nz58vlV9sbCx8fHyQkJDA65iPGzcOU6dOfeYedmbGqFGjeDWqxYsXY8aMGU8/P3DgAL+e1TFn9c7nzJlT5nyJQCizMwO44EBkPHx/DcOvYzrDram88mKnbgvHPhXSoYpPw/f+1/HtoWvw/8iTNhIawPNJKsiDgCZ2U13/oA/NNdFTH/IqaczNQdH45M+L3C6vHtER9WwslCQ+yUoEiMBLCIjYTaHggm3cZqsVLKDYt28fP+Ro2LBh/OyL0lp8fDzYFytVmJ6ezlc7du/ejVatWj29LTExEdHR0fzn1apVexpcsICCncB66NAh2NnZ8RNYt27d+sy9JY0tAsEYnqTsvCdVowa1r4slXm1lo/LBiwn85O1pvZpiWq8Xq0O9TNCk9By4fnEE3p3rY+HrpZ/GKxtlSRAiIHMCmthNdf2DPpBooqc+5FXamGyV/INfQ1He1ASrfJzg1MBGaSqQvESACDxHQMRuCgUXJZHOz8/np6WKtEGDBvGVj969e79w28KFC2Fpafk0uAgMDAT72cGDB/m1S5Ys4f/OnTu31CFFIIjIruRrWU7syetJCJ7Xixt9fbeidKiaLB1qkquwTOw8DFa69szHPWFZUewZ1LfuND4RkCMBqe2mOv5BF1yk1lMXMittjJtJGRiz/iziUrKx9C0HDO5gpzQVSF4iQASKERCxm0LBBdvA/emnn+LEiRN8OJYWtWDBAlSp8vLKPs/PTFRUFDw8PBAZGVlipanng4udO3eCpUWtXr2ad7Vp0yYEBQVhxYoVL0z6qlWrwL5YS0pK4ish1P4jULRKsGlMJ7g3fUXvaFiwww75Y6dwt6prLSzPudgUvPHDKXz6emuMcLEXvp9uIAJE4FkCIs7jeXZS+AddzYcmeupKRkMYh71A+mBzKM7ceohJ3Zvws4uowp8hzCzpYIwEROymUHDx5ptvok2bNhgxYsTTP/TZfovff/9dJc6sdC0LSObNmwcvL68S73k+uNixYwdftSgeXAQHB/NTwktrIhBUEt4ALmKpUU6fH8JwIfcLAAAgAElEQVRr7eriizf1mxp1IDIBvr+GcmfDDsxTtw364RRYpRL/6Z4oV47K0qrLke4jAoyAJnZTU/+gyxnQRE9dymkIY+XmF2LBn5HYdjYWrzrUxjdvt0elCqaGoBrpQASMioCI3RQKLoqqgRSnWdLPSqKdl5eHgQMHom/fvrx87csapUVp91llm6ePX0vCWT2mRj3MzEWf746jdhVz/DFBPB2qOCF2SuyH289DLqsx2p096p0IaJeAiPN4XhJN/IN2tXqxd0301LWshjDe48ePsSbgNhbvvwwH2yr4xacjalmbG4JqpAMRMBoCInZTKLjo2rUrvvrqK7i5uXGYp06d4nsj2L6I0hozLGy1w8bGhp/oXVp7PrhgObtsQ7e/vz9sbW35hu4tW7aAVSYprYlAMJonA0DReRIbRneCZzP9pEZN2hIGlqK1Z7IbWtQWT4cqPl85+QV8Y3f7elWxeoSzMU0l6UoEJCegid1U1z9IroQKHWqipwrd0yUvIXD40j2wF1ysRC2rJNXGVvWUaoJKBIiAfgmI2E2h4IKlQLGSsiy3ljVW1WnDhg1o27b0FJuAgAC4u7vDwcGBl6Jlzc/Pj1ebYs3X15eXqWWCp6Wl8WvYpu5Lly7xfRn79+/HtGnTeCna0aNH87SqspoIhLL6MqTPWWpUx0WH+fL0l2+107lqRaeFf9S7GSZrkA5VXPBv/rmKFUdv4PiM7qhfncoe6nxSaUCDIaCJ3VTXP+gDniZ66kNeQxrzcnwaP9GbrWB/92579GtT25DUI12IgMESELGbQsFFETEWALDG/vBnKxHsD3+5NREIcpNd2/KwKktHriQiZL5uq0Y9yMhBn+9OoE5VzdOhijNKSM3mh+qxk2HnDfivvLG2OVL/RMDQCEhhN8k/GNpTIb0+ienZvAR5eEwKZvVrjg88G9OeOekxU49EQFICIv5BreCiuLT169d/ugIhqRYadiYCQcOhFHc7W5oeuzEE60c5o1vzmjqTf+KWMJ6WJUU61PNCs75PXkviZWktKlBZWp1NKg1kUASktpvkHwzq8ZBUGbaKPmtnBP46HwcvR1ss8XJARTPa6C0pZOqMCEhIQMQ/aBxc1KtXD+wEbrk1EQhyk13b8rB9Ch0/P8yXo796WzepUazk7ITNYZjRpxkm9VC/OtTL2JyNeoi3fwrkDmpIp/raRkj9EwGDJCC13ST/YJCPiWRKsf2Y3/vfwHeHr8HZvhp+Ht4RNpUrSNY/dUQEiIB0BET8g8bBBb2Zkm7idNnT9O3ncPjyPYTM740KZto9UK8oHapu1Ur4Y4ILzLRwgB9zUgO+D0Dh48f4e6o7LbHr8mGisQyGgIjzUEVp8g+qUKJr9pyPw4wd51HTuiLWjnBG01pWBIUIEAGZERDxDyoFF1ZWViX+scb+oHv06BFYRSe5NREIcpNdF/L4X76HMRtCsG6kM7q30G5q1MTNYfwkbZYO1by29pzG9rMxmL3rAraN64IujarrAiONQQQMioA6dpP8g0E9AnpThh2KyjZ65+QVYMVQR71VM9QbABqYCMicgIh/UCm4kLm+JYonAkGJ+mkqM0+NWnQYfVvXxtdaTI3aFxEPth9iZt/mmNi9iaZil3o/y+HtssQfXRtVx8phTlodizonAoZIwFjsprHoqbRn9G7KIx5gXE1IwyevtcYIF3ulqUDyEgGDJSBiNym4MNjHoGzFPvrtPP65lIBQLaVG3f+3OpRdtUr4/QPtpEM9r+WSvy9j9cnbODmrO1gaFjUiQARUJyDiPFTvVX5XGoue8iNftkSZOfmYuu1J2u7wLg3wyWuttJJKW7YkdAURIALFCYjYTQoujPjZOXLlHkavD8HakR3Ro0UtyUlM2ByKw5cSsXeKG5rpKIf2TnIWPL48Cl/PxpjVr4XkOlGHRMCQCYg4DyVzMBY9lTpHBYWP8eWBK/j5xC24N62BFd6OqFKpvFLVIbmJgEEQELGbFFwYxJSrp0RufiGcFh1C71a18O077dXr5CV37Y2Iw6Qt4TpJh3pehHEbQxASnYzTc3rAvDyVNpR0YqkzgyYg4jyUDMJY9FTyHDHZfzsbi4//uIAG1S2wdqQzGlSvrHSVSH4ioFgCInZTKLhYsWIFhg4dyk/mlnsTgSB3XbQpH6vQcTAyASH/6yVZjfGidKh61Sphl47SoYozOn3jPrxXB/G9JG852WkTH/VNBAyKgCZ2k/yDQT0KslHmzK0H8P01FOUA/DTMCZ2pWIds5oYEMS4CIv5BKLiYP38+tm3bBkdHR4wePRp9+/aVbclPEQjG9Xg8q+3Rq4kYte4s1ozoiJ4tNU+NYhXE2HkW/pcTsW+Km15KCjIZ2EngbNXir0musn1Gjfm5I93lSUATu0n+QZ5zaghSRd3PxOgNZxH7MAt+gx3wdsd6hqAW6UAEFEVAxD8IBReMAvvD7Z9//sG6desQEhKCd955B2PGjEHjxo1lBUkEgqwE17EwLDXKefFh9GxRE9++q3lqFKtXPnlrOGb3a4EPuunvmdh0Jhr/2x3JV06cGsh/pU3H007DEYESCWhqN8k/0IOlLQKpWXm88mDAjftP9tT1bQ4TE7aeQY0IEAFdEBDxD8LBBVPg/PnzPLg4cOAAunfvjjNnzqB379748ssvdaGfSmOIQFCpQwO+aOaO8zgQmYCz83tptEchKT0Hfb47jvrVK2OXb1e9VvhgFUdYWdruzWvi+yEdDHj2SDUiIB0BKewm+Qfp5oN6epZAXkEhPt1zEb+eiUGfVrXw3bvtUbmiGWEiAkRABwRE/INQcPH9999jw4YNqFGjBsaOHYs33ngD5cuXR2FhIZo2bYqbN2/qQD3VhhCBoFqPhnvVsauJGLnuLH7x6cg3d6vT2BvLD34Nw5Gridg/xQ1NamrvsDxV5ftszyVsDIziG7trWpurehtdRwSMloAmdlNd/xAbGwsfHx8kJCTAxMQE48aNw9SpU5+ZgytXrmDUqFEICwvD4sWLMWPGjKef29vbgx3kZ2pqCjMzM76iXlbTRM+y+qbPtUuA+ZoNp6Pw2d5LaFHbGmtGdkSdKlR2XLvUqXciAIjYTaHgYsGCBTwFqkGDBi9wvnz5Mlq2bCkb/iIQZCO0ngRhb4PYgXo9WtTkb4LUaX+dj8OUreGY078FX7KWQ2N5ut2/OYYpPZriw97N5CASyUAEZE1AE7uprn+Ij48H+2J7+dLT0+Hk5ITdu3ejVatWT1klJiYiOjqa/5wVFHk+uGABBXvppWrTRE9Vx6DrtEuA7RecvCUcFhVM+YuxdvWqandA6p0IGDkBEbspFFwwruzNUUBAAN8k6+rqyh2CHJsIBDnKr2uZZu+MwL4L8QhRIzUqMT2bb6C2Z+lQH7jAVEZ5sKPWBSMyLg2nZvdABTMTXWOl8YiAoghoajel8A+DBg3CpEmTeKrt823hwoWwtLSk4EJRT5X2hL12Lx2j158FS8ll5dQHtK2jvcGoZyJg5ARE/INQcPH555/jt99+g5eXF0fM3iK9/fbbYFVC5NZEIMhNdn3Ic+JaEnzWBmPVcCf0aV1bZRHYEvX4TaE4di0J+6e4o0lNS5Xv1cWFRSlf//deewxqb6uLIWkMIqBYAprYTSn8Q1RUFDw8PBAZGQlra2uVgouGDRvy1Qz2wmv8+PE8raqktmrVKrAv1pKSkvhKCDXlE3iQkcN9EDvb6KPezTCpRxOqEKj8aSUNZEhAxD8IBRcs7Sk8PBzm5k/y1x89esRXLlhKVGlNlZxa9kcqy7Pdv38/LCwssH79+qerIpRTq/2njKVGsapRns1ewf+9p/oG6D/P3cXUbecwt38LjJdJOlRxWoWFj9Hz2+OoZlEev09w1T5IGoEIKJiAiPN4Xk11/UNRPxkZGfD09MS8efOevsB6foySVi7i4uJQt25dsNQpttqxfPlyHqCU1jTRU8HTa7Ci5+QXYO6uC/g9/C7eaF8XX7zZVqPiJAYLihQjAhoQELGbQsFF//79sXXrVlSt+iS3MSUlBcOGDcPevXtLFVeVnFoWVDCnwP4NCgrigQb7lzUWXFBOrQZPhIq3ztkVAVZKNvR/vVUyzEXpUA1rVMZOX3mlQxVXeW3Abb75b88kNzjYVVGRBl1GBIyPgIjzeJ6Ouv6B9ZOXl4eBAwfys5OmT5/+UvAlBRfFLy7r86JrNdHT+J4KZWjMXlD+eOwmvjp4FY71q+Ln4R3xilVFZQhPUhIBBRAQsZtCwQWrDnX27Fn+dogtQR86dAhubm6oWbMmx8KqhajSSsqpZcvZ3bp1w5AhQ3gXzZs3x7Fjx1CnTh0KLlSBKsE1J68nYfiaYPw83Al9y0iNYoZ83KZQHJdpOlRxHGnZeeji54/+bergm3faSUCKuiAChklAxHk8T0Bd/8BsyYgRI2BjY4Nly5aVCvb54CEzM5NXK2TVotj3zDexjeX9+vUrtR9N9DTMmTccrf6+EI8PfzuH6pUr8kpSrKIUNSJABDQnIGI3hYILVoa2tMYcRFntZTm17K3VnDlzeLDCWs+ePbF06VJe+opyasuiKs3n+f+mRrk3faXMsyF2h9/FtO3n8PGrLTDOQx7VoUqjwA7U2x4Si8A5PVDdkt5mSfPEUC+GRkDEeTyvu7r+gRUIcXd3h4ODAy9Fy5qfnx9iYmL4976+vrxMLZMtLS2NX8M2dV+6dAn379/H4MGD+XX5+fnw9vbmaVVlNU30LKtv+lz/BC7cScXYjWeRkZ2P5d4d0KOFeiXW9a8JSUAE5ENAxG4KBRdMxdzcXFy7do1ry1YX2DkXqrbScmoHDBiAuXPnPhNcsEP5WFlCyqlVlbDm1839PQJ/notDWCmpUYlp2ej93Qk0fqUydsg4Hao4jRuJ6ej17QnM7NscE7s30RwU9UAEDJCAiPMoSX1N/IMucWqqpy5lpbHUI5CQms0DjEtxafj41ZYY49aQNnqrh5LuIgKcgIjdFAouWJoSW51geyDYUjbbqM3eVpW1eY4JVVZObWlpUcXnlXJqtfuUB1y/j2FrgvDTMEf0a/NiWT827+9vDAVLodo/1R2NX5FXdajS6AxbHYSbSRk4Oau7Xk8P1+4MUu9EQH0CIs7j+VE08Q/qS6zenZroqd6IdJc+CGTl5mP69vM4cDEBQzrVx2eDWqO8KZUk18dc0JjKJyBiN4WCC7aKsGXLFr5iwRpbwWB7JEJDQ0ulpkpO7b59+7BixYqnG7qnTJmC4OBgnkdLObW6eyhZalQnP3+4NK6OFd4vnmHyR/gdfLj9POa92hLvezTSnWASjHTo0j28vzEEK4c6or8D1UOXACl1YWAERJzH86qr6x/0gVATPfUhL42pPgFWMfCbQ1fxw9Gb3K+tHOqEKhaqZ1yoPzLdSQQMi4CI3RQKLtq2bYuIiIhnaJX0s+dxqpJTywIQdnDSgQMHeCnadevW8SWYW7duUU6tjp/Pj/+4ALanInR+b1SqYPp09KJ0KHaWxW/ju8rqsDxVEBUUPobnV0dhW7USto/vqsotdA0RMCoCIs7jeTDq+gd9ANZET33IS2NqTuD3sDuYs+sC7KpVwpqRzmBVDqkRASKgOgERuykUXIwaNYpvphs+fDiXZvPmzXwTHQsE5NZEIMhNdn3Lc/rGfXivDnrmDf+TdKgQnLx+H39PdUcjBaVDFef58/GbWPL3Fa5DyzpURUTfzxqNLy8CmthN8g/ymkuS5kUCZ6Me8gP32IumlcMc4dK4BmEiAkRARQIi/kEouMjJycEPP/wAthLB/thkey0mTJiAihXlV31HBIKKXI3mMpYa1dnPH10aV8cP/6ZGsbc+0387j/kDWmKsu7LSoYpPXEpWLros8cfgDrZY4tXWaOaUFCUCqhDQxG6Sf1CFMF2jbwKxD7Mwev1Z3L6fiUVvtMF7nerrWyQanwgogoCIf1A5uGD7Htiyd2RkpMFBUIRCOhZy3h8X8HvYXV41ip0T0fvb42hWy4qnE5malNOxNNIOxw4L3H3uLs7M7YmqFhWk7Zx6IwIKJiDiPIqrSf5BwZNuhKIznzZ5Szg/p2msW0PMfbWl4v2aEU4jqaxjAiL+QeXggukwdOhQLFmyBPXryz/SF4Gg4/lRxHCnb96H9y9BfOWCrVqcusnSoTwMIk/1cnwa+v/fScWc0aGIB0ZPQubkFyDiTio6NqhGZSYlmANN7Cb5BwkmgLrQGQG2Qr9o32WsPx2Fni1q4v+GdIBlRTOdjU8DEQGlERDxD0LBRY8ePfgJ3Z06dULlyv9thvrrr79kx0gEguyEl4FALCe1s99hmJmYICEtG/8b2IrXCTeU9s7PgYhLeYTjM7vTGysFTuqj3AJsDY7Bzydu4l5aDg+CB7SlCmCaTqUmdpP8g6b06X59ENh0JhoL/7qIpjUtsXpER9hVs9CHGDQmEZA9ARH/IBRcHD9+vETlPT09ZQdFBILshJeJQOxUa2Z4ne2rYfu4rjBReDpUcaz7L8RjwuYwrPbpiF6t6PRWmTxyZYqRkZOPX89EY/XJW7ifkYvODW342SWO9athlU/HMu+nC0onoIndJP9AT5dSCbBzm5g/qGhmwu0IsyfUiAAReJaAiH8QCi5mz56NpUuXPjNaST+Tw4SIQJCDvHKU4WJcKmbtjOBvhe0NrGxfXkEh3JceRdNaltg0prMc8ZNMxQikPsrDhtNRWHvqNlKy8uDetAYm92iKTg1t8Omei9gcFIOQ+b1gbU716zV5cDSxm+QfNCFP9+qbwI3EDIzZcBbxqdn46q22GNTeVt8i0fhEQFYERPyDUHDh6OiIsLCwZ5RV5ZwLfdARgaAP+WhM/RNYceQ6vv7nGg5P9wQ7u4Oa/Ag8zMzF2oDbPLBIz8lHr5a1MKlHE7SvV/WpsGExyfD68TS+ebsd3nSyk58SCpJIE7tJ/kFBE02ilkggOTMX438NRfDth/j2nXbwciR7Qo8KESgiIOIfVAouVq5ciR9//JEfaNe4ceOnpNPT0+Hi4sLPu5BbE4EgN9lJHt0QuJ+RA5clR/Bep3r4bFAb3QxKo6hEIDE9G6tP3uYpUI/yCtC/TW1M7N4EretWeeF+Vhbb7d9VqPWjOqnUP11UMgF17Cb5B3qaDIlAbn4hRqwNBntpsesDF7SxfdHmGJK+pAsRUJWAiH9QKbhITU1FcnIy5s6diy+++OKpHFZWVrCxsVFVLp1eJwJBp4LRYLIiMP23czgYmYAzH/eEFaXU6H1u2Cb7VSdu8c3aLHXt9XZ1eVDRtJZVqbJ98fcVvg8jeF4v2FSm8sLqTqQ6dpP8g7q06T65EniQkYPXlgfwCnR7JruRTZHrRJFcOiUg4h9UCi6KS19QUIB79+7xk7mLmhxL04pA0Ons0GCyIhBxJwWvrziFT15rhVGuhlMNS1aQVRCGHWz147Gb2Bkai8ePAS9HW0zo1kTlvT5sf9CA7wPgN9gB3p3lXypbBSR6uURTu0n+QS/TRoNqgQDzDW/9FMgLmmwY1QlmpiZaGIW6JALKISDiH4SCixUrVmDhwoWoVasWTEye/KKxyD4iIkJ2dEQgyE54EkinBAb/eAqpWXl874UhVcTSKUQ1B2OVnn48epMfamharhzecbaDr2dj4XKQLDWq57fHUcvKHFvHdVFTGrpNE7tJ/oGeH0MjsCMkFjN3RmC8RyN+0B41ImDMBET8g1Bw0aRJEwQFBaF69eqy5ysCQfbKkIBaJfDnubuYuu0cNozuBM9mr2h1LOr8CYGrCelYcfQG9kbE8fKP3p0aYLxnI9SyNlcb0XeHruH7I9cRNLcnamrQj9oCGMCNmthN8g8G8ACQCi8QKCrJvsK7Awa2rUuEiIDREhDxD0LBRffu3XHo0CGYmcn/FEsRCEb7pJDinADbwOfyxRG0tauCtSOdiYoWCUTeTcXyI9dx8OI9VK5giuFd7THWvSFqWFbUeNQbieno9e0JSnHTgKQmdpP8gwbg6VbZEmD+wfuXM7gYl4Y/JrqgRW1r2cpKghEBbRIQ8Q9CwcWYMWNw9epVDBgwABUr/vfHwPTp07Wpj1p9i0BQawC6yaAIfHvoGv+j99iMbmhQ/b/T5w1KST0qExqdDFb69+jVJFiZm/H9LaNd7VHVQtrN1/3/7yQqlTfB7xNc9aitcofWxG6Sf1DuvJPkpRNITMvGwOUBqFTBFH9NdEMVCzpPh54Z4yMg4h+EgotPP/20RJqffPKJ7CiLQJCd8CSQzgncS8uG6xdHMMLFHv8b2Ern4xvigGwfxJlbD7Hi6HWcuvEA1SzKY6x7Iwzv2kBrh939cPQGvjp4FQGzuwvv2zDEORDVSRO7Sf5BlDZdryQCodEP8d6qM3BtUgNrRjjD1KScksQnWYmAxgRE/INQcFGSZKxqlBzTpEQgaEycOjAIApO3huPY1UScmdsTlSvKP/VPrtBZUHHy+n2+EnQ2KpmnPLENkayKk7a5xjzIgsdXRzG3fwuM9/zvTB65spKbXFLbTfIPcpthkkcTAuzcnfm7IzG5RxN81Ke5Jl3RvURAcQRE/INKwYWbmxsCAgI4iOHDh2PTpk1PoZR0KuvzxGJjY+Hj44OEhAReZWrcuHGYOnXqM5exP0jYz/bv3w8LCwusX78erG/WDhw4wD9jZQ7Hjh2LOXPmlDkpIhDK7IwuMAoC7M3UmysDseiNNhjWpYFR6Cylkux32P9yIpYfvYHzsSmoU8WcV35617kezMubSjlUqX0N+uEUCgoLsXeyu87GNJSB1LGbmvoHfbBTR099yEljyosAs3Gzd0Xgt5A7+Hm4E/q2ri0vAUkaIqBFAiJ2U6XgokOHDggPD+ciF/++pP+XpFd8fDzYFwsW2KneTk5O2L17N1q1+i/9hAUVy5cv58EFq0jFggn2LwsomjVrxjeS29nZwdnZGVu3bn3m3pLGFIGgxbmgrhVEgDmO11YE8A3eB6d58DLL1MomUFj4GH9HJvDqT5fj01DPphI/o+JNRztUMNN9bXh2mN6ifZdx5CNPNHrFsmwF6IqnBNSxm5r6B33gV0dPfchJY8qPQHZeAd79ORA3kzKxe6IrmtQkGyO/WSKJtEFAxG6qFFwUX514fqVClZWL55UcNGgQJk2ahN69ez/9aPz48ejWrRuGDBnCf9a8eXMcO3YMUVFR/GyNgwcP8p8vWbKE/8tOCy+tiUDQxiRQn8ok8FtILGbtjMCW9zvDpXENZSqhI6nzCwqxNyKeBxU3EjPQqEZlfpr26+3rorweD5xKSM1G1y/88WGvZpjSs6mOaBjGMOrYTan9gy5IqqOnLuSiMZRBIC7lET/Bu6pFeR5gWJnTBm9lzBxJqQkBEbupUnDRqFEjfPPNNygsLMTMmTPx9ddfc/nYm95Zs2bh5s2bKsvLggUPDw9ERkbC2vq/km4DBw7k6U5siZ21nj17YunSpTy4YGlRq1ev5j9nKVlsRYMd2PR8W7VqFdgXa0lJSYiOjlZZLrqQCDAC7K1U1yX+6NTQBj8P70hQihHIKyjkKxPnYlMQHpOCoFsPEJeajea1rDCpRxO86lBHNpsc3/k5EA8zc3HoQ1qBEnmIRZxHUb9S+gcRWTW5Vh09NRmP7jU8AmduPcDQ1UHo2aImfhrmRAewGt4Uk0bPERCxmyoFF6NGjSoV8rp161SahIyMDHh6emLevHnw8vJ65h5W3patRhQPLr788kvcunWLr1oUDy6Cg4N5ClVpTQSCSsLTRUZDYOmBK/j5+E2cmGXcFYfiUx/xICI8Jpn/e+FuKnLyC/lzUNOqIjrUr4rBHezQp1Ut2TnWTWeiwQ6/OjDNnerSC/zmqmM3pfIPAmJqfKk6emo8KHVgcATWBNzG53svYUafZpjUg1ZJDW6CSaFnCIjYTZWCCyn45uXlga1O9O3bFyWdi0FpUVJQpj6kIHA35RHclx7BOI/GmNO/hRRdyr6PR7kFPHgoCiTY6kRCWjaXm+2bcLCtgg71qqJD/Wo8qGCbteW8J+V+Rg46+/nD17MRZvY1jjmU4iETcR5SjKevPoxFT33xNZZxWfbGh9vP4c/zcfwA1u7NaxqL6qSnERIQsZs6CS7YL+CIESNgY2ODZcuWlTgl+/bt46lORRu6p0yZArZCwUoZsg3d/v7+sLW15Ru6t2zZgtatW5c6tSIQjPAZIZXLIOC7KRRnbj/gZWl1WelIFxPDfh+jHmQ9DSTCY5NxOT4dBYWP+fANqlugPQsk/g0mWtax1svGbE1ZDF8ThOgHWTg+s5usAyFN9ZTyfmOxm8aip5TPBvVVMgH2YubNladxJzkLeya70SGs9KAYLAERu6mT4IKVsXV3d4eDgwMvRcuan58fYmJi+Pe+vr58/wbb5M32V7BStCzViinCGgs4pk2bxitHjR49mqdVldVEIJTVF31ufAQCbz7AkF/O4Ms32+Id53qKBpD6KI+XhuUpTrHJfM9ESlYe18myohna1WOrEk9WJFhQUd2yoqL1LRK+aHP+nxNd0a5eVYPQSdtK6MNuqlKq/MqVK2DpV2FhYVi8eDFmzJjxFAWVKtf2U0H9l0Ug9mEWrzRY29ocv09wgUUFOiepLGb0ufIIiPgHnQQX+kAoAkEf8tGY8ibAgt1+y07yDcr7prgp5s03q+B07V4GDyJYMMECCVbJiTVWWbdZTasnqxL1n6Q4sTKKhnrSbGpWHjouPoQRXe0xn05dV+kXTh92U5VS5YmJibxABythXq1atafBBZUqV2la6SIdEDhxLQkj1wXzwhbLh3RQjM/QARoawkAIiPgHoeBix44d6NevH6ysrLBo0SL+Fmn+/PlPD7uTEz8RCHKSm2SRD4HNQdGY90ckdvp2RUd7G/kIVkySxPRsnOMrEk82XkfcSUVWbgG/wqZyhX9Tm54EEm3tqhhdycSxG87iYlwaTs3uIbtN53J8oDSxm1L5h5JKlRexYmXJLS0tnwYXgYGBVKpcjg+Skcq08thNsIIg8w2YDYgAACAASURBVF5tifc9GhkpBVLbUAmI+Aeh4KJt27aIiIjgp3Wzyk5saZqlN7HSsHJrIhDkJjvJIw8CWbn56OLnD49mr2CF95PT4vXZMnPy+R/KEXeerEiwlQm2+Zw1M5NyaF3XmgcRRSsT9W0sjP7t2Z/n7mLqtnPY4dsVzjINEPX5TD0/tiZ2Uwr/8LJS5S8LLnbu3KlyqfLiumqip5zmi2SRFwG24j1xSxgORCZg05jOcG1CZyXJa4ZIGk0IiNhNoeCi6CRWFliw/RPe3t4vnNitieBS3isCQcpxqS/DIrBo7yWsPx2FU3N6oJa1uc6UY4HNpbg0XsHpwp1URNxNxc2kDDx+sueaV2ty/LdyE0txal23isFtPJcCNgvInBYdwjsd6+GzQW2k6NKg+9DEbmrqH0orVf6y4IKtlqhaqpzOQTLoR1c2ymXk5GPwD6fAKtaxDd521SxkIxsJQgQ0ISDiH4SCC1ZKllVsOnz4MEJDQ1GpUiV06tQJ58+f10RerdwrAkErAlCnBkEg5kEWPL8+isndm2B6n+Za0Ykd3HcpPu1JEHEnFZF3U3E9MR3/Fm/CK1YV0da2ChzsqvDUpja2VVDTSneBjlaU1mGnEzeHIejfyl9mejw5XIcqqz2UJnZTE/9QVqnylwUXlBal9lTTjVokcCspA4NWnEKDGhbY6etCL360yJq61h0BEf8gFFxkZWXxJWi2atG0aVOwjXgXLlxAnz59dKediiOJQFCxS7rMSAmMWX8W5++k8NWLimamGlFggcSVhPR/VyRSeDBxPTHjaRnYGpYV+JkSDnZV+b8smNDliolGysn05gOR8fD9NQy/jukMt6aUplDaNGliN9X1D6qUKn9ZcEGlymX6S0diwf/yPYzZEAIvR1t883Y7o09RpUdC+QRE/INQcHHz5k3Y2dmhYsWKOHbsGN9/4ePjg6pV5VfmUQSC8qecNNAmAVYFxGdtML57tx0/kVrVlpNfgGsJGYi4m8JXJViK09WEdOT/uyTBNlwXBRBsNYIFEqyUoZwPp1NVdzldxwK6josOY4BDHSx9q62cRJOdLJrYTXX9gyqlyhMSEnhp8rS0NF7OnG3qvnTpEqytralUueyeIhKoiMCyw9ew7PB1fPp6a4xwsScwREDRBET8g1Bw0b59e4SEhIBtumMnbb/++uu4evUqN+5yayIQ5CY7ySMvAoWFj9Hru+OwNi+P3RNdSxQur6CQBw4spYntj2DBxJWENOQVPNkkUdWi/JMViX+DCBZM2FatRIGEjqZ6+vZzOHz5HkLm91bkgYCqYjp5PYkfkPiecz2UVyMFTBO7Sf5B1Vmi64yFAPMd4zaF4NjVJGx5vws6NZRn1UFjmQ/SUzMCIv5BKLhwdHTk5We//PJLvt9i8uTJtKFbs7miuxVCYP2p21i45xLYgWysKhNLZXqy0ToFF+6m4XJ8GnLzC7k2VuZmfBXCwfa/1Ca7ahRI6HOqj15JxKj1Z7FmREf0bFlLn6JobWyWXvT6ilNghyYe+cgT6uwvEXEezytC/kFrU0sdK5hAWnYe33+Rnp2PvZPdULsK7ZdT8HQategi/kEouOjcuTM/KZudkLpnzx40bNgQbdq0QWRkpOyAi0CQnfAkkOwIpGfn8bK0lSqYgX2fUxRIVDTjG6zZZuuiVQkqASu76eOBXye/w+jW7BUse6+D/ASUQKJjVxMxct1ZfOHlgPc61VerR03sJvkHtZDTTUZA4Pq9dLzxwyk0rWWF7eO7aLx3zwiQkYoyJCDiH4SCC5bj+tNPP6Fr164YMmQIbt++je3bt2POnDmywyACQXbCk0CyJLAm4Db+uZjw74brJ8GEffXKdDibLGfrRaHm7IrAnvNxCP1fb4Or3sJWLd76KRDxKY9wbGZ3tVO/NLGb5B8U8otAYuqFwN8X4vHB5jAM6VQfS7wc9CIDDUoENCEg4h+EggsmVG5uLq5du8bla968OcqXL6+JrFq7VwSC1oSgjokAEZANgVM37mPo6iCsHOqI/g51ZCOXFIKcvnkf3r8E4bNBreHTVf2No5raTfIPUswm9WGoBNjp3ewUb01WFw2VDeklfwIi/kEouGAVokaMGAF7e3uwN2WxsbHYsGEDPDw8ZEdFBILshCeBiAARkJxAQeFjdPbzR6eG1fDjUCfJ+9dnh96/nOH7gE7O6q7RqowmdpP8gz6fABpbCQSYDRq5LhhBtx7y9KgO9aspQWySkQhwAiL+QSi4cHJywpYtW/iKBWtsBYOlR7ED9eTWRCDITXaShwgQAe0Q+OTPSGw7G8tToywrmmlnEB33Ghr9EG+uDMT8AS0x1r2RRqNrYjfJP2iEnm42EgIpWbl4bUUA8vIf8xO82SGp1IiAEgiI+Aeh4KJt27b8bIviraSfyQGSCAQ5yEsyEAEioH0CIVEP+d6EZe+2xxsdbLU/oA5GYG9Cz8c+OeTRooJmAZMmdpP8gw4mm4YwCAKX4tLgtfIU2tpWxeb3O6tVNtogQJASiiIg4h+EgotRo0bxA4yGDx/OgWzevBnshNR169bJDpAIBNkJTwIRASKgFQKs7rzb0iNoWccaa0Y6a2UMXXbKyiGzt6Az+zbHxO5NNB5aE7tJ/kFj/NSBERH489xdTN12DiNd7LHw9dZGpDmpqlQCIv5BKLjIycnBDz/8AHaiKttzwfZaTJgwgZ/YLbcmAkFuspM8RIAIaI+A3/7LWHfqNs7O64WqFhW0N5AOeh6/KQSBNx/wVQsrc82La2hiN8k/6GDCaQiDIvD53ktgVQi/facdvBztDEo3UsbwCIj4B5WDi8LCQrBlb3XOtBg9ejT27t2LmjVrlnh/cnIy2DU3b96Eubk51q5dy8/PYI1tHreysoKpqSnMzMz4CeGqNBEIqvRH1xABImAYBIre9i990wHvOqt3HoQcSLAT4PstO4kpPZtieu9mkoikrt3UxD9IIrhgJ+rqKTgMXU4ESiWQX1CIYWuCEB6Tgl0fuPAzk6gRAbkSELGbKgcXTNmhQ4diyZIlqF9fzCGfOHEClpaW8PHxKTG4mDlzJv/8k08+wZUrVzBx4kT4+/s/DS5YQFGjRg0h3iIQhDqmi4kAEVA0Abbq2v3rY7CrZoFfx3ZWrC6Tt4bjyOV7fNVCqhUYTeymuv5BHxOgiZ76kJfGNFwC9zNy8NryAJiUK8c3eNtUVvZqquHOFGkmYjeFgosePXrg7Nmz6NSpEypXrvyU9F9//VUm9aioKAwcOLDE4GLAgAGYO3cu3NzceD+NGzfG6dOnUatWLb5yQcFFmXjpAiJABAQIfH3wKn48dgNBH/dSZLWWm0kZ6PXtcYz3aIw5/VsIaF76pSLO4/meNPEPkimgYkea6KniEHQZEVCZACvI8PbPgXC2r4YNozrBzNRE5XvpQiKgKwIidlMouDh+/HiJOnh6epapW2nBxccff4zs7Gx8++23CA4OhouLC4KCgsBKGzZs2BDVqlVDuXLlMH78eIwbN+6lY61atQrsi7WkpCRER0eXKRddQASIgPERuJqQjr7LTuDzQa0xXIND5/RFbsaO89gbEYeA2T1Qw1K6PW8izuN53TXxD7rmqImeupaVxjMOAr+FxGLWzgiM92iEua+2NA6lSUtFERCxmyoFFzdu3MC9e/fg6ur6DAiW7mRra8tXGspqpQUXaWlpmDp1KsLDw+Hg4MBTo1avXo127dohLi4OdevWRWJiInr37o3ly5erdGifCISyZKfPiQARMDwCfb47jqqVKuA3366KUi72YRa6fX0MPl0b4JPXpK0yo47dlMI/6HoC1NFT1zLSeMZHYP7uC/j1TAxWeHfAwLZ1jQ8AaSxrAiJ2U6XggqUz+fn58Q3dxRtLV/r000+xZ8+eMoGUFlwUv5nlQ7PVCnaehrW19TP9Lly4kO/NmDFjRpnjiUAoszO6gAgQAYMjsNz/Or45dA2Bc3ugTpVKitHv4z8uYGfIHZyY1R21q5hLKrc6dlMK/yCpEip0po6eKnRLlxABjQjk5hdiyC9ncDk+DX9McEXz2lYa9Uc3EwEpCYjYTZWCC1a56WVVothKw4ULF8qUv7TgIiUlBRYWFqhQoQJ++eUXnDx5Ehs3bkRmZiZYFRJWLYp9z1YuFixYgH79+pU5ngiEMjujC4gAETA4ArfvZ/KN3VKcbK0rOPGpj+D55TG83dEOiwc7SD6sOnZTCv8guSJldKiOnrqWkcYzTgL30rIxcHkALCqY4q+JbqhioXmJaeMkSVpLTUDEbqoUXDRp0gRs6bukVtpnRdcPGTIEx44dw/379/kmbbbakZeXxz/29fVFYGAgryTFys22atUKa9as4fssbt26hcGDB/Pr2GF93t7emDdvnkq8RCCo1CFdRASIgMEReFKlBfhz0pNiEnJvC/+6iE1nonFsRjfUs7GQXFx17Kam/kFyJVToUB09VeiWLiECkhAIiXrIVzDcmtTAmhHOMGFGihoR0DMBEbupUnDBggNWCeT9999/RjUWBPzzzz/Yvn27nlV+cXgRCLITngQiAkRAJwRWnbgJv/1XcHxmNzSo/l8FPJ0MLjhIUnoOP138tXZ18fXb7QTvVu1ydewm+QfV2NJVRECEAHuJ8L/dkZjSowmm92kucitdSwS0QkDEP6gUXLDN3GwFgaUtsQpOrLH9Frm5ufjjjz9Qu3ZtrSiiSaciEDQZh+4lAkRAuQTupjyC6xdHMLNvc0zs3kTWiiz5+zJ+OXELh6d7otErllqRVR27Sf5BK1NBnRo5Abb/lFWP2hF6B6uGO6FPa/n9nWXkU2R06ov4B5WCiyKCR48efbr3onXr1nw1Q65NBIJcdSC5iAAR0D6Bt1aeRkZOPg5M89D+YGqOkJyZC9elR9CrZS18P6SDmr2UfZsmdpP8Q9l86QoiIEIgO68A7/wciFtJmdg90RVNamrnpYKITHSt8RIQ8Q9CwYWSkIpAUJJeJCsRIALSEthwOgqf/HUR/3zogWa15Fmd5dt/ruL7IzdwcJqHVivIGIvdNBY9pf1Nod70QSAu5RE/wbuqRXkeYFiZ0wZvfcwDjQmI2E0KLuiJIQJEwKgJJKZno4ufPyZ1l2duc1p2Hk/dcm1cAz8Nf5KWqq0m4jy0JYMu+jUWPXXBksbQPoHAmw8wbE0QerWsiZVDnWiDt/aR0wglEBCxmxRc0CNEBIiA0RPw/uUMElKz4f+RJ8qVk1dllh+O3sBXB69i72Q3tLGtotW5EnEeWhVEy50bi55axkjd65DA6pO3sGjfZUXsD9MhFhpKhwRE7CYFFzqcGBqKCBABeRLYGhyDub9f0Mkf8CIEMnPyeYWo9vWqYt2oTiK3qnWtiPNQawCZ3GQsesoEN4khAQG2wXva9nP463wc1o50RvfmNSXolbogAqoTELGbFFyozpWuJAJEwEAJsA3TzosPY4x7Q8zt31I2WrLqUIv3X8auD1zg1KCa1uUScR5aF0aLAxiLnlpESF3rgcCj3AJ4rTyNu8lZ2DPZTfbls/WAqMwh8wsK8c+le1gbcBsxD7Pw6eut0d+hTpn30QW054I/A+Q86FeBCBABEQKj1gXj2r0MBMzuLovUKFYpxv3Lo2hWyxKbx3YRUUXta43FbhqLnmo/CHSjbAnEPMjCaysCUKeKOX6f4AKLCmaylVVOgqVm5WHb2RhsDIwGK0Fe38YCVuZmuBiXBp+uDfDxqy1hXt5UTiLLThYRu0krF7KbPhKICBABfRD4PewOpv92XmerBGXpWFTFauv7XdC1cfWyLpfkcxHnIcmAeurEWPTUE14aVssEjl9Lwsh1wRjYti6+f6+9LF6GaFlltbu/mZSB9aeisDP0Dh7lFaBro+oY7dYQPVrUREHhY3x18Ap+OXkbretaY4W3IxrWkPdhqmqDkOBGEbtJwYUEwKkLIkAElE8gPTsPTosOw7tTfSx8vbVeFcrNL4TnV0dhW7USdvh21dkfDyLOQ6+ANBzcWPTUEBPdLmMCRYUe5r3aEu97NJKxpLoXje1PCbhxn6c+Hb2ahAqmJhjUvi5GuTZEq7rWLwjkf/kePtpxHnn5hfDzcsCg9ra6F1oBI4rYTQouFDChJCIRIAK6IeC7KRShMck4M7cnTE30VzVqW3AM5vx+ARtGd4Jns1d0o7ye0kljY2Ph4+ODhIQEmJiYYNy4cZg6deozOrM/FtjP9u/fDwsLC6xfvx6Ojo78Gnt7e1hZWcHU1BRmZmYICQkpk5eIkyyzM7qACOiBAPudmLA5DAcvJuDXMZ3h0qSGHqSQ15AslfSP8Ls8qLiemIEalhUxvEsDeHeuj1esKpYqbHzqI0zZGo6zUcl4t2M9/oKpUgVKkyoOTcRuUnAhr98NkoYIEAE9EtgXEY+JW8Kw5f3OcGmsH2fNNhz2+OY4PzTrz4muOlu1YNhFnIdU0xQfHw/2xYKF9PR0ODk5Yffu3WjVqtXTIVhQsXz5ch5cBAUF8UCD/VsUXLCAokYN1edLH3pKxYv6IQJFBDJy8jH4h1N4kJmLvya5wq6ahVHCYWXEN52JwpagGCRn5fEUp9GuDTGwXR1UNFM9QGC2d9nh6/jh2A00rWmJH7wd0VSmB6vqY6JF7CYFF/qYIRqTCBABWRJg1VicFh3iy+JLvBz0ImPR3o9Vw53Qp3Vtncog4jy0JdigQYMwadIk9O7d++kQ48ePR7du3TBkyBD+s+bNm+PYsWOoU6cOX7mg4EJbs0H9yp3AraQMDFpxCg1qWGCnr4tRbUo+F5uCdadug70UKnj8GH1a1eJBRaeGNhq9lDl5PQkfbj8HFrx9NqgN3nay06g/uT9Dqson4h8ouFCVKl1HBIiAURBgS+PMuQTP64XypiY61ZltMOzz3XE+7v4p7jo/iVfEeWgDTFRUFDw8PBAZGQlr6/9yowcOHIg5c+bAzc2ND9uzZ08sXbqUr7Q0bNgQ1apV486fBSEsraqktmrVKrAv1pKSkhAdHa0NFahPIqBzAocv3cPYjSF409EOX7/d1qD/EGarCwcv3sPaU7cRGp0Mq4pmeMe5HkZ0tUf96tKt3CSmZ2PatnM4ffMBBnewxedvtIFlReOuzCXiHyi40LkZoAGJABGQM4FDl+7h/Y0hWD/KGd10fFBVUVrWCu8OvBKMrpuI85BatoyMDHh6emLevHnw8vJ6pvsBAwZg7ty5zwQXX375JU+hiouLQ926dZGYmMhXO1j6FAtQSmv61FNqbtQfEWAEvjt0Df/nfx2fDWoNn672BgeFlZLdykrJno5CXGo2GlS3wCgXe7zVsZ7W/uhnL3t+PHoD3x2+BvvqlXk1qZI2hBsc7JcoJGI3KbgwlqeC9CQCREAlAjn5Bei46DD6tKqNb95pp9I9UlxUWPgYr35/ErkFhTj0oadeNpSLOA8pdC7qIy8vD2x1om/fvpg+ffoLXZeWFlX84oULF8LS0hIzZsyg4ELKCaK+ZE+A2Q/2UoSVqd06rguc7W1kL7MqAt5IzMD607exK/QuLyXr0rg6T33q3qKmzmzkmVsPMHVbON/PsWBgKwztXN+gV4deNi8i/kEnwcXo0aOxd+9e1KxZky93P9+Sk5PBrrl58ybMzc2xdu1atGnThl924MABvnmvoKAAY8eO5UvjqjQRCKr0R9cQASJgPARm7jiPA5EJODu/l85ymItWTL55ux3edLLTC2x92E1W9WbEiBGwsbHBsmXLStR73759WLFixdMN3VOmTEFwcDAyMzNRWFjIq0Wx79nKxYIFC9CvXz8KLvTyBNGg+iSQ+igPb/xwCunZ+dg72Q21q5jrUxy1x2Y24eT1+zz16RgrJWtmgjf+LSXbss6LpWTVHkjgxgcZObxcLZNngEMdLHnTAdbm5QV6UP6lIv5BJ8HFiRMn+NskVm6wpOBi5syZ/PNPPvkEV65cwcSJE+Hv788DimbNmuHQoUOws7ODs7Mztm7d+kwVESkiLOVPOWlABIiAlAROXEuCz9pg/DzcCX11sKmaOVP2R8HDrFwc/agbzHS816OInYjzkIp3QEAA3N3d4eDgwEvRsubn54eYmBj+va+vLxgftsmbvWxipWjXrVvH91vcunULgwcP5tfl5+fD29ubp1WV1fShZ1ky0edEQAoC1+6lc1vSvLYVto3rIlQtSYrxNemDFdRgpWTZJu2iUrLs9GxWSpaVldV3Y6tDv5y8ha8OXkWdquZYMcQR7epV1bdYOhtfxG7qJLhgmrONemzZu6Tg4vl82saNG+P06dPccbBl7oMHD3J4S5Ys4f+y3NuymgiEsvqiz4kAETAuAmzTYCc/f74Ez/Jstd2KghlWoWpIp/raHu6l/RuL3TQWPfX2INHAeiWw/0I8PwOD/VHuN1g/Ve9EALAzJjYFRmNLcAxS/i0lO8atIQa0FSslKzKmJteyjeSs8Afb9D2nf0uMdrU3ijQpEbspi+Di448/RnZ2Nr799lu+1O3i4sJrmN++fZu/qVq9ejV/DjZt2sR/zpbHy2oiEMrqiz4nAkTA+AjM332B5/mG/q8XLCpor0oIeyv/zs+BuJP8CMdmdtPrm0ZjsZvGoqfx/daSxkUEvvj7Cn46fhNfeDngPT2+sChtRlgpWXbgHQuGCnkp2doY7dYQzvZPqr/JuaVk5WLWzgj8c+keerWsxat0VbWoIGeRNZZNxG7KIrhIS0vj+yrCw8P50jhLjWIBxbVr1/iqRfHgggUfrBpISY1KDWr87FAHRIAI/Esg6NYDvLvqDL4f0gGvt9Ne5Sa2WfC9VWfw6eutMcJFv1VeRJyHkh8UY9FTyXNEsmtGgFU6GrkuGEG3HmL7+C7oUL+aZh1KdDdbFT5wMYEHFWExKbyU7LuslKyLPerZSFdKViJxS+2GvRjacDoKfvuvoIZlBe4rOhrIRvqSFBexm7IILoorwSaL1S2PiIjAxYsXKS1KF78hNAYRIAIvEGD5tV2/8Edbu6r4xaej1ggNWx2EKwnpCJjdXWebx1+mjIjz0BoQHXRsLHrqACUNIWMCyZm5eG1FAPILHmPPZDe8YqW/fQvsTf/W4FhsCnxSStaelZJ1bciLVyj9/IgLd1IxaWsYX33+qE8z+Ho01vkZRbp4DEXspiyCi5SUFL5Jr0KFCvjll19w8uRJbNy4kW/QYxu62eZuW1tbvqF7y5YtaN26dZkcRSCU2RldQASIgFES+GzPJfx6JppXjapSSfrKIGExyfD68TQ+frUFxnk01jtjY7GbxqKn3h8oEkDvBC7GpeLNlaf5S5LNYzvr/GBQVkqWbdDeFXYH2XmFcG3ybynZ5jUN6g/w9Ow8zP39AvZGxMO9aQ189257WWxCl/IBFLGbOgkuhgwZgmPHjuH+/fuoVasWPv30U7C65qyxSiCBgYG8kpSpqSmvBLVmzRp+4ipr+/fvx7Rp03jlKFauVpVKIOw+EQhSwqe+iAARMBwC4THJGPzjaXz9dju8pYXysKPXnwUbI2B2D1SWwemvxmI3jUVPw/lNJE00IbA7/C6mbT+HkS72WPh62S9nNRmL3csyUE6wUrIBt/m5G6yU7OD2thjlZo8WtfVTSlZTnVS5n+nNVmc+3XORv4z6f/bOA6qK4/vjX8HeFXuvWLGADWmKvcTeNRqNUaMYDTGWGGt+QbG3aOLfaKJRY+yx94KI2EXsDcWCYkOwIMX/uZNgLMC+fW/fe7tv75zjiZHZO/d+Zpi7d2fmzuwu1eFa2sGQRzVRR868aZHgwhrU5ECwhn7cJhNgAuonQM7CY8o+lM6bFb/3qaWowqF3otBy7iEMa+wIH++yiso2Vphe5k292GnsOODnbI8AvfAuCQzDzM5V0ba6ee7RoVSy607dFu3QigVtw+pZ559Usg4qSCVrqV69cO8ZfFacxI2Hz/FVg7IY7F3WYhf+mdNGOfMmBxfm7AmWzQSYgOYJ+G+/iIUHr+PY6IbInUW5bCBf/nECh64+ROBIb9VcxiTHeWi5Y/Vip5b7iHVXlkBcQiLofBdlaFr7ZV1ULpxDsQYolezSoJtY+W8q2cqFs0OkknUqJFYt9Fiex8ZjzMZQrDt5B3VK5RarGPmza/NSw6T+kzNvcnChx1HPNjMBJmAwgfN3n6H5nAD82LYyutcubvBzqVWki64azzyIr7zLwLdxOUVkKiFEjvNQoj1rydCLndbiy+2qk8DDmFh8MvcQ7NKkEQe8Tf1YQls6FweGiVSytMpLF45SKtkaxdWfStZSPbTmxG2M2RCKzOntMaNzNXg55rVU04q3I2fe5OBCcfwskAkwAVsiQE6z4YwDYon/z36uipg25M9T2HX+PgJHeCOXgqshpionx3mY2pY1n9eLndZkzG2rkwCtXHT6OQi1SubGb71rIq29vJUFWgHZFhohDmmfolSyGdOiS82i6OmqvVSyluqhqw+i4bPilMgK+GW90vBt5Gjxg/VK2Cpn3uTgQgniLIMJMAGbJjBr92XM3nMFR0Y1MHlpm/bhNpi+H194lMKo5hVUxU2O81CV4jKV0YudMrFwdZ0QWHXsFkasPYv+XqUwqplhcxClkqUbtJcevomIZ7aVStYS3f4qLgETN5/HiuBbcCmeS9yJUThnJks0rVgbcuZNDi4Uw86CmAATsFUCdDiRVi/Gtqwolv1NKd+uPoO/z9xFwIj6yJdNXXtw5TgPUxhY+1m92Gltzty+egmMXn8Wy4NvYV636mhZJeVLQumrOx3QTkol614mD3q7lUB9G0sla6meorn/u3VnxQFvykLYqGJ+SzVtcjty5k0OLkzGzQKYABPQA4HmswOQIZ0d1g90M9rc8McvUH/afvSoU9wiKSHlKirHeciVrab6erFTTcxZF3UReB2fiC4Lg8RWHZrTyhXI9lZBukD04JVIcZ7i4L+pZNtVL4zP3Gw7layleijs4XNx6V7onWfi4PuIpuU1cfBdzrzJwYWlRhO3wwSYgKYJLNh/DZQ5KmB4fRTNndko1L7NGwAAIABJREFUW77fcBarjoXj4PD6KJhDfUvicpyHUQBU8pBe7FQJblZDpQTuP3sl0mFnSW+PjT7uSGefRmQ3ovMU1yKfIx+lknUtjq619JVK1hLdFRufgElbL+K3w2GoUiQH5nV1RjEH4/yKJfSlNuTMmxxcWKpXuB0mwAQ0TYBWHejOi5HNymOAl/zbtMmRe/jvQ3uXIpjUzkmVLOQ4D1UaYKBSerHTQBxcTccEjoc9RpeFR1AmX1bci3qFqJdxcCqcQ3xRb+5UUBNf1LXcfTvORYC2yr55A0xuXwUtqhRUrTly5k0OLlTbjawYE2ACaiPQ5qdAULaULV95yFZt4qbz+D0oDPuH1TN65UN2ozIfkOM8ZIpWVXW92Kkq6KyMagksD76JcRvPoXGl/OjjVlIcOE6TJo1q9bU1xejD1eCVp8QdJD3qFMP3LSoiYzp71ZkpZ97k4EJ13ccKMQEmoFYCvx66gR82n8eeb7zErd2GFsov7+6/V1wqNb1TVUMfs3g9Oc7D4sop2KBe7FQQGYuycQJ0BkOvF96poWvpo9W0HZfwy8HrqFAwuzhoL8fHWMIGOfMmBxeW6BFugwkwAZsgEBH1Cq6T92BoA0cMaVjWYJvorMbPB65ht6+8oMTgBhSqKMd5KNSkVcToxU6rwOVGmQATMJrAvksP8M1fZ0Cpa+ni1rbVixgtS+kH5cybHFwoTZ/lMQEmYNMEOv8SBFqJoEDBkK0DlB/ebfJeeFfIj7ldq6uajRznoWpDJJTTi51a7iPWnQnolQB9xPpq5SkcDXuMji5FMKF1JWROn9bqOOTMmxxcWL27WAEmwAS0ROCPIzfx/YZQbBviIZavpcrMXf9cwLd9qAfKF5CuLyXPnD+X4zzMqYe5ZevFTnNzZPlMgAmYh0B8QiLm7LmCufuuokzerPipuzMc8/+XLtg8raYuVc68ycGFNXqI22QCTECzBB7FxKKW3x709yyF4U3Lp2pH9Ks4sWpRp5QDFvasoXqb5TgP1RuTioJ6sVPLfcS6MwEmAARefYghf55GTGwcJrSqhE41ihq0Ym4OdnLmTQ4uzNEDLJMJMAGbJtBz8VHceBiDg9/WT3Win7//KqZsv4RNPu5wKpJD9UzkOA/VG8PBhZa7iHVnAkzgXwKR0bH4etVpHLr6EK2rFcKPbZ2QNYPlt0nJ8Q8cXPDwZQJMgAnIJLD6eDi+XROCDYPcUK1ozmSffvE6Hu7++8QFSb/1riWzBetUl+M8rKOhMq3qxU5laLEUJsAErE0gIfENFuy/ihm7LqNY7syY180ZlQtb9oOVnHmTgwtrjxhunwkwAc0RoIumav5vNz51LY4xLSsmq/+igOv435YLWPulK1yK59aEjXKchyYMSkFJvdip5T5i3ZkAE/iYwNEbj8Vh78fPX+P7lhXwaZ3iFtsmJWfetEhw0adPH2zevBn58uVDaGjoR7SioqLQo0cP3Lp1C/Hx8Rg2bBh69+4t6pUoUQLZsmWDvb090qZNi+PHjxs03uRAMEggV2ICTIAJvEOg7+/HEXonCodHesPO7v0LpyiNoOeUfSJP+cp+dTTDTS/zpl7s1MzAY0WZABMwmAAFFsNWn8Heiw/QtFIB+HeoghyZ0hn8vLEV5cybFgkuDh48iKxZs6Jnz57JBhd+fn6gAMPf3x+RkZEoV64cIiIikD59ehFcUECRJ08eWTzkQJAlmCszASbABABsPH1HHLT7q78rapV8f2ViWVAYxmw8hxVf1Ebd0vLmLmvC1cu8qRc7rTmWuG0mwATMRyAx8Q3oUle6Q6lAjowizXn1YrnM1yAAOfOmRYILsjYsLAwtW7ZMNriYNGkSwsPD8dNPP4l6jRo1wuXLl2FnZ8fBhVmHCgtnAkzAWALPY+Ph8r9d6OhSFD+0qfxWDN10W3/afjHhrxngarEla2PtePc5Oc5DifasJUMvdlqLL7fLBJiAZQicuvUEPitO4f6zVxjRtDz6epQ0m8+RM2+qIriIjo5Gq1atcPHiRdDfV61ahRYtWoieKVmyJHLlyiVg9e/fH/369UuxxxYuXAj6Q4VWQG7evGmZ3uVWmAAT0CWBQStO4si1Rwj+rgHS2tsJBn8dC8fwtSFY0rsm6pfLpykucpyHpgz7QFm92KnlPmLdmQATMIxA1Is4jFgbgu3nItCgfD5M61gVubKkN+xhGbXkzJuqCC7WrFmDwMBAzJgxA9euXRMrF2fOnEH27Nlx9+5dFCpUCA8ePBD/PnfuXHh6ekrikANBUhhXYAJMgAkkQ2B7aAQG/HECyz6vBY+yeUEXHzWccQDZMqbD3z5uZvuCZK7OsMa8SavWtGWWtsLSajV9QBoyZMh7Jr5580b829atW5E5c2b89ttvcHZ2FnW2b98ufpaQkIC+ffti5MiRknisYaekUlyBCTABJmAkAZojlwbdxI9bLsAha3rM6VodNUsom0hEzrypiuCCVinIIXh4eAis3t7emDx5MmrVej994/jx48XZDTrwLVXkQJCSxT9nAkyACSRHgA5u1/jfbjR3KoApHapiw6k7GLrqNH751AVNKhXQHDRrzJv37t0D/aFggVauXVxcsGHDBlSs+F8WLgoq6MMS/Tc4OFgEE/RfCigcHR2xa9cuFClSBDVr1sTKlSvfeza5TrCGnZobDKwwE2ACmiNASUZ8VpxE+JOX8G3kiC+9Sn+UcMRYo+TMm6oILr788kvkz58fFDzcv39fOBlauciUKRMSExNFtqjnz5+LlYuxY8eiadOmkmzkQJAUxhWYABNgAikQ8P3rNHafv4+joxui5dxDsE+TBtuGeCg2oVsSvBrmzdatW8PHx0fM90mFtsTWq1cPXbt2Ff9EST/2798vzuiR39ixY4f4dzq/R2XUqFGpYlODnZbsV26LCTAB/RCIfhWH79aHYtOZu/AomwczOlVD3mwZTAYgZ960SHBBDoEcwcOHD0UQMWHCBMTFxQlDBwwYILY+ffbZZ+LrFS3t0CoGpaa9fv062rZtK+pRitpu3bph9OjRBgGSA8EggVyJCTABJpAMgX2XHqD3kmNo71wEa0/eFsvRraoW0iQra8+bFCzQtldKWU7bYpMKJQMhv+Du7i7+qUGDBiK7INWnbVGLFi0S/75s2TKxojFv3ryP+POZPE0OSVaaCTABIwjQu/SqY+EY9/c5ZM+UDrM6V4NbGdMyF8rxDxYJLozgYvIjciCY3BgLYAJMQLcE4hISUfPH3Xj6Ig6l8mTBLl8v2H9w74VW4Fhz3oyJiYGXl5f4gNSuXbv3kNHWWVqNeDe4mDJlivgARasW7wYXR48eFVuoUivWtFMrY4H1ZAJMQPsELkY8E9mkrkXGYHD9MviqQdm3yUfkWidn3uTgQi5drs8EmAAT+IDAqHUhWHk0XGTp6OBSRLN85DgPJY2klWxanWjSpAl8fX0/Es3bopSkzbKYABPQE4EXr+MxbuM5rD5xW9zJtOSzmsiSIa1sBHL8AwcXsvHyA0yACTCB9wncePgcfx69hWFNyiHdvylptchIjvNQyj5avu/Vqxdy586NWbNmJSt2y5YtYqtT0oHur776CrRCQdtl6UD3nj17ULhwYXGge8WKFahUqRKvXCjVQSyHCTABmyCw7uRtBF9/jMntnYzKZCjHP3BwYRNDho1gAkyACZhOQI7zML21fyQcOnRIZAp0cnISqWip+Pn54datW+LvdC6PAhA65E3nKygV7ZIlS8RtsVQo4Bg6dKjIHNWnTx+DzuVZw06leLEcJsAEmIA1CMiZNzm4sEYPcZtMgAkwARUSkOM8VKi+wSrpxU6DgXBFJsAEmIAEATnzJgcXPJyYABNgAkxAEJDjPLSMTC92armPWHcmwATURUDOvMnBhbr6jrVhAkyACViNgBznYTUlFWhYL3YqgIpFMAEmwARkf3zi4IIHDRNgAkyACch2HlpGxsGFlnuPdWcCTMAaBOTMmxxcWKOHuE0mwASYgAoJyHEeKlTfYJX0YqfBQLgiE2ACTECCgJx5k4MLHk5MgAkwASbAKxc8BpgAE2ACTCBFAhxc6OhgIv8eMAEmwASUIiDHeSjVpjXk6MVOa7DlNpkAE7BNAnLmTV65sM0xwFYxASbABGQTkOM8ZAtX0QN6sVNFyFkVJsAENE5Azrxps8FF3rx5Ubx4caO68uHDh8iTJ49Rz9raQ8zi/R5lHswjpd9xWxgbN2/eRGRkpK1NYx/Zw/5BXhfbwtiWZzGgN5v1Zi+NB7ZZ3m+FHP9gs8GFPGTv15YTnZnSjhaeZRY8NlIbpzw+/qPDLLQwo5muox77mW02fdyoXQL3sdp7SBn9LNXPHFwk01+Wgq/MUDGvFGbBwQUHF4b9jvHvimGctF5Lj/3MNmt91Errz30szcgWaliqnzm44OAi1d8XSw1ErfzSMg8OtlIaqzw2tPJbbJqeeuxnttm0MaOFp7mPtdBLputoqX7m4CKZvlq4cCH69etnei/agARm8X4nMg/mkdKvNY8NG5jwDDBBj/3MNhswMDRehftY4x1ooPqW6mcOLgzsEK7GBJgAE2ACTIAJMAEmwASYQOoEOLjgEcIEmAATYAJMgAkwASbABJiAIgQ4uFAEIwthAkyACTABJsAEmAATYAJMgIOLd8bA9u3bMWTIECQkJKBv374YOXKkbkdIeHg4evbsiYiICNjZ2YkzKMRGz4XGBR2GKly4MDZv3qxnFHj69Kn4HQkNDUWaNGmwePFiuLq66pbJzJkzsWjRIsHCyckJS5YsQcaMGXXLwxYN16N/6NOnj5jr8uXLJ37Xbb3o0e+9evUKnp6eiI2NRXx8PDp06IAJEybYelcL+/Tm00uUKIFs2bLB3t4eadOmxfHjx83Wzxxc/IuWBpmjoyN27dqFIkWKoGbNmli5ciUqVqxoNvhqFnzv3j3QH2dnZ0RHR8PFxQUbNmzQLQ/qqxkzZohfxmfPnuk+uOjVqxc8PDxEgPH69Wu8ePECOXPmVPOQNptud+7cgbu7O86fP49MmTKhU6dOaN68OT777DOztcmCLUtAr/7h4MGDyJo1q/jQpIfgQo9+782bN3j+/Lno57i4ODGXzZ49G3Xq1LHsL5kVWtObT6fggt5hLHFJNAcX/w7ooKAgjB8/Hjt27BD/MmnSJPHfUaNGWWHIq6/J1q1bw8fHB40aNVKfchbQ6Pbt26AX6tGjR4sgQ88rFxRcVa1aFdevXxdf6vVeKLggR3zmzBlkz54dbdq0wVdffYXGjRvrHY3N2K9n/xAWFoaWLVvqIrj4cMDqze/RRyIKLhYsWIDatWvbzO9vcobo0adzcGGFIb1mzRrQsjdtbaCybNkyBAcHY968eVbQRl1NknOhZVP6ckUvT3ostFRMgSat4kybNk3XwcXp06fFNjla1aMXalrVoi9dWbJk0ePQEDaT/RR40soFBRXLly/XLQtbNFzP/kGvwYWe/B6tzNE8fvXqVQwaNAj+/v62+Gv8nk169OklS5ZErly5xEfB/v37m/XKBV65+He4rV69WqxavBtcHD16FHPnzrX5X7LUDIyJiYGXl5d4cWrXrp0uWdAqxdatWzF//nzs379f98EFLavSl/rAwEDxdYvO4lDQ+cMPP+hyfDx58gTt27fHqlWrxNawjh07in3LPXr00CUPWzRaz/5Bj8GFXv0enaVr27ateO+pXLmyLf4qC5v06tPv3r2LQoUK4cGDB2IXCvUzfTg2R+Hg4l+qel72Tmlg0f5LWg5v0qQJfH19zTH+NCGTVixoJYsOQNHhN9oWRIHWH3/8oQn9lVaSDvlTcEEvHVQCAgIwefJkbNmyRemmNCGPXjxp1fPXX38V+i5duhRHjhwRwSgX2yCgZ/+gt+BC736PDnPTKvSwYcNs45c3GSvYp0McA6BzNubqZw4u/h14lCWBDnTv2bNHZAOiA90rVqxApUqVbPYXLDXD6JAXnTHInTs3Zs2apUsGyRnNKxf/UKHD3LTKV65cOTFJ0YHAqVOn6nKc0PZJyqpz7NgxsS2KDnJTVrHBgwfrkoctGq1n/6Cn4EKPfi8yMhLp0qUTq64vX74U2zpHjBghPizqoejFp5OPTkxMFNmi6O+0cjF27Fg0bdrULN3MwcU7WGnry9ChQ0V6MnpZoK1Aei2HDh0SL5CUVpNS0VLx8/MTWXD0XPQyEUn1MZ27SMoUVapUKZF6lfZy6rWMGzdObIui1a3q1auLwCtDhgx6xWGTduvRP3Tt2lVsBX348CHy588vUpR+/vnnNtm/ZJQe/V5ISIj4kEjvPfTySdnu6KVTL0UvPp0SsNCWNyr0saRbt25mfcfl4EIvv0FsJxNgAkyACTABJsAEmAATMDMBDi7MDJjFMwEmwASYABNgAkyACTABvRDg4EIvPc12MgEmwASYABNgAkyACTABMxPg4MLMgFk8E2ACTIAJMAEmwASYABPQCwEOLvTS02wnE2ACTIAJMAEmwASYABMwMwEOLswMmMUzASbABJgAE2ACTIAJMAG9EODgQi89rRE76VIXuh2VcqsfPnxYpEtTqlAq3e++++6tuLp164o2lCiUwpgu1qPbLilFK106WLFiRSVEm12Gvb29SDlMpVixYvj777/F32/cuIEuXbrg8ePHcHZ2FhcJpk+fHpQLnm7lptScmTNnxm+//SZ+/vr1azRs2BB79+4VKVm5MAEmwASUJMD+QUmahsli/2AYJ671PgEOLnhEqIpAkvMwJvc05emmiTClkiRbaYPp5Zvu/6BbmdVSKI+1oS/4KXGhfOcUMFGAMWDAAFStWhVffvmlCCrmzp0r/ksXyFGgQf+lQnnwy5Qpg+7du6sFBevBBJiAjRBg/6BMR7J/UIYjS0mZAAcXPDpURSDJedSpUwcXLlxAyZIlxQU/X331FUaOHCkudIqNjcWgQYPQv39/8f/0QluwYEHQxW7nz59HmzZtEB4ejlevXokX3379+oln6QZp+kJPt64vX74cSW3Rl/jhw4dj27ZtSJMmDb7//nt07txZyKbbp/PkyYPQ0FC4uLjgjz/+EHXeLQsXLsTdu3dFXSr16tXDtGnTxC3N1AbpsHnzZnF788aNG8VlVO8Wui2TbnM+e/asuNyG5LRu3Rq1a9fG4sWL394ST3KnT5+O8uXLJ1ufVhC2bNki7CaZdNN8hw4dhCwq9MJPdrVq1eq99pMLLohJ3rx5ERERIYKUoKAgodeOHTsEd9KFLtiiQrd0EyvqgzNnzmDUqFEi8ODCBJgAE1CSAPsH9g9KjieWZT4CHFyYjy1LNoJASl+m6AX+wYMH4sWfggs3NzesXr0aN2/eRIsWLcTLPwUiVGglIXfu3Hj58iVq1qyJAwcOwMHB4W0wkaRWUltr167Fzz//jO3bt4ubaOkZ+hJ/6dIl8WJ+7tw5FCpUSLRJAYq7u/t7llHwQy/xn3zyyUfBBQUitM2IfkYBTPbs2YUN7xbaqkVbqHr06IGnT5+iVq1aOHXqFMhm+n8Knu7duwcvLy9cvnxZbO1Krj7xINl04yrZT3bPnDkTGzZsQFRUFKpVq4YrV658tKJBwQP9jP5LQRgFZ8SBAryrV68KVSlYa9asmeDcsmVLUS+JQ4MGDeDv7y+CKVo9KlCgACIjI43ofX6ECTABJpAyAfYP7B/490MbBDi40EY/6UbLlJwHvbzTSzPt8adCL8u//PKLOANAL9/79u17y4i+sK9fv178P53doK/t9KL84Rf6pP//+uuvxYpGnz59xDOffvopOnbsKAKBH3/8Ebt27RL/TluCKMCgIODd0rhxY0ycOFG0QeXdlYsMGTKIlQQKMlatWiVkLVq06L3n6aWc6iRtY6LgiHSm9hs1aiRWY2bPni2CK9InpfoUEFFAsWTJkrfyK1euLM5ArFu3TgQKtKLyYaFVFwqerl+/Dm9vb+zZs0e07erq+l5wQVu/aHWFgjlanXg3uJgyZYpY2aFCKyYXL15EtmzZdDNu2VAmwATMT4D9wz8fz9g/mH+scQumEeDgwjR+/LTCBFJyHu3btxfbm5o0afJeix+ezaD/p6/3O3fuFIEIvehTsEH/TSm4oMPYVapUSTa4oJdx2tJExcfHR7zYf/bZZ+/pQKsbFKBQGx8GF++2uWbNGiGLti+9W+ilfMWKFWJ70YfFw8MDP/30kzjzQMEUBUEp1Se5x48fx7x5896KoRUFCsD+/PPP97ZYpdRtZButTBBvY7ZFkVzaRkYrLenSpVN4dLA4JsAE9EyA/cP7vc/+Qc+/Deq2nYMLdfeP7rRLch4nTpwQGZfoSzwV2iJE+/hp6w+9tNL2IPpCfuzYMfE1PikAoDMNtDKwadMm8fWctvvQdid68c+VK5f4+p/00pvUFn3Vpxd3kk9fhSiAoFUAet6Q4IK2CNEhZsoSZUxwQducnj17Jg5J0woHbYmqXr26kEWBBZ13oH+j7VlUUqqfXHBx//59sc2KtiolHbp+d1A9efJEBGG0wkJboWi1ghjStitavaEgI+lANwVgAwcOFOc6KIBJOtBN52GOHj0qxD569EisaNB5GS5MgAkwASUJsH9g/6DkeGJZ5iPAwYX52LJkIwgkOY+4uDg0bdpUvPDS13Q6FE0rEhQ0JB02prME9NL9bgBA5zHozMCdO3fESgDt/U9auRgxYoQ4/0BpUw090G1IcBEQECCCEzrsbUxwQWdDaPWE0uKSbSVKlHgbLFFwQEHUmDFjMG7cOCE/pfrJBRdUnzgSE1r9+LBQm3RA287ODomJiUKPzz//XFSjbVJJqWgp2CH7KAghHWkVh4I2CkxoGxYFZFRodYaCITp4zoUJMAEmoCQB9g/sH5QcTyzLfAQ4uDAfW5asIwL0tZ5WT3LmzKkqq1+8eCG2Up08eRI5cuQwu26UunbSpEnJbvEye+PcABNgAkxAhQTYP/zTKewfVDg4zaQSBxdmAsti9UWAthxRqlnaOqSWsnv3bnGOhLaX0YqEuQtdokdnO3r27Gnuplg+E2ACTEAzBNg/QFyyyv5BM0PWZEU5uDAZIQtgAkyACTABJsAEmAATYAJMgAhwcMHjgAkwASbABJgAE2ACTIAJMAFFCHBwoQhGFsIEmAATYAJMgAkwASbABJgABxc8BpgAE2ACTIAJMAEmwASYABNQhAAHF4pgZCFMgAkwASbABJgAE2ACTIAJcHDBY4AJMAEmwASYABNgAkyACTABRQhwcKEIRhbCBJgAE2ACTIAJMAEmwASYAAcXPAaYABNgAkyACTABJsAEmAATUIQABxeKYGQhTIAJMAEmwASYABNgAkyACXBwwWOACTABJsAEmAATYAJMgAkwAUUIcHChCEYWwgSYABNgAkyACTABJsAEmAAHFzwGmAATYAJMgAkwASbABJgAE1CEgM0GF3ny5EGJEiUUgcRCmAATYAJ6IHDz5k1ERkbqwdS3NrKv0FV3s7FMgAkoQEDKV9hscFGjRg0cP35cAYQsggkwASagDwJ6nDf1aLM+RjNbyQSYgLkISM2bHFyYizzLZQJMgAlojICUw9CYOQapq0ebDQLDlZgAE2ACKRCQmjc5uOChwwSYABNgAoKAlMOwRUx6tNkW+5FtYgJMwHIEpOZNDi4s1xfcEhNgAkxA1QSkHIaqlTdSOT3abCQqfowJMAEmYNCHKA4ueKAwASbABJiAQQ7DFjFxcGGLvco2MQEmYE4CUvMmBxfmpM+ymQATYAIaIiDlMDRkisGq6tFmg+FwRSbABJhAMgSk5k0OLnjYMAEmwASYAK9c8BhgAkyACTABgwhwcGEQJq7EBJgAE2ACUg7DFgnp0WZb7Ee2iQkwAcsRkJo3eeXig76Yu+cKvMrlRZUiOS3XS9wSE2ACTEAFBKQchgpUVFwFY20mX+FdIR8qFcqhuE4skAkwASagZgJS8yYHF+/03tMXr9F0VgAiY2IxqH4ZDPYug3T2dmruX9aNCTABJqAYASmHoVhDKhJkjM3kK5rNDsDTF3GY2bkamlYuoCKLWBUmwASYgHkJSM2bHFx8wD/qRRwmbDqHdafuoHLh7JjRqRoc82czby+xdCbABJiACghIOQwVqKi4Csba/CD6FfotPYHT4U/xbZNyGFivNNKkSaO4fiyQCTABJqA2AlLzJgcXKfTY9tB7GL0+FNGv4vFNY0f09SgFezt2HGob4KwPE2ACyhGQchjKtaQeSabY/CouASPXhmDD6btoU60QJrevgozp7NVjHGvCBJgAEzADAal5k4OLVKA/jInFd+vOYuf5+6hRPBemdayKEnmymKGbWCQTYAJMwPoEpByG9TVUXgNTbX7z5g3m77+GqTsuoVrRnFjY0wX5smVUXlGWyASYABNQCQGpeZODC4mOIsex4fQdjN14DvEJb/BdiwroUbsYL3+rZICzGkyACShHQMphKNeSeiQpZfP20Ah8veo0cmVOh//rVYMPequni1kTJsAEFCYgNW9ycGEg8HtRLzF8TQgCrjyER9k88G9fBYVyZjLwaa7GBJgAE1A/ASmHoX4L5GuopM2hd6LwxdLjfNBbfjfwE0yACWiIgNS8ycGFjM6kVYzlwbfgt/WCOH8x/pNKaOdcmFcxZDDkqkyACaiXgJTDUK/mxmumtM180Nv4vuAnmQAT0AYBqXmTgwsj+vHmo+cYtvoMjoU9QeOK+eHXzgl5smYwQhI/wgSYABNQDwEph6EeTZXTxBw200HvEWtDsJEPeivXUSyJCTAB1RCQmjc5uDCyqxIS32DxoRuYuvMSsmZIC7+2ldG0ckEjpfFjTIAJMAHrE5ByGNbXUHkNzGXzuwe9qxfLiV8+5YPeyvceS2QCTMAaBKTmTQ4uTOyVy/ej8c1fZ3D2TpRIRTihVWXkyJzORKn8OBNgAkzA8gSkHIblNTJ/i+a2mdKaf73qDB/0Nn9XcgtMgAlYiIDUvMnBhQIdEZeQiJ/2XcW8vVfhkDW9OOxdr1w+BSSzCCZlsSMTAAAgAElEQVTABJiA5QhIOQzLaWK5lixhMx/0tlx/cktMgAmYn4DUvMnBhYJ9cPZ2FHz/Oo0rD2LQrXYxfNe8gtgyxYUJMAEmoAUCUg5DCzbI1dFSNvNBb7k9w/WZABNQKwGpeZODC4V7jg7yzdx1GQsDrqNIrkyY1qEqapdyULgVFscEmAATUJ6AlMNQvkXrS7SkzXzQ2/r9zRowASZgOgGpeZODC9MZJyvhWNhjcRYj/MkLfO5WEsOalEPGdPZmao3FMgEmwARMJyDlMExvQX0SLG3zRwe9e7ggX3a+0Vt9I4M1YgJMICUCUvMmBxdmHDvPY+MxedtFLDtyE2XyZcWMTlVRpUhOM7bIopkAE2ACxhOQchjGS1bvk9ayOemgd5YMaTG7SzW4lcmjXkisGRNgAkzgHQJS8yYHFxYYLgcvR4rbvSNjYjGofhn41C+D9GntLNAyN8EEmAATMJyAlMMwXJJ2alrTZso2OGj5SVyNjMFg77IY0qCsuKCVCxNgAkxAzQSk5k2LBBfh4eHo2bMnIiIiYGdnh379+mHIkCHvcdu4cSPGjBkjfp42bVrMmjUL7u7uos727dtF/YSEBPTt2xcjR46UZC5luKQAhStEvYzDhE3nsO7kHVQqlB0zOlVDuQLZFG6FxTEBJsAEjCegtnnTeEsMf9LaNr94HY+xG89hzYnbcC3lIFYxeJuU4f3HNZkAE7A8Aal50yLBxb1790B/nJ2dER0dDRcXF2zYsAEVK1Z8SyQmJgZZsmRBmjRpEBISgk6dOuHixYsioHB0dMSuXbtQpEgR1KxZEytXrnzv2eSwShlu+a74p8Ud5yLw3bqziH4VD9/GjvjCoxR/qbJWZ3C7TIAJvEdArfOmObtJLTavPh6OMRtDRYbBWZ2rw70sb5MyZ7+zbCbABIwnIDVvWiS4+FD91q1bw8fHB40aNUrWsqCgIPTp0wcXLlwA/X38+PHYsWOHqDtp0iTx31GjRqVKRcpw45Ga/uSjmFiMXh+K7eci4FI8F6Z3rIoSebKYLpglMAEmwARMIKDmedMEszTjK3iblLl6meUyASagJAEpX2Hx4CIsLAyenp4IDQ1F9uzZ37N1/fr1Imh48OABtmzZAldXV6xZs0Zsi1q0aJGou2zZMgQHB2PevHmacRjJKUoZQzaevouxG0MRl/AGo5qXR4/axWHH+22VHP8siwkwARkEpByGDFGaqao2m9/dJlWnVG7M6VKdt0lpZjSxokxAHwSk5k2LBhe09cnLywujR49Gu3btUuyBgwcPYuLEidi9ezdWr14tVi3eDS6OHj2KuXPnfvT8woULQX+oREZG4ubNm6rv5YioVxi+NgR06Nu9TB5M6VAFhXJmUr3erCATYAK2R0DKYdiexYBabaYzGGM2hCJLBnveJmWLA49tYgIaJiA1b1osuIiLi0PLli3RpEkT+Pr6SiItWbIkjh07hitXrtjctqgPjadVjJVHw/G/LedhnyYNxrWqhPbOhcX5Ey5MgAkwAUsRkHIYltLDku2o2eYr96MxMCmbVP0yGNLQkc/oWXJwcFtMgAkkS0Bq3rRIcEEvz7169ULu3LlFFqjkytWrV1G6dGnxQn3y5El88sknuH379tsD3Xv27EHhwoXFge4VK1agUqVKqXa5lOFqHC+3Hr3AsNVncDTsMRpWyI9J7ZyQN1sGNarKOjEBJmCDBLQ4b5raDWq3mbZJjdt4DqtP3AZvkzK1t/l5JsAElCAgNW9aJLg4dOgQPDw84OTkJFLNUvHz88OtW7fE3wcMGAB/f38sXboU6dKlQ6ZMmTB16tS3qWi3bt2KoUOHikCDDnrTtiqpImW41PPW+nlC4hssCbyBKTsuIUt6e/zY1gnNnQpaSx1ulwkwAR0R0Oq8aUoXacXmd7dJzexcDR5l85piNj/LBJgAEzCagNS8aZHgwmjtTXhQynATRFvk0asPouH71xmE3I5C62qFMKFVJeTMnN4ibXMjTIAJ6JOA1udNY3pNSzbzNiljepifYQJMQGkCUvMmBxdKE1dQXlxCIhbsv4Y5e67AIWt6TG5fBfXL5VOwBRbFBJgAE/iPgJTDsEVWWrP53W1StUvmxpyu1ZE/e0Zb7Bq2iQkwAZUSkJo3ObhQace9q1bonSj4/nUal+/HoGutohjdoqK4aIkLE2ACTEBJAlIOQ8m21CJLqzYnbZPKnN4es7vwpXtqGU+sBxPQAwGpeZODC42Mgtj4BMzYdRkLD15H4ZyZMK1jVdQp5aAR7VlNJsAEtEBAymFowQa5OmrZ5ne3Sfk2dMSg+mX4riS5A4DrMwEmIJuA1LzJwYVspNZ94HjYY3yz+gxuPX6BPm4l8W2TcsiYzt66SnHrTIAJ2AQBKYdhbiPDw8PRs2dPREREiOQf/fr1w5AhQ95rduPGjRgzZoz4edq0aUUGQnd3d1GHLlyl+pT8o2/fvhg5cqSkyta2WVJBiQrPY+Px3fqz4lLW+uXygg578/k8U6ny80yACaRGQGre5OBCg+OH9txO3nYRS4NuonTeLJjRqRqqFs2pQUtYZSbABNREQMphmFvXe/fugf44OzsjOjoaLi4u2LBhAypWrPi2abqMNUuWLCJteUhICDp16oSLFy++TVu+a9cuFClSRKQtX7ly5XvPJqe/tW1Wgimle//jyE1M3Hwe+bJlxIIezqhShH2CEmxZBhNgAh8TkJo3ObjQ8Kg5dOUhvl1zBg+iYzGwXmkM9i6L9Gn/SfXLhQkwASYgl4CUw5Arz9T6rVu3ho+PDxo1apSsqKCgIJGe/MKFC6C/jx8/Hjt27BB1J02aJP47atSoVNVQm82mMDsd/hSDlp9EZHQsxn5SEd1rF+PLWE0Bys8yASaQLAGpeZODC40PnKiXcZi46TzWnryNigWzY0bnqihfILvGrWL1mQATsAYBKYdhSZ3CwsLg6emJ0NBQZM/+/py2fv16ETQ8ePAAW7ZsgaurK9asWSO2RS1atEiouWzZMgQHB2PevHkfqb1w4ULQHyqRkZG4efOmJU0za1tPnr/G0FWnceByJNpWL4wf21ZG5vScAMSs0Fk4E9AZASlfwcGFjQyInecixL7bZy/j8XUjR/TzLAV7uzQ2Yh2bwQSYgCUISDkMS+hAbdDWJy8vL3Fhart27VJs9uDBg5g4cSJ2796N1atXi1WLd4OLo0ePYu7cuamqrRablWSbmPgG8/Zdxczdl1E2X1Ys6OGC0nmzKtkEy2ICTEDHBKTmTQ4ubGhwPIqJxfcbQrEtNALOxXJieqdqKJkniw1ZyKYwASZgTgJSDsOcbSfJjouLQ8uWLdGkSRP4+vpKNlmyZEkcO3YMV65c0f22qA9hBVyJxJA/TyM2LgFTO1ZFc6eCkjy5AhNgAkxAioCUr+DgQoqgxn5OB/v+PnMXYzaE4nVCIkY1q4BP6xTn9IQa60dWlwlYg4CUwzC3TjR/9erVC7lz5xZZoJIrV69eRenSpcVZgpMnT+KTTz7B7du33x7o3rNnDwoXLiwOdK9YsQKVKlXS3crFuwbfffoSg1acxKlbT0WGwVHNyyOdPZ/NM/dYZvlMwJYJSPkKDi5stPfvP3uF4WtCxL5btzIOmNKhqrgfgwsTYAJMICUCUg7D3OQOHToEDw8PODk5iVSzVPz8/HDr1i3x9wEDBsDf3x9Lly5FunTpkClTJkydOvVtKtqtW7di6NChItCgg960rUqqWNtmKf2U+Pnr+ET4bb2A3w6HwaV4LszrVh0Fc7A/UIIty2ACeiQgNW9ycGHDo4K+Av55LBz/23wedmnSiOwhHVyKcPYQG+5zNo0JmEJAymGYIlutz+rJ5k1n7mLk2hBxN9KcrtXhViaPWruF9WICTEDFBKTmTQ4uVNx5SqkW/viFuHjv6I3HaFghP/zaVRa50LkwASbABN4lIOUwbJGW3my++iAGX/5xAtciY+DbyBED6/Gt3rY4rtkmJmBOAlLzJgcX5qSvItmUPWRx4A1M2XEJWdLb439tnNCiCh/uU1EXsSpMwOoEpByG1RU0gwJ6tJlv9TbDQGKRTEBHBKTmTQ4udDQYyNSrD6LxzV9ncOZ2FFpVLYSJrSshZ+b0OqPA5jIBJpAcASmHYYvU9Ggz9aO41Tv4Fn7YdB55s2XAuoF1kT87r2jb4hhnm5iA0gSk5k0OLpQmrgF58QmJWLD/GmbvuYLcWdLDv30V1C+fTwOas4pMgAmYk4CUwzBn29aSrUeb32V96tYTdPg5CF94lMLIZuWt1Q3cLhNgAhoiIDVvcnChoc5UWtXQO1FiFePS/Wj4t3dC55rFlG6C5TEBJqAhAlIOQ0OmGKyqHm3+EM6AZScQfOMRgkY1EIe9uTABJsAEUiMgNW9ycKHz8RMbn4Bei4/i3N1n2PONFx/01vl4YPP1TUDKYdgiHT3a/GE/Hr76EN0WBWN6x6po71LEFruZbWICTEBBAlLzJgcXCsLWqijKGtJsVgCaVi4g0hNyYQJMQJ8EpByGLVLRo80f9iOdv2g44wCyZkyHjYPcbLGb2SYmwAQUJCA1b3JwoSBsLYuaueuyOIOxtE8teDrm1bIprDsTYAJGEpByGEaKVfVjerQ5uQ75LfAGxm86j7993FClSE5V9xkrxwSYgHUJSM2bHFxYt39U0/qruAQ0mx2AxDdvsGOoJ++7VU3PsCJMwHIEpByG5TSxXEt6tDk5us9exaGO3x60cCqIqR2rWq4DuCUmwAQ0R0Bq3uTgQnNdaj6Fk/bdDvYug28alzNfQyyZCTABVRKQchiqVNpEpfRoc0rIRq8/izUnbuPIqAbIlYVTlJs4tPhxJmCzBKTmTQ4ubLbrjTPs61WnsTnkLrYN8UCZfNmME8JPMQEmoEkCUg5Dk0ZJKK1Hm1NCcjHiGZrOCsB3zcujn2dpW+xutokJMAEFCEjNmxxcKADZlkQ8jIlFg+kHUL5ANvzZrw7SpEljS+axLUyACaRCQMph2CI8PdqcWj92+jkIEc9eYf+werCz4/nfFsc828QETCUgNW9ycGEqYRt8fuXRWxi17iymdqiCjjWK2qCFbBITYALJEZByGLZITY82p9aPm87cxeCVp7Ckd03UL8eXq9rimGebmICpBKTmTQ4uTCVsg88nJr5Bp1+CQClq93xTT9zizYUJMAHbJyDlMGyRgB5tTq0fX8cnws1/L5wK58Diz2raYpezTUyACZhIQGretEhwER4ejp49eyIiIgJ2dnbo168fhgwZ8p5py5cvh7+/v/i3rFmzYsGCBaha9Z+MFTNnzsSiRYvEFh0nJycsWbIEGTNmTBWNlOEmcrX5xy9FRKPFnAC0qV4Y0zhziOb7m/LY3416hcI5M2neFjbAfAT0OG/q0WapETRj12XM3XsFB7+tj6K5M0tV558zASagMwJS86ZFgot79+6B/jg7OyM6OhouLi7YsGEDKlas+LY7Dh8+jAoVKiBXrlzYtm0bxo8fj+DgYNy5cwfu7u44f/48MmXKhE6dOqF58+b47LPPOLgw82D2334RC/ZfE2cv6pRyMHNrLN6cBGbsvIS5+65i7Zd14VwslzmbYtkaJiDlMDRsWoqq69FmqX6MiHolVi/6upfEqOYVpKrzz5kAE9AZAal50yLBxYfMW7duDR8fHzRq1CjZ7njy5AkqV64sAgv6U6dOHZw5cwbZs2dHmzZt8NVXX6Fx48YcXJh5ML98nYDGsw4gvb0dtg7xQIa09mZukcWbg8CJm4/R8ecgJL4BWlcrhNld+BZ2c3C2BZlSDsMWbPzQBj3abEg/fvnHCQRdfyTS0mZMx3O/Icy4DhPQCwGpeVNWcPH8+XOxekBbmy5fvoyLFy+iWbNmSJcuncE8w8LC4OnpidDQUBEsJFemTZsmZNNWKCqzZ8/G6NGjRdsUVNAWquTKwoULQX+oREZG4ubNmwbrxRWTJ7Dv0gP0XnIM3zRyxOAGZRmTxgjExMaj+b+XI7qWcsCG03dweGQD5M2WQWOWsLqWICDlMAzVQQlfYWhbptZTymZT9VDb84evPUS3/wvmxB5q6xjWhwmogIDUvCkruKDtTAEBAaCVBVpNIOGZM2dO8WX/Q/tjYmLg5eUlAoV27doli2ffvn0YOHAgDh06BAcHB9FW+/btsWrVKuTMmRMdO3ZEhw4d0KNHj1TxShmugr7RjAqDlp/Ergv3sXOoJ0rkyaIZvVlRYOTaEKw6Ho5V/VzhkDW9SDPMgSKPjJQIKDVvmuorLNlDStlsSZ0t0Rad02o88yAyp7fHRh93SzTJbTABJqARAlLzpqzggs5MnDx5EnPnzsXLly8xfPhwVK9eHadOnZLEERcXh5YtW6JJkybw9fVNtn5ISAjatm0rzlw4OjqKOqtXr8b27dvx66+/iv9funQpjhw5gvnz53NwIUldmQr3n71Cw+kHUK1YTiztU4vvvlAGq9ml7Dp/H18sPY4v65XGiKblRXuf/hqMqw9iEDC8PtLa25ldB25AWwSkHIah1pjiKwxtQ6l6StmslD5qkrM0KAxjN57DxkFuqFo0p5pUY12YABOwIgGpeVNWcEGBBL3Uf/311+Jlv1KlSiJ709mzZ1M1kb6A9OrVC7lz58asWbOSrXvr1i14e3uL4KFu3bpv69Ch7j59+uDYsWNiWxQd5CajBg8ezMGFBQfW74fDMO7vc5jdpRpaVytswZa5KWMIREbHoumsgyiQIyPWD3RD+rT/BBI7z0Wg37IT+LmHM5pWLmiMaH7GhglIOQxDTTfWVxgqX8l6StmspE5qkRX9Kg51/PaIuWJ6p3+yN3JhAkyACUjNm7KCiwMHDmD69Olwc3PDiBEjcP36dREszJkzJ1XStMXJw8NDBCJ0XoOKn58fKKCgMmDAAPTt2xdr165F8eLFxb+lTZsWx48fF38fN26c2BZF/0ZOi85iZMiQ+p5xKcN5aMgjkJD4Bu3mB+LO05fY41sPOTIbfs5GXktc21QCFMx//vtxHLr6EFsGu6Ns/mxvRVI/ek7Zh+IOmbHiizqmNsXP2xgBpeZNY32FNXAqZbM1dLdEm99vOIu/jt8WB7v5ziNLEOc2mID6CUjNm7KCi3fNTUxMBJ2hSOlQtrXRSBlubf202H7onSi0mncIXWoVg19bJy2aoAudlwffxOj1oRjbsiL6uJf8yOaf9l3F1B2XsNvXE2Xy/Rd46AIOG5kqAXPMm+wrtD3oLt+PFmcvRjYrjwFepbVtDGvPBJiAIgSkfIWs4KJbt274+eefYW9vL+6qiIqKEucnvv32W0WUVVKIlOFKtqUnWT9sPo9fD90Q9yW4FOf7EtTW9zcePhfZoahv6HyMnV2aj1R8FBML10l70bVWUUxoXVltJrA+ViSg1LzJvsKKnWiGpjv/EiRWrQ98Wx/2ycwpZmiSRTIBJqBiAlK+QlZwUa1aNZw+fVpkhzpx4oS4UZuCDDqIrbYiZbja9NWKPs9j49FwxgHkyJQOmwa7Ix0fClZN18UnJKLDz0GgAGPHUE9x3iKl4rvqNHaev48j3zVA1gxpVWMDK2JdAkrNm+wrrNuPSre+JeQeBq04icWf1YB3+fxKi2d5TIAJaIyAlK+QFVzQAW4KLuirFF2CR2llq1atKi64U1uRMlxt+mpJnx3nItB/2QmMalYe/XmZXDVdN2v3ZczafQXzulVHyyqFUtXr1K0naDv/MH5oXQmfupZQjQ2siHUJKDVvsq+wbj8q3XpcQiLcJu9FxULZ8VvvWkqLfyuPPpBwFjuz4WXBTEAxAlK+QlZwQQe3abWCAootW7aIA9l03wTdfaG2ImW42vTVmj59fz+OwKsPscvXE0VyZdaa+janLwULtGrRqmohzOxcTdI+OvTdal4gXsUlYOfXnpxeWJKYPiooNW+yr7C98TJz12XM2XsF+4fVQ3EHZe87ovlo4ubz2Hj6Lvb4eiFXlvS2B5AtYgI2REDKV8gKLpLjEh8fL7I4qa1IGa42fbWmD+2/bTTjAOqUcsCvvWrwy6kVO/DF63i0mHMIsXEJ2DbUU2xZM6T8dTwcw9eEYOUXdeBa2sGQR7iOjRMw57zJvkLbg4fuO6LVi95uJTC6RUXFjKHAgtKcLw26KWQu6O6MZk6cJlsxwCyICZiBgJSvkBVc0AHuCRMm4ODBg0JV2hY1duxY5MiRwwyqmyZSynDTpPPTRGBRwHX8b8sFdgZWHg6j15/FiqO3sKKvvCCBVi3qTNqDuqUdML+7i5Wt4ObVQECpeZN9hRp6U3kdBi0/KVJcU1raTOntTW7g3cCij1tJ/HnsFjq6FOFEEyaTZQFMwLwEpHyFrOCiffv2qFy5srgQj8qyZcvEeYt169aZ1wojpEsZboRIfuQDArQ/lrbWPHoei92+XsiW0bAv5gxSOQJ7L95Hn9+Oo59nKXzXvIJswX5bL4jsX4EjvFM9AC5bMD+gSQJKzZvsKzTZ/ZJKH7n+CF0WHsGUDlXQqUZRyfqpVXg3sKD5i87w9Vx8FLRCsvNrL5Nk88NMgAmYl4CUr5AVXCRlAHlX5eT+zbwmGSZdynDDpHAtKQKnw5+i7fxA9HItgfGtKklV558rSIBSyjaZFYA8WdNjo48bMqSV/yXx1qMX8Jq2D4Prl4Fv43IKaseitEhAqXmTfYUWe19aZwoImsw6KOaav33cjN4Om1xgkSZNGszffxVTtl/C8e8bIk/W1C/KldaWazABJmAuAlK+QlZw4erqiqlTp8Ld3V3oGxgYiGHDhiEoKMhc+hstV8pwowXzgx8RGLMhFHRx28ZB7nAqor4tcrbYZeSc+y07gQOXIvH3YDeUL5DdaDP7/HYMIbejcHikN9KntTNaDj+ofQJKzZvsK7Q/FlKyYFlQGMZsPIf1A+uiejH5dx2lFFhQeydvPUG7+Ycxv7szmvO5C9sdRGyZ5glI+QpZwQVtgerZs6e4PI9Krly58Pvvv6NKlSqqAyVluOoU1rBCz17FocH0AyiQPSM2DHLjS5Ys0Jd/HQvH8LUhGN28Ar7wLGVSi/suPUDvJccwp2t1kW2Ki34JKDVvsq+w3TEUExuPOn570LhifswwIDPduyRSCyyoHqW8rTphJzq4FMFEvuDTdgcRW6Z5AlK+QlZwkUTj2bNn4q/Zs2fHrFmzMHToUNWBkjJcdQprXKFNZ+5i8MpTGPdJRfR2K6lxa9StPm1lajb7IKoUyYnlfWsnewu3HAsSE9+g/vT9yJctA1YPqCvnUa5rYwSUnjfZV9jYAPnXnLEbQ/Hn0XAEjfKGg4Hbl6QCiyRSdO4iIuoln7uwzaHDVtkIASlfYVRw8S6bYsWKifsu1FakDFebvlrXhxxHryXHcPLmE3H3RcEcmbRukir1p0P0nRceweX70eIW7kI5leH8fwev48etF7BtiAcqFDR+i5UqobFSBhMw57zJvsLgblB9xSv3o9Fo5kEMb1oOA+uVkdTX0MCCBC3Yfw3+2y/yuQtJqlyBCViPgJSvMDm4KFq0KMLDw61nYQotSxmuOoVtQCH6ot5o5gHUL5cPP3/KqU3N0aXz9l7BtJ2XMbtLNbSuVlixJp6+eI3afnvQzrkIJrVzUkwuC9IWAXPOm4b4CvIltPU2IiICdnZ26NevH4YMGfIexOXLl4vLXKlkzZoVCxYsEBe7UilRogSyZcsGe3t7cf/S8ePHJTvAnDZLNq7hCl0WBiH88UscHF4/1a2wFFiM3XgOy47cFFntKCsUHd5OqdCFoG3nH8ZP3ZzRogrfd6HhIcKq2zABqXnT5OCCv0bZ8OgxwrSf9l3F1B2XxMV6DSrkN0ICP5ISgbO3o0RmrqaVC2Bu1+pGZ2pJSf6INSH4+8xdHPmugcEX8XFv2RYBKYdhirWG+Ip79+6B/jg7OyM6OhouLi7YsGEDKlb879K2w4cPo0KFCuLM37Zt2zB+/HgEBwe/DS4ooMiTJ4/BqprTZoOV0GDFrWfvYeDyk1jUswYaVkx+rpcbWBAGOndRbcJO8aHjhzaVNUiGVWYCtk9Aat40KLigL0HJfWmgiePly5egm1fVVqQMV5u+tqLP6/hEtJgTgBevE8T2qMzp1Xd7uxZZv3ydgJZzA/A8NkFsh8qRWfk7RULvRKHl3EMY07IiPnfnczNaHCem6mzqvKm0r2jdujV8fHzQqFGjZE178uSJuHvpzp07HFyY2vkyn6cgwN1/L8oVyI6lfWp99LQxgUWSkF6Lj+Lu05fY5cv3XcjsFq7OBCxCQMpXGBRcWERThRuRMlzh5ljcOwSOhT1Gx5+D0J+WwI242I1hfkxg3MZQ/B50Uxzgditj+FdZuSzbzQ/Ekxdx2OPrZfJBcbltc33rE1DTvBkWFgZPT0+EhoaK5CHJlWnTpuHixYtYtGiR+HHJkiXFigZ9DOvfv7/YVpVcWbhwIegPlcjISNy8edP68DWowezdVzBz92XsG1YPJfNkeWuBKYEFCeFzFxocDKyyrghI+QoOLnQ1HCxnLG2xWXPyNjYPducDwiZiP3A5EvQlr49bSYz95L/tISaKTfbxDafuYOiq0+JLpKdjXnM0wTJVTEDKYVhK9ZiYGHh5eWH06NFo165dss3u27cPAwcOxKFDh+Dg4CDq3L17F4UKFcKDBw/EasfcuXNFgJJaUYvNlmKrZDsPnr1C3cl70atuCbHiScXUwIJk0OWsbX4KxLxu1dGyCqfHVrLPWBYTUIKA1LzJwYUSlFnGRwSePH+NBjMOoLhDZqwdUJe/ghs5Rogj3YibI1M6bBrsjozp5N/CLafp2PgE1J20V1yOtahXDTmPcl0bICDlMCxhYlxcHFq2bIkmTZrA19c32SZDQkLQtm1bcebC0dEx2Tp0FoMOfNNFrxxcmK/nBq04iYDLkQj+riEyprOTdXg7Ja0oKx7dd9HWuTD+14YTTJiv91gyEzCOgJSv4ODCOK78lAEE1p64jW9Wn8GPbSuje+3iBjzBVd4lQF8A6cDk7gv3xUMfvNsAACAASURBVOWElQpZ5vbzqTsuim0JlAWmSK7M3Ck6IiDlMMyNQqS07tULuXPnFncoJVco9bm3tzeWLl2KunX/u5fl+fPnSExMFNmi6O+0cjF27Fg0bdqUgwszdlzw9UciPfbkdk44d/eZwVmhpFT6bMlR3H7yErv53IUUKv45E7A4ASlfISu4mDdvHrp37y72tKq9SBmudv1tQT96Uej2f8E4dzcKu7/xQr5sGW3BLIvZkBScjWhaHl/WK22xdu88fQkP/73o71Ua1DYX/RBQat401lfQFicPDw84OTmJVLRU/Pz83t6lNGDAAPTt2xdr165F8eL/fLBISjl7/fp1sZpBhZKMdOvWTWyrkipK2SzVjq3+nOb5prMCEPboOWLjEw1KN2sIi58PXMPkbRdxbHRD5M2WwZBHuA4TYAIWIiA1b8oKLr7//nv8+eefIk1gnz59xLJ1avmqLWRjss1IGW5N3fTU9rXIGDSbFSDSp87pWl1Ppptka/hjuoU7ABULZsfKfnVSzSNvUkMpPNx/2XEcvfEYQaMamH0rljn0Z5nGEVBq3mRfYRx/rT618ugtjFp3VrHAgjicCX+K1j8FirTbn1TlcxdaHRust20SkPIVsoILQkRfKXbu3IklS5aIC4o6deqEzz//HKVLW+7LqiFdJWW4ITK4jjIEZu66jNl7rvAhYQNxJiS+QdeFR3D+3jNxY3bR3JbfmhR49SG6LwrG9I5V0d6liIGaczWtE1By3mRfofXRYLj+1NeX7kejXP7k09YbLum/mnTuotrEXWhdrRB+bMvnLoxhyM8wAXMRkPIVsoML8UXhzBkRXGzfvh3169fHkSNHxP7WKVOmmMsO2XKlDJctkB8wmsCruATxFT7xzRtxR4O5DyUbrahKHkxKw2jNF3t6WWg44wCyZkyHjYPcVEKG1TA3AaXnTfYV5u4x25bfe8lR3Hr8Anu+qWfbhrJ1TEBjBKR8hazgYs6cOfj999/F7ae077VNmzZIly6dOERXtmxZXLt2TTV4pAxXjaI6UeTw1YfotigYg73L4JvG5XRitXwz6XwKpWBsWCE/5nd3tuq2w98Cb2D8pvP428cNVYrklG8MP6E5AkrNm+wrNNf1qlT4lwPXMGnbRRwd3YDP7Kmyh1gpvRKQ8hWyggvKvEFboJIO0r0L9cKFC6hQoYJqOEsZrhpFdaTI16tOY3PIXbHVp0y+bDqy3DBTaYWn1bxDePoiTqzw5MqS3rAHzVTr2as41PHbg+ZOBTGtY1UztcJi1URAqXmTfYWaelW7uvC5C+32HWtu2wSkfIWs4IJQnTx5UlxaRAe53dzcxOFuNRYpw9Wos63r9DAmFg2mH0D5AtnwZ786Vv0qr0bWEzedx+LAG/i9Ty14qeQCu9Hrz2L1idsIHtXA6sGOGvvM1nRSct5kX2Fro8Py9tC5i+oTd+GTaoXgx+cuLN8B3CITSIGAlK+QFVz88MMP+Ouvv97emLphwwZ07NgRlBkktRIeHo6ePXsiIiJCpBfs168fhgwZ8t4jy5cvh7+/v/g3uvhowYIFqFr1n6+lT58+FduwQkNDxQvp4sWL4erqmmqbUobziLEOgaSsIlM7VEHHGkWto4QKWz105SF6/BqMXq7FMaF1ZdVoeCkiWlziN7JZeQzwUlfSBtVAsiFFlJo3jfUV1kCplM3W0F0Pbfb57ZhIc7uXz13oobvZRo0QkJo3ZQUXtO3p1KlTyJjxn/sKXr58KVYuaEtUauXevXugP1Q3OjoaLi4uoMCkYsWKbx87fPiw2FZFd2jQrat0u2pwcLD4OV2qRLnPKcB4/fo1Xrx4gZw5U98DLmW4RvrP5tRMTHyDTr8EgVLU0iG93Fbe+qMGwFEv4sQLfJYM9tg82AOZ0pv3Fm65Nnf+JQh098WBb+tbPCWuXF25vmkElJo3jfUVpmlv3NNK2Wxc6/yUFIGFB6/Bb+tFHP2uAfJl57uSpHjxz5mAJQhIzZuygotmzZph5cqVb1/saUWhR48e2Lx5syxbWrduDR8fH5FhKrny5MkTVK5cGXfu3MGzZ8/ECgZdkCTnTg0pw2UpzJUVJXD5fjSazw5Am+qFeS8/gMErT2Hb2XtYP9ANTkUscwu3nA7dEnIPg1acxK+9aqBBhfxyHuW6GiOg1LyplK+wBD6lbLaErnpsI+T2U7SaFyjuSWrF913ocQiwzSokIDVvygouKDvUsWPHRFBAL/q7du2Cu7s78uXLJ0ynDCFSJSwsDJ6enmKLU/bs2ZOtPm3aNFy8eBGLFi3C6dOnxTYqWuWgtIa06jF79mxkyZLlo2cXLlwI+kMlMjISN2/elFKHf24lAv7bL4JSrtLZizqlHKykhfWb3Xj6Dob8eRrDGjvCx7us9RVKRoO4hES4++9F+QLZxXkQLrZLQMphGGq5Er7C0LZMraeUzabqwc8nT4Du/ak2YSdaVi2ESe34vgseJ0xADQSk5k1ZwQWloU2t0Pal1EpMTAy8vLwwevTot+c2Pqy/b98+DBw4UBwad3BwEBf11alTB4GBgahdu7Y4q0FBCe3pTa1IGa6GztGzDi9fJ6DxrANIb2+HrUM8kCGturYCWaJvaKtR01kH4Zg/G1b1q4O09naWaNaoNmbtvoxZu69g/7B6KJHn48DeKKH8kOoIKDVvmuorLAlGKZstqbPe2vr8t2O48fA59g7j+y701vdsrzoJSM2bsoILMpHOPFy+fFlYW65cOXHPhSElLi4OLVu2RJMmTeDr65vsIyEhIWjbtq04c+Ho6Cjq0CFwCi5oxYNKQEAAJk+ejC1btnBwYQh4FdfZd+kBei85hm8aOWJwA3V+tTcXPjp7Qjdg05L/tiGeKOZg+Vu45dj24Nkr1J28F5/VLYHvW/53VkqODK6rfgJSDkOOBcb6CjltKFFXSZuV0IdlfEzg/w5ex49bLyD4uwbIz+cueIgwAasTkJo3ZQUX+/fvF4erS5QoAbrBl7JA0Rcq2uaUWqG69Fzu3Lkxa9asZKveunUL3t7eWLp0KerWrfteHTrMTVukKJihg97Pnz/H1KlTObiw+vAyXYFBy09i14X72DnUU1dfxBcFXMf/tlyAf3sndK5ZzHSQFpDgs+IkDl6ORPB3DVV36NwC5uuiCSmHYSgEY32FofKVrKeUzUrqxLLeJ3D2dhQ+mXcIs7tUQ+tqhRkPE2ACViYgNW/KCi7ovMOKFSvESz4VWsHo2rUrTpw4kaqZtMWJAgQnJyeRipaKn58fKKCgMmDAAJEJau3atW8v6EubNq3YEkWFzl0kZYoqVaoUlixZIrJKpVakDLdyv3Dz/xK4/+wVGk4/gGrFcmJpn1qyDu1rFeLFiGdoNTcQ9crlxS+fumjG5qM3HotMX5PbOaFLLW0ERFodI9bSW6l501hfYQ27lbLZGrrrpU1x7mLiTrSsop9zFzGx8bBLA2ROn1Yv3cx2aoiA1LwpK7ioUqUKaOvSuyW5f1MDHynD1aAj6/APgaVBYRi78ZwuvkrFxieg9bxAPIx5jR1DPeCQNYNmhgGtQDabHQC7NGmw5St3zQRFmgGsAkWVmjfZV6igM21Mhb6/H8O1yOfYp4NzF5REo+WcQ3DImh4rvqhjYz3J5tgCASlfISu46N27t1h5+PTTTwUbuvguPj5erCSorUgZrjZ99awPfZVqNz9Q3KWwx7cecmQ27ByPFpn5bb2AhQevY/FnNeBdXntpXZcH38To9aFY+6UrXIrn1mIXsM6pEFBq3mRfwcNMaQJJW0mPjGqAAjls+76LZUFhGLPxnEC4Y6gnyhXIpjROlscETCIg5StkBRexsbH46aefRCYn+opJZy0os1OGDOr7+ipluElU+WHFCYTeiUKreYfEdhu/traZbjDo2iN0W3QE3WoVw48atfF5bDzq+O2Bd4V8mN2luuLjgAVal4BS8yb7Cuv2oy22Tj6i5VzbP3cR9TIO9abuQzGHLLhw7xk61yiKH9pUtsUuZZs0TEDKVxgcXCQmJoKWuul+Ci0UKcO1YIPedPxh83n8eugG1n5ZFy7FUz9TozU2z17FodmsAKRPaye2FGl5H+34v8+BVjAOj2yAvNnU92FBa2NDTfoqMW+yr1BTj9qOLrTCXX3iTrSoUhCT2lWxHcM+sIRWt/8v4Do2+bhjceAN7Dx3X2TJypKBz17YbKdr0DApX2FwcEG2d+/eHZMmTUKxYuo/zClluAb70uZVpq/iDWccQI5M6bBpsDvSqfjeB7md8fWq0/j7zF0ROFUrmlPu46qqfy0yBg2mH1D1xX+qAqYhZZSaN9lXaKjTNaRq39+Pg+YfWz13cfPRczSacRCtqhXCtI5VcfLWE7Sbfxg/tq2M7rWLa6inWFVbJyDlK2QFF5Qqlm7orlWr1ns3ZP/999+q4yhluOoUZoUEgR3nItB/2QmMalYe/b1K2wSVzSF34bPiFIY2LIuhDf+5v0Xr5dNfg3H1QQwChtdX9eV/Wudsaf2VmjfZV1i65/TRnq2fuxi4/AT2XYzE/m/rifs8aPt5izmHkPjmDbYN8eAkGvoY5pqwUspXyAouDhw4kKzRdOu22oqU4WrTl/X5jwB9nQq8+hC7fD1RJJe6L5eT6reIqFdoMuuguMNj7QBXm3kR33kuAv2WncDPPZzRtHJBKQz8c40QUGreZF+hkQ7XmJpJ5y5mda6GNtXNc98FpYB9FBOL4g5ZLEonKdX31w0dMaThf5fKrjx6C6PWneUkGhbtDW5MioCUr5AVXIwYMQL+/v7vtZncv0kpZYmfSxluCR24DeMIUNaoRjMOwLWUAxb1qqHZrzV0C3evJUdxPOwJtg7xQMk8lnVWxtE37Cna/+w5ZR+KO2TmVImGIdNELaXmTfYVmuhuzSmZdO6iuVNBTG6v/LkLWino+n9HcOrWU/zt426xLE3kK9rMD8SDZ7HYO8zrvTN5L17Ho/aPe9CwYn7M7FxNc33GCtsmASlfISu4cHZ2xsmTJ98jxfdc2ObAsbZVScvfWv4yviTwBiZsOm+z+2V/2ncVU3dcwm5fT5TJx6kSrf07o0T7Ug7D0DbYVxhKiuvJJUAr21cfRGP/t/XlPipZf3voPQz44yTS2qVBqbxZsHGQOzKlt5d8ztQK60/dxterzmBGp6po51zkI3HjNoZi5dFwBI3y1tTdSKZy4efVS0DKVxgUXCxYsADz58/H9evXUbr0f/vgo6OjUbduXXHfhdqKlOFq05f1eZ9AfEIiWs0LxKPnsdjt64VsGbV198WV+9EibaJ7mTyaXn1JbVzS1gHXSXvRtVZRTGjNqRJt4XfY1HmTfYUtjAJ120AZBSmzIL1oF8yRSTFl6YJTSiiSKZ09RjWvgN5LjqFbbfOnRn/5OgHe0/cjT9YM2DjIDXZ0LfcHhfxJo5kHMbJZeQywkbOIinUcC7IKASlfYVBwERUVhSdPnmDUqFGYPHnyW0OyZcuG3LnVeZGWlOFW6Q1uVBaB0+FP0XZ+IHq5lsD4VpVkPWvNyq/jE9Hmp0Dcf/YK24d62nS6VsqCtev8fRz5rgGycqpEaw47Rdo2dd5kX6FIN7CQVAicuxslDjnP7FwVbat//JXfWHg/H7iGydsuYtnnteBRNi8mbbuAXw5cx4LuzmjmZL5zZXP2XMGMXZexql8d1C7lkKL6nX8Jwt2olzgwrH6yAYixdvNzTMAYAlK+wqDg4t2GExIScP/+fXEzd1JRY2paKcONgcnPWJ7AmA2h4k4FWp52KpLD8goY0eKU7Rcxf/81LPzUBY0rFTBCgnYeOXXrCdrOP4wfWlfCp64ltKM4a5osASXnTfYVPMjMQYDOJ1T/YReaVioA/w7KnLuIjI5F/Wn7Ubtkbvz6WU2hdlxCIjr8HITrkTHY+pUHiuZWPrkIfYCqN3U/vBzz4udPXVLFtenMXQxeeQpLetdE/XL5zIGWZTIBgwlI+QpZwcW8efMwfvx45M+fH3Z2dkKJNGnSICQkxGCFLFVRynBL6cHtmEaALp+jOxUKZM+IDYPcYJ/MkrFpLSj79LGwx6AvTB1diirm+JTVUFlpdACStq+9ikvAzq89NXv4Xlkq2pWm1LzJvkK7Y0ALmn+x9Dgu34/GAYXOXYxaF4LVx29jx9eeKJ0361sEtx69QIs5ASibPytW9XdV/O6l4WvOYP2pO2Lrr1R2KloRrzt5L6oVzYFFvf4JgLgwAWsRkPIVsoKLMmXKIDg4GA4OKS/dWcvQD9uVMlwterIe0gSSvtiM+6QieruVlH7ASjWi6Rbu2QGwS5NGZIfSyzahv46HY/iaEKz8og5cS6t/brDS8NBEs0rNm+wrNNHdmlVy8aEbmLj5PA6P9EahnKadu6BtVnQ+ro9bSYxpWfEjJnT56VcrT2FQ/dL4tkl5xZgltdvXvSRGt/i43eQamrbjEubvv4qDw+trPk27YiBZkFUISPkKWcFF/fr1sWvXLqRNq/5r6KUMt0pvcKNGEaCv458tOYYTN5+ILzwFcmQ0So65Hxq2+gzWnbyN1QPqwqV4LnM3pxr5tGpRZ9Ie1C3tgPndU1/aV43SrEiyBJSaN9lX8AAzJ4Hzd5+h+ZyAFLMrGdo2+ZYuC4+IVZD9w+ojR+bkE4fQCsPqE7ex/PPaqFsmj6HiU6xH7Xb7v2BcjHgmsl7lyGRYwhJK0+7hvxdf1lM20DHZIBagOwJSvkJWcPH555/j0qVLaNGiBTJkyPAWpq+vr+rAShmuOoVZoVQJ0PJ0o5kH4F0+Hxb0UN8LbFIKw8HeZfBN43K6602/rRdAWVwCR3irNvjTXacYYbBS8yb7CiPg8yMGE0g6d9GkUn5M6VDV4Oc+rLg9NAID/jgheWaM7pr4ZO4hRL+KFzdlO2T97/3HmMYpCQZt7ZrYuhJ6yjyrRql4T4c/weGRDZA+7T/b07kwAUsTkPIVsoKLCRMmJKv/uHHjLG2XZHtShksK4AqqI5B0r8KvvWqgQYX8qtHvwbN/buGm28TXDayr+L5c1RiaiiIU/HlN24fB3mXh28hRCyqzjskQUGreZF/Bw8vcBPotPY6LEdFii5AxhVLPNppxEBnS2omAIa196i/qtFpCF925lXbAr71qGp2xic5OkL+g44OUTTCdRLsf2rb/0gOxkj+3a3V8UrWQMabzM0zAZAJSvkJWcJGcNpQ1So3bpKQMN5ksC7A4AZqU6XDdi9cJ2OXr+d4tphZX5t8GaXm792/HcOT6I2we7IEy+f47DGgtnazVbp/fjuHsnSixesFf1KzVC6a1a855k32FaX3DT79PIOncReBIbxQ24tzFLweuYdK2i1japxY8HfMahPf3w2EY9/c5fN+iAvp6lDLomQ8rJem9+LMa8C4v/yMZrdrUm7ZfrBD/1d/VKB34ISZgKgEpX2FQcOHu7o5Dhw4JXT799FMsW7bsrV7J3cRqqtJKPC9luBJtsAzLE6BsTB1/DkJ/z1LioiNrl2VBYRiz8ZxRy9vW1l3p9vddeiAunprTtTpa8Rc1pfFaRJ6p8yb7Cot0EzcC4MK9ZyKBxvSOVdHeRd59F8mlnjUEKn1M6rfsBGj1YN2XbrLToz998RpeU/fDqXAOcZ8GZds0piQFRpShzzF/NmNE8DNMwCQCUr7CoOCievXqOHXqlFDk3b8n9/8maavgw1KGK9gUi7IwgRFrQrDm5G1sHuyOCgWzW7j1/5q7FhkjVlJql3TAb71rGu0orGaAwg3TF7X60/cjX7YM4lA7F+0RMHXeZF+hvT7XqsY03zj/bxcaVciPqR3lnbtIKfWsISyePH8tDpPTdqrNX8nLCjhx03n8dviGyCZYvoDxvuvx89ciiUaXmkUxsXVlQ9TmOkxAUQJSvsKg4OLd1YkPVyp45ULR/mJhBhCgyb3BjAMo7pAZawfUNXrvqwFNpViFLlhqv+Awbj1+gZ1DPZEvuzozWJliozHP/t/B6/hx6wWxh9magZ8xuvMzgJTDkGLEvkKKEP9cSQL9lx3H+XvPEDDc22CxSSlge9ctibGfGJYC9kPhR288RpeFQWhTrTBmdK5mUNt0GV/jmQfRsUYRTGpn+uV/vqtOY+f5+wj+rgGyZFB/Bk+DIHElzRCQ8hUGBRelSpXC9OnTkZiYiG+//RbTpk0TAGiJcPjw4bh27ZrqgEgZrjqFWSFZBNaeuI1vVp/Bj20ro3vt4rKeVaLyjJ2XMGfvVSzo7oxmTgWVEGkTMmjZv7bfHrRzJgfqZBM26ckIU+dNU31FeHg4evbsiYiICHFRa79+/TBkyJD3umD58uXw9/cX/5Y1a1YsWLAAVav+8+V6+/btoj7dDt63b1+MHDlSsvtMtVmyAa5gNgJLAm9gwqbzODTCsHsf6J2l6/8dEQfBD6SSetYQhWftvoxZu68YvC2LskMdvvoQ+76th3zZTP8YRanZ6QOXX1sndKtdzBCVjapDzIzdvmVUg/yQJghIzZsGBRe9e/dO1dglS5aoDoaU4apTmBWSRSApTzh9hdrzTT3kzWZaakA5jdOk3vHnw2hbvQimd5K3HC+nHa3WpZzwm87cw5HvGhicv12rttqa3qbOm6b6inv37oH+0ApIdHQ0XFxcsGHDBlSs+N8X5sOHD6NChQrIlSsXtm3bhvHjx4vLXSmgcHR0FHcxFSlSBDVr1sTKlSvfeza5/jLVZlsbA1qyh+6JaDrL8HMXO85FoP+yE4qckUtI/CdQCb0TJbbolnrnZu8PGR6+9lDca/Ftk3IYVL+MIojJBzaf889Z2K1fuZslAKAsgN0WHUEv1xL4wtO4A+yKGMtCVEdAat40KLhQnVUGKCRluAEiuIrKCdCZh2azAtDMqQBmd6luEW2fx8aL/bbkWGjrT7aMhl1+ZBHlVNIIOVu68XZsy4ro467eG9VVgktVaqht3mzdujV8fHzQqFGjZDk9efIElStXxp07dxAUFCQCjR07doi6kyZNEv8dNWpUqozVZrOqBoTKlaFzF//P3pmA53R8f/yL2Il9qV3tJJYEESQhRFSjSlVLiaVqq9ZSVapU/SpqrZaiqrS2VlG7FokEIRKxRexbFgSxJwgR/s8Z/2jCm9z3vu+9973v+555Hk9V7pw55zOTmXvuzJzj+u0OEZp8hsS9Cwo9S8eS8uQyLvSsMaYn3H0oLpVTtCoKQ57XIdcr1WitoBwZdx+mIugzL+TL/eozxrRl6JmV4XH4ct0xrB2sfOLWm8mPxM5IzM0H4h4dZUOXCtdrqh1cz/oISM2b7FxYX5+yxhkIfL/jDH4IOisrnKA5AMesjcKqyHisGuCOplWLmyPKput2mbcXtx+kImikl0XuxNg0XBWNk1owVGz6FdExMTHw9PREdHQ0HB0NX36lI7qnTp3CokWLsGbNGnEsiv5OhaIa0o7G3LlzX5G9cOFC0B8qiYmJiI2N1dI0bktBAoOWHUT0lbsI/SL7exemhJ41Rs3tx6+KCFL9Whi+w7E6Mh6fr4nCD+83RKeG5Y0RafQz9LGLjqG2q1vG6LsfxginpIHdKYN4wj30bVEVC3adh97ySxljBz+jHgGptYKdC/XYs2QNCKSkpokvR0+fPcO24Z6KfhV6Wf30rKqDW1XDF+1ra2Cd9Tax/vBlDF91RDOnz3pJ6UtzqQVDK22Tk5Ph5eWFcePGoUuXLgabDQ4OxpAhQ0SY9BIlSmD16tVi1yKjcxEREYE5c+Zkq7ZebNaKra2189vei5i46QT2jG6NisULGDQvPfQsfRBa3KeJ4gi+3hCN38Ni8XLuCnr5bz0jBOWK5se6Ic1VObo0YUM0/oyIF8dQixfMY7ZtT9Kevgi3O7+nK7xrl4b7lJ1oVKkofvFvbLZ8FmAbBKTmTU2cC3Mv6VFX0HlaMqZ8+fLYvHmzZO9IGS4pgB+wGgJ0Sa7HonB84l0dn7WrpYretDi1n70bZRzzYf3HLThJnARlOoLQXCxIxbCoNy9IqgxKFYTqYd5MTU2Fn58ffH19MXLkSINWRkVFoXPnzuLOBd2zoMLHolQYEFYgMv3eBR2L6ppFvouxfx8D7SBQRmw1Ep3SR67O8/bh2r0UcVyW1gkqs3acwY9BZ1U5tpTeNWeuJYnjXmPfqI2BXtXM6jG6xzFm7TGxO//t207o2ex5sJQp/5zEoj0XETbWW5HL6GYpyZV1QUBqrZDlXNCXofbt26Nw4cL49ttvcejQIXz11Vfi8l12xZxLeulyZ82ahcjISNy7d4+dC10MLX0pMWLVEWyOuiIm9uqllU0qRBNu/98jsefcDXFxj5MWGdf307edwvyQ89g92rhILsZJ5afUJCC1YBjbtqlrBf2u9e7dG8WLF8fs2bMNNhcXFwdvb28sXboUzZv/l0+FMoCToxEUFCQ+QtGF7pUrV6JevXrZqq2Uzcay4eeUJUD3LhpPDhRf2A3duzhx5R785uxB7+ZV8HXH7MeCOZqdu54s7lY0rFgUy/u74XpSiti1aFunDOb2yP4dyZx2qW63n8Nw9W4KQka1MusYavox45c/1NH9xjYzd2HMG7UxyEwHxlxbub4+CEjNm7Kci/r164O+GNE2NF2SGzVqFAICAsS5VjlFziU9knvp0iWx4NAWOTkZvHMhh7Z9PHsj+ZGY/GqXLYw/BzRTdPs5/dIcX1CWN5Yu33kIj6k7xdc0PkYmj52lnpZaMIzVy9S1gtYWDw8PODs7i1C0VGiNIYeCyqBBg0SI2bVr16Jy5edfVR0cHMSHJypbt27F8OHDxU53v379xJohVZSyWaod/rl6BAYvP4ioS3exd0zmexfpUQVPXr1nduhZY7T/60A8Rq+Nwqh2NXHhxn1sjkoQ986yOq5ljExjntl49Ao+/eOwSObaqlZpY6q88swfEXGgHR7a/Znetf4rayhFSLyZ/FhcSufQtCYhtqlKUvOmLOciPfsqORY0+ffo0eOVjN1S9ORe0iN5Xbt2Fc4MhSakC3zsXEhRts+f/xkRhzF/ScCK1wAAIABJREFUHxMT47uNKyoC4eKN++jwwx64Vi4m7g/kzJlDEbn2ImTA0khExt4WkUaUjJJiL/y0tlNqwTBWHyXWCmPbMvc5pWw2Vw+ubzqB3/fF4OuNx1+5d6Fk6FljtCNn5tM/j2DrsQQRUZC+8tPXfrXL4ydP0fy7IDSsaNox1KCT10B5ODxrlhL3KnLneu7YZyxrDl7CqNVH8ddADmaidn9ag3ypeVOWc0HnYGm7OTAwEAcPHkT+/PnRtGlTHD161CgWplzSI0eCvkbNmzcPISEh2ToXHAHEqG6w2Ydoe5y2h2kLl3JfmHu5jS62dV0QBnIw6LJ42SLmJz6yWfhZGLb33A18sCjc6ERT9sZHb/ZKLRjG6mvuWmFsO0o8p5TNSujCMkwjcPpqEnxn7870YUmN0LPGaHcvJRV+P4aCIi4Fj2qlWbjy9GOoe77wFqFxjS2H4m6jxy/7xXHfPz5qlmW2b7Kn6eQg+NYrq3l+p0u3H+DdBWGY1rU+PGqUMtY0fk5FAlLzpizn4sGDByLUH+1a1KhRQyQ7OnbsGNq1aydpgqmX9GjHgkIK0tZ3SkqKuHNB0UOWL1+ebZtShksqzA9YJQG63EY7DW83Ki8Z91zKwB8Cz+L7wDOY070ROjYoJ/U4/9wAAfqS13bWLhTKlxsbPm7BjHROQKl505y1QmtEStmstd7c3n8EaJ5x/TYQrWuVfvHiu3D3eQRsPYXf+zWFV01tX0hv3X+Mh6lpsl7yze1PegH3nBaMIa2qY5SvcYFNLiQmi1wWjvlzi0vnJQtln4yWjk2tO3wJEePawlHDHE8UEWtpWKy4V6NGtC9z2dtjfal5U5Zzcf78eZH5NG/evGIXge5f+Pv7o2jRotmyNeeSXkbBUjsXGZ+VMtweB4O92Dz13+cXienuRbPXS5hk9pH4O2LS7Vj/NczWKEGfSYpaQaX0UJEbh7ZA/QrZzxVWYI5Nq6jUvGnqWmEJuErZbAnduc3/CAxZcRBH4ynfRWvcvP8YraeHoHGVYljSt6ndYOr/+wEcib8rjqHmcXj1aFNGEHThnNa4B4/ShGNRpWRBSU5H4++g0097MbmzEz5we37nSe1CeracGozcOXMIh23fmDZ8ikBt6EbIl5o3ZTkXDRs2FBfn6N4EhQl86623cPr0aXFsKbti7iW9dNnsXBjR4/wIHj5OQ7vZu0Qm1q3DPAxmTc0OE23/vvljKB6lpuGf4Z4okp+zcJszrOiYQLOAIHRwfs3s3SRz9OC60gSkFgxpCc+fMHWtMFa+ks8pZbOSOrEs+QSWhsVgwobn9y7m7zoPulytVuhZ+dppUyP49HX0XXIAc3s0gl/9rHfbkx89wfsLw3D++n3xEa5BReM++tCHYsorldchJzYMbamJUd/9cwq0C/VrnybCts99a+Hj1tU1aVvpRugezorwWIScTkT7emXxVsNyVnsXUWrelOVcUMhZCj87bdo0cd/ik08+kX2hW+nOykqelOFa6cHtWIZA+iT7mU9NfNKmhiwlvlp/DCvC47CyfzO4VzNt50NWg3bw8Lh1x0AXAvePbYNiCiR6sgNkFjFRqXmT1wqLdJ9dN5qe74EyZf+276LqoWf1CJvuHXrNCEa5IvmxaqC7QRXp8veHvx/AvvM3sci/MVrXlhddanHoRUzafEKEfa/zmqOqGO4+SEWLqTvRqlYpEc73PQq5e+95yF1ri1gVffkuaB08eukuShTMI3bX6MPle00qoqdbZVQqYTgBpKqAzRAutVbIci7c3NxEmL/Jkydj06ZNqFq1KpycnBAdHW2GiupUlTJcnVZZqp4IfLziEHacvIbtwz2N2vIl3YNPXUff3w7gI4+qGPdmXT2ZY9W6pF+4VCLRk1WD0LnySs2bvFbovKNtUD36qt7420Dx0la0QG7xAlq0gPkZq60N1YJd50Ff+3eM8ESNMplzPhGjz/46ir8PXxaXo7uZEFXx9v3HcAsIQg+3Spj4lnp5Q4j7nKCzmLnjDLZ+6oG65Ryx9uAlfLb6qFlHnrXuT9olmrn9NCiiWfGCeTHerw7ealAO+y/cwrL9Mdh2/BqePnsm7gv1cq8MrxqlrCIqpdRaIcu5OHHiBBYsWAB3d3d0794dFy9exKpVqzBmzBit+0uyPSnDJQXwA1ZPgLKltp25Cw0rFRVhZKW+dNxMfgTf2XtQslAebBjaQvZxKqsHprIB9NXpyt2HCBnVGrk4pK8qtBPuPhTRzZpXK2mSfKXmTV4rTMLPlcwkQB+UthxLwDdv1RM7F/ZYaB1zn7IT3ZtWxDednDIhSL+PaMqOfkZBQ1ceQui5G2InWq0Q43Q8ucV3O9GoUrEXl7jpyHPTyYHwqVsGs95rqOvuJUfu3+ir+GbTCVxLSsEHbpXwuW/tV45Z05z9B52UiIgH5euqXKIAejWrjHddK6JIAf0eyZZaK2Q5F9STjx8/xpkzZ0Sn1qpVC7lz69N4KcN1PSpZOcUIpJ/D/eH9hujUsHyWcmkiGLjsoDgLufGTFqhdVt3tXsUMtCJBW6IS8PHKQ/i1d2O0qVPGijS3DlXvPHgswjXSl1s6d14wr4NsxZWcN3mtkI2fK5hJgEJf09ftqV3rG8zVYKZ4q6k+YtURBJ64hv1ftnkxD6TnAqEdh8lvO0l+bMvO2D1nE9Hr1wj82L2R+AqvRkk/frV2sDtcKxd/0cSX647h70PaR6ySY2P8rQci78rOU9fF0TG6AO9SqVi2Iui42r/Hr2LpvhiRGypf7pzo1KC82M1wKl9ETvOaPCu1VshyLuhCNWXKrlKlCuhlLD4+Hr///js8PT01MUZOI1KGy5HFz1ovAbpA1WXeXly+kyIypWb1JSA9s+q4DnXwkefr1muwjjVPTXuKllN3CseNwkNyUY4AfeWjfCLHL98TbE29K6TUvMlrhXJ9y5KYgFwCB2Nv4Z35YZjSxRndm1bCv9EJGLziENrULoMFPV3gYCBJnpw26G6Hx7RgVC1ZEMv7u8mpatSz9KJNYXXpHgIl7ctYKJLj2xpHrDJKaQC0xi3acxE/BJ1Bzhw5MNKnJvo0ryKb9/Erd7EsLBbrj1xGSupTkcTX370y3nB6TTIKmLG6mvuc1Fohy7lwdXXFypUrxY4FFdrBoONRlFBPb0XKcL3py/qoR4AuUr01NxTvN62EgM7OrzQUd/MB3vhhtwiTuqK/m1Wcd1SPlrqSZweewezAs+I8tDGhD9XVxjak04LW//dI0NfEeR+4or1TWZMNU2re5LXC5C7gikzAbALpUZ3oBZfuRfT8NRxO5Ryxon8z5M+Ty2z5JCA9DxTtklYsruxl5FUH4vDF2mMGc5SQbe1n70G+PLl0lTspMuYWaFflzLVktKtbBl+/Vc/sPCd0oX31wXgs2x+L2JsPRB6SHk0roodbZYuH45VaK2Q5F/Xr1xe5LTIWQ/+myMg1U4iU4WaK5+pWRuB/m0/g19CLIp43fQVIL7SzQXcBTl9LEmEL5WQ2tTIEulD3+r0UNP9up/ia85UfX5g3t1PoC+KIv45gw5Er+K6Ls3CgzSlKzZu8VpjTC1yXCZhPgEKejlsXjfy5c+G1ovmwdlBzRSP1Xb7zUOxEf9K6Oka2My5pnzFW0ZrcZmYICuVzwKahLQ0e36K1nNb0bcM9Uats5kvrxrSh5DN0wZ3usvx5IB7liuQT91zoToiSheb53WcTRSJBioRJTiNFmTL3eJs5OkqtFbKci759+yJnzpzo1auX0GnFihV48uQJlixZYo6OqtSVMlyVRlmobgncf/REZIqm0G+bPmn54jzuT8HnMH3bacx+r6HI6s1FfQJ072LPmUSEf9lWsa9o6mutvxboCx5dFvxtX4xisd+Vmjd5rdDfeGGN7IsArXmUX4i+8P89uLniuwtE039xBM5eS0LoF96KBenYdPQKPvnjMOZ/4II3nF8z2GmUAd0tIBC9mlXBhI6W+UhF8+/fhy5j8taTuPswFR+2rIphbWqYdNdNzsikkxYzd5wWH5R2fuaF10sVklNdsWel1gpZzsWjR4/w008/gZLiEVi6azFkyBCRsVtvRcpwvenL+qhPYNvxq+LSdno41GOX7qLzvL3iGMmc7o3MuuCmvva200LExVvo9nMYpr7jjPeamPel3XaoyLdk7s6zmLH9jFjUvnqzjiLjV6l5k9cK+f3JNZiA0gROXLknwvKWK5pfadFC3tZjCRiy4hB+69sErWrJy5dhSCF6r+zwYygeP0nDjhFe2R5RpozsYedvio9UUtnIlTb+3PVkUD4sCifrUqkoJnd2Vj3nR0YbYm7cR6sZIZjUqR783S0TFU1qrTDauXj69Cloq1uPOS0MDRwpw5UebCzPOgh8tDQSoWdviN2Lgcsicf9Rmtha1XPIN+sga7yWGc8Db/nU8La38dLs88mV4XHifG/nRuUx890Git0TUmLe5LXCPsckW21/BOjidbMpQXCrWhzze7qaDSA9z9SMdxugq2uFbOWFnL6OPksOYN4HLuiQxQ6H2Qq9JIDut/0YdBaUS4SOm415ow7eb1JRsfnXWH1pDaUL9RSJ6hf/xsZWU/Q5qbXCaOeCtPrggw8wZcoUVKqk/6+NUoYrSpmFWQ2BK3ceiuNRdGaRktss/9ANLWuYlhPAaozWoaLp54FfDjOoQ1V1p9I/x56H9PWqWQoL/RsrGnJTqXmT1wrdDRtWiAmoQoDuPlDId8p5UaKQ6adY6IW564IwXL2bgpDPW0nOa3Q3g+581CxTWLPog+nHqN9uWE4k2S1V2HR7ze2MMWujQOHdD0/wkR2Nyty2qb7UWiHLufD29saBAwfQtGlTFCxY8IV+GzduVEJXRWVIGa5oYyzMqggs2nMB3245ib4tquDrjupmGLUqMBoqm34e2LtOafzwfiMNW7bupvaduyG+1jlXKCIcY6Uiv6RTUWre5LXCuscZa88EjCVw5loS2n2/WxzN7O9hehj38As38d7C/bKO+lDm67nB57D3C2/Vjn6lc7ielILW00PQonpJ8VHH0mVz1BUMXXn4lSA1WukltVbIci527dplUG8vLy+t7DG6HSnDjRbED9ocAfriQcmWmr1eQvOzmjYH0wyDJm48DtrB2DemjUW/AJlhgqZV6Y7Q+wvDUKHY89jvahzlU2re5LVC06HBjTEBixKgu4tJKU+wY4SnyXe/6HL4iSt3xeVwY7N+0+Vmz+nBMDfjuDHwxv59DKsj47F9hKfFLlFn1JOiVLl8uwPD29TEsLY1jDFB0Wek1gqjnItz587h2rVraNGiRSbldu/ejfLly6NatWqKKq2EMCnDlWiDZTABJmA6gfOJyWgzcxdGtauJod7aT46ma659zQuJySL7Ni26FE65bJF8qihh7rzJa4Uq3cJCmYCuCfwZEYcxfx8z+Ss6fTjpODcUo9vXwpBW1WXZ2n3hflBYXMqdlDNnDll1jX349NUkkQuLLk9T3hC9lI5zQkUm79WDmmuuktRaYZRz4efnh4CAAHGhO2OJjIzEN998g02bNmlumFSDUoZL1eefMwEmoD6BXr+GgyJvUCImc7PGqq+tZVq4di8FXebtQ0pqGlYPclf1q5m58yavFZYZI9wqE7AkAbq/2HRyIDrWL4epXTO/Jxqj1+DlBxF67gb2jvGGY77cxlR58cz6w5cxfNURrPzIDc2rqXN/knZVjsTdxq7PWyuaK0SWoQYepvwav+y+gCNft0OhvA7mipNVX2qtMMq5cHJyyjJKlLOzM44dOyZLKS0eljJcCx24DSbABLInsP34VQxYdhALerqgvZPhmOb2zJAytFLYXvoy98dHzcRdCzWLufMmrxVq9g7LZgL6JTB6zVFsjkpAxLi2sl506eOSz/e78HGr6hjlKz8ZH310aTI5EG1ql8ZsFe7v7TqTiN6LI8y+U6JGz9EdvB6LwrHIvzHaKpy4T0pfqbXCKOeievXqoO1uQyW7n0kpp+bPpQxXs22WzQSYgHEE6P6L57RgVC5RACs/amZcJTt56uHjNPT8NRx0ZIDiyDevrs5XuYw4zZ03ea2wk8HJZjKBlwgcjL2Fd+bLz180ajU5JVfEpWxTo01RzonVkZeEY0OJcpUqT9KeosOPe5CS+hQ7Rnoir0MupUQrIoccq4aTtuP9JpU0P64ltVYY5Vx0794dFP3jo48+ygTk119/xfbt27Fq1SpFQCkpRMpwJdtiWUyACZhOID28X+BIT1QvXdh0QTZUk+KpD1gaCfpq9lOPrDPVKm2yufMmrxVK9wjLYwLWQYBCyfp8vxuO+Rzw95DM93OzsuDS7QdoNT0EvdwrmxW5Mf3Oxv/edkKvZpUVA5aeTyi7bOGKNWaiIDpanHA3BYEjtQ2sJLVWGOVc0GXuzp07I0+ePHB1fZ4ohe5bPH78GOvWrUPZsmVNxKJeNSnD1WuZJTMBJiCHwM3kR3CfshPdm1bEN52c5FS1yWefPn2Gz1YfxbrDlxHQ2Rk93LTLK2TuvMlrhU0OSTaKCRhFgM7/T956UkSNqlFG+kPR1xuisTIiTtxlMCeLeHpi1ty5cooEuUoUukfSanowqpYsKKLz5cihzmVxc3VduPs8AraeQthYb7xWRJ1M7IZ0lForjHIu0gUHBwe/uHtRr149sZuh1yJluF71Zr2YgD0SGLHqCHacuIb9X7aRdV7X1ljRIkk5WH4NvWiRKFpKzZu8VtjayGR7mIA0gRvJj9AsIAh9mlfBV351s62QmPRIJMHr1LAcpnVtIC1c4okley/im00nsPVTD9Qt52i2vBnbnufQWP9xCzSsWNRseWoJOHHlnji6Nb1rfbzbuKJazbwiV2qtkOVcaKa1Ag1JGa5AEyyCCTABhQgcirstIiIpva2tkHqaiZkXcg7T/j0tEjxO8Kur+dcye5w37dFmzQY0N2R3BCjyU/jFWyJjdx6HnFnaT5GOFuw6j6CRXopEwKO8D24BQWKn19xwsVfuPETrGSHwrVcWP3bXd5JX2uluGhAokvtpmZBWat5k58LufvXZYCagPwL0xf6tuXvx6Ekatg03PRGT/iwzXqP0WPFvNyyHWd0aqhazPTuNpBYM462xnift0Wbr6R3W1NoIBJ++jr5LDmDeBy7o4Gw4AuDdh6lo+d1OeNYqJe6UKVU+XnlIJMgN/7KNWZevaSd9y7EE7PzMSyQt1XsZ9udhYXfEl201Wzek5k12LvQ+alg/JmAnBP6KjMfoNVEi5Kp7tRJ2YvVzM/+NvoohKw7Cs2Yp/OLfGHR22BJFasGwhE5qt2mPNqvNlOXbLwGKAEjHnWqWKYzf+zU1CCI9iMeWT1uiXjnlwmvvPpMIykkxt0cj+NUvZ1InRF26Iz50DW5VDV+0r22SDK0rUebwz9dEKXYkzBj9peZNdi6MocjPMAEmoDoBCqvXbEoQmlcrgXkfPA8cYQ8l7PxN9F4SAadyjlje3w0F8mibDCkjY6kFwxb7wx5ttsV+ZJv0Q2DW9tOYE3xOhJd9+aI2hdhuMXUnGlQogiV9DTsfplqSHtr89VIFsexDN9liaAf9vYX7cf56MkI+b4XCMhP6yW5QoQoJdx+KoCjjOtTBR56vKyQ1ezFS8yY7F5p0AzfCBJiAMQQCtj6/zEyLUtki+YypYtXPRF++i/cX7sdrRfKJ7NtFC+SxqD1SC4ZFlVOpcXu0WSWULJYJCALxtx7AY1owRvrUxKdtamSikn7xes0gdzSuUlxxYrN2nMGcnWcR+oU3yheVFz2JdpAHLT+Ib992Qk8FQ9oqbqQBgW1mhqB8sQJYmsVukdI6SM2b7FwoTZzlMQEmYDKBuJsP4DUjGJ941xALky2Xizfu490F+8TZ4DWD3aFlGMGsuEotGLbYH/Zosy32I9ukLwIfLNqP2JsPsPvz1i/uATx+8hRe04NRsXgBEd5VjUKOjef0YAxvUxPD2mZ2bLJrj3Rr9/0ucST1n2EecLDQ0VRTmUzceBx/HojDkQntkC+3+sn+pOZNdi5M7UmuxwSYgCoE+i6JQPSVe2L3IrtoI6o0rpHQa/dS8M78fXjwOE3sWFQrVUijlrNvRmrB0IWSCithjzYrjJDFMYFXCGw8egWf/nEYyz90Q8saJcXP/zoQj9Fro/Bb3yZoVau0atR6LgpHzM37mRwbqcYWh17EpM0nsKRPE7SurZ5uUnqY+vPAE9fQf2kkVvZ3Q/Pqz3mrWaTmTU2ci/j4ePj7++Pq1avImTMnBgwYgGHDhmWye8WKFZg6dar4t0KFCmH+/Plo0KABjKlrCKCU4WpCZ9lMgAmYTiA92sic7o3QsYFpl/JMb139mncfpOK9hWHi6MAfA5qhfgX9xFC3x3nTHm1Wf5RzC/ZOgO7QUWhYClJBczndh/CZtQv58+TC5k9aqhpme8ORyxj25xGs6O8mQrRKlTsPHsNregicyxfBsg+bqqqblC6m/pyS/jX8Zru4c6HFRXSpeVMT5yIhIQH0x8XFBUlJSSLL9/r161G37n9JVvbt24c6deqgWLFi+OeffzBx4kSEh4eLelJ12bkwdThyPSagPwIUt7v1zBCULpwXqwc115+CZmhElxl7/RqOqEt3saRvE6MWPjOak11VasGQLdAKKtijzVbQLayiDRCgozorw+NEaNh952+CQsVmF6JWKZPJsWk6OVDsjhiTp+J/m09g8d6LItpSndfMT8CnlB1y5dAx25TUp4plKc+ufal5UxPn4mUFO3XqhKFDh8LHx8eg7rdv34aTkxMuX778ys+l6qZXkDJcbqfx80yACWhH4JfdFzB560lx9tWaJ/uMxFLTnmLQsoPYefq6iO2eVQx47Si/2pI9zpv2aLMlxxi3bT8ETibcwxs/7BEJQdccvISUJ2nYMcILuXLmUB3ChA3R+PNAPA582RZFCuTOsr2YG/fh8/0udGlUAVO71lddLzUb+CHwLGYHncGhr3xQrKC6wUGk5k3NnYuYmBh4enoiOjoajo6GPcQZM2bg1KlTWLRoUaZ+kKq7cOFC0B8qiYmJiI2NVbMfWTYTYAIqEaBtatpS7+JSAVO6OKvUinZiaTdm1Jqj+PvQZV1HIpFaMLQjpl1L9mizdnS5JXsn8NbcUFDwiqSUJ5jetT7ebVxREyQUic9vTigmdaoHf/cqWbZJGcV3nUlEyKhWKO1o3REKD8beFnf56OPVm/UNJzBUCr7UvKmpc5GcnAwvLy+MGzcOXbp0MWhjcHAwhgwZgtDQUJQo8V8iLWPqZhQoZbhSgFkOE2AC6hAYveYoNh1NwP4v26BI/qy/PKnTunJSKXY6hdj9Zc9Fg6EZlWvJfEmWnjeNuWNHH5769u2LQ4cOYfLkyRg1atQLw6tUqYLChQsjV65ccHBwQGRkpCQUS9ssqSA/wASsmMDy/bH4an20CAtLuSO0TBD65o97BLktn3oYJBhx8Ra6/Rym+3nZ2O5/kvYUjSbtgF+D1zCli7q7MFLzpmbORWpqKvz8/ODr64uRI0caZBUVFYXOnTuLOxc1a/4XhtKYui8LlDLc2M7i55gAE7AMgfQvT7Sl3q9lVcsooUCrC3adx3f/nEKf5lXwdce6ur4saOl505g7dtevXxe70nRvj+7ovexckENRsqT0Jc70rrW0zQoMMRbBBHRL4F5KKny/340RPjXRTaNdi3QYv++Lwdcbj4sL5E7lM2cCp93kzvP24tq9Rwge1UpcNLeF8tHSSNBxtD2jW6u61kjNm5o4F/Tlrnfv3ihevDhmz55tsP/i4uLg7e2NpUuXonnz/y5xGlPXkEApw21hELENTMDWCXSZtxd3HqQicKTXi1jp1mRzeujFtxqUw+z3GureBr3Nm9ndsaOgHxRZkJ0La/qNYF2ZgHYEKDJfk4BAdG9SEd90csrUcHpEqRnvNkBX1wraKaVyS0vDYjBhw3FxzKtKyYKqtSa1VmjiXNARJw8PDzg7O4tQtFQCAgJADgWVQYMGoX///li7di0qV64s/i19Szuruh06dMgWmpThqhFnwUyACShGYP3hyxi+6ojIOkohDa2pbDt+FXSet2WNUljk39gqcnboad6UumNnyLmoWrWq2M3IkSMHBg4cKMKeGyp8P8+afpNYVyZgOgHKtUF3KihiVXpyOYom5T0jRFx63jS0pe4/+six/kJiMrxn7sL/3nZCLxWzjEutFZo4F3LAKPWslOFKtcNymAATUI/AoydpaD5lJxpVKoZFvRur15DCkvdfuAn/xRGo+5ojVn7khgJ5HBRuQR1xepk3jbljZ8i5uHLlCsqVKwc6OkXRCOfMmSMCiGRX9GKzOj3KUpmAfRMIPXsDPX8NFyFpaQeZyk/B5zB922kxNzevZvwRSmsgSad9Wk4NFjk7FvRyVU1lqXmTnQvV0LNgJsAElCAwfdspzA85j92jW6NCsQJKiFRVxvErd/H+z/tRpkg+rB7ornpIQCWNkVowlGwrK1nG3rEz5FxklCn18/Rn9WCzFly5DSZgjwToboXn9GBUKVEQy/u74UbyI7SaHoJmr5ewqg9WcvruizVR+Cc6AYcntFMt7K/UvMnOhZwe42eZABPQnMDlOw/hMXUnBnpV0yTzqDkGxt68j3fmhyFPrhxYM7g5yhXNb444zetKLRhqKyTnjt3LzsP9+/fx9OlTES2K/k47FxMmTED79u2zVdvSNqvNlOUzAXsnQPkfvg88Iy45U4CNVQfisW2EJ6qVKmSTaDYdvYJP/jiMdUOai11/NYrUvMnOhRrUWSYTYAKKEhiwNBKRsbexb4z3i3OzijaggLDr91LQdUEYklJSRWbx6qWtb+GSWjAUwJStCGPu5129ehWk571798QdPrrUfeLECdy4cUNEG6Ty5MkT9OjRQ4Q9lyqWtllKP/45E2AC5hGgD1Qtp+4UiUv/OZYg7iK8fMHbvBb0Vftm8iO4fhuIz3xq4pM2NVRRTmreZOdCFewslAkwASUJ7D13Ax8sCsesbg2f0OMTAAAgAElEQVREYj29lbsPU/Hez2GIu/UAKz9qhoYVi+pNRaP0kVowjBJiZQ/Zo81W1kWsLhMwm0CvX8Ox5+wNFM7ngF2ft0ZxlTNYm62wmQIox0fBvA74a6C7mZIMV5eaN9m5UAU7C2UCTEBJAnRcpu2sXSicLzfWf9xCSdFmy6LII/6/RuBw/G0s7tMEHjWsK6pVRgBSC4bZsHQowB5t1mE3sEpMQFUCm6OuYOjKw/iyQ20M8Kymalt6ED7ln5NYHHoRRya0E06G0kVq3mTnQmniLI8JMAFVCPy29yImbjqBjUNboH4FfewMUEbUQcsPIejUNczp3gh+9Z9HI7HWIrVgWKtd2eltjzbbYj+yTUwgOwJ0sXvX2UR41iil2iVnPfVAepSsJX2aoHXt0oqrJjVvsnOhOHIWyASYgBoEKNNrs4AgcW6WEh9ZutBuyudrorDm4CXVY4prZavUgqGVHlq2Y482a8mX22ICTEB7ArSj3uCb7fjArTImdKyruAJS8yY7F4ojZ4FMgAmoRWDcumPiZX7/2DYWD/E6ZetJ/Lz7Aoa3rYHhbWuqZbKmcqUWDE2V0agxe7RZI7TcDBNgAhYkQPdMrt1LwfYRXoprITVvsnOhOHIWyASYgFoETl9Ngu/s3Rj7Rm0RmtZS5edd5zHln1Pwd6+Mb96qJzJC20KRWjBswcaXbbBHm22xH9kmJsAEMhNIX6coO3kZx3yK4pGaN9m5UBQ3C2MCTEBtAt1+DkPC3YcIGdXaImdnV0fGi+NQfvVfw4/vN0LOnLbhWFC/SS0YavetJeTbo82W4MxtMgEmoC2B6Mt34TcnFDPfbYB3XJWNsig1b7JzoW1fc2tMgAmYSWBLVAI+XnkIi/s0hnftMmZKk1d9x4lrGLT8IJpXK4FfezdBHoec8gTo/GmpBUPn6puknj3abBIorsQEmIBVEaBL7E0mB8KzZil8/15DRXWXmjfZuVAUNwtjAkxAbQKpaU9FQqTaZR3xe7+majf3Qn74hZvwXxyB2q85YmV/N1XC+2lmTBYNSS0YltZPjfbt0WY1OLJMJsAE9EeAMnXvv3ATEV+2UfT4rtS8yc6F/sYCa8QEmIAEgdmBZzA78CxCRrVClZIFVed14so9vLcwDKUL5xXZt201AZPUgqE6aAs0YI82WwAzN8kEmIAFCPx1IB6j10Zh23BP1CpbWDENpOZNdi4UQ82CmAAT0IrA9XspaP7dTvRpXgVf+SkfZi+jHXE3H+CdBfvgkDMH1gxujvJF82tlpubtSC0YmiukQYP2aLMGWLkJJsAEdEDgyp2HYq386s066O/xumIaSc2b7FwohpoFMQEmoCUBunex50wiwr9si/x5cqnS9PWkFLy7IAx3H6ZizSB3VC+t3JcfVRQ2U6jUgmGmeF1Wt0ebddkRrBQTYAKqEPCeGYJKxQvgt77KHSOWmjfZuVClK1koE2ACahOgOxDvLdyPqe84470mlRRvjpL2vf/zfsTcvI8V/d3QqFIxxdvQm0CpBUNv+iqhjz3arAQ3lsEEmIB1EPh6QzT+iryEI1/7IK+DMh/ipOZNdi6sY2ywlkyACbxEgDJkv/HDHuTMkQNbPm2p6GU1ym7ae3EEDsXdFlGhKNqGPRSpBcMWGdijzbbYj2wTE2AChglsP34VA5YdxB8fNYN7tRKKYJKaN9m5UAQzC2ECTMASBFaEx2LcumisHewO18rFFVHhSdpTDFlxCDtOXsMP7zfCWw3KKSLXGoRILRjWYINcHe3RZrmM+HkmwASslwDtwjeatAODvaphlG8tRQyRmjfZuVAEMwthAkzAEgTuP3qCZgFB8K5TWjgC5hbaDRmz9hhWRcaLzNu9m1cxV6RV1ZdaMKzKGCOVtUebjUTDjzEBJmAjBN6Zvw9Pnj7Dho9bKGKR1LzJzoUimFkIE2ACliIwceNx0A7GvjFtUKpwXrPUmPrvKcwPOY9P29TASJ+aZsmyxspSC4Y12iSlsz3aLMWEf84EmIBtEfh+xxnM2XkWh8e3Q5ECuc02TmreZOfCbMQsgAkwAUsSOJ+YjDYzd2FUu5oY6l3DZFUW7bmAb7ecRM9mlfC/Tk6K3uEwWSmNK0otGBqro0lz9mizJmC5ESbABHRDIDLmFrouCMP8D1zwhvNrZuslNW+yc2E2YhbABJiApQn0XBQOcjL2jG4Nh1w5Zauz9uAlfLb6KN6s/xp+fL8RcuXMIVuGLVSQWjBswcaXbbBHm22xH9kmJsAEsiaQmvZU3Lt4q2E5BHR2NhuV1LzJzoXZiFkAE2ACliaQHg1jQU9XtHcqK0udoJPXRCQN99dL4Nc+jRUL1SdLCZ08LLVg6ERNRdWwR5sVBcjCmAATsAoC/X+PxJlrSdg9urXZ+krNm+xcmI2YBTABJmBpAmlPn8FzWjCqlCyAFf2bGa3OgZhboF2P2mULY8VHzVAor4PRdW3xQakFg222RQJsExNgAvZA4Pd9Mfh643Hs/rw1KpUoYJbJUmsFOxdm4eXKTIAJ6IXAT8HnMH3baQSO9DQqk/apq/fQbUEYShbOi9UD3VGikHmXwfXCwRw9pBYMc2Trta492qzXvmC9mAATUI/AuevJaDtrlzgW1cPNvMSzUvMmOxfq9SNLZgJMQEMCN5MfwX3KTnRvWhHfdHLKtuX4Ww9AofkoAd/aIc1Rvmh+DTXVb1NSC4Z+NTddM3u02XRaXJMJMAFrJUCh1pt/txONKhXFvA9czTJDat7UxLmIj4+Hv78/rl69ipw5c2LAgAEYNmxYJsNWrFiBqVOnin8rVKgQ5s+fjwYNGoj///fff8XzaWlp6N+/P8aMGSMJRcpwSQH8ABNgAlZHYMSqI9hx4hr2f9kmyyNOiUmP8O6Cfbj9IBVrBrmjRpnCVmenWgrb47xpjzarNX5YLhNgAvom8Pnqo9h+4hoOjfcxK3CJ1LypiXORkJAA+uPi4oKkpCS4urpi/fr1qFu37ote2LdvH+rUqYNixYrhn3/+wcSJExEeHi4cipo1a2LHjh2oUKECmjRpgj/++CNTXUNdKWW4vruftWMCTMAUAofibqPLvH3439tO6NWs8isiklJS8f7C/biQeB8rPnKDS6VipjRjs3Xscd60R5ttdgCzYUyACWRLYMORyxj25xGRTK9BxaIm05KaNzVxLl7WvlOnThg6dCh8fHwMGnb79m04OTnh8uXLCAsLE47Gtm3bxLNTpkwR/x07dmy2UKQMN5koV2QCTEC3BGjb9625e/HoSRq2DffMlKsiJTUNfZZEIDLmNhb1boxWtUrr1g5LKWaP86Y92myp8cXtMgEmYFkCN5IfofG3gfjctxY+bl3dZGWk5k3NnYuYmBh4enoiOjoajo6OBg2bMWMGTp06hUWLFmHNmjXiWBT9ncqyZcvEjsbcuXNfqbtw4ULQHyqJiYmIjY01GRxXZAJMwDoJ/BUZj9FrovDngGZo9noJYQRFkxqy4iC2Hb+GH95viE4Ny1uncSprLbVgqNy8RcTbo80WAc2NMgEmoAsCHX7YA8f8DvhzgLvJ+kjNm5o6F8nJyfDy8sK4cePQpUsXg0YFBwdjyJAhCA0NRYkSJbB69Wqxa5HRuYiIiMCcOXOyhSJluMlEuSITYAK6JkA7FM2mBKF5tRLi0hrtZoz9+xj+PBCPrzvWRd8WVXWtvyWVs8d50x5ttuQY47aZABOwLIEpW09iyd4YHPnaBwXymBZ+XWre1My5SE1NhZ+fH3x9fTFy5EiDZKOiotC5c2dx54LuWVDhY1GWHYTcOhOwRgIBW0/i19CL2PuFN5btj8FPwefxiXd1fNauljWao5nOUguGZopo2JA92qwhXm6KCTABnRHYfSYR/osj8FvfJiYfD5aaNzVxLujLYe/evVG8eHHMnj3bIOa4uDh4e3tj6dKlaN68+Ytnnjx5IhyNoKAglC9fXlzoXrlyJerVq8c7FzobsKwOE9ALgbibD+A1Ixh1X3PE8Sv3REzvyW87ZbqDoRdd9aSH1IKhJ12V0sUebVaKHcthAkzA+gjQ7n79b7bDv1llfOX3X2AlOZZIzZuaOBd0xMnDwwPOzs4iFC2VgIAAkENBZdCgQSLE7Nq1a1G58vMILw4ODoiMjBR/37p1K4YPHy4iR/Xr108cq5IqUoZL1eefMwEmYN0E+i6JQPDpRHRwLos53V3MCrtn3SSM194e5017tNn4EcFPMgEmYIsEPli0HzeTH+Pf4Z4mmSc1b2riXJikuZmVpAw3UzxXZwJMQOcEzl1PwvrDV/BJm+rI65BL59rqQz17nDft0WZ9jDbWggkwAUsRWHUgDkfi7+Lbt51M+vAmNW+yc2GpnuV2mQATYAI6IyC1YOhMXUXUsUebFQHHQpgAE7BbAlLzJjsXdjs02HAmwASYQGYCUguGLfKyR5ttsR/ZJibABLQjIDVvsnOhXV9wS0yACTABXROQWjB0rbyJytmjzSai4mpMgAkwAUFAat5k54IHChNgAkyACRi1YKiNKT4+Hv7+/rh69aoI/jFgwAAMGzYsU7OUYLVv3744dOgQJk+ejFGjRr34OSVcpecp+AcFCRkzZoykylKLpKQAfoAJMAEmYGcEpOZNdi7sbECwuUyACTCBrAhILRhqk0tISAD9cXFxQVJSElxdXbF+/XrUrftfuMTr168jNjZW/HuxYsVeOBfkUFDY8h07dqBChQoibPkff/yRqa4h/S1ts9pMWT4TYAJMQGkCUvMmOxdKE2d5TIAJMAErJSC1YGhtVqdOnTB06FD4+Pi80vTEiRNRqFChF84FJ1zVune4PSbABOyVgNRawc6FvY4MtpsJMAEm8BIBqQVDS2AxMTHw9PREdHQ0HB0dJZ2LNWvWgI5FLVq0SDy7bNkyhIeHY+7cua/UXbhwIegPlcTERLETwoUJMAEmwASMIyC1VrBzYRxHfooJMAEmYPMEpBYMrQAkJyfDy8tLJEzt0qWLwWZf3rlYvXo1tm3blsm5iIiIwJw5c7JVWy82a8WW22ECTIAJmEtAat5k58JcwlyfCTABJmAjBKQWDC3MTE1NhZ+fH3x9fTFy5Mgsm+RjUVr0BrfBBJgAE3iVgNRaYbPORalSpVC5cmWTxsSNGzdQsmRJk+paayW22Vp7zni9uY+NZ2XNT5rTz3Q8iI4JWao8e/YMvXv3RvHixTF79uxs1XjZuXjy5Im40B0UFITy5cuLC90rV65EvXr1spVjD2uFOWNCy7FgLXoSE2vRlfVUdgRbC0+1x6jUWmGzzoU5w0nKIzNHtl7rss167Rnl9OI+Vo6lniVZcz+HhobCw8MDzs7OIhQtlYCAAMTFxYm/Dxo0SISpJRvv3bsnnqFL3SdOnBD3MrZu3Yrhw4eLULT9+vUTx6rULNbCmvVUfhQwU2WZMk9leZI0SzJl58JAf1qyQ5QfXsZJZJuN42TNT3EfW3PvGa+7Pfaz8XSUfdJaWLOeyva7pV/c5FjDfS+HlvSz1sLT0mOUnQt2LgQBa/qFkf71N+4Je7PZ3uzlcW3c7wE/ZToBa/mdYj1N7+OsajJTZZkyT2V5Wnr9Y+fCQH9SiELKDGtPhW22/d7mPrb9PiYL7bGfLdWz1sKa9VR+hDBTZZkyT2V5WnotYOdC+f5kiUyACTABJsAEmAATYAJMwC4JsHNhl93ORjMBJsAEmAATYAJMgAkwAeUJsHOhPFOWyASYABNgAkyACTABJsAE7JIAOxcZuv3ff//FsGHDRBjD/v37Y8yYMTY/KChc4+bNm1G6dGlER0fbvL3x8fHw9/cX4SwpjCXdraE+t+WSkpICT09PPHr0CJQLoGvXrvjmm29s2eQXttHvMl0UpLwHNM5tvVSpUgWFCxdGrly54ODggMjISFs3WXX7pNYFys1BcwiFwS1QoAB+++03uLi4qK7Xyw0YM7eFhISgU6dOqFq1qqhO2c8nTJigua5S41QPTE+fPo333nvvBZsLFy5g0qRJItRxerEkT0Nr961bt4TOMTExIMZ//fUXihUr9kr/So1pJQeEIT0///xzbNq0CXny5EG1atWwZMkSFC1a9JVmpcaJ2npSLp1ffvkFlAuHCoXF7tChg0V5UuOGmFK/05ilcufOHcHzyJEjFmPKzsX/o6eXEErAtGPHDlSoUEEkYPrjjz9Qt25dJcev7mTt3r1bxImnF257cC4SEhJAf2jxT0pKgqurK9avX2/T/UwL9f3790U/U/bjli1b4ocffkCzZs10Nx6VVmjWrFniBZtyItiLc0H22lsSUKXHTbo8Y9YFcirmzJkjnIvw8HDhaNB/tS7GzG30MjxjxgyL/y7QS2N241QvTDOOA/pAQf2aMTmvJXkaWrtHjx4tElDSh9HvvvsOt2/fxtSpUzMNRWPGtJJj15Ce27dvh7e3t/gA8sUXX4jmXtaT/k1qnKit58uJOg21pzVP0kHqve2zzz5DkSJFDH440IopOxf/P1rCwsJAA2nbtm3iX6ZMmSL+O3bsWCXHry5l0VcOPz8/u3AuXu4A+oo3dOhQ+Pj46LJvlFbqwYMHwrmYP38+3NzclBavK3mXLl0S2Z4pkRo5Gexc6Kp7rEIZY9aFgQMHolWrVujevbuwqVatWqCXztdee82iNhqa2yz5MpwRhtQLjt6Y0ssw7fbu3bs3U59amufLa3fGsUfOJo3L9K/Z6YobM6aVHrjZvWOsW7cOa9aswYoVK15pVmqcqK2nMc6FJXiS3VkxpY+JlSpVws6dO1GjRg2LMWXn4v/R0+CmrcJFixaJf1m2bJn4SjF37lylx6/u5Nmrc0F203Eh2rGh7L62XOjrCu3SnDt3Dh9//LHBr0S2Zj8d/6KPA7RDpYevtVrwpeMudAwiR44coBc0ewuprTRjY9YF+jBDX4rJaafSpk0b8ftFx/EsVbKa2+hl+J133hG78+XKlRO/F/Xq1dNcTalxqjemdAyFdrvpQ1TGYmmeL6/ddBSGjsSkF5oLaPciYzFmTCs9ILJ7x+jYsaM4ytWzZ89XmpUaJ2rrSc4FHXOk9wP6fZ45c+Yrx8wswTM754J2NUaOHJnlkVitmLJz8f+jc/Xq1WLXIqNzERERIba7bb3Yo3ORnJwMLy8v8VWbzh3bS6GFp3PnzmJcOzk52azZtEtBRyvmzZsnviLbi3Nx5coV8dJ4/fp1sRtH/UwONBfTCBizLrz55pvCic3oXEybNk0485Yo2c1tdDyQ7prREUn6/aAjXGfPntVcTalxqiemjx8/Fr9Tx48fR5kyZTKxsjRPU5wLY8a00gMiq3eMyZMni5fgv//+W3wQeblIjRO19bx27Zo4Ykq6jR8/XhypXrx4caZmLcEzO+di8ODBqF69OuholKGiFVN2Lv6fvqW2tpT+5TBFnr05F3TvgL6M+fr6Cg/f3gpt7xcsWBCjRo2yWdPpZY92H+lML11op5cAciKXL19usza/bJgxW/p2A8NEQ41ZF/R0hEfu3Kb1sRND3WBonOqJ6YYNG/DTTz+BjkZJFa15WvOxqN9//x0LFixAUFCQCIQgVbSYz7J7F8rqZ8bMEVK2mfJzQ/pQwBa6G3Tw4EGxOylV1GTKzsX/06dOoQvdNNCpc+hC98qVKy2yZSw1IJT+uT05F3Qekc7h06W32bNnK41Sl/ISExORO3duET3i4cOHaNeunbhERw6WPRR72bmgS/tPnz4V0aLo77RzQZGA2rdvbw/drIqNxqwLW7ZsEcdn0y90f/rpp6Bdb62LMXMbRcmjr+/0JZZ0pKODsbGxBr8aq6W/MeNUL0yJwfvvvy8+RPXt2/cVJJbm+fLaTVGYSpQo8eJCN0WPol20jMWYMa1037+sJx1Bpw97u3btehGJ6eU2jRknautJOxXpd6e+//57cVT+zz//tDhPUsDQextxpfvCxNVQ0ZIpOxcZeoAWBwozR+fT6YwlHZmx9UKXEOnl68aNG2LRoa/aH374oc2aHRoaCg8PDzg7O4vjAVSyCi9nKxCioqKEQ0Xjml4+u3XrZpHwk5biaS/OBYXKpCNvVOgFokePHnYxh6k9rgytC/TFlcqgQYNAL/V0Fp8WdvoCS2E1LXHfIqu5LS4u7oWu5ARRMAfa0cufP78IdNC8eXO1EWaSn9U41SNTCoBRsWJFkM4UfYdKRj0tydPQ2v3222+L+Z36nC710pEd+pBGR2EovD6NZSpavusY0pNegCk0OjlCVChyIXHNqKfW85khPWntoHCu5IzTrtTPP/8snA1L8iReWb239enTR7CkeSm9WIopOxeaTqvcGBNgAkyACTABJsAEmAATsF0C7FzYbt+yZUyACTABJsAEmAATYAJMQFMC7FxoipsbYwJMgAkwASbABJgAE2ACtkuAnQvb7Vu2jAkwASbABJgAE2ACTIAJaEqAnQtNcXNjTIAJMAEmwASYABNgAkzAdgmwc2G7fcuWMQEmwASYABNgAkyACTABTQmwc6Epbm5MigBljqUMsxTDed++fSKcplKFQs5++eWXL8RRCEZqQ4lCIYwpSRtlQ6aQfxTDu27dukqIVl1Grly5RGheKhS+cOPGjeLvFy9eFDHeKVa6i4uLSEqXJ08eEXqTMvtSOEMKvfnbb7+Jn1Mm27Zt22Lnzp0i1CUXJsAEmIBaBHitUIts1nJ5rdCeubW2yM6FtfacjeqdvmCYkpuA8jjQ5JdVSZetNDp6+e7QoQP279+vtGiT5VGeA2Nf8LPiQvHSyWEiB4PiZjdo0ACDBw8WTsWcOXNeJA0jR4OSC1GhPCnVq1fHBx98YLLuXJEJMAEmIEWA1wopQsb9nNcK4zjxU/IIsHMhjxc/rTKB9AWDEsGcPHkSVatWFQngKOvtmDFjRMI/Sr7z8ccfY+DAgeL/6YWWEttQspsTJ06AEgnFx8cjJSVFfGEfMGCAqDt9+nTxhb5evXpYsWIF0tuiL/GjR4/GP//8I5LlfPXVV3jvvfeE7IkTJ6JkyZKIjo6Gq6srli9f/ko224ULF4qkOvQslVatWmHGjBkikRa1QTps3rxZJK3asGGDSFaYsVDWzE8++QTHjh0Tyc9ITqdOneDm5obFixe/yBJPcmfOnInatWsbfJ52ECizLdlNMinTPGXgJVlU6IWf7HrrrbcytW/IuSAmpUqVAmWgJSclLCxM6LVt2zbBnXShRD5UatWqJVhRHxw9ehRjx459kaxJ5eHC4pkAE7BTArxW8Fphp0PfKsxm58Iqusl+lMzqaxS9wF+/fl28+JNz0aJFC5F9NDY2Fm+++aZ4+SdHhArtJFBW0ocPH6JJkybYtWuXyAT68kt0+v+vXbtWZAelDLuUqZzq0Jf406dPixfz48ePo1y5cqJNclBatmyZqUPI+aGX+I4dO77iXJCzQseM6GfkwDg6OgobMhY6qkVHqHr27Ik7d+6gadOmOHz4MMhm+n9ynhISEuDl5YUzZ86Io12GniceJJsycpP9ZPf333+P9evX4+7du2jYsCHOnj37yo4GOQ/0M/ovOWHknBEHcvDOnTsnVCVn7Y033hCc/fz8xHPpHNq0aYOpU6cKZ4p2j8qWLYvExET7GbRsKRNgApoT4LWC1wrNBx03aDQBdi6MRsUPakEgqwWDXt7ppZnO+FOhl+Wff/5Z3AGgl+/g4OAX6tEX9nXr1on/p7sb9LWdXpSzci5GjBghdjT69esn6vTq1QvvvvuucAQmT56MHTt2iH+nI0HkYJATkLG0a9cOkyZNEm1QybhzkTdvXrGTQE7GqlWrhKxFixZlqk8v5fRM+jEmco5IZ2rfx8dH7Mb88MMPwrkifbJ6nhwiciiWLFnyQr6Tk5O4A/H3338LR4F2VF4utOtCztOFCxfg7e2NoKAg0ba7u3sm54KOftHuCjlztDuR0bmYNm2a2NmhQjsmp06dQuHChbUYMtwGE2ACdkiA14rnH9J4rbDDwW8FJrNzYQWdZE8qZrVgvPPOO+J4k6+vbyYcL9/NoP+nr/fbt28Xjgi96JOzQf/Nyrmgy9j169c36FzQyzgdaaIydOhQ8WLfp0+fTDrQ7gY5KNTGy85FxjbXrFkjZNHxpYyFXspXrlwpjhe9XDw8PPDTTz+JOw/kTJETlNXzJDcyMhJz5859IYZ2FMgB+/PPPzMdscpqTJFttDNBvE05FkVy6RgZ7bTkzp3bnoYu28oEmICGBHityAyb1woNBx83JUmAnQtJRPyAlgTSF4yDBw+KiEv0JZ4KHRGii8R09IdeWul4EH0hP3DggPgan+4A0J0G2hnYtGmT+HpOx33ouBO9+BcrVkx8/U9/6U1vi77q04s7yacvQeRA0C4A1TfGuaAjQnSJmaJEmeJc0DGne/fuiUvStMNBR6IaNWokZJFjQfcd6N/oeBaVrJ435Fxcu3ZNHLOio0rpl64z9uft27eFE0Y7LHQUinYriCEdu6LdG3Iy0i90kwM2ZMgQca+DHBjiRTLpPkxERIQQe/PmTbGjQfdluDABJsAE1CLAawWvFWqNLZZrPgF2LsxnyBIUJJC+YKSmpqJ9+/bihZe+ptOlaNqRIKch/bIx3SWgl+6MDgDdx6A7A5cvXxY7AXT2P33n4osvvhD3HyhsqrEXuo1xLvbs2SOcE7rsbYpzQXdDaPeEwuKSbVWqVHnhLJFzQE7U+PHj8fXXXwv5WT1vyLmg54kjMaHdj5cLtUkXtHPmzImnT58KPT788EPxGB2TSg9FS84O2UdOCOlIuzjktJFjQsewyCGjQrsz5AzRxXMuTIAJMAG1CPBawWuFWmOL5ZpPgJ0L8xmyBCYgvtbT7knRokV1RePBgwfiKNWhQ4dQpEgR1XWj0LVTpkwxeMRL9ca5ASbABJiAzgnwWvG8g3it0PlANVM9di7MBMjVmQARoONBFGqWjg7ppQQGBop7JHS8jHYk1C6URI/udvj7+6vdFMtnAkyACVglAV4rIBKu8lphlcPXaKXZuTAaFT/IBJgAE2ACTMrr4PcAACAASURBVIAJMAEmwASYQHYE2Lng8cEEmAATYAJMgAkwASbABJiAIgTYuVAEIwthAkyACTABJsAEmAATYAJMgJ0LHgNMgAkwASbABJgAE2ACTIAJKEKAnQtFMLIQJsAEmAATYAJMgAkwASbABNi54DHABJgAE2ACTIAJMAEmwASYgCIE2LlQBCMLYQJMgAkwASbABJgAE2ACTICdCx4DTIAJMAEmwASYABNgAkyACShCgJ0LRTCyECbABJgAE2ACTIAJMAEmwATYueAxwASYABNgAkyACTABJsAEmIAiBNi5UAQjC2ECTIAJMAEmwASYABNgAkyAnQseA0yACTABJsAEmAATYAJMgAkoQsDmnYuSJUuiSpUqisBiIUyACTABeyEQGxuLxMREmzSX1wWb7FY2igkwARUJyFkTdONcxMfHw9/fH1evXkXOnDkxYMAADBs2zCCmAwcOoFmzZli1ahW6du2aLcrGjRsjMjJSRdwsmgkwASZgewRsee60ZdtsbySyRUyACeiBgJx5UzfORUJCAuiPi4sLkpKS4OrqivXr16Nu3bqZmKalpcHHxwf58uVDv3792LnQw4hjHZgAE7A5AnIWEmsz3pZts7a+YH2ZABOwDgJy5k3dOBcvo+3UqROGDh0qHImMZfbs2cidOzdo98LPz4+dC+sYk6wlE2ACVkZAzkJiZabBlm2ztr5gfZkAE7AOAnLmTV06FzExMfD09ER0dDQcHR1fUL98+TJ69OiBnTt34sMPP2TnwjrGI2vJBJiAFRKQs5BYm3m2bJu19QXrywSYgHUQkDNv6s65SE5OhpeXF8aNG4cuXbpkIv7uu+/is88+E/ct+vTpk6VzsXDhQtAfKnQhkS6hcGECTIAJMAHjCchZSIyXqo8nbdk2fRBmLZgAE7A1AnLmTV05F6mpqcJh8PX1xciRI1/pl6pVq+LZs2fi32/cuIECBQoIJ+Ltt9/Osg/lwLC1gcD2MAEmwARMJWDLc6ct22Zqf3M9JsAEmEB2BOTMm7pxLshp6N27N4oXLw66VyFVstu5yFhXDgypNvnnTIAJMAF7IWDLc6ct22Yv45PtZAJMQFsCcuZN3TgXoaGh8PDwgLOzswhFSyUgIABxcXHi74MGDcpEkZ0LbQcVt8YEmIB9EZCzkFgbGVu2zdr6gvVlAkzAOgjImTd141yohVYOjIw6nL6ahHWHL2NI62pwzJdbLfVYLhNgAkxAlwRMnTt1acxLSpliW0pqGpaFxaJ+hSJwe72ENZjJOjIBJsAEFCMgZ95k5yIL7IEnrqH/0kisG9IcjSoVU6xzWBATYAJMwBoIyFlIrMGejDqaYhs5F17Tg1G5REH8NdDd2kxmfZkAE2ACZhGQM2+yc5EF6os37qP1jBBM71of7zauaFaHcGUmwASYgLURkLOQ2Itti0MvYtLmE1g1oBnvXlhbp7O+TIAJmEVAzprAzkUWqJ+kPUXdCdvQr2VVjHmjtlkdwpWZABNgAtZGQM5CYo5t8fHx8Pf3x9WrV8V9uwEDBmDYsGGZRG7YsAHjx48XP3dwcBBBP1q2bPnimbS0NJEYr3z58ti8ebOkOqba9vBxGjym7USd1xyx7EM3yXb4ASbABJiArRCQM2+yc5FNr7f7fpfYAv/Fv7GtjA22gwkwASZgFAE5C4lRArN4KCEhAfTHxcUFSUlJcHV1xfr161G3bt0XNSj/UcGCBZEjRw5ERUWhW7duOHXq1Iufz5o1C5GRkbh3756qzgU1uGDXeXz3zyk+MmtOp3NdJsAErI6AnDWBnYtsunfw8oM4fS0JOz9rZXWDgBVmAkyACZhDQM5CYk47L9ft1KkThg4dCh8fH4Niw8LC0K9fP5w8eVL8/NKlSyKMOSVeJSdDzZ0Lai/50RO0nLoTrpWK4dc+TZQ0nWUxASbABHRLQM6awM5FNt04Y9tpzN91HicntUceh+fhcbkwASbABOyBgJyFRCkeMTEx8PT0RHR0NBwdHTOJXbduHcaOHYvr169jy5YtcHd/fqm6a9eu4t9p12PGjBlZOheUcJX+UElMTERsbKzJas8JOouZO85g8yct4VS+iMlyuCITYAJMwFoIyFkT2LnIplfXHb6EEauOInCkJ6qXLmwt/c96MgEmwATMJiBnITG7MdoRSE6Gl5eX2IHo0qVLliJ3796NSZMmITAwUDgSW7duxbx58xASEpKtc5FRoLm23X2Yipbf7USL6iWxoJerEuazDCbABJiArgnImTfZucimK49duouOc0OxoKcr2juV1XWns3JMgAkwASUJyFlIzG03NTUVfn5+8PX1xciRIyXFVa1aFQcOHMDMmTOxbNkycck7JSVF3Lkgx2T58uXZylDCtpnbT2POznPYNtwTtcryxyfJTuMHmAATsGoCcuZNdi6y6er7j56g3tfb8LlvLXzcurpVDwpWngkwASYgh4CchUSO3JefffbsmbgzUbx4cREFylA5d+4cqlWrJi50Hzp0CB07dhR3Lej/04uWOxfU5u37j9Fi6k60rVMGP3ZvZA4CrssEmAAT0D0BOWsCOxcS3ek+JQjur5fArPca6r7jWUEmwASYgFIE5Cwk5rQZGhoKDw8PODs7i1CzVAICAhAXFyf+PmjQIEydOhVLly5F7ty5kT9/fkyfPj1TKFp6TmvngtqcsvUkftlzAYEjvfB6qULmYOC6TIAJMAFdE5CzJrBzIdGVPReFIyklFRuG/hdTXde9z8oxASbABBQgIGchUaA5TUUoZVti0iOR9+JN53KY2a2BpjZwY0yACTABLQnImTfZuZDomYkbj2PNwUs4NrFdpi14LTuU22ICTIAJaE1AzkKitW7mtqekbd9sOo6lYbEIGdUKFYsXMFc1rs8EmAAT0CUBOfMmOxcSXbgsLAbjNxzH/rFtULZIPl12OCvFBJgAE1CagJyFROm21ZanpG1X76bAc1ow3nGtgCldnNVWneUzASbABCxCQM68yc6FRBftO3cDPRaFY0V/NxF2kAsTYAJMwB4IyFlIrI2H0raNW3cMf0XGY9fnrVGuaH5rw8H6MgEmwAQkCciZN9m5kMB57V4K3AKCMKlTPfi7V5GEzw8wASbABGyBgJyFxNrsVdq2S7cfoNX0EPRsVhkT36pnbThYXybABJiAJAE58yY7FxI4KUxi/Ynb0cWlPL7p5CQJnx9gAkyACdgCATkLibXZq4Zto9ccxYYjV7Dni9YoXZiP0FrbmGB9mQATyJ6AnHmTnQsjRlOnn/aiUN5cWNG/mRFP8yNMgAkwAesnIGchsTZr1bAt5sZ9eM8MwYctq2Lcm3WtDQnrywSYABPIloCceZOdCyMG08i/jmDfuZvY/2UbI57mR5gAE2AC1k9AzkJibdaqZdvwPw9j2/Fr2DvGG8UL5rE2LKwvE2ACTCBLAnLmTXYujBhIPwWfw/RtpxH9jS8K5XUwogY/wgSYABOwbgJyFhJrs1Qt285eS0K72bsxpFU1fO5b29qwsL5MgAkwAXYujBkDSiwi245fxcBlB7FxaAvUr1DUmGb5GSbABJiAVRNQYu7UKwA1bRuy4iB2n7mBvV94o0iB3HpFwHoxASbABGQRkDNv8s6FEWjPXU9G21m7MKtbA3RxqWBEDX6ECTABJmDdBOQsJNZmqZq2nbhyDx1+3IMRbWtiWNsa1oaG9WUCTIAJGCQgZ95k58KIQZSa9hR1xv+LgV6v81a3Ebz4ESbABKyfgJyFxNqsVdu2/r9H4kDMLYR+0RqF8/HuhbWND9aXCTCBVwnImTfZuTByBFEUkJqlC2NBL1cja/BjTIAJMAHrJSBnIbE2K9W27Wj8HVCUwdHta2FIq+rWhof1ZQJMgAm8QkDOvMnOhZEDaMDSSFy8cR87RnoZWYMfYwJMgAlYLwE5C4m1WamFbf6LIxB9+a7YvSiQhwOBWNsYYX2ZABPITEDOvKkb5yI+Ph7+/v64evUqcubMiQEDBmDYsGGZLNuwYQPGjx8vfu7g4IDZs2ejZcuW2fa/HBjZCZr67yks2nMBJye1h0OunDzmmAATYAI2TUCpuVOPkLSwLTLmFrouCMNXb9ZBf4/X9YiBdWICTIAJGE1AzrypG+ciISEB9MfFxQVJSUlwdXXF+vXrUbfuf8mIkpOTUbBgQeTIkQNRUVHo1q0bTp06pYlzsebgJYxafRQ7P/PC66UKGd0Z/CATYAJMwBoJyFlIrM0+rWzrvnA/zicmY/fo1siXO5e1YWJ9mQATYAIvCMiZN3XjXLzcf506dcLQoUPh4+NjsGvDwsLQr18/nDx5UhPn4kj8Hbz901784t8YPnXL8HBjAkyACdg0ATkLibWB0Mq2feduoMeicEzqVA/+7lWsDRPrywSYABOwHeciJiYGnp6eiI6OhqOjY6auXbduHcaOHYvr169jy5YtcHd3f6XrFy5cCPpDJTExEbGxsWYPj3spqag/cTvGvFEbg7yqmS0vOwGJSY/wV2Q8BntVQ86cOVRti4UzASbABAwR0OoF3BL0tbLt2bNn4mhUwp2HCPm8NfI48JFaS/Q3t8kEmID5BOTMm7rbuaCjT15eXhg3bhy6dOmSJY3du3dj0qRJCAwMzJaYHBhS6JtODoRnzVKY8W4DqUfN+vmsHWfwY9BZ/DvcA7XLZnauzBLMlZkAE2ACRhJQcu40sknNHtPStpDT19FnyQF818UZ7zetpJmN3BATYAJMQEkCcuZNXTkXqamp8PPzg6+vL0aOHCnJpGrVqjhw4ABKliyZ5bNyYEg1SOdnU56kYd2QFi8epS9TdGSKnID8eZQ5U/vO/H04GHsbP/dyhW+9slJq8c+ZABNgAooTUHLuVFw5MwVqaRutERSW9s6DVHFnjwOCmNl5XJ0JMAGLEJAzb+rGuaAJuHfv3ihevLiIAmWonDt3DtWqVRMXug8dOoSOHTvi0qVL4v+zKnJgSPXW+PXR2HDkMo5+3U48GnI6EbMDz+Dopbvo16IqJnT87/K5lKysfk7HrxpN2oG0p88wrkMdfOTJUUZMZcn1mAATMJ2AknOn6VqoU1Nr27Yfv4oByw5iVrcG6OJSQR2jWCoTYAJMQEUCcuZN3TgXoaGh8PDwgLOzswg1SyUgIABxcXHi74MGDcLUqVOxdOlS5M6dG/nz58f06dM1C0VLOvy29yImbjqB2e81xG/7YsSORYVi+VGsQB7E336A8C/bIK+DebsXO05cw0dLI4XNH7hVwuTOzioOFRbNBJgAEzBMQM5CYm0Mtbbt6dNn6PDjHjxOe4odI7yQi+/SWduQYX2ZgN0TkDNv6sa5UKvX5MCQ0mHP2UT0+jVCPFa+aH4M9a6Od1wqIPziTfHvc7o3QscG5aTEZPvziRuP488DcahSoiBKFc6LZR+6mSWPKzMBJsAETCGg5NxpSvtq1rGEbZujrmDoysOKrBNqsmHZTIAJMAFDBOTMm+xcyBhD9x89weg1UXCvVgLdGld8EfmDvkp5TAtG1ZIFsby/ec5A21m7UK5ofhTJnxtH4++I+OhcmAATYAJaE5CzkGitm7ntWcI2Oura7vtdcMiZE/8M8+BIgOZ2ItdnAkxAUwJy5k12LhTqmh8Cz+L7wDPYM7o1KhYvYJLUhLsP4T5lJ77sUBv3Hj7B/F3ncep/7ZGbM4KbxJMrMQEmYDoBOQuJ6a1YpqalbFt3+BJGrDrKwTos0+3cKhNgAmYQkDNvsnNhBuiMVS/feYiWU3fiE+8aGOlT0ySp6VnAt37qgeNX7uLzNVEIGdUKVUoWNEkeV2ICTIAJmEpAzkJiahtULz4+Hv7+/rh69aq4bzdgwAAMGzYsk8gNGzZg/Pjx4ucODg4i6EfLli2NqmtIN61se7ntJ2lP0WbWLhTO54BNQ1tmG4zEHKZclwkwASagNAE58yY7FwrS918cgXPXkrDnC2+TLuyNWHUEu88k4sC4toiMvY1uP4fh935N4VWzlIJasigmwASYgDQBOQuJtLSsn0hISAD9cXFxQVJSElxdXbF+/XrUrftf9D3Kf1SwYEHxMh4VFYVu3brh1KlTop5UXT05F6TLqgNx+GLtMSzp0wSta5c2Bx3XZQJMgAloRkDOmsDOhYLdsiUqAR+vPGSSQ0CheJsGBKHZ6yXEhb9r91LgFhCE/3Wqh17uVRTUkkUxASbABKQJyFlIpKUZ/0SnTp0wdOhQ+Pj4GKwUFhaGfv364eTJk6/8XKpuegVL2UbtP37yFK1nhKC0Y178Pbg5714YPzT4SSbABCxIQM68yc6Fgh316EkamgUEiQvf8z5wlSX59NUk+M7ejWnv1Ee3JhVBzkadCf+ip1tlfOVnfv4MWcrww0yACdg9ATkLiVKwYmJi4OnpiejoaDg6OmYSu27dOowdOxbXr1/Hli1b4O7ununn2dWlBxcuXCj+UElMTERsbKxSasuWs2x/LChv0or+bmhRPesksLIFcwUmwASYgEoE5KwJ7Fwo3AmTNp3Asv0x2D+2DUoUymu09F9DL+J/m09g7xhvEeaWCkUWqVS8IBb1bmy0HH6QCTABJqAEATkLiRLt0dEnLy8vjBs3Dl26dMlS5O7duzFp0iQEBga+eMbYuukVtLbtZWNSUtPg+f8RBlcNzOwkKcGSZTABJsAElCYgZ95k50Jh+uk7EF+9WQf9PYzPrt3vtwO4eOM+gke1eqERJdOLvXkf20d4Kawli2MCTIAJZE9AzkJiLsvU1FT4+fnB19cXI0eOlBRXtWpVHDhwACVLloTcuiRcS9uyMib9g9JfA93RtGpxSZv5ASbABJiAJQnImTfZuVChp97+aS8ePH6CbcM9jTpPm5r2FA2+2S4S8v3vbacXGn27+QSWh8fi5KT2RslRwRQWyQSYgJ0SkLOQmIOIjoD27t0bxYsXF1GgDJVz586hWrVqYh48dOgQOnbsiEuXLolHpeoakqeVbdlxefg4TUQYrFvOkZOlmjOAuC4TYAKaEJAzb7JzoUKX/BERh7F/H8O6Ic3RqFIxyRYiLt4SkaEW9HRFe6eyL55fFhaD8RuOI/zLNijjmE9SDj/ABJgAE1CKgJyFxJw2Q0ND4eHhAWdnZxFqlkpAQADi4uLE3wcNGoSpU6di6dKlyJ07N/Lnz4/p06eLULRZ1e3QoUO2KmllmxSX+SHnMfXfU1j/cQs0rFhU6nH+ORNgAkzAYgTkzJvsXKjQTUkpqWg6OQhdXMpjcmdnyRZm7TiDuTvP4vCEdiIzd3rZdSYRvRdHYNWAZnB7vYSkHH6ACTABJqAUATkLiVJtaiVHL7YlP3oidi8aVy6GRb2baGU+t8MEmAATkE1AzrzJzoVsvMZVoPsSp67ew57R3pIV3pm/D2lPn4mvVxlLzI37aDUjBNO61ke3xhUl5fADTIAJMAGlCMhZSJRqUys5erLtx6CzoA9MWz5tiXrlimiFgNthAkyACcgiIGfeZOdCFlrjH/59Xwy+3ngcuz9vjUolCmRZ8V5KKhpN2oHBXtUwyrdWpufoLkbt8f8a/JnxmvCTTIAJMAH5BOQsJPKlW7aGnmy7+zAVLb/biZY1SmJ+T3khzC1LkVtnAkzAngjImTfZuVBpZJy7noS2s3ZjShdndG9aKctWdpy4Btrl+OOjZiI/xsuFwhU2qFhUJNbjwgSYABPQioCchUQrnZRqR2+2zdh2GnODz2H7CE/ULFNYKTNZDhNgAkxAMQJy5k12LhTDnlkQRUChDNsUYnBuD5csW/lq/TGsPXgZR772QV6HXK881+vXcNCXrY1DWyquafiFmzh+5R76tayquGwWyASYgHUTkLOQWJulerPt1v3H4u6FT90y+OF9/pBkbeOJ9WUC9kBAzrzJzoWKI2LkqiMIOZOIyHFtkTNnjldaevr0GdymBKFJlWJZZvQet+4YNkcl4OjX7RTXlByX8Iu3cGpSe4P6pTd47noyuv+yHxSPvWrJgorrwQKZABPQHwE5C4n+tM9eIz3aFrD1JBbtuYCgz1rxPGttA4r1ZQJ2QEDOvMnOhYoDYs3BSxi1+ii2fuohYpm/XA7E3MK7C8LwY/dGeKtBOYOaLNx9HgFbT+EoRZIq8F8kKXPVfvzkKep/sw0pqU8R8WUblM4m1G26HeM61MFHnsYnBjRXRz3Wp4v3waeuw6tWKeTO9TxsJhcmYIsE5Cwk1ma/Hm27npQCj6nB6NigHGa828DakLK+TIAJ2DgBOfMmOxcqDoaEuw/hPmUnssrWPWnT8yR5h8b7oFBeB4OabDt+FQOXHcTGoS1Qv4JycdDTc2tQo38PaQ6XbPJxzA48g9mBZ+FduzQW97HvcIn0ZfHbLSexoKcL2ju9puLoYdFMwLIE5CwkltVUfut6tW3ixuNYtj8WIaNaoWLxrAOByLeYazABJsAEzCMgZ95k58I81pK1vWeGoHLxAljSt2mmZ+lORovvnmdnzS6+OYWzbT97T7a7G5JKGHgg3WGgH2W3c0I/p90X2r0onNcBhyf4wMFOv9jH33qAdt/vxsPUNIxoWxPD2tYwBT3XYQJWQUDOQmIVBmVQUq+20Qcpr2kh6Nq4AgKMyJFkbdxZXybABKyXgJx5k50Llft5/PporD10CUcmtEMeh/+O0RyJv4O3f9ortr+7ulbIUosHj5+g7oRtGNWuJoZ6K/cySxnBbyQ/woXE+/iifW0MblUtSx3eXxgm7mY8ewZs+LiFiF5lb4WcQf/FETgUexv5cucSkb2yu6hvb3zYXtsjIGchsTbr9Wzbl+uOYU3kJewa3QqvFclvbWhZXybABGyUgJx5k50LlQfBv9EJ/8fedYBFdXTRE8Xe0dh7b6BiV8CK2Gs0sdf4G2OPNfbeS9SoMZaoscXYYkOwgCIKCgooKlawoGIFO2r+7w55sLtsebP7tgAz38eXyE65c95y37tv7j0Hg/4Mwq5BdVGzuH3CanOPXMX603cQOMnNYC1FzdnH0LDs11ioUB7uu4+fWb0FsUTtPH8PrRwK6FUSJxaT4rmzwPfmU4xvUR6DGugORMwMp9Wm3xN0H6P+CsaMdpXgfT0aD1++g8cIV6vZIxYWCJgbAZ4bibltUXp+W94bnZA2WuSNHnWKYVrbSkpvXcwnEBAICASMQoDHbyoeXLx58waZMmVCmjRpEB4ejmvXrqFFixZIl065YmQeVHjA4JlXbt+Xbz+i2kwvDG9SBiOalmXD6C04KW8Xtc+MLf1rG5yq8xo/fPXVV4ytSYl2+kY0eq4PwKZ+tbDA4xq+zpYBf2ikbUnrfPr8BeUme2Bww1I4cvkRCuXMxMalpvbs9Qc0XeLDGFz+HlQP8z2uYaPfXYRNd0+1KWKp6fqn1r3y+k5b8/36rhvv3iz9HRizKxj/BD/E6XGNkDdbRksvL9YTCAgEBAJJEODxm4oHF9WrV8fp06fx4sUL1KlTB2RM5syZsXXrVqtcKh4wzGVg25W+yGCXBrsG1WNLhD2MQcvlpw0K7En2/PRXMHxvRsP/56aKmEgPx7+fuo2Qac0wcucl3Ip+g2OjGmid+/6Lt3CefxLzOzng8oMYluJFtLipiSlpxI6LOBQahUPDXJjA1a4L9zDm7xCcHC0oIxX5QopJbBIBXt9pa74/OQcXd56+QZPF3hjgUhI/t6xgk98PYZRAQCCQuhDguScoHlw4OTkhKCgIK1aswLt37zB27FhUq1YNFy9etMpV4AHDXAbOO3KN8ZfTQ3mWDHZY4hmvxnp+YlPkzprB4LLLj9/AEq9wXJvZnOX7m9ra/XoG6dN+xYKdmQfDsM0/EmEz3NnpiGY7e+sZ07jYOqA2E/MbvDUIu3+oh+rFcplqhqzxpAVCQn8OhXPI6q90J+/rT9Bn43kMa1IGo9ziT54uRr5Ah1V+WNuzOppVyq/0kmI+gYBNIMDrO23N9yfn4IJsH77jIrzCHsN3XGPYZ0lvE98JYYRAQCCQehHguScoHlxQILFq1SqMHDkS69evR6VKleDg4IDQ0FC9V+TevXvo1asXHj16xFKqBg4ciOHDh6uNodOP+fPns99lzZoVq1evRpUq+vnAecAw11dGSkPa2LcmGpXLC7clPsidNT12DJSX5rT/0gMM33EJniNd2ZtzU1rM+zhUne7JisPpYXmD7x3MOBiGwEnaAx3pLb3PmIbIljEdnGZ6YYx7OfzYqLQpZsgee/zqY/TfdAGHhjmjUkHLBhhvPnxi7FAZ06XB4eEuCQrqse/j4DDNE2Obl8PghpbBQTZgoqNAQCEEeH2nsb5fIXO5puHdG9fkCnW+8TgWbktPYUij0hjtXk6hWcU0AgGBgEDAOAR4/KbiwYWPjw8WL16M+vXrY9y4cbh9+zaWLVuG5cuX691NVFQU6IfefsXGxoKO2Pft24eKFSsmjPPz80OFChWQK1cuHDlyBNOmTYO/v7/eeXnAMA5uw6Pex1EBtSd61y2Gb2sWQdMlpzC9bSX0rlfc8GCVN+W/96oBt4r5ZI3R1elY2GMM2HwBOwbWQZ2SueF55REGbgnUyQK11Cscy0/cwPWZLRjbVfNlp5Anawb8OcBwrYhJhv43WNKVmNfRAd/VKqrElLLnkIq4t31fG/VK5VEbV3fucdQtmRtLvq0qez7RUSCQnBDg9Z3G+n5rYMK7N2vYSGv+8GcgfG88he/4xsiRyTp1i9bau1hXICAQsC0EePym4sGFKhRfvnzB69evkT17UnVqQ5C1a9cOQ4YMgZubm9auVNNRuXJlPHjwwOaDCzKw69pzePkuDi0r58dir3Ccm9AE+XPIK9R78Sa+KFyXGJ8hLFU/J+G+rf4RrN4ig11aXHn4Cq2W+2JVdye0dEgqCkf1Hn63nuLshCZsGhJ52nE+kqV40Xhzt9mHwvD76TssMJverrK5l1Ob/9eTN7Hw6HWt6Wg91/vj5ds4HBjqbFGbxGICAUshwHMj0bTJFN9vif2ZsjdL2CetIflnOmWm1EzRBAICAYGAtRDg8ZuK2wL6ZQAAIABJREFUBxfdunXDmjVrkDZtWnb68OrVK4waNQpjxoyRjcfdu3fh6uqKy5cv6wxMFi1axJio1q1bl2TetWvXgn6oRUdHIyIiQvba5uq48sQNLPIMZwxRebKmx57B9WUvRexSdPLRvmohzGxv2gO25skD1VFUme6Jn1uWx0DXpBSz3/52Fl/+/TehGF1SDCfmqlolEql1ZW+Gs+OQbUE4GBKFWsXt8dcgeWlknEvo7D5l/2Xsv/SQBVKabfqBK9gRcA9XprsjTZqktSpK2SDmEQhYCwGeGwnZqITvt9ReefdmKbu0rTNg03lciHjBai+yZrCzpilibYGAQCAVI8DjNxUPLqpWrYpLly4xdqjAwEBWI0FBRkhIiKxLQicdDRo0wMSJE9GxY0etY06ePInBgwfD19cXuXPn1jsvDxiyDDSyk1QETMMntqyA711Lcs3UesVp2GfJgM0m0MASpWr1WceS1Ew4TD2Kjk6FtJ4MkIo4BRFL/0v/efU2DlVnemJEE8soVH+z2o/dWLNltEPI1GZai865gOToPGhLIG5Fv4aXFiYtKoInsSvfcY1QOFdmjllFV4FA8kCA13ea6vstiQrv3ixpm+ZakuCqIbFTa9oo1hYICARSPgI8flPx4IIKuCm4oLdYlNZEgQIVXQcHBxtEPi4uDq1bt4a7uzs77dDWKEjp0KEDq7koWzaevUdf4wHD0FymfE56EdVmeCH2wyecHtsIRez5Hkh/3BrEUpi8xzQy2oxDIVH4cVsQ9g6uh2pFE9me6DSD9CvW96mpNreqxsVPzRILClstP80e9uUWpBttMAAKbh7HvMenL/8ahZspa3dYdQZZ0ttprS85f/c5Oq85C6lI35R1xFiBgC0iwOs7TfH9lt4/794sbZ/mepSGSRTmpHuROb04vbD29RDrCwRSIwI8flPx4IIKt+m0ggKKQ4cOITIyEj169GDaF/oapf707t0b9vb2rABcW6O5GjdujM2bN6NevXjNCEONBwxDc5n6OWlKPHj5zigxPEmbguho7dKmMcqUiXtDWZrPpSluanPQsfv9F0kVp0kp1mVBvMbFtzUTi6lnHQzD5nMR7CRBCWpcXZshGtqyk46gRvFcOHf7ucWpXymwqV3CXmvRtlQHY8wplFEXTwwSCFgYAV7faazvt/C22HK8e7OGjaprSi8zJreuiP7OJaxtjlhfICAQSIUI8PhNxYMLbXh/+vQJdnb637ZQipOLiwujrSUqWmpz5sxhwQm1QYMGYcCAAdi9ezeKFSvGfkdzXrhwQe8l5gHD3N8VOgn48i8Y6xJv23k+EuN2h+LUmEYompvv1ENaq/Eib6YyrXlCQUXafwfeR+g09bQjVY2L+qUT2ZIkelhtLEq8+9LX/0nse9SafRyUDrDg6DWLpWKRTRTslpvkgX7OJTC+RXmtZtaY5YXG5fNiwTf66ZCVxETMJRCwFAJK+E45vt9S+1FdR4m9Wdru79aexe3oNzg1tpFZX+pYel9iPYGAQCB5IMDjNxUPLqiAe/r06Th16hRDi9KipkyZghw5LKtRIF0qHjBs+fJKD/pUc+Fa9mtuU6NevUPduSe0Mk6RWvfsw1cRPKUZcmROpDtU1bgoljtLwpoJWhmNSmOUSroUt1EGBoTef4U2K33ZicWcw1dRPn92rOlZXelltM4nnUxMbVMRfetrf1NIN/uPn75wFedbxHixiEBAAQR4faet+X59EPDuTQE4TZ7izM2n6L7OHzPbVULPuvJozE1eVEwgEBAICAT+Q4DHbyoeXHTq1IlRxFKKE7UtW7aweos9e/ZY5QLxgGEVA2UuKgUHxt5YJM2Gw8NcULGgOjXwkdAo/LA1CAeHOqNyocQgUFPjQtXUtit9kcEuTQKLlMxtcHWTNDgODHHGKu+buBoVY1LNCc/i1x7FoPmy0/i1mxNaOSal6KW5Ju+7jH2XHli80JxnH6KvQMBYBHh9p635/pQWXNBpaqfVfngc8wEnRzc06gTc2O+CGCcQEAgIBHjuCYoHFxJjiOpl0PY7S10mHjAsZZMx61D9QcWpHuhWqximtEkUFpQ7F+lVnLj2GIGT3JJQp0onBL/1rA73SvkTptTUuFBda+7hq9hw5g5CprojU3rz6F1sPnsXU/ZfwfmJTUHsTMuOh+PyNHdksQAd46nwaPTaEIC/B9VFjeLaKXcl+/x/boJ82eVplsi9XqKfQMDaCPD6Tlvz/SktuKD9nLz+BH03nk9SB2ft74pYXyAgEEj5CPDcExQPLurWrYuFCxfC2TleXOzMmTMYPXo0zp49axXkecCwioEcixKrU8GcmbBBg9XJ0BT0xotSopyK5cSq7knTip6/+QinmV7QLBbU1LhQXUe6yf3RtyYalstryASjPqcidlLoJnXwY1cfMyXx3T/UQ/ViiUxXRk0sY5CUEqavxsXv5lN0W+ePP/vXhnMZdQVvGUuILgIBm0aA13ca6/vv3buHXr164dGjR6zebuDAgRg+fLgaNvv378fkyZPZ51RrR6Qf0j3Gw8OD9f/8+TOryxs/frxBXHn3ZnBCC3UgX9525RmQPtGJnxoYTe5hIXPFMgIBgUAKQoDHbyoeXFAKFN0oKP+WWq5cubBp0yY4OjpaBWIeMKxiIMeipLsQ/jgWJ0Y35BgF3HwSi6ZLTmFuRwd0rZXI+iRNQjesSlOP4ruaRdVORfSxJb39+AmuC7yRN1sG7PuxvlmO6Ildi1hSSDxKYq6a1b4yetSJL+g3Z9Onzi2tKxWcT2tTEX101GWY00Yxt0DAnAjw+k5jfX9UVBTox8nJCbGxsUwXad++fahYMfGElvSPsmTJwnRuiI68S5cuTESVAgqiJPfy8kLhwoVRs2ZNbN++XW2sNox492ZOnHnnloRMl35bBR2qFeYdLvoLBAQCAgGjEODxm4oHF5LFMTEx7H+zZ8/O3jKNGDHCqM2YOogHDFPXMvf4eUfi3+Tz0tFu8L2DGQfD9OpEuC3xYUxSa3vVYNuQNC5+bFhKZ9G2VBMxrEkZjHIzrDnCi0/XtecQ9/kL/v6hHmNvIpXytlUKYnYHB96puPtP3X8Zey8+QMg0d51jyaaqM7zQ2rGARWzi3oQYIBAwAQFjfaepvr9du3ZMI8nNzU2r9XQK3q9fP1y9epWdiE+bNg1Hjx5lfefOncv+O2HCBL07N3ZvJsCp2FBKkW25/DTzjZ4jGyBtmq8Um1tMJBAQCAgEdCHA4zfNFlyoGle0aNEESllLXzYeMCxtG+96xtLR9t0YgLvP3rIiQF2N+jyJ/YBDw1xYF+mkYEEnR3SpWUTnODpd+Cf4Ifb/WF+tGJx3b9r6N1rkjUoFs2NlNyf2cZc1Z/Hpi2XYmfSpc6vaSgriadJ8ZZR2iRIYiTkEAuZCQAnfyev77969C1dXV1y+fJm9mFJte/fuZUHDkydPmIYSpWH9/fffoLSodevWsa5EIOLv74+VK1cmgWXt2rWgH2rR0dGIiIgwF3Rmn/dA8EMM3X4RK7tVQ2vHgmZfTywgEBAICAR47gkWCS6KFCkCyqu1RuMBwxr28azpf/sZvl17Dpv61UIDmXS0Hz59RtXpXuhcozBmtKusc7lJ+0JxIDgKwVObsT5+t56i2+/+2DagNuqpaFxoTvDqbRyaLfNBjkzpcGCoMzLYJS3ufvPhE9J89RVX4TedClSY4oGedYphYqv49Ag6TdgVeJ8VddMDvTlbx1VnmL1bB9TRu8z43SHwDHuMoMna37Ka00aa+/OXf0G1Kd/VLIKSX2c193Ji/lSEgBK+k8f3U+oTUZdPnDgRHTt21Ik00ZzPmDEDx44dw65du9iphWpwERAQgBUrVui9UkrszZpfBfq7d1vqg/Rp04AYAM3tD625V7G2QEAgYBsI8PhNiwQXvG+vlISRBwwl1zXHXE9i3qPWnOOY3rYSeteTx3Mu6WOQVkQzFSYoTfvW+NwCpV2RkF62jOnw14V7GPt3iCzRvpPXnqDvH+cxuGEpjG2eKDhHN8A/z0Vg0dHrqF48F/7oW0s2LC/ffmQpR6pF5jsCIjF+Tyh8xjSEqu6G7Ek5OuqrN1GdhtLUZh26isBJTZE7awaOFZTpGvYwhqVIULBJQadoAgGlEFDCd8r1/XFxcWjdujXc3d0xatQog1soUaIEzp8/jxs3bqS6tCgJHIle3JBvNwim6CAQEAgIBGQgwHNPUCy4yJYtGyu202z0Bvrdu3cgpVZrNB4wrGEfz5qEZeWpR9G5RhFMa1tJ1tCFR69hjc9tXJrixoIGXU06ZvcY4cLE6pZ4hWPliRu4NrOFrGLtsX8HM5VvYnOqVjQXgu+9xKR9lxH64BXyZc/AuNm9RzdE8TyJYnz6NkCaFi1+OY1V3Z3Q0iFeZ4LmbPfrGazp4YTmlbVrT8gCxUAnSZ27r3NxTGhRQW9vn/Bo9N4QgJ0D66B2ydxKLM/mOBb2GGN3h8B7TENk13Pd9l68j5E7g9mY3T/URfVi2mlzFTPMxiciuuWqRXLBPkt6G7fU9s2T6ztN9f3090a6SPb29qw+T1u7efMmSpUqxe4xQUFBaNOmDe7fv59Q0H38+HEUKlSIFXRv27YNlSrp949y92bLV4nq4hovjj81/mdIfa33X1u2X9gmEBAIJC8EePymYsGFrULEA4at7kHVrpa/nEbe7BlknwKQ2B0dnVNRtL52MfIFOqzyw/reNdCkQj6M+usSzt16Br8JTWTBQqrdzZeeQsb0aVGvVG5s9Y/E11kzsJOHmsXtUX/+CXzvUhLjWySebOibWKK6VaWefffxMypN9cCQxuYpIJfskdS5p7SuiH7O2tW5pb4PX75DvXknoDSLFaU6rfa+he3f10HdUrqDlrlHroIK9ukBo2y+bNj2vf40LlkXM5l2kti7BrqWxM8t9QeFyXSLFjXbUr7T19cXLi4ucHBwYFSz1ObMmZNQpzdo0CDMnz8fmzdvRrp06ZApUyY1uvPDhw8zwhBijqJCb0qrMtQstTdDdpj6uXSaa05KcFNtFOMFAgKBlIEAj98UwUUyu+Y/bg3ClYevZClV00Oy0ywvjGhSFsObltG7U+nBTEq56vLbWeBf4K9BdWUjdPpGNHquDwCVQ1DaFjFISaclAzZdwKV7L+A3vomsk5DtAZGYsCcUfuMbM20PqTVe7I1SX2fF7/+xWsk2jqPj9UexcF92SlaxpDGnSXJMoWJNOk0yFOBQIX7Uq/fsNGvmwTCDwYictZNrHzrtGbD5AioXyo6DQ+OJCUQzHgGeG4nxq1hnZErZ28dPX0DEF/lzZGSCn9qyB6yDsFhVICAQSGkI8PhNEVwks6u/wOMafjsVT0ebLm38Wz5d7WDIQwzZdlGW8Bw9JJef7MGCAnrrK7fmQHNtr7DHKJQzEyoWVGd6oXSVfn9cwOruTmjxX5qTPtultKzrs1qo7fPHbUEsPYq0L8zVJHXuXYPqslMXQ63dSl8WRP05oLahrrI/b//rGVy69xLfVC+MRZ2r6BxXb+5x1Cphj3mdHNFg4UkUtc/MmKtS40PGEs/rWH7iJig78+JkN+TMLFKjZH/htHTkuZGYso41xqakvW05exeT91/B1Dbxp8RFcmVG9kx2qdIHWOO7JNYUCKQWBHj8pgguktm3Qiq0JlpZ0qXQ14jJ6FBoFHvQsjMQiNA8dCpQPn82/PJdNZSbdARDGpXWqXHBCxsVdzvPP4Ey+bJhs4zCY6rhoHoG/5+bqi0liduFTGumtxaB1z7V/lQ7MnpXsOzC8Z/+CobvzaS2mmJDjVleePr6I6PileiBNecjld4q0z0xrnl5/NCwFKSHDMLXVSabmCk22trYXhsCQIxqHz59wZoe1dG8cn5bMzFZ2cNzI0lWGwOQkvb2Pu4zq0+78/RNwmXIlsEOhXJlQhH7zChM/83133//+7e++rvkdi2FvQIBgYBlEODxm4oHF8Qv3r17d6bMbQuNBwxbsNeQDaRY3XnNWWzsUxONyufV2Z1OIpznn2QpIr/1jBfGM9R6rvcHPbD+2s0JLgtOwpDGhaH5ND9f6hWO5SduMAYquunpa2RLzPtPTD9DtUknIPR2nt7YG9OiXr3D24+fWXqVtiYFMFdnNJdFnysxbRGNL9U+UHv94ROIqYvwL5AjMa1Ljr1UW0I0vOnt0rDUtCsz3LWeUml+F4h2uPEiH+Qh1fTB9VLVm0v6vleb6YXG5fLiyOVH6FKjMKbroV6Wcx1Sex9e32lrvl/f9ePdm61/F8hn3Ip+jfsv3uL+i3dMp4j+y/7/xVvm71RbzszptAYdFIRQUJI5vZ2tb1nYJxAQCFgYAR6/qXhwMWnSJOzYsQNOTk6suI6oBa2ZosEDhoWvk1HLRcd+QM3Zx9gReN/6uouNb0e/ZkwiPIXGVONAqtsrulWTpXHBu4EHL9/BZf4J/NioNH5qVk7v8GZLfVAyT1as6VldrR8FBnXnnsCMdpXQq648Ol7Nhfr9cR6Rz9/i2KgGWm2Y9s8VEM2jPnVu1YHHrz5G/00XWDH8szcfcfTyI5y++RSUD20orUmbATcex8Jt6Sk0KZ8Xx689gcTgpdl3y7kITN53GWfGN2apaNSkAk+pMN/QNaKAhOxM7m8yI5+9hevCk5jdoTKOXnmMqJfv4KXj+hrCRHwejwCv77Q135+aggt9e6XA+8XbuISAg4INCkLuPafgIz4IodM+1ZY7S3oU1nHqQb4mY7qkekbi70YgIBBI2Qjw3BMUDy4IWnJmnp6e2LhxIy5cuIAuXbqgf//+jErQ0o0HDEvbZsx6hK3DNE90ciqk983sJr+7mPrPFdmpPWSL9MaeirppLJ0wFM2t/4SBdw9UgBwWFYMz4xrrTdVymHYUnZwKJ6Hcld5Qt6icH3M7OvIuH//QNOsYnr35ADqZ0HaT/OHPQNx48lpn8KG5aMSzN2iw0Dvh13Tzda+Un6VK5cyUnqsoniaRTmfmd3LAuN2hWNKlCjo6FU6yVxI+3H/pIUKmNksI4OM+f0GTxT7ImsEOB4c6GxTXmnUwDOfuPEv2BdASlTLt2ffmU6bZcn5iU3ydzfLaI0Z9KW1wkDG+05Z8vwgu5H2p6JpFv/6gceKReAJCL4XiPv+rNlnebBl0plzRSS07dRVNICAQSFEI8NwTzBJcEJrBwcEsuPDw8ECjRo1w7tw5uLm5YcGCBRYFmwcMixpmwmKtV5yGfZYMemsXiJ0p/HEsTo1tJHul/ZceYPiOS2jlUABHLkfJ1riQvQDATkYGbglkbE9uFfNpHUopRaTnQbS1gxokDUi7rj2Ht3Gfk6RMybFDYsWivgeGOMOhcI4kw+Sqc0sDv3z5F9MPXEH2TOlYUEF1EnRaR7UYZ289lU3nK823+exdTNl/BWcnNEbDhd7oVTdRpVzV2M5r/PDvv0hCM7w78D5+2hUsSw+E6hRC77/ExSnxyuzJtc0+FIZNZyNwZbo7SCOl7cozWN61GtpWKZhct2R1u431nbbi+0VwocxXiPzb49j3SYIPdvLx8i0evnwPqqmTGrEF5s+eEYWpzsM+E5pXyq9XwFUZK8UsAgGBgLkR4LknKB5cLF++HJs2bUKePHkwYMAAtG/fnnGTf/nyBWXKlMGtW7fMvX+1+XnAsKhhJiw2ZFsQQu6/0hk40NvrajO80LZqQczp4CB7pQt3n+ObNWdBR+IZ7NJwPxTLWYiEn0gXwqFQDqzvU1PrkJtPXqPpEh/88l1VtKtaKEmfGQfCsC2AHiSbIy3dyTiaJHpHQ4iFidKWNBsVnhPrytJvq3LMnLQrrxChNAM9KG8+G8EYwUg0MFtGO2wdoK5fQW8bHad7sofn2RrXmG70VBBOBc2GTneaLzuF29FvED67hUl7tfbgLmvOIu7LF+wdXJ896FSd4YnWjgUM7t/adtvy+ry+09Z8vwguLPPtIp/+KOZ9QprVPVbrEX/yQb7l6esPoJPm6e0qIW+2jJYxSqwiEBAIKI4Azz1B8eBiypQpLAWqWLFiSTZ29epVVKhgWXErHjAUvxJmmnCx53WWwqRLPVsq9OVVsn706j3qzD3OrK5V3J47nUfudhcdvY5V3jdZrYC2YmffG0/RY72/TtXrXRfuYczfITj+UwOdRdm6bCFhOhKoS5f2K1azoim2xqPObWi/ErMXb3rZoC2BCH8SixM/NQQxfnmGPUbgpKZqtUtS7cnMdpXQU0vtSavlp0GpCxv71tJrZrUZniwfO3yWPCV2Q3u2xucUTFAaXRcV5Xo6ubvxJBY+Y+Sf3FnDdltek9d32prvF8GF9b9d9KJr7anb+OX4DWRKl5bp9nR0KmTVOkzroyIsEAgkTwR47gmKBxcEWVBQEEh1lVJD6tevz4q7rdV4wLCWjbzrSmkvuh6uie9/5cmbLNVFYi+SswYdf5ebfITl13asVghLTHxzr2tNYjIhNqqRTbWL+0nBg66H8ssPXqH1Cl+s6FoNbTjTXoZtv4jAiBcMF2JV0qTFffn2I6rO8GLK4v0NqHMbwtTv1lOjCuMp7S13lgzY1K8WpNqZcxOaMKEsqUkK5rpYs/r/cR4PX73HkeG6xeSomLvcJA82ZTB9VzLHM10ltyaJHqrWppBq+YyDYWrF7sltX/RdDLjz3GopJcb4Tlvy/SK4sJ1vPJ1Gj9sdwnxvg7JfY05HhwQSCtuxUlgiEBAIKOU3FQ8uZs6cib/++gsdO3ZkNu7btw+dO3cGMYlYoxlzg7SGnTxrkoPutNqPsRM1qZC0boEE2EhIjFJEeBsJsUU8e4thjZXTuNBmA1HN3n32hhWNa7KJrTxxA4s8w1lakLaCa2I3opqMPvXjBf94GqVbFc+dBdkz2sHv1jOc+7mJ2nAedW5D60pB1IJvHNlbdbmNtCvaVCmAWe0d2MMlqaVrUg8n0N/qCAp+3hsKj8uPEDTZTeeykn3UQVMJXa6tttBPOiEi9q/SeePpha89ikHzZad1pr7Zgt2GbKDTvQUe16FKcWxojJKf8/pOW/P9St0klcQ0Nc9FJ4ykxbPg6HVQMivV1HWvXcwg6URqxkzsXSBgSwjw3BMUDy4o7enixYvImDH+Leu7d+/YyQWlRFmj8YBhDfuMWfP5m49wmumFSa0qYIBLSbUpiNmD1LVHuZXFsCZluKfv9vs59tCttMaFpiF/novApH2XtaY2TdwbyrQK9D0YUy1CRrs02Pm/urL3SGJTFad4YEjjMsicPi1jFNJ8Y3/6RjR6rg9gKtfG6mhIBlFKABMjbFyGXQ85LeZ9HByneWJCi/L4X4NSkP49xr0co/CV2sidl3Du9jOcnaAeHEmfLz9+A1TzcX1Wc2Sw004bGRjxHJ1Wn2VDjo1yRem82eSYaHN9GGvWxYfsITzNfzU4dApHlM0Nyn2NJV1Mq52x1obp72CrfyR8xzVixbGWbry+09Z8vwguLP2NkbcevdQg2nNidSMfO7+To0FBWHkzi14CAYGAORHguScoHly0aNEC27dvR86cOdkeX758iR49euDgwYPm3LPOuXnAsIqBRixKdQH0dpsKtunttmqT3nby5vlLc5Ay9l8X7mPbgNqoVzqPEdbJGyK9NdeWfkQpPVGv3uOwnpSeKfsvg9LDSItCblF38L2XrECaalEypEuLvhvPJwkieNW5De2WAr3aJe1lP+CGPYxBy+WnmZBhK8cCbHqXBSfgWDgn+53USJGXaioodUpb++v8PYzdHYLTY3ULFh4OjcLgrUFsOIkVVikS/zeb3FqbFb6s6H3b9+pF7z9uC0JQxAt2KmNNrR1j8aS/A306J8bOK3ccr++0Nd+vb5+8e5OLmegnDwG6h+26cB8zD4UxnR16+UJpqHZpBYWtPARFL4GA5RHg8ZuKBxfEDnX+/HlGO0s3dC8vLzg7OyNv3ng1aWIUsWTjAcOSdpm6VruV9ECVDn8OqJ0wFTnsZktPMUrU3T/UM2oJ6Y23scEJz6JNFnujUK7MSeoeWv5yGgVyZNTJJkVrSEGA10hXlMkn74379oBI9saM9maX9ivGWjWzfWX0rJNIPiAFZ3LVuQ3tl1iMKAeATkLktKNXHuF/WwLxz5D6LKCg9r8tF3Dj8WucGN2Q/ZtORCpNOYq+9Ytjgo60MO/rT9Bn43n8PaguahTXrmS+8cwdTD8QxuY0FExS0PPt2rPwHOkKXsVxOfs2tg/VjVCKXH/nkizNQrVJp2MnRzdMlm9GKYAkWl1919BY3OSM4/Wdtub79e2Rd29y8BJ9+BF4HPOeCYESaYVj4RzsFKNCgez8E4kRAgGBgNkR4PGbigcXREOrr/Xu3Vvrx/fu3UOvXr3w6NEjpEmTBgMHDsTw4cPV+l67dg19+/ZlBeOzZ8/G6NGjDYLJA4bByWyoAxUmB0W+gO+4xglWXXn4Cq2W+yZ5YOYx+87TN6CC6tHNypk9F5YoZbf6R7B0FtXaCkr5IupCTYpV1X1IKta66GS17ZluYvsuPmDrUU0KUbm2r1qI4SU1UufeHXQfodPceWDT2XfUzkvwv/OcFRbLaetO38asQ1dxcbIbcmVJz4YsOxbO2FZIwyFzejtIe9clrkdjpJqDld2qobWjdq0HSguj2g1q+nRH6HNJA8VQECJnj0r2uXTvJajGaHV3J7RwiD/pkZqkUk+q3ZTbndyaxOS1sW9NNCoX/3LGko3Xdxrr+y25J2kt3r1Zw8bUsia9FDsUGoWp+6/g1bs4DG5UGj82KqUznTO14CL2KRCwNQR4/KbiwQWB8fHjR4SHhzNcypUrx3QuDLWoqCjQD9VnxMbGonr16qwYvGLFiglDnzx5goiICPb7XLlypergQtJQuDozMaee9BH+8LuLgJ+bJjyYGsLdmp9LmhN/9K2Jhv89PFFdRPnJHhjdrCyrVdDVqDjQkVS8qxfGjHaJwYG+/Xyz2o8FFbsGxZ/q0L/TfPWVGuXu4K2BoKLu4z/FnxKY2iTmruuzWiCdjCN/Cm4tVpPQAAAgAElEQVQouLs83T0hlUcSHtwzuB6ciubCwZCHGLLtIg4Nc0algklFAMlmifVKW12OtCcKfPZeesCE+HRpikh9t/lHgorEVdO1TMVGifGS4CAFb6SMrtrooaXu3BOoUTwXVqqklCmxrrnnePfxMypMiWfyMoYVTQn7eG4k0nrG+H4lbOWdw5i98a4h+vMhQLWEMw+GYe/FByibLys7xahWNBffJKK3QEAgYDYEePym4sGFt7c36HSiePHioJs7nUjQGy1XV1euDbdr1w5Dhgxh6VWabdq0aciaNWuqDi72XryPkTuDEwpx6WG77tzjLG+e3kInh0aBBNWOdKtdFFPbVGImRz57C9eFJ7HwG0d0NsCw9O1vZ/H+0xdZSt1U4EtaCCSaN/2/YIQelg+FROHSlPgUPmrEwkUCgpr5+8biKaf2QXXuAZvOM/EpjxGJfy9SfYr0Bp50TlZ530LYDHedb/fob4+CtN71dDNq9VjnDzqpIhIAEluk66Cr/X7qNmYfvopZ7Sujh0oambG4KDWOVNApSD0/sYnWugoKoOjzCxo6IUqtb6556Lo0WuTNpp/b0QFda+m+NuaygedGQjYo5fvNtR/VeXn3ZgmbxBrxCJy49hgT915mwnz96pdgp+iZ0msnpRCYCQQEApZDgMdvKh5c0InDtm3b2IkFNTrB6Nq1KwIDA2UjcPfuXRaMXL58GdmzJ82/NBRcrF27FvRDLTo6mp12pLR2MfIFOqzyS0hnkYTnVnV3QkuN9BBb3nvvDQG49+ItE4yj5n/7Gb5dew5/9q8N5zL6C8rnHL6KP87cZW/509vpLwS8+/QNGi7yxryODvjuvwc1bRoSVDxdvWguLPuumiKw+d18im7r/LH9+zqoWyq3wTndl55CEfvMWNc7MUDUVOP+fvMFFhQQ9aq+RrTCVQrnxPKu2vfitsSHaWecvvFUK/OY6txLveJTswydKBncoMIdiFq4mH1mnfU5kmbK0RGuKJdfXm2OwiYaNZ30vaHBE1tWwPeu6qxwRk3KOYjnRkJTK+H7OU00ujvv3oxeSAw0CoHY93GMzY/Y0oraZ8a8Tg6oV8p8BCNGGSkGCQRSGQI8flPx4MLR0REhISFqkGv7na5r8vr1azRo0AATJ05M0MrQ7GsouFDtzwNGcvqeSGkv0oPHqL8uwevKY5yf1FSrNoSt7k0SO5NYjaTcflXNAl22S+lBqsXPuvoeCY3CD1uD1Aqlicr1u7XnGOMSCTsxde7JHuhbT3ehNC+OEc/eoMFCb1knMbQ+FSfTic20tvEnOVIjrYtPn79gz+D6cF1wEg6Fc6ixR2mzy1AxOaWVtataCFvORegUNJTmpXSF9b53GKMLMXzZQnv94RM7jRrRRLsYI9l4/8VbOM8/ialtKjJF9uTSJKFMspcopeVSGSu5P17faarvV9J2Q3Px7s3QfOJz8yBw9tYzjN8TwrSX6PRuQsvyyJ7RcJq1eawRswoEUjcCPH5T8eCCCq6pILtnz57sKmzduhWfPn3Cxo0bDV6VuLg4tG7dGu7u7hg1apTO/iK4iIem6gxPdkpBefU1Zx1jhbvzv3E0iLMtdbgV/RpNFvskpNtI4nB0GpE1g51eU6V0IU3GJ22DpFQiKoqWisclvRApQFNSnVuygWgWSfV8WOMyGGlA60KyRxs9L9VikFic/89N4DDNEz+5lcVQAzomQ7dfRMj9l/AZ0ygJJFJO/9jm5UAMYb3r6g+oxu8OwY7z99DRqZBsWl1zf8/owaPr7+dgqOCZTnDK5M2mdhpkbttMnV8SkqQTuR61i2FKG8sHdDw3EtqvKb7fVLx4x/PujXd+0V85BMhXLT0WDiK7yJstIyg9VJt4rHIripkEAgIBbQjw+E3Fg4sPHz7g119/ha+vL3sTTOlNgwcPRoYMGfReLepLtRr29vZYtmyZ3r4iuIiHh1hySAzu25pFMHzHJdmpN7b0Z0PX3WXBSZTPn509/PGwNdFYYpZqWiEfFnauondbpBkQ+fwtvDRSiUhozbXM11jcpQrCH8cyKl+lC2ipFoaO9GkNfU3S4VjbszqaVcqv1lWq3Vj2bVWM2HkJv/WsDneNPppzU4H/5rMRTOlcU+dBOlFZ3LkKKL2suQF2riHbgnAwJAqNy+fFhj41beIr9JvPLcw9co2JLdr/x6ylzTCqrfnn0kNcnOImq6jeFjZHAnqkQ0ICiK5l82DBN/q/O+awmedGQusb6/vNYbuhOXn3Zmg+8bn5ESBmuHF/h+D641i0q1qQ1enp+7s3v0ViBYFA6kKAx28qGlx8+fIFdDROtRK8jYIRFxcXODg4sJMPanPmzEFkZCT7/0GDBjGaWtpcTEwM60NF3WFhYVrrMqT1ecDgtdna/UmlmWoUKJecGI6IllZSKLa2bTzrk8LynqAHuDSlGYhil04zNIMAXfP12RiAqJfvcXSkfsKAenOPo2YJe/yiUUvRc70/Xr6Nw4GhzlBSnVvV3s5r/JjQ346B+rUuqLichN8OD3NBxYLqtUah91+hzUpfuJb9GqfCo+EzpiGK5c6iF2aJ1lZThZwGBdx5Dkq1otqWCXtDUKOYPZZ+q1vJuu/GAJy8Ho1qRXNi7+D6PJfXbH1/3BqEkAcvcXqsfppfKSXOWnoRxgDQ7z8hSdI0IeacVd2rGzONSWN4fKcpvt8kI40czLM3I5cQw8yAAJ0E/3ryJkiPiHSeKH20jWOBZCmSaQZ4xJQCAbMiwOM3FQ0uaFfdu3fH3LlzUbSo5dlNtKHKA4ZZr4oZJv/l2A12XEwPrgNdS2Jcc3URMTMsaZYpvcIeg4qUt31fG/M9riN7Rjts6Z8oDqhvUYmSl9KoSANCW3vx5iOqzfTChBbl8b8GpdS6UC0BaW1cmd6caWD8tCsY3qMbonge/Q/uPEBQEHj+7nM1TRJt46WUsNBpzdiNU7URs1alqUfZaSCldV2e5m4wkJRqUrQVMx8IfghKmyIRQvovFU2u1cMyRvUbAXefMzE6EqWzhUbq51WLqiuXa7Pr1ds4VJ3pKSs1zRb2RTaQgF7BHBnx7M1HJoq5WYcSuznt5fWdtub79WHDuzdz4izm5keAdHzoFCP4/it2ck2pUvmyZ+SfSIwQCAgEZCPA4zcVDy4aN27MFLpr1aqFLFkSH9D++ecf2RtQsiMPGEqua4m5pOJnWouUk8vKVKq2hG08a1BhLgmG9XMuwR7wqbhabhrI8auP0X/TBaaAXauEdiVqiXmHHtDozb9qozqGsX+HsAfmI5ejsMDjOqN41RWo8OxL6rvo6HWs9rmF6zObw06P1gWlwpCYFJ3gaGvNlvog/PFrRje8/0fDpwcU0HReczahYF11zoRTjanNQG/JM6VLq6b2rrk+qaaHRcUgZ+Z0Ou0zBhtjxzx7/QHVZx3Dzy3LY6CresCobU5StCfsjVWuN9ZOY8dRPVUrhwIsle/Nh0+skN/Sjdd32prvF8GFpb8xll2PCC42nLmDxZ7hjC2Qag+71CgiTjEsexnEaqkIAZ57guLBhY+Pj1aoiQHKGo0HDGvYZ8qaVKzbduUZVCyQHYeHu5gyldXHdl17Dk9ff2ApUSSeJ5cdJzr2A6huQp9YnPQgfX5iU3ydTb32R6pzWNOjOog9ilh6Qqcro84tgbojIBLj94TCd1wjFM6VWSfWRMtLRd2UoqWtDd9xEfsvPcS3NYrIKtyXCt4XdHJEl5pF1KakOgsSoLs6ozl6bQgABXj60p2oKJoYW0gO5Obsluy0zJpNYvra0r8WXMqoB4za7Fp4lNTIb7O6C1tnm5GK7ce4l8PlB6/Y34TnSMv7T17faWu+XwQX1vwLtdzaRMs9bncIS/WsXzo35nV0ZHTeogkEBALKIsBzT1A8uBg3bhzmz5+vtiNtv1N2y7pn4wHDUjYptQ49ENaZcxzjmpdDz7rFlZrWKvNIKUG0OK9oGNVTVC9uzwqxtTWi6SUdkICJTZN8/PbjJ5ZuNLJpWdBRu5Lq3NJikgbJjoF1UKekbq2Lxou9US5fNqzuoT2/XipgntK6IjvlMdQ+fPqMcpM8WKBGdKaqjQIVKpAkJqlBWwKZboa+upUas7zw9PVHNsXFyW5mU4D3uBzFuO3plEmzCF3VfomqlU6cKFXLUJOYpbQVyxsaa+nPb0e/RuPFPqBiewqiztx8Cr8JTSxtBqtvu3Dhgux1jfX9JLTaq1cvVlNHtXQDBw7E8OHD1dYl1kHpvkK1dqtXr0aVKvFF7kuXLsW6devY94Vq9oiZMGNG/SkyvHuTDYLoaBUESCR1W0Ak08YgQVkKzElA1NovQawChlhUIGAmBHj8puLBhZOTE4KCgtS2xqNzoTQmPGAovbYl5ot5H4dsGeyS/VHw1agYlmdOzRC1qCau9HB89VGMVspV6tt82SmWj0t6FtoavZWvXDAHHse8Z2xC2wfWUfTSSQJ+izpXYQrh2hrdHMtP8UAfPYraUhE2pfZUL5ZLlo3EptVCCxPUd2vP4ssX4K9BdUHBl//t5zgzXndhdLlJR5AjUzo8if2AEz81QMmvs8paX+pEKXzE7GLolIEK2qmwnRS182TVzTAn1Rtdn9Vcp0q5qoEUaFWd7oXONQpjxn8K7VwbsGBnKY2PapCoHulvOk2bpuxpmpzt8PpOY31/VFQU6IfGx8bGMjG+ffv2oWLFRPpdPz8/VKhQAbly5cKRI0dAjIH+/v548OABnJ2dGbFHpkyZ0KVLF7Rs2RJ9+vTRu0XevcnBS/SxPgIPX74DpZcS+YRT0ZxY8I0jSudNPuKZ1kdQWCAQ0I0Aj99ULLigN0mrVq3C7du3UapUYg403Szq1avH9C6s0XjAsIZ9Ys14BKhQufac4+zh9chwF1QokFSZXRdWxBxCtRKXprghZ+b0at2IXaTSVA8McNFd8C4pXtMDqJLq3JIhNG/5yR56xd6exLxHrTnHMbNdJb2nUPRWm+fBngKrwrkyYV1vdfrYxou8UaFgdibEN3nfZVDx90UdtR6U21x64hF2sw6KfMnqFuQGNxIGRMdbIEdGg7UDUvrV3sH1UK2o7gBqzK5gnLoRDf+fk55G6fqeELNY5LO3OGEjBem67KRgYvSuYFYHtDfoPlacvInbc1pa/AWCXN+ptO9v164dhgwZAjc3N60QvXjxApUrV2aBBf3UqVMHwcHBjDWwffv2GDZsGJo10163JE0od2/CPyc/BOhesu/SA0w/EIa3Hz5jWJPSjMiDXhyJJhAQCBiPAI/fVCy4ePXqFcjpT5gwAfPmzUuwPlu2bEy7wlqNBwxr2SjWjUeAHhh3Bd7nTruhtJHu6/xZKo1mwfaVh6/QarkvlnethrZVCmqFWiq4piN0fScHplyn2nPi9TR06XEERjxHp9VnsbFPTTQqn9eUpdTG0gM11bIcHKpek1Npige+rVmUibPNPXIVG8/cRfisFlrXJbalKjM8GX7/BD/E+t41uESsiOmqwhQPdnMnEUNdN3lpHTJC3/Wiz7v9fg40L0+hs1R7Qyc0hXJmUgxjpSeSBPRIn4TqYuYcvsZwy2JAVFJpO+T6TiV9/927d5k2EtGZU7CgrS1atAjXrl1jqVDUfvnlF0ycOJGdXFBQoetF1tq1a0E/1KKjoxEREaE0ZGI+G0KA/N7Uf66wk1B6WbXwG0dULpTDhiwUpggEkhcCcu8JtCvFggtViD5//ozHjx8zZW6pWYualgeM5HWZU561N5+8hmfYI/zQoBTXW9pX7+JQZbonRjcry4rBVduuC/cw5u8QHBvVAKXzak/lkWhZaZy+wnBTEO+02g/p9aRcEUsWieMdG+Wq6DE+KWsfu/qEpRlJjWp1Kk89mkDNu+L4DSz2CseN2S20Pvg/ePkORPs6uGEprPK+BX3pXdowouvadEk80cOBIc5wKKz9Bi8FidSPcqZ/bFRaJ+SuC06iapGcLAiR26iexn3ZKczv5MACK1ttkoAenSRt848EiQCSMrulqTaN8Z2m+P7Xr1+DiD8oUOjYsaPWy3Py5Ekmykq6SLlz52YvtDp16oSdO3ciZ86c6Ny5M7755hv06NFD7+U1Zm+2+n0RdulH4OiVR5i07zIjyyDK9uFNyjA6b9EEAgIBPgR4/KbiwcXKlStZPmy+fPkSxPCo0C4kJIRvFwr15gFDoSXFNFZAgNJ8SuXNit81tBpmHAjDtoB4HQtdxX2SMjeZbeiNubFbowLqoMgXOgXfVN9WK3njW+oVjuUnbrBTCenEgNiHmiz2Aal9t69WCOt974D0PoKnNmN1FZpNwmdOBwf2oMsbgJ289gR9/zjPpp3ZvjJ61immFcbV3rcw3+MaU50nBd65HR219qOCzfKTj+hNddM2UEq9I8rild2cjL2UZh9H1MCPXr1nDHB0UkTCkvqCY3MZxOs7TfH9cXFxaN26Ndzd3TFq1CitW6J7SIcOHVjNRdmyZVmfXbt2wcPDA+vXr2f/3rx5M86dO8dSdPU13r2ZC2Mxr2UQoFPRWYfC2Ml4yTxZGNtezeLWy6iwzK7FKgIBZRHg8ZuKBxelS5dmhXb0VskWGg8YtmCvsME4BEbsuIizt5+p5eDTAxqlBWVIl1avLgSpIFec4oG4z/9i58A6qK2H0ck46wCiQv3N5zYo1UWb1gUJQh2/pn7CYOxaquO2B0Riwp5Q+I1vjIL/pQL53XqKbr/7M9HCeqXyQKLKPTuhMQrkSJouREFRx1V+2NCnBr7fHIhBDUpijLt8wcY/ztzBtANhyJguDVo7FmQnH9oaKW6HPniFXJnTMRHBPwdoF1KMevUOdeeeYMJZ3WtrD1R0YTdq5yV4h0fjwsSmBkUIlcDfmDkkAb31fWpCCsz2/VifndRYsvH6TmN9PwV9vXv3Zumzy5Yt07rFyMhIkI4GBQ9Uwyc1utf069ePaStRWhQVcpPdQ4cOFcGFJb8syWSt0zeiMX53KB6+eofRzfSfjiaTLQkzBQIWQ4DnnqB4cNGoUSN4eXnBzk67WrLFUPhvIR4wLG2bWE85BDb43sGMg2EsfST2/SesPXULey8+YLSExA7UQ8fbcskCKny+9iiWFdHKoTbltVx6yNeV7081BO/iPuvVmuBdk/qfuPYY/f64gD2D68HpvwJpKQXr+E8NUOrrrAbfjtMNuef6AOwaVJfR1rpXzg86xZDb6PRox/lI1C5hj/sv3sFrlHbNBpcFJ+BYKCfwFZi+A9Hkamv6xAEN2bQn6D5G/RWMg0OdbTb/mgT0WjsWwKz2Doy7v8tvZ/Fn/9pwLpPH0PYU/ZzXdxrr+ynFycXFhdHIEhUttTlz5oACCmqDBg3CgAEDsHv3bhQrFh9M0v1FosmdOnUqS4ui31WrVo3VYmTIoJtpjMbz7k1RYMVkVkWARClJd4jSYZMDNbVVwRKLCwRUEODxm4oHF/3798f169fRqlUrNQev66jb3FeOBwxz2yLmNx8CUkF0pYLZmZI01Td8W7MIvncpKUtQiVJPKAXFXIWz0gO6LiVxY2oI5KApFbSv7u6EFg4F2BBJL+PydHdkzWAHSeWcVL9J/VuzkfbEoD+DcHiYC4ZuD0K5/Nmwqrt2LQ5tNg3YdAH3X7xFi8oFsOx4OEKmNmMnE6rt5duPqDrDC+NblMfLt3FY70unPC20prIl1qforqPRhY3EyjWueXn80NCwsrccjJXsoyqgRzUnYQ9j0HL5aazp4YTmleOvn6Uar++0Nd+vDyfevVkKc7GOZRAgMojOa86CaMJJtLS4DK0cy1gmVhEI2C4CPH5T8eBi+vTpWpGht0vWaDxgWMM+saYyCNDNovpML5Zy1LtuMSaglFuPToLmqlT0tzfoAdb0lP/QzGO5JIy2pEsVdHRS17qg0xXSkfgfZ7qRnPWfvf6A6rOOYWqbiuhbP154j04Sdp6PxJUZzdm/JYE5KU1Kc16pKP7UmEZMEyO9XRps+16+FkizpT4oljsLOz0iFfJtA2qjXmn1t/BS8LV1QG3cffYGE/deZrob2lidTK1PIXtIqX3rAPl7kIO1En00vyeSyjox3XSuoa6yrsR6Sj6A25rvV3Jv5sZazG95BOhvq81KX+TPnpGdGGdKL4q8LX8VxIrJCQGe52nFgwttQBFrlLXSpHjASE4XWdiaFAHKxc+eMZ3FKTvlXAsKfkjrQptaNr3Vd55/kluZXM66lM9OKt19nYtjQosKbAgJ1V19GJOg9xBy/yXarjyDdb1qoGnFfEmmlWomAic1xbjdoSD2KNIikdNofaKh7VG7GIY0Ls1OJ8Y2L4fBDdWZoCStkuApzRB8/yV6bQiALkXzCXtC4BVmfH0KBVd/+kewExQli+fl4GGoj6qAHtXDvHjzEdVmeqkFh4bmUOpzJXynNX2/CC6U+iak3Hm8r8eTTXSoVgiLO1fhYilMuaiInQkEtCPAc09QLLgglVTKnaXWs2dPbNmyJcE6bcqtlrp4PGBYyiaxTupEoNbsY2hY7mss+Ea9oPnc7Wf4bu05s+XVO88/wZhRln5blQHfeY0fSzfaMbAu+7fEHvXLd1XRrmqhJBfn15M3sfDodVaMToJ7vjef4uyEJrIuopSGNKNdJfSqWxwNF55kaVW/9ayhNv6HPwNZOhvVWdx5+gaNFnkzXnptb+t7rvdHzPtPeov09RknFUlv6V/LoGK4rE0q2EkS0PMe3ZClapAIZNlJR/CTW1kMbaJOs6zgslqnkus7bdX3i+DC3N+QlDE/Mer9cvwGqyPrVtt2KapTBtpiF8kZAbn3BNqjYsEFFdJdvHiR4ab6/9r+bUlwecCwpF1irdSHQMdVZ9ibcs2UIintyGdMQ5Y+pHTT1Nig+o5qRXPil+/iNSKIVavO3OM6T06IHvb3U7eZDsbcI9eYsBvVQ8hpF+4+xzdrzuKPvjXRsFxeECWv/+3nOPezenBCARCxIRFFrKRoPrRxGXbSo9ko8Kj4n7q4HBs0+7z9+InpovSrXwITWsaf5thK05byRSlzfeonnjxZyla5vtNWfb8ILiz1TUne61BaKp1enLv1jJFWaKs7S947FNYLBJRBQO49QdHgQvV0QvOkQpxcKHNhxSzJGwEqGqeUH00WJFII/9X7Jq7PbMHqGZRuRPF6NSo+DYrSlCg9i2pSfv7vwTrmfRwcp3nq1K+Ysv8y9l96yHQwpPQlOsWQk1K0O/A+ftoVjBM/NUDJr7Ni45k7mH4gDOcmNEH+HBnZVqXUnwktyuN/DeKLrOvOPY66JXNjyX+nLRImX0jjYooH+tYrblJgQKc3n778qzg7l6nXjnREPC4/QtBkt4Spaszygnul/JjNwdBlqh00Xu6NxFZ9vwgulPgWpI45yAe1XhGfeUFMcrmypE8dGxe7FAhwICD3nqBocFGyZEksXrwYX758wZgxY7Bo0SJmMj3MjB07Frdu3eLYgnJdecBQblUxk0AgKQJ0ArDutDoLUsSzN+ymViF/dvw1KD5NSekmUcESE1bMu0+oMkM9kPj0+QtKTzyCkU3LYnjTpKk3VMRNpw1UYC1R6urSxNC0XRLxkwInSTNjTY/qaF45P+t+Kjya1VioFpR3WXMW/+Jf7BqUqGlAfaU0q5ntKqFn3eJGQzVy5yVG80p7sqWmKqAn2UWpZPQ2VTppspS9cn2nrfp+fTjJ3ZulsBbrWB+B4HsvGYNUnVK5sbFPTZ2iq9a3VFggELAOAjx+U7G0qL59++rd7caNG62CBg8YVjFQLJpqENjqH8FYkKQHcyryppQl0n6gt2VF7DObBQvS/Jhz+BpCpjVjKVDNlp7Ciq7V0KZKwYT1WOqNjtOA/225gLtP3+LoSFeo0tJSapKhpvkQT3uuPPUovnctCaKDpSbVdJB9VJBPjQIav5vPkqRPBUa8YJjRzb9R+byGltf5+ayD8UXdV2c0t6kiTtJbKZwrE9b1rplge+sVp5EvW0aQqJ4lm1zfaau+XwQXlvy2pIy1JB89omkZjGiaNCUzZexS7EIgYBwCcu8JNLtiwYVxppp/FA8Y5rdGrJCaEfAJj2ZUrJTXSwXWpJxNJwHre9dAkwpJWZqUwmr/pQcYvuMSjo1yxaNXH9BjvT809TacZnqhpUN+Jtym2Xqs8wfVKewZXD+RtlYLnaw2ezXrPahPmxW+yJbRLqH2hIT5rj+OFzCUmnTiQelXGewSKSJJi4TSyzxHuqJsvmxGQ7Ta+xboJMlcuibGGqYqoCfN8d3as/jyL9g1s2RLyb4zJe/Nkt+RlLYWZVpQGicJsNILDKoTE00gIBCIR4DHb4rgQnxrBAIWQkBiZVr6bRX8+y+9nQ9mQm7SG3xzmaHKRvU45j27eWoWj5M6ds1i9klqHMimdr+eQfaMdtjSvzauPYpB82Wn8Ws3J7RyNCzqVmPWMTQpnxfzv3FM2B4xTtHNm6hg06T5CvXnnYBTsVzsNEVqEmuSVKsh/V6q+TA1KFDV7iia2zwnRrzXU1NATxpPIoQPX77DYZn0v7zr6urPcyNRak1LzZOS92YpDFPqOvR32GHVGTyKeY8DQ8x3opxS8RP7SrkI8PhNEVyk3O+B2JmNISBpXVA60rGwx3AsnAMkGkfCf+ZspELbcJE3FnWugiex77HA4zpLB1IVjaJ0nGK5MyehiCW7mi7xQZm8WbG6R3VQcFJ7znHMal+ZieLpa3TaUXHKUYxxLwdSm9YMHLxGusI+S3om8vdzy/IY6JqomO1/+xm+XXsOm/rVQoOyXyeMnbg3FIdDo3BxSjOTIJPoaPcMrgenorlMmkupwbqEFim1jNLBTo1tpNRSsubhuZHImtCGOqXkvdkQzMnWFPKZdMJKdNB00iyHvCLZblYYLhCQiQCP3xTBhUxQRTeBgBII0Jv8p68/MIXoQ8OckTdbPGOSOZsU1NBDfnTsB+wJuo+Qae5qSxJNbpYM8acTmo2Ym+qXzsOCE6KJJVG+0c3KYkhj/boL0imHZn3HzSexaLrkFOG/IKAAACAASURBVNOxIBz6bDyP7d/XQd1SuROWpjf19eadSBLEUFrZ8zcfcWCos0mQScKBv/eqATctwoEmTW7k4DM3n6L7Ov8kWNBJz6HQKDUGKSOX4BrGcyPhmtgGOqfkvdkAvCnCBM8rjzBwSyDTviANDNEEAqkdAR6/qXhwsWvXLjRv3hzZsmXDrFmzEBQUhEmTJoHoCq3ReMCwhn1izdSFQPtfz4AebLcOUH+YNjcKpOvQtkpBFtjcePIax0Y1UFuShOnefIivq9BsDtOOopNTYUxrW4l9VHGKB7rWKorJrSvqNVu6Of8zpD4cC+dM6Et0so7TPdG+WkHkz54RizzDWbG5VMxNHYl7vvzkI+jnXCJBWZx+32SxN6u1oFMUUxqpjFM61ryODviulm0IZ2kK6En7o9qQ9afvIHy2PG0RU3BRHcvrO23N9+vDgXdvSmEq5kleCNDfHtVn0YuVb6oXTl7GC2sFAgojwOM3FQ8uHB0dERISwtS6J0yYgNGjR2POnDnw9/fXu8179+6hV69eePToEdKkSYOBAwdi+PDhamOo2Ip+d/jwYWTOnBl//PGHwaCFBwyFr4OYTiCQBAHv60/w5sNnWfUKSsLXbKkPiufOwoILSoei4Ea1qTJCqf6e/uZK/XyY1YaMcY9nd6KH8tol7bGkS7zit65GtLuzDl3FpSluyJlZnTe+2+/nEPv+EwrkyIibT14zDQ7NRhSslQrmwK/d419MkC0VpnigR+1imGQgsDGEneppjmrKlqFx5vxcm4AerSexaV2fpV7cbk5baG5e32ms7zf3PrTNz7s3a9go1rQ+AkTT3XN9AIhCe+/g+ky8UzSBQGpFgMdvKh5cSGqtFFg4ODigW7duSRS7tV2YqKgo0A+dcMTGxqJ69erYt28fKlZMfDtKQcWKFStYcEHBCgUahoIWHjBS6xdG7DvlI0AnEzHv4vD09UfULpG0cHsU6T7cfQ7fceq6D1KRMRWdU4BBrdXy08iXPSM2GKBGJfG9fVS4rZGCRXMs8LiGtaduM7EqEstbrlLMLV0Nyeb9Q+JToCgworSyaW0qok/9EiZfNKLE7VyjMKa2iT+RsXbTJqBHNm3yu4up/1xB4KSmyJ01g8XM5PWdxvp+i21IZSHevVnDRrGmbSBAqaREB011F/8McUaOTPF02aIJBFIbAjx+U/HgonXr1ihUqBCOHTuGwMBAZMqUCbVq1UJwcDDXdWjXrh2GDBkCN7dEpdr//e9/aNiwIbp27crmKleuHLy9vVGggG7WGh4wuAwUnQUCyQiBMcQQFR6NF28/or9zSYxvEX8KIbVJ+6hQWl0Zmj6jG2vN2cegKlpH1LRvPn4yqG7dZ2MACwgODnVJgtTRK4/wvy2B7PeTWlXAAJeSSfoQVS/1k9SqSeSKmKvW9aqBpgrUSTQgcbrCObUGNta4tCSgRwXzh4ap4yWpnGsyfJnbRl7fqZTvN/e+aH7evVnCJrGG7SIQGPEc3/52jlHTru1ZnbHciSYQSG0I8PhNxYOLt2/fwsPDg51alClThp1GhIaGolkz+ewud+/ehaurKy5fvozs2ROPIenmNX78eDg7x7/JbNKkCebPn89uFKpt7dq1oB/2cBQdjYiIiNT2HRD7FQioIbDY8zpWnLjJfje1TUX01XjzP/fIVfxx5i6uz1LP65eYppZ0qYKOTvE5x0O2BeHKwxg1XQptcDde5I3yBbJhVfek9RES6xSN2zGwDuqUTCzmlubSpJ09FBKFH7cF4chwF1QoYHp6AhWxa0sRs9ZXR5uAHtkiBWIktFi5UA6LmcdzIyGjlPD9ltoc794sZZdYx3YR2HjmDqYfCMPY5uUwuGEi+53tWiwsEwgoiwCP31Q8uLh16xYKFy6MDBkysFMFqr+gWoqcORMLOvVt9/Xr12jQoAEmTpyIjh07qnVt1aoVq+NQDS4WLFjAUqh0NR4wlL0MYjaBgO0g8Oe5CEzad5kZtKq7E1o6qJ/2LT9+A0u8wnFzdgs1atzLD16h9Qpf/NazOtwr5Wfjib3oQMhDXNJDB0sF2RUme7CCbM1TEgmVOnOO43Hse6Z3ke0/ZW5VxCTBPI8RLiifPzt+87mFuUfilcZVi7+NRfn7zRdw7/lbeIxwNXYKRceRgF4bx4KY2b6y2rx+N5+i2zp/nUGYokaoTMbrO031/ebah7Z5efdmSdvEWraJANV8Dd1+kVFh/9m/NuqVzmObhgqrBAJmQoDHbyoeXFStWhUXLlwAnT64u7ujbdu2uH79OquTMNTi4uJApxM0btSoUUm6i7QoQwiKzwUC2hHwCnsMepimtvuHuqhezF6to1R8rfngLgnwkR4H0dFSW0KnICdv4ubslkirIz1AYmMiCkeictTWSL8h/HFskjQgqe/FyBfosMoPEl2svhoOY677hD0h8Ap7gguTmhozXNExugT0aBGJNlepdDC5hvPcSGhOU3y/XJuU6se7N6XWFfMkbwSIUY9SM1+8+cj8Vv4c5qcST96ICetTEgI8flPx4IIKsol+lk4UqN5i6NChsgq66a1A7969YW9vj2XLlmm9HocOHcLKlSsTCrqHDRuGgIAAvdeOB4yU9CUQexEIqCIQev8V2qz0Zb86PbYRitirq1JvD4gE1TicndAYBXJkShh6/Opj9N90Aft+rI+qReJPHzf43sGMg2G4ONmNFWRra2dvPUPX388xkUApKNHsRyJ7cZ/+RY7M2gskpQLuKa0rshMQqkl49Oq9YkrVi45eB6VeUZBk7RxqSUCP1Ns7VFOnvJQ+++W7qmhXtZDFvti8vtNY32+xDaksxLs3a9go1rRNBEinp93KMyiXPxt2DKyL9HbmFUG1TRSEVakRAR6/qXhwUbt2bYwYMQKzZ8/GgQMHUKJECVSuXJnVT+hrRF3r4uLCajWIipYaUdhGRkay/x80aBCjoqQib6rpICrajRs3Jqm30FyDB4zU+GURe04dCJAyd63Zx9lmtVGa7r/0AMN3XGL6F6XzZk0AJfH3riidNxv7/d6L9zFyZzBO/NQAJb9O7KuK5M7zkRi3O1RrICMXcfp7J4Xv72oVYYxOEp3u2l7qNVZy59PsJ+VQU8E4KYVbs+kS0CObpGsnRxVdyT3w+k5jfb+SNsudi3dvcucV/VIHAgdDHmLItovoU694gv5P6ti52GVqRoDHbyoeXISFhWHNmjWoW7cuY3W6c+cOdu7cyQqxrdF4wLCGfWJNgYAlECDhurKTjiBbRjtc1FIrcSzsMQZsvgBNwbtt/pEgilTVE42T15+g78bz2P1DPVQvlkur+QuPXsNvPrdxbWZztRoO3r1SQFHUPgt+71UdRB3bpWZ8oKFEk2o6vEa6oky++MDJWk0S0NPGCCWlTFHtyqAG8XTAlmi8vtPWfL8+jHj3Zgm8xRrJC4EZB8Kw4cwdxjZHAqWiCQRSOgI8flPx4ILA/fjxI8LDwxnORBebLp31eKF5wEjpXwyxv9SNQL25x5E9UzqtBcxSGtP279WVw38/dRuzD19F6LTEoutL916ClMY39KmBxuXzaQWVGKVCH7yCz5hGJoHe/4/zoPoNsqvaTC+mCt7f2XSNCzJKKpTW3LNJBhs5eMXxG1jsFc6CMeLTV210glN64hH80KAURruXM3IF/mHG+E5b8v0iuOC/5mKEfATiPn9B17XnEBYVg/0/1rf6Cwr5loueAgHjEOC5JygeXBBDFNVOFC9enKUxkfL2pk2bGLWsNRoPGNawT6wpELAUAr03BLCTi5Xd4hWvVZtUNLy+dw00qZAYMCz1Cscvx2/g9pzEugSJnnZx5yroVF29PkCas91KXxbIbOlf26TtTfvnCnZduMdym6lmRJW1yqSJKT3sUSzcl53Cym7V0NrRum8eNTU9NPdWZbonOlQrZNEUDF7faWu+XwQXpv6FiPGGECBKbRIVJWE9EvvMmsHO0BDxuUAg2SLAc09QPLggWtht27axEwtqdIJB6VEkqGeNxgOGNewTawoELIUAMZ189RWQOX3SG+DNJ6/RdIlPkiP+WQfDsC0gEmEzmieY+eptHKrM8NQpfkcdiVa1lUMBzO7gYNL2JBYrYp2i9CwltR6kgvHpbSuhd73iJtlp6uBeGwLw8u1HpgCsrdWfd4JpgSzuUsXUpWSP5/Wdtub7RXAh+1KLjiYgQKe+3dedQ4vKBdiLiq/IyYomEEiBCPDcExQPLhwdHZm2hWrT9jtL4c4DhqVsEusIBGwNgahX71B37gnM6+iA72olUseO3x2C49ee4PzERLpWqt8oPfEwE5LSlqbz6l0c6E37zy3LY6CraTUCkoAc5TRTjUTwlGY62aV4MSUtjjITD+PHRqXxUzPLpRtps5MEB0kY8NfuSU+VqD8J7BXLnRm/9VSmmF0OVry+01jfT6fbpIX06NEjRuYxcOBADB8+XM3ErVu3MsFUalmzZsXq1atRpUp8oPXy5UsMGDCAkYbQg92GDRtYzZ8ILuRcZdFHCQTW+NzCvCPXFE3bVMIuMYdAQEkEeO4JigcXffv2ZTeInj17sj3RTeHTp0+M2ckajQcMa9gn1hQI2AICUkAwqVUFDHApmWCSLjVup5leaFE5v9aTCUl4b00PJzSvrC7Wx7vXsIcxaLn8NL7OlgFU2Ey1H0q+GawxywtuFfNjbkfTTlh496Xan4K18lM80LdecUxoWUHrVN+s9kOGdGmwdUAdU5biGsvrO431/VFRUaAforKNjY1loqj79u1DxYoVE+z18/NDhQoVkCtXLhw5cgTTpk2Dv78/+5zScIlpkAIMqvkgpXBDoq28e+MCTnROdQhQCvj/tgTixLUn2D6wDmoWV9cRSnWAiA2nSAR4/KbiwcWHDx/w66+/gqhl6Q+Oai0GDx7MFLut0XjAsIZ9Yk2BgC0gQMWJZSYewSi3shjWpEyCSX03BiD69QccHOqiZmbjxd6okF/7m3ZSsB28NQiHh7mgYsHsJm0v9n0cHKZ5sjnK58+muJq2+9L4EwFd9Lb+t59h1F/BKJ4nMyoWyM72U7FADpT6OotJLFiqoFDedu05x5kyd886xbTi1WdjABPuorxuSzVe36mU72/Xrh2jHHdzc9O61RcvXjB68wcPHiAmJoadYNy+fZsr6OTdm6UwF+skXwRi3seh7QpfvP34mQns0QsR0QQCKQkBHr+paHDx5csX0NG4IU0LS4LNA4Yl7RJrCQRsDQGiqu1bvzgmtEh8e95lzVlWp7Hzf+ppJp3oTbpdGmz7Pumb9NXetzDf4xouT3dXpMCR6jdevo1D0wp5sa53TUVh6/b7OXz49IXR6mprS7zCseLEDTgUyoFrj2Lx8dMX1o0KN/cPqY9SOnQ+eIwMjHiOTqvPYmPfmmhULq/WoXSCRKw0J35qyDO1SX15fKdSvv/u3bvshRTdQ7Jn1x6YLlq0CNeuXcO6detw6dIllkZFpxzBwcHs1OOXX35BlixZkux97dq1oB9q0dHRiIiIMAkfMVggoInA1agYdFh1hgmO/tm/tmIvIATSAgFbQIDnnqBocEGb7969O+bOnYuiRRPztq0JCg8Y1rRTrC0QsDYClOpERdj0Bl1qLX85jQI5MmJ9H/WH+gGbiCL2PY4MVz/RoHHEfOR55RECJ2t/88y7zzYrfBmtbe+6xTC9XaJtvPNo6z90+0WE3n8Jbx2UuSN2XMT5uy9wZnxjfPr8BbefvoHP9WhGz7u6uxNaOJiW9kU2aRMq1LSVal8o5SJApfZFif3rm4PXd5rq+1+/fo0GDRpg4sSJ6Nixo1bTTp48yU7C6WQ8d+7cuHDhAurUqYMzZ86ARPyoVoOCkpkzZ+qFh3dv5sZazJ9yENgTdJ+ddv6vQUm1FzUpZ4diJ6kVAR6/qXhw0bhxY5w/fx61atVSe3v0zz//WOV68IBhFQPFogIBG0HAef4J1CphjyVdqiZY1GDhSfYW7pfvqqlZOXpXMEhV+uyEJkms77HOH68/fMK+H+srsrPBWwNxOPQRJrasgO9dE+tBlJicqG53B95H6HR3rdPRW8iMdmlZHrXUnsS8Ry0DaUw8tq08cQOLPLVrXEjzaGPt4lnDmL68vtMU3x8XF4fWrVvD3d0do0aN0mouEYV06NCB1VyULVuW9aEicAou6MSD2unTpzFv3jwcOnRIBBfGXHQxRhEEJu4NxVb/SKzpUR3NK+dXZE4xiUDA2gjw3BMUDy58fHy07p/eSFmj8YBhDfvEmgIBW0GA6g9K5MmCNT2rJ5hEBc/NKuUHUcGqttmHwrDlXASuzWyRxHyXBSfgVDRXkoDE2H3OPXwVv526jVXdndBSgZMCVTsMPdhXn0kF3/kwr5NjwjCpPmVE0zIY0TT+IdeURqcSx64+wYVJiYxcmvMtOxaOZcdu4NaclkibxjJUl7y+01jfT7V5VJRtb2+PZcuWaYUyMjISFLxs3rwZ9eqpp7BRMTelSBH9ORV6v3nzBgsXLhTBhSlfSjHWJAQ+fPoMSim9Hf0G/wx1Zn5VNIFAckeA556gWHBx8+ZNPH78GPXrq7+tPHXqFAoVKoRSpUyjpDT2ovCAYewaYpxAICUgQG/pqZZAVfiu/OQj6FW3OH7WYDH69eRNLDx6PYmiNBU1Vp3uiaGNy2Ckm+kP3oQrBTGT911mKrhViuRUFOrtAZEsjctvfGMUzJlJbW46fak89SjGNS+PHxqq+y+qA2njWFAthcxYw4gjn4pA9w7WfdIj6X0ET23GBLss0eT6TlN9P6U4UYDg4ODAmAapzZkzBxRQUBs0aBBjgtq9ezeKFYsveLezs2MpUdSo7kJiiipZsiRjJiRWKX1N7t4sgbNYI2Ui8ODlO7Refhr5smfEnsH1tOoLpcydi12lVAR4/KZiwQUdadMNgQq6VRvdAKZPn44DBw5YBW8eMKxioFhUIGAjCFA609uPn7Dnv4dcqjEoPfEIRjYti+FNExmkyNxt/pFM1O7shMYokCPxofxIaBR+2BqEnQProHbJ3Irs7NnrD9jkd5exWNmljX/4VKpRbcjALYE4MMQZDoVzqE175eErtFruq/XEpMlib5TLnw2ruiee8hhrE6WeORbOiRVd1VPPVOfbeT4S43aHstqPQhpBkLHrGhon13faqu8XwYWhKyw+NzcCp8Kj0XtjANpXLYQlXapwMZqZ2zYxv0CAFwG59wSaV7HggqgBdbFE0Rup0NBQ3n0o0p8HDEUWFJMIBJIpAgM3X0Dk87cJdK/6lLilIEKTbnbc3yE4fDkKQZPdkE7hQMAcsAZGvAAxX2ljapL2qE0VvMtvZ0HJSZosWrw2kpAfnQ5971ISY5uX1zn8UEgUftwWBM+RriibLxvvMkb1l+s7bdX3i+DCqMsuBimMwPLjN0Csc7PaV0YPHVTTCi8pphMImAUBufcERYOL0qVLg47HtTV9n5kFAZVJecAwty1ifoGALSMwauclnI94jtNjGzMz6Vi//rykqt302dlbz9D193PYNqA26pXOw/pT7nyducdRvVguRd7oWwKriGdv0GChNxZ1roJvqhdWW1JS3SXhvmwZ1VORqMg8/PFrHBtlWi3Zw5fvUG/eCVbT0q22boY9H3oDuiGAUeYSvpZocn2nrfp+EVxY4lsi1jCEAIlk9tt0Hn43n+GvQXUZQYZoAoHkiIDce4KiwUXXrl1Zwd3333+vhtn69evh6emJnTt3WgVLHjCsYqBYVCBgIwhM2heKI6GJFLLhj2PRbOkplq7TpkpBNSuvPYpB82Wn8Ws3J7RyjKdjldS0F3zjiC41itjIrvSbIdVVTGhRHv9roF5XQbUYR688Yqcwmo1qQA6GPMTFKc1M2mfAneegU5DN/WrBtezXOueSTlg29auFBnr6mWSMxmC5vtNWfb8ILpT8Noi5TEHg5duPLMWSXsAcHOYC+yzpTZlOjBUIWAUBufcERYMLKuYmmsD06dMzISNqVG/x8eNH7N27F/nzW4eOjQcMq1wtsahAwEYQIFamTWfvJjBABUW+QMdV2lOGJFVp1aP+Vd43scDjOgJ+boK82TPayK70m0E3+/KTPdC7XtKidSq0fvPhs1ZKXYm96ebsFnrrQOg0yLlMHnR0Uj8VkawiGtyfdgXj5OiGehllpEBPNZgzN8Byfaet+n4RXJj7GyLm50Eg9P4rdFrjh9ol7PFH31oWY33jsVH0FQgo5TcVq7mQDCKRI6n2olKlSuw0w5pN7g3SmjaKtQUCtoDAL8duYOmx8AS609M3otFzfQB2DaqLmsXt1Ux8H/eZPZSPblYWQxrHF3sT9eKbj59waFhSYT1b2J8uGyj1q3ZJdX0P6ku6H5SCpKnxQZ9JDFYBE5sgbzbtgRTVU5Dqef3SedjJhLZGmC87Hq9xkcEurU6YpPSp+Z0c8G1NywiU8vpOW/P9St0kbfm7K2xLXgjsCIjE+D2hjJxilEJseuZG4N3Hz0zElFjqiMRCtNSLAM89QfHgwtZg5wHD1mwX9ggELImARHcaMq0ZsmdMB4/LURj0ZxA0i7YlmypM9mB1ApNbV8Srd3Eghe9BDUpijLvuwmRL7kfuWm1X+iJX5vSglCOpffz0hRVaD2lUGqOalUsylVTsTQrlFQpk17rUk9j3qDX7OHJnSc80LL76Kqk+BYkR+t54inM/JxUjVJ2UKH4dp3liUqsKGOCirJCgLpxSsu9MyXuT+70X/SyPAJ2Ujv07BLsC72Njn5poVD6v5Y34P3tnAh/T9cXxn8QSROyxFbEXsSXWIPZaa22r1F5/FK2ldmpra2ttRRWxlFKUltZOJIgQu9hiz2JPSIglZPH/nJtOmsQkb97Mm5n3Jud+Pj7I3HvuOd/7cu6cd5cj0eODpzGgbZiJf57g0r1niEt4K1o1r1gIlN/HtVjKm/VUZwQrZBYCcvwmBxdmGQIWygS0R0B3vezx8c1QOLcDtpy+A/rye3h0E5TIn+MdgzxmeqNumfwio7fuNqMtg+qhZqpVDrWT6Lv6BMKfv8aOL/9bcbkV/hxN5x7Se9Cb7NGdlfjt8zpi25O+cvHuU7Rb5Cc+0jFNXe/T5ccQF/8WW75ImRgudT1aBSkzYZeY2JVI3GfImMiZSAyRp6Y6tmybmjizLu8SoFXfTj/7g1Yj6Sa64vne9a2W4kbXjQc9iE4WTESKizyoZMtsJ/IK0eqte4m8uHz/GegF1LOYOA4yLDVAKutHjt/k4EJlg8fqMAFrEdh+7i6GbTwH768boUxBR5FbYsrfl3B6UnPkd8z2jlptFh4RQciqPrUw+o/zSYeflc5FYW4eFEAdvRGBY+P/Wz3wufoIfVefRFrB0s3w52g29xAWflodHaoX06ui95WH+PzXxERvXr1qonmlQu/Uo61XNUvmxYJP085xoWtUefIedKtdApPaVTI3EiFfzkRiEYUU7MSWbVMQE4syEwG6pY5ePJTMnwNbBnnAIUvaWyKVVIFWmM+GRuJMSCROhUTiXFiUSOBJpZBTNtQsmQ9uFEyUzItKRZyQNXPKvEK0grrmaHCyIMMZw5qVfydHkJI6syz1EJDjNzm4UM+4sSZMwKoEDlx+iP5rTyUllEsrC7dOSV1m6a2DPFBnprc4qLi4u5tVbTCm85m7r2C1XzCuftcqaeuSLrBK60yFLgcIbQn7vEEpvd3qVoLoQ30rDvTWsMI3ezC4cRl8rWfrVWqhdWYcQJMKzpjVJWWiUmNsNqSNnInEEHlqqmPLtqmJM+uSNgGdv+1Wuzhmdlb+d5q2YAU/fplii9P1R8/x9i1glwliOye92NAFE5ScU9/WTX0WUJDx69FgrEhayeAgIyM863L8JgcXGeGJYBuZgAEE/G9GoPuKAGwcUBd1S+fH7D1BWHH4Fq5/31rvpENJ3a7ce4afutUQb+H05YowoFurV0l91oQUmv7PZWw8GYpL01rqtZ0m7nITd2OAZ9rJ73Q3Srnkz4Gyzrng1btmClvDnrxEwzk+MPSQdtO5vuILAd0YZYkiZyKxhD5K9mHLtinJiWWZl8APe4OwxOcmlLi+m7Zb0VZMWpGg8xK0OvH4xRthQC6HzHArkbgiQQEFbXfKmS2zycbpggwvv9vi3F2z950xrHk5VH2Pc3mYDFeFAuT4TQ4uVDiArBITsAaB82FR6LDkKFb1qYmm7xfC5O0Xsf3cPZyfoj+XA+XFoLMW9Ob+x33XcHJicxTM9e72KWvYIqfPv87ewYhNKa+D7f/rSdyJfJWUrVyfPFpJaFzeGbM/0v/WkfJk7Lv0QJzJOHn7CfyTbbsiebpgLnkiwvT07rDYD3lSHTyXY6fcunImErmyrV3flm2zNlvu33ACdJaq16oAnAqOFAky5RyUpgsjKICgQIICCgosYuMTD17TCw33kvkSz0uUzItyzo6wo+UKM5VoWsnwp5UMDjLMhFgVYuX4TQ4uVDFkrAQTsD6BG4+i0XzeYbES0b5aUYzcfA4Bt57g6Dj910nP3XcVtHWKMs7SpPbPlw2sb4QRGhy+Fo5eq06kOF/RYt4hkXdiea+Uqw3JxdOZk6J5HODVu5beXj9fcxL3nsagc41i+H7XlXfOrmw+FSZujknrwHxqobQNLSY2QXwJsUSRM5FYQh8l+7Bl25TkxLLMT+Dx89di5TeLvZ3Ykpo7R5Z3OqUg5CodvE46L/EEYU8SD17TuYiqxXLD3SXx4DVtcyqg54yc+S0BUgcZTWklo1k5sVLCRfsE5PhN1QQX/fr1w44dO+Ds7JyUJyP5UERGRoLq3Lx5Ew4ODli1ahVcXV0lR0sODElhXIEJ2DABXS6FWZ2r4NPaJTBw3SkER7zE3hGeeq1e6Xcb3+64LD77qqn+K1u1gOvSvacie+4vPdzRyrUwEhLeouLkPehVryQmtk378HTPlQGIjonTm2SP7G636IiY5GnrFG03S52Fe96+q1jscwNXv2stvlhIFanxkGov93Nb9p22bJvcceb61idAS+cFjwAAIABJREFUCUu7LjuGRuULYnnPmiJf0NnQqMTtTaGR4t/PX8cJRcmn0NYmsSrhkheVizqlmyPHGtZRkLH2WIg4kxH1MhYcZFhjFJTvU47fVE1wcfjwYTg6OqJXr156g4vRo0eLz6dMmYKgoCAMGTIE3t7ekvTkwJAUxhWYgA0TSH1IuYdXAF6+icOfg+vrtfrPM3cwcvN58Rm9TafJTosldbZxuue97kxvfNvRFT3rlkzTpBGbzuFUyBMcGaN/ZafW9wfQtIIzJrStiGrT9mFMqwoY3LhskjzK3h1wO+2VodQdf735PI7fepzmSpLS7G3Zd9qybUo/ByzPMgR0l0gUz5ddbMmkg9eUGuf9wk5wL5l4JSzd5vReXsMPXltG87R74SDD2iOgbP9y/KZqggtCEBwcjHbt2ukNLtq2bYvx48ejQYPErRdlypSBv78/ChV693rH5DjlwFB2GFgaE9AWgdj4BHFI+esW5fFls3LouOSoOAi47vM6eg3xCXqEvmtOIk+OLDg9qQXszbin15wkKWEeZdIe0by8OIwYcOsxui4//s5KQ2odvttxGRtOhOLy9FbvqEc3QZWbtBtf/puEz3OOD6oUy40ln/13GJsymiMTsHlgPYPMm/r3JVBAFzi1pUH1Ta1ky77Tlm0zddy5vXUI0CUR3+28gmsPo5POStCW01wO726Tso6GxvdKqy6JZzISVzKaVCiIYc3Liy21XLRDQI7f1ExwMWHCBMTExGDevHk4ceIEPDw8EBAQAHd393dGZvny5aA/VMLDwxESEqKd0WNNmYAVCdCX7H71S2Fc6/dB5w7KOjtiaY93f8dIRbovnZJB0fkMOqeh5UIrCx2qF8X0Dq7QnYU4NLoxSubPmaZZS31vihu1Lk9viRxZU968olv9+K6jK3rULYkvfjuNK/efwXd0kyR59WZ6w6NMAcz9pJpB6H7cexVLD93EjTRu7zJIiIxKciYSGWJVUdWWbVMFYFaCCeghwEGGth8LOX5TM8HFs2fPMGzYMJw9exZVqlQRW6O8vLxQrVr6E7McGNoedtaeCZhOoMb0ffiwWuKXbPryW79sAXHFrL5Ct5XUn3UQi7q5ibMKWi7imtfCTmJlga6HXHboFoK+bYX0EgJuPhmGMVsDcWRMk3ey7AbeiUL7xUexoldNtKhUSBx8/2HvVQRO/QBODllAqyUVvtmNr5qWw4gW5Q1C98uhm5i1OwhXprdC9qzmT7ply77Tlm0z6GHiSkzAigQoyFh7LFhcdR75MhaNaSWjWTnUKKHNrbVWRGnRruX4Tc0EF8kJ0vJhqVKlEBgYCCcnp3ThyoFh0VHizpiACglQsEA5LuhtepWpe9HF7T1MbV85TU3pnnP6sqz1QluUaH/zpoH1MHTDGVy4+xSHkq0y6LNPl4F725D67yzv77/8EP9bewp/D60v7nz3vfoIfVafTMohEhzxAo1/9JWVG+S34yGYtO0i0krsp/QY2LLvtGXblH4OWB4TMBcBDjLMRdY8cuX4Tc0EF1FRUciRIweyZs2KFStW4MiRI1i7dq0kQTkwJIVxBSZg4wQ+mH8IpQvQVig3lJmwSxxAHtWygo1bDbFtibLXHhjZCO0X+yF39ixpnjXRwTgXFiXOpazsXRPNKqY8+6ULBI6Pb4bCuR0QHv0adMB7UtuK6N+wNPyuR6DHyv8SFhoCePu5uxi28RwOft0IpQs6GtLEpDq27Dtt2TaTBp0bMwErEKAgY92xECw/fFOsZNCtWXT+jRL/cVEPATl+UzXBRbdu3eDr64uIiAhxSHvatGmIjY0VVAcNGoRjx46Jm6Ts7e1RqVIlrFy5EnnzSj94cmCoZwhZEyZgHQK6Q9x0HSJdxzq21fv4onEZ6yhjwV51CQHPTv5A3Oz0YbUi+K5jlXQ10GXYntOlKj6pVTxFXbpmdpHPDVz/rnXS1qq6M7xRr0x+zO9aHb+fCAUl2aMcIsXyZDfIUt1KiW41xKBGJlSyZd9py7aZMOTclAlYlcALsV2KgwyrDkI6ncvxm6oJLswFUw4Mc+nAcpmAVgjoErVRzgd60/5th8roWc9FK+obref8/dew0Pu6SHTn/t0BTGxTEf/zLJ2uPLqmt9Lkve9cMUuNxm4JxMGrj0TWcl2hpHphkS+xb0Qjg891JFdAd4uVoRm9jYbxb0Nb9p22bJup487tmYC1CVCQse44BRm38OTFG17JsPaAGDEncHChkkFjNZiAGggMWHsKoU9eioRydCZg3ifV0NntPTWoZlYd1h0LxjfbL4ktTp//egrLerqjZWXpQ+qVJu9Bt9ol8E27lMn2+qw+gYjnr7Hjy4ZJes/bfw2LD17HpWmtMO7PQJEcK60cGfqM1SX7M1Q3U4HZ8hdwW7bN1HHn9kxALQRSBxmetF2qWTnN5lRSC1dj9ZDjNzm4MJYyt2MCNkiAEsNRVtifP3NDu0V+Bn/J1jqKXRfuY/D6MxjSpAyW+NzEnuENRfIqqdJwzkG4l8iLBZ+mvIq39cIjKJrbASv71EoSse/SAwxYdxp/DvYA5chwyGKPDf+rK9VF0uehj1/C8wcfzP24Grq4mz/gkzORGGyESirasm0qQcxqMAHFCFCQQefYlv27ksFBhmJoZQmS4zc5uJCFliszAdsmMPGvC9h76QGWdHcTieTW968jrqO19aLbclSvdH4cu/VYb+4KfQzSSjTo/u1+fFC5MGZ2/u/cxr2oV/CYdVBsNVt08Ia4fnHOR4bluKC+aXuA27f7Ma19ZfT2MP9WNTkTidaeD1u2TWtjwfoyAUMJpA4yGpYrgFEfVEA1TsZnKEKT6snxmxxcmISaGzMB2yIwY9cVcf84BRe0PUjfNau2ZXGiNTcePUfzeYeQI6s9cmbLnOKsRHr29v/1JO5GxWD3sP+2P+kynQ9vXg7Dm/+Xw4Ku0KbzHJ7lCmDbuXtJmdAN5fk6Lh4VJu3B6JYVMKRJ2aRmtP2q88/+4irdormzo2ge+uMg/qYMuBWLSK/A6NNBzkRiqA366oWFhYnLOh48eAA7OzsMGDBA5DRKXtavX4/Zs2eLHzk6OmLp0qUpchzFx8eD9C1WrBh27NghqY6lbJNUhCswASYgm0DyICPy5Rv08XARfjF1MlPZgrlBugTk+E0OLvhhYgJMIInAggPXsODAdczvWg0jNp3HgZGeKOucy+YJRb18g+rT9ws7a7nkxR+DPAyymQ5u+1x9hBPJDm7rVihmdKqC7nVKpJDTc2UAzodF4VlMnGDcqYa87U3lJ+5GvwaJGdR1Zdmhm5i5OwhtqhTGo2evQf0/eBaDhLfA4MZlMKbVf3UNMurfSnImEjlyU9e9f/8+6I+bmxuio6Ph7u6Obdu2iVsBdcXf3x8VK1YUNwTu3r0bU6dORUBAQNLn8+bNw6lTp0DJVjm4MGU0uC0T0A4BusJ2zp4gccNU8XzZMatz1Qyx0m6tEZIzJ3BwYa1R4n6ZgAoJUMbU73ddwYQ272PGriDo8jSoUFVFVaJVhXITdyMu4a1IHEhJBA0pNLHRjSbXv2+NTLR0AOBsaCQ6/eyvN/8FZdimTNtUtgyqh5ou+QzpJqkObYuiIEJ3TS7p3WzuIeR3zJoiIIqLT8DD6NfIYp8JzrkcZPWhqyxnIjGqgzQadejQAUOHDkWLFi301oiMjISrqyvu3r0rPr9z5w569+6NiRMngoIMDi6UHA2WxQTUT+DE7ScYuzUQtyNe4NNaxTGhbUWbSO6qNvJy5gQOLtQ2eqwPE7AigQ0BoZjw1wX0b1AKXn63cWHqB8hlAxm4DUFaZ8YBPHz2GiNblMdXzcoZ0gQr/W7j2x2XcX7yB8idIzFT+Z6LDzDot9PY8WUDuBbLnULOjsB7GLrhrPiZMYGb5xwfuJXIk3SAnCbVT5Ydk5Xp2yDDALHNiFYDLFmCg4Ph6emJixcvwslJ/3auH3/8EUFBQfDy8hKqffTRRxg/frxY9aDPOLiw5IhxX0xAHQRiYuMx/8A10Auygrmy4fuOVdC8UsrkpurQVLtayJkTOLjQ7jiz5kxAcQK6LNDtqxXF3+fv4daMNrCzS3wjb+ulzcIjuHz/GRZ+Wh0dqhczyFwdL++vG6HMv1mz6czK5O2XcGJis3dWDYIjXogrfrPa2yHo21ay2ZKOdJ7Cq3fiLVQjN5/DvksPRV9K7zeWM5EYBEui0vPnz9GoUSOxAtG5c2e9tX18fDB48GD4+fkhf/78IpDYtWsXfv75Z5GENb3gYvny5aA/VMLDwxESEqKE2iyDCTABFREIvBOFMVsCEfQgGjSPTfmwEvI7ZlORhtpVRc6cwMGFdseZNWcCihPYf/kh/rf2FOqWzofAO09xeXorxftQq0A6D3HkegT+GuyBGiXyGqSm3/UI9FgZgM0D66F2qcQtTj/spa1Pt3Dtu9awTxWYJSS8FRnAC+TKBp9RjQ3qI3klWqWgUG/TwHp4+ioWtNpCeUjofIfSRc5EYmrfsbGxaNeuHVq2bImRI0fqFRcYGIhOnTqJMxflyycelKcVi3Xr1iFz5syIiYkRZy4oMPntt9/SVcmStpnKhtszASYgj8CbuAQs9b2JxT7Xxcr71PaV8WHVIklbV+VJ49o6AnL8JgcX/NwwASaQRMD/RgS6ewWgdMGciI6JM/jWJFtASDk+/jp7F2e+aYF8ObMaZNKV+89AOS2WfuaG1lWKiDaj/jgPCjqOT2imVwYlKsyWxR6LuqXMjWFIh5Tl+2F0jEjORxlsv9l2EX8PrY+q7+UxpLmsOnImElmCU1WmcyN0ZiJfvnxYsGCBXlGhoaFo2rQp1q5dCw8P/YftpVYukgu2lG2mcOG2TIAJmEbg6oNojNkaKC7RaF6xEL7v5IpCTsadQTNNE9toLcdvcnBhG2POVjABRQicC4sC5W5wzJZZ7Fs15u26IopYQQhlz/79RBj8xjYx+A3Xo+gY1P7eG992dEXPuiWF1r1WncDTl2+wfWgDvVbQVbW0+pDZ3k62lcM2nhUTpe/oJmi36AjiE4BdXzUwWF85HcqZSOTITV2Xtjg1bNgQVapUEVfRUpkxYwYooKAyaNAg9O/fH1u3bkXJkomMaaUi9XkQDi5MGQVuywRsk0B8wlus8ruNH/ddRdbMdpjUtiI+qVncLD7TNgn+Z5WcOYGDC1t/Gtg+JiCDwPWH0Wgx/7Bo4VrMSbwhzyiFbliKiUsQgZWhhdqUnbgbyXNatFpwGMXz5cCKXjUNFWNwPV2SwzV9a4sM6uZMqCdnIjHYAJVUtGXbVIKY1WACqiJA593oRqmA20/QoGwBkeCU/DQXwwnI8ZscXBjOlWsyAZsncDfqFerPOijspHMXGwfUs3mbTTWwxvR9aFe1qFi9oEL/b1OlCL43wzmImbuvYM3RYHStVRwbT4bh5ITmSbdUmWpH6vZyJhKl+za3PFu2zdzsWD4T0CoBOvO24UQo6ErwhLdvReK93vVcZF+soVX7TdVbjt/k4MJU2tyeCdgQgacvY1Ft+j5hUfOKzkm3EtmQiYqbQpm9yxdyxM+fuUOXRVvOdbZyFKKtWz/uu4Zc2TKjaUVnLPxU/rkNQ/uTM5EYKlMt9WzZNrUwZj2YgFoJUKJRunLd92o43EvmxewuVVHW2VGt6qpGLzl+k4ML1QwbK8IErE+AbtkoP2m3UKRD9aJm/fJqfWuV0aDrsmN4C4gbo8KevETDOT6Y3aUKutZKmZ1bid7WHL2Nqf9cFqI2/K8OPMoUUEKsXhlyJhKzKWEmwbZsm5mQsVgmYFME6CIJusBj+o7LePkmHsOalcMAz9LIYsRZOJsCk44xcvwmBxcZ5algO5mAgQTKT9yNN/EJ6F6nhFmuODVQDc1UG7L+DIIePIP3141xOuQJuiw9htV9a6FJBWfFbdhy+o64japk/hzw+bqxWZfz5UwkihtqZoG2bJuZ0bF4JmBTBMKjX2PK3xex68IDVC7qhDkfVUXloimTn9qUwSYYI8dvcnBhAmhuygRskUD16fsQ9TJWvMWZ0KaiLZqoqE2Tt18UCQfPTf4Auy7cx+D1Z7Drq4aoVFR/hmlTOtdl/6a9wkOalDVFlGRbOROJpDCVVbBl21SGmtVhApogsOfifUzadglRL99gUKMy+LJZWWTLbK8J3S2lpBy/ycGFpUaF+2ECGiFAB7rpYPeI5uUxrHk5jWhtPTUXHriO+Qeu4fr3rfHb8RBM++cyTk9qbpassHT1Lcn/toOrwbk4jCUjZyIxtg9rtbNl26zFlPtlAlonQIHFtzuuYOuZO+IMBq1iuBmYUFXrthuivxy/ycGFIUS5DhPIQARazDuE64+ei/vA+zcsnYEsN85UCigmbbuIExOaYbV/MLyO3MLVb1ubdcuScZrKayVnIpEn2fq1bdk269NlDZiAtgn4Xn2EiX9dxL2nr9DXoxRGtSyPHFkNv6Jc29anrb0cv8nBha0+BWwXEzCSACXRo2R6szpXwae1lT+UbKRaqm1Gy+mDfkvcCuXldwsBt57g6LimqtXXUMXkTCSGylRLPVu2TS2MWQ8moGUCz1/HYfbuIKw7HoIS+XKI+dCjrPku0NACKzl+k4MLLYwo68gELEjgM6/jOHrjMRZ3ryHyN3BJn8CJ20/wybJjWPd5bSw7dAs0KW0bUl/z2ORMJFoz1pZt09pYsL5MQM0EAm49xrg/L+B2xAt0q10c49tUhJNDFjWrbDbd5PhNDi7MNgwsmAlok8D/1p7C/ssPzXbjkTappK31zfDnaDb3EBZ0rY4lPjdQumBOLOupfHZuS3OTM5FYWjdT+7Nl20xlw+2ZABNISSAmNh7z91/DiiO34JzLAd93ckWzioUyHCY5fpODiwz3eLDBTCB9AsM3nsW2c/fwx6B6qOWSj3FJENAlHqQzKj95X0fHGsUwvUNitm4tFzkTidbstGXbtDYWrC8T0AqB82FRGLs1EEEPokUeqCkfVjb7xRpqYiPHb3JwoaaRY12YgAoIUObSDQGhZrtOVQUmKqoCJWMqN3E3etQtiTX+wbDENbGKGpCGMDkTiSX0UbIPW7ZNSU4siwkwgZQEKNHsz743xCo1bY+a2r4y2lUtgkyZMtk8Kjl+UzXBRb9+/bBjxw44Ozvj4sWL7wzS06dP0aNHD4SGhiIuLg6jRo1C3759JQdTDgxJYVyBCWQAAt/vvIwVR27j8OgmKJE/Rwaw2HQT68w4AJf8ORFw+wl++KgqPq5Z3HShVpZgy77Tlm2z8mPD3TOBDEHg6oNojNlyHufvPEWLSoXwXUdXFHJysGnb5fhN1QQXhw8fhqOjI3r16qU3uJgxYwYowJg9ezbCw8NRoUIFPHjwAFmzZk13MOXAsOmngo1jAgYSoL2lC72vmy1Xg4FqaKpam4VHcCfyJZ7FxGFtv9rwLF9QU/rrU9aWfact26b5B48NYAIaIRAXn4BVR29j7r5ryJrZDt+0rYSPa75ns6sYcvymaoILepaCg4PRrl07vcHFzJkzERYWhiVLloh6LVq0wLVr12BnZ8fBhUZ+EVlNbRCgLNBz9gRh7whPZLFP//dLGxaZX8ueKwNw5HqE6GjvcE9UKJzL/J2auQc5E4mZVVFcvC3bpjgsFsgEmEC6BOgmKTqLQTcHNixXADM6VUHxfLa36i/Hb2omuIiOjkb79u0RFBQE+vemTZvQtm1bvQO+fPly0B8qtMoREhLCvxpMgAkwAbMRGLHpHP46e1fIP/tNC+TNmf6KqtkUUVCwnIlEwW4tIsqWbbMIQO6ECTCBFAQSEt5iw4lQzNx1BW8B9PFwQaWiTihdwBEuBXLYRBI+OX5TM8HFli1bcPToUcybNw83b94UKxfnz5+Hk5NTuo+4HBj8u8IEmAATMIbAdzsuw8vvNrLa2+Hqd61sYlncln2nLdtmzPPLbZgAE1CGwN2oV5i87SK8gx6lEFgkt4O4prxUAfrjKP5dukBOFMuTHZk1skNAjt/UTHBBqxTjxo1Dw4YNxYA1bdoUs2bNQu3atTm4UOZ3gqUwASZgJIGlvjcxe08Q3subHX5jtZ+dmzDImUiMxGa1ZrZsm9WgcsdMgAkkEXj5Jg7BES9xK+I5boe/EEn4bka8wK3w54iOiUuql8U+E0rmTww6KNhIDEAcxf8LOGZV1YsqOX5TM8HFF198gUKFCmHq1Kl4+PAh3NzcxMpFgQLpp2OXA4N/L5gAE2ACxhDYfCoMY7YEwr1kXmz9wsMYEaprY8u+05ZtU92DxAoxASaQRICuLn/y4g1uRbwQQQf9TQEHBR8hj1/iTXxCUt1cDplFwCECj4KJAUfiv3NaZZuVHL+pmuCiW7du8PX1RUREhAgipk2bhtjYWAF50KBBuHfvHvr06YP79++DBodWMehqWqkiB4aULP6cCTABJqCPwMGgh+i35hTaVCmMnz9ztwlItuw7bdk2m3j42AgmkAEJxCe8xd3IV4mrHSLoSFzxoD+03Sp5KezkkBRo6AIOOt9Bq+fm2mYlx2+qJrgw13MkB4a5dGC5TIAJ2DYBytzaYclRcYiPkirZQrFl32nLttnCs8c2MAEmkJLAqzfxCH6cGGjQSodY+fg3AHn6KvFFPBXaZlUiX44U5zrEikfBnCjomM2kbVZy/CYHF/wEMwEmwARMJEA5LhrM9sGYVhUwuHFZE6Wpo7mciUQdGhuuhS3bZjgFrskEmIDWCdBOnsiXsbgd8Rw3dSsdYrvVcwTTNqu4ZNussmXG+0VyYfPAekYFGXL8JgcXWn+yWH8mwASsToAc/IID1/GR+3s2c7+5nInE6gMgUwFbtk0mCq7OBJiAjRKgbVb3omibFZ3vSNxq9TouAbO6VDXKYjl+k4MLoxBzIybABJiAbROQM5FojYQt26a1sWB9mQAT0AYBOX6TgwttjClryQSYABOwKAE5E4kpioWFhaFXr1548OAB7OzsMGDAAAwbNiyFyPXr12P27NniZ46Ojli6dCmqVasGQ9rq081StpnChdsyASbABNREQI7f5OBCTSPHujABJsAEVEJAzkRiisp0AyD9oevFo6Oj4e7ujm3btqFSpUpJYv39/VGxYkXkzZsXu3fvFleSBwQEiHZSbTm4MGV0uC0TYAJMIJGAnDmBgwt+apgAE2ACTOAdAnImEiXxdejQAUOHDkWLFi30io2MjISrqyvu3r37zudSbXUNrGWbkpxYFhNgAkzAkgTk+E0OLiw5MtwXE2ACTEAjBORMJEqZFBwcDE9PT1y8eBFOTk56xf74448ICgqCl5dXis8NacvBhVIjxXKYABPIaATkzAkcXGS0p4PtZQJMgAkYQEDORGKAOMkqz58/R6NGjTBx4kR07txZb30fHx8MHjwYfn5+yJ8/f1IdQ9ouX74c9IdKeHg4QkJCJHXiCkyACTABJpBIQM6cwMEFPzVMgAkwASbwDgE5E4mp+GJjY9GuXTu0bNkSI0eO1CsuMDAQnTp1Emcuypcvn1THkLapBVrSNlPZcHsmwASYgBoIyPGbHFyoYcRYBybABJiAygjImUhMUZ1yhPTu3Rv58uXDggUL9IoKDQ1F06ZNsXbtWnh4eCTVMaStPoGWss0ULtyWCTABJqAmAnL8JgcXaho51oUJMAEmoBICciYSU1SmLU4NGzZElSpVxFW0VGbMmAEKKKgMGjQI/fv3x9atW1GyZEnxs8yZM+PUqVNie5S+tm3atElXJUvZZgoXbssEmAATUBMBOX7T5oOLggULJk1IcgcpIiICBQoUkNtMtfXZHtUODXhseGwsRcDQZ43OJNDZBFsstjgvGDqulh5P1ksecebFvOQRkFfblOdLzpxg88GFPOwpa8uJ0kzpx1Jt2R5LkZbfD4+NfGaWasFjYynS2uhHrc8D6yXv+WFezEseAXm1M/rzxcFFOs+LWh8OeY/4f7XZHmPJmb8dj435GRvbA4+NseRss51anwfWS97zxryYlzwC8mpn9OeLgwsOLuT9xqiotlp/eY1BZEu2kP22ZI8t2WJrY2PM75qpbdT6PLBe8kaWeTEveQTk1c7ozxcHF+k8L3Qn+oABA+Q9USquzfaod3B4bHhsLEXA1p41S3HT9aNWfqyXvCeBeTEveQTk1c7ozxcHF/KeF67NBJgAE2ACTIAJMAEmwASYQBoEOLjgR4MJMAEmwASYABNgAkyACTABRQhwcKEIRhbCBJgAE2ACTIAJMAEmwASYAAcXaTwDe/bswbBhwxAfHy8SOI0bN05TT0u/fv2wY8cOODs74+LFi0L3J0+eoGvXrggODoaLiws2b96MvHnzqt6usLAw9OrVCw8ePBBJtugcDI2NVu2JiYmBp6cnXr9+jbi4OHz00UeYNm2aZu2hB4h+T+gAW7FixcRzp9WxIVvodyNXrlywt7dPStamVXuioqKE/yIfkClTJqxatQoVKlTQpB+wtqNS65ygz9dbm1VaPtvaeqXle62tl67/1H5ULXrp84lq0E2ff6tXr55VVbt69arwr7py69YtTJ8+HcOHD7eqXtT5/Pnz4eXlJeYCSlq6evVqODg4mEUvDi70YKVf8PLly2P//v147733UKtWLfz++++oVKmSWQbBHEIPHz4MR0dH8aVcF1yMGTMG+fLlE4HSrFmzEBkZidmzZ5uje0Vl3r9/H/THzc0N0dHRcHd3x7Zt27BmzRpN2vP27Vu8ePFCjE9sbCwaNGiAhQsX4s8//9SkPTTY8+bNExmTnz17JoILrT5ruuCCbEmeQFOr9vTu3VtksKYA482bN3j58qXIfq1FP6CoU5EpTM1zgj5fL9M8xaun5bOtPYem5Xvr1q2rOANjBKb2o8bIMEcbCi5S+0Rz9CNXpj7/lidPHrlizFaf/Aa9cAsICDA6mbNSyt29e1d817h8+TKyZ8+OTz75BG3atEGfPn2U6iKFHA4u9GA9duwYpk6dir1794pPZ86cKf4eP368WQbBXEJphaJdu3ZJwQW9sfRmheiuAAAgAElEQVT19UWRIkXEl/XGjRuDomytlQ4dOmDo0KHij9btoS979Au/dOlSEQhq0Z47d+6AnPzEiRNFkEHBhZafNX0TqRbtoUCvWrVqoDdn9KZKV7Roi7V9lNrnhNS+3tq8Uvev89ktWrRQjWrJfW+dOnWsrpc+P2p1pf5VQI3BRVr+TS3MSI99+/aJXQlHjx61uloUXFAQff78eTg5OaFjx4746quv8MEHH5hFNw4u9GDdsmULaAmclo+orFu3TkSeixcvNssgmEto6gmHInpaRtQV2hJFqxdaKmQTbSmi1ZgSJUpo1h56o0ErMDdu3MCQIUPECpJWx4e2dVHgTatKP/74owgutGoL/S6UKlVKbBekL+QDBw4U2/C0aM+5c+eE7vS2mCYUet5ohYzepGndD1jaZ6l9TlBzcJHcZ9OXGmsXfb7X2jpR//r8qBr0SssnWlu3tPxbzpw5ra1aUv+0ZZF2XNCLUDUU8v/0EpBWLiioWL9+vdnU4uBCD9o//vhDrFokDy5OnDiBRYsWmW0gzCHY1oKL58+fo1GjRuKXo3Pnzpr8wpd6nOlLXqdOncSzRSsYWvvSR4HErl278PPPP4tVF1sILu7du4eiRYvi0aNHoDetNDbt27fX3NjQNgZ6U0VvzejNLJ1Toi93ZI/WnjNz+Ec5MtU+J6g1uEjts+UwN3fd5L7X1dXV3N2lKz8tP2pVpZJ1rs8n0ks+a5a0/Nu3335rTbWS+qZtqDSPXLp0CYUKFbK6TvQiuUuXLti0aZP47vTxxx+LgLZHjx5m0Y2DCz1Y1b4EbuiTYEvbouhsAm3xatmyJUaOHCkQ2Mr2Dlo2pbctK1as0Ny2KFqxoJW9zJkzgw5L0lI1BX4nT57UnC36fq9oeySdjdHi2NAFCBRckB+gcuTIEXHWilbLtLj9zlC/Z456ap8T1Bhc6PPZ5hgbU2TqfO+oUaNMEWNy27T86G+//WaybKUF6HyitZml5d927typtMlGydu+fTuWLFkitkapodALEtqRs3LlSqHO2rVrcfz4cfFi0ByFgws9VOkGHzrQ7e3tLbYQ0IHuDRs2oHLlyuYYA7PJTD3hjB49Gvnz50860E034MyZM8ds/SslmA7h0Z5+OoS6YMGCJLFatSc8PBxZsmQRbw9evXollifHjh2LQ4cOaXJ8dAOSfOVCq2NDB+0TEhLEbVH0b1q5mDx5svAFWvzdocPctAJLgTh9KSCbqGjRFqX8iTFy1D4nqC24SMtnG8NeyTZp+V56caWWktyPqkGntHxiq1atrK6ePv/2ww8/WF0vUuDTTz8VL0P79u2rCn1oaz9t06IXf7Qtig5y0w2PX375pVn04+AiDay01YOuDqP9mTQgtBVHS6Vbt27i7WRERIRYkqM3NHSAh24ICA0NFecVKJKlL+xqL35+fuLGG7o6ja6ipUI33tBWDy3aExgYKIIlerboiyzZQF9gHz9+rEl79AUXWrWFDj/TNjUq9IWye/fu4ndfq/bQvmTdTVGlS5cWVw/qnjmt+QFr+ym1zgn6fP3nn39uVVxp+Wy6ncaaJS3fa02dUvettuAiLZ+oBmb6/JsartenywKKFy8uLtPInTu3GlAJHaZMmSK2RdFOgxo1aogXT9myZTOLfhxcmAUrC2UCTIAJMAEmwASYABNgAhmPAAcXGW/M2WImwASYABNgAkyACTABJmAWAhxcmAUrC2UCTIAJMAEmwASYABNgAhmPAAcXGW/M2WImwASYABNgAkyACTABJmAWAhxcmAUrC2UCTIAJMAEmwASYABNgAhmPAAcXGW/M2WImwASYABNgAkyACTABJmAWAhxcmAUrC1WCACUvowyvdIe7v7+/uBZUqUJX2U6YMCFJnIeHh+hDiUJXGFMiOcpgSteAUtK/SpUqKSHa7DLs7e3Flb9U6Lriv//+W/z79u3b4t5uyo3i5uYmEudlzZoVdJ89ZX6mazpz5MiBNWvWiM8pO2nz5s1x8OBBce0dFybABJiAqQR4TjCVoPz2PCfIZ8YtAA4u+ClQLQHdRGLMvd+UQ4KcYlpFJ1tp4+nLN93lTpkv1VIoX4OhX/DT4kK5OChgogBj0KBBqFatGr744gsRVCxatEj8TUl6KNCgv6lQbpWyZcvis88+UwsK1oMJMAENE+A5QZnB4zlBGY4sJW0CHFzw06FaArqJpG7durhy5QpKlSolks999dVXIss4BR2vX7/GkCFDMHDgQPF/+kJbpEgRUHKdy5cvi8SBYWFhiImJEV98BwwYINpSFk96Q09Z19evXw9dX/QmfsyYMdi9ezcyZcqESZMmoWvXrkI2ZTguUKAALl68CHd3d/z222+iTvKyfPly3Lt3T9Sl0rhxY/z4448iEyb1QTrs2LFDZMjcvn27SHCYvFA2VMqYeeHCBZHEjeR06NBBJAxctWpVUpZ4kjt37ly8//77euvTCsLOnTuF3SSTMs1/9NFHQhYV+sJPdrVv3z5F//qCC2JSsGBBPHjwQAQpx44dE3rt3btXcCddKJEXFcoETaxoDM6fP4/x48eLwIMLE2ACTMBUAjwn8Jxg6jPE7S1DgIMLy3DmXowgkNZbKvoC/+jRI/HFn4KL+vXri2zjISEhaNu2rfjyT4EIFVpJoCzkr169Qq1atXDo0CHkz58/KZjQqaXra+vWrfjll1+wZ88ekd2c2tCb+KtXr4ov5pcuXULRokVFnxSgNGjQIIVlFPzQl/gPP/zwneCCAhHaZkSfUQDj5OQkbEheaKsWbaHq0aMHoqKiULt2bZw9exZkM/2fgqf79++jUaNGuHbtmtjapa8+8SDZlJGW7Ce758+fj23btuHp06eoXr06rl+//s6KBgUP9Bn9TUEYBWfEgQK8GzduCFUpWGvdurXg3K5dO1FPx6FZs2aYPXu2CKZo9ahw4cIIDw83YvS5CRNgAkwgJQGeE3hO4N8JbRDg4EIb45QhtUxrIqEv7/Slmfb4U6Evy8uWLRNnAOjLt4+PTxIvesP+119/if/T2Q16205flFO/odf9f8SIEWJFo1+/fqJNz5498fHHH4tA4Pvvv8f+/fvFz2lLEAUYFAQkLx988AGmT58u+qCSfOUiW7ZsYiWBgoxNmzYJWV5eXina05dyqqPbxkTBEelM/bdo0UKsxixcuFAEV6RPWvUpIKKAYvXq1UnyXV1dxRmIP//8UwQKtKKSutCqCwVPt27dQtOmTeHt7S36rlevXorggrZ+0eoKBXO0OpE8uJgzZ45Y2aFCKyZBQUHIlStXhnyG2WgmwASUI8BzQuILM54TlHumWJJ5CHBwYR6uLFUBAmlNJF26dBHbm1q2bJmil9RnM+j/9PZ+3759IhChL/oUbNDfaQUXdBi7atWqeoML+jJOW5qoDB06VHyx79OnTwodaHWDAhTqI3VwkbzPLVu2CFm0fSl5oS/lGzZsENuLUpeGDRtiyZIl4swDBVMUBKVVn+SeOnUKixcvThJDKwoUgG3cuDHFFqu0hopso5UJ4m3MtiiSS9vIaKUlS5YsCjwRLIIJMIGMTIDnhJSjz3NCRv5tULftHFyoe3wytHa6ieT06dPixiV6E0+FtgjRPn7a+kNfWml7EL0hP3nypHgbrwsA6EwDrQz8888/4u05bfeh7U70xT9v3rzi7b/uS6+uL3qrT1/cST69IaIAglYBqL0hwQVtEaJDzHRLlDHBBW1zevbsmTgkTSsctCWqRo0aQhYFFnTegX5G27OopFVfX3Dx8OFDsc2KtirpDl0nf8AiIyNFEEYrLLQVilYriCFtu6LVGwoydAe6KQAbPHiwONdBAYzuQDedhzlx4oQQ+/jxY7GiQedluDABJsAETCXAcwLPCaY+Q9zeMgQ4uLAMZ+7FCAK6iSQ2NhatWrUSX3jpbTodiqYVCQoadIeN6SwBfelOHgDQeQw6M3D37l2xEkB7/3UrF2PHjhXnH+jaVEMPdBsSXBw5ckQEJ3TY25jggs6G0OoJXYtLtrm4uCQFSxQcUBD1zTffYMqUKUJ+WvX1BRdUnzgSE1r9SF2oTzqgbWdnh4SEBKHH559/LqrRNindVbQU7JB9FISQjrSKQ0EbBSa0DYsCMiq0OkPBEB0858IEmAATMJUAzwk8J5j6DHF7yxDg4MIynLmXDESA3tbT6kmePHlUZfXLly/FVqozZ84gd+7cZteNrq6dOXOm3i1eZu+cO2ACTIAJqIQAzwmJA8FzgkoeSAuowcGFBSBzFxmLAG05oqtmaeuQWsqBAwfEORLaXkYrEuYulESPznb06tXL3F2xfCbABJiAqgnwnACRWJXnBFU/pooqx8GFojhZGBNgAkyACTABJsAEmAATyLgEOLjIuGPPljMBJsAEmAATYAJMgAkwAUUJcHChKE4WxgSYABNgAkyACTABJsAEMi4BDi4y7tiz5UyACTABJsAEmAATYAJMQFECHFwoipOFMQEmwASYABNgAkyACTCBjEuAg4uMO/ZsORNgAkyACTABJsAEmAATUJQABxeK4mRhTIAJMAEmwASYABNgAkwg4xLg4CLjjj1bzgSYABNgAkyACTABJsAEFCXAwYWiOFkYE2ACTIAJMAEmwASYABPIuAQ4uMi4Y8+WMwEmwASYABNgAkyACTABRQlwcKEoThbGBJgAE2ACTIAJMAEmwAQyLgEOLjLu2LPlTIAJMAEmwASYABNgAkxAUQIZIrgoUKAAXFxcFAXHwpgAE2ACtk4gJCQE4eHhNm0mzw82PbxsHBNgAmYgIDU3ZIjgombNmjh16pQZ8LJIJsAEmIDtEsgIvjMj2Gi7TyhbxgSYgDUISPlNDi6sMSrcJxNgAkxAAwSkJhANmCCpYkawURICV2ACTIAJyCAg5Tc5uJABk6syASbABDISAakJxBZYZAQbbWGc2AYmwATUQ0DKb3JwoZ6xYk2YABNgAqoiIDWBqEpZI5XJCDYaiYabMQEmwAT0EpDymxxc8IPDBJgAE2ACRk0gtoBNapK0BRvZBibABJiAkgSk/CYHF0rSZllMgAkwARsiIDWB2IKpGcFGWxgntoEJMAH1EJDymxxcqGesWBMmwASYgKoISE0gqlLWSGUygo1GouFmTIAJMAG9BKT8JgcX/OAwASbABJiAUROILWCTmiRtwUa2gQkwASagJAEpv8nBRTq0j96IwPk7URjcuKySY8KymAATYAKaICA1gWjCCAkljbExJjYe646FwLVYbtQrk98WMLANTIAJMAGDCUj5TQ4u0kE5c9cVePndhu+oxiieL4fB0LkiE2ACTMAWCEhNIBnVxtj4BDSYfRAVCjthbb/atoCBbWACTIAJGExAam7g4CIdlPefvkLD2T7oVc8Fkz+sZDB0rsgEmAATsAUCUhNIRrZxkfd1zN1/DQdGNkJZZ0dbQME2MAEmwAQMIiA1N3BwIYFxxKZz2HfpAfzHN0Pu7FkMgs6VmAATYAK2QEBqAsnINkY8fw2PmQfRtVZxfNvR1RZQsA1MgAkwAYMISM0NZgsuwsLC0KtXLzx48AB2dnYYMGAAhg0blkLpt2/fip/t2rULOXLkwJo1a+Dm5ob02k6dOhUrVqxAwYIFhawZM2agTZs26cKQgpBe40v3nqLtT34Y1/p9DGpUxiDoXIkJMAEmYAsETPGdWrHfFBu/3nweuy/exzF++aSV4WY9mQATUICAlN80W3Bx//590B8KFqKjo+Hu7o5t27ahUqX/thdRULFo0SIRXAQEBIhAg/5Ory0FF46Ojhg1apTBeKQgSAn6zOs4bjx6jiNjmiJrZjup6vw5E2ACTMAmCJjqO7UAwRQbL9x5ig8X+2FS24ro37C0FsxlHZkAE2ACJhOQ8ptmCy5Sa96hQwcMHToULVq0SPpo4MCBaNy4Mbp16yZ+VqFCBfj6+qJIkSIpmidva43gwvfqI/RZfRJzP66GLu7vmTwoLIAJMAEmoAUCUhOIFmyQ0tFUGz9a6o9H0a/hM6ox7O0ySXXHnzMBJsAENE9Aym9aJLgIDg6Gp6cnLl68CCcnpySo7dq1w7hx49CgQQPxs2bNmmH27NkgpXUldVsKLmj7FMmhenPnzkXevHnfGajly5eD/lAJDw9HSEiI0YNJ27daLTiCTJmA3cMaIhP9gwsTYAJMwMYJSE0gtmC+qTbuDLyPIRvOwKtXTTSvVMgWkLANTIAJMIF0CUj5TbMHF8+fP0ejRo0wceJEdO7cOYWybdu2xfjx41MEF3PmzBFbqKjoa/vw4UMUKFBAfMH/5ptvxBaqVatWmQTBkGdo86kwjNkSiHWf10bDconnPbgwASbABGyZgNQEYgu2m2ojXUvrOccHZQo64rf+dWwBCdvABJgAEzDpe7VZg4vY2FjQ6kTLli0xcuTIdxRNb1uUVFsSRqsaJJ9WRNIrpk4eJPt1XDwazPbB+4VzYd3nPIHw7x0TYAK2T0AJ36l2SkrYuMTnBn7YexX7R3iiXKFcajeZ9WMCTIAJmERAym+aLbigrUS9e/dGvnz5sGDBAr1G7Ny5E4sXL0460P3VV1/hxIkTSK8trVTozmTMnz9fHADfuHGj2YML6kA3gdDWqIpF/tveZdIIcWMmwASYgEoJSE0gKlVbllpK2PjkxRvUnemNj93fw/edqsjqnyszASbABLRGQMpvmi248PPzQ8OGDVGlShVxFS0VujY2NDRU/HvQoEEiiKBD3nv27BFX0a5evVqco0irLV0527NnT5w7d05si3JxccGyZcveOQCeepCkIBg6qFEv36DezINoU6UI5n5SzdBmXI8JMAEmoEkCSvlONRuvlI1jtpzHP+fv4zhdS5uDcyKpecxZNybABEwjIOU3zRZcmKa2sq2lIMjpberfl7A+IERcS1s4t4OcplyXCTABJqApAkr6TrUarpSNupxIE9q8jwGenBNJrePNejEBJmA6ASm/ycGFTMahj1+i8Y8+YvKgxHpcmAATYAK2SkBqArEFu5W08ZNlx3A38hUOj2nC19LawsPBNjABJqCXgJTf5ODCiAdnyPozOHI9HP7jm8ExW2YjJHATJsAEmID6CUhNIOq3QFpDJW3cfeE+vlh/Bst6uqNl5cLSnXMNJsAEmIAGCUj5TQ4ujBjUs6GR6PSzPya3q4R+DUoZIYGbMAEmwATUT0BqAlG/BdIaKmljXHwCGv3gixL5cuD3AXWlO+caTIAJMAENEpDymxxcGDmoH//ij3tRMTg0ujEy2yceWOfCBJgAE7AlAlITiC3YqrSNvxy6iVm7g7BneEO8X5hvFbSFZ4RtYAJMICUBKb/JwYWRT8y+Sw8wYN1pLO5eA+2qFjVSCjdjAkyACaiXgNQEol7NDddMaRvpVkG6lrZTjWKY2bmq4YpwTSbABJiARghI+U0OLowcyISEt2g27xCcHDJj25D64mpcLkyACTABWyIgNYHYgq3msHH8n4H46+xdHBvXDHlzZrUFTGwDE2ACTCCJgJTf5ODChIflt+MhmLTtIjYNqIs6pfObIImbMgEmwATUR0BqAlGfxvI1MoeNQQ+eodWCI+JGwUGN+Fpa+aPCLZgAE1AzASm/ycGFCaP36k086s8+CLcSeeHVu6YJkrgpE2ACTEB9BKQmEPVpLF8jc9nYbflxhD55yefy5A8Jt2ACTEDlBKT8JgcXJg7gvP3X8JP3dXh/3QhlCjqaKI2bMwEmwATUQ0BqAlGPpsZrYi4b9156gIHrTmPpZ25oXaWI8QpySybABJiAyghI+U0OLkwcsIjnr+Ex6yC6uL2HmZ2rmCiNmzMBJsAE1ENAagJRj6bGa2IuG+MT3sJzjg+K5c2OzQPrGa8gt2QCTIAJqIyAlN/k4EKBARv/5wVsPXMH/uOaooBjNgUksggmwASYgPUJSE0g1tfQdA3MaePywzcxY1cQdn7VAJWL5jZdWZbABJgAE1ABASm/ycGFAoN049FzNJ93CMOalcOIFuUVkMgimAATYALWJyA1gVhfQ9M1MKeNT1/GimtpP6xWBHM+qma6siyBCTABJqACAlJ+k4MLhQap/68ncSY0CkfHNkX2rPYKSWUxTIAJMAHrEZCaQKynmXI9m9vGiX9dwB+n7+D4+GbIx9fSKjdwLIkJMAGrEZDymxxcKDQ0Abceo+vy4/iuoyt61C2pkFQWwwSYABOwHgGpCcR6minXs7ltvP4wGi3mH8bolhUwpElZ5RRnSUyACTABKxGQ8pscXCg0MG/fvkXHJUfxLCYO3iMbwc6Ok+ophJbFMAEmYCUCUhOIldRStFtL2NjDKwA3w5/j8JgmyGJvp6j+LIwJMAEmYGkCUn7TbMFFWFgYevXqhQcPHsDOzg4DBgzAsGHDUthPX8jpZ7t27UKOHDmwZs0auLm5iTp79uwRn8XHx6N///4YN26c+PmTJ0/QtWtXBAcHw8XFBZs3b0bevHnT5SoFQalB+ef8PXz5+1ks7+mODyoXVkosy2ECTIAJWIWApXynVYz7t1NL2Hjg8kP0X3sKS7q7oW1VvpbWmuPNfTMBJmA6ASm/abbg4v79+6A/FCxER0fD3d0d27ZtQ6VKlZKsoqBi0aJFIrgICAgQwQT9TQFF+fLlsX//frz33nuoVasWfv/9d9F2zJgxyJcvnwg2Zs2ahcjISMyePVsVwUVcfAIa/eCLonkc8McgD9NHjyUwASbABKxIQGoCsaJqinVtCRvpWtomP/qikFM2nhsUGzkWxASYgLUISPlNswUXqQ3u0KEDhg4dihYtWiR9NHDgQDRu3BjdunUTP6tQoQJ8fX3FqsTUqVOxd+9e8fOZM2eKv8ePH59Up0iRIiJ4ofZXr15VRXBBSqzyu43pOy7jr8EeqFEi/RUVaz0U3C8TYAJMwBACUhOIITLk1OnXrx927NgBZ2dnXLx48Z2m9DKJ6ty8eRMODg5YtWoVXF1dRb20Vrul+reUjV5HbuG7nVew48sGcC3G19JKjQt/zgSYgHoJSPlNiwQXFCx4enqKycLJySmJVrt27cQKRIMGDcTPmjVrJlYhqD5NFF5eXuLn69atEysaixcvRp48eRAVFZUkg7ZE0YSTuixfvhz0h0p4eDhCQkIsMkrPX8eh3kxveJYriCWfJW7x4sIEmAAT0CIBqQlEaZsOHz4MR0dHsaVWX3AxevRo8fmUKVMQFBSEIUOGwNvbO93VbikdLWXj01exYm5o7VoEcz/ha2mlxoU/ZwJMQL0EpPym2YOL58+fo1GjRpg4cSI6d+6cglTbtm3FakTy4GLOnDm4deuWWLVIHlycOHFCbKEyNLhI3pEUBKWHb9buIFDypEOjm6B4vhxKi2d5TIAJMAGLELC07ySj6OUSvXjSF1yknjPKlCkDf39/MWektdotBcqSNk7efhEbT4TBfzwnXJUaF/6cCTAB9RKQ8ptmDS5iY2PFJNGyZUuMHDnyHUq2uC2KjHzwNAYN5xzEZ3VKYmr7yup9OlgzJsAEmEA6BKQmEHPASy+4mDBhAmJiYjBv3jzQCycPDw+xqn379u00V7v16WitlW1dwtWvW5THl83KmQMfy2QCTIAJmJ2A1NxgtuCCboLq3bu3OHy9YMECvYbu3LlTbHXSHej+6quvxIQRFxcnDnTTcnexYsXEge4NGzagcuXKoGXx/PnzJx3optujaLUjvSIFwRyjMHLzOey5+AD+45oiT46s5uiCZTIBJsAEzErAGr4zveDi2bNn4uKPs2fPokqVKmJrFK1wX7t2Lc3VbilAlrax16oTCLr/DEfHNeVraaUGhz9nAkxAlQSk/KbZggs/Pz80bNhQTAB0FS2VGTNmIDQ0VPx70KBBoACEDnnT+Qq6inb16tUghalQwDF8+HCxl5YO8NG2KiqPHz/GJ598IuSUKFECf/zxhwhg1BZcXLn/DK0XHuHESar8tWClmAATMISA1ARiiAy5ddILLpLLovmjVKlSCAwMxKVLlzSxLYr09wl6hL5rTuKnbjXQvlpRuXi4PhNgAkzA6gSk5gazBRdWtzyZAlIQzKVrz5UBCHoQDb+xTZAts725umG5TIAJMAGzELCG70wvuKDLPOhFVNasWbFixQocOXIEa9euTXe1WwqMpW1MSHiLpnN9kS9nVvw5uL6Uevw5E2ACTEB1BKT8JgcXZhyyw9fCQUvgP3xUFR/XLG7Gnlg0E2ACTEB5AlITiNI90rXkdB15REQEChUqhGnTpoHO7lGh1e5jx46Jm6Ts7e1F3qOVK1cmJVFNa7VbSkdL20j6rD56G9P+uYztQ+qjWvE8Uiry50yACTABVRGQ8pscXJhxuGjZnrZGJbx9i73DPZEpUyYz9saimQATYALKEpCaQJTtzTrSrGFjdEws6s7wxgeVC2N+1+rWMZx7ZQJMgAkYSUDKb3JwYSRYQ5ttPX0HX/9xHmv61kLjCs6GNuN6TIAJMAGrE5CaQKyuoAIKWMvGqX9fwvqAEHGw2zmXgwKWsAgmwASYgGUISPlNDi7MPA5v4hLEtbTlnHPht/51zNwbi2cCTIAJKEdAagJRrifrSbKWjbfCn6Pp3EMY3rwchjcvbz0A3DMTYAJMQCYBKb/JwYVMoMZUX+p7E7P3BGHnVw1QuWhuY0RwGybABJiAxQlITSAWV8gMHVrTxr6rT+DC3WfiyvKsmRNvVeTCBJgAE1A7ASm/ycGFBUbw6atYeMzk/bUWQM1dMAEmoCABqQlEwa6sJsqaNh66Fo7eq05gQdfq6FijmNUYcMdMgAkwATkEpPwmBxdyaJpQd/o/l7H2WDCOjG2CIrmzmyCJmzIBJsAELENAagKxjBbm7cWaNtK1tM3nH0Iuhyzi5iguTIAJMAEtEJDymxxcWGgUw568RKMffPC/hqUxvk1FC/XK3TABJsAEjCcgNYEYL1k9La1tI710mrz9Ev4a7IEaJfKqBwxrwgSYABNIg4CU3+TgwoKPztANZ3Doajj8xzcVb6q4MAEmwATUTEBqAlGz7uidO20AACAASURBVIbqZm0bn7+OQ70Z3mha0RkLP61hqNpcjwkwASZgNQJSfpODCwsOTeCdKLRffBST2lZE/4alLdgzd8UEmAATkE9AagKRL1F9LdRgo27bLF1LW8iJr6VV31PCGjEBJpCcgJTf5ODCws/LJ8uO4W7kK/iObows9nw7iIXxc3dMgAnIICA1gcgQpdqqarAxOOIFmsz1xZdNymLkBxVUy4oVYwJMgAkQASm/ycGFhZ+TA5cfov/aU1j4aXV0qM63g1gYP3fHBJiADAJSE4gMUaqtqhYbP19zEufCosS22WyZ7VXLixVjAkyACUj5TQ4uLPyM6G4HyZHVHv8MbYBMmTJZWAPujgkwASZgGAGpCcQwKequpRYb/a5HoMfKAMz9uBq6uL+nbmisHRNgAhmagJTf5ODCCo/HhoBQTPjrAn7/X13UK5PfChpwl0yACTABaQJSE4i0BPXXUIuNb9++RYv5h5E9iz3+HlqfXzyp/9FhDZlAhiUg5Tc5uLDCoxETG4/6sw6iWvE8WNWnlhU04C6ZABNgAtIEpCYQaQnqr6EmG387HoJJ2y5i6xf14F4yn/rhsYZMgAlkSAJSftNswUW/fv2wY8cOODs74+LFi+/Aj4yMBNW5efMmHBwcsGrVKri6uuLq1avo2rVrUv1bt25h+vTpGD58OKZOnYoVK1agYMGC4vMZM2agTZs2kgMrBUFSgBkqLDxwHfMPXMOBkZ4o65zLDD2wSCbABJiAaQTU6DtNs+jd1mqy8eWbONSZ4Y1G5QticXc3pU1leUyACTABRQhI+U2zBReHDx+Go6MjevXqpTe4GD16tPh8ypQpCAoKwpAhQ+Dt7Z3C6Pj4eBQrVgwBAQEoWbKkCC6ozahRo2TBkYIgS5hClZ+8eIN6M73RqUYxzOpSVSGpLIYJMAEmoBwBNfpO5axLlKQ2G7/feRmrjgbDb2wTFMmdXWlzWR4TYAJMwGQCUn7TbMEFaR4cHIx27drpDS7atm2L8ePHo0GDBsLIMmXKwN/fH4UKFUoyet++fZg2bRqOHj0qfmZLwQXZM/GvC/jj1B34jWsC51x8t7nJTzsLYAJMQFECUhOIop1ZSZjabAx78hKeP/hgSOOyGNWSr6W10mPB3TIBJpAOASm/KRlcvHjxAtmzZ4ednR2uXbsmVhlat26NLFmkM0ynF1xMmDABMTExmDdvHk6cOAEPDw+xQuHu7p5kDm2bcnNzw9ChQ5OCizVr1sDJyUm8bZo7dy7y5s0r+QBIQZAUYKYKt8Kfo9m8QxjapCy+5rvNzUSZxTIBJmAsAWN9pynzhrG6GtvOWBuN7c+Qdv9bewqnQyLhP64pHLLwtbSGMOM6TIAJWI6AlN+UDC7oy/6RI0dAZyTq1q0rvtTnyJED69evl7QiveDi2bNnGDZsGM6ePYsqVaqIoMXLywvVqlUTct+8eYOiRYvi0qVLSasZDx8+RIECBcQtGt988w3u378vzmroK8uXLwf9oRIeHo6QkBBJfa1RYcDaUzgR/ATHxjVD9qw8iVhjDLhPJsAE9BOQmkDS4mbKvGHpsTDWRnPq6X8jAt29AjDno6r4pGZxc3bFspkAE2ACsglI+U3J4IJWDs6cOYNFixbh1atXGDNmDGrUqCGCAqmSXnCRvC1dwVeqVCkEBgaKVQkq27dvx5IlS0Bbo/QVQ2VTWykIUnaY8/OTwU/w8S/H8G2HyuhZz8WcXbFsJsAEmIAsAsb6TlPmDVkKKlDZWBsV6DpNETQntlpwBPZ2mbDzK86HZE7WLJsJMAH5BKT8pmRwQYHEzz//jBEjRmDlypWoXLmyWGm4cOGCpDbpBQBRUVFiBSRr1qziBihaHVm7dm2SzE8//RQtW7ZE3759k35GKxVFihQR/58/f77YRrVx40ZJPaQgSAowYwWaRDr97I/Il29w8OvGYjLhwgSYABNQAwFjfacp84al7TbWRnPr+fuJUIz/8wI2D6yH2qX4Wlpz82b5TIAJGE5Aym9KBheHDh0SZxvq16+PsWPHgq6GXbBgAX766ad0tejWrRt8fX0REREhtjXRwezY2FjRZtCgQTh27Ji4Scre3h6VKlUSgYvu/MTLly9RvHhx0Vfu3LmT+unZsyfOnTsntkW5uLhg2bJlScFGespIQTAcp3lq7rpwH4PXn8EvPdzQyjUxeOLCBJgAE7A2AWN9p7HzhjXsNdZGc+v66k086s70Rv2y+fHzZ/+dRTR3vyyfCTABJiBFQMpvSgYXyTtISEjA8+fPk7YuSXWuls+lIFhbz/iEt2j8o4+4MWrrFx7WVof7ZwJMgAkIAkr4TrXPG0rYaK7HZebuK/A6chuHxzRBsTx8La25OLNcJsAE5BGQ8puSwUX37t3xyy+/iBUGOqT39OlTjBw5EpSnQitFCoIa7Fhz9Dam/nOZM7OqYTBYBybABEwKLrQ0b6h5frgT+RKec3wwsFEZjG31Pj+VTIAJMAFVEJDym5LBRfXq1cVWJLod6vTp05g9e7YIMujwtVaKFAQ12PHidRw8Zh1EvdL58UtPXgJXw5iwDkwgoxMw1ndqad4w1kZLPRuD1p3G8duPcXx8M76W1lLQuR8mwATSJSDlNyWDCzrATcEFvYmifBONGjUS18WeP39eM+ilIKjFkDl7grD00E34jmqMkvlzqkUt1oMJMIEMSsBY36mlecNYGy31SBy/9RifLj+O2V2qoGutEpbqlvthAkyACaRJQMpvSgYXdHCbVisooNi5cydCQ0PRo0cPcbuTVooUBLXY8ehZDOrPPohutUtgegdXtajFejABJpBBCRjrO7U0bxhro6UeCbpRsPXCxPl297CG4kITLkyACTABaxKQ8puSwYU+5ePi4pA5c2Zr2iWrbykIsoSZufLoP87jn8B7Iqle3pxZzdwbi2cCTIAJpE1ASd+p1nlDSRvN9SxtOhmKsVsv4Pf/1UW9MvnN1Q3LZQJMgAkYREDKb0oGF3SAm66RPXz4sOiQtkVNnjw5xRWxBmlixUpSEKyo2jtdX3sYjQ/mH8aoD8pjaNNyalKNdWECTCCDETDWd2pp3jDWRks+CjGx8ag301vku1jWs6Ylu+a+mAATYALvEJDym5LBRZcuXeDq6orevXsL4evWrRPnLf7880/N4JaCoDZDeq86gUv3nsFvbBM+wKe2wWF9mEAGImCs79TSvGGsjZZ+DOhM3i+HbuLQ6CYoni+Hpbvn/pgAE2ACSQSk/KZkcKG79SM5U30/UzNzKQhq0/3ojQh85hXAB/jUNjCsDxPIYASM9Z1amjeMtdHSj8K9qFdoOMcH/RuUwvg2FS3dPffHBJgAE1AuuKhXrx5++OEHNGjQQAg9evQoRo0aJTJsa6VoZfLQ8aQDfG1/8sOb+ATsG+4JOzs+wKeVZ431ZAK2RMBY36mlecNYG60xzkPWn8GR6+E4PqEZcmTVzrlHa7DiPpkAEzAfASm/KblyQVugevXqJZLnUcmbNy9+/fVXVK1a1XxaKyxZCoLC3Ski7q+zdzBi03ms7lMLTd53VkQmC2ECTIAJyCFgrO/U0rxhrI1yOCpV92TwE3z8yzHM6FQF3evwtbRKcWU5TIAJyCMg5Tclgwtdd8+ePRP/dHJywoIFCzB8+HB5mlixthQEK6qWZtex8QloONsHpQrkxO8D6qpRRdaJCTABGydgqu/Uwrxhqo2WfARoVbvdIj/Q/LB3uCdfS2tJ+NwXE2ACSQSk/KbBwUVypiVKlBD5LrRSpCCo1Y7lh29ixq4g7PiyAVyL5VarmqwXE2ACNkpASd9pyLzRr18/7NixA87Ozrh48eI7VGkFnfIs0fxDV9vSFt2+ffuKei4uLsiVKxfs7e3FVemnTp0yaFSUtNGgDk2s9MepMIzeEogN/evAo2wBE6VxcybABJiAfAJSftOo4KJ48eIICwuTr42VWkhBsJJakt0+i4mFx8yDaFbRGQs/rSFZnyswASbABJQkoKTvNGTeoCvPHR0dxVZcfcHFjBkzxBZdSuwaHh6OChUq4MGDB8iaNasILiigKFBA3hduJW1Ukn1asuha2vqzDsKtZF6s6MXX0lqCOffBBJhASgJSftOo4MKQN1BqGggpCGrSNbUu3+24jNX+wTg8pgmK5cmuZlVZNybABGyMgJK+09B5Izg4GO3atdMbXMycOVO82FqyZAmoXosWLXDt2jXY2dllmOCCHrG5+65isc8NHBrVBCXy87W0NvZrx+YwAdUTkJob0gwuaHk5U6Z3bymiPZ+vXr0SS9JaKVIQ1GzH3ahX8Jzjg74eLpjUrpKaVWXdmAATsDECcn2nEvNGesFFdHQ02rdvj6CgINC/N23ahLZt2wrqpUqVEheO0Lw1cOBADBgwIM3RWL58OegPFVoBCQkJ0dTIPXgagwazD6IPzwuaGjdWlgnYCgGpucGolQutwZGCoHZ7vvr9LA4GPYL/+KZwcsiidnXNqh9tFfv1aDCiX8fB3i4Tsthlgr2dHTLbZ0Jm8e/EvzPb2yX9P4u9nd6f6+r914baJtbNYq+TlVJ2cln6gm+zGs/CmYCFCVjDd6YXXGzZskVchz5v3jzcvHlTrFzQzVR00ci9e/dQtGhRPHr0SPx80aJF8PT0lCRmDRsllTKgwpe/n4Xv1Uc4Pr4Zcmbja2kNQMZVmAATUIiAlN80W3AhdTAvMjISVIcmCAcHB6xatUpkAqeS1sG8J0+eoGvXrmI5nOps3rxZvKmSKlIQpNpb+/MLd57iw8V+mNDmfQzwLGNtdazW/+mQJxi28RxoNSdbZjvExb9FXMJbq+lDQYguMEkMSJIHMf8FKolBTGIQlBgMJf6fApnCTg6Y2K5ihg8arTaI3HG6BKzhO9MLLmiVYty4cWjYsKHQu2nTppg1axZq166dwo6pU6eKsxt04FuqWMNGKZ0M+fx0SCS6LPXHtx1d0bNuSUOacB0mwASYgCIEpPym2YILqYN5o0ePFs5/ypQpYol7yJAh8Pb2Tgou9B3MGzNmDPLlyycmF5pQKEChg31SRQqCVHs1fN5t+XEEP34hzl7Ql9iMVOLiE8T+4kUHb6BIbgcs/LQ63EvmEwhomx7FF3Q1Y3xCYrBB9XX/pr9TfkZ1Ej+PjX/7b72EpEAlsV3i/5PkJft/LLX9N6gR9RLepvi/aJP0OclISNZPom6izb+6Xrr7FDVd8mJN39pwyGKfkYaVbdUAAWv4zvSCiy+++AKFChUCBQ8PHz6Em5ubWLnInj07EhISxG1RL168ECsXkydPRqtWrSQpW8NGSaUMqEC+r8OSo3jxOg4HRjbia2kNYMZVmAATUIaAlN80W3BB6ku9gRo/fnxS5u8yZcrA399fTBxp3fpBN4P4+vqiSJEiuH//Pho3boyrV69KkpKCIClABRUOBj1EvzWnsKBrdXSsUUwFGllGhbAnLzFi0zmcColEx+pFMb2jq0295dclS2ztWhiLu7uJVQ0uTEAtBCztO7t16yZ8fEREhJgLpk2bhtjYWIFj0KBBYutTnz59hP+nL9f0oomupr116xY6deok6tF5wO7du2PixIkGYbS0jQYpZWClP8/cwcjN57Hu89poWK6gga24GhNgAkzANAJSflMyuFi8eDE+++wzg7YfpVY1veBiwoQJiImJEXtnT5w4AQ8PDwQEBMDd3T3Ng3l58uRBVFRUUje0JYpWL/QVrR/YS21TQsJbfLDgMLLa22HnVw0yxFuq7efuYtJfF0Ebn77r6GqzQZXXkVv4bucVfFanhLCTz3KY5vS4tXIEpCaQtHoyZd5QTnvDJBlro2HSzVvrdVzitbTV3suDlX1qmbczls4EmAAT+JeAlN+UDC4mTZqEjRs3iuVnOiPRsmVLg7/8pBdcUObWYcOG4ezZs6hSpYrYGuXl5YVq1aqleTBPTnCR/AmQgqCVp2XTyVCM3XoB6/vXQX0bTp4UHROLydsv4a+zd+FWIo/I8VE8n21ftzhz9xUsO3QLw5qVw4gW5bXySLKeNk7AWN9pyrxhaaTG2mhpPdPqb97+a1h08Dp8vm4MlwI51aIW68EEmIANE5Dym5LBBbGh5ed9+/Zh9erVIknRJ598gs8//xy0lSm9kl5wkbwdyadrBAMDA8WtH8lL8oN5GXlbFDGh5EkNZvvAtZiT2KNvi4UOKQ7fdBZ3I1/hy6bl8GXTsuLmJ1sv9DtAWXe3nL7DBzRtfbA1ZJ/UBJKeKcbOG5bGY4qNltZVX3+PnsWg/uyD6FnXBZM/5OvK1TAmrAMTsHUCUn7ToOCCINGhOQou9uzZgyZNmuD48ePi0NycOXPSZJhecEHbm3LkyCEyq65YsQJHjhzB2rVrxWG8tA7m0SHw/PnzJx3optuj0utfp5gUBC09BIu8r2Pu/mvYO9wTFQrn0pLq6epKB5yX+NzAQu/r4gYlOrRd0yXx0HZGKXTYe+C60zh49RGWdHdDmypFMorpbKdKCZjqO42ZNyyNwlQbLa2vvv6GbzwL7yuPcGxCMzjytbRqGBLWgQnYNAEpvykZXPz000/49ddfUaBAAfTv3x8dO3ZElixZRABQrlw5cZWsviJ1MO/YsWPo1asX7O3tUalSJaxcuVKc60jvYN7jx4/FqkloaCgo2+sff/whbo+SKlIQpNqr6fPIF29Qb5Y3PqxaFD98XE1Nqhmty53IxEPbJ4Mj0b5aUfHmPnf2jJnP49WbePRYGQC6fnhN31rwsOHtb0Y/MNzQYgSM9Z3GzhsWMyxZR8baaA1d0+rzXFgUOi45imntK6O3h4uaVGNdmAATsEECUn5TMrig6/xoC1TJku/eo33lyhVUrFhR9dikIKjegFQKTt5+Eb+fCMXRsU3h7OSgNfVT6Pv3+XuY+NcFvH0LTO9QGZ1qFDP4TI+mDU9H+aiXb/DJsmO4FxWDjQPqwrVYbls1le1SOQFjfaeW5g1jbVTb0FFw8exVrLiW1o5vnVPb8LA+TMCmCEj5TcnggmicOXMGfn5+4ktf/fr1xeFuLRUpCFqyhXQNjniBJnN9MbhxGYxu+b7W1Bf6Pn8dhynbL2HrmTuoQYe2u9ZAify2fWhbzkDdf/oKXX72x5v4t9j6RT2UzM8HNeXw47rKEDDFd2pl3jDFRmUoKyOFbtejJKO04tm4grMyQlkKE2ACTEAPASm/KRlcfPvttyITdufOnYX4bdu24eOPPwbdBqKVIgVBK3Yk13PQutM4dusx/Mc1RU6N7bE9G0qHts+BclgMbVIWXzYrl+ESAxryzN14FI2Pfjkm8nps+aIenHNpe5XKEJu5jroIGOs7tTRvGGujukYKeBOXIA52Vy5quxd+qI0568MEMioBKb8pGVzQtie6LtbBIfGLzatXr8TKBW2J0kqRgqAVO5LrSbcqdVnqj6kfVkKf+qU0YQId2l7qewPzDyQe2p7ftTpql5I+M6MJ48ykJAVi3VcEoFSBnNg0sC5yOWTMsyhmwstiJQgY6zu1NG8Ya6MaH56FB65j/oFrOPh1I5Qu6KhGFVknJsAEbICAlN+UDC5at26N33//HZRjggrd8kQZUXfs2KEZPFIQNGNIKkU7/3wU4c9fw3dUE9Vndr4X9UqsVpy4/QQfVisqksVl1EPbcp8336uP0P/XU6jlkg+r+9aCQxZ7uSK4PhMwioCxvlNL84axNhoF1MyNwqNfw2OWNz6rUxJT21c2c28sngkwgYxKQMpvSgYXdDvUyZMnxbWzdOZi//79aNCgAZydE/d00q0gai9SENSuf1r67bl4H4N+O4OfP1P3taU7A+9j/J+BoJWL6R1c0dmND23Lfeb+OnsHIzadR2vXwljc3U31waRc+7i+OgkY6zu1NG8Ya6M6RwwYuekc9l56gOMTmvFKp1oHifViAhonIOU3JYMLuoY2vdK7d2/VI5KCoHoD0lCQvqw3neuLvDmy4q/BHqq7ZenF6zhM/fsS/jh9B9WK58FPn1bng8kmPGxeR27hu51X8FmdEmLlh4J9LkzAnASM9Z1amjeMtdGc3E2RTddYf7jYD1M+rIS+Gtkya4q93JYJMAHLE5Dym5LBBan85s0bXLt2TWhPWbIpz4WWihQELdmSWte1x4IxefslbBlUT1VJ586HRWHYxrMIefISQxqXxbDmfGhbieds5u4rWHboFoY3L4fhzcsrIZJlMIE0CZjiO7Uyb5hio1ofHTqP9/j5axz8ujFfS6vWQWK9mICGCUj5TcngwtfXF7Q64eLigrdv3yIsLEwk1fP09NQMFikImjFEj6Iv38TBY9ZB1HbJh+W9alrdFFpNWXb4JubtuwbnXNnEoe06pfNbXS9bUYB+B0f9ESiu8KXVix51380/Yyu2sh3WJ2Cs79TSvGGsjdYfnbQ1+Of8PXz5+1ms6lMTTd8vpGZVWTcmwAQ0SEDKb0oGF+7u7tiwYYNYsaBCKxiUffv06dOawSEFQTOGpKHo3H1XsdjnhnhLRbcKWatQbgbKtH381hO0rVoEMzpWQe4c2lrlshY7Of3Gxidg4LrT8Ln6CEu6q/u8jRy7uK76CBjrO7U0bxhro/pG6z+NyEc0mH0Q5QvlwrrP66hZVdaNCTABDRKQ8puSwUXVqlURGBiYwnR9P1MzGykIatbdEN3ohpD6sw7ik1rv4buOVQxponid3f9n7zygqjqaOP4XFRugoqDYu8YuKoqKLbZYo7HEXmPvMUbjl6gp9pZYomjsXWNFY4kRUUTsKBYsKKKAggVRVJrfmTXYAuzjcd979743ew4Hhb27M79ddt/cnZm9GIpx2y6CNjXKUtKhagGOCVCc8rsGX8TEo9sfviD/6pV9qqNW8dwG7I2btlQC+q6dWto39NVR7XNiwT/XMevANfw9ui5KONqqXVyWjwkwAQ0RkK2bUuOid+/esLKyQvfu3YXa69atQ1xcHFasWKEZDDIImlEkBUG/3XoBO87fE5fq5bLJZDSVKGj7x92Xsel0MCoVyI55X1Yx6emJ0RRXQUdPomPQYbEPQiNfYmP/miifP7sKpGIRzImAvmunlvYNfXVU+zhTzIXrtH/QqVpB/PR5ebWLy/IxASagIQKydVNqXLx69QoLFy7EsWPHRMwFxVoMHjwYmTIZ7wNsWnnLIKS1fTU8f/1+FBrP9cKoRqVE8LQxyoW7FLR9HrcfPsegesUxqnEpvmnbGODf64Nc0b5YdBwx8a/x5yBXzsZlZP7m3p2+a6eW9g19ddTC2I/Z4oe9F0PhM/5TvldICwPGMjIBjRCQrZspGhcJCQmg421/f3+NqJu0mDIImlbuPeH7rDwFytLkPa6hQS9aSxBB24GgWA8H20yY07EyXItz0Lap5tGNB1Fov9gHdpkz4s9BtcSYcGECShDQZ+3U2r6hj45KsDVGG/73ItFy/jH8r8Un6OdWzBhdch9MgAlYAAHZuik9uejatSumTp2KQoUKaRaXDIJmFftI8OM3I9BlqS+mtquAzi6GGa+wyJcYvfk8jt98iOYV8mJK2wrIkdXaXBBqVo9zdx6LsS/mkE24SNlm5kB6zQ6migTXd+3U0r6hr44qGqYURem42AdhT1/i8Jj6Zn35JsWh0eWB5C7as1YRjvnTygRlOTVJQLZuSo2Lhg0bihu6XVxckC3bu0xEu3bt0gwQGQTNKCIRlNzW6PKk6Jh4/D2qnuL5zff5h2Hctgt4FUtB22XRsVpBXsBVNHk8Ax6g36rTqF7EHit6Vzfo6ZWK1GZRDEhA37VTS/uGvjoaELuiTZNb1OB1Z7GsRzU0KmteaWlpzzsd9BhbT9/FnouhePYqTrBb168GapfgJBeKTiRujAm8R0C2bkqNiyNHjiQJtF69eimC7tOnDzw8PODo6JikW9Xjx49BdW7evInMmTNj+fLlKF++vLhHo0ePHggLCxOB5P3798eIESNEX5MmTcLSpUvh4OAg/j9lyhQ0b95cOuAyCNIGNFRh5/l7Ig5CyY2E7tL4yeMyNpwMRoX82fHrl5VRzMFGQ1QsR9Tt5+5i1CY/cao0v7OzWb+ptJxRNZ2m+q6d+u4bptBUXx1NIas+fcbFJ8BtxmFxqrmuX019mlDdM/eevMC2M3fFfT+3H0Yjq3V6NK/ghM8r58c3W/3glD2zcBFNly6d6mRngZiAORCQrZtS4+Lbb7/F9OnTP2CR1M8+huXl5QUbGxthKCQVs/HNN9+I30+cOBFXr17FkCFDcOjQIYSGhoovZ2dnREVFgfKl79ixA2XLlhXGBT0zZsyYVI2NDEKqGlN5ZUoFW2/GYRS0z4pNA1zTLC357A7feA63Ip5jQN3iGN24FKwzWKW5XW7AcASWHQ3Ez3uuoFvNQvipTXneYA2H2uxb1nft1HffMAVQfXU0haz69rnI8wZm7AvAgVF1xd0XWizk9rTvUii2nrkr3HJfvwZqFrNH+6oF8Vn5vMiWKYNQa73vHXy3/SJW9KqOBmUctagqy8wEVE9Atm5KjQv6kH/27NkPFNX1novbt2+jZcuWSRoXLVq0wPjx41GnTh3RdvHixXH8+HHkyfPhsW2bNm0wdOhQNG7cmI0LHadb4ofLnUNqo1LBHDo+9WE1CtpeejQQsw4EIFe2TJjTqRLfpaAXSdM8NPWvK1hyJBAjG5XEyEalTCME96p5ArINJDkF07JvGBuavjoaW8609PfoeQxcpx7CF1ULiDg5rZSk3J4K2mfBF84FxBe9RPu40Au2hrM9RXas3UPr8MsVrQw2y6kpArJ1M1nj4vfff8eiRYsQGBgoPvgnFjpNqFWrlrjvQlZSMi6+++47vHz5EnPmzMHJkydFm76+vuKkIrHQ85T6lk4+7OzshHGxcuVK8W9SbPbs2ciZM2eSYri7u4O+qISHhyMoKEgmrtn8PuplLGpN/Qf1SjtgQRfnVOt1/+mboG3vGw/RrFxeESCeMxsHbacapAkfoE15zJYLwm3g58/Lo1vNwiaUhrvWKgHZBvKxXkrsG8Zmjc/JbQAAIABJREFUlVodjS2fUv3RXUg7/e7Bd3wjZM+q7oQPdx9HY/vZe9h69i6C3nN7al+1AFyK2EvjCel0g9LwLu5WFc3K51UKIbfDBJjAvwRk62ayxkVkZCQoLoJOF6ZNm/YWqK2tLezt7XUCnJJx8fTpUxFLce7cOVSoUEG4Ri1btgyVKlUSbT979gwU1zFhwgS0a9dO/Oz+/fvInTu3eBPx/fffC/cpitWQFRkE2fNa/P2UvVfwx7Fb8BxTP8m3O8npdOBSGL798wJexiZgYquy6FSdg7a1OP4kM73BG7DmDA4HPMCiLs74rIKTVlVhuU1EILVrpxL7hrFVTa2OxpZPqf4uhzxF89+O4rvmZdC/7rsXhkq1n9Z2KLaPkoYkuj1Re67FcoEMCjIQEt2edOmH4kyazPUS9y79NcJNaozo0ibXYQJM4B0B2bopdYuipuLj48UHe7qZO7Hokpo2JePi/UGit6xFixbFhQsXxKlEbGyscKdq2rQpRo8eneR46to2PSyDYI4TJuTJC9SdcRg9XIvgh1ZlpSqSP+tPey4Lf9Xy+e3w65dVUJyDtqXc1F6BxrXrshPwv/cUK/tUZ9c2tQ+YyuRLy9qp775hbARp0dHYsqa1v05LfHD38Qt4jW2gimQPtPefuv0YW88EY8+FUDyPiQe5PbV3Loh2zvlT9WLsYza7/EIwfMM5/Na5ClpXypdWdPw8E2AC7xGQrZtS42LBggXCHYliISh7ExU6OSBDQFZSMgCePHmCrFmzwtraWmSAOnr0KFavXi1uAe/Zs6c4HZk3b94HXdBJhZPTm7evc+fOFW5UGzdulIlhkcYFQRm16bzI++0z7tMUj8EpaHvExnO4GU5B28XwdZPSHLQtnVXaqUB53zss9kFo5EtxB0b5/Nm1IzxLalICsg0kOeHSsm8YW2F9dTS2nEr0t88/FAPXnsWS7lXRtJzp3IXI7Wnb2XvCbTPR7alFBSdxSkGptK2s0p7lieIGP/v1KGITEnBgZF1kSM+JSJSYQ9wGEyACsnVTalyUKFFCfIjPlSt1NzB37twZnp6eiIiIEIbJ5MmTxYkElYEDB8LHx0dkkkqfPr3IBPXHH3+I+Iljx47Bzc1NuEolGjOJKWe7d++O8+fPC+OmSJEiWLJkyVtjI6XhlkEw16lyKSQSLX47hm+blcGg+v89BqfFl1ynZuy/Cvts1uKmbc4Nbp6zITTyBb5YdBwx8a/x5yBXFM717s4a89SYtVKCgL5rp777hhIyp7YNfXVMbT9qqE/uQvVmeqKQfVZs6G/ctLRKuj3pypLcrAauPYNZHSoJw4ULE2ACyhCQrZtS46JBgwY4ePAgMmR4k+ZNi0UGQYs66SozucTcePAMR8c2/OA04sHTl/h6ix+OXo9Ak7J5MP2Lihy0rStUjda78SAK7Rf7iCwqWwfWgoNtJo1qwmIbi4C+a6eW9g19dTTWGCjdz5IjNzH1r6siFuETJzulm/+gPfJEOHnrkYijoMv8yO2JDBv6oN+2StrcnnQRPPFi2cgXsfjn6/oiBoMLE2ACaScgWzelxkXfvn0REBAASh2bKdO7DyPJxUKkXWTlW5BBUL5H9bRItzb3WnEKsztUEmkIqfx9+T7G/nkB9Cbph5bl0NmFg7bVM2KGleTcncfostRXXKhFLlK2mdWdNcawNLh1GQF9104t7Rv66ihjp9bfk5tkzamHxIVz076oaBAxgx+9c3u68yga2azTo0VFcnsqiOpFcho1Pezhqw/Qe+UpkYK3S41CBtGXG2UClkZAtm5KjQtyZ0qq0OV3WikyCFrRQx856c1Ns3lHQReVbh9cG7/svYy1J+6gXL43QdslHPmmbX24avkZyh711arTcClqjxW9qyNThvRaVodlNyABfddOLe0b+upoQOwGb3r8tovYdvYuToz/VLETa3pZ9dfFN9mefAIfCh1qFX+X7SmrtWm8H2gPbPf7cYRFvsThMfWROSOvdwafYNyB2ROQrZtS4yIpQpQ1SktuUjII5j4LNp8OxtitF5DXLjPCnr5EfxG0XYo/VJr7wKeg3/ZzdzFqkx+aV8iL+Z2dVZE5xoKHQ7WqK7l2qnXfUFJH1Q7kR4IFhEWh6TyvZOPxdNWD4vZO3f7Q7alwrqzigjvK9lQg538vudO1bSXred+IQNdlvpjUqix61S6qZNPcFhOwSAKydTNZ44JuzqbgaioUSL1mzZq3AJO6fVXNdGUQ1Cy7ErK9iotH/ZmeiE94jdkdK8GtpIMSzXIbGieQeJN795qF8WObckZ1VdA4OosRP7Vrpxb3jdTqaC6D32XpCdyOeC7S0qY2kxK5PVGmJ/oKfvRCuD21rJgP7asVQLXCxnV70mU86PTiS/cTCCR9v2mALNZ8eqELN67zIQE6/Vp7Igi5bKyF10dJR1vksctkkXunbN1M1rioUqWKuOCOyvv/Tur/ap+AMghql18J+SKevRLHwTaZTHM0rYQO3IbyBKbuvYIlXoEY1agURjQqqXwH3KKmCaR27UzrvtGnTx94eHjA0dER/v7+/2FHl/R169YNd+7cEfcujRkzBr179xb19u3bJy5mpfs1+vXrh3HjxunEPrU66tSoBirRhan915zB7111u2Dz+as4/CUuuQvGicBHwtU20e2J0tqayu1JV9QUWN5xiY9qLxHUVQ+uZxoCj55TSvfjImX/+4U+UxUXhobNvwbHm+90apdegZTKptFW3qts3UzWuHj/dOLjkwo+uZCD5xpMQAsE6I3emC0XxBvInz8vj241C2tBbJbRSARkG8jHYqR13/Dy8oKNjY1IU56UcUFpycnAmD59OsLDw1G6dGmEhYWJlOalSpUSmQ0LFCiA6tWrY8OGDSLNuaykVkdZe1r5PZ1k1591GE7Zs2DzANckxSa3p5PvuT1Fx8SD3J7aOxdAWxW5PenKvPsfvrgU8lSc1vCLNl2pcb1nr+JAJ33kTri6jwuKOdiILJyUgVF8D3+G6/ef4UHUq7ewMmWwEvXenHC8+05p4K0zaD9rmWzdTNa4KFasGGbPno2EhAR88803mDVrloBGH0bGjh2LmzdvambGySBoRhEWlAkYgEBsfAIGrDkDCvRe1EW3t5gGEIObVCGB1K6dSuwbKV2+OnXqVAQHB2PhwoWgeo0bN8a1a9fEXUx02ev+/fsFRapHZfz48VKqqdVR2qCGKiS6Ru4ZXgfl8r27XPNjtyf6IN5SZHsqgKoqdHvSFfn54Cf4fKE3xjQphaEN+aRWV26WXO9lbDz6rDwF31uPsKRbVTQqmydZHJTymIyNmw+e4fp7hge5DiYWOs0gA/2dwWErDJDiDjaacteTrZvJGheJR83JUVyxYoVm5psMgmYUYUGZgIEIvIiJB92J4n/vKVb1cYFr8dRdmmkgsbhZExNI7dqpxL6RknERFRWF1q1b4+rVq6B/b9q0SaRJ37p1q3CLWrZsmSBGMYJkcNBN4UkVd3d30BcVOgEJCgoyMWnTdE8fhmpOOYRWlZwwsVU5cRcFZXuiD1Lk9lS7eG5hUJDbk7nEKfRbdUrcvXH024bizh8uTCA5AnTp5JD1Z7H/0n3M7VQJbavodxEj7a83w+mk481XouFx+2G0iIWlQn9v+XNk+eCko4TjG8NDjfNUtjfolS1Ka1NRBkFr+rC8TMAQBCj/fYfFPiJl48YBNT94k2mI/rhNwxIglxbKFNfOuYDex/CmWDtTMi7IiPD29sacOXPE6TmdXPj5+YkTC/p637g4efIk5s+fL4VsCh2lQhmxwv92XMSmU8HigjlyeypCbk90yZ1zAfFhx9zKpZBItPjtGIY3LIHRTUqbm3qsj0IEyEvn2z8vYPPpu5jYqix6GyDLWExcAoIePv/X4Eg0PJ4hMPwZXsUlvNXE0TaTMDISXazexHjYIreNtcmCyWXrJhsXCk1EboYJmAOB0MgX+GLRccTEv8a2QbVQKJc6UkmaA1tj67DmRBC+3+GPRV2d0byCk17dyzYQvRqVPJSScUGnFBSo7ebmJlpp2LAhpk2bJoK42S1Kv9GgjFH9Vp8WWZ607vakK4HB687A61qEiL2wz2at62Ncz0IIkGFBt9i7ewVi+KclMbpxKaNqTqcZdx9Hv3fS8e7Ug+I/EgudaCS6VyUaH/Q9X/YssDJwMLlsb2DjwqhThjtjAuonQEFq7Rf7iKPYrQNrwcE2k/qFZgk/IEBGYuM5XqhSKIcIQExHZ+56FNkGokeT0kdSMi4GDRqEPHnyCEPi/v37oAByOrnIkSOHCOg+dOgQ8ufPLwK6169fj3Llykn7M4WOUqG4gkEJXL8fhSbzvMSdT+M/+8SgfXHj2iOwyPMGZuwLQE/XwpjUWj1p2snouf/01bt4DuFi9SbG4+HzmLegs1qnFzEcZHjQKUfiiUch+6ypTjud3OjJ1k02LrQ371liJmBwAmfvPEbXpb4o5pANG/vXhG1m9k02OHSFOqANiFKMHr0ejgMj66Xp9Em2gSgk8ttmOnfuDE9PT0RERAgjgm76jo2NFb8fOHAgQkJC0KtXL4SGhorkInSKQalpqezduxcjR44UpxiU0nbChAk6iWdsHXUSiisZnMDIjeew71KYOL1wtM1s8P64A20QWO97B99tv4g2lfNhbsfKBj8BUIoKpcp9P54jMb4jNPLl2y6s01uhaO5sbwLI/81iRYka9Hn5JFs3pcbFli1b0KxZM9ja2uLnn3/G2bNn8b///U+8MdJKkUHQih4sJxMwJgHKHvXVqtNwKWqPFb2r843uxoSfhr7+uhiKQevOKpLPX9+1U0v7hr46pmGI+FEVELgV8RyN5hxBD9fCIpidCxPYcyEUQzecRf1SDnDvUU3EIWm9RL2MFXdzJBoebzJZPQNlhCOvBN/vGumlomzdlBoXFStWxIULF8Rt3ZTWjy4tolzjlIlDK0UGQSt6sJxMwNgEtp29i9Gb/dC8Ql7M7+xs1pcCGZutIfqLjI5Fo7lHxK2xOwbXTvMRuL5rp5b2DX11NMT4cZvGJTB2qx92nA/BkW/qg+774GK5BLyuhaPvqlOoXJBcSWuYTXa05EaUUuw+ePpK75Nt2bopNS4Sb1wlw6JChQro0qXLf27sVvt0lEFQu/wsHxMwJYGlXoH4Ze8VdK9ZGD+2UY//qSmZqLXv8dveZDfZOaQ2yud/d2+BvvLqu3Zqad/QV0d9mfJz6iFAb28bzvZEx2oF8UvbCuoRjCUxKoFEN+Aiud+4Aasx9atRgejQmWzdlBoXLVu2FAFyf//9N86cOYMsWbLAxcVFBNGlVMjn1cPDA46OjknetPr48WPhF0vpBDNnzozly5ejfPnyoknKVz5ixAjhO9uvXz/hV0vl0aNH6NSpk7g8qUiRIti8eTNy5swpxSCDIG2AKzABCycwde8VLPEKxKhGpTCiEV8+pcbpcCLwIb50P4EBFKTaXJkgVX3XTn33DVNw1VdHU8jKfSpPIDEV7z9f10dBe86OpzxhdbdIt253XOKDHFkzYstAV46/0XG4ZOum1LiIjo4WH/bp1KJkyZIikO7ixYto0qRJiiJ4eXnBxsYGPXr0SNK4oFu/6fcTJ04UFyINGTJEZPogg4Kyfhw8eBAFChQQWT82bNiAsmXLipvB7e3thbFB6QfJQJk+fboUhQyCtAGuwAQsnAAFz47ZcgF/nr2LX9qWR9cahS2ciLrUpyPu5r8eRVzCa+wfWVexI31910599w1TUNVXR1PIyn0qT4Du9ak78zDaVMqHmR0qKd8Bt6haAnRy9cXvx8UFdpQZkY1L3YdKtm5KjQs6WaAP+ZkyZRJZPCj+ggwGSv0nK7J85eRqVadOHdFM8eLFcfz4cQQGBiabr7x06dJCBicnJ2Hk1K9fHwEBATIxIIMgbYArMAEmgNj4BAxYcwaeAQ/E3QnNyut3dwKjVJ7ArP0BWHD4Btb0dYFbSQfFOtB37UzLvqGY8Do2pK+OOjbP1TRA4Mfdl7HK5zYOjqqLYg42GpCYRUwrgQdRL8WlsU+iY7F5gCtK57VNa5MW9bxs3ZQaF5UrV8bp06eFK1LTpk3RunVr8YGe0v7JSkrGxXfffYeXL1+Km1bpJtVatWqJIPFbt26Jk5L3b1qlny9YsEAYNE+ePHnbLblE0elFUsXd3R30RSU8PBxBQUEycfn3TIAJSAi8iIlH12Un4H/vKVb1cYFr8VzMzMQEroQ+Rav5x9Cmcn7M7qjsm1fZBpKc6mnZN4yNU18djS0n92c4AuFRr1B3xmE0KZcHv35ZxXAdccuqIBD5Ila4kNLt2Gv71YBzIbl7vSoEV5EQsnVTalxQyllKPztjxgwRbzFs2DCdA7pTMi6ePn0q4irOnTsnXK7INYoMimvXrmH//v0fGBdkfMyfPz9VxsX7YyCDoKLxYlGYgOoJPImOEW98yJ1g44CaKJcv7YHDqldapQLSTa7tfj+Ou4+i8ffoesip8G3D+q6dadk3jI1aXx2NLSf3Z1gC0/66iiVeN4VbYak8/BbbsLRN1zq9IOv+hy/87j7B8l7VFT3pNZ1Wxu9Ztm5KjYsaNWqIi4l++eUX7N69G0WLFhWB1/7+/lJtUjIu3n+Y/LmpXXK5unTpErtFSclyBSZgWgJ0A/QXi44jJv41tg2qpXc6O9Nqof3eV3jfwuTdl/Hrl5XFyYXSRbaBJNdfWvYNpXWQtaevjrJ2+ffaIvD4eQzcZhyGW8nc+L1bVW0Jz9LqRIBce/uvPg3Pa+FY0NkZLSqya69O4JKoJFs3pcbF5cuXsXjxYri6uoJuTyW3pU2bNr3N4JSSYCkZF+TelDVrVlhbW2Pp0qU4evQoVq9ejbi4OBHQTcHdlKWKArrXr1+PcuXKgYLAc+XK9Tagm7JH0YmKrMggyJ7n3zMBJvBfAjceRKH9Yh+Rto+C4ehCHi7GI3D3cTSazPV6c8lhr+p63bIqk1bftTMt+4ZMJqV/r6+OSsvB7ZmewJyD1/DboevwGFZHkVTOpteIJUgkkJDwGqM2n8fO8yGY2q4COrsUYjhpICBbN6XGBfUdExMj3JWoUFB1xowZpSKRIULB1xEREciTJw8mT56M2NhY8dzAgQPh4+MjAsPTp08vMkH98ccfb9PKUjwHnZZQ5ihKVzthwgTx3MOHD9GxY0fcuXMHhQoVAt0CS9mjZEUGQfY8/54JMIGkCSTmBy/m8CY/uG1m+drALNNOgE57+6w8Bd9bj3BgVF0UyGmYFJppWTv12TfSTib1LaRFx9T3xk+omQD54lPsRbXCOfFHr+pqFpVlSwUBWi8n7rqE1T5BGNusNAbXL5GKp7lqUgRk66bUuCADoWfPnuJeCRqg4OBgrFq1CnXr1tUMcRkEzSjCgjIBFRI4HPAAX606LYK7V/Z24Vu8jTBGu/xCMHzDOXzfsiz61ilqsB71XTu1tG/oq6PBoHPDJiWw8PANzNwfgO2Da6EKB/qadCyU6jzxRKo/3QH0WRmDnPIqJatW2pGtm1LjomrVqsItiU4sqNAJBp1K0IV6WikyCFrRg+VkAmolsOnUHXz750UMrl8cY5uVUauYZiEX+YY3mnMEBXJmwbbBtQ1qzOm7dmpp39BXR7OYTKzEfwg8fxUnYi/K5bPDmr41mJDGCSTGpXWsVgDTv6jIhoVC4ylbN6XGRcWKFUWg9fslqZ8pJK9BmpFBMEin3CgTsDAC47ddxIaTd7Cke1U0LZfXwrQ3nrpjtvhhx7l72D2sDj5xsjNox/qunVraN/TV0aDguXGTEljqFYhf9l7Bpv41UaMYp9s26WCkofNtZ+9i9GY/NC2XBwu7OCNDeqs0tMaPvk9Atm5KjYvevXvDysoK3bt3F+2uW7dOBF2vWLFCM6RlEDSjCAvKBFRM4FVcPDou9kFg+HPsGlYHRXNnU7G02hTt2PUIdPvDF0MaFMc3TQ1/QqTv2qmlfUNfHbU5g1hqXQhQutJ6Mw+jSO5swsBIR1c4c9EUgb8v38eAtWdQo6i9SDmbOWN6TcmvdmFl66bUuHj16hUWLlyIY8eOiZgLirUYPHiwuLFbK0UGQSt6sJxMQO0E7j15gZa/HYWjbWZsH1ILWa0zqF1kzchHH3iazvMSblB/jXAzymap79qppX1DXx01M3FYUL0IrDp+WwQBr+1bA3VK5tarDX7INAR8Ax+ix/KTKJPXFuu+qgmbTLwPKT0SsnUzReMiISEBdLyty50WSguuZHsyCEr2xW0xAUsncPR6uFjYW1fKh3mdKvNbP4UmxNS/rmDJkUBs+Kqm0W5G12ft1Nq+oY+OCg0pN6NiAnQS22CmJxztMovgbj69UPFgvSea/71IdHY/gTzZM2PzAFfYK3yxqDYoGF5K2bopPbno2rUrpk6dKlK/arXIIGhVL5abCaiVQGLGlUmtyqJXbcNlM1Kr/krLRRtmm4Xe6FC1AKZ9UVHp5pNtT9+1U0v7hr46Gm0QuCOTEdh48g7GbbuI5b2qoWGZPCaTgzvWjUBg+DN0WOwjTnW3DnKFU/Ysuj3ItVJNQLZuSo2Lhg0b4tSpU3BxcUG2bO98qHft2pVqYUz1gAyCqeTifpmAuRKgC4v6rzkNz4BwbBpQE1ULy++jMVcWadUrLj4Bny/yRljkKxwaXQ/ZsxrvLhF9104t7Rv66pjWceXn1U+AbnT+dPYR2GbOIC7W49ML9Y5ZyJMXwrB4GRuPLQNdUczBRr3CmoFksnVTalwcOXIkSQz16tXTDB4ZBM0owoIyAQ0RoAupWi84JhZ7j2FufIO3nmOXmLmGsp20qOikZyv6Pabv2qmlfUNfHfUjyk9pjUBixqHF3ZzRrLxx//60xspU8j56HoMOi4/j/tNX4jLX8vmzm0oUi+lXtm4ma1zcuHED9+/fR+3atT+A5eXlhfz586N48eKagSiDoBlFWFAmoDECV0Kfou0ib1QqkAPr+tXgVICpHL87D6PRZN4R1CnhgKU9qhr9zWlq104t7hup1TGVQ8jVNU4gPuE1msw98m8ihboGvVdG46hMIv6zV3HosvQEAsKisKqPC2py6mCjjINs3UzWuGjZsiWmTJkiArrfL6dPn8bkyZOxe/duoyigRCcyCEr0wW0wASaQNIHt5+5i1CY/0O2o3zX/hDHpSICy81Fg/Lk7T3BwdF2Ywn84tWunFveN1Oqo4/BxNTMi4HEhBEPXn8OvX1ZGm8r5zUgzbatCp+J9Vp6C761HWNKtKhqV5bgYY42obN1M1rgoX758slmiKlSogIsXLxpLhzT3I4OQ5g64ASbABFIk8MNOf6z2CcKirs5oXoFdC3SZLonuGD+2KYcerkV0eUTxOqldO7W4b6RWR8Uhc4OqJ0AxZM1/O4pXcQk4OKoun8CqYMQoFm3I+rPYf+k+5nSshHbOBVQgleWIIFs3kzUuSpQoATriTqqk9Ds1opVBUKPMLBMTMCcCMXEJ6OTug2thUdg5tA5KOHKwXUrj+/DZKzSac0RcRLh1YC1YWZnmEq/Urp1a3DdSq6M5/V2yLroTOHApDP3XnMHM9hXRoVpB3R/kmooToFPdb/+8gM2n7+KHlmXRpw5nJFQcsqRB2bqZrHHRuXNnUMaPr7766oMu/vjjDxw4cACbNm0yti569yeDoHfD/CATYAI6EwiNpAv2jiFnNmvsHFIb2fhio2TZjdx4DnsuhmLvcDeUzGOrM2OlK6Z27dTivpFaHZVmzO1pgwB9oKV00BQ8/M/X9WGdwUobgpuZlDQOU/+6CnevQAxvWAKjm5Q2Mw21oY5s3UzWuKBg7rZt28La2hpVq1YV2lK8RUxMDLZv3468efNqgwAAGQTNKMKCMgGNEzh+IwLd/vDFZxWcsKBzFaMHKGsB3+GAB+i94hSGf1oSoxuXMqnIqV07tbhvpFZHkw4Id25SAp4BD9BrxSn80rY8utYobFJZLLXzRZ43MGNfAHq4Fsbk1uV4DzHRRJCtm9JUtIcPH34be1GuXDlxmqG1IoOgNX1YXiagZQKLj9zEtL+u4n8tPkE/t2JaVkVx2Z+/ikOTuV7InNEKe0e4IVOG9Ir3kZoG9V07tbRv6KtjajhyXfMgQG/N2y/2wb3HL+D5TX1xWRsX4xFY73sH322/iNaV8mFep8omcxc1nsbq7Um2bkqNC31V69OnDzw8PODo6JhkYHhkZCS6deuGO3fuIC4uDmPGjEHv3r0REBCATp06ve02MDAQP/74I0aOHIlJkyZh6dKlcHBwEL+nbFbNmzeXiiiDIG2AKzABJqAYAdqgB649g7+vPMD6fjVQg1MHvmX7k8dl/HHslrgEqnoR0188aAlrpyXoqNgfLzeE4zcj0GWpLya2KovetdnX31hTYs+FUAzdcBb1SlFa7mrImJ7d0ozFPql+ZOumwYwLug/DxsYGPXr0SNK4IMOADIzp06cjPDwcpUuXRlhYmHDDSizx8fHiTg1fX18ULlxYGBfUJhkiqSkyCKlpi+syASaQdgJRL2PRZoE3ol7FYc+wOnC0y5z2RjXegl/wE3EnSGeXQvilbQVVaGMJa6cl6KiKyWRGQnR2P4HrD57h6NgGyGLNpxeGHlqva+Hou+qUuC9pTd8azNzQwHVoX7ZuGsy4INlu374Nynvu7+//H1GnTp2K4OBgLFy4UNRr3Lgxrl27Biurd9YoBY7TnRre3t7ieTYudBhxrsIENELg2v0oYWCUy2eHDf1rWvSbqNj4BLSafwyPo2NwcHQ92GXOqIpRlG0gqhAyjUJYgo5pRMSPf0Tg9O1Hwj1q/GdlMKCedi4U1uJAnr3zGF2X+qJwrqzYNMAV2bOoY23UIkslZZatmyYzLqKiotC6dWtcvXoV9G/KPtWiRYsPdCfXKmdnZwwdOvStcbFy5UrY2dmJIO3Zs2cjZ86cUl4yCNIGuAITYAIGIbDLLwTDN5xD79pFMLFVOYP0oYVGE4MUl3Sviqbl1JMswxLWTkvQUQt/A1rf64mQAAAgAElEQVSTsefyk7hw9wmOftsQNpz5ziDDR7dud1zigxxZMwpXUUdbPuE2CGg9GpWtmyYzLrZu3SpOJObMmYObN2+Kkws/Pz9hOFChrFT58uXDpUuXkCfPm1sXKRNJ7ty5RXaA77//HqGhoVi+fHmSWNzd3UFfVMjtKigoSA98/AgTYAKGJjB59yWs8L6N3zpXEYF6llZuRTxH03leaFjaEYu7v8nMp5Yi20DUImda5LAEHdPCh59NmgAZFq0XeOPrxqUw7NOSjElhAsGPovHF78dFq38OqoWC9lkV7oGbSwsB2bppMuOCTinGjRsHNzc3oR9loZo2bRpcXFzE/3fu3Clcpsg1KqmSksvVx/VlENICmJ9lAkwgbQTIJYh8mC+FPMXOobVRyoT3OqRNk9Q/TcHtFBzqHxKJv0fXQx6VxZ5YwtppCTqmfmbyE7oQ+Gr1aZwIfIhjYxsie1Z219GFmS51HkS9RIfFPngSHYvNA1xROq/p7vrRRV5LrCNbN01mXAwaNEicSFAcBZ1IkPsTnVzQyQSVL7/8Ek2bNhUZpBILnVQ4OTmJ/86dO1cEem/cuFE6rjII0ga4AhNgAgYl8ODpSzT/7RjsMmcQBoatSmIODKo0gM2ngjH2zwuY0rYCutQoZOjuUt2+JaydlqBjqgeeH9CJwJXQp/js16MY1rAEvubL3HRiJqsU+SIWX7qfwO2I51jbrwaqFpa7vsva5N8rT0C2bhrMuKCbWj09PRERESGMCArMjo2NFRoOHDgQISEh6NWrl3Btord3dIpBqWmpREdHo2DBgqA0tNmzZ39LpXv37jh//rxwiypSpAiWLFny1thICZ0MgvLYuUUmwARSS8A38CG6LPNFo08csbhbVbO/HInezjWafQRlnOyw8auaqszZbuy1U5bCfObMmVi3bp2YWpTC/MqVK8Lt1d7eXuwJtra2SJ8+PTJkyCAufdWlGFtHXWTiOtohMGT9WXhefSBiL+yzvct2qR0N1CPpi5h4dP/DF353n+CPntVRt9Sbawe4qI+AbN00mHGhJhQyCGqSlWVhApZMYNnRQPy85wrGfVYGA808Cwt9KDl4+T7+GuGG4g42qhx2Y6+dshTm70PavXu3OMH+559/xI/JuCCDIvH0W1egxtZRV7m4njYI3HgQJS6+/MqtGMY3/0QbQqtQSnKP7b/6NDyvhWN+5ypoWdHy4u9UOCzJiiRbN9m40NJosqxMwMwJ0Cnm0A3n8NfFUKztWwO1SrxxkzS38vfl++i3+rTqg0FlG4ghxkXXeLouXbqgQYMG+Oqrr9i4MMRAcJs6Exi96Tz2+ofCa2wDzmikM7V3FRMSXmPU5vPYeT5EtS6ieqhl1o/I9gY2Lsx6+Fk5JqA9As9exeHzhd54/DwGHsPrwCl7Fu0pkYLEdIEgvemkuyx2D6sD6wzqvWlWtoEYYmB0MS7IdbZAgQK4ceOGcImiUrRoUZGanNxmBwwYgP79+ycrHmcTNMTIWW6bQQ+fo+HsI+heszAmtbbclNr6zAB6oTRx1yWs9gnCN01LY0iDEvo0w88YmYBsb2DjwsgDwt0xASYgJ3DjwTO0WXAMpfLaYlN/V1V/AJdr82GNiTv9sfpEELYNqoUqhdQdrCjbQFKruy71dTEu6F6ktWvXglyjEgvF8VH68gcPHojU5vPnz0fdunWlXZpCR6lQXEFzBMb9eQHbzt6D5zf1kS+Heb0QMeRgzDl4Db8duo6v3Iriu+afmH2snSFZGrNt2brJxoUxR4P7YgJMQGcCey+GYvC6s+jhWhg/timv83Nqrngm6DHaLz6Onq5FNPGGU7aBGIK1LsZF27Zt0aFDB5BrVFKFshDa2NhgzJgxUhFNoaNUKK6gOQL3nrxAg5meaF+tgHDt4SInsML7FibvvowOVQtgRvuKbFjIkammhmzdZONCNUPFgjABJvAxgSl7r8DdKxBzO1VC2yoFNA0oJi4BLecfxbOXcTgwup4mbvWVbSCGGBCZcREZGSlcoIKDg5EtWzYhwvPnz5GQkCCyRdG/6eTihx9+QLNmzaQimkJHqVBcQZMEftjpj/W+d/DP1/VRKBdf+pbSIG47exejN/uhSdk8WNTVGRnSq9c9VJOT0cBCy9ZNNi4MPADcPBNgAvoTiItPQNdlb1ITbh9cG5842enfmImfpKN/cgFY3qsaGpbJY2JpdOtetoHo1orutWQpzKmllStXYt++fR/ccURpy+k0gwqlqKUTjQkTJujUsbF11EkorqRJAvefvkTdGYfRqlI+zOpQSZM6GENoSmgxYO0Z1Chqj+W9qiNzxvTG6Jb7UJCAbN1k40JB2NwUE2ACyhMIj3ol3vjTBrRraB1kz6K9m3ApXWXzX4+hSbk8WNDFWXlIBmpRtoEYqFujNmsJOhoVqIV39rPHZSz3voWDo+upNsW0KYeI7jPqsfykuHV7/Vc1NXGCa0peau1btm6ycaHWkWO5mAATeEvgTNAjdFpyAvVLO8C9ezVVXjiX3HBRmsVO7j64dv8Z/h5dDw62mTQzsrINRDOKpCCoJehoDuOkFR0inr0SpxeNPsmD3zpX0YrYRpHT/14kOrufgKNdJmwZWIsvHTQKdcN0Ils32bgwDHdulQkwAYUJrPS+hUm7L2suXeE63yBM2O4vAhY7ViuoMBXDNifbQAzbu3FatwQdjUOSe0kkMGPfVfx+5Cb2jagr3tBzAQLDn6HDYh9kymCFrYNqcUYtjU8K2brJxoXGB5jFZwKWQoDyoY/cdB67/EKwuo8L3Eo6qF71sMiXaDznCCoUyI51/WpoLhuKbANR/QDoIKAl6KgDBq6iIIEn0TFwm34YtUvkxuLuVRVsWZtNhUa+QPvfffAyNh6bB7qyu5g2h/EDqWXrJhsXZjDIrAITsBQC0TFxaLvwOB5EvYTHcDfkV3k++QFrTsMzIBz7R9ZFkdxvMhtpqcg2EC3pkpyslqCjOYyT1nSY9/c1zPv7OjyG1UH5/Nm1Jr5i8lL67W+2+OFB1Cts7F/TolkoBlUFDcnWTTYuVDBILAITYAK6E6Dj9TYLvFHUIRs2D3BVbaaRff6hGLj2LL5tVgaD6hfXXUEV1ZRtICoSVW9RLEFHveHwg3oTePoyVsReOBfKKTIiWVqhF0DT/roqLhbMa5dZxJ+4FLW3NAxmq69s3WTjwmyHnhVjAuZL4MClMPRfcwadXQphajv1XVgV+SJWuEPlssmEXUNrI6NGc7jLNhBzmGGWoKM5jJMWdVjkeQMz9gXgz0G1ULVwTi2qkGqZY+MTsOr4bXFq8youHv3cimFogxLIlilDqtviB9RLQLZusnGh3rFjyZgAE0iBwHQKmvS8qcpA6e+2X8TGk3ewY0htVCyQQ7PjKNtANKvYe4Jbgo7mME5a1IHcOOn0okxeO6ztV0OLKqRK5mPXIzBp9yXcePBMZPab2KocimrQHTRVSltoZdm6ycaFhU4MVpsJaJ0AXbDXc8VJnLr9GNsG1VKNLy/lce/kfgL96hTF/1qW1TRm2QaiaeX+Fd4SdDSHcdKqDsuOBuLnPVdEvEHNYrm0qkaKct99HI2fPa5g36UwFLLPih9alsWnnzhqLoGFWQ6OgZSSrZtsXBgIPDfLBJiA4Qk8fEYX7B1Deqt0InAyR1Zrw3eaQg+UDaX5b0cRE5eAA6PqIqu1tl0BZBuISWEr1Lkl6KgQKm5GDwK0JtSbeRiF7bNh04CaZvWBm3RbciQQ5P6VLh2E+xO5QfGN23pMFI09Ils3DWZc9OnTBx4eHnB0dIS/v/9/sEVGRqJbt264c+cO4uLiMGbMGPTu3VvUK1KkCGxtbZE+fXpkyJABp0+fFj9/9OgROnXqhNu3b4s6mzdvRs6ccj9GGQSNjSmLywSYwHsEzt15jI5LfETax+U9q5v0gr05BwLw2z83sKqPC+qVUn+qXNlEsoS10xJ0lI0z/96wBNb43Mb3Oy+JFNp1zWBdoLTgBy/fx48el3H38Qu0qOCE71p8ovrsfYYdZctqXbZuGsy48PLygo2NDXr06JGkcTFlyhSQgTF9+nSEh4ejdOnSCAsLg7W1tTAcyKDInTv3B6M1duxY2NvbY9y4cZg2bRoeP34snpcVGQTZ8/x7JsAE1E1g7Ykg/G+HP0Y2KomRjUqZRNiAsCi0+O0oWlXKh7mdKptEBqU7tYS10xJ0VHpecHupI0CBzQ1nHUFu20zYMbiWpk8vboY/w+Tdl+F1LRyl8thgUqtyqFXiw89qqaPDtbVIQLZuGsy4IFh0wtCyZcskjYupU6ciODgYCxcuFPUaN26Ma9euwcrKKlnjggwQT09PODk5ITQ0FPXr10dAQIB0XGQQpA1wBSbABFRNgN6kfb3FD9vP3RNpHxuUdjSqvPEJr9F+8XHcjniOv0fXE1mizKFYwtppCTqaw1zUug6bTt3Bt39exLIe1dCobB7NqfPsVRzmH7qO5d63kDlDeoxqXArdXQtrNhOe5gZAZQLL1k2TGRdRUVFo3bo1rl69Cvr3pk2b0KJFC4GvaNGiwt0pXbp0GDBgAPr37y9+niNHDjx58uQtYqpDpxdJFXd3d9AXFToZCQoKUtnQsDhMgAkoSeBFTDza/X4cIU9eiPiLgvZZlWw+xbYo9eLEXZcwt1MltK1SwGj9Groj2QZi6P6N0b4l6GgMjtxHygQoRSulp6Y4LFqfrKzSaQIZvbjZeT4EU/ZeERfhdahaAGOblYGDrXm8QNHEIKhQSNm6aTLjYuvWrfD29sacOXNw8+ZNcXLh5+cHOzs7hISEIF++fHjw4IH4+fz581G3bt1UGRfvj4UMggrHjUViAkxADwJBD5+j1fxjwrCg3PLGCCwkY4Y+NFQtYo9Vvatr2uXhY+SWsHZago56/CnxIwYgsP3cXYza5IdFXZ3RvIKTAXpQtslLIZGYtOuSyMhXsUB2TG5dDlUKyeNclZWCW1MjAdm6aTLjgk4pKHbCzc1NcGvYsKGIo3BxcfmA46RJk0TsBgV8s1uUGqcYy8QE1EXg0JX76LvqtHjDNqN9RYN+2Ke3ev1Wncbxmw9FdihjnpYYg7psAzGGDIbuwxJ0NDRDbl83AuQ+2XSeF+jMYt/IuiLLnRrLk+gYzDoQgPW+d0QGvrFNS6NjtYKaOW1RI1Nzk0m2bprMuBg0aBDy5MkDMh7u378PZ2dncXKRJUsWJCQkiGxRz58/FycXP/zwA5o1a4ZvvvkGuXLlehvQTdmjZsyYIR0zGQRpA1yBCTABTRFIzNpEt3fTLd6GKh4XQjB0/Tn8r8UnIgWjuRVLWDstQUdzm5da1mfPhVAMWX8W8zpVxudV8qtKFTJ+Np66g1n7AxD5IhY9XItgVKNSyJ41o6rkZGFMT0C2bhrMuOjcubMIvo6IiBBGxOTJkxEbGyuIDBw4ULg+9erVSwRm09s/OsWg1LSBgYFo27atqEcpart06YIJEyaI/z98+BAdO3YU6WsLFSqELVu2iOxRsiKDIHuef88EmIC2CNAm2WvFSfgGPsKWga6oVFD5W7Lp7V6jOUfglD0Ltg+uhQzprbQFSQdpLWHttAQddRhqrmIkAgkJr9Fi/jG8iIkTyR/Usm6cCXok4sb87z2FS1F74QL1iZOdkahwN1ojIFs3DWZcqAmUDIKaZGVZmAATUIbA4+cx4oI9KruH1YF9NmUv2Bu71Q9/nr2HXUNro1y+7MoIrbJWLGHttAQdVTatLF4cuiPiq9WnMeOLiuhYvaBJeTyIeolpf13FtrP3kNcus7ivolVFJ4O6k5pUYe5cEQKydZONC0UwcyNMgAmokcCFu0/QfrEPahS1x8reLor5OB+/EYEuy3wxsF5xjPusjBpVV0Qm2QaiSCcmbsQSdDQxYu7+IwLkrfH5Qm9EPIvB4TH1YZ3B+KeelL1qpfdt/HroOmLiEtDPrSiGNCiBbJky8HgxASkB2brJxoUUIVdgAkxAywQ2nryDcdsuYljDEvi6Sek0q/IyNl4EZVLZP7KuUTJSpVloPRuQbSB6NquqxyxBR1UBZ2EEgSPXwtFz+Un89Hl5dK9Z2KhUjl4PF1mgboY/R4PSDvihVTkUzZ3NqDJwZ9omIFs32bjQ9viy9EyACehA4NutF7DpdLAiF1hN33cVv3vexPp+Ncz+ZlrZBqIDetVXsQQdVT8IFiggnV50XOKDO4+iceSbBkZ5SRH8KBq/7LmCfZfCUDhXVvzQsiw+/UR7F/pZ4HRRncqydZONC9UNGQvEBJiA0gTotIFu0A56GI3dQ+ugiJ5v6Sjve+sF3mhXJT9mdqiktJiqa0+2gahOYD0EsgQd9cDCjxiBgM/Nh+i89AS+b1kWfesUNViPtP4tPnJTvBSxSpcOQxuWEP0Z4x4ggynFDZuUgGzdZOPCpMPDnTMBJmAsAvTWrtWCYyJocfvg2shinT5VXVMGqraLvMUN4JTlhfK/m3uRbSDmoL8l6GgO42SuOnRddgIBYVHwGttA3N6tZKHTkQOX7+Mnj8u4+/gFWlR0woTmnyBfjixKdsNtWSAB2brJxoUFTgpWmQlYKgHPgAfovfIU2lbOj9kdK6UqI8qyo4H4ec8VzO9cBa0q5bMIhLINxBwgWIKO5jBO5qrDmaDH+OL34/i2WRkMql9cMTVvhj8TcRVHr0egdB5bTGxdFrWK51asfW7IsgnI1k02Lix7frD2TMDiCPz693XM/ftaqgIp6dSjyVwvuBbPhT96VkuVUaJlwLINRMu6JcpuCTqawziZsw69V5zEueAnODq2AWwzp+3Cumev4jD/0HUs974l3J5GNy4lAsbVcp+GOY+jJekmWzfZuLCk2cC6MgEmALrEqu+qUzh2IwKbBrjCuVDOFKmQa0HPFadw5vYjHBhdD/ktyKVAtoGYw3SyBB3NYZzMWYeLdyOFyybdhj2iUUm9VKV1asf5e5i69yoeRL1Cx2oFMLZZGeS2yaRXe/wQE0iJgGzdZOOC5w8TYAIWRyAyOlZs5pTf3WN4nRQ34B3n7mHkpvOY1KosetU2XNClGgdBtoGoUebUymQJOqaWCdc3PoEBa07j+I2HOPptg1THc1GiiYk7L+F00GNUKpAdk1qXQxXJSxPja8g9mhMB2brJxoU5jTbrwgSYgM4EaENut+i4OLlY09clSbeBR89j0GjOERSyz4o/B9VS7BI+nYU0cUXZBmJi8RTp3hJ0VAQUN2JQAlfDnuKzX49icP3i+KapbhdzPn4eg9kHA7De9w5yZrXG2Gal0aFqQVhZpTOorNw4E5Ctm2xc8BxhAkzAYglsPXMXY7b4JXvT9uhN57HLL0ScbpTJa2dxnGQbiDkAsQQdzWGcLEGHYRvO4dCV+yL2IlcK7kyUuW7DyTuYdSAAUS/jREzFqMalkD1L2uI1LIEx66gMAdm6ycaFMpy5FSbABDRK4LvtF8Wbv8XdqqJZ+bxvtUi8QVepm721iEe2gWhRp49ltgQdzWGcLEEHyvDUeM4RcQfFhBZlk1T5TNAj/LDzEi6FPEWNovaY3KacRb74sIT5oGYdZesmGxdqHj2WjQkwAYMTeBUXj46LfXAz/Dl2Da2NYg42iI6JE9mhrDNYYe9wN4u9bEq2gRh8cIzQgSXoaASM3IVCBL7e7AePCyHi9MLRLvPbVh88fYlpf13FtnP34JQ9M75r/glaVnSymMx1CuHlZhQiIFs32bhQCDQ3wwSYgHYJ3HvyAq3mH0NuG2vsGFIbcw9ew9Kjt7Cpf03UKJZLu4qlUXLZBpLG5lXxuCXoqArQLIROBO48jEbD2Z7oWqMQJrcpL5JOrDp+G78eui7+/VXdohjSoITiF+7pJBxXYgL/EpCtm2xc8FRhAkyACQA4dj0CPZb7wqWoPU7eeoRO1QtharsKFs1GtoGYAxxL0NEcxsmSdBi/7SL+PHMX076ogIWHb4hT1YZlHPFDy7IokjubJaFgXVVKQLZuGsy46NOnDzw8PODo6Ah/f///4ImMjES3bt1w584dxMXFYcyYMejduzeCg4PRo0cPhIWFwcrKCv3798eIESPE85MmTcLSpUvh4OAg/j9lyhQ0b95cil4GQdoAV2ACTMAiCNBGPnN/ABxtM+Hg6HoWHyBp7LVTtm/MnDkT69atE3OR9o0rV64gPDwc9vb22Ldvn9gr4uPj0a9fP4wbN06nOWtsHXUSiitZNIGQJy9Qf6YnYuITUDhXVmFUfPpJHotmwsqri4Bs3TSYceHl5QUbGxthKCRlXJBhQAbG9OnTxeZQunRpYVA8fPgQoaGhcHZ2RlRUFKpWrYodO3agbNmywrigNskQSU2RQUhNW1yXCTAB8yVAF+z9fuSmCJSsVsTefBXVUTNjr52yfeN9sXfv3o25c+fin3/+EQZFqVKlcPDgQRQoUADVq1fHhg0bxL4hK8bWUSYP/54JEAE6uaBU2N1dC1tszBfPBPUSkK2bBjMuCMnt27fRsmXLJI2LqVOnilOKhQsXinqNGzfGtWvXxGnF+6VNmzYYOnSo+D0bF+qdaCwZE2AC5kdAtoEYQuOU9o33++vSpQsaNGiAr776Cj4+PmJ/2L9/v6hC+wuV8ePHS0U0hY5SobgCE2ACTEDFBGTrpsmMCzqVaN26Na5evSpOKDZt2oQWLVp8gJI2mbp16wrjxM7OTmweK1euFP8mxWbPno2cOXMmid/d3R30RYVORoKCglQ8TCwaE2ACTEB9BGQbiCEk1sW4iI6OFicUN27cEC5RW7duFW5Ry5YtEyKtWbMGvr6+WLBgAe8PhhgkbpMJMAGLJiDbG0xmXNBm4O3tjTlz5uDmzZviZMLPz08YDlSePXuGevXqYcKECWjXrp342f3795E7d26Reu37778X7lPLly+XDrAMgrQBrsAEmAATsEACplg7dTEu6GXU2rVrQa5RVLZs2SJOLd43Lk6ePIn58+dLR80UOkqF4gpMgAkwARUTkK2bJjMu6JSCAu7c3NwEvoYNG2LatGlwcXFBbGyscKdq2rQpRo8enSReXTagxAdlEFQ8fiwaE2ACTMBkBEyxduqytrdt2xYdOnQAuUZRYbcok00R7pgJMAELJCDbG0xmXAwaNAh58uQRrk50IkEB3HRykStXLvTs2VMcdc+bN++DIaOTCicnJ/EzCuSjY++NGzdKh1UGQdoAV2ACTIAJWCABU6ydMuOCEoEULVpUxOxly/YmLSdljqKA7kOHDiF//vwioHv9+vUoV66cdNRMoaNUKK7ABJgAE1AxAdm6aTDjonPnzvD09ERERIQwIiZPnixOJKgMHDgQISEh6NWrl3Btev36tTjFoNS0x44dE6cZFSpUeBvcnZhytnv37jh//rxwiypSpAiWLFny1thIaQxkEFQ8fiwaE2ACTMBkBIy9dsr2DQJBcXcUX/Hxi6W9e/di5MiRInMUpbQll1pdirF11EUmrsMEmAATUDMB2bppMONCTVBkENQkK8vCBJgAE1ALAUtYOy1BR7XMJ5aDCTAB8yAgWzfZuDCPcWYtmAATYAKKE5BtIIp3aIIGLUFHE2DlLpkAEzBjArJ1k40LMx58Vo0JMAEmkBYCsg0kLW2r5VlL0FEtrFkOJsAEzIOAbN20COPCwcEBhQsX1mtEKWaE0t+aQ2Fd1DeKPCbqGxOSiMflzbjQ/UB0T5A5F94f3oyuucx5c9HDnMbEnHTh+aXb3mARxkVaNkaZdZaWto39LOtibOLy/nhM5IxMUYPHxRTUtdcnzxP1jRmPifrGhCQyl3ExFz0MPSZsXEj+Dnki8UJlSAI8vwxJV/+2eVz0Z2dJT/I8Ud9o85iob0wM/UHWmBrz/NKNNhsXbFzoNlNUVstc/sDNRQ9z2jxYF5X9satYHP77Vd/g8Jiob0zMaU3l+aXb/GLjQsLJ3d0d/fv3142mymuxLuobIB4T9Y0JScTjos5xUZtUPE/UNiL8t6u+EXkjkbn8rZiLHoYeEzYu1PqXyHIxASbABJgAE2ACTIAJMAGNEWDjQmMDxuIyASbABJgAE2ACTIAJMAG1EmDjQq0jw3IxASbABJgAE2ACTIAJMAGNEWDjIoUB27dvH0aMGIH4+Hj069cP48aN09jwvhG3T58+8PDwgKOjI/z9/TWpAwkdHByMHj16ICwsDFZWViIWhsZHi+Xly5eoW7cuXr16hbi4OLRv3x6TJ0/WoipCZvoboUC3/Pnzi7mm1VKkSBHY2toiffr0yJAhA06fPq1VVfDkyROxbtHffLp06bB8+XK4urpqVh81Cc57g5pG440svD+ob0wSJeL9QX1jY+j9gY2LZMac/hhKlSqFgwcPokCBAqhevTo2bNiAsmXLqm+WSCTy8vKCjY2N+GCuZeMiNDQU9OXs7IyoqChUrVoVO3bs0OSYvH79Gs+fPxfjEhsbizp16uDXX39FzZo1NTe/SOA5c+aID+JPnz7VvHFBepjDxZk9e/aEm5ubMDBiYmIQHR2NHDlyaHJ+qUlo3hvUNBrvZOH9QZ3jwvuDOsfF0PsDGxfJjLuPjw8mTZqE/fv3ixpTp04V38ePH6/OmSKR6vbt22jZsqWmjYuPVWzTpg2GDh2Kxo0ba3JMEoWmD31kXPz++++oUaOG5nS5e/cuaKGaMGGCMDK0fnJhDsYFGXmVKlVCYGCgOLXgohwB3huUY2nIlnh/MCRd3dvm/UF3VsaqaYz9gY2LZEZz69atoKPvZcuWiRpr1qyBr68vFixYYKzxV7QfczMuSB9yK6KTGDs7O0VZGasxegNKpy83btzAkCFDMH36dGN1rWg/5NJFRjedJs2aNUvTxkXRokWRM2dO8YF8wIABmk1Dff78eSE7nbT6+fmJeUYnY9myZVN07C2xMd4b1D/qvD+oZ4x4f1DPWCRKYoz9gY2LZMZ9y5Yt4tTifePi5MmTmD9/vvpmig4SmZNx8ezZM9SrV0+8KW/Xrp0O2qu7Cvk+tm3bVsyt8uXLq1vYj6SjU/RCjD4AACAASURBVIq9e/di0aJF8PT01LxxERISgnz58uHBgwfiRIzGhIxYrRU6fSEXO29vb3EaRrFJZIT/9NNPWlNFdfLy3qC6IflAIN4f1DM+vD+oZyzel8QY+wMbF8mMPR99q/OPguITyL2radOmGD16tDqF1EMqCuamt8pjxozR42nTPUInFnSqR8HPFKROx61k8K1du9Z0QinUM7lFUkyM1saE1KekB2Rc0EsFKkePHsW0adOwZ88ehehYbjO8N6h37Hl/UNfY8P6grvFIlMYY+wMbF8mMPWXwoYDuQ4cOiQw4FNC9fv16lCtXTp2zRSKVOZxcUBA0+fbb29tj3rx5mhyHRKHDw8ORMWNGEWD74sULNGnSBN9++60wnLRatH5yQQH2CQkJIlsU/ZtOLn744Qc0a9ZMk0NCwdx08lq6dGkRP0Y6zZw5U5O6qElo3hvUNBrvZOH9QZ3jkigV7w/qGh9D7w9sXKQw3uTuMXLkSJFmk9K5khuOFkvnzp2Fy0pERATy5MkjUp727dtXc6ocO3ZMZL+pUKGCSEVLZcqUKWjevLnmdLlw4YIwlGhu0Qfajh07ig+yWi5a3zwo+Jnc06jQB8guXbpo9m+edCC/2sRMUcWKFcOKFStEPAmXtBPgvSHtDJVugfcHpYkq2x7vD8ryTGtrht4f2LhI6wjx80yACTABJsAEmAATYAJMgAkIAmxc8ERgAkyACTABJsAEmAATYAJMQBECbFwogpEbYQJMgAkwASbABJgAE2ACTICNC54DTIAJMAEmwASYABNgAkyACShCgI0LRTByI0yACTABJsAEmAATYAJMgAmwccFzgAkwASbABJgAE2ACTIAJMAFFCLBxoQhGbsQQBOgCM7ptle7oOH78uEgNqlShFLbffffd2+Zq1aol+lCiUPpiukiObnamVKB02V/ZsmWVaNrgbaRPn16k+qVSqFAh7Nq1S/z71q1b+PLLL/Ho0SM4OzuLi/Osra1BueXp9mdKzZk1a1asXLlS/D4mJgaNGjXCP//8Iy7Y48IEmAATUJIA7w9K0tStLd4fdOPEtThbFM8BFRNI3Dz0yY9N90fQQphcSWxbafXpwzfdu3HixAmlm9a7PbqzQdcP+MlxoXs4yGAiA2PgwIGoVKkSBg0aJIyK+fPni+++vr7C0KDvVOg+lRIlSqBr1656y84PMgEmwASSIsD7gzLzgvcHZThyKx8S4JMLnhGqJZC4edSsWRNXrlxB0aJFxcVzw4cPx7hx48TFgK9evcKQIUMwYMAA8X/6QOvk5CQuELt8+TI+//xzBAcH4+XLl+KDb//+/cWzdFMxvaGnG9fXrVuHxL7oTfzYsWPx119/IV26dPjf//6HTp06ibbpluPcuXPD398fVatWxdq1a0Wd94u7uztCQkJEXSr169fHrFmzUK1aNdEHyeDh4YEsWbJg586d4lLD9wvdojxs2DBcvHhRXORG7bRp0wY1atTA8uXL394QT+3Onj0bZcqUSbI+nSDs2bNH6E1t0i3z7du3F21RoQ/8pFfr1q0/6D8p44KYODg4ICwsTBgpPj4+Qq79+/cL7iQLXdRIhW6DJlY0Bn5+fhg/frwwPLgwASbABJQkwPsD7w9KziduS1kCbFwoy5NbU5BAcm+m6AP8gwcPxAd/Mi5q166NLVu2ICgoCC1atBAf/skQoUInCfb29njx4gWqV6+OI0eOIFeuXG+NiURxE/v6888/sXjxYuzbt0/caE7P0Jv4gIAA8cH80qVLyJcvn+iTDJQ6dep8oDEZP/QhvlWrVv8xLsgQITcj+h0ZMHZ2dkKH9wu5apELVbdu3fDkyRO4uLjg3LlzIJ3p/2Q8hYaGol69erh27Zpw7UqqPvGgtukmcNKf9J47dy527NiByMhIVK5cGdevX//PiQYZD/Q7+k5GGBlnxIEMvBs3bghRyVj77LPPBOeWLVuKeokcPv30U0yfPl0YU3R6lDdvXoSHhys4K7gpJsAEmADeruEfn2zz/sD7A/99mJ4AGxemHwOWIBkCyRkX9OGdPjSTjz8V+rC8ZMkSEQNAH74PHz78tkV6w759+3bxf4rdoLft9EH54zf0if8fNWqUONHo06ePeKZ79+7o0KGDMAR++eUXHDx4UPycXILIwCAj4P3SpEkT/Pjjj6IPKu+fXGTKlEmcJJCRsWnTJtHWsmXLPniePpRTnUQ3JjKOSGbqv3HjxuI05tdffxXGFcmTXH0yiMigWLFixdv2y5cvL2Igtm3bJgwFOlH5uNCpCxlPgYGBaNiwIQ4dOiT6dnV1/cC4INcvOl0hY45OJ943LmbMmCFOdqjQicnVq1dha2vL85wJMAEmoBgB3h/evDzj/UGxKcUNKUiAjQsFYXJTyhJIbvP44osvhHtT06ZNP+jw4zdY9H96e3/gwAFhiNAHfTI26HtyxgUFY1esWDFJ44I+jJNLE5WhQ4eKD/a9evX6QAY63SADhfr42Lh4v8+tW7eKtsh96f1CH8rXr18v3Is+Lm5ubli4cKGIeSBjioyg5OpTu6dPn8aCBQveNkMnCmSAbdy48QMXq+RGjXSjkwnirY9bFLVLbmR00pIxY0ZlJwe3xgSYgEUT4P3hw+Hn/cGi/xxUpzwbF6obEhYokUDi5nHmzBmRcYnexFOhY2/y4yfXH/rQSu5B9Ib81KlT4m18ogFAMQ10MrB7927x9pzcfcjdiT7458yZU7z9T/zQm9gXvdWnD+7UPr0VIgOCTgHoeV2MC3IRoiBmyhKlj3FBbk5Pnz4VQdJ0wkEuUVWqVBFtkWFB8Q70M3LPopJc/aSMi/v37ws3K3JVSgy6fn+2PX78WBhhdMJCrlB0WkEMye2KTm/IyEgM6CYDbPDgwSKugwyYxIBuioc5efKkaPbhw4fiRIPiZbgwASbABJQkwPsD7w9KziduS1kCbFwoy5NbU5BA4uYRGxuLZs2aiQ+89DadgqLpRIKMhsRgY4oloA/d7xsAFI9BMQP37t0TJwHk+594cvHtt9+K+AdKm6prQLcuxsXRo0eFcULB3voYFxQbQqcnlBaXdCtSpMhbY4mMAzKivv/+e0ycOFG0n1z9pIwLqk8ciQmdfnxcqE8K0LayskJCQoKQo2/fvqIauUklpqIlY4f0IyOEZKRTHDLayDAhNywyyKjQ6QwZQxR4zoUJMAEmoCQB3h94f1ByPnFbyhJg40JZntwaExBv6+n0JEeOHKqiER0dLVypzp49i+zZsxtcNkpdO3Xq1CRdvAzeOXfABJgAE1AhAd4f3gwK7w8qnJwKisTGhYIwuSkmQATI5YhSzZLrkFrK33//LeJIyL2MTiQMXegSPYrt6NGjh6G74vaZABNgApohwPsDxCWrvD9oZsrqJSgbF3ph44eYABNgAkyACTABJsAEmAAT+JgAGxc8J5gAE2ACTIAJMAEmwASYABNQhAAbF4pg5EaYABNgAkyACTABJsAEmAATYOOC5wATYAJMgAkwASbABJgAE2ACihCwOOOCLvWi9J5cmAATYAJMQHcCQUFBIp2zuRXeE8xtRFkfJsAEDE1Ath9YnHFBOfjp5mIuTIAJMAEmoDsBc107zVUv3UeWazIBJsAEUkdAtm6ycZE6nlybCTABJmCRBGSbiVahmKteWh0PlpsJMAH1E5Ctm2xcqH8MWUImwASYgMkJyDYTkwuopwDmqpeeOPgxJsAEmICUgGzdZONCipArMAEmwASYgGwz0Sohc9VLq+PBcjMBJqB+ArJ1k40L9Y8hS8gEmAATMDkB2WZicgH1FMBc9dITBz/GBJgAE5ASkK2bbFxIEXIFJsAEmAATkG0mWiVkrnppdTxYbibABNRPQLZusnGh/jFkCZkAE2ACJicg20xMLqCeApirXnri4MeYABNgAlICsnWTjQspQq7ABJgAE2ACss1Eq4TMVS+tjgfLzQSYgPoJyNZNNi7UP4ZpkjAmLgERz169/QqPon/HoEFpR5TNZ5emtvlhJsAELIeAbDPRKgl99EpIeI3fj9xE3ZIOqFAgu1ZVZ7mZABNgAnoRkK2bbFzohdW0D5HB8PD5K0RExSD82ct/v7/CG8PhzVeiERH5IjZJYWuXyIV1/WqaVhHunQkwAc0QkG0mmlHkI0H10SsyOhaf/eoFK6t08BhWBzmyWmtVfZabCTABJpBqArJ1k42LVCM1zAOx8Ql4+CzmrWEQ/pGREB71Upw4kOHwJDppg8E2Uwbkts2E3DbWcBDf33y9+/ebn7t7BWLTqWBcmNQEmTKkN4xC3CoTYAJmRUC2mWhVWX31Oh/8BB0WH4dbSQcs61FNGBpcmAATYAKWQEC2brJxYcBZQAbDo+cx4hRBGAtvv78zIhJPGh4nYzDYkMFgY/2RkZBoMFgLY8LhXwMic0bdDIW/L99Hv9WnsbF/TdQslsuABLhpJsAEzIWAbDPRqp5p0Wu1z238sPMSvmlaGkMalNAqApabCTABJpAqArJ1k42LVOEE4v41GB68dUF6Yzx86I70xi0pOYMhm3X6f08Y3hgGuW3/azw4/nvykMVaN4MhNWo8fRmLypMPYGjDkhjduFRqHuW6TIAJWCgB2WaiVSxp0ev169cYsfE8PC6EYE3fGqhdIrdWMbDcTIAJMAGdCcjWTTYudEQ5c/9VbDgZjMfRMXj9+r8PZcmY/l/3o6RdkhxsreFgk1kYElmtM+jYq+GqtVlwTLhEbR7oarhOuGUmwATMhoBsM9GqomnV6/mrOLRZ6I3Hz2OwZ7gb8mbPrFUULDcTYAJMQCcCsnWTjQudMALbzt7F6aDHb92THD5yVcqWyfQGg46qiGrT/rqKP44Fwm9iE1UYO6mRnesyASZgfAKyzcT4EinToxJ63XgQhdYLvFHWyQ4b+tdExvRWygjHrTABJsAEVEhAtm6ycaHCQTOGSF7XwtFj+Ums7uOCuqUcjNEl98EEmICGCcg2E62qppReu/1CMGzDOfStUxTftyyrVRwsNxNgAkxASkC2brJxIUVonhWiY+JQafIB9K1TDOM+K2OeSrJWTIAJKEZAtpko1pGRG1JSr0m7LmHl8dtY1NUZzSs4GVkT7o4JMAEmYBwCsnWTjQvjjIMqe6E0ijHxr7FzSG1VysdCMQEmoB4Css1EPZKmThIl9aI7iDq5++BaWBR2DauD4g42qROGazMBJsAENEBAtm6ycaGBQTSUiHMOXsOCf67j/MQmsMuc0VDdcLtMgAmYAQHZZqKEisHBwejRowfCwsJgZWWF/v37Y8SIER80LTI0jRiBvXv3ImvWrFi5ciWcnZ2hy7NJyai0XiFPXqDl/GMihfiOIbU5pk2JicFtMAEmoCoCsnWTjQtVDZdxhfG5+RCdl54QF0A1KpvHuJ1zb0yACWiKgGwzUUKZ0NBQ0BcZC1FRUahatSp27NiBsmXfxTCQUTF//nxhXPj6+gpDg77r8qwxjAvq4+j1NzFtn1fOjzkdKyFdOr5gT4n5wW0wASagDgKy/YCNC3WMk0mkeBkbL+IuutUszAGIJhkB7pQJaIeAbDMxhCZt2rTB0KFD0bhx47fNDxgwAPXr10fnzp3Fz0qXLg1PT084OX0Y45DUs8YyLqif3w5dB50O//x5ebHGcmECTIAJmAsB2X7AxoW5jLSeenRddgKPnsfirxFuerbAjzEBJmAJBGSbidIMbt++jbp168Lf3x92dnZvm2/ZsiXGjRuHOnXqiJ99+umnmD59Oki+xJLcs4m/d3d3B31RCQ8PR1BQkNLiIyHhNfqsOoXjNx5i6yBXVCyQQ/E+uEEmwASYgCkIyPYDNi5MMSoq6pNiLmYduIaz3zeGfTZrFUnGojABJqAmArLNRElZnz17hnr16mHChAlo167dB023aNEC48eP/8C4mDFjhnChopLSs0nJaEi96GI9ir+g4jGsDnLyGqvkNOG2mAATMBEB2bppFOOiT58+8PDwgKOjo3gL9XGJjIxEt27dcOfOHcTFxWHMmDHo3bs3AgIC0KlTp7fVAwMD8eOPP2LkyJGYNGkSli5dCgeHN3c0TJkyBc2bN5dilgGRNmBmFc4EPcYXvx/H712d8RmnTjSz0WV1mIByBIy1dsbGxoJOJ5o2bYrRo0f/R4GU3KJkzxrbuKD+/IKfoMNiH9QqkQvLe1aHlRXHXyg3K7klJsAETEFAth8Yxbjw8vKCjY2NyAKSlHFBhgEZGHS0TUfU5ENL2UKsrd+9SY+Pj0f+/PlF4F7hwoWFcUFtkiGSmiIDkpq2zKFubHwCKk8+gHbOBfDT5+XNQSXWgQkwAQMQMMbaSZmgevbsCXt7e8ybNy9JLfbs2YMFCxa8DegePnw4Tp48CV2eNYVxQX2uORGE73f44+vGpTDs05IGGB1ukgkwASZgPAKy/cAoxgWpSz6w9DYqKeNi6tSpIo3gwoULRT0K3rt27ZpIRZhYDhw4gMmTJ8Pb21v8iI0L5SZRrxUnEfwoGoe+rq9co9wSE2ACZkVAtpkooeyxY8fg5uaGChUqvF3/6eUTnWpTGThwoDAiKMh73759IhXtihUrRLxFcs/KTrSNoRfJPGrTeez0C8GaPjVQp2RuJXBxG0yACTABkxCQrZuqMC4o5WDr1q1x9epVkX5w06ZNIL/a9wu5VlF6QtpUEo0Lym9OgX6k5OzZs5EzZ84kIRsjeM8ko6tQp+5eNzFl71Wc/O5TONplVqhVboYJMAFzIiDbTLSqq7H0io6Jw+cLvRHxLAZ7hteBU/YsWkXGcjMBJmDhBGTrpiqMi61bt4oTiTlz5uDmzZvi5MLPz+9thpCYmBjky5cPly5dQp48b+5juH//PnLnzi3yh3///fcix/ny5culwy0DIm3ADCv434sUQYe/flkZbSrnN0MNWSUmwATSSsBc105j6nUz/Blazz+G0nltsbG/K6wzvDudT+v48PNMgAkwAWMRkK2bqjAu6JSCUgvScTiVhg0bYtq0aXBxcRH/37lzp3CZIteopEpKLlcf15cBMdbAqKmf+ITXcP7pIJqVy4vp7SuqSTSWhQkwAZUQMNe109h67bkQiiHrz6JXrSKY1LqcSkaXxWACTIAJ6E5Atm6qwrgYNGiQOJGgOAo6kSD3Jzq5oJMJKl9++aXIHEIZpBILnVQkXpo0d+5cEei9ceNGKRkZEGkDZlqh/+rTuBL2FEfHNjRTDVktJsAE0kLAXNdOU+g1efclrPC+jfmdq6BVpXxpGRZ+lgkwASZgdAKyddMoxgXdpEo3qEZERAgjggKzKWUgFQrQCwkJQa9evYRrEwW+0SkGpaalEh0djYIFC4LS0GbPnv0twO7du+P8+fPCLapIkSJYsmTJf25oTYq2DIjRR0glHa70voVJuy/j6NgGKGifVSVSsRhMgAmohYC5rp2m0CsmLgFfuvsgICwKO4fWQQlHG7UMM8vBBJgAE5ASkK2bRjEupFIasYIMiBFFUVVX1+5HoclcL8xoXxEdqxVUlWwsDBNgAqYnYK5rp6n0Co18gZa/HROXl+4YUhvZMmUw/SCzBEyACTABHQjI1k02LnSAaAlV6MSo+i9/w62kA+Z2qmwJKrOOTIAJpIKAbDNJRVOqqmpKvbxvRKD7H77CNWpep8riJJ4LE2ACTEDtBGTrJhsXah9BI8o3dP1ZnL79GD7jG/ImZ0Tu3BUT0AIB2WaiBR2SktHUei345zpmHbiGn9qUQ3fXIlrFyHIzASZgQQRk6yYbFxY0GWSqrve9g++2X8Q/X9dDMQf2AZbx4t8zAUsiINtMtMrC1HolJLxGv9WncfR6OLYMrIXKBXNoFSXLzQSYgIUQkK2bbFxYyETQRc1bEc/RYJYnfv68PLrVLKzLI1yHCTABCyEg20y0ikENej2JjhF3Db1+DXgMq4Oc2ay1ipPlZgJMwAIIyNZNNi4sYBLoqiLFXdSa9g+cC+fEwi7Ouj7G9ZgAE7AAArLNRKsI1KLXhbtP0P53H7gWz4UVvarDyorjL7Q6p1huJmDuBGTrJhsX5j4DUqnf6M3ncSQgHKcmNOLNLZXsuDoTMGcCss1Eq7qrSa91vkGYsN0foxqVwohGJbWKlOVmAkzAzAnI1k02Lsx8AqRWva1n7mLMFj/sG+mGMnntUvs412cCTMBMCcg2E62qrSa96PT4681+2H7+Hlb1dkHdUg5axcpyMwEmYMYEZOsmGxdmPPj6qHbvyQvUnvYPJrYqi961i+rTBD/DBJiAGRKQbSZaVVlter2IicfnC73xIOolPIa7IX+OLFpFy3IzASZgpgRk6yYbF2Y68GlRq97Mwyj1f/bOA6qqo4njfwEBEQsWsGDvvWClCKjYo9FEjb33GmM3saTYe03ssaMm0YgGO9IUFVFs2FDEhoqKWFCK39n1w2BE9l1eu/e+2XM8Km/v7sxvl9k3d2dnHXJgVfda2jRDzxIBIqAiAqLFRKmqylGvyEcv0HppEL+5e/uA+rC0MFMqXpKbCBABFRIQ2U1yLlQ46NqqNOHPcPiE38fZyU1gTocKtcVJzxMBVRAQLSZKVVKueu07fx+DN59Bj/rFMK1NZaXiJbmJABFQIQGR3STnQoWDrq1Ku8/exYhtZ/H3UBdUdaSc69rypOeJgBoIiBYTpeooZ71+8rmENYE3sbhTDbSuVkipiEluIkAEVEZAZDfJuVDZgOtCHRbrW+eXw5jQvDwGuJfSRZPUBhEgAgonIFpMlKqenPVKTE5Bp5UncOn+c+we4oIyDjmUipnkJgJEQEUERHaTnAsVDbYuVfGafwyFcmfD773r6LJZaosIEAGFEhAtJgpVC3LXK+Z5AlouDkBuG0vuYGS3slAqapKbCBABlRAQ2U1yLlQy0LpWY/LuC2Bpac9NaYKs5nSYUNd8qT0ioDQCosVEafqkyqsEvYJvPEbX1SFoWbUQFn9THVmy0AV7Sp1vJDcRUAMBkd0k50INo6wHHXwv3MfATWfwx6D6cCqWRw89UJNEgAgoiYBoMVGSLmllVYpey45ex5z9VzCtdSX0cC6uVNwkNxEgAiogILKb5FyoYJD1ocLTl29R8+eDGNW4LIY1opti9cGY2iQCSiIgWkyUpIsSnYuUlHfot+E0/K89gveA+qhZ1E6pyEluIkAEFE5AtB6Qc6HwAdan+C0WBSBXtqzY2r+ePruhtokAEVAAAdFiogAV0hVRSXrFvUpEq6UBSE5+xy/Yy5PdUqnYSW4iQAQUTEBkN8m5UPDg6lv0n30uYcOJKIRPaQLrrOb67o7aJwJEQMYERIuJjEXPUDSl6XXhbhzarQhG3RJ5sL5XHbqLSKkTj+QmAgomILKb5FwoeHD1LfqRiBj0Xn8aW/rVhXOpfPrujtonAkRAxgREi4kuRI+Ojkb37t3x4MEDmJmZoX///hgxYsRHTb97947/bN++fbCxscH69etRs2ZNXsfX15d/lpycjL59+2L8+PFCsQyhl1AIiRW2nryNCX+ex/BGZTDKq6zEp6k6ESACREA7AiK7Sc6FdnxV/XR8QiKq/3gQgz1K4bsm5VStKylHBIhAxgREi4ku+N2/fx/sD3MW4uPj4eTkhF27dqFixYofmmdOxZIlS7hzERISwp0J9jdzKMqWLYuDBw/C0dERtWvXxtatWz96Nj0ZDaGXLtikbYM5WKN3hOPPsDtY17M2PMrZ67oLao8IEAEi8FkCIrtpEOeid+/e8PHxgb29PS5cuPCJsHFxcejatStu376NpKQkjB49Gr169eL1ihcvjhw5csDc3BwWFhY4ffo0//mTJ0/QsWNH3Lp1i9fZvn077OzEB9xEQGgufUzgy2VBfNv9j0HOhIYIEAETJmAM29mmTRsMHToUXl5eH8gPGDAAHh4e6NSpE/9ZuXLl4Ofnx9eCqVOnYv/+/fznM2bM4H9PmDAhw1Ezhl66mEav3yaj7fIgPHieAJ9hrnC0s9FFs9QGESACREBIQGQ3DeJc+Pv7w9bWlm93p+dcTJ8+HczBmDVrFh49esQXC7YtbmlpyR0H5lDky/dxWM7YsWORJ08evu09c+ZMPH36lD8vKiIgoudN7fPZvhFY6R/J77ugy5tMbfRJXyLwLwFD207mLDRo0ICvGTlz5vwgSKtWrbjdd3V15T9r1KgRt/2sPguLWr16Nf/5xo0b+Y7G0qVLPxnGlStXgv1hha05UVFRihzqm49fovWSQJTMnx3bB9aHlQWdjVPkQJLQREBhBETrgUGcC8aMGX62KKTnXLA3TCzWdtmyZbwee0t19epVHnP7Oeci9W1VwYIF+TY6e5N15coV4fCIgAgbMLEKgdceo+uaEKzvRVvvJjb0pC4R+IiAIW3nixcv4O7ujkmTJqFdu3YfydGyZUu+G5HWuZg9ezYiIyP5rkVa5+LkyZM8hCqjYki99DGlUu8k6lavGH76srI+uqA2iQARIAKS1gNZOBcstrZ169aIiIjgcbbe3t5gCwgrJUqU4OFO7EZSth3ODvixkjt3bjx79uyDsqwO271Ir6jlLZUx5jbbeq86bT96u5TAhBYVjCEC9UkEiIAMCBjqS3hiYiJ/EdW0aVOMGjXqE80pLOrTyfDL3ktYFXATi76pjjbVC8tgtpAIRIAIqJmAaD2QhXOxc+dOBAUFYf78+bhx4wbfuTh37hzfCr937x4KFSqEhw8f8p+zt1Bsq1yKc5F2gEVA1DwZMqtbh9+OIyExGX8PfR+GQIUIEAHTI2AI28kOKvfo0YOHvC5cuDBdyHv37uWhTqkHuocPHw62Q8HO67ED3YcPH0bhwoX5ge4tW7agUqVKGQ6WIfTS92xJTE5Bl1UhOH83DruHuqCsQw59d0ntEwEiYMIERHZTFs4F26VgMbRubm58qBo2bMjPUdSpU+ejoWOH9djZDXbgm8KiDDerFx66isWHryHshybIZZPVcB1TT0SACMiGgGgx0YWggYGBfB2oUqUKD4tlhZ3JY8k+WBk4cCCYA8IOebPzFSwV3YNCWwAAIABJREFU7bp168BkY4U5HCNHjuSZo1giERZWJSqG0Eskgy4+f/g8AS0WByJnNgv+IsjWykIXzVIbRIAIEIFPCIjspiyci0GDBsHBwYFn+oiJieFpCNnORbZs2ZCSksKzRb18+ZLvXEyePBnNmjXDmDFjkDdv3g8Huln2KBZ3KyoiIKLnTfHzkMhYdFx5Aiu7OaFJpQKmiIB0JgImT0CttlNNeh2/EYsuq0+geZWCWNqpBg8npkIEiAAR0DUBkd00iHPBUgayVIGPHz/mTsS0adPA4mpT30Sx0KeePXvyg9nsrRTbxWCpadkBvbZt2/J6bMu7c+fOH95ExcbGokOHDvyNVtGiRbFjxw6+lS4qIiCi503x8zdJyag27QA61SmKKV9kHGJginxIZyJgCgTUajvVptcKvxuY5RuBKV9URC+XEqYwNUlHIkAEDExAZDcN4lwYWOcMuxMBkZOscpKl25oQPIp/A9+RDeQkFslCBIiAgQio1XaqTS/2gq7fhlD4XXkI7wH14VRMfP+TgaYQdUMEiIBKCIjsJjkXKhlofaux7Oh1zNl/BaHfN0ZeWyt9d0ftEwEiIDMCosVEZuJqLI4a9Yp7nYgvlgTibVIKfIa7Ih/ZbI3nA1UkAkRATEBkN8m5EDOkGgDCbj9F2+XBWNa5JlpWLUhMiAARMDECosVEqTjUqteFu3FotyIYtYvbYUPvujA3o/MXSp2jJDcRkBsBkd2U5FywQ9XskDXL4sEuuWP3UjRv3hxZsyong5AIiNwGUC7yJCWnoPqPB9GmeiH80raKXMQiOYgAETAQASm2U0lrhRS9DIRaZ914n7qNcX+cx7CGpfFdk3I6a5caIgJEwLQJiOymJOfCyckJAQEB/LK6evXq8fR/LBXg5s2bFUNZBEQxihhB0D7rT+Hm45c4MtrDCL1Tl0SACBiTgBTbqaS1QopexuSf2b7H7DiHHaF3sK5nbXiWt89sM/QcESACROADAZHdlORcsBSxZ86c4RfZvX79GmPHjkWNGjUQFhamGOQiIIpRxAiCrg6IxM97L+PEhEYokMvaCBJQl0SACBiLgBTbqaS1QopexmKvTb/sAlQW0nrv2Wv4DHNFkTw22jRHzxIBIkAE+ObC6dOnP0tCknPBHInly5fj22+/xZo1a/jNp+yyo/PnzysGtQiIYhQxgqAX78Wh5eJALOhYDW1rOBpBAuqSCBABYxGQYjuVtFZI0ctY7LXt99bjl/yAd4n82bFjYH1YWZhr2yQ9TwSIgAkTENlNSc7FsWPHMG/ePLi4uGDcuHH8HoqFCxdi8eLFikEsAqIYRYwgaErKO9T8+SC8KjhgTvtqRpCAuiQCRMBYBKTYTiWtFVL0MhZ7XfS7/+IDDNgYii51i9K5OV0ApTaIgAkTENlNSc5FWo7s5uwXL14gZ86cisIrAqIoZYwg7MCNoTh/Nw5B4xsaoXfqkggQAWMRyKztlPtakVm9jDUO2vQ745/L+O1YJO0+awORniUCREC3YVHshuxff/0V5ubmYAf24uLiMGrUKIwZM0YxqE1pIdHHoGw4fguTd19EwFhPit3VB2BqkwjIlIAU26mktUKKXjIdGo3FYln/uqwOwbk7z7B7iCvKFcih8bNUkQgQASKQSkBkNyXtXFSvXh1nz57l2aFCQ0Mxa9Ys7mSEh4crhrgIiGIUMZKg1x/Go/F8f8z6qgo61i5qJCmoWyJABAxNQIrtVNJaIUUvQzPXR38P4xP42bkcVhbYPdQFOayVk0peHzyoTSJABKQTENlNSc4FO8DNnAv2Vmro0KFwd3dHtWrVcO7cOemSGekJERAjiaWYbt+9e4c60w/DuVReLPqmhmLkJkGJABHQjoAU26mktUKKXtoRlM/TIZGx6Lw6BE0rOfCLUbNkoQv25DM6JAkRkD8Bkd2U5Fywg9tst4I5FHv37sXt27fRtWtXfveFUooIiFL0MKacw7eG4URkLEImNqJFyZgDQX0TAQMSkGI7lbRWSNHLgLj13tVvx25gxj8R+L5lBfR1K6n3/qgDIkAE1ENAZDclORfpYUlKSoKFhYViiImAKEYRIwq67eRtjP/zPA6Nckdpe1sjSkJdEwEiYCgC2tpOua4V2uplKP667oftQrPsUUciHmJb/3qoVTyPrrug9ogAEVApAZHdlORcsAPc06ZNg7+/P8fFwqImT56MXLlyKQafCIhiFDGioFGxL+E+xw8/tamEbvWLG1ES6poIEAFDEZBiO5W0VkjRy1CsDdVP3OtEtF4aCHbR3t7hbshna2WorqkfIkAEFExAZDclORdfffUVKleujB49enAkGzdu5Oct/vzzT8UgEgFRjCJGFJS98XKddRTViuTC8i5ORpSEuiYCRMBQBKTYTiWtFVL0MhRrQ/Zz6d5ztF0eBKdidtjYpy7Mzej8hSH5U19EQIkERHZTknORmgEkLYj0fiZnUCIgcpZdTrKN3nEOhy/HIPR7L5jRYiSnoSFZiIBeCEixnUpaK6TopRewMmh0++lojN0ZjiGepTCmaXkZSEQiEAEiIGcCIrspybmoX78+5syZA1dXV65zUFAQRo8ejePHj8uZwUeyiYAoRhEjC/rnmTsYtf0c9g13Q8VCyrpI0cjoqHsioEgCUmynktYKKXopcuA0FHrcznB4n47Gmh610KiCg4ZPUTUiQARMkYDIbkpyLlgIVPfu3fnleazY2dnh999/R9WqVRXDVgREMYoYWdD7ca9Rf8YRyjRi5HGg7omAoQhIsZ1KWiuk6GUo1sboh527aLc8GHeevuLnL4rksTGGGNQnESACCiAgspuSnItUfZ8/f87/mTNnTixcuBAjR45UAIr3IoqAKEYRGQjqOdcPpfJnx+oetWUgDYlABIiAPglkxnYqYa3IjF765GzMtm/HvkLLJQEoltcGOwc6wzqruTHFob6JABGQKQGR3cyUc5FW16JFi/L7LpRSRECUoocc5Jz413nsOXsPYZO9YGFuJgeRSAYiQAT0REBb2ynXtUJbvfSE22jNHrwUg34bTqNTnaKY0a6K0eSgjokAEZAvAZHd1Nq5KFKkCKKjozMk0Lt3b/j4+MDe3h4XLlz4pC4Ls2KX8TEnheVCZ+c4evXqxdtlYVgPHjyAmZkZ+vfvjxEjRvDnp06dilWrViF//vz8/9OnT0eLFi2EIyECImyAKnwgsOfcPQzbGoZdQ1xQvUhuIkMEiICKCWhrOzVZK4yBT1u9jCGzvvuc5RuBFX43MK99NXzl5Kjv7qh9IkAEFEZAZDe1di40eRvF7sWwtbXljkJ6zgVzDJiDwW7/fvToEcqVK8cditjYWNy/fx81a9ZEfHw8nJycsGvXLlSsWJE7F6xN5ohIKSIgUtoy9bqP4t+g9i+HMK5ZeQzyKGXqOEh/IqBqAtraTk3WCtGLqKdPn4LVuXHjBqytrbF27VqeHp2VBQsWYPXq1ciSJQuqVKmCdevW8Tqioq1eovaV+HlScgq6rTmJsOin/OVR+QKUtEOJ40gyEwF9ERDZTY2cixw5cnCD/d/C7jt4/fo1320QlVu3bqFVq1bpOhczZszguxTLli0Dq+fl5YWrV6/y3Yq0pU2bNhg6dCj/nJwLEXHDfN50gT/sc1rx/OhUiAARkCcBZquPR8aifsm86dpyTaQWLSasDW3XCtGLqDFjxvCXSlOmTEFERASGDBmCw4cP4+7duzyL4aVLl5AtWzZ06NCB72T37NlTqJomegkbUWEF9vKo5eIAZLeywO6hLshpnVWFWpJKRIAIZIaAyG5q5FxkpuP/PpORc8F2JVq3bs0XC/Zvb29vtGzZ8qMm2PMNGjTgzgk7SM6ci/Xr1/N/MyXnzZvHs1elV1auXAn2hxW2MxIVFaULlagNFp7290V4n4rGuSlNYGlB5y5oUhABORJIjaNf0qkGvqhWKFMiihaTTDWazkMZrRVsXZgwYcKHdOilSpVCcHAwf8FVr149fqkrWxO+/PJLDB8+HE2aNBGKZSi9hILIsMLJm0/QadUJeFVwwIquNTPtmMpQNRKJCBABLQiI7KYsnIudO3fyOzPmz5/Pt7vZzkTqIsF0f/HiBdzd3TFp0iS0a9eO44iJiUG+fPm4sfvhhx94+BTbIhcVERDR8/T5xwT2X3yAARtDsWNgfdQunofwEAEiIDMCb5KS0WSBPyzNzbBvhBuyZjL5gqFsZ0bOxcSJE5GQkMDXipMnT8LZ2RkhISE8ZHbRokV8jWA7F8yp2Lx582dHgl44aT5JV/lH4pd9lzGpRQX0a1BS8wepJhEgAqolIFoPZOFcsLdR48ePh5ubGx+Ihg0bYubMmahTpw4SExN5OFXTpk0xatSodAcqo8Xovw+IgKh2JuhJsbhXiaj+0wGMbFQWIxqX0VMv1CwRIAKZJbDc7zpm+17Bxj514FbmfQKMzBRD2c6M7DlLbcuSeoSFhfFzFWy3m52zYOc5vvrqK77rnTt3brRv3x5ff/01TxQiKobSSySHXD9nIXWDNp3Bwcsx2NqvHuqUoJdIch0rkosIGIqAyG7KwrkYNGgQHBwceKgT25FgB7jZzkXevHnRo0cP5MmTh9+nkbawnYqCBQvyH7GDfOzt1bZt24RcRUCEDVCFTwi0WhKA7JYW8B5Qn+gQASIgIwIxzxPA7qNxKZ0Pq7rX0koyQ9lOTV8WsS+9JUqUQHh4OPbv3w9fX1+sWbOG67hhwwacOHECy5cvF+psKL2Egsi4wvOERLReEohXb5PhM9wV9jnEB+VlrA6JRgSIgJYERHZTknOxdOlSdOnS5bNnGz4na6dOneDn54fHjx9zJ2LatGl8R4KVgQMH4t69e/zgHXMY2ILBdjHYG6fAwEC+m8HeUKUe7k5NOdutWzecPXuWh0UVL14cv/322wdnIyNmIiBa8jbJx6fvu4z1QbcQPrUJXbpkkjOAlJYrgVHeZ+ETfh8HRzVAsbzZtRJTiu3M7FrBBMzIuXj27BlsbGxgaWnJU5EHBARwR4K9XGJZpE6dOsXDoth6wuQdNmyYUGcpegkbU3GFy/efo+3yIJ52fFOfunS3kYrHmlQjAiICIrspybn4/vvv+e4A21lghpyFKqWXRUoklDE/FwExpmxK7fvolYfote4UNvety9+QUiECRMD4BM7cfop2y4N5mmiWLlrbIsV2ZnatEL2IOn78OE9pbm5uzlOSs52K1EQeLIMUC4uysLBAjRo1eLiUlZWVUG0pegkbU3mFnaF3MHrHOZ3NKZXjIvWIgGoJiOymJOeCUWI7CwcOHOA5xE+fPs1T/vXp0wcsa4cSigiIEnSQm4wv3iSh+rQDGOBeEmOaav8lRm76kTxEQGkEUlLe8bfM9+MScGS0B2ytLLRWQartVMpaIVUvrUEqvIEJf4Zj68loHmbnVdFB4dqQ+ESACGSGgMhuSnYumBDsPARzLliMq6enJ49tZRmeZs+enRkZDfqMCIhBhVFRZ+2WB+EdgL8Gu6hIK1KFCCiTwI7T0RizMxzzO1RDu5q6uWE5M7ZTCWtFZvRS5qzQjdQJicn4+tdgRMW+wt5hbiia10Y3DVMrRIAIKIaAyG5Kci4WL16M33//naeA7du3L88lnjVrVqSkpKBMmTI8jazciwiI3OWXq3xz91/BimM3+H0XunhLKlc9SS4iIHcC8QmJ8Jx7DEXyZMMfA51hZvbpBaiZ0UGK7VTSWiFFr8xwU+Mz0U9e8Qv2iuSxwR+DnOmsnRoHmXQiAhkQENlNSc7F5MmTeQhUsWLFPuny8uXLqFChguwHQwRE9grIVMDg64/ReXUI1vWsDc/y9jKVksQiAuonMGPfZfzmH4ndQ1xQrUhunSksxXYqaa2QopfOYKqgocOXY9Dn99P4pnYRzPyqqgo0IhWIABHQlIDIbkpyLlinZ86c4Vmc2EFuFxcXfrhbSUUEREm6yElWtlVedeoB9HAuhkktK8pJNJKFCJgMgchHL9B0oT++rF4Yc9pX06neUm2nUtYKqXrpFKrCG5uzPwLLjt7A7K+rokOtIgrXhsQnAkRAUwIiuynJufjpp5+wffv2D7dk79q1i19WxDKDKKWIgChFDznK+c3K42CHu32Gvb8MkYp6CCSnvMOzV2/x5OVbxL5M8/eLt3j6KvVnbxD74v1ntUvkweJvasBcRyE56iGpX016rz+Fkzef4Mhod53fRSDFdipprZCil35HT3mtM7vQbU0IQqOe4s/BzqhUKJfylCCJiQARkExAZDclORcs7IndjGpt/f4CndevX/OdCxYSpZQiAqIUPeQo5+LD17Dg0FWE/eCF3DaWchSRZPo/gbdJKe+dgv87A0+Y4/DizafOw/8dCeZYpLAT++mUHNYWyJvdEnn4Hyswf+LApRj80Koi+riWIOYGIpCaEnpC8/IY4K777H1SbKeS1gopehloKBXVzeMXb/j5C+us5vh7qCtyZcuqKPlJWCJABKQTENlNSc5F8+bNsXXrVuTO/T6Ol11oxC678/HxkS6ZkZ4QATGSWKro9tStJ2j/63H82tUJzSoXUIVOSlGChaXxHYUXbBfhvZPwYZeB/4z9/1/nIT4hKV3VsmQB7GxSHQXLD05DqvNgl539zIo7EnltLXldSwuzj9piKUj7/n4aQTce458RDVAin3aXtyllDIwpJ3MWmy3yx7t3wP6RDT4ZE13IJsV2KmmtkKKXLjiqsY3Tt57gm5Un0LC8PX7r5qS4+6/UOCakExHQJwGR3ZTkXLDsUOwGVJZ2lp25OHjwIFxdXWFv//4AL8sQIvciAiJ3+eUsH/uCU23aAXSsXQRTW1eSs6iylo19OWfhZWmdg3/Dkd58CEviP/v/zsPrxOR0dbIwy/L/HYX/OgxWyGP7qfPAdpx0EcoU8zwBXvOPoaxDDngPqK+TNmU9aEYWbnVAJH7eexlre9ZCw/L6uXtAiu1U0lohRS8jD7Osu0+dg/raOZO18iQcETAxAiK7Kcm5YGloMyo9evSQPV4RENkrIHMBu689iQdxr3HgW3eZSyov8S7ei8Okvy7gQVwCdyreJqekK6CVhdn73QTb9yFI/4YjpXEU/v8Z213IaW1htLeIf565g1Hbz+H7lhXQ162kvICrSJpH8W/QcK4fnIrbYX2vOnrTTIrtVNJaIUUvvcFVQcPspciQLWew/2IMtvSti7ol86pAK1KBCBCB9AiI7KYk54J18PbtW1y9epX3Va5cOX7PhZKKCIiSdJGjrCv8bmCWbwROTWqM/Dms5CiiLGXqvOoELt9/jsYVHNLsKHzsPDBnwcbS3GjOglRw7MtGvw2nEXCNhUe5oWR+W6lNUH0NCIzbGY4/ztzB/m8boJQeGUu1nUpZK6TqpcGQmGwVdsdKm6VBiH+ThL3DXGGf8/35TCpEgAioi4DIbkpyLvz8/MB2J4oXLw72xSE6OppfqtegQQPFUBMBUYwiMhX0XPQztFkWhMWdaqB1tUIylVJeYoXdfoq2y4MxqUUF9Gugrjf8D58noDGFR+ltwp2/E4fWywLR17WE3lNAS7GdSlorpOilt4FUUcMRD57jy2VBqOqYm+9gWJh/fCZLRaqSKkTAZAmI7KYk58LJyQlbtmzhOxassB2MTp06ITQ0VDGARUAUo4hMBU1KTkGNnw6iVdVCmNGuikyllJdY7O0+Sx8aNL6hKm83p/Ao/cw39oLn61+PIyr2JY6M9kBOa/3uIkuxnUpaK6TopZ+RVF+rqb/zA9xLYkJz+V+uq74RII2IgH4JiOymJOeiatWqCA8P/0ji9H6mX5W0a10ERLvW6WlGgGUKuv4wHn5jPAmIgMDVmHg0WeCPEY3K4FuvsqrkReFR+hnW3WfvYsS2s5j1VRV0rF1UP52kaVWK7VTSWiFFL71DVlEHE/86jy0ht7GymxOaVKLsgSoaWlKFCEBkNyU5F7169YKZmRm6devG0W7evBlJSUlYt26dYlCLgChGERkLuibwJn7yuYTg8Q1RKHc2GUtqfNG+9T6L/RcfIGhcQ7A0r2otLDzKa4E/StvbYjtlj9J6mF+9TULDucf4uabdQ1xgZoDLCqXYTiWtFVL00nrgTKgBlh6bpSa/FfsSPsNcUSwvpaQ2oeEnVVVOQGQ3JTkXb968wbJlyxAYGMjPXLCzFoMHD4aVlXIO7oqAqHw+GEQ9djC5+aIAzGtfDV85ORqkTyV2Ev3kFTzm+qGnc3F+4Zzay19hd/CtN2WP0sU4z91/BUuPXscfg+rDqVgeXTQpbEOK7VTSWiFFLyEkqvARAWbjWi0J5C+Z/hrszC/ao0IEiIDyCYjspsbORUpKCthW94ULFxRNRQRE0crJRPiUlHeo9csheJazx7wO1WQilfzE+H7XeXifikbA2IYokEv9WVXeh0eFIuDaI+wb4abXzEbyG23dSXQ79hUaLziGFpULYOE3NXTXsKAlTW2n0tYKTfUyGGiVdXQ04iF6rT+F9k6OmNOe1gOVDS+pY6IERHZTY+eC8evSpQtmzJiBokX1H9+rr/ESAdFXv6bW7uDNoTh7+xk/pMwuXKTyMYGH8QlwnXUU7WoUxsyvqpoMntTwqFL5s2PHQGe6XC8TIz9g4/v0vke+8zCoUyrFdipprZCiVyaGix4BMO/AFSw5ct1g54MIOhEgAvolILKbkpyLhg0b8hu669Spg+zZ/42f/Pvvv/WrhQ5bFwHRYVcm3dTGE1H4YdcFHBvjQbG26cyEmf9EYKX/DRz+zgMl8plWLPKusLsY6X1Wlal39f1LH3T9MbqsDsGYpuUwxLO0vrv7qH0ptlNJa4UUvQwKXEWdJae8Q4+1J3Hy1hP8OcgZlQvnUpF2pAoRMD0CIrspybk4duxYugTd3ZVzG7MIiOlNEf1ofOPRCzSad4yno+1UR7k7XfqgE/c6ES4zj8CjXH4s7VxTH13Iuk0WHtV/Yyj8r1J4lJSBYmmeWywOwOvEZBz81t3g8etSbKeS1gopekkZL6r7MYHYF2/QcnEgLC3MsGeYK3Jl02/qZOJPBIiA/giI7KYk52LcuHGYNWvWR9Km97P/qtO7d2/4+PjA3t4+3TMbcXFx6Nq1K27fvs2zT40ePRos2wgrvr6+GDFiBJKTk9G3b1+MHz+e//zJkyfo2LEjbt26xS/12759O+zs7IQkRUCEDVAFjQiwL5B1px9G3ZJ5saST4eLCNRLOyJWWHrmGuQeuYt9wN1QslNPI0hinexYWxlLwlsxH4VGajsDvwbcw5e+L+LWrE5pVNnxqTym2M7NrhaYsdFlPil667NcU2wqNeoqOvx2HRzl7nqLWEFnOTJEz6UwE9E1AZDclORc1a9bEmTNnPpJZk3su/P39YWtri+7du6frXEyfPh3MwWCOy6NHj/glfQ8ePIC5uTnKli2LgwcPwtHREbVr18bWrVtRsWJFjB07Fnny5OHOxsyZM/H06dNPHJ/04IqA6HtATKn9kdvCEHg9FqcmNaJzF/8f+Ndvk+Ey6wiqOebCul51TGk6fKJr6j0NE1uUR/8GpUyahUj5py/f8sxilQvnxKY+dY3y+yTFdmZ2rRBx0MfnUvTSR/+m1ubawJv40ecSxjUrj0Ee9HtvauNP+qqDgMhuauRcrFixAsuXL0dkZCRKlfrXGMTHx8PZ2ZnfdyEqbIehVatW6ToX7JB4dHQ0T3PL6nl5efHbv0NCQjB16lTs37+fN8/qsTJhwgTugPj5+aFgwYK4f/8+PDw8cOXKFZEYwos/hA1QBY0JbD8VjbF/hOPgtw1QxiGHxs+pueK6oJuYtucSdgysj9rFDZNCVK48U8OjjrHwqOFu/A4MKukTYJnFtp6Mxj8j3FDWSL9LosWESa6LtcLQc0ATvQwtk5r7Y7/3Q7eG4Z/z97G5bz3UL5VXzeqSbkRAlQREdlMj54LtKrCdAfalnu0SpJYcOXLw3QNNSkbOBXNSWrdujYiICLB/e3t7o2XLlti5cycPi1q9ejXvYuPGjdzhWLp0KXLnzo1nz5596JqFRDEZ0ysrV64E+8MK2xmJiorSRGSqoyUBluPcbfZRTGtdCT2ci2vZmvIff5uUAvc5R1HEzgbbB9ZXvkI60CA1PIodat9J2aPSJXrp3nO0WhKA7vWLY2rrSjqgnrkmRIsJa1XbtUIUQstsPKtz48YNWFtbY+3atahcuTJXiK0HLHSWpUtnGerYZ/Xri3/PNNErc8Toqc8RePEmCa2XBuL56yTsG+4K+5zqT8VNs4EIqImAyG5q5FykBcLOPsTExPCzEalFk9S0GTkXzIkICgrC/Pnz+aLBdi7OnTvHdyzYn7TOxcmTJ7FkyRJJzkVa+UVA1DT4ctDFddYRVCqUE791qyUHcYwqw/bT0Ri7MxzretXmd4BQeU+AwqM+PxPYW95vVp7A1Zh4+I32RC4b4x2ClWo7M7NWiEJox4wZw0Nsp0yZwl9GDRkyBIcPH+YAe/ToATc3N+5gvH37Fq9eveLrhKhI1UvUHn2uGQE2p9ssDUKVwrmwuV9dZDU30+xBqkUEiIDRCYjspiTngu0YsDAlBwcHmJm9NwTsDVF4eLhQ0YycC7ZLwc5OsIWBFZbGkO2QsMWJwqKEaGVdYezOc9h/MQZhP3iZ9OE9lorRa8ExWFuYY+9wV6PEzMt1orAv0AM2hsKPwqM+GaK94fcxZMsZ/PxlZXStV8yoQyhaTNIKp8+1gu2gu7q68u5YmG5wcDCyZcuGatWq8dBdqffqSNHLqAOgws5T01L3b1ASE1tUUKGGpBIRUCcBkd2U5FyULl2ahyXlzSs9RjIj52LQoEHcYWGOBNsVYYcB2c4Fe+vEDnSzN1OFCxfmB7q3bNmCSpUqgb3BYnKkHuhm2aNmz54tHEUREGEDVEESgdTFw2eYq0nnNt93/j4Gbz6DpZ1roFXVQpIYmkJlCo/6dJTZ4f/G848hh7UF9g53M/qFg1Jsp77WiokTJyIhIYHvcrNdbHbmj61JLPl7o46bAAAgAElEQVRH//79ebIPtnY4OTlh0aJFH93HlJYwhcrKx6qw80SbTtzGr11rolnlgvIRjCQhAkTgswRE64Ek58LT05NnbrKwsJCEvFOnTvzw9ePHj7kTMW3aNCQmJvI2Bg4ciHv37qFnz578YDZ7i8kcBpaalpV9+/Zh5MiRfBeDxdpOmjSJ/zw2NhYdOnTg6WtZWNaOHTs0Ov8hAiJJMaosJBDzPIGnpJ3UogL6NSgprK/GCmxOf7E0EC/fJOPQKHejf0mUK+PU8KgJzctjgDtlkVl06BoWHLqKbf3roV5J6S90dD3OUmxnZtcKJnNGL6KeP3/OU5OHhYWhSpUqPDSKhc2y9aRevXo8vLZu3bq8Ts6cOfHTTz8JMUjRS9gYVZBM4E1SMjr8ehyRj17i72GuJnepqGRg9AARkAEBkd2U5Fz06dOHZ2RiYUxWVlYf1Bs1apQMVNVMBBEQzVqhWlIINJznh+J5s2Ntz9pSHlNNXZYNid1OO+urKuhYmy4U/NzAMids4KZQHL3Cske5orS96WYYu/vsNRrN80Oj8g5Y1kUeFy1KsZ3arBUZORdp5w6bLyVKlOBhuex8BXMu2LOsBAQE8NDavXv3Cu2IFL2EjVGFTBG48/QVWi0JRIGc1vhrsAuyWZpnqh16iAgQAcMQENlNSc4F23FIr7DDdUopIiBK0UNJcrJt77/O3MXZKU1M8tAeuzQqKvYV/Md68ttpqXyewKP4N2iy4BiK5c2OPwY5m+wuz9AtZ3DwUgwOf+cORzsbWUwZKbZTm7UiI+eCZYSysbGBpaUlVq1axZ2IDRs2cD7szB7bxWBpylmI7cuXLzFnzhwhOyl6CRujCpkm4HflIXqtP4V2NRwxt31VyWdnMt0xPUgEiIBkAiK7Kcm5SK93ljVKapiUZC10+IAIiA67oqb+TyD1UOqfg51Rs6j4FnU1gQuNeoKvVhzHD60qoo9rCTWppjdd/j53D8O3hmF88/IYaILhUSGRsei48gRGNCqDb73K6o2z1Ia1tZ2arBWiENrjx4/zy1jZGQt2vmLNmjVgachZOXv27IdMUSVLlsS6des+fJaRrtrqJZUj1f88gfkHr2Lx4WuY0a4KOtWhXV6aK0RArgREdlMj54Jl5ggMDOQ6duvWjd83kVrSu4lVrjCYXCIgcpZdqbLFvngDp58PYUzTchjiWVqpamRK7j7rT+HM7acIGt8QNpbSziplqkMVPMTCXQZtOoMjVx6aXHgUyyrGwkPiXr3F4e88ZBUeoontVOJaoYleKvi1UoQKbP73XHcSITef4M9BziadBEQRA0ZCmiwBkd3UyLmoUaMGP0DHStp/p/d/uZMWAZG7/EqVr9lCf+SztcKmvnWVqoJkuS/ff47miwIwyqsshjcqI/l5U34gNTyqKAuPGlgfFiaSA39zSBQm/XVBllnFNLGdSlwrNNHLlH8XDa37k5dv0XJxAA+J3DvMzah3uxhad+qPCBiSQFJySqbXVpHd1Mi5SLs78d+dCtq5MORUUG5f0/ZcxJaQ2wif2gRWFqZxWI+F9hy+HIPg8Y1ogczE1E0NjxrXrDwGeag/e1Tcq0R4zD2Ksg45eIYoqfc1ZAKxpEdEiwlrTIlrhSZ6SQJFlbUmwHZ72Vm1BmXyY1X3WiZ9R5LWMKkBIvAfAuzlHQs/jHjwHNsH1M/UWiOymxo5Fyx+dd68eUhJSeH3S8ydO5eLysIXxo4dy2/VVkoRAVGKHkqTkx1O7bfhNLz710NdGaTV1De/qNiX8Jzrh75udDlUZll/CI+KeMgvHizjoO7sUcwB/z34FvYMc0WlQrkyi01vz2liO5W4Vmiil96gUsOfJbA+6Cam7rlkkuG0NC2IgD4IvHyThNUBN7HS/wbeJKXwc02TWlaAdVbpL3xFdlMj56JXr14Z6skOzimliIAoRQ+lyRn3OhE1fjyAYQ3ldUhVXxwn/Hkef4TeQeA4T9jntNZXN6pv11TCo67FxKPZogB0rF0E09tWkeW4amI7lbhWaKKXLAdE5UKxlwvDt53F3vB7PJzWuVQ+lWtM6hEB/RBg4U/ep6Ox8NA1sDW1eeUC3Gkvmd820x2K7KZGzkWme5fhgyIgMhRZNSK1XhoIawtzbB9YXzU6pacIuzjQbdZRfF3LUbZfFJU0AHvO3cOwrWFQa3gU+xLVfe1JnIt+Br8xnsiT3VKWw6NW26lWvWQ5iSQKxd60snWDvZzyGeaGArnoRY1EhFTdhAmwteXApRjM9o3AjUcvUbu4HcY3rwCnYtpn7RTZTXIuTHjiGVr1Gf9cxtrAmwif0lRWWXB0zWH6vstYHRAJv9GeKJpXHncU6FpHQ7bHDOTgzWdw+LI6w6MOXHyA/htDMeWLiujlIt90xaLFxJBzQpd9qVUvXTIyZltsV6/NsiBULJgTW/vXM8m7kozJn/pWJoHQqKeYse8yTkc9Rcn82TG+WXl4VXTI1PmK9AiI7CY5F8qcN4qUOvWm6o196sCtTH5F6iAS+tmrt3CeeYT/Ei/6poaoOn2uIYHHL9jlev4oYpeNX66nluxRCYnJXC8rCzPsG+Em6y9OosVEw6GUXTW16iU70FoItPvsXYzYdpbfFcTuDKJCBIhA+gQiH73AbN8r8L34APlzWOHbxmXRoZajztdMkd0k54JmqMEIvHqbhKpTD6Bfg5I8xEWNZdGha1hw6Cp8R7qhfIGcalTRaDr5hN/D0C1hGNusHAZ7qOO+lGVHr2PO/ivY1KcuXMvIO6ZctJgYbWJo2bFa9dISi+wen7z7AjYcj8LyLjXRokpB2clHAhEBYxJIzQC15eRtWFuYYYB7KfR1K6G3+7VEdlOSc7Fjxw40a9YMOXLkwM8//4wzZ87g+++/5+kHlVJEQJSih1Ll/HpFMBJT3mH3EBelqvBZuVl8sMusI6hVzA6re9RWnX5yUGjw5lAcuvQQPsNdecpWJZcHcQloOM8PrqXzYWX3WrJXRYrtVNJaIUUv2Q+SigV8k5SMDr+dwI2HL/D3UBetDqOqGBOpZmIE0ssAxe7VYrsW+iwiuynJuahatSrCw8P5bd0TJkzA6NGjMX36dISEhOhTB522LQKi086osU8IzD9wBUuPXsfZKU2Q0zqrqgixcxY/773Mw3Z0cWBKVXB0pExqeJSjXTZ+g6+Sw6NGeZ+FT/h9HBrlroizOVJsp5LWCil66WgaUzOZJHD32Wu0WhwA+xzW+GuIs97eymZSPHqMCBiMQGoGqAUHr4Gti7rIACVFeJHdlORcpN6+yhyLKlWqoHPnzp/c2C1FOGPUFQExhkym1OfxG7HotOoE1vSohUYVHFSjOnur1mD2UZTIlx3b+qs7G5axBy01PIql0hviqczwKHZJWLvlwRjsUQpjFRIiKMV2KmmtkKKXsec+9Q/4X32EHutOom31wpjXoZrODqgSWyKgBAKpGaBm+UYgUscZoKToL7KbkpyLVq1aoXDhwjh06BBCQ0ORLVs21KlTB+fOnZMik1HrioAYVTgT6JwdYK067QC61SumqoN5207exvg/z2ND7zpoUFadh9XlND1Tw6PYhXPlCigrPCol5R3aLg/Cg+cJOPKdB7JbWcgJ7WdlkWI7lbRWSNFLEQNlAkIuPHSV5+z/pW1ldKlbzAQ0JhWJAKDvDFBSGIvspiTn4tWrV/D19eW7FmXKlMH9+/dx/vx5NGnSRIpMRq0rAmJU4Uyk886rTuDZq0SeHUcNJTnlHRrN80MO66w8FjhLlixqUEvWOig5PGr76WiM3RmOBR2roW0NR1lzTiucFNuppLVCil6KGSyVC8oc9J7rT+HEjVjsHFQfVR1zq1xjUs+UCRgqA5QUxiK7Kcm5uHHjBhwdHWFlZQU/Pz9+/qJ79+7InVs5v9giIFLgUt3MEVh65BrmHriKsB+8YCfTC8OkaJZ6yduKLjXRnLKYSEGnVd294fcxZMsZftOoUsKj4hMS4Tn3GIrmeZ9SV0mOqBTbqaS1QopeWk1YelinBJ68fMvPX7Dfob3DXZHbRp6XT+pUaWrMpAiwDFCLDl/F1pPRBskAJQWuyG5Kci6qV6+O06dP49atW2jatClat26NK1euYN++fVJkMmpdERCjCmcinYdGPcFXK45DDV/GWfxji8WBYGcuDn3rDjMz2rUw5DQesvkMDlx6wG/vVUJ4FLtgcVVAJM+WprS3rVJsp5LWCil6GXJuU19iAmejn6H9r8E849qaHrXJ/oqRUQ0FEGAZoNg6sco/Em+SUtC5blEMa6j/DFBS0IjspiTngqWcZelnZ8+ezc9bDBs2jA50SxkNqssJJCanoNq0A/iqpiN++rKyoqkcjXiIXutPYc7XVdG+VhFF66JE4WP/f7leodzZ8NdgeWePYlvbTRf6o22Nwpj9dTXF4RYtJmkVUtJaIUUvxQ2aCQi84fgtTN59EaOblMXQhmVMQGNSUa0EjJ0BSgpXkd2U5FzUrVsXI0eOxC+//II9e/agRIkSqFy5Mi5cuCBFJqPWFQExqnAm1HnPdSdx5+lrnoZTyYW9Nbv79DX8xnjC0sJMyaooVvZ95+9j8Gb5h0f1Xn8KJ28+wdHRHnrPQa6PwZRiO5W0VkjRSx9cqU3tCLDdY3Z7N8sit6G3/C+j1E5belqNBOSSAUoKW5HdlORcXLp0Cb/++ivq16+PTp064ebNm/D29sb48eMzlKl3797w8fGBvb19uo7InDlzsHnzZt5GUlISLl++jEePHvE/HTt2/NB2ZGQkfvzxR+7gTJ06FatWrUL+/O8z87D7Nlq0aCFkIwIibIAq6ITAb8duYMY/ETg5sRHsc1rrpE1DN8K+KHb47TimflERPV1KGLp76i8NAXb24sBF+YZHHb3yEL3WncLEFuXRv0EpRY6dFNuZ2bXCGGCk6GUM+ahPMQEWRtJmWRDYOQx2/qJgrmzih6gGEZABgbQZoErlz45xzcrDq6KD7M/jieymJOeCjcPbt29x9epVPiTlypVD1qzii9D8/f1ha2vLD3+LdjnYjsiCBQtw5MiRj4Y9OTmZp8FlF/YVK1aMOxesTXaRn5QiAiKlLaqbeQLn78Thi6WBWPRNdbSpXjjzDRnxSbb7wvQIHNcQ2SzNjSgJdZ02POrPwc7Iai6fXaS3SSlottCfD5LvyAaK3eGSajszs1YYYyZL1csYMlKfYgLXH8aj9dIglC+Qg981RDvJYmZUw3gE5JgBSgoNkd2U5FywDFE9evRA8eLFwbZxoqOj8fvvv6NBgwZCmdghcJb7XORcsIv5PD090a9fv4/aPHDgAKZNm4agoCD+c3IuhMhlXYGlb63x4wG0qFIQM7+qKmtZ0xPu4r04tFwcSHG+Mhq5f87fx6DNZ2Q3JuxQ3i/7LmNdz9rwLG8vI2LSRBEtJmlb02atkCaV9rWl6KV9b9SCPgmkZu7r5VIcU76opM+uqG0ikCkCcs4AJUUhkd2U5Fw4OTlhy5YtfMeCFbaDwcKj2IV6oqKJc8Fyo7NUt9evX0eePHk+apKFVrFDgkOHDv3gXKxfvx45c+YEU3LevHmws7NLV4yVK1eC/WGFhVpFRUWJxKXPDUCg/4bTiHgQD/+xngboTbddsDCcY1ceIWh8Q+TKJt69023v1NrnCKSGR7HL9coXyGl0UGwhaTjXD7WK22FdrzpGl0cbAUSLSdq2tVkrtJExM89K0Ssz7dMzhiUw9e+LWB98C0s710CrqoUM2zn1RgQ+QyA1A9RK/0iw3Ww5ZoCSMngiuynJuahatSq/2yJtSe9n6QmoiXPBzm9s2rSJHxZPW9j2eqFChXDx4kU4ODjwj2JiYpAvXz4el/bDDz/wC/3Wrl0rZCMCImyAKuiMwLqgm5i25xICx3nC0c5GZ+3quyG2ndlo/jEMaFAK45uX13d31L4EAqnhUQVzW+OvwS5GD48au/Mc/gq7i/0jG6BkflsJmsivqhTbqc1aYWjNpehlaNmoP+kE2Be3jiuP4+qDeOwe6orS9sr+vZNOgJ6QEwElZYCSwk1kNyU5F7169YKZmRm6devGZWCHsNkB7HXr1gll0sS5aNu2Ldq3bw8WGpW27N69G8uWLQMLjcqs45L6nAiIUBGqoDMCVx7E89ScSkvjOm5nOHadvcvPWuTPYaUzHtSQbgikhkd951UWwxoZLzVl+J1n/JBpP7eSmNiigm6UM2IrUmynNmuFoVWUopehZaP+MkfgftxrHraaz9YSu4a4wMbSInMN0VNEIJMElJgBSoqqIrspybl48+YN/5IfGBjIz1ywsxaDBw/mN3aLisi5iIuL46lt2TmO7Nmzf9TcN998wy/tYwtWamE7FQULFuT/ZQfA2UHvbdu2icTgIVTsIkAqxifA5lCtnw/BvWx+zO9Y3fgCaSABW7QazD6Kb2oXVfwdHRqoq9gqQ7ecwf6LD/D3UFdUKGj48Cg2t79aEYzbT17j6Gh35LBWfuicFNuZ2bVClFnw6dOnYHXYDeDW1tZ8t5qlQ08tLPEHk5Ml/2AZCjUpUvTSpD2qIw8CAdceofvak2hTrRAWdKwu++w78qBGUuiCALsoePq+CLBMUCwD1PjmFdC4gr2q5qDIbmrsXKSkpIBtdYsOZKc3MOxcBjvg9/jxYx7WxA5mJyYm8qoDBw7kf7PzE76+vp84COwcRpEiRcDS0ObKletD82z35OzZs3yw2AHz33777YOzkdHkEAHRxcSiNjQnwGLkQ289xfEJDRXxi/eTzyUez+s32gNF8ignlEvzEVFHTZaSssmCY3DIac3fXBo6e9SusLsY6X0Ws7+uig4quVxRU9upzVohyiw4ZswYniVwypQpiIiIwJAhQ3D48OEPk3b+/Pn85dHz58/JuVDHr7JWWiw+fA3zD17lL4K61SumVVv0MBEQEVB6BiiRfmk/F60HGjsXrNEuXbpgxowZKFq0qBQZZFVXBERWwpqAMJtDojDprwv8YrES+T7esZKb+uwLq8vMI2heuYBidlrkxtCQ8vheuI+Bm85glFdZDDdgeBQ7uNdwnt97x2awC8zMshhSbb31JcV2arNWZLTL3bJlS0yYMAGurq5cz1KlSiE4OJi/tLpz5w7PZjhp0iQwJ4N2LvQ2FRTTcErKO/T+/RSCr8dix8D6qFYkt2JkJ0GVQ0AtGaCkEBetB5Kci4YNG+LUqVOoU6fOR6FLf//9txSZjFpXBMSowplg5zcfv4TnXD/80rYyutSV95sl9gaMvQk78G0DlHXIYYKjpTyVh20NA3MyDBkeNWd/BJYdvYE/BjnDqVj6GeyURxKSQkq1WSsyci4mTpyIhIQE7jycPHkSzs7OPCSWZaf6+uuvueMRHx+PuXPnZuhcUAZBJc7AzMn89OVbtFoSyB/2GeYKu+yWmWuIniIC/yGQXgYo9iIrn634qIDSYYq+S0tyLo4dO5YuD3d3d8VwEgFRjCIqEZTFptefcQROxe2wrHNN2Wr14k0SnGccRr2SebGyey3ZykmCfUzA0OFRt2NfofGCY2hZpSCP81ZTkWI7tVkrMnIuWLjTiBEjEBYWhipVqvDQqNWrV/Ozevv27cPy5ct5CK7IuUg7LlL0UtN4mpIu56Kfof2vx+FcOi/W9qitmt1EUxpDOemamJwC71PRWHjoGh6/eMOjGcY0Laf4jIBSGIvspkbOBbt3gqV+dXFx+ahvFh/LDs6xrWmlFBEQpeihJjlHeZ/FsauPcPr7xrI9d7HS/wY/oMXi96vT1rqipp/vhQcYuCnUIOFR7O6WwOuPeZgfC4tSU9HEdupirRAl/0hlyl5MsCQgLD06C9fduHEjLCws+M4Gc0LatWvHU5uLiiZ6idqgz+VPYOOJKPyw64JB7ID8aZCEmSGg9gxQUpiI7KZGzgW7WXv69On8QHfawg7OscPZ/72XQoqAhq4rAmJoeag/YMfpaIzZGc7vAihXQH7hRgmJyXCbfRRlHWyxuW89GjIFEhi+NQz/6Dk8KvDaY3RdE8LfYA3xLK1AShmLrInt1MVakZFz8ezZM9jY2MDS0hKrVq1CQEAANmzY8JHgtHOhuqmnE4XYF8Nvvc9i97l7+L1XHTQom18n7VIjpkHAFDJASRlJ0XqgkXPBUv19LksU25o+f/68FJmMWlcExKjCmWjnd56+guuso5jyRUX0cikhOwqph843960Ll9L5ZCcfCSQmoO/wKLZN3mJRAN4kpfAzOdZZzcVCKayGJrZT27VClFnw+PHj6N69O8zNzVGxYkWsWbMGdnYfn2sh50JhE8uA4r56m4QvlwWBHcDdO9wNhXJnM2Dv1JUSCdx49AJzfK/A9+IDfq/Vt43LokMtR1iYmylRHZ3JLFoPNHIuSpcuDbbdnV7J6DOdaaHDhkRAdNgVNSWBALs7gu1arJLZeQZ2u2bDecdgZ5OVh0Sx1MdUlEkgNTyKLQ4jGuv2cr31QTcxdc8lrOzmhCaVCigTkEBqTWynEtcKTfRS5YCaqFLsy2LrJYEo45AD2wfUh6WFaX9JNNFpIFTbFDNACaGkqSCymxo5F+xtEsv+0a9fv4/6Zm+N2K3Z3t7eUmQyal0REKMKZ8Kdj/8jHPvO30fY5CYwl1Hqzt1n72LEtrP4rZsTmqr0S6MpTTsWHsXmGcseVbGQbi7XY7siHnOOoqpjbmzsU0e1DqgmtlOJa4UmepnS74gp6Lo3/D7YHUs9nYtjautKpqAy6aghAVPOAKUhIl5NZDc1ci7YYe62bdvyOFeW8o8Vdt7i7du3+Ouvv1CggHLe1ImASIFLdXVHIPVL/J6hrqji+O9librrQXpLLEd680UBSHn3jp8HUct9BdJJqOcJlpbSa4E/7HNYYfdQ3VyuN+mv89h2Khq+I9z421C1Fk1spxLXCk30UuuYmrJeP+65hLVBN7G4Uw20rlbIlFGQ7gD+mwGqRRWWAaq87O/fMtbgieymRs5FqvBHjx79cPaiUqVKfDdDaUUERGn6qEXeh88TUGf6YUxoXh4D3OWRfezQpRj03XAa8ztUQ7uajmpBbfJ67L/4AAM2hmJk4zIY2bisVjwu3XuOVksC0L2++t+ASrGdSlorpOil1WShh2VFgH2Z/GblCVy+/xx/D3VBaXv1vhiQFXiZCZNeBqgJLSqgZlH13FGkD+QiuynJudCHgIZuUwTE0PJQf/8SaDz/GBztsmF9rzpGx8IMzlcrghHz/A38xnggq4kf3jL6gOhYgBHbwsBCI9juRaVCmdspY3Ok48oTuBYTD7/Rnshlk1XHUsqrObXaTrXqJa/ZI09pHsQloOXiAH6x3u4hLshuZSFPQUkqvRCgDFCZxyqym+RcZJ4tPaljApN3X8DO0Ds4N6WJ0b/Mn4iM5W+1fmpTCd3qF9exptScsQmkhkex7B/sS0VmDnX6hN/D0C1hirhdXhe8RYuJLvowRhtq1csYLJXYZ9D1x+i2JgStqhbCom+qq/bMlBLHRl8ys0P9s30jsP9iDGWAyiRkkd0k5yKTYOkx3RP45/x9DNp8Bn8Mqg+nYnl034GEFtliw7bLA8c1VGVaUQkoVFv1wMUH6L8xFCMalcG3XtLCo16/TUajeX7IbWOJPcNcZZWEQF8DJlpM9NWvvttVq1765qam9pceuYa5B67ixzaVeIgjFXUSeBifgEWHrvEzctYWZjwEu69bCdhY0o6V1BEX2U1yLqQSpfp6I8DeJtf46SBGNymLoQ11mypUitDn78Thi6WBGNusHAZ7qO8yNCks1F535LYw+GQiPGrhoatYeOgavPvXQ92SedWOiesnWkyUCkGteil1PIwhN0vewc7XBVx7xNPT1qB4e2MMg976pAxQukcrspvkXOieObWoBQF2EVlum6zY0s94N2EP2hSKwOuPETS+IXJaqzuOXouhUsWjz169ReP5/nxrXNPwqLvPXvNdi0YVHLCsc01VcNBECdFiokkbcqyjVr3kyFrOMjFb0GpJIJij4TPcDXmyW8pZXJJNAwKUAUoDSJmsIrKb5FxkEiw9ph8CP/lcwsYTUQif0sQo4UjXH76A14JjGOxRiqeho6J+AlLDo1h+/MOXY3D4Ow8UNqEbfkWLiVJnilr1Uup4GFPu8DvP8PWK46hbMg9PLCKnO5eMyUVpfbNkG+w8xez9EYh89BK1i9uBMkDpdhRFdpOcC93ypta0JMC+tPX5/TS29KsL51L5tGxN+uOjd5wDO6jLzlrks7WS3gA9oUgCmoZHpR7010UaW6WBEi0mStMnVV616qXU8TC23JtDojDprwuZOotlbNmpf4AyQBlmFojsJjkXhhkH6kVDAvEJiaj+40EM8SiFUU3KafiUbqqxcBf32UfRtV4xurVVN0gV0woLiWCX6+XNbslv704ve1RyyjseNvH8dSIOjXJHNktzxeinC0FFi4ku+jBGG2rVyxgs1dAne+v93fZz+OvsXazrWRse5ezVoJbqdfhvBqhRXmXR3skRFpRGXi9jL7Kb5FzoBTs1qg2BNsuCkNUsC3YOctamGcnPTv37IjadiMKxsZ4mFe4iGZRKHzh4KQb9NpzG8EZlwBam/xY2N77fdYGfs2hZtaBKKXxeLdFiolQgatVLqeMhB7lZNrgvlwUhJj4Be4e70Xogh0H5jAyUAco4gyOym+RcGGdcqNcMCMzyjcAq/0h+34WhLjWKffEGLrOO8Fznc9tXo/ExUQLfep/FnnP3sGuICyoX/vdyvbhXifCYexRlHXJgW/96JpkLX7SYKHXKqFUvpY6HXOSOfPQCrZcGoZS9LbYPqAcrC9PaqZTLOHxODsoAZdwREtlNci6MOz7UezoEWDrAbmtO4vfedeBeNr9BGM3dfwXL/K7j4LfuKG1va5A+qRP5EfhceBTb1dpw/BZ8hrmhYqGc8hPcABKJFhMDiKCXLtSql15gmVij+87fx+DNZ9C9fjH82KayiWkvT3UpA5Q8xkVkNw3iXPTu3Rs+Pj6wt7fHhQsXPiEzZ0pvTkgAACAASURBVM4cbN68mf88KSkJly9fxqNHj5AnTx4UL14cOXLkgLm5OSwsLHD69Gle78mTJ+jYsSNu3brF62zfvh12dnZC6iIgwgaogt4JsC3pqtP2o7drCUxoXkHv/bFzHs4zj8C1dD6s6Oqk9/6oA3kTOHQphue8H96wND/3czUmHs0XBeCb2kXwS9sq8hZej9Kp1XaqVS89TgWTavpnn0tYHXiT397dpnphk9JdTsp+yADlG4HIxy9Rp3gejG9RHjXpThKjDJPIbhrEufD394etrS26d++ernORlsyePXuwYMECHDlyhP+YOQ7MociX7+PMQWPHjuXOx/jx4zFz5kw8ffoUs2bNEkIWARE2QBUMQqDDr8eRkJTMD9fqu6zwuwEWirVnqCuqOP4bCqPvfql9+RIY5X0Wu8/d43dfzPwnAixFpd8YT5POfa9W26lWveT726Usydib8s6rTuDC3ef4e6gLyjjkUJYCKpA2bQYoFlkwrll5NK5gb5LhqXIZTpHdNIhzwWCwHYZWrVoJnYvOnTvD09MT/fr1y9C5KFeuHPz8/FCwYEHcv38fHh4euHLlipC7CIiwAapgEAILDl7FkiPXEDa5CXJl099FdgmJyXCddRQVCubAxj51DaIbdSJ/AuyMBbvvhGWIin35FlO/qIieLiXkL7geJVSr7VSrXnqcCibXdMzzBLRcHMDXot1DXWFrZWFyDIyhMGWAMgZ1zfoU2U1ZORevXr2Co6Mjrl+/znclWClRogQPd8qSJQsGDBiA/v3785/nzp0bz549+0CB1WG7F+mVlStXgv1hhYVbRUVFaUaPahmNQEhkLDquPIFV3WvBq6KD3uTYePwWfth9EVv71UP9Unn11g81rDwCqeFRZR1ssW+4m8mnNBQtJsob4fcSq1UvpY6HXOUOvvEYXVeHoEWVgljSqQa9NdfjQFEGKD3C1VHTIrspK+fC29sbmzZtAguNSi337t1DoUKF8PDhQ3h5eWHJkiVo0KCBJOciLUsREB1xp2a0JPAmKRlVpx5A57pFMeWLSlq2lv7jbLvbc64f8uewwp+DnGmx0AtlZTe6++xdVCmcCyXz0yF/tdpOteql7N88eUq/7Oh1zNl/hXYy9TQ8LAPUSv9IrAqIxNukFL7+s9TgdKGtnoBr0azIbsrKuWjbti3at28PFhqVXpk6dSo/uzF69GhQWJQWs0Ihj7K3RI9fvIHvyAZ6kfjPM3cwavs5rO5eC431uDuiF+GpUSJgYAKixcTA4uisO7XqpTNA1NAHAikp7/hdOMeuPoL3gPpwKiZOIkP4xAQoA5SYkdxqiOymbJyLuLg4HgIVHR2N7Nmzc44vX75ESkoKzxbF/s12LiZPnoxmzZphzJgxyJs374cD3Sx71OzZs4X8RUCEDVAFgxFIfUsU+n1j5LW10mm/bJFoutAfZlmy4J8RbjAzy6LT9qkxIqA2Amq1nWrVS23zTy76sPNYrZYGICn5HXyGuep8bZKLnoaQgzJAGYKyfvoQ2U2DOBedOnXih68fP34MBwcHTJs2DYmJiVzjgQMH8r/Xr18PX19fbNu27QOJyMhIsN0MVliKWrajMWnSJP7/2NhYdOjQAbdv30bRokWxY8eOD+c0MkIpAqKfYaBWM0PgzO2naLc8WC83Iu+/+AADNoZSesHMDAw9Y5IE1Go71aqXSU5SAyl94W4c2q0I5ulQ2X1M5vRySjJ5ygAlGZmsHhDZTYM4F3IiIgIiJ1lNXZak5BRU//Eg2lQvpNP7Bdjbki+XB+Ppy7c48p27yR/UNfV5RvprRkCttlOtemk2qlQrswS2nryNCX+e/3AfTmbbMbXnKAOUOkZcZDfJuVDHOKtWi97rT+FW7Esc+c5DZzoGX3+MzqtD8POXldG1XjGdtUsNEQE1ExAtJrrQXXThKssIyOrcuHED1tbWWLt2LSpXrszDadk9Sg8ePICZmRnPKjhixAiNRDKEXhoJQpUURYC9pBq9Ixx/nLmDdb1qw7OcvaLkN7Sw/80ANdC9FPq4lYCNJaX1NfRY6KI/kd0k50IXlKkNvRFY5R+JX/ZdxokJjVAgl7VO+umy+gSuxrxAwFhPWGc110mb1AgRUDsB0WKiC/1FF66ys3YsqceUKVMQERGBIUOG4PDhw/yuI/anZs2aiI+Ph5OTE3bt2oWKFSsKxTKEXkIhqIIiCbx+m4y2y4Pw4HkCP3/haGejSD30KTRlgNInXeO1LbKb5FwYb2yoZw0IsNjWVksCsaBjNbSt4ajBExlXORv9DF8uC8KE5uUxwL2U1u1RA0TAVAiIFhNdccjowtWWLVtiwoQJcHV15d2VKlUKwcHB/Cxf2tKmTRsMHTqUJwERFUPpJZKDPlcmgZuPX6L1kkCUyJ8dOwbWh5UFvbBiI0kZoJQ5nzWVWmQ3ybnQlCTVMwoBltWpxk8H0bSSA2Z/XU1rGfpvOI0TkbEIntCIblnVmiY1YEoERIuJrlhk5FxMnDgRCQkJmD9/Pk6ePAlnZ2eEhITwnYrUwp5ndyFduHABOXPmTFcsulhVV6NF7TACvhceYOCmUHStVxQ/f1nFpKFQBijTGH7RekDOhWnMA0VrOXBjKC7ci0PguIZa6XEtJh5eC/zpAJ5WFOlhUyUgWkx0xSUj5+L58+f8LEVYWBiqVKnCQ6NWr16NatXev3h48eIF3N3deVbBdu3aaSSSofTSSBiqpFgC0/dd5hfALexYHV/WKKxYPbQR/PStJ5jxTwRCo56itL0txjUrj8YV7OmCWm2gyvRZkd0k50KmA0di/Uvg9+BbmPL3RX5GokiezMe0jvI+i38uPEDQ+IbIk92SEBMBIiCBgGgxkdBUhlUzci7SPsjekLK7kcLDw/kOBUtv3qpVKzRt2hSjRo3SWBxD6aWxQFRRkQRYdsPOq0Jw/m4cdg91QVmHHIrUIzNCp80AZZ/DCt96lUV7J0fKxJgZmAp5RmQ3yblQyECaspipOw6zv6qKDrWLZApF9JNX8Jjrhx71i2PyF+JDnpnqhB4iAiomIFpMdKV6Rs7Fs2fPYGNjA0tLS6xatQoBAQHYsGEDmKPRo0cPftfRwoULJYliKL0kCUWVFUng4fMEtFgciJzWFtzByGGdVZF6aCo0ZYDSlJT66onsJjkX6htz1WnEvjjU/uUwXEvnxcJvamRKv8m7L4DlJfcf64mCubJlqg16iAiYMgHRYqILNqILV48fP85Tzpqbm/NMUGvWrIGdnR0CAwPh5ubGQ6VYKlpWpk+fjhYtWgjFMoReQiGogmoIHL8RC5aRsFnlAvwC2CxZsqhGt1RF/psBqkvdohjWqAzy2VqpTldSKH0CIrtJzgXNHEUQGLY1DCGRsQiZ2EiysX4U/waus47gy+qFMevrqorQl4QkAnIjIFpM5CavpvKoVS9N9ad6uiewwu8GZvlG4IdWFdHHtYTuOzBSiywD1LZT0Vh06Boev3iDllUKYnTTciiRL7uRJKJujUVAZDfJuTDWyFC/kgik3oZ6aJQ7PygmpTAj/+uxGzg8yh0l80t7Vko/VJcIqJmAaDFRqu5q1Uup46EGudlue78NofC78hDb+tdDreJ5FK0WZYBS9PDpRXiR3STnQi/YqVFdE4iKfQn3OX746cvK6CbhVu2414lwmXkE7uXy8y1qKkSACGSOgGgxyVyrxn9KrXoZn6xpS8DWni+WBOJNUjL2DndTbMgQZYAy7Xn8Oe1FdpOcC5o3iiDA3pwwJ6F60dxY3uXfnPYi4ZcdvY45+6/w21MrF84lqk6fEwEi8BkCosVEqeDUqpdSx0NNcrNLYNutCEbt4nbY0LsuzM2Uc/7i+sMXmO0bgQOXYkAZoNQ0K3Wji8huknOhG87UigEIfLf9HI5ExCD0ey+YaWCkX79N5mctmFPxe+86BpCQuiAC6iUgWkyUqrla9VLqeKhNbu9TtzHuj/MY6lman0+Qe0mbASpbVnMMaFASfdxKwMbSQu6ik3wGJCCym+RcGHAwqCvtCPwRegff7TiHf0a4oULB9G/eTdvD+qCbmLrnErYPqI86JZQd86odOXqaCGhPQLSYaN+DcVpQq17GoUm9pkdgzI5z2BF6B2t71kLD8g6yhPTiTRJW+UdiVUAk3ialgDJAyXKYZCOUyG6ScyGboSJBRATuPXsN55lHNMrAwYyjx5yjKJQ7G3YOchY1TZ8TASIgICBaTJQKUK16KXU81Ch3QmIy2i4PBlvDWIiuNpfB6prPvxmgruLxi7eUAUrXgFXanshuknOh0oFXq1rMYWDZolb3qJ2hijtOR2PMznCs61kbnuXt1YqD9CICBiMgWkwMJoiOO1KrXjrGRM1pSeDW45f8gHfxfNmxY2B9WGc117JF7R6nDFDa8TP1p0V2k5wLU58hCtN/wp/n4XPuHsIme8HC/P1lWf8tySnv4LXgGKwszLFvuKvkezEUhoTEJQIGISBaTAwihB46UateekBFTWpJ4MDFB+i/MRSd6xbF9LZVtGwt84//NwPU+Gbl0aiCPa2VmUdqck+K7CY5FyY3JZSt8J5z98Au1Ns9xAXViuROV5l/zt/HoM1nsKRTDXxRrZCyFSbpiYBMCIgWE5mIKVkMteolGQQ9YBACM/65jN+ORWJe+2r4ysnRIH2mdkIZoAyKW9WdiewmOReqHn71Kcdu2679yyGMa1YegzxKfaIg2+ptvTQI8QmJOPydh6JS/6lvtEgjNREQLSZK1VWteil1PNQud1JyCrqsDsG5O8+wa4gLyhcQJyfRlgllgNKWID3/XwIiu0nOBc0ZxRFosuAYCuTKhg3ppJcNuPYI3dacxIx2VdCpTlHF6UYCEwG5EhAtJnKVWySXWvUS6U2fG48A+7LfcnEgbK0ssHuoC3JaZ9WLMJQBSi9YqVEAIrtpEOeid+/e8PHxgb29PS5cuPDJwMyZMwebN2/mP09KSsLly5fx6NEjvHz5Et27d8eDBw9gZmaG/v37Y8SIEbze1KlTsWrVKuTPn5//f/r06WjRooVw0EVAhA1QBaMTmPr3RXifisa5KU1gafHxuYtvVh7Hzccv4T/Wk5+5oEIEiIBuCKjVdqpVL92MOrWiLwIhkbHovDoEXhUcsKJrTZ2ed6AMUPoaNWo3lYDIbhrEufD394etrS13FNJzLtIO1549e7BgwQIcOXIE9+/f539q1qyJ+Ph4ODk5YdeuXahYsSJ3Llibo0ePljTaIiCSGqPKRiHge+EBBm4K5Rk3ahf/9/6K0Kin+GpFML5vWQF93UoaRTbqlAiolYBabada9VLrPFSTXr8du4EZ/0TobM16nwHqAWb7XkHk45eoUzwPJrQojxpF7dSEjXSRAQGR3TSIc8E43Lp1C61atRI6F507d4anpyf69ev3Cb42bdpg6NCh8PLyIudCBpPLWCI8e/UWNX46iJGNymJE4zIfxOj7+ymcjnqKoHENkd2KbhM11vhQv+okIFpMlKq1WvVS6niYktzMGRiwMRSHIx5iW/96H70sk8qBZYCavu8yztx+xtO1UwYoqQSpvhQCIrspK+fi1atXcHR0xPXr15Enz8c3KjPnpEGDBtw5yZkzJ3cu1q9fz//NlJw3bx7s7NL3zleuXAn2hxUWbhUVFSWFIdWVIYFWSwJ4vOq2/vW5dFcexKPpQn+MbFwGIxuXlaHEJBIRUDYB0WKiVO3UqpdSx8PU5I57nYjWSwPx+m0y9g53Q/4cVpIQUAYoSbioso4IiOymrJwLb29vbNq0CSw0Km158eIF3N3dMWnSJLRr145/FBMTg3z58vE4xR9++IGHT61du1aITQRE2ABVkAWBX/Zewu/BUQif2oRfRjRyWxgOXIpB8PiGyG1jKQsZSQgioCYCarWdatVLTXNP7bpcuvccbZcHoWZRO2zsU+ezdzil5cAOhS88dI2fP8yW1RwDGpREH7cSsLGkXXu1zxc56Ceym7JyLtq2bYv27duDhUallsTERB5O1bRpU4waNSpdppqGXLGHRUDkMGgkg5jA0YiH6LX+FDb3rYsidjbwmHsUfVxLYFLLiuKHqQYRIAKSCajVdqpVL8kDTA8YlcD209EYuzMcgz1KYWyz8p+VhTJAGXWYqPP/ExDZTdk4F3FxcShRogSio6ORPXt2Lj6LR+zRowcPkVq4cOFHg8p2KgoWLMh/xg6Ah4SEYNu2bcKBFwERNkAVZEGAGdhq0w5gkHspPH31FjtO30HAOE845LSWhXwkBBFQGwG12k616qW2+WcK+ozbGQ7v09FY3b0WGld0+EhlygBlCjNAOTqK7KZBnItOnTrBz88Pjx8/hoODA6ZNmwa2I8HKwIED+d/s/ISvr+9HDkJgYCDc3NxQpUoVnoqWldSUs926dcPZs2d5WFTx4sXx22+/fXA2MhoeERDlDC1JyraRWbzqnSev+U2n7G4LKkSACOiHgFptp1r10s8soFb1SSAhMRntlgfjztNX8BnmhqJ5bfhLVsoApU/q1HZmCIjspkGci8wIrq9nRED01S+1q3sCc/ZHYNnRGzDLAhwd7YFied/veFEhAkRA9wTUajvVqpfuZwC1aAgCt2NfgSUsKZLHBpNaVMDcA1coA5QhwFMfkgiI7CY5F5JwUmU5EQi6/hhdVoegdbVCWNyphpxEI1mIgOoIiBYTpSqsVr2UOh4kN3DoUgz6bjjNUdjnsMIor7L42slRo4PexI8IGIKAyG6Sc2GIUaA+9EKAxaDO9o1A9/rF+VseKkSACOiPgGgx0V/P+m1ZrXrplxq1rm8CW0/exrNXiejhXIwyQOkbNrUvmYDIbpJzIRkpPUAEiAARMD0CosVEqUTUqpdSx4PkJgJEQP4ERHaTnAv5jyFJSASIABEwOgHRYqILAXv37g0fHx/Y29vzC1P/W54+fQpW58aNG7C2tuZ3G1WuXJlXYwlBRowYgeTkZPTt2xfjx4/XSCRD6KWRIFSJCBABIqAQAiK7Sc6FQgaSxCQCRIAIGJOAaDHRhWz+/v6wtbVF9+7d03UuxowZwz+fMmUKIiIiMGTIEBw+fJg7FGXLlsXBgwfh6OiI2rVrY+vWrahYUXzvjSH00gUbaoMIEAEiIBcCIrtJzoVcRorkIAJEgAjImIBoMdGV6BlditqyZUtMmDABrq6uvLtSpUohODgYkZGRmDp1Kvbv389/PmPGDP43qysqhtJLJAd9TgSIABFQCgGR3STnQikjSXISASJABIxIQLSY6Eq0jJyLiRMnIiEhAfPnz8fJkyfh7OzML1C9efMmD4tavXo1F2Pjxo3850uXLk1XrJUrV4L9YeXRo0eIiorSlfjUDhEgAkRA9QRE6wE5F6qfAqQgESACREB7AqLFRPse3reQkXPx/Plzfq4iLCyMX67KQqOYQ3H16lW+a5HWuWDOx5IlS4Ri/a+9MwHWsfrj+C/CtNhJqQlNY4lSjFC2yBZSSaV9UhIqNSZEqymRwtBibywXY8lWkhC33EgLEcUoFQplqayNmu/v/3/eee/1vp7zvO9z3ud57v2emUaXc87zO5/zu+ec71kzVS5XQxiBBEiABCJCwK3dpLiISEXSTBIgARIIkoBbZ+KXbacTF/HfwMvFVapUkQ0bNsimTZu4LcqvCmA+JEACJOBCwK0/oLigC5EACZAACbgScOtMXDMwjHA6cXHgwAE5++yzpWjRojJu3DjJzs6WyZMnyz///KMHunG4+8ILL9QD3VlZWVKzZk3Xr2aqXK6GMAIJkAAJRISAW7tJcRGRiqSZJEACJBAkAbfOxA/bunTpIh9//LHs27dPKlSoIC+88IKcOHFCs+7evbvk5OToTVKFCxfWm6AmTJggpUuX1n9///33pXfv3npzFK6rHTBggJFJmSiXkSGMRAIkQAIRIeDWbhY4cVG+fHmpVKlSStWHDq9cuXIppQ1bIpYlbDUiOqCif7FebBJIx8dw6BmHn/NbyI99Qjr1bLN+aZc3uuRFXt4IeIudjn+59QcFTlx4Q587tptSSyfvTKdlWTJN3P17rBN3RkHEYL0EQT0a3wyrb9Aub/5DXuTljYC32AXRvyguPPhIWB3EQxFiUVmWVKjZTcM6scs31dxZL6mSy//pwuobtMub75EXeXkj4C12QfQvigsPPhJWB/FQBIqLVGBlKA39K0OgPX6G9eIRWAGKHlbfoF3enJC8yMsbAW+xC6J/UVx48BE8utStWzcPKcIblWUJX92wTsJXJ7CI9RLOegmDVWH1DdrlzTvIi7y8EfAWuyD6F8WFNx9hbBIgARIgARIgARIgARIggSQEKC7oGiRAAiRAAiRAAiRAAiRAAr4QoLjwBSMzIQESIAESIAESIAESIAESoLgw9IEPPvhAHn/8cX2g6cEHH5R+/foZpgxXNDwutWjRIjnvvPNk48aN4TLOgzU///yzPqb166+/SqFChfQsDOoniuHo0aPSpEkTOXbsmL40fOutt+rjYVEN+B3BATa8lAxfi2qoXLmyFC9eXB9sO/PMM2XdunVRLYrgZWu0W/idP+OMM2TixInSsGHDyJbHtuFu7f2///6r7Q0e7sOL4e+8847UqVNHzXJLm47tbnlPmzZNhgwZop8499xz5a233pLatWvrzzb92c0uPIzYsWNHqVKlitpyyy23yLPPPhs4r1dffVXADAFt7+bNm/UtlzJlyljl5dYPB+VfbnYF5V9udgXlX252BeVfJuMj2z5GcWHQ0mOwVLVqVVm6dKlcdNFFUq9ePZk+fbq+EBu1sGrVKu10MDCPsrjYvXu34D906H/++afUrVtX5s2bF8k6wS/533//rfWC14gbNWokI0eOlAYNGkTNvdTe119/XQfihw4diry4QDnyw8OG9913nzRu3FgFxvHjx+Xw4cNSqlSpSPqXbaNN2nuIilGjRqm4WLNmjQoN/GmSNlX7TfJevXq11KhRQ18tX7x4sTz//PNqlyMubPiziV0Y/A0bNuyU9sAkrU1e8XkvXLhQhg8fLsuXL7fKC5m79cNB+JeJXUH4l4ldQfiXiV1B+ZfJ+Mi2j1FcGLRcOTk52kgvWbJEYw8ePFj/7N+/v0Hq8EX58ccfpX379pEWF3mpYlasV69e0rJly/AB92ARBn0QF5hxrF+/voeU4Yj6yy+/CAayAwYMUJER9ZULG4OxTNcURB5mr7dv366rFgynJ2DS3j/88MPSrFkz6dKli2ZWrVo1wQAHbautvsLErviS7d+/X2rVqiU7d+60Olg2sSvZ4M8kbar+6jXvO++8U6677jp56KGHrPJyynO6fjgI/zKxKwj/MrErCP8ysSueV6b9K/7bicZHtn2M4sKg5Zo9e7YudY8fP15jT5kyRWeDRo8ebZA6fFHym7hAebCtCCsxJUqUCB9wA4swg4fVl23btknPnj1jWxsMkoYqCrZ0QXRjNSnRTGWojHUxBls4MAOMATka4qheQ/3111+r7VhpXb9+vfoZVsbOOeecKFVHxmw1ae8xOYOtsZgIQGjRooX+zqItstVXmNgVDwm/f1u2bIn1W7b82cQuDP46deqkK/8VK1bUtqFmzZpikjbViveSNyZ1YBvaX2yJQrDFy2RQGoR/mdgVhH+Z2BWEf5nY5cQJwr/i7Us0PrLtYxQXBi3XrFmzdNUiXlysXbtWl8WjGPKTuPjrr7+kadOmOlOOfbxRD9gbf/PNN6tvYdYxSgGrFFhqffPNN3UWN+riYteuXToQ2rNnj66IoU7QSEctYPUFW+w+/fRTXQ3DFh6I8EGDBkWtKBmx16S9b9eunYroeHExdOhQXR2y1VeY2OUAWrFihfTo0UM++eQTKVu2rP61LX82sQurZzgbh62faCPgg1u3bhWTtKlWupe8Z86cKVOnThVsjXKCLV4mg9Ig/MvEriD8y8SuIPzLxC4nThD+hW+fbnxk28coLgxaLq/LqwZZBholv4gLnE+A+m7durU8+eSTgTL18+M4zI1Z5T59+viZrfW8MNjCqh4OP+OQOhp8CD502lEP2OqCgVHU6gTccekBxAV+7xGys7PllVdekffeey/q1WLFfpP23vaWgkQFM7EL6TZs2KATFDhzgbOCiYKf/mxqV7wdOFwO0QuBEYZtZODVuXNnwdYV27xMBqVB+JeJXUH4l6ldmfYvL3YF4V9u4yPbPkZxYdA94RYJNNLLli3TG3BwoDsrK0uXdaMY8oO4wCFo7O3HEvaIESOiWA0xm3E7SZEiRfSA7ZEjR6RVq1bSt29fFU5RDVFfucAB+5MnT+ptUfh/rFzgdps2bdpEskpwmBsrrzgbgMEcyoSbTBhOJWDS3kOYYVusc6D7scceE6xmm6RNlblJ3j/99JM0b95cJk+eLNdcc03sUzb92cQuCNwKFSroFkNwwvbJHTt2xA7A2+hbTewCoIMHD+oWKNyw42wVtMnLZFAahH+Z2BWEf5nYFYR/mdgVlH+ZjI9s+xjFhWFLj06kd+/e2hji+jFsw4liwAFEDPz27dunjT1mybt27Rq5omC5HwOmyy+/XJfbEV5++WW54YYbIlcWzDRCKMG3MKC97bbbYtc0Rq4w/zc46uIC21sw24SAQQpmNKP6O48y4NyFc1PUJZdcIpMmTdLzJAyJCSRq799++22N3L17d0HnjQskcL4CV9GCJ65fRrDZV7jZhTqeM2eOVKpUSW1xrlC27c9udkGI4ZIK2HPWWWfpZQ+O+AmSFxjhGmHU44wZM2LOYJtXon4YM81B+5ebXUH5l5tdQfmXm11B+Vey8RHEYaZ8jOKCvSsJkAAJkAAJkAAJkAAJkIAvBCgufMHITEiABEiABEiABEiABEiABCgu6AMkQAIkQAIkQAIkQAIkQAK+EKC48AUjMyEBEiABEiABEiABEiABEqC4oA+QAAmQAAmQAAmQAAmQAAn4QoDiwheMzIQESIAESIAESIAESIAESIDigj4QCQJ4wAyvTeKNjtWrVyd97CiVwuAK26efli6JnAAAB5lJREFUfjqWFFck4ht+BFxfjIfk8LIzrvHDY3+XXXaZH1lbz6Nw4cJ61S/CxRdfLAsWLND//+GHH+SOO+6QP/74Q+rUqaMP5xUtWlSv58TLu7haEtdz4opH/Pvx48fl+uuvl+XLl+tVlAwkQAIkkC4B9gnpEvSenn2Cd2YFNQXFRUGt+YiV2+lIUnk/Ae9HoFFMFpy8/UaCwTfe3fjss8/8zjrl/PBmg+kAPxkXvMMBwQSBgTv/a9euLY888oiKilGjRsUeFoPQWLNmjdqK91QuvfRSueuuu1K2nQlJgARIwCHAPsEfX2Cf4A9H5pKbAMUFPSISBJyOpEGDBrJ582Z9URUPz+Fl3H79+unDgMeOHZOePXsKnrXHzxjQXnDBBfqA2Lfffis33XSTvsJ69OhRnWHv1q2bpsVLxZihx4vr06ZNE+dbmIl/6qmnZPHixfqy7MCBA+X222/XvPHKcbly5WTjxo1St25dmTp1qsaJD2PHjpVdu3ZpXIRmzZrJsGHD9LEtfAM2LFq0SB+Vmj9/vj5qGB/wSuyjjz4q33zzjT7khnw6duwo9evXl4kTJ8ZeiEe+r732mlSvXj1hfKwg4DVOlBt54pV5vJCLvBAw4Ee5brzxxlzfTyQuwKR8+fKCF1EhUnJyctSuJUuWKHfYgoeFEPAaNFihDtavXy/9+/dX4cFAAiRAAukSYJ/APiFdH2J6ewQoLuyxZc4+Ekg2S4UB/J49e3TgD3Fx7bXXyqxZs2THjh3Srl07HfxDiCBgJaFMmTJy5MgRqVevnqxcuVLKli0bExN5Z8Tw0i1e5cXrrXjRHGkwE//dd9/pwHzTpk1SsWJF/SYESqNGjXKVGOIHg/gOHTqcIi4gRLDNCP8GAVOiRAktQ3zAVi1sobr77rvlwIEDcvXVV8tXX30lKDN+hnjavXu3NG3aVL7//nvd2pUoPnggb7wEjvKj3MOHD5d58+bJwYMH5corr5StW7eesqIB8YB/w58QYRBn4ACBt23bNjUVYq1t27bKuX379hrP4dCiRQsZMmSIiimsHp1//vmyd+9eH72CWZEACRRUAuwT2CcUVN+PQrkpLqJQS7QxJgDybovC4B2DZuzxR8BgecyYMXoGAIPvFStWxOhhhv3dd9/Vn3F2A7PtGCjnnaF3fn7iiSd0ReOBBx7QNPfcc4907txZhcBLL70kS5cu1b/HliAIDIiA+NCqVSt58cUX9RsI8SsXxYoV05UEiIyZM2dqXuPHj8+VHoNyxHG2MUEcwWZ8v2XLlroaM3LkSBVXsCdZfAgiCIpJkybF8q9Vq5aegZg7d64KBayo5A1YdYF42r59uzRv3lyWLVum327YsGEucYGtX1hdgZjD6kS8uBg6dKiu7CBgxWTLli1SvHhxejQJkAAJpEUgmbhgn8A+IS3HYmJfCFBc+IKRmdgmkKwj6dSpk25vat26dS4T8ooQ/IzZ+w8//FCFCAb6EBv4M5m4wGHsK664IqG4wGAcW5oQevXqpQP7+++/P5cNWN2AQME38oqL+G/Onj1b88L2pfiAQXlWVpZuL8obGjduLG+88YaeeYCYgghKFh/5rlu3TkaPHh3LBisKEGAzZszItcUqWT2ibFiZAO9UtkUhX2wjw0pLkSJFbLsL8ycBEsjnBNgn5K5g9gn53OEjVjyKi4hVWEE11+lIvvjiC71xCTPxCNgihH382PqDQSu2B2GG/PPPP9fZeEcA4EwDVgYWLlyos+fY7oPtThj4ly5dWmf/nUGv8y3M6mPgjvyxagABgVUApDcRF9gihEPMuCUqFXGBbU6HDh3SQ9JY4cCWqKuuukrzgrDAeQf8HbZnISSLn0hc/Pbbb7rNCluVnEPX8b61f/9+FWFYYcFWKKxWgCG2XWH1BiLDOdANAdajRw891wEBA17IE+dh1q5dq9n+/vvvuqKB8zIMJEACJJAuAfYJ7BPS9SGmt0eA4sIeW+bsIwGnIzlx4oS0adNGB7yYTcehaKxIQDQ4h41xlgCD7ngBgPMYODOwc+dOXQnA3n9n5aJv3756/gHXppoe6DYRF9nZ2SpOcNg7FXGBsyFYPcG1uChb5cqVY2IJ4gAi6plnnpHnnntO808WP5G4QHxwBBOsfuQN+CYOaBcqVEhOnjypdnTt2lWjYZuUcxUtxA7KBxECG7GKA9EGYYJtWBBkCFidgRjCwXMGEiABEkiXAPsE9gnp+hDT2yNAcWGPLXMmAZ2tx+pJqVKlQkXj8OHDupXqyy+/lJIlS1q3DVfXDh48OOEWL+sf5wdIgARIICQE2Cf8ryLYJ4TEIS2ZQXFhCSyzJQEQwPYgXDWLrUNhCR999JGeI8H2MqxI2A54RA9nO+69917bn2L+JEACJBBqAuwTRB9WZZ8QajdN2ziKi7QRMgMSIAESIAESIAESIAESIAEQoLigH5AACZAACZAACZAACZAACfhCgOLCF4zMhARIgARIgARIgARIgARIgOKCPkACJEACJEACJEACJEACJOALAYoLXzAyExIgARIgARIgARIgARIgAYoL+gAJkAAJkAAJkAAJkAAJkIAvBCgufMHITEiABEiABEiABEiABEiABP4Dq6QiAttvUNkAAAAASUVORK5CYII=)"
      ]
    }
  ]
}