{
  "nbformat": 4,
  "nbformat_minor": 0,
  "metadata": {
    "colab": {
      "name": "160204014_Problem#1_Assignment2.ipynb",
      "provenance": [],
      "collapsed_sections": []
    },
    "kernelspec": {
      "display_name": "Python 3",
      "language": "python",
      "name": "python3"
    },
    "language_info": {
      "codemirror_mode": {
        "name": "ipython",
        "version": 3
      },
      "file_extension": ".py",
      "mimetype": "text/x-python",
      "name": "python",
      "nbconvert_exporter": "python",
      "pygments_lexer": "ipython3",
      "version": "3.8.5"
    }
  },
  "cells": [
    {
      "cell_type": "code",
      "metadata": {
        "id": "MNqXZl50SuW3"
      },
      "source": [
        "#Importing the necesary packages\n",
        "import os\n",
        "from os import path\n",
        "import shutil\n",
        "import numpy as np\n",
        "import pandas as pd\n",
        "import torch\n",
        "import torch.nn as nn\n",
        "import torch.nn.functional as F\n",
        "import torch.optim as optim\n",
        "from torch.utils.data import Dataset\n",
        "from torch.utils.data.sampler import SubsetRandomSampler\n",
        "import matplotlib\n",
        "import matplotlib.pyplot as plt\n",
        "from PIL import Image\n",
        "from torchvision import datasets, transforms, models\n",
        "from torch.autograd import Variable\n",
        "import numpy as np\n",
        "from matplotlib import pyplot as plt\n"
      ],
      "execution_count": null,
      "outputs": []
    },
    {
      "cell_type": "code",
      "metadata": {
        "id": "oSq7pUXgWpZO",
        "outputId": "280f2d53-6dbc-44da-e2b7-a1a3a0a02de7"
      },
      "source": [
        "PATH = 'D:/NamtaDB/'\n",
        "os.listdir(PATH)"
      ],
      "execution_count": null,
      "outputs": [
        {
          "output_type": "execute_result",
          "data": {
            "text/plain": [
              "['model',\n",
              " 'modelassignment2',\n",
              " 'testing-a',\n",
              " 'testing-all-corrected',\n",
              " 'testing-auga',\n",
              " 'testing-augc',\n",
              " 'testing-b',\n",
              " 'testing-c',\n",
              " 'testing-d',\n",
              " 'testing-e',\n",
              " 'testing-f',\n",
              " 'train',\n",
              " 'training-a',\n",
              " 'training-a.csv',\n",
              " 'training-b',\n",
              " 'training-b.csv',\n",
              " 'training-c',\n",
              " 'training-c.csv',\n",
              " 'training-d',\n",
              " 'training-d.csv',\n",
              " 'training-e',\n",
              " 'training-e.csv']"
            ]
          },
          "metadata": {
            "tags": []
          },
          "execution_count": 2
        }
      ]
    },
    {
      "cell_type": "code",
      "metadata": {
        "id": "cnFDnFQkWrE2"
      },
      "source": [
        "def showRawTrainingSamples(csv_filename):\n",
        "  df = pd.read_csv(PATH + csv_filename)\n",
        "  print(csv_filename)\n",
        "  print(df.columns)\n",
        "  return df"
      ],
      "execution_count": null,
      "outputs": []
    },
    {
      "cell_type": "code",
      "metadata": {
        "id": "vIRke7yMWs9S",
        "outputId": "95acaade-9cc6-4688-ffbc-15a946131c2b"
      },
      "source": [
        "a_csv = showRawTrainingSamples('training-a.csv')\n",
        "b_csv = showRawTrainingSamples('training-b.csv')\n",
        "c_csv = showRawTrainingSamples('training-c.csv')\n",
        "d_csv = showRawTrainingSamples('training-d.csv')\n",
        "e_csv = showRawTrainingSamples('training-e.csv')\n"
      ],
      "execution_count": null,
      "outputs": [
        {
          "output_type": "stream",
          "text": [
            "training-a.csv\n",
            "Index(['filename', 'original filename', 'scanid', 'digit',\n",
            "       'database name original', 'contributing team', 'database name'],\n",
            "      dtype='object')\n",
            "training-b.csv\n",
            "Index(['filename', 'original filename', 'scanid', 'digit',\n",
            "       'database name original', 'contributing team', 'database name'],\n",
            "      dtype='object')\n",
            "training-c.csv\n",
            "Index(['filename', 'original filename', 'scanid', 'digit',\n",
            "       'database name original', 'contributing team', 'database name'],\n",
            "      dtype='object')\n",
            "training-d.csv\n",
            "Index(['original filename', 'scanid', 'digit', 'num', 'database name original',\n",
            "       'database name', 'filename'],\n",
            "      dtype='object')\n",
            "training-e.csv\n",
            "Index(['filename', 'original filename', 'districtid', 'institutionid',\n",
            "       'gender', 'age', 'datestamp', 'scanid', 'digit',\n",
            "       'database name original', 'database name'],\n",
            "      dtype='object')\n"
          ],
          "name": "stdout"
        }
      ]
    },
    {
      "cell_type": "code",
      "metadata": {
        "id": "6GFEel6fa7EB"
      },
      "source": [
        "#here i make a function for taking filename and digit from csv file.\n",
        "def dropColumns(csv_file):\n",
        "  csv_file = csv_file[['filename', 'digit']]\n",
        "  print(csv_file)\n",
        "  print(csv_file.iloc[:5, :])   \n",
        "  print(\"=============================\")\n",
        "  return csv_file"
      ],
      "execution_count": null,
      "outputs": []
    },
    {
      "cell_type": "code",
      "metadata": {
        "id": "RufQgIZga7EC",
        "outputId": "9da6b6d0-9fc8-40fb-f48f-1545fa742db2"
      },
      "source": [
        "a_csv = dropColumns(a_csv)\n",
        "b_csv = dropColumns(b_csv)\n",
        "c_csv = dropColumns(c_csv)\n",
        "d_csv = dropColumns(d_csv)\n",
        "e_csv = dropColumns(e_csv)"
      ],
      "execution_count": null,
      "outputs": [
        {
          "output_type": "stream",
          "text": [
            "         filename  digit\n",
            "0      a00000.png      5\n",
            "1      a00001.png      3\n",
            "2      a00002.png      1\n",
            "3      a00003.png      7\n",
            "4      a00004.png      0\n",
            "...           ...    ...\n",
            "19697  a19697.png      4\n",
            "19698  a19698.png      3\n",
            "19699  a19699.png      8\n",
            "19700  a19700.png      3\n",
            "19701  a19701.png      8\n",
            "\n",
            "[19702 rows x 2 columns]\n",
            "     filename  digit\n",
            "0  a00000.png      5\n",
            "1  a00001.png      3\n",
            "2  a00002.png      1\n",
            "3  a00003.png      7\n",
            "4  a00004.png      0\n",
            "=============================\n",
            "       filename  digit\n",
            "0    b00000.png      0\n",
            "1    b00001.png      2\n",
            "2    b00002.png      5\n",
            "3    b00003.png      2\n",
            "4    b00004.png      5\n",
            "..          ...    ...\n",
            "354  b00354.png      5\n",
            "355  b00355.png      9\n",
            "356  b00356.png      2\n",
            "357  b00357.png      1\n",
            "358  b00358.png      2\n",
            "\n",
            "[359 rows x 2 columns]\n",
            "     filename  digit\n",
            "0  b00000.png      0\n",
            "1  b00001.png      2\n",
            "2  b00002.png      5\n",
            "3  b00003.png      2\n",
            "4  b00004.png      5\n",
            "=============================\n",
            "         filename  digit\n",
            "0      c00000.png      6\n",
            "1      c00001.png      1\n",
            "2      c00002.png      3\n",
            "3      c00003.png      2\n",
            "4      c00004.png      7\n",
            "...           ...    ...\n",
            "24293  c24293.png      3\n",
            "24294  c24294.png      2\n",
            "24295  c24295.png      7\n",
            "24296  c24296.png      2\n",
            "24297  c24297.png      7\n",
            "\n",
            "[24298 rows x 2 columns]\n",
            "     filename  digit\n",
            "0  c00000.png      6\n",
            "1  c00001.png      1\n",
            "2  c00002.png      3\n",
            "3  c00003.png      2\n",
            "4  c00004.png      7\n",
            "=============================\n",
            "         filename  digit\n",
            "0      d00000.png      1\n",
            "1      d00001.png      1\n",
            "2      d00002.png      5\n",
            "3      d00003.png      7\n",
            "4      d00004.png      0\n",
            "...           ...    ...\n",
            "10903  d10903.png      8\n",
            "10904  d10904.png      6\n",
            "10905  d10905.png      1\n",
            "10906  d10906.png      6\n",
            "10907  d10907.png      1\n",
            "\n",
            "[10908 rows x 2 columns]\n",
            "     filename  digit\n",
            "0  d00000.png      1\n",
            "1  d00001.png      1\n",
            "2  d00002.png      5\n",
            "3  d00003.png      7\n",
            "4  d00004.png      0\n",
            "=============================\n",
            "         filename  digit\n",
            "0      e00000.png      9\n",
            "1      e00001.png      9\n",
            "2      e00002.png      0\n",
            "3      e00003.png      4\n",
            "4      e00004.png      5\n",
            "...           ...    ...\n",
            "16773  e16773.png      2\n",
            "16774  e16774.png      6\n",
            "16775  e16775.png      5\n",
            "16776  e16776.png      4\n",
            "16777  e16777.png      4\n",
            "\n",
            "[16778 rows x 2 columns]\n",
            "     filename  digit\n",
            "0  e00000.png      9\n",
            "1  e00001.png      9\n",
            "2  e00002.png      0\n",
            "3  e00003.png      4\n",
            "4  e00004.png      5\n",
            "=============================\n"
          ],
          "name": "stdout"
        }
      ]
    },
    {
      "cell_type": "code",
      "metadata": {
        "id": "bTsDz_cMWwbm",
        "outputId": "e90d5ff6-b391-4419-9bd3-f34d6c0f1756"
      },
      "source": [
        "total_csv = [a_csv,b_csv, c_csv, d_csv,e_csv]\n",
        "merged_csv = pd.concat(total_csv)\n",
        "print(len(merged_csv))"
      ],
      "execution_count": null,
      "outputs": [
        {
          "output_type": "stream",
          "text": [
            "72045\n"
          ],
          "name": "stdout"
        }
      ]
    },
    {
      "cell_type": "code",
      "metadata": {
        "id": "0LmSv8r_XCva"
      },
      "source": [
        "TRAIN_PATH = 'D:/NamtaDB/trainAssignment2'\n",
        "os.mkdir(TRAIN_PATH)"
      ],
      "execution_count": null,
      "outputs": []
    },
    {
      "cell_type": "code",
      "metadata": {
        "id": "9M7TavnIXDRC"
      },
      "source": [
        "def processImages(folder_name):\n",
        "    src = PATH + folder_name + '/'\n",
        "    dir_folders = os.listdir(src)\n",
        "    for dir_name in dir_folders:\n",
        "        file_name = os.path.join(src, dir_name)\n",
        "        if os.path.isfile(file_name):\n",
        "            shutil.copy(file_name, TRAIN_PATH) "
      ],
      "execution_count": null,
      "outputs": []
    },
    {
      "cell_type": "code",
      "metadata": {
        "id": "jFwCtjgrXFBC",
        "outputId": "3ab101c1-2acc-4bb2-ec0b-c9b41d5078d6"
      },
      "source": [
        "processImages('training-a')\n",
        "print('A Done')\n",
        "processImages('training-b')\n",
        "print('B Done')\n",
        "processImages('training-c')\n",
        "print('C Done')\n",
        "processImages('training-d')\n",
        "print('D Done')\n",
        "processImages('training-e')\n",
        "print('E Done')"
      ],
      "execution_count": null,
      "outputs": [
        {
          "output_type": "stream",
          "text": [
            "A Done\n",
            "B Done\n",
            "C Done\n",
            "D Done\n",
            "E Done\n"
          ],
          "name": "stdout"
        }
      ]
    },
    {
      "cell_type": "code",
      "metadata": {
        "id": "QOgbj2nZXGde"
      },
      "source": [
        "class Dataset(Dataset):\n",
        "    def __init__(self, df, root, transform=None):\n",
        "        self.data = df\n",
        "        self.root = root\n",
        "        self.transform = transform\n",
        "        \n",
        "    def __len__(self):\n",
        "        return len(self.data)\n",
        "    \n",
        "    def __getitem__(self, index):\n",
        "        item = self.data.iloc[index]\n",
        "        \n",
        "        path = self.root + \"/\" + item[0]\n",
        "        image = Image.open(path).convert('L')\n",
        "        label = item[1]\n",
        "        \n",
        "        if self.transform is not None:\n",
        "            image = self.transform(image)\n",
        "            \n",
        "        return image, label"
      ],
      "execution_count": null,
      "outputs": []
    },
    {
      "cell_type": "code",
      "metadata": {
        "id": "7AWZVFi0XIca",
        "outputId": "ad77b248-fedd-45ba-f6ca-755e91394745"
      },
      "source": [
        "mean = [0.5,]\n",
        "std = [0.5, ]\n",
        "\n",
        "train_transform = transforms.Compose([\n",
        "    transforms.Resize((28,28)),\n",
        "    transforms.ToTensor(),\n",
        "    transforms.Normalize(mean, std)\n",
        "])\n",
        "\n",
        "test_transform = transforms.Compose([\n",
        "        transforms.Resize((28,28)),\n",
        "        transforms.ToTensor(),\n",
        "        transforms.Normalize(mean, std)\n",
        "])\n",
        "\n",
        "train_data  = Dataset(merged_csv, TRAIN_PATH, train_transform)\n",
        "test_data = Dataset(merged_csv, TRAIN_PATH, test_transform)\n",
        "\n",
        "print(\"Trainig Samples: \",len(train_data))"
      ],
      "execution_count": null,
      "outputs": [
        {
          "output_type": "stream",
          "text": [
            "Trainig Samples:  72045\n"
          ],
          "name": "stdout"
        }
      ]
    },
    {
      "cell_type": "markdown",
      "metadata": {
        "id": "WumQ-7codRPE"
      },
      "source": [
        "**For the all 4 best combination of my experiment I used Adam Optimizer.**"
      ]
    },
    {
      "cell_type": "markdown",
      "metadata": {
        "id": "AT109C3-a7EI"
      },
      "source": [
        "#Setting1\r\n",
        "Here I Take Batch Size 200,number of hidden nodes are 100 and learning rate is 0.001.Then by using the number of epoch formula I calculate the epochs.Here for the first best output I used 4 CELU activation function with hidden layer."
      ]
    },
    {
      "cell_type": "code",
      "metadata": {
        "id": "h_GL1wMIa7EI",
        "outputId": "394121ae-189e-4311-905f-1c3815a05488"
      },
      "source": [
        "# Hyperparameters\n",
        "\n",
        "batch_size = 200\n",
        "num_iters = 5000\n",
        "input_dim = 28*28 # num_features = 784\n",
        "num_hidden = 100 # num of hidden nodes\n",
        "output_dim = 10\n",
        "\n",
        "learning_rate = 0.001  # More power so we can learn faster! previously it was 0.001\n",
        "\n",
        "num_epochs = num_iters / (len(train_data) / batch_size)\n",
        "num_epochs = int(num_epochs)\n",
        "print(num_epochs)\n",
        "\n",
        "# Device\n",
        "device = torch.device(\"cuda:0\" if torch.cuda.is_available() else \"cpu\")"
      ],
      "execution_count": null,
      "outputs": [
        {
          "output_type": "stream",
          "text": [
            "13\n"
          ],
          "name": "stdout"
        }
      ]
    },
    {
      "cell_type": "code",
      "metadata": {
        "id": "mVOwtmhLa7EI",
        "outputId": "dee9c58c-3531-46e7-d94c-42994fa0ecae"
      },
      "source": [
        "\n",
        "# split data 10% for testing\n",
        "test_size = 0.1\n",
        "\n",
        "# obtain training indices that will be used for validation\n",
        "num_train = len(train_data)\n",
        "\n",
        "# mix data\n",
        "# index of num of train\n",
        "indices = list(range(num_train))\n",
        "# random the index\n",
        "np.random.shuffle(indices)\n",
        "split = int(np.floor(test_size * num_train))\n",
        "# divied into two part\n",
        "train_idx, test_idx = indices[split:], indices[:split]\n",
        "\n",
        "# define the sampler\n",
        "train_sampler = SubsetRandomSampler(train_idx)\n",
        "test_sampler = SubsetRandomSampler(test_idx)\n",
        "\n",
        "# prepare loaders\n",
        "train_loader = torch.utils.data.DataLoader(\n",
        "    train_data, batch_size=batch_size,\n",
        "    sampler=train_sampler)\n",
        "\n",
        "test_loader = torch.utils.data.DataLoader(\n",
        "    test_data, batch_size=batch_size,\n",
        "    sampler=test_sampler)\n",
        "\n",
        "print(\"Train dataloader:{}\".format(len(train_loader)))\n",
        "print(\"Test dataloader:{}\".format(len(test_loader)))\n"
      ],
      "execution_count": null,
      "outputs": [
        {
          "output_type": "stream",
          "text": [
            "Train dataloader:325\n",
            "Test dataloader:37\n"
          ],
          "name": "stdout"
        }
      ]
    },
    {
      "cell_type": "code",
      "metadata": {
        "id": "33DwaKmHa7EJ"
      },
      "source": [
        "class DeepNeuralNetworkModel(nn.Module):\n",
        "    def __init__(self, input_size, num_classes, num_hidden):\n",
        "        super().__init__()\n",
        "        ### 1st hidden layer: 784 --> 100\n",
        "        self.linear_1 = nn.Linear(input_size, num_hidden)\n",
        "        ### Non-linearity in 1st hidden layer\n",
        "        self.celu_1 = nn.CELU()\n",
        "\n",
        "        ### 2nd hidden layer: 100 --> 100\n",
        "        self.linear_2 = nn.Linear(num_hidden, num_hidden)\n",
        "        ### Non-linearity in 2nd hidden layer\n",
        "        self.celu_2 = nn.CELU()\n",
        "        \n",
        "        ### 3rd hidden layer: 100 --> 100\n",
        "        self.linear_3 = nn.Linear(num_hidden, num_hidden)\n",
        "        ### Non-linearity in 3rd hidden layer\n",
        "        self.celu_3 = nn.CELU()\n",
        "        \n",
        "        ### 4th hidden layer: 100 --> 100\n",
        "        self.linear_4 = nn.Linear(num_hidden, num_hidden)\n",
        "        ### Non-linearity in 4th hidden layer\n",
        "        self.celu_4 = nn.CELU()\n",
        "\n",
        "        ### Output layer: 100 --> 10\n",
        "        self.linear_out = nn.Linear(num_hidden, num_classes)\n",
        "\n",
        "    def forward(self, x):\n",
        "        ### 1st hidden layer\n",
        "        out  = self.linear_1(x)\n",
        "        ### Non-linearity in 1st hidden layer\n",
        "        out = self.celu_1(out)\n",
        "        \n",
        "        ### 2nd hidden layer\n",
        "        out  = self.linear_2(out)\n",
        "        ### Non-linearity in 2nd hidden layer\n",
        "        out = self.celu_2(out)\n",
        "        \n",
        "        ### 3rd hidden layer\n",
        "        out  = self.linear_3(out)\n",
        "        ### Non-linearity in 3rd hidden layer\n",
        "        out = self.celu_3(out)\n",
        "        \n",
        "        ### 4th hidden layer\n",
        "        out  = self.linear_4(out)\n",
        "        ### Non-linearity in 3rd hidden layer\n",
        "        out = self.celu_4(out)\n",
        "        \n",
        "        # Linear layer (output)\n",
        "        probas  = self.linear_out(out)\n",
        "        return probas"
      ],
      "execution_count": null,
      "outputs": []
    },
    {
      "cell_type": "code",
      "metadata": {
        "id": "b99_JIbIa7EJ",
        "outputId": "3fff1f28-b9f9-45ce-9a1f-b5f5b6e7ceef"
      },
      "source": [
        "# INSTANTIATE MODEL CLASS\n",
        "\n",
        "model = DeepNeuralNetworkModel(input_size = input_dim,\n",
        "                               num_classes = output_dim,\n",
        "                               num_hidden = num_hidden\n",
        "                              )\n",
        "# To enable GPU\n",
        "model.to(device)\n"
      ],
      "execution_count": null,
      "outputs": [
        {
          "output_type": "execute_result",
          "data": {
            "text/plain": [
              "DeepNeuralNetworkModel(\n",
              "  (linear_1): Linear(in_features=784, out_features=100, bias=True)\n",
              "  (celu_1): CELU(alpha=1.0)\n",
              "  (linear_2): Linear(in_features=100, out_features=100, bias=True)\n",
              "  (celu_2): CELU(alpha=1.0)\n",
              "  (linear_3): Linear(in_features=100, out_features=100, bias=True)\n",
              "  (celu_3): CELU(alpha=1.0)\n",
              "  (linear_4): Linear(in_features=100, out_features=100, bias=True)\n",
              "  (celu_4): CELU(alpha=1.0)\n",
              "  (linear_out): Linear(in_features=100, out_features=10, bias=True)\n",
              ")"
            ]
          },
          "metadata": {
            "tags": []
          },
          "execution_count": 144
        }
      ]
    },
    {
      "cell_type": "code",
      "metadata": {
        "id": "3HHSerTpa7EJ",
        "outputId": "d50fbf05-d462-41ce-f847-a340e7745786"
      },
      "source": [
        "# INSTANTIATE LOSS & OPTIMIZER CLASS\n",
        "\n",
        "criterion = nn.CrossEntropyLoss()\n",
        "optimizer = torch.optim.Adam(model.parameters(), lr=learning_rate)\n",
        "iteration_loss = []\n",
        "iter = 0\n",
        "for epoch in range(num_epochs):\n",
        "    for i, (images, labels) in enumerate(train_loader):\n",
        "\n",
        "        images = images.view(-1, 28*28).to(device)\n",
        "        labels = labels.to(device)\n",
        "\n",
        "        # Clear gradients w.r.t. parameters\n",
        "        optimizer.zero_grad()\n",
        "\n",
        "        # Forward pass to get output/logits\n",
        "        outputs = model(images) \n",
        "\n",
        "        # Calculate Loss: softmax --> cross entropy loss\n",
        "        loss = criterion(outputs, labels)\n",
        "\n",
        "        # Getting gradients w.r.t. parameters\n",
        "        loss.backward()\n",
        "\n",
        "        # Updating parameters\n",
        "        optimizer.step()\n",
        "\n",
        "        iter += 1\n",
        "\n",
        "        if iter % 500 == 0:\n",
        "            # Calculate Accuracy         \n",
        "            correct = 0\n",
        "            total = 0\n",
        "            # Iterate through test dataset\n",
        "            for images, labels in test_loader:\n",
        "               \n",
        "                images = images.view(-1, 28*28).to(device)\n",
        "\n",
        "                # Forward pass only to get logits/output\n",
        "                outputs = model(images)\n",
        "\n",
        "                # Get predictions from the maximum value\n",
        "                _, predicted = torch.max(outputs, 1)\n",
        "\n",
        "                # Total number of labels\n",
        "                total += labels.size(0)\n",
        "\n",
        "\n",
        "                # Total correct predictions\n",
        "                if torch.cuda.is_available():\n",
        "                    correct += (predicted.cpu() == labels.cpu()).sum() \n",
        "                else:\n",
        "                    correct += (predicted == labels).sum()\n",
        "\n",
        "            accuracy = 100 * correct.item() / total\n",
        "\n",
        "            # Print Loss\n",
        "            iteration_loss.append(loss.item())\n",
        "            print('Iteration: {}. Loss: {}. Accuracy: {}'.format(iter, loss.item(), accuracy))"
      ],
      "execution_count": null,
      "outputs": [
        {
          "output_type": "stream",
          "text": [
            "Iteration: 500. Loss: 1.4863264560699463. Accuracy: 44.322598556357576\n",
            "Iteration: 1000. Loss: 1.3854278326034546. Accuracy: 51.943364797334816\n",
            "Iteration: 1500. Loss: 1.065168023109436. Accuracy: 61.632426429761246\n",
            "Iteration: 2000. Loss: 0.9407568573951721. Accuracy: 63.686840644086615\n",
            "Iteration: 2500. Loss: 0.923419713973999. Accuracy: 63.63131593559134\n",
            "Iteration: 3000. Loss: 0.9482247829437256. Accuracy: 72.20988339811215\n",
            "Iteration: 3500. Loss: 0.7030014991760254. Accuracy: 71.14103275957801\n",
            "Iteration: 4000. Loss: 0.781063437461853. Accuracy: 74.04219877845641\n"
          ],
          "name": "stdout"
        }
      ]
    },
    {
      "cell_type": "code",
      "metadata": {
        "id": "4he_06aCa7EJ"
      },
      "source": [
        "save_model = True\n",
        "\n",
        "if save_model is True:\n",
        "    # Saves only parameters\n",
        "    # wights & biases\n",
        "    torch.save(model.state_dict(), PATH + 'modelassignment2/model16.pkl') "
      ],
      "execution_count": null,
      "outputs": []
    },
    {
      "cell_type": "code",
      "metadata": {
        "id": "LB_ChoW3a7EJ",
        "outputId": "29f36160-dab9-43df-8bbc-b2fc6686cb74"
      },
      "source": [
        "import matplotlib\n",
        "import matplotlib.pyplot as plt\n",
        "\n",
        "print (iteration_loss)\n",
        "plt.plot(iteration_loss)\n",
        "plt.ylabel('Cross Entropy Loss')\n",
        "plt.xlabel('Iteration (in every 500)')\n",
        "plt.show()"
      ],
      "execution_count": null,
      "outputs": [
        {
          "output_type": "stream",
          "text": [
            "[1.4863264560699463, 1.3854278326034546, 1.065168023109436, 0.9407568573951721, 0.923419713973999, 0.9482247829437256, 0.7030014991760254, 0.781063437461853]\n"
          ],
          "name": "stdout"
        },
        {
          "output_type": "display_data",
          "data": {
            "image/png": "[encoded data removed]",
            "text/plain": [
              "<Figure size 432x288 with 1 Axes>"
            ]
          },
          "metadata": {
            "tags": [],
            "needs_background": "light"
          }
        }
      ]
    },
    {
      "cell_type": "markdown",
      "metadata": {
        "id": "grVYwbn9a7ED"
      },
      "source": [
        "#setting2\n",
        "Here I Take Batch Size 200,number of hidden nodes are 150 and learning rate is 0.001.Then by using the number of epoch formula I calculate the epochs.\n",
        "Here for the first best output I used 2 CELU activation function with hidden layer."
      ]
    },
    {
      "cell_type": "code",
      "metadata": {
        "id": "sZnMRJRBa7EE",
        "outputId": "9e83804c-b3e5-4331-974d-d6c8ba063d8c"
      },
      "source": [
        "# Hyperparameters\n",
        "\n",
        "batch_size = 200\n",
        "num_iters = 5000\n",
        "input_dim = 28*28 # num_features = 784\n",
        "num_hidden = 150 # num of hidden nodes\n",
        "output_dim = 10\n",
        "\n",
        "learning_rate = 0.001  # More power so we can learn faster! previously it was 0.001\n",
        "\n",
        "num_epochs = num_iters / (len(train_data) / batch_size)\n",
        "num_epochs = int(num_epochs)\n",
        "print(num_epochs)\n",
        "\n",
        "# Device\n",
        "device = torch.device(\"cuda:0\" if torch.cuda.is_available() else \"cpu\")"
      ],
      "execution_count": null,
      "outputs": [
        {
          "output_type": "stream",
          "text": [
            "13\n"
          ],
          "name": "stdout"
        }
      ]
    },
    {
      "cell_type": "code",
      "metadata": {
        "id": "v9ErbXhya7EE",
        "outputId": "8bbdd6b6-c3ce-45ba-93ee-3f8aa4319b8c"
      },
      "source": [
        "\n",
        "# split data 10% for testing\n",
        "test_size = 0.1\n",
        "\n",
        "# obtain training indices that will be used for validation\n",
        "num_train = len(train_data)\n",
        "\n",
        "# mix data\n",
        "# index of num of train\n",
        "indices = list(range(num_train))\n",
        "# random the index\n",
        "np.random.shuffle(indices)\n",
        "split = int(np.floor(test_size * num_train))\n",
        "# divied into two part\n",
        "train_idx, test_idx = indices[split:], indices[:split]\n",
        "\n",
        "# define the sampler\n",
        "train_sampler = SubsetRandomSampler(train_idx)\n",
        "test_sampler = SubsetRandomSampler(test_idx)\n",
        "\n",
        "# prepare loaders\n",
        "train_loader = torch.utils.data.DataLoader(\n",
        "    train_data, batch_size=batch_size,\n",
        "    sampler=train_sampler)\n",
        "\n",
        "test_loader = torch.utils.data.DataLoader(\n",
        "    test_data, batch_size=batch_size,\n",
        "    sampler=test_sampler)\n",
        "\n",
        "print(\"Train dataloader:{}\".format(len(train_loader)))\n",
        "print(\"Test dataloader:{}\".format(len(test_loader)))\n"
      ],
      "execution_count": null,
      "outputs": [
        {
          "output_type": "stream",
          "text": [
            "Train dataloader:325\n",
            "Test dataloader:37\n"
          ],
          "name": "stdout"
        }
      ]
    },
    {
      "cell_type": "code",
      "metadata": {
        "id": "8afwXSBQa7EE"
      },
      "source": [
        "class DeepNeuralNetworkModel(nn.Module):\n",
        "    def __init__(self, input_size, num_classes, num_hidden):\n",
        "        super().__init__()\n",
        "        ### 1st hidden layer: 784 --> 100\n",
        "        self.linear_1 = nn.Linear(input_size, num_hidden)\n",
        "        ### Non-linearity in 1st hidden layer\n",
        "        self.celu_1 = nn.CELU()\n",
        "\n",
        "        ### 2nd hidden layer: 100 --> 100\n",
        "        self.linear_2 = nn.Linear(num_hidden, num_hidden)\n",
        "        ### Non-linearity in 2nd hidden layer\n",
        "        self.celu_2 = nn.CELU()\n",
        "\n",
        "        ### Output layer: 100 --> 10\n",
        "        self.linear_out = nn.Linear(num_hidden, num_classes)\n",
        "\n",
        "    def forward(self, x):\n",
        "        ### 1st hidden layer\n",
        "        out  = self.linear_1(x)\n",
        "        ### Non-linearity in 1st hidden layer\n",
        "        out = self.celu_1(out)\n",
        "        \n",
        "        ### 2nd hidden layer\n",
        "        out  = self.linear_2(out)\n",
        "        ### Non-linearity in 2nd hidden layer\n",
        "        out = self.celu_2(out)\n",
        "        \n",
        "        # Linear layer (output)\n",
        "        probas  = self.linear_out(out)\n",
        "        return probas"
      ],
      "execution_count": null,
      "outputs": []
    },
    {
      "cell_type": "code",
      "metadata": {
        "id": "8dukKnBfa7EE",
        "outputId": "29529474-486a-405a-b226-ca591f861f3f"
      },
      "source": [
        "# INSTANTIATE MODEL CLASS\n",
        "\n",
        "model = DeepNeuralNetworkModel(input_size = input_dim,\n",
        "                               num_classes = output_dim,\n",
        "                               num_hidden = num_hidden)\n",
        "# To enable GPU\n",
        "model.to(device)\n"
      ],
      "execution_count": null,
      "outputs": [
        {
          "output_type": "execute_result",
          "data": {
            "text/plain": [
              "DeepNeuralNetworkModel(\n",
              "  (linear_1): Linear(in_features=784, out_features=150, bias=True)\n",
              "  (celu_1): CELU(alpha=1.0)\n",
              "  (linear_2): Linear(in_features=150, out_features=150, bias=True)\n",
              "  (celu_2): CELU(alpha=1.0)\n",
              "  (linear_out): Linear(in_features=150, out_features=10, bias=True)\n",
              ")"
            ]
          },
          "metadata": {
            "tags": []
          },
          "execution_count": 78
        }
      ]
    },
    {
      "cell_type": "code",
      "metadata": {
        "id": "vx3MFFvsa7EF",
        "outputId": "2aec59b5-d7cc-4fa3-95e2-eeea04c68840"
      },
      "source": [
        "# INSTANTIATE LOSS & OPTIMIZER CLASS\n",
        "\n",
        "criterion = nn.CrossEntropyLoss()\n",
        "optimizer = torch.optim.Adam(model.parameters(), lr=learning_rate)\n",
        "iteration_loss = []\n",
        "iter = 0\n",
        "for epoch in range(num_epochs):\n",
        "    for i, (images, labels) in enumerate(train_loader):\n",
        "\n",
        "        images = images.view(-1, 28*28).to(device)\n",
        "        labels = labels.to(device)\n",
        "\n",
        "        # Clear gradients w.r.t. parameters\n",
        "        optimizer.zero_grad()\n",
        "\n",
        "        # Forward pass to get output/logits\n",
        "        outputs = model(images) \n",
        "\n",
        "        # Calculate Loss: softmax --> cross entropy loss\n",
        "        loss = criterion(outputs, labels)\n",
        "\n",
        "        # Getting gradients w.r.t. parameters\n",
        "        loss.backward()\n",
        "\n",
        "        # Updating parameters\n",
        "        optimizer.step()\n",
        "\n",
        "        iter += 1\n",
        "\n",
        "        if iter % 500 == 0:\n",
        "            # Calculate Accuracy         \n",
        "            correct = 0\n",
        "            total = 0\n",
        "            # Iterate through test dataset\n",
        "            for images, labels in test_loader:\n",
        "               \n",
        "                images = images.view(-1, 28*28).to(device)\n",
        "\n",
        "                # Forward pass only to get logits/output\n",
        "                outputs = model(images)\n",
        "\n",
        "                # Get predictions from the maximum value\n",
        "                _, predicted = torch.max(outputs, 1)\n",
        "\n",
        "                # Total number of labels\n",
        "                total += labels.size(0)\n",
        "\n",
        "\n",
        "                # Total correct predictions\n",
        "                if torch.cuda.is_available():\n",
        "                    correct += (predicted.cpu() == labels.cpu()).sum() \n",
        "                else:\n",
        "                    correct += (predicted == labels).sum()\n",
        "\n",
        "            accuracy = 100 * correct.item() / total\n",
        "\n",
        "            # Print Loss\n",
        "            iteration_loss.append(loss.item())\n",
        "            print('Iteration: {}. Loss: {}. Accuracy: {}'.format(iter, loss.item(), accuracy))"
      ],
      "execution_count": null,
      "outputs": [
        {
          "output_type": "stream",
          "text": [
            "Iteration: 500. Loss: 1.7172627449035645. Accuracy: 40.574680732926154\n",
            "Iteration: 1000. Loss: 1.5083551406860352. Accuracy: 52.40144364242088\n",
            "Iteration: 1500. Loss: 1.1317168474197388. Accuracy: 55.09439200444198\n",
            "Iteration: 2000. Loss: 1.1056156158447266. Accuracy: 59.633536923931146\n",
            "Iteration: 2500. Loss: 1.1372467279434204. Accuracy: 64.70016657412549\n",
            "Iteration: 3000. Loss: 1.0591075420379639. Accuracy: 69.89172681843421\n",
            "Iteration: 3500. Loss: 0.8838732242584229. Accuracy: 68.79511382565242\n",
            "Iteration: 4000. Loss: 0.7958492040634155. Accuracy: 75.12493059411437\n"
          ],
          "name": "stdout"
        }
      ]
    },
    {
      "cell_type": "code",
      "metadata": {
        "id": "X0QxPhlta7EF"
      },
      "source": [
        "save_model = True\n",
        "\n",
        "if save_model is True:\n",
        "    # Saves only parameters\n",
        "    # wights & biases\n",
        "    torch.save(model.state_dict(), PATH + 'modelassignment2/model8.pkl') "
      ],
      "execution_count": null,
      "outputs": []
    },
    {
      "cell_type": "code",
      "metadata": {
        "id": "M05pEgTsa7EG",
        "outputId": "91bd99ca-4611-4e49-b450-6e0f64040801"
      },
      "source": [
        "import matplotlib\n",
        "import matplotlib.pyplot as plt\n",
        "\n",
        "print (iteration_loss)\n",
        "plt.plot(iteration_loss)\n",
        "plt.ylabel('Cross Entropy Loss')\n",
        "plt.xlabel('Iteration (in every 500)')\n",
        "plt.show()"
      ],
      "execution_count": null,
      "outputs": [
        {
          "output_type": "stream",
          "text": [
            "[1.7172627449035645, 1.5083551406860352, 1.1317168474197388, 1.1056156158447266, 1.1372467279434204, 1.0591075420379639, 0.8838732242584229, 0.7958492040634155]\n"
          ],
          "name": "stdout"
        },
        {
          "output_type": "display_data",
          "data": {
            "image/png": "[encoded data removed]",
            "text/plain": [
              "<Figure size 432x288 with 1 Axes>"
            ]
          },
          "metadata": {
            "tags": [],
            "needs_background": "light"
          }
        }
      ]
    },
    {
      "cell_type": "markdown",
      "metadata": {
        "id": "RZESEls8a7EG"
      },
      "source": [
        "#Setting3\r\n",
        "Here I Take Batch Size 200,number of hidden nodes are 100 and learning rate is 0.001.Then by using the number of epoch formula I calculate the epochs.Here for the first best output I used 3 CELU activation function with hidden layer."
      ]
    },
    {
      "cell_type": "code",
      "metadata": {
        "id": "jctcHF2ia7EG",
        "outputId": "4a251ade-b1ad-4f1c-ac12-85eb1590355e"
      },
      "source": [
        "# Hyperparameters\n",
        "\n",
        "batch_size = 200\n",
        "num_iters = 5000\n",
        "input_dim = 28*28 # num_features = 784\n",
        "num_hidden = 150 # num of hidden nodes\n",
        "output_dim = 10\n",
        "num_hidden2 = 100\n",
        "\n",
        "learning_rate = 0.001  # More power so we can learn faster! previously it was 0.001\n",
        "\n",
        "num_epochs = num_iters / (len(train_data) / batch_size)\n",
        "num_epochs = int(num_epochs)\n",
        "print(num_epochs)\n",
        "\n",
        "# Device\n",
        "device = torch.device(\"cuda:0\" if torch.cuda.is_available() else \"cpu\")"
      ],
      "execution_count": null,
      "outputs": [
        {
          "output_type": "stream",
          "text": [
            "13\n"
          ],
          "name": "stdout"
        }
      ]
    },
    {
      "cell_type": "code",
      "metadata": {
        "id": "mZonDLz0a7EG",
        "outputId": "de89b9b8-a448-4b85-d0f4-45eb191a1624"
      },
      "source": [
        "\n",
        "# split data 10% for testing\n",
        "test_size = 0.1\n",
        "\n",
        "# obtain training indices that will be used for validation\n",
        "num_train = len(train_data)\n",
        "\n",
        "# mix data\n",
        "# index of num of train\n",
        "indices = list(range(num_train))\n",
        "# random the index\n",
        "np.random.shuffle(indices)\n",
        "split = int(np.floor(test_size * num_train))\n",
        "# divied into two part\n",
        "train_idx, test_idx = indices[split:], indices[:split]\n",
        "\n",
        "# define the sampler\n",
        "train_sampler = SubsetRandomSampler(train_idx)\n",
        "test_sampler = SubsetRandomSampler(test_idx)\n",
        "\n",
        "# prepare loaders\n",
        "train_loader = torch.utils.data.DataLoader(\n",
        "    train_data, batch_size=batch_size,\n",
        "    sampler=train_sampler)\n",
        "\n",
        "test_loader = torch.utils.data.DataLoader(\n",
        "    test_data, batch_size=batch_size,\n",
        "    sampler=test_sampler)\n",
        "\n",
        "print(\"Train dataloader:{}\".format(len(train_loader)))\n",
        "print(\"Test dataloader:{}\".format(len(test_loader)))\n"
      ],
      "execution_count": null,
      "outputs": [
        {
          "output_type": "stream",
          "text": [
            "Train dataloader:325\n",
            "Test dataloader:37\n"
          ],
          "name": "stdout"
        }
      ]
    },
    {
      "cell_type": "code",
      "metadata": {
        "id": "N5N3K-DTa7EH"
      },
      "source": [
        "class DeepNeuralNetworkModel(nn.Module):\n",
        "    def __init__(self, input_size, num_classes, num_hidden):\n",
        "        super().__init__()\n",
        "        ### 1st hidden layer: 784 --> 100\n",
        "        self.linear_1 = nn.Linear(input_size, num_hidden)\n",
        "        ### Non-linearity in 1st hidden layer\n",
        "        self.celu_1 = nn.CELU()\n",
        "\n",
        "        ### 2nd hidden layer: 100 --> 100\n",
        "        self.linear_2 = nn.Linear(num_hidden, num_hidden)\n",
        "        ### Non-linearity in 2nd hidden layer\n",
        "        self.celu_2 = nn.CELU()\n",
        "        \n",
        "        ### 3rd hidden layer: 100 --> 100\n",
        "        self.linear_3 = nn.Linear(num_hidden, num_hidden)\n",
        "        ### Non-linearity in 3rd hidden layer\n",
        "        self.celu_3 = nn.CELU()\n",
        "\n",
        "        ### Output layer: 100 --> 10\n",
        "        self.linear_out = nn.Linear(num_hidden, num_classes)\n",
        "\n",
        "    def forward(self, x):\n",
        "        ### 1st hidden layer\n",
        "        out  = self.linear_1(x)\n",
        "        ### Non-linearity in 1st hidden layer\n",
        "        out = self.celu_1(out)\n",
        "        \n",
        "        ### 2nd hidden layer\n",
        "        out  = self.linear_2(out)\n",
        "        ### Non-linearity in 2nd hidden layer\n",
        "        out = self.celu_2(out)\n",
        "        \n",
        "        ### 3rd hidden layer\n",
        "        out  = self.linear_3(out)\n",
        "        ### Non-linearity in 3rd hidden layer\n",
        "        out = self.celu_3(out)\n",
        "        \n",
        "        # Linear layer (output)\n",
        "        probas  = self.linear_out(out)\n",
        "        return probas"
      ],
      "execution_count": null,
      "outputs": []
    },
    {
      "cell_type": "code",
      "metadata": {
        "id": "2o1ZxO43a7EH",
        "outputId": "8780906f-2095-45ba-b109-aaa978e11c60"
      },
      "source": [
        "# INSTANTIATE MODEL CLASS\n",
        "\n",
        "model = DeepNeuralNetworkModel(input_size = input_dim,\n",
        "                               num_classes = output_dim,\n",
        "                               num_hidden = num_hidden\n",
        "                              )\n",
        "# To enable GPU\n",
        "model.to(device)\n"
      ],
      "execution_count": null,
      "outputs": [
        {
          "output_type": "execute_result",
          "data": {
            "text/plain": [
              "DeepNeuralNetworkModel(\n",
              "  (linear_1): Linear(in_features=784, out_features=150, bias=True)\n",
              "  (celu_1): CELU(alpha=1.0)\n",
              "  (linear_2): Linear(in_features=150, out_features=150, bias=True)\n",
              "  (celu_2): CELU(alpha=1.0)\n",
              "  (linear_3): Linear(in_features=150, out_features=150, bias=True)\n",
              "  (celu_3): CELU(alpha=1.0)\n",
              "  (linear_out): Linear(in_features=150, out_features=10, bias=True)\n",
              ")"
            ]
          },
          "metadata": {
            "tags": []
          },
          "execution_count": 133
        }
      ]
    },
    {
      "cell_type": "code",
      "metadata": {
        "id": "dvPUA5Cda7EH",
        "outputId": "22b85072-bad6-4774-a833-994485602077"
      },
      "source": [
        "# INSTANTIATE LOSS & OPTIMIZER CLASS\n",
        "\n",
        "criterion = nn.CrossEntropyLoss()\n",
        "optimizer = torch.optim.Adam(model.parameters(), lr=learning_rate)\n",
        "iteration_loss = []\n",
        "iter = 0\n",
        "for epoch in range(num_epochs):\n",
        "    for i, (images, labels) in enumerate(train_loader):\n",
        "\n",
        "        images = images.view(-1, 28*28).to(device)\n",
        "        labels = labels.to(device)\n",
        "\n",
        "        # Clear gradients w.r.t. parameters\n",
        "        optimizer.zero_grad()\n",
        "\n",
        "        # Forward pass to get output/logits\n",
        "        outputs = model(images) \n",
        "\n",
        "        # Calculate Loss: softmax --> cross entropy loss\n",
        "        loss = criterion(outputs, labels)\n",
        "\n",
        "        # Getting gradients w.r.t. parameters\n",
        "        loss.backward()\n",
        "\n",
        "        # Updating parameters\n",
        "        optimizer.step()\n",
        "\n",
        "        iter += 1\n",
        "\n",
        "        if iter % 500 == 0:\n",
        "            # Calculate Accuracy         \n",
        "            correct = 0\n",
        "            total = 0\n",
        "            # Iterate through test dataset\n",
        "            for images, labels in test_loader:\n",
        "               \n",
        "                images = images.view(-1, 28*28).to(device)\n",
        "\n",
        "                # Forward pass only to get logits/output\n",
        "                outputs = model(images)\n",
        "\n",
        "                # Get predictions from the maximum value\n",
        "                _, predicted = torch.max(outputs, 1)\n",
        "\n",
        "                # Total number of labels\n",
        "                total += labels.size(0)\n",
        "\n",
        "\n",
        "                # Total correct predictions\n",
        "                if torch.cuda.is_available():\n",
        "                    correct += (predicted.cpu() == labels.cpu()).sum() \n",
        "                else:\n",
        "                    correct += (predicted == labels).sum()\n",
        "\n",
        "            accuracy = 100 * correct.item() / total\n",
        "\n",
        "            # Print Loss\n",
        "            iteration_loss.append(loss.item())\n",
        "            print('Iteration: {}. Loss: {}. Accuracy: {}'.format(iter, loss.item(), accuracy))"
      ],
      "execution_count": null,
      "outputs": [
        {
          "output_type": "stream",
          "text": [
            "Iteration: 500. Loss: 1.7160824537277222. Accuracy: 43.19822320932815\n",
            "Iteration: 1000. Loss: 1.4062119722366333. Accuracy: 52.47084952803998\n",
            "Iteration: 1500. Loss: 1.0827549695968628. Accuracy: 59.74458634092171\n",
            "Iteration: 2000. Loss: 1.073005199432373. Accuracy: 65.8106607440311\n",
            "Iteration: 2500. Loss: 0.7954769730567932. Accuracy: 69.35036091060522\n",
            "Iteration: 3000. Loss: 0.7939758896827698. Accuracy: 72.27928928373126\n",
            "Iteration: 3500. Loss: 0.6670320630073547. Accuracy: 74.15324819544698\n",
            "Iteration: 4000. Loss: 0.6289951801300049. Accuracy: 77.7623542476402\n"
          ],
          "name": "stdout"
        }
      ]
    },
    {
      "cell_type": "code",
      "metadata": {
        "id": "57ZueJjEa7EI"
      },
      "source": [
        "save_model = True\n",
        "\n",
        "if save_model is True:\n",
        "    # Saves only parameters\n",
        "    # wights & biases\n",
        "    torch.save(model.state_dict(), PATH + 'modelassignment2/model15.pkl') "
      ],
      "execution_count": null,
      "outputs": []
    },
    {
      "cell_type": "code",
      "metadata": {
        "id": "dNo5UiYma7EI",
        "outputId": "d0234fd5-7b62-49c2-f46a-f6fd9361aa00"
      },
      "source": [
        "import matplotlib\n",
        "import matplotlib.pyplot as plt\n",
        "\n",
        "print (iteration_loss)\n",
        "plt.plot(iteration_loss)\n",
        "plt.ylabel('Cross Entropy Loss')\n",
        "plt.xlabel('Iteration (in every 500)')\n",
        "plt.show()"
      ],
      "execution_count": null,
      "outputs": [
        {
          "output_type": "stream",
          "text": [
            "[1.7160824537277222, 1.4062119722366333, 1.0827549695968628, 1.073005199432373, 0.7954769730567932, 0.7939758896827698, 0.6670320630073547, 0.6289951801300049]\n"
          ],
          "name": "stdout"
        },
        {
          "output_type": "display_data",
          "data": {
            "image/png": "[encoded data removed]",
            "text/plain": [
              "<Figure size 432x288 with 1 Axes>"
            ]
          },
          "metadata": {
            "tags": [],
            "needs_background": "light"
          }
        }
      ]
    },
    {
      "cell_type": "markdown",
      "metadata": {
        "id": "8tDNK2EOa7EK"
      },
      "source": [
        "#setting4\r\n",
        "Here I Take Batch Size 300,number of hidden nodes are 150 and learning rate is 0.001.Then by using the number of epoch formula I calculate the epochs.Here for the first best output I used 4 CELU activation function with hidden layer."
      ]
    },
    {
      "cell_type": "code",
      "metadata": {
        "id": "b6ox0udja7EK",
        "outputId": "f9e58c12-ca0c-4d5b-9ea1-1d42228ea0b9"
      },
      "source": [
        "#Hyperparameters\n",
        "\n",
        "batch_size = 300\n",
        "num_iters = 5000\n",
        "input_dim = 28*28 # num_features = 784\n",
        "num_hidden = 150 # num of hidden nodes\n",
        "output_dim = 10\n",
        "\n",
        "\n",
        "learning_rate = 0.001  # More power so we can learn faster! previously it was 0.001\n",
        "\n",
        "num_epochs = num_iters / (len(train_data) / batch_size)\n",
        "num_epochs = int(num_epochs)\n",
        "print(num_epochs)\n",
        "\n",
        "# Device\n",
        "device = torch.device(\"cuda:0\" if torch.cuda.is_available() else \"cpu\")"
      ],
      "execution_count": null,
      "outputs": [
        {
          "output_type": "stream",
          "text": [
            "20\n"
          ],
          "name": "stdout"
        }
      ]
    },
    {
      "cell_type": "code",
      "metadata": {
        "id": "BLDJ_SGKa7EK",
        "outputId": "3f54c6c7-08d7-4021-863f-81cc68d45507"
      },
      "source": [
        "\n",
        "# split data 10% for testing\n",
        "test_size = 0.1\n",
        "\n",
        "# obtain training indices that will be used for validation\n",
        "num_train = len(train_data)\n",
        "\n",
        "# mix data\n",
        "# index of num of train\n",
        "indices = list(range(num_train))\n",
        "# random the index\n",
        "np.random.shuffle(indices)\n",
        "split = int(np.floor(test_size * num_train))\n",
        "# divied into two part\n",
        "train_idx, test_idx = indices[split:], indices[:split]\n",
        "\n",
        "# define the sampler\n",
        "train_sampler = SubsetRandomSampler(train_idx)\n",
        "test_sampler = SubsetRandomSampler(test_idx)\n",
        "\n",
        "# prepare loaders\n",
        "train_loader = torch.utils.data.DataLoader(\n",
        "    train_data, batch_size=batch_size,\n",
        "    sampler=train_sampler)\n",
        "\n",
        "test_loader = torch.utils.data.DataLoader(\n",
        "    test_data, batch_size=batch_size,\n",
        "    sampler=test_sampler)\n",
        "\n",
        "print(\"Train dataloader:{}\".format(len(train_loader)))\n",
        "print(\"Test dataloader:{}\".format(len(test_loader)))\n"
      ],
      "execution_count": null,
      "outputs": [
        {
          "output_type": "stream",
          "text": [
            "Train dataloader:217\n",
            "Test dataloader:25\n"
          ],
          "name": "stdout"
        }
      ]
    },
    {
      "cell_type": "code",
      "metadata": {
        "id": "YtZMCDF2a7EK"
      },
      "source": [
        "class DeepNeuralNetworkModel(nn.Module):\n",
        "    def __init__(self, input_size, num_classes, num_hidden):\n",
        "        super().__init__()\n",
        "        ### 1st hidden layer: 784 --> 100\n",
        "        self.linear_1 = nn.Linear(input_size, num_hidden)\n",
        "        ### Non-linearity in 1st hidden layer\n",
        "        self.celu_1 = nn.CELU()\n",
        "\n",
        "        ### 2nd hidden layer: 100 --> 100\n",
        "        self.linear_2 = nn.Linear(num_hidden, num_hidden)\n",
        "        ### Non-linearity in 2nd hidden layer\n",
        "        self.celu_2 = nn.CELU()\n",
        "        \n",
        "        ### 3rd hidden layer: 100 --> 100\n",
        "        self.linear_3 = nn.Linear(num_hidden, num_hidden)\n",
        "        ### Non-linearity in 3rd hidden layer\n",
        "        self.celu_3 = nn.CELU()\n",
        "        \n",
        "        ### 4th hidden layer: 100 --> 100\n",
        "        self.linear_4 = nn.Linear(num_hidden, num_hidden)\n",
        "        ### Non-linearity in 4th hidden layer\n",
        "        self.celu_4 = nn.CELU()\n",
        "\n",
        "        ### Output layer: 100 --> 10\n",
        "        self.linear_out = nn.Linear(num_hidden, num_classes)\n",
        "\n",
        "    def forward(self, x):\n",
        "        ### 1st hidden layer\n",
        "        out  = self.linear_1(x)\n",
        "        ### Non-linearity in 1st hidden layer\n",
        "        out = self.celu_1(out)\n",
        "        \n",
        "        ### 2nd hidden layer\n",
        "        out  = self.linear_2(out)\n",
        "        ### Non-linearity in 2nd hidden layer\n",
        "        out = self.celu_2(out)\n",
        "        \n",
        "        ### 3rd hidden layer\n",
        "        out  = self.linear_3(out)\n",
        "        ### Non-linearity in 3rd hidden layer\n",
        "        out = self.celu_3(out)\n",
        "        \n",
        "        ### 4th hidden layer\n",
        "        out  = self.linear_4(out)\n",
        "        ### Non-linearity in 4th hidden layer\n",
        "        out = self.celu_4(out)\n",
        "        \n",
        "        # Linear layer (output)\n",
        "        probas  = self.linear_out(out)\n",
        "        return probas"
      ],
      "execution_count": null,
      "outputs": []
    },
    {
      "cell_type": "code",
      "metadata": {
        "id": "S3mMX6_pa7EK",
        "outputId": "b283c006-8582-4cfd-e76c-fd221cff39e0"
      },
      "source": [
        "# INSTANTIATE MODEL CLASS\n",
        "\n",
        "model = DeepNeuralNetworkModel(input_size = input_dim,\n",
        "                               num_classes = output_dim,\n",
        "                               num_hidden = num_hidden\n",
        "                              )\n",
        "# To enable GPU\n",
        "model.to(device)\n"
      ],
      "execution_count": null,
      "outputs": [
        {
          "output_type": "execute_result",
          "data": {
            "text/plain": [
              "DeepNeuralNetworkModel(\n",
              "  (linear_1): Linear(in_features=784, out_features=150, bias=True)\n",
              "  (celu_1): CELU(alpha=1.0)\n",
              "  (linear_2): Linear(in_features=150, out_features=150, bias=True)\n",
              "  (celu_2): CELU(alpha=1.0)\n",
              "  (linear_3): Linear(in_features=150, out_features=150, bias=True)\n",
              "  (celu_3): CELU(alpha=1.0)\n",
              "  (linear_4): Linear(in_features=150, out_features=150, bias=True)\n",
              "  (celu_4): CELU(alpha=1.0)\n",
              "  (linear_out): Linear(in_features=150, out_features=10, bias=True)\n",
              ")"
            ]
          },
          "metadata": {
            "tags": []
          },
          "execution_count": 151
        }
      ]
    },
    {
      "cell_type": "code",
      "metadata": {
        "id": "Jpb0H0Lfa7EK",
        "outputId": "ff64a226-fa48-43ea-a848-505ec00996b9"
      },
      "source": [
        "# INSTANTIATE LOSS & OPTIMIZER CLASS\n",
        "\n",
        "criterion = nn.CrossEntropyLoss()\n",
        "optimizer = torch.optim.Adam(model.parameters(), lr=learning_rate)\n",
        "iteration_loss = []\n",
        "iter = 0\n",
        "for epoch in range(num_epochs):\n",
        "    for i, (images, labels) in enumerate(train_loader):\n",
        "\n",
        "        images = images.view(-1, 28*28).to(device)\n",
        "        labels = labels.to(device)\n",
        "\n",
        "        # Clear gradients w.r.t. parameters\n",
        "        optimizer.zero_grad()\n",
        "\n",
        "        # Forward pass to get output/logits\n",
        "        outputs = model(images) \n",
        "\n",
        "        # Calculate Loss: softmax --> cross entropy loss\n",
        "        loss = criterion(outputs, labels)\n",
        "\n",
        "        # Getting gradients w.r.t. parameters\n",
        "        loss.backward()\n",
        "\n",
        "        # Updating parameters\n",
        "        optimizer.step()\n",
        "\n",
        "        iter += 1\n",
        "\n",
        "        if iter % 500 == 0:\n",
        "            # Calculate Accuracy         \n",
        "            correct = 0\n",
        "            total = 0\n",
        "            # Iterate through test dataset\n",
        "            for images, labels in test_loader:\n",
        "               \n",
        "                images = images.view(-1, 28*28).to(device)\n",
        "\n",
        "                # Forward pass only to get logits/output\n",
        "                outputs = model(images)\n",
        "\n",
        "                # Get predictions from the maximum value\n",
        "                _, predicted = torch.max(outputs, 1)\n",
        "\n",
        "                # Total number of labels\n",
        "                total += labels.size(0)\n",
        "\n",
        "\n",
        "                # Total correct predictions\n",
        "                if torch.cuda.is_available():\n",
        "                    correct += (predicted.cpu() == labels.cpu()).sum() \n",
        "                else:\n",
        "                    correct += (predicted == labels).sum()\n",
        "\n",
        "            accuracy = 100 * correct.item() / total\n",
        "\n",
        "            # Print Loss\n",
        "            iteration_loss.append(loss.item())\n",
        "            print('Iteration: {}. Loss: {}. Accuracy: {}'.format(iter, loss.item(), accuracy))"
      ],
      "execution_count": null,
      "outputs": [
        {
          "output_type": "stream",
          "text": [
            "Iteration: 500. Loss: 1.4464988708496094. Accuracy: 49.81954469739034\n",
            "Iteration: 1000. Loss: 1.1318670511245728. Accuracy: 55.21932259855636\n",
            "Iteration: 1500. Loss: 1.0192548036575317. Accuracy: 61.57690172126596\n",
            "Iteration: 2000. Loss: 0.7647405862808228. Accuracy: 69.78067740144364\n",
            "Iteration: 2500. Loss: 0.8372357487678528. Accuracy: 72.80677401443643\n",
            "Iteration: 3000. Loss: 0.6074962615966797. Accuracy: 73.54247640199888\n",
            "Iteration: 3500. Loss: 0.569249153137207. Accuracy: 79.26152137701277\n",
            "Iteration: 4000. Loss: 0.5513724684715271. Accuracy: 78.84508606329817\n"
          ],
          "name": "stdout"
        }
      ]
    },
    {
      "cell_type": "code",
      "metadata": {
        "id": "_n4FQSQ6a7EL"
      },
      "source": [
        "#settings 17\n",
        "save_model = True\n",
        "\n",
        "if save_model is True:\n",
        "    # Saves only parameters\n",
        "    # wights & biases\n",
        "    torch.save(model.state_dict(), PATH + 'modelassignment2/model17.pkl') "
      ],
      "execution_count": null,
      "outputs": []
    },
    {
      "cell_type": "code",
      "metadata": {
        "id": "T0VGOL3ua7EL",
        "outputId": "08b4d6eb-8d6f-48fb-fd4a-cae113e82dfb"
      },
      "source": [
        "import matplotlib\n",
        "import matplotlib.pyplot as plt\n",
        "\n",
        "print (iteration_loss)\n",
        "plt.plot(iteration_loss)\n",
        "plt.ylabel('Cross Entropy Loss')\n",
        "plt.xlabel('Iteration (in every 500)')\n",
        "plt.show()"
      ],
      "execution_count": null,
      "outputs": [
        {
          "output_type": "stream",
          "text": [
            "[1.4464988708496094, 1.1318670511245728, 1.0192548036575317, 0.7647405862808228, 0.8372357487678528, 0.6074962615966797, 0.569249153137207, 0.5513724684715271]\n"
          ],
          "name": "stdout"
        },
        {
          "output_type": "display_data",
          "data": {
            "image/png": "[encoded data removed]",
            "text/plain": [
              "<Figure size 432x288 with 1 Axes>"
            ]
          },
          "metadata": {
            "tags": [],
            "needs_background": "light"
          }
        }
      ]
    },
    {
      "cell_type": "markdown",
      "metadata": {
        "id": "qwHL4gNAe6lU"
      },
      "source": [
        "Here I take num_iteration 5000 for all the settings and input dimention 28*28 = 784 with output dimention 10.Also I get better result using CELU activation function.\r\n",
        "\r\n",
        "**Settings Table:-**\r\n",
        "\r\n",
        "| Settings| Batch Size      | num_hidden nodes |  Number Of hidden Layer           |  Accuracy(%)|\r\n",
        "|:--------:| :----------: | : -----------:|:-----:      |:-----------:|\r\n",
        "| 1        | 200          | 100        |  4    |  74.04    |\r\n",
        "| 2        | 200          | 150        |  2    |  75.12  |\r\n",
        "| 3        | 200          | 150        |  3   |  77.76     |\r\n",
        "| 4        | 300          | 150        |  4   |  78.84     |\r\n",
        "\r\n",
        "\r\n",
        "From the table it can be seen that I got the highst accuracy for the NamtaDB dataset is 78.84 for the setting 4.So if I increase the batch size and number of hidden nodes and also the layer then for this dataset I get better result."
      ]
    },
    {
      "cell_type": "markdown",
      "metadata": {
        "id": "NbgmtQWDm8-z"
      },
      "source": [
        "Here I show the loss curves from setting 1 to 4 respectively.\r\n",
        "\r\n",
        "\r\n",
        "![as2.jpg](data:image/jpeg;base64,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)"
      ]
    },
    {
      "cell_type": "code",
      "metadata": {
        "id": "MzVPwIxTnRC8"
      },
      "source": [
        ""
      ],
      "execution_count": null,
      "outputs": []
    }
  ]
}