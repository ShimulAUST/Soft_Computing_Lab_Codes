{
  "nbformat": 4,
  "nbformat_minor": 0,
  "metadata": {
    "kernelspec": {
      "display_name": "Python 3",
      "language": "python",
      "name": "python3"
    },
    "language_info": {
      "codemirror_mode": {
        "name": "ipython",
        "version": 3
      },
      "file_extension": ".py",
      "mimetype": "text/x-python",
      "name": "python",
      "nbconvert_exporter": "python",
      "pygments_lexer": "ipython3",
      "version": "3.8.5"
    },
    "colab": {
      "name": "160204014_Problem#2.ipynb",
      "provenance": [],
      "collapsed_sections": []
    }
  },
  "cells": [
    {
      "cell_type": "markdown",
      "metadata": {
        "id": "RiZzImE3t_1R"
      },
      "source": [
        "### **Problem #2**\r\n",
        "\r\n",
        "*   Apply only **logistic regression** for the **Ekush** dataset and build a binary classification model that can predict  **male/female** from Bengali handwritten digits with different hyperparameter settings.  "
      ]
    },
    {
      "cell_type": "markdown",
      "metadata": {
        "id": "avopTBuDv75_"
      },
      "source": [
        "###What is Ekush?\r\n",
        "\r\n",
        "Ekush: A Multipurpose and Multitype Comprehensive Database for Online Off-line Bangla Handwritten Characters. Ekush has several features:\r\n",
        "\r\n",
        "* Characters Recognition\r\n",
        "* Recognition in context\r\n",
        "* Gender Identification\r\n",
        "* Forensic Investigation \r\n",
        "* 673,482‬ character instances\r\n",
        "* 242 character class\r\n",
        "* 4 captions per image\r\n",
        "* 340,243‬ Female data\r\n",
        "* 333,239‬ Male data"
      ]
    },
    {
      "cell_type": "code",
      "metadata": {
        "colab": {
          "base_uri": "https://localhost:8080/"
        },
        "id": "zWs395xtvbZz",
        "outputId": "b6820ebb-23e0-4ba9-a61c-a7a66afdc8fb"
      },
      "source": [
        "from google.colab import drive\r\n",
        "\r\n",
        "drive.mount('/content/gdrive')"
      ],
      "execution_count": null,
      "outputs": [
        {
          "output_type": "stream",
          "text": [
            "Mounted at /content/gdrive\n"
          ],
          "name": "stdout"
        }
      ]
    },
    {
      "cell_type": "code",
      "metadata": {
        "id": "3ybC8SyvsPU1"
      },
      "source": [
        "import os\n",
        "from os import path\n",
        "import shutil\n",
        "import numpy as np\n",
        "import pandas as pd\n",
        "import torch\n",
        "import torch.nn as nn\n",
        "import torch.nn.functional as F\n",
        "import torch.optim as optim\n",
        "from torch.utils.data import Dataset\n",
        "from torch.utils.data.sampler import SubsetRandomSampler\n",
        "from torchvision import datasets, transforms, models\n",
        "import matplotlib\n",
        "import matplotlib.pyplot as plt\n",
        "from PIL import Image"
      ],
      "execution_count": null,
      "outputs": []
    },
    {
      "cell_type": "markdown",
      "metadata": {
        "id": "hbA8DZ0zujUh"
      },
      "source": [
        "####As the female written digit are between 110 to 119 so I apply rename for these folders (110-119) because in the every folder the image names are same.This is applied for both male and female. Also I copy the images from folder (110-119) in allfemale folder and allmale folder both for female and male."
      ]
    },
    {
      "cell_type": "code",
      "metadata": {
        "id": "bea2hCYEsPVI"
      },
      "source": [
        "\n",
        "path_folder='/content/gdrive/My Drive/Ekush/female'\n",
        "\n",
        "src = path_folder+\"/110\" #111,112,113,114,115,116,117,118,119\n",
        "dir_folders = os.listdir(src)\n",
        "for dir_name in dir_folders:\n",
        "    a='zero'+dir_name #zero,one,two,three,four,five,six,seven,eight,nine\n",
        "    os.rename(src+ \"/\" +dir_name, src+ \"/\" +a)\n"
      ],
      "execution_count": null,
      "outputs": []
    },
    {
      "cell_type": "code",
      "metadata": {
        "id": "I-T4beD6sPVL"
      },
      "source": [
        "#Female digit images folder 110-119 coppied to allfemale folder\n",
        "\n",
        "path_folder='/content/gdrive/My Drive/Ekush/female'\n",
        "\n",
        "for i in range(0,10,1):\n",
        "    src = path_folder+\"/11\"+str(i)\n",
        "    path = '/content/gdrive/My Drive/Ekush/allfemale'\n",
        "    dir_folders = os.listdir(src)\n",
        "    for dir_name in dir_folders:\n",
        "        file_name = os.path.join(src, dir_name)\n",
        "        if os.path.isfile(file_name):\n",
        "            shutil.copy(file_name, path)\n"
      ],
      "execution_count": null,
      "outputs": []
    },
    {
      "cell_type": "code",
      "metadata": {
        "id": "x20oFtfnsPVM"
      },
      "source": [
        "path_folder='/content/gdrive/My Drive/Ekush/male'\n",
        "\n",
        "src = path_folder+\"/110\" #111,112,113,114,115,116,117,118,119\n",
        "dir_folders = os.listdir(src)\n",
        "for dir_name in dir_folders:\n",
        "    a='zero'+dir_name #zero,one,two,three,four,five,six,seven,eight,nine\n",
        "    os.rename(src+ \"/\" +dir_name, src+ \"/\" +a)"
      ],
      "execution_count": null,
      "outputs": []
    },
    {
      "cell_type": "code",
      "metadata": {
        "id": "tT-3qlr8sPVM"
      },
      "source": [
        "#Male digit images folder 110-119 coppied to allmale folder\n",
        "\n",
        "path_folder='/content/gdrive/My Drive/Ekush/male'\n",
        "\n",
        "for i in range(0,10,1):\n",
        "    src = path_folder+\"/11\"+str(i)\n",
        "    path = '/content/gdrive/My Drive/Ekush/allmale'\n",
        "    dir_folders = os.listdir(src)\n",
        "    for dir_name in dir_folders:\n",
        "        file_name = os.path.join(src, dir_name)\n",
        "        if os.path.isfile(file_name):\n",
        "            shutil.copy(file_name, path)"
      ],
      "execution_count": null,
      "outputs": []
    },
    {
      "cell_type": "markdown",
      "metadata": {
        "id": "LM8zfwpUyLLE"
      },
      "source": [
        "####Here I made two csv file for allmale and allfemale.For male I use 0 for labeling and for allfemale I use 1."
      ]
    },
    {
      "cell_type": "code",
      "metadata": {
        "id": "W2L1OwPBsPVN"
      },
      "source": [
        "a=os.listdir('/content/gdrive/My Drive/Ekush/allmale')\n",
        "df = pd.DataFrame(data={\"digit\": 0, \"filename\": a})\n",
        "df.to_csv(\"/content/gdrive/My Drive/Ekush/allmale.csv\", sep=',',index=False)"
      ],
      "execution_count": null,
      "outputs": []
    },
    {
      "cell_type": "code",
      "metadata": {
        "id": "aLONbR1jsPVN"
      },
      "source": [
        "a=os.listdir('/content/gdrive/My Drive/Ekush/allfemale')\n",
        "df = pd.DataFrame(data={\"digit\": 1, \"filename\": a})\n",
        "df.to_csv(\"/content/gdrive/My Drive/Ekush/allfemale.csv\", sep=',',index=False)"
      ],
      "execution_count": null,
      "outputs": []
    },
    {
      "cell_type": "code",
      "metadata": {
        "id": "mJPD5c1fsPVO",
        "outputId": "42892896-55da-426a-9e22-551dac0f7018"
      },
      "source": [
        "PATH = '/content/gdrive/My Drive/Ekush/'\n",
        "os.listdir(PATH)"
      ],
      "execution_count": null,
      "outputs": [
        {
          "output_type": "execute_result",
          "data": {
            "text/plain": [
              "['allfemale',\n",
              " 'allfemale.csv',\n",
              " 'allmale',\n",
              " 'allmale.csv',\n",
              " 'ekushCSV',\n",
              " 'female',\n",
              " 'female.zip',\n",
              " 'male',\n",
              " 'male.zip',\n",
              " 'train']"
            ]
          },
          "metadata": {
            "tags": []
          },
          "execution_count": 4
        }
      ]
    },
    {
      "cell_type": "code",
      "metadata": {
        "id": "OGesZ7_OsPVQ"
      },
      "source": [
        "def showRawTrainingSamples(csv_filename):\n",
        "  df = pd.read_csv(PATH + csv_filename)\n",
        "  print(csv_filename)\n",
        "  print(df.columns)\n",
        "  return df"
      ],
      "execution_count": null,
      "outputs": []
    },
    {
      "cell_type": "code",
      "metadata": {
        "id": "Dv2aZb15sPVQ",
        "outputId": "7c97899d-0a66-4b01-a36a-1d2f26c743d5"
      },
      "source": [
        "a_csv = showRawTrainingSamples('allmale.csv')\n",
        "b_csv = showRawTrainingSamples('allfemale.csv')"
      ],
      "execution_count": null,
      "outputs": [
        {
          "output_type": "stream",
          "text": [
            "allmale.csv\n",
            "Index(['digit', 'filename'], dtype='object')\n",
            "allfemale.csv\n",
            "Index(['digit', 'filename'], dtype='object')\n"
          ],
          "name": "stdout"
        }
      ]
    },
    {
      "cell_type": "code",
      "metadata": {
        "id": "rgtEwlN9sPVR"
      },
      "source": [
        "def dropColumns(csv_file):\n",
        "  csv_file = csv_file[['filename', 'digit']]\n",
        "  print(csv_file)\n",
        "  print(csv_file.iloc[:2, :])   \n",
        "  print(\"=============================\")\n",
        "  return csv_file"
      ],
      "execution_count": null,
      "outputs": []
    },
    {
      "cell_type": "code",
      "metadata": {
        "id": "GqSposv2sPVR",
        "outputId": "30c8f609-148a-412c-9ae8-97eaa6027501"
      },
      "source": [
        "a_csv = dropColumns(a_csv)\n",
        "b_csv = dropColumns(b_csv)"
      ],
      "execution_count": null,
      "outputs": [
        {
          "output_type": "stream",
          "text": [
            "                          filename  digit\n",
            "0          eight0_18_kis_2_361.jpg      0\n",
            "1      eight0_B.BARIA_14_1_362.jpg      0\n",
            "2      eight0_B.BARIA_17_2_363.jpg      0\n",
            "3        eight0_B.BARIA_20_3_1.jpg      0\n",
            "4      eight0_B.BARIA_20_3_364.jpg      0\n",
            "...                            ...    ...\n",
            "15063     zero_0_THAK_20_3_345.jpg      0\n",
            "15064     zero_0_THAK_20_3_346.jpg      0\n",
            "15065     zero_0_THAK_21_3_347.jpg      0\n",
            "15066     zero_0_THAK_21_3_348.jpg      0\n",
            "15067     zero_0_THAK_22_3_349.jpg      0\n",
            "\n",
            "[15068 rows x 2 columns]\n",
            "                      filename  digit\n",
            "0      eight0_18_kis_2_361.jpg      0\n",
            "1  eight0_B.BARIA_14_1_362.jpg      0\n",
            "=============================\n",
            "                          filename  digit\n",
            "0          eight1_14_BOG_1_317.jpg      1\n",
            "1        eight1_22_Farid_3_318.jpg      1\n",
            "2      eight1_B.BARIA_11_1_319.jpg      1\n",
            "3      eight1_B.BARIA_11_1_320.jpg      1\n",
            "4      eight1_B.BARIA_11_1_321.jpg      1\n",
            "...                            ...    ...\n",
            "15615      zero_1_TAN_1_1_1577.jpg      1\n",
            "15616       zero_1_THAK_13_316.jpg      1\n",
            "15617    zero_1_Tha_21_3_00032.jpg      1\n",
            "15618    zero_1_Tha_22_3_00033.jpg      1\n",
            "15619    zero_1_Tha_22_3_00035.jpg      1\n",
            "\n",
            "[15620 rows x 2 columns]\n",
            "                    filename  digit\n",
            "0    eight1_14_BOG_1_317.jpg      1\n",
            "1  eight1_22_Farid_3_318.jpg      1\n",
            "=============================\n"
          ],
          "name": "stdout"
        }
      ]
    },
    {
      "cell_type": "code",
      "metadata": {
        "id": "8eTqS4CxsPVS",
        "outputId": "680f551f-7281-4805-db0f-8b5ba2f4040d"
      },
      "source": [
        "#here i merge the two csv file\n",
        "total_csv = [a_csv, b_csv]\n",
        "merged_csv = pd.concat(total_csv)\n",
        "print(len(merged_csv))"
      ],
      "execution_count": null,
      "outputs": [
        {
          "output_type": "stream",
          "text": [
            "30688\n"
          ],
          "name": "stdout"
        }
      ]
    },
    {
      "cell_type": "markdown",
      "metadata": {
        "id": "AAd5F_zezOgw"
      },
      "source": [
        "####Here I make a directory named train for copying all the images from male and female."
      ]
    },
    {
      "cell_type": "code",
      "metadata": {
        "id": "Cxf4TnUdsPVT"
      },
      "source": [
        "TRAIN_PATH = '/content/gdrive/My Drive/Ekush/train'\n",
        "os.mkdir(TRAIN_PATH)"
      ],
      "execution_count": null,
      "outputs": []
    },
    {
      "cell_type": "code",
      "metadata": {
        "id": "4go37322sPVT"
      },
      "source": [
        "def processImages(folder_name):\n",
        "  src = PATH + folder_name + '/'\n",
        "  dir_folders = os.listdir(src)\n",
        "  for dir_name in dir_folders:\n",
        "    file_name = os.path.join(src, dir_name)\n",
        "    if os.path.isfile(file_name):\n",
        "        shutil.copy(file_name, TRAIN_PATH)"
      ],
      "execution_count": null,
      "outputs": []
    },
    {
      "cell_type": "code",
      "metadata": {
        "id": "g28UZqnPsPVU",
        "outputId": "25270d43-c1f1-43d4-b0e2-a9c1a726ef4f"
      },
      "source": [
        "processImages('allmale')\n",
        "print('Male Done')\n",
        "processImages('allfemale')\n",
        "print('Female Done')"
      ],
      "execution_count": null,
      "outputs": [
        {
          "output_type": "stream",
          "text": [
            "Male Done\n",
            "Female Done\n"
          ],
          "name": "stdout"
        }
      ]
    },
    {
      "cell_type": "markdown",
      "metadata": {
        "id": "-oKe5hl8zfiB"
      },
      "source": [
        "####Here I resize the images in 28*28 that means 784 shape for train."
      ]
    },
    {
      "cell_type": "code",
      "metadata": {
        "id": "g-A7uGsYsPVU"
      },
      "source": [
        "path_folder='/content/gdrive/My Drive/Ekush/train'\n",
        "\n",
        "src = path_folder\n",
        "dir_folders = os.listdir(src)\n",
        "for img_name in dir_folders:\n",
        "    image = Image.open(path_folder+'/'+img_name)\n",
        "    new_image = image.resize((28, 28))\n",
        "    new_image.save(path_folder+'/'+img_name)"
      ],
      "execution_count": null,
      "outputs": []
    },
    {
      "cell_type": "code",
      "metadata": {
        "id": "ej7CKnJRsPVV"
      },
      "source": [
        "class Dataset(Dataset):\n",
        "    def __init__(self, df, root, transform=None):\n",
        "        self.data = df\n",
        "        self.root = root\n",
        "        self.transform = transform\n",
        "        \n",
        "    def __len__(self):\n",
        "        return len(self.data)\n",
        "    \n",
        "    def __getitem__(self, index):\n",
        "        item = self.data.iloc[index]\n",
        "        \n",
        "        path = self.root + \"/\" + item[0]\n",
        "        image = Image.open(path).convert('L')\n",
        "        label = item[1]\n",
        "        \n",
        "        if self.transform is not None:\n",
        "            image = self.transform(image)\n",
        "            \n",
        "        return image, label"
      ],
      "execution_count": null,
      "outputs": []
    },
    {
      "cell_type": "code",
      "metadata": {
        "id": "6Z9GOG3lsPVV",
        "outputId": "d52d75bd-f6cb-4f1f-a92d-6df23e74d321"
      },
      "source": [
        "mean = [0.5,]\n",
        "std = [0.5, ]\n",
        "\n",
        "train_transform = transforms.Compose([\n",
        "    transforms.Resize(28),\n",
        "    transforms.ToTensor(),\n",
        "    transforms.Normalize(mean, std)\n",
        "])\n",
        "\n",
        "test_transform = transforms.Compose([\n",
        "        transforms.Resize(28),\n",
        "        transforms.ToTensor(),\n",
        "        transforms.Normalize(mean, std)\n",
        "])\n",
        "\n",
        "train_data  = Dataset(merged_csv, TRAIN_PATH, train_transform)\n",
        "test_data = Dataset(merged_csv, TRAIN_PATH, test_transform)\n",
        "\n",
        "print(\"Trainig Samples: \",len(train_data))"
      ],
      "execution_count": null,
      "outputs": [
        {
          "output_type": "stream",
          "text": [
            "Trainig Samples:  30688\n"
          ],
          "name": "stdout"
        }
      ]
    },
    {
      "cell_type": "code",
      "metadata": {
        "id": "rT82wWlNsPVX"
      },
      "source": [
        "#hyperparameter settings 1\n",
        "#here i take batch size 100,number of iteration 1000,input dimension 28*28,output dimension 2 as this is a binary clasification,learning rate 0.001 and number of epochs 15.\n",
        "\n",
        "batch_size = 100\n",
        "num_iters = 1000\n",
        "input_dim = 28*28 # num_features = 784\n",
        "output_dim = 2\n",
        "num_epochs = int(15)\n",
        "learning_rate = 0.001\n",
        "\n",
        "# Device\n",
        "device = torch.device(\"cuda:0\" if torch.cuda.is_available() else \"cpu\")"
      ],
      "execution_count": null,
      "outputs": []
    },
    {
      "cell_type": "code",
      "metadata": {
        "id": "RN1RE6_QsPVX",
        "outputId": "5b098f62-c1ff-4b12-e18d-7a797df0398f"
      },
      "source": [
        "# split data 10% for testing\n",
        "test_size = 0.1\n",
        "\n",
        "# obtain training indices that will be used for validation\n",
        "num_train = len(train_data)\n",
        "\n",
        "# mix data\n",
        "# index of num of train\n",
        "indices = list(range(num_train))\n",
        "# random the index\n",
        "np.random.shuffle(indices)\n",
        "split = int(np.floor(test_size * num_train))\n",
        "print(split)\n",
        "# divied into two part\n",
        "train_idx, test_idx = indices[split:], indices[:split]\n",
        "\n",
        "# define the sampler\n",
        "train_sampler = SubsetRandomSampler(train_idx)\n",
        "test_sampler = SubsetRandomSampler(test_idx)\n",
        "\n",
        "# prepare loaders\n",
        "train_loader = torch.utils.data.DataLoader(\n",
        "    train_data, batch_size=batch_size,\n",
        "    sampler=train_sampler)\n",
        "\n",
        "test_loader = torch.utils.data.DataLoader(\n",
        "    test_data, batch_size=batch_size,\n",
        "    sampler=test_sampler)\n",
        "\n",
        "print(\"Train dataloader:{}\".format(len(train_loader)))\n",
        "print(\"Test dataloader:{}\".format(len(test_loader)))"
      ],
      "execution_count": null,
      "outputs": [
        {
          "output_type": "stream",
          "text": [
            "3068\n",
            "Train dataloader:277\n",
            "Test dataloader:31\n"
          ],
          "name": "stdout"
        }
      ]
    },
    {
      "cell_type": "code",
      "metadata": {
        "id": "UVbTQJKMsPVY"
      },
      "source": [
        "class LogisticRegressionModel(nn.Module):\n",
        "    def __init__(self, input_size, num_classes):\n",
        "        super().__init__()\n",
        "        self.linear = nn.Linear(input_size, num_classes)\n",
        "\n",
        "    def forward(self, x):\n",
        "        logits  = self.linear(x)\n",
        "        probas = torch.sigmoid(logits)\n",
        "        return logits, probas\n",
        "        #return logits"
      ],
      "execution_count": null,
      "outputs": []
    },
    {
      "cell_type": "code",
      "metadata": {
        "id": "EtUAWBwnsPVY",
        "outputId": "9a3f7212-93f1-4ec8-968d-2429252bf56e"
      },
      "source": [
        "'''\n",
        "INSTANTIATE MODEL CLASS\n",
        "'''\n",
        "model = LogisticRegressionModel(input_size=input_dim,\n",
        "                                num_classes=output_dim)\n",
        "\n",
        "# To enable GPU\n",
        "model.to(device)"
      ],
      "execution_count": null,
      "outputs": [
        {
          "output_type": "execute_result",
          "data": {
            "text/plain": [
              "LogisticRegressionModel(\n",
              "  (linear): Linear(in_features=784, out_features=2, bias=True)\n",
              ")"
            ]
          },
          "metadata": {
            "tags": []
          },
          "execution_count": 27
        }
      ]
    },
    {
      "cell_type": "code",
      "metadata": {
        "id": "TiyOgRG-sPVa"
      },
      "source": [
        "# INSTANTIATE OPTIMIZER CLASS\n",
        "\n",
        "optimizer = torch.optim.Adam(model.parameters(), lr=learning_rate)\n"
      ],
      "execution_count": null,
      "outputs": []
    },
    {
      "cell_type": "code",
      "metadata": {
        "id": "I6SWEfRJsPVa",
        "outputId": "ad7aea2d-e6bf-4293-c7ac-f034ab7b1f41"
      },
      "source": [
        "'''\n",
        "TRAIN THE MODEL\n",
        "'''\n",
        "iteration_loss = []\n",
        "iter = 0\n",
        "for epoch in range(num_epochs):\n",
        "    for i, (images, labels) in enumerate(train_loader):\n",
        "\n",
        "        images = images.view(-1, 28*28).to(device)\n",
        "        labels = labels.to(device)\n",
        "\n",
        "        # Clear gradients w.r.t. parameters\n",
        "        optimizer.zero_grad()\n",
        "\n",
        "        # Forward pass to get output/logits\n",
        "        logits, probas = model(images) \n",
        "\n",
        "        # Calculate Loss: PyTorch implementation of CrossEntropyLoss works with logits, not probabilities\n",
        "        loss = F.cross_entropy(logits, labels)\n",
        "\n",
        "        # Getting gradients w.r.t. parameters\n",
        "        loss.backward()\n",
        "\n",
        "        # Updating parameters\n",
        "        optimizer.step()\n",
        "\n",
        "        iter += 1\n",
        "\n",
        "        if iter % 500 == 0:\n",
        "            # Calculate Accuracy         \n",
        "            correct = 0\n",
        "            total = 0\n",
        "            # Iterate through test dataset\n",
        "            for images, labels in test_loader:\n",
        "               \n",
        "                images = images.view(-1, 28*28).to(device)\n",
        "\n",
        "                # Forward pass only to get logits/output\n",
        "                logits, probas = model(images)\n",
        "\n",
        "                # Get predictions from the maximum value\n",
        "                _, predicted = torch.max(probas, 1)\n",
        "\n",
        "                # Total number of labels\n",
        "                total += labels.size(0)\n",
        "\n",
        "\n",
        "                # Total correct predictions\n",
        "                if torch.cuda.is_available():\n",
        "                    correct += (predicted.cpu() == labels.cpu()).sum() \n",
        "                else:\n",
        "                    correct += (predicted == labels).sum()\n",
        "\n",
        "            accuracy = 100 * correct.item() / total\n",
        "\n",
        "            # Print Loss\n",
        "            iteration_loss.append(loss.item())\n",
        "            print('Iteration: {}. Loss: {}. Accuracy: {}'.format(iter, loss.item(), accuracy))"
      ],
      "execution_count": null,
      "outputs": [
        {
          "output_type": "stream",
          "text": [
            "Iteration: 500. Loss: 0.6998015642166138. Accuracy: 55.60625814863103\n",
            "Iteration: 1000. Loss: 0.6687878966331482. Accuracy: 56.02998696219035\n",
            "Iteration: 1500. Loss: 0.6800397634506226. Accuracy: 57.69230769230769\n",
            "Iteration: 2000. Loss: 0.6421768069267273. Accuracy: 56.61668839634941\n",
            "Iteration: 2500. Loss: 0.6570056080818176. Accuracy: 54.95436766623207\n",
            "Iteration: 3000. Loss: 0.7052382826805115. Accuracy: 56.84485006518905\n",
            "Iteration: 3500. Loss: 0.6928590536117554. Accuracy: 56.551499348109516\n",
            "Iteration: 4000. Loss: 0.6520233750343323. Accuracy: 55.63885267275098\n"
          ],
          "name": "stdout"
        }
      ]
    },
    {
      "cell_type": "code",
      "metadata": {
        "id": "s-LxAx6qsPVb"
      },
      "source": [
        "#settings 1\n",
        "save_model = True\n",
        "\n",
        "if save_model is True:\n",
        "    # Saves only parameters\n",
        "    # wights & biases\n",
        "    torch.save(model.state_dict(), PATH + 'model1.pkl') "
      ],
      "execution_count": null,
      "outputs": []
    },
    {
      "cell_type": "code",
      "metadata": {
        "id": "EwrW7qIAsPVb",
        "outputId": "fc7aa0b7-040c-4982-e759-ef1673b123bd"
      },
      "source": [
        "import matplotlib\n",
        "import matplotlib.pyplot as plt\n",
        "\n",
        "print (iteration_loss)\n",
        "plt.plot(iteration_loss)\n",
        "plt.ylabel('Cross Entropy Loss')\n",
        "plt.xlabel('Iteration (in every 500)')\n",
        "plt.show()"
      ],
      "execution_count": null,
      "outputs": [
        {
          "output_type": "stream",
          "text": [
            "[0.6998015642166138, 0.6687878966331482, 0.6800397634506226, 0.6421768069267273, 0.6570056080818176, 0.7052382826805115, 0.6928590536117554, 0.6520233750343323]\n"
          ],
          "name": "stdout"
        },
        {
          "output_type": "display_data",
          "data": {
            "image/png": "[encoded data removed]",
            "text/plain": [
              "<Figure size 432x288 with 1 Axes>"
            ]
          },
          "metadata": {
            "tags": [],
            "needs_background": "light"
          }
        }
      ]
    },
    {
      "cell_type": "code",
      "metadata": {
        "id": "QELyrhSssPVc",
        "outputId": "005ef6a5-74d4-49de-80f5-c1ea05039a18"
      },
      "source": [
        "#settings 1\n",
        "load_model = True\n",
        "\n",
        "if load_model is True:\n",
        "    model.load_state_dict(torch.load(PATH + 'model1.pkl'))\n",
        "    print('Trained Model Loaded')"
      ],
      "execution_count": null,
      "outputs": [
        {
          "output_type": "stream",
          "text": [
            "Trained Model Loaded\n"
          ],
          "name": "stdout"
        }
      ]
    },
    {
      "cell_type": "code",
      "metadata": {
        "id": "W20sp9fYsPVc",
        "outputId": "4d66c328-182d-4fea-90f0-58a65f7cca77"
      },
      "source": [
        "for images, labels in test_loader:\n",
        "   break\n",
        "    \n",
        "fig, ax = plt.subplots(1,5)\n",
        "for i in range(5):\n",
        "    ax[i].imshow(images[i].view(28, 28), cmap=matplotlib.cm.binary)\n",
        "    print(labels[i])\n",
        "\n",
        "plt.show()"
      ],
      "execution_count": null,
      "outputs": [
        {
          "output_type": "stream",
          "text": [
            "tensor(1)\n",
            "tensor(0)\n",
            "tensor(1)\n",
            "tensor(0)\n",
            "tensor(1)\n"
          ],
          "name": "stdout"
        },
        {
          "output_type": "display_data",
          "data": {
            "image/png": "[encoded data removed]",
            "text/plain": [
              "<Figure size 432x288 with 5 Axes>"
            ]
          },
          "metadata": {
            "tags": [],
            "needs_background": "light"
          }
        }
      ]
    },
    {
      "cell_type": "code",
      "metadata": {
        "id": "JRoOZsunsPVc",
        "outputId": "bcfb8c48-9c43-4147-d670-e2607f22ca77"
      },
      "source": [
        "_, predictions = model.forward(images[:5].view(-1, 28*28).to(device))\n",
        "predictions = torch.argmax(predictions, dim=1)\n",
        "print('Predicted labels', predictions.cpu().numpy())"
      ],
      "execution_count": null,
      "outputs": [
        {
          "output_type": "stream",
          "text": [
            "Predicted labels [0 0 1 1 1]\n"
          ],
          "name": "stdout"
        }
      ]
    },
    {
      "cell_type": "code",
      "metadata": {
        "id": "IHXi4Hw9sPVc"
      },
      "source": [
        ""
      ],
      "execution_count": null,
      "outputs": []
    },
    {
      "cell_type": "code",
      "metadata": {
        "id": "QkV6R0NwsPVd"
      },
      "source": [
        ""
      ],
      "execution_count": null,
      "outputs": []
    },
    {
      "cell_type": "code",
      "metadata": {
        "id": "GTD668E5sPVd"
      },
      "source": [
        "#hyperparameter settings 2\n",
        "#here i take batch size 200,number of iteration 1000,input dimension 28*28,output dimension 2 as this is a binary clasification,learning rate 0.001 and number of epochs 15.\n",
        "batch_size = 200\n",
        "num_iters = 1000\n",
        "input_dim = 28*28 # num_features = 784\n",
        "output_dim = 2\n",
        "num_epochs = int(15)\n",
        "learning_rate = 0.001\n",
        "\n",
        "# Device\n",
        "device = torch.device(\"cuda:0\" if torch.cuda.is_available() else \"cpu\")"
      ],
      "execution_count": null,
      "outputs": []
    },
    {
      "cell_type": "code",
      "metadata": {
        "id": "szrV1L-XsPVd",
        "outputId": "e275a7c9-ad49-4720-df7c-e486772414a7"
      },
      "source": [
        "# split data 10% for testing\n",
        "test_size = 0.1\n",
        "\n",
        "# obtain training indices that will be used for validation\n",
        "num_train = len(train_data)\n",
        "\n",
        "# mix data\n",
        "# index of num of train\n",
        "indices = list(range(num_train))\n",
        "# random the index\n",
        "np.random.shuffle(indices)\n",
        "split = int(np.floor(test_size * num_train))\n",
        "print(split)\n",
        "# divied into two part\n",
        "train_idx, test_idx = indices[split:], indices[:split]\n",
        "\n",
        "# define the sampler\n",
        "train_sampler = SubsetRandomSampler(train_idx)\n",
        "test_sampler = SubsetRandomSampler(test_idx)\n",
        "\n",
        "# prepare loaders\n",
        "train_loader = torch.utils.data.DataLoader(\n",
        "    train_data, batch_size=batch_size,\n",
        "    sampler=train_sampler)\n",
        "\n",
        "test_loader = torch.utils.data.DataLoader(\n",
        "    test_data, batch_size=batch_size,\n",
        "    sampler=test_sampler)\n",
        "\n",
        "print(\"Train dataloader:{}\".format(len(train_loader)))\n",
        "print(\"Test dataloader:{}\".format(len(test_loader)))"
      ],
      "execution_count": null,
      "outputs": [
        {
          "output_type": "stream",
          "text": [
            "3068\n",
            "Train dataloader:139\n",
            "Test dataloader:16\n"
          ],
          "name": "stdout"
        }
      ]
    },
    {
      "cell_type": "code",
      "metadata": {
        "id": "D_EDLNm7sPVe",
        "outputId": "4a6dd9a4-44f5-4ca6-f042-10b6ba29d4d1"
      },
      "source": [
        "'''\n",
        "INSTANTIATE MODEL CLASS\n",
        "'''\n",
        "model = LogisticRegressionModel(input_size=input_dim,\n",
        "                                num_classes=output_dim)\n",
        "\n",
        "# To enable GPU\n",
        "model.to(device)"
      ],
      "execution_count": null,
      "outputs": [
        {
          "output_type": "execute_result",
          "data": {
            "text/plain": [
              "LogisticRegressionModel(\n",
              "  (linear): Linear(in_features=784, out_features=2, bias=True)\n",
              ")"
            ]
          },
          "metadata": {
            "tags": []
          },
          "execution_count": 38
        }
      ]
    },
    {
      "cell_type": "code",
      "metadata": {
        "id": "3xCboie6sPVe"
      },
      "source": [
        "# INSTANTIATE OPTIMIZER CLASS\n",
        "\n",
        "optimizer = torch.optim.Adam(model.parameters(), lr=learning_rate)\n"
      ],
      "execution_count": null,
      "outputs": []
    },
    {
      "cell_type": "code",
      "metadata": {
        "id": "WqScGx4tsPVe",
        "outputId": "e5d5bdba-4091-46a1-fd16-ed9559c07edd"
      },
      "source": [
        "'''\n",
        "TRAIN THE MODEL\n",
        "'''\n",
        "iteration_loss = []\n",
        "iter = 0\n",
        "for epoch in range(num_epochs):\n",
        "    for i, (images, labels) in enumerate(train_loader):\n",
        "\n",
        "        images = images.view(-1, 28*28).to(device)\n",
        "        labels = labels.to(device)\n",
        "\n",
        "        # Clear gradients w.r.t. parameters\n",
        "        optimizer.zero_grad()\n",
        "\n",
        "        # Forward pass to get output/logits\n",
        "        logits, probas = model(images) \n",
        "\n",
        "        # Calculate Loss: PyTorch implementation of CrossEntropyLoss works with logits, not probabilities\n",
        "        loss = F.cross_entropy(logits, labels)\n",
        "\n",
        "        # Getting gradients w.r.t. parameters\n",
        "        loss.backward()\n",
        "\n",
        "        # Updating parameters\n",
        "        optimizer.step()\n",
        "\n",
        "        iter += 1\n",
        "\n",
        "        if iter % 500 == 0:\n",
        "            # Calculate Accuracy         \n",
        "            correct = 0\n",
        "            total = 0\n",
        "            # Iterate through test dataset\n",
        "            for images, labels in test_loader:\n",
        "               \n",
        "                images = images.view(-1, 28*28).to(device)\n",
        "\n",
        "                # Forward pass only to get logits/output\n",
        "                logits, probas = model(images)\n",
        "\n",
        "                # Get predictions from the maximum value\n",
        "                _, predicted = torch.max(probas, 1)\n",
        "\n",
        "                # Total number of labels\n",
        "                total += labels.size(0)\n",
        "\n",
        "\n",
        "                # Total correct predictions\n",
        "                if torch.cuda.is_available():\n",
        "                    correct += (predicted.cpu() == labels.cpu()).sum() \n",
        "                else:\n",
        "                    correct += (predicted == labels).sum()\n",
        "\n",
        "            accuracy = 100 * correct.item() / total\n",
        "\n",
        "            # Print Loss\n",
        "            iteration_loss.append(loss.item())\n",
        "            print('Iteration: {}. Loss: {}. Accuracy: {}'.format(iter, loss.item(), accuracy))"
      ],
      "execution_count": null,
      "outputs": [
        {
          "output_type": "stream",
          "text": [
            "Iteration: 500. Loss: 0.6691216230392456. Accuracy: 59.61538461538461\n",
            "Iteration: 1000. Loss: 0.6924338340759277. Accuracy: 56.29074315514993\n",
            "Iteration: 1500. Loss: 0.6561926007270813. Accuracy: 58.2464146023468\n",
            "Iteration: 2000. Loss: 0.639789342880249. Accuracy: 59.55019556714472\n"
          ],
          "name": "stdout"
        }
      ]
    },
    {
      "cell_type": "code",
      "metadata": {
        "id": "SzXshiaVsPVe"
      },
      "source": [
        "#settings 2\n",
        "save_model = True\n",
        "\n",
        "if save_model is True:\n",
        "    # Saves only parameters\n",
        "    # wights & biases\n",
        "    torch.save(model.state_dict(), PATH + 'model2.pkl') "
      ],
      "execution_count": null,
      "outputs": []
    },
    {
      "cell_type": "code",
      "metadata": {
        "id": "f2A0TwZvsPVf",
        "outputId": "7709ebf3-08d3-481c-9265-c8396c4c87a8"
      },
      "source": [
        "import matplotlib\n",
        "import matplotlib.pyplot as plt\n",
        "\n",
        "print (iteration_loss)\n",
        "plt.plot(iteration_loss)\n",
        "plt.ylabel('Cross Entropy Loss')\n",
        "plt.xlabel('Iteration (in every 500)')\n",
        "plt.show()"
      ],
      "execution_count": null,
      "outputs": [
        {
          "output_type": "stream",
          "text": [
            "[0.6691216230392456, 0.6924338340759277, 0.6561926007270813, 0.639789342880249]\n"
          ],
          "name": "stdout"
        },
        {
          "output_type": "display_data",
          "data": {
            "image/png": "[encoded data removed]",
            "text/plain": [
              "<Figure size 432x288 with 1 Axes>"
            ]
          },
          "metadata": {
            "tags": [],
            "needs_background": "light"
          }
        }
      ]
    },
    {
      "cell_type": "code",
      "metadata": {
        "id": "AjDDOZzTsPVf",
        "outputId": "df0dc8ac-00df-4973-928a-3805194fac69"
      },
      "source": [
        "#settings 2\n",
        "load_model = True\n",
        "\n",
        "if load_model is True:\n",
        "    model.load_state_dict(torch.load(PATH + 'model2.pkl'))\n",
        "    print('Trained Model Loaded')"
      ],
      "execution_count": null,
      "outputs": [
        {
          "output_type": "stream",
          "text": [
            "Trained Model Loaded\n"
          ],
          "name": "stdout"
        }
      ]
    },
    {
      "cell_type": "code",
      "metadata": {
        "id": "UXM7IdahsPVf",
        "outputId": "3176f5f3-76d5-4f0f-cbe8-b12432d89b16"
      },
      "source": [
        "for images, labels in test_loader:\n",
        "   break\n",
        "    \n",
        "fig, ax = plt.subplots(1,5)\n",
        "for i in range(5):\n",
        "    ax[i].imshow(images[i].view(28, 28), cmap=matplotlib.cm.binary)\n",
        "    print(labels[i])\n",
        "\n",
        "plt.show()"
      ],
      "execution_count": null,
      "outputs": [
        {
          "output_type": "stream",
          "text": [
            "tensor(0)\n",
            "tensor(0)\n",
            "tensor(0)\n",
            "tensor(0)\n",
            "tensor(0)\n"
          ],
          "name": "stdout"
        },
        {
          "output_type": "display_data",
          "data": {
            "image/png": "[encoded data removed]",
            "text/plain": [
              "<Figure size 432x288 with 5 Axes>"
            ]
          },
          "metadata": {
            "tags": [],
            "needs_background": "light"
          }
        }
      ]
    },
    {
      "cell_type": "code",
      "metadata": {
        "id": "qdHgHsmNsPVf",
        "outputId": "7c6603b8-b3fe-4087-8f66-e6ff31b52736"
      },
      "source": [
        "_, predictions = model.forward(images[:5].view(-1, 28*28).to(device))\n",
        "predictions = torch.argmax(predictions, dim=1)\n",
        "print('Predicted labels', predictions.cpu().numpy())"
      ],
      "execution_count": null,
      "outputs": [
        {
          "output_type": "stream",
          "text": [
            "Predicted labels [0 0 0 0 1]\n"
          ],
          "name": "stdout"
        }
      ]
    },
    {
      "cell_type": "code",
      "metadata": {
        "id": "9mZwEsHrsPVg"
      },
      "source": [
        ""
      ],
      "execution_count": null,
      "outputs": []
    },
    {
      "cell_type": "code",
      "metadata": {
        "id": "jwbeZHYgsPVg"
      },
      "source": [
        ""
      ],
      "execution_count": null,
      "outputs": []
    },
    {
      "cell_type": "code",
      "metadata": {
        "id": "Bq-mQKP7sPVg"
      },
      "source": [
        "#hyperparameter settings 3\n",
        "#here i take batch size 256,number of iteration 1000,input dimension 28*28,output dimension 2 as this is a binary clasification,learning rate 0.001 and number of epochs 15.\n",
        "batch_size = 256\n",
        "num_iters = 1000\n",
        "input_dim = 28*28 # num_features = 784\n",
        "output_dim = 2\n",
        "num_epochs = int(15)\n",
        "learning_rate = 0.001\n",
        "\n",
        "# Device\n",
        "device = torch.device(\"cuda:0\" if torch.cuda.is_available() else \"cpu\")"
      ],
      "execution_count": null,
      "outputs": []
    },
    {
      "cell_type": "code",
      "metadata": {
        "id": "a9m1XS6GsPVg",
        "outputId": "5f8fc414-d613-4c26-a131-be6e49117c80"
      },
      "source": [
        "# split data 10% for testing\n",
        "test_size = 0.1\n",
        "\n",
        "# obtain training indices that will be used for validation\n",
        "num_train = len(train_data)\n",
        "\n",
        "# mix data\n",
        "# index of num of train\n",
        "indices = list(range(num_train))\n",
        "# random the index\n",
        "np.random.shuffle(indices)\n",
        "split = int(np.floor(test_size * num_train))\n",
        "print(split)\n",
        "# divied into two part\n",
        "train_idx, test_idx = indices[split:], indices[:split]\n",
        "\n",
        "# define the sampler\n",
        "train_sampler = SubsetRandomSampler(train_idx)\n",
        "test_sampler = SubsetRandomSampler(test_idx)\n",
        "\n",
        "# prepare loaders\n",
        "train_loader = torch.utils.data.DataLoader(\n",
        "    train_data, batch_size=batch_size,\n",
        "    sampler=train_sampler)\n",
        "\n",
        "test_loader = torch.utils.data.DataLoader(\n",
        "    test_data, batch_size=batch_size,\n",
        "    sampler=test_sampler)\n",
        "\n",
        "print(\"Train dataloader:{}\".format(len(train_loader)))\n",
        "print(\"Test dataloader:{}\".format(len(test_loader)))"
      ],
      "execution_count": null,
      "outputs": [
        {
          "output_type": "stream",
          "text": [
            "3068\n",
            "Train dataloader:108\n",
            "Test dataloader:12\n"
          ],
          "name": "stdout"
        }
      ]
    },
    {
      "cell_type": "code",
      "metadata": {
        "id": "X98mFYx_sPVg",
        "outputId": "c95df09c-28d7-4c2e-8920-22392287ecab"
      },
      "source": [
        "'''\n",
        "INSTANTIATE MODEL CLASS\n",
        "'''\n",
        "model = LogisticRegressionModel(input_size=input_dim,\n",
        "                                num_classes=output_dim)\n",
        "\n",
        "# To enable GPU\n",
        "model.to(device)"
      ],
      "execution_count": null,
      "outputs": [
        {
          "output_type": "execute_result",
          "data": {
            "text/plain": [
              "LogisticRegressionModel(\n",
              "  (linear): Linear(in_features=784, out_features=2, bias=True)\n",
              ")"
            ]
          },
          "metadata": {
            "tags": []
          },
          "execution_count": 49
        }
      ]
    },
    {
      "cell_type": "code",
      "metadata": {
        "id": "pyWRtEpusPVh"
      },
      "source": [
        "# INSTANTIATE OPTIMIZER CLASS\n",
        "\n",
        "optimizer = torch.optim.Adam(model.parameters(), lr=learning_rate)\n"
      ],
      "execution_count": null,
      "outputs": []
    },
    {
      "cell_type": "code",
      "metadata": {
        "id": "5MlJkkkTsPVh",
        "outputId": "377dc10e-a9af-4233-a005-e853f174be70"
      },
      "source": [
        "'''\n",
        "TRAIN THE MODEL\n",
        "'''\n",
        "iteration_loss = []\n",
        "iter = 0\n",
        "for epoch in range(num_epochs):\n",
        "    for i, (images, labels) in enumerate(train_loader):\n",
        "\n",
        "        images = images.view(-1, 28*28).to(device)\n",
        "        labels = labels.to(device)\n",
        "\n",
        "        # Clear gradients w.r.t. parameters\n",
        "        optimizer.zero_grad()\n",
        "\n",
        "        # Forward pass to get output/logits\n",
        "        logits, probas = model(images) \n",
        "\n",
        "        # Calculate Loss: PyTorch implementation of CrossEntropyLoss works with logits, not probabilities\n",
        "        loss = F.cross_entropy(logits, labels)\n",
        "\n",
        "        # Getting gradients w.r.t. parameters\n",
        "        loss.backward()\n",
        "\n",
        "        # Updating parameters\n",
        "        optimizer.step()\n",
        "\n",
        "        iter += 1\n",
        "\n",
        "        if iter % 500 == 0:\n",
        "            # Calculate Accuracy         \n",
        "            correct = 0\n",
        "            total = 0\n",
        "            # Iterate through test dataset\n",
        "            for images, labels in test_loader:\n",
        "               \n",
        "                images = images.view(-1, 28*28).to(device)\n",
        "\n",
        "                # Forward pass only to get logits/output\n",
        "                logits, probas = model(images)\n",
        "\n",
        "                # Get predictions from the maximum value\n",
        "                _, predicted = torch.max(probas, 1)\n",
        "\n",
        "                # Total number of labels\n",
        "                total += labels.size(0)\n",
        "\n",
        "\n",
        "                # Total correct predictions\n",
        "                if torch.cuda.is_available():\n",
        "                    correct += (predicted.cpu() == labels.cpu()).sum() \n",
        "                else:\n",
        "                    correct += (predicted == labels).sum()\n",
        "\n",
        "            accuracy = 100 * correct.item() / total\n",
        "\n",
        "            # Print Loss\n",
        "            iteration_loss.append(loss.item())\n",
        "            print('Iteration: {}. Loss: {}. Accuracy: {}'.format(iter, loss.item(), accuracy))"
      ],
      "execution_count": null,
      "outputs": [
        {
          "output_type": "stream",
          "text": [
            "Iteration: 500. Loss: 0.6682255268096924. Accuracy: 57.920469361147326\n",
            "Iteration: 1000. Loss: 0.6754443645477295. Accuracy: 58.279009126466754\n",
            "Iteration: 1500. Loss: 0.6659351587295532. Accuracy: 57.88787483702738\n"
          ],
          "name": "stdout"
        }
      ]
    },
    {
      "cell_type": "code",
      "metadata": {
        "id": "zavsLGiisPVh"
      },
      "source": [
        "#settings 3\n",
        "save_model = True\n",
        "\n",
        "if save_model is True:\n",
        "    # Saves only parameters\n",
        "    # wights & biases\n",
        "    torch.save(model.state_dict(), PATH + 'model3.pkl') "
      ],
      "execution_count": null,
      "outputs": []
    },
    {
      "cell_type": "code",
      "metadata": {
        "id": "_9sYlFM8sPVh",
        "outputId": "df154e76-5c16-4858-89d4-890a558f6c60"
      },
      "source": [
        "import matplotlib\n",
        "import matplotlib.pyplot as plt\n",
        "\n",
        "print (iteration_loss)\n",
        "plt.plot(iteration_loss)\n",
        "plt.ylabel('Cross Entropy Loss')\n",
        "plt.xlabel('Iteration (in every 500)')\n",
        "plt.show()"
      ],
      "execution_count": null,
      "outputs": [
        {
          "output_type": "stream",
          "text": [
            "[0.6682255268096924, 0.6754443645477295, 0.6659351587295532]\n"
          ],
          "name": "stdout"
        },
        {
          "output_type": "display_data",
          "data": {
            "image/png": "[encoded data removed]",
            "text/plain": [
              "<Figure size 432x288 with 1 Axes>"
            ]
          },
          "metadata": {
            "tags": [],
            "needs_background": "light"
          }
        }
      ]
    },
    {
      "cell_type": "code",
      "metadata": {
        "id": "aG1IMBz3sPVh",
        "outputId": "6e77a9b9-90a2-466f-b101-a32d75cda9b4"
      },
      "source": [
        "#settings 3\n",
        "load_model = True\n",
        "\n",
        "if load_model is True:\n",
        "    model.load_state_dict(torch.load(PATH + 'model3.pkl'))\n",
        "    print('Trained Model Loaded')"
      ],
      "execution_count": null,
      "outputs": [
        {
          "output_type": "stream",
          "text": [
            "Trained Model Loaded\n"
          ],
          "name": "stdout"
        }
      ]
    },
    {
      "cell_type": "code",
      "metadata": {
        "id": "dn_Wy5cLsPVi",
        "outputId": "5a5154ea-7a1b-4549-d9d6-41830a6f5e40"
      },
      "source": [
        "for images, labels in test_loader:\n",
        "   break\n",
        "    \n",
        "fig, ax = plt.subplots(1,5)\n",
        "for i in range(5):\n",
        "    ax[i].imshow(images[i].view(28, 28), cmap=matplotlib.cm.binary)\n",
        "    print(labels[i])\n",
        "\n",
        "plt.show()"
      ],
      "execution_count": null,
      "outputs": [
        {
          "output_type": "stream",
          "text": [
            "tensor(1)\n",
            "tensor(0)\n",
            "tensor(0)\n",
            "tensor(1)\n",
            "tensor(1)\n"
          ],
          "name": "stdout"
        },
        {
          "output_type": "display_data",
          "data": {
            "image/png": "[encoded data removed]",
            "text/plain": [
              "<Figure size 432x288 with 5 Axes>"
            ]
          },
          "metadata": {
            "tags": [],
            "needs_background": "light"
          }
        }
      ]
    },
    {
      "cell_type": "code",
      "metadata": {
        "id": "3z_1knR2sPVi",
        "outputId": "aa931f4b-6e53-475d-ea82-15ae18113b40"
      },
      "source": [
        "_, predictions = model.forward(images[:5].view(-1, 28*28).to(device))\n",
        "predictions = torch.argmax(predictions, dim=1)\n",
        "print('Predicted labels', predictions.cpu().numpy())"
      ],
      "execution_count": null,
      "outputs": [
        {
          "output_type": "stream",
          "text": [
            "Predicted labels [1 0 1 1 0]\n"
          ],
          "name": "stdout"
        }
      ]
    },
    {
      "cell_type": "code",
      "metadata": {
        "id": "mzxleHzAsPVi"
      },
      "source": [
        ""
      ],
      "execution_count": null,
      "outputs": []
    },
    {
      "cell_type": "code",
      "metadata": {
        "id": "Ap5q4FrIsPVj"
      },
      "source": [
        ""
      ],
      "execution_count": null,
      "outputs": []
    },
    {
      "cell_type": "code",
      "metadata": {
        "id": "XGcqPKRssPVk"
      },
      "source": [
        "#hyperparameter settings 4\n",
        "#here i take batch size 100,number of iteration 1000,input dimension 28*28,output dimension 2 as this is a binary clasification,learning rate 0.0001 and number of epochs 15.\n",
        "batch_size = 256\n",
        "num_iters = 1000\n",
        "input_dim = 28*28 # num_features = 784\n",
        "output_dim = 2\n",
        "num_epochs = int(15)\n",
        "learning_rate = 0.0001\n",
        "\n",
        "# Device\n",
        "device = torch.device(\"cuda:0\" if torch.cuda.is_available() else \"cpu\")"
      ],
      "execution_count": null,
      "outputs": []
    },
    {
      "cell_type": "code",
      "metadata": {
        "id": "rNa756A6sPVk",
        "outputId": "048fd8bd-6377-4eaa-bb25-defec3a84d97"
      },
      "source": [
        "# split data 10% for testing\n",
        "test_size = 0.1\n",
        "\n",
        "# obtain training indices that will be used for validation\n",
        "num_train = len(train_data)\n",
        "\n",
        "# mix data\n",
        "# index of num of train\n",
        "indices = list(range(num_train))\n",
        "# random the index\n",
        "np.random.shuffle(indices)\n",
        "split = int(np.floor(test_size * num_train))\n",
        "print(split)\n",
        "# divied into two part\n",
        "train_idx, test_idx = indices[split:], indices[:split]\n",
        "\n",
        "# define the sampler\n",
        "train_sampler = SubsetRandomSampler(train_idx)\n",
        "test_sampler = SubsetRandomSampler(test_idx)\n",
        "\n",
        "# prepare loaders\n",
        "train_loader = torch.utils.data.DataLoader(\n",
        "    train_data, batch_size=batch_size,\n",
        "    sampler=train_sampler)\n",
        "\n",
        "test_loader = torch.utils.data.DataLoader(\n",
        "    test_data, batch_size=batch_size,\n",
        "    sampler=test_sampler)\n",
        "\n",
        "print(\"Train dataloader:{}\".format(len(train_loader)))\n",
        "print(\"Test dataloader:{}\".format(len(test_loader)))"
      ],
      "execution_count": null,
      "outputs": [
        {
          "output_type": "stream",
          "text": [
            "3068\n",
            "Train dataloader:108\n",
            "Test dataloader:12\n"
          ],
          "name": "stdout"
        }
      ]
    },
    {
      "cell_type": "code",
      "metadata": {
        "id": "mik7Uq0tsPVl",
        "outputId": "f0156d1c-a270-48f6-dc81-d2e7b9dcc4da"
      },
      "source": [
        "'''\n",
        "INSTANTIATE MODEL CLASS\n",
        "'''\n",
        "model = LogisticRegressionModel(input_size=input_dim,\n",
        "                                num_classes=output_dim)\n",
        "\n",
        "# To enable GPU\n",
        "model.to(device)"
      ],
      "execution_count": null,
      "outputs": [
        {
          "output_type": "execute_result",
          "data": {
            "text/plain": [
              "LogisticRegressionModel(\n",
              "  (linear): Linear(in_features=784, out_features=2, bias=True)\n",
              ")"
            ]
          },
          "metadata": {
            "tags": []
          },
          "execution_count": 60
        }
      ]
    },
    {
      "cell_type": "code",
      "metadata": {
        "id": "Sp5fuBxEsPVl"
      },
      "source": [
        "# INSTANTIATE OPTIMIZER CLASS\n",
        "\n",
        "optimizer = torch.optim.Adam(model.parameters(), lr=learning_rate)\n"
      ],
      "execution_count": null,
      "outputs": []
    },
    {
      "cell_type": "code",
      "metadata": {
        "id": "x8aCvaXVsPVl",
        "outputId": "a00d8eb8-cae0-4149-8241-00b03ce65d61"
      },
      "source": [
        "'''\n",
        "TRAIN THE MODEL\n",
        "'''\n",
        "iteration_loss = []\n",
        "iter = 0\n",
        "for epoch in range(num_epochs):\n",
        "    for i, (images, labels) in enumerate(train_loader):\n",
        "\n",
        "        images = images.view(-1, 28*28).to(device)\n",
        "        labels = labels.to(device)\n",
        "\n",
        "        # Clear gradients w.r.t. parameters\n",
        "        optimizer.zero_grad()\n",
        "\n",
        "        # Forward pass to get output/logits\n",
        "        logits, probas = model(images) \n",
        "\n",
        "        # Calculate Loss: PyTorch implementation of CrossEntropyLoss works with logits, not probabilities\n",
        "        loss = F.cross_entropy(logits, labels)\n",
        "\n",
        "        # Getting gradients w.r.t. parameters\n",
        "        loss.backward()\n",
        "\n",
        "        # Updating parameters\n",
        "        optimizer.step()\n",
        "\n",
        "        iter += 1\n",
        "\n",
        "        if iter % 500 == 0:\n",
        "            # Calculate Accuracy         \n",
        "            correct = 0\n",
        "            total = 0\n",
        "            # Iterate through test dataset\n",
        "            for images, labels in test_loader:\n",
        "               \n",
        "                images = images.view(-1, 28*28).to(device)\n",
        "\n",
        "                # Forward pass only to get logits/output\n",
        "                logits, probas = model(images)\n",
        "\n",
        "                # Get predictions from the maximum value\n",
        "                _, predicted = torch.max(probas, 1)\n",
        "\n",
        "                # Total number of labels\n",
        "                total += labels.size(0)\n",
        "\n",
        "\n",
        "                # Total correct predictions\n",
        "                if torch.cuda.is_available():\n",
        "                    correct += (predicted.cpu() == labels.cpu()).sum() \n",
        "                else:\n",
        "                    correct += (predicted == labels).sum()\n",
        "\n",
        "            accuracy = 100 * correct.item() / total\n",
        "\n",
        "            # Print Loss\n",
        "            iteration_loss.append(loss.item())\n",
        "            print('Iteration: {}. Loss: {}. Accuracy: {}'.format(iter, loss.item(), accuracy))"
      ],
      "execution_count": null,
      "outputs": [
        {
          "output_type": "stream",
          "text": [
            "Iteration: 500. Loss: 0.6754642724990845. Accuracy: 56.747066492829205\n",
            "Iteration: 1000. Loss: 0.6489248871803284. Accuracy: 58.116036505867015\n",
            "Iteration: 1500. Loss: 0.6678870916366577. Accuracy: 58.18122555410691\n"
          ],
          "name": "stdout"
        }
      ]
    },
    {
      "cell_type": "code",
      "metadata": {
        "id": "kSSYyt3qsPVm"
      },
      "source": [
        "#settings 4\n",
        "save_model = True\n",
        "\n",
        "if save_model is True:\n",
        "    # Saves only parameters\n",
        "    # wights & biases\n",
        "    torch.save(model.state_dict(), PATH + 'model4.pkl') "
      ],
      "execution_count": null,
      "outputs": []
    },
    {
      "cell_type": "code",
      "metadata": {
        "id": "COgBnBH7sPVm",
        "outputId": "c06b69e3-4701-4e59-db5d-c8d43819d7a6"
      },
      "source": [
        "import matplotlib\n",
        "import matplotlib.pyplot as plt\n",
        "\n",
        "print (iteration_loss)\n",
        "plt.plot(iteration_loss)\n",
        "plt.ylabel('Cross Entropy Loss')\n",
        "plt.xlabel('Iteration (in every 500)')\n",
        "plt.show()"
      ],
      "execution_count": null,
      "outputs": [
        {
          "output_type": "stream",
          "text": [
            "[0.6754642724990845, 0.6489248871803284, 0.6678870916366577]\n"
          ],
          "name": "stdout"
        },
        {
          "output_type": "display_data",
          "data": {
            "image/png": "[encoded data removed]",
            "text/plain": [
              "<Figure size 432x288 with 1 Axes>"
            ]
          },
          "metadata": {
            "tags": [],
            "needs_background": "light"
          }
        }
      ]
    },
    {
      "cell_type": "code",
      "metadata": {
        "id": "ELjNxbvmsPVm",
        "outputId": "a1deacf5-d867-4653-8295-264f729ac5f8"
      },
      "source": [
        "#settings 4\n",
        "load_model = True\n",
        "\n",
        "if load_model is True:\n",
        "    model.load_state_dict(torch.load(PATH + 'model4.pkl'))\n",
        "    print('Trained Model Loaded')"
      ],
      "execution_count": null,
      "outputs": [
        {
          "output_type": "stream",
          "text": [
            "Trained Model Loaded\n"
          ],
          "name": "stdout"
        }
      ]
    },
    {
      "cell_type": "code",
      "metadata": {
        "id": "K7EQqL37sPVm",
        "outputId": "751655b8-fd7b-4b6f-e880-a788c2de029a"
      },
      "source": [
        "for images, labels in test_loader:\n",
        "   break\n",
        "    \n",
        "fig, ax = plt.subplots(1,5)\n",
        "for i in range(5):\n",
        "    ax[i].imshow(images[i].view(28, 28), cmap=matplotlib.cm.binary)\n",
        "    print(labels[i])\n",
        "\n",
        "plt.show()"
      ],
      "execution_count": null,
      "outputs": [
        {
          "output_type": "stream",
          "text": [
            "tensor(1)\n",
            "tensor(1)\n",
            "tensor(1)\n",
            "tensor(1)\n",
            "tensor(0)\n"
          ],
          "name": "stdout"
        },
        {
          "output_type": "display_data",
          "data": {
            "image/png": "[encoded data removed]",
            "text/plain": [
              "<Figure size 432x288 with 5 Axes>"
            ]
          },
          "metadata": {
            "tags": [],
            "needs_background": "light"
          }
        }
      ]
    },
    {
      "cell_type": "code",
      "metadata": {
        "id": "6r5aOK7KsPVm",
        "outputId": "fbb8b907-6827-40be-cafb-0f98142f38b6"
      },
      "source": [
        "_, predictions = model.forward(images[:5].view(-1, 28*28).to(device))\n",
        "predictions = torch.argmax(predictions, dim=1)\n",
        "print('Predicted labels', predictions.cpu().numpy())"
      ],
      "execution_count": null,
      "outputs": [
        {
          "output_type": "stream",
          "text": [
            "Predicted labels [1 1 0 0 0]\n"
          ],
          "name": "stdout"
        }
      ]
    },
    {
      "cell_type": "code",
      "metadata": {
        "id": "fxEZDGaasPVn"
      },
      "source": [
        ""
      ],
      "execution_count": null,
      "outputs": []
    },
    {
      "cell_type": "code",
      "metadata": {
        "id": "LaljNkTesPVn"
      },
      "source": [
        ""
      ],
      "execution_count": null,
      "outputs": []
    },
    {
      "cell_type": "code",
      "metadata": {
        "id": "WYiB9m4UsPVn"
      },
      "source": [
        "#hyperparameter settings 5\n",
        "#here i take batch size 300,number of iteration 1000,input dimension 28*28,output dimension 2 as this is a binary clasification,learning rate 0.0001 and number of epochs 15.\n",
        "batch_size = 300\n",
        "num_iters = 1000\n",
        "input_dim = 28*28 # num_features = 784\n",
        "output_dim = 2\n",
        "num_epochs = int(15)\n",
        "learning_rate = 0.0001\n",
        "\n",
        "# Device\n",
        "device = torch.device(\"cuda:0\" if torch.cuda.is_available() else \"cpu\")"
      ],
      "execution_count": null,
      "outputs": []
    },
    {
      "cell_type": "code",
      "metadata": {
        "id": "8FHQJtqvsPVn",
        "outputId": "7b615bdf-be8a-4a70-97ae-0d2649363914"
      },
      "source": [
        "# split data 10% for testing\n",
        "test_size = 0.1\n",
        "\n",
        "# obtain training indices that will be used for validation\n",
        "num_train = len(train_data)\n",
        "\n",
        "# mix data\n",
        "# index of num of train\n",
        "indices = list(range(num_train))\n",
        "# random the index\n",
        "np.random.shuffle(indices)\n",
        "split = int(np.floor(test_size * num_train))\n",
        "print(split)\n",
        "# divied into two part\n",
        "train_idx, test_idx = indices[split:], indices[:split]\n",
        "\n",
        "# define the sampler\n",
        "train_sampler = SubsetRandomSampler(train_idx)\n",
        "test_sampler = SubsetRandomSampler(test_idx)\n",
        "\n",
        "# prepare loaders\n",
        "train_loader = torch.utils.data.DataLoader(\n",
        "    train_data, batch_size=batch_size,\n",
        "    sampler=train_sampler)\n",
        "\n",
        "test_loader = torch.utils.data.DataLoader(\n",
        "    test_data, batch_size=batch_size,\n",
        "    sampler=test_sampler)\n",
        "\n",
        "print(\"Train dataloader:{}\".format(len(train_loader)))\n",
        "print(\"Test dataloader:{}\".format(len(test_loader)))"
      ],
      "execution_count": null,
      "outputs": [
        {
          "output_type": "stream",
          "text": [
            "3068\n",
            "Train dataloader:93\n",
            "Test dataloader:11\n"
          ],
          "name": "stdout"
        }
      ]
    },
    {
      "cell_type": "code",
      "metadata": {
        "id": "PKwrXFSasPVn",
        "outputId": "18f6c608-08bb-432a-f091-bc4c2aac2ccf"
      },
      "source": [
        "'''\n",
        "INSTANTIATE MODEL CLASS\n",
        "'''\n",
        "model = LogisticRegressionModel(input_size=input_dim,\n",
        "                                num_classes=output_dim)\n",
        "\n",
        "# To enable GPU\n",
        "model.to(device)"
      ],
      "execution_count": null,
      "outputs": [
        {
          "output_type": "execute_result",
          "data": {
            "text/plain": [
              "LogisticRegressionModel(\n",
              "  (linear): Linear(in_features=784, out_features=2, bias=True)\n",
              ")"
            ]
          },
          "metadata": {
            "tags": []
          },
          "execution_count": 70
        }
      ]
    },
    {
      "cell_type": "code",
      "metadata": {
        "id": "b8UkLuxTsPVo"
      },
      "source": [
        "# INSTANTIATE OPTIMIZER CLASS\n",
        "\n",
        "optimizer = torch.optim.Adam(model.parameters(), lr=learning_rate)\n"
      ],
      "execution_count": null,
      "outputs": []
    },
    {
      "cell_type": "code",
      "metadata": {
        "id": "zmd8GxAAsPVo",
        "outputId": "12d9a50e-8580-4e41-f64d-5da097d904eb"
      },
      "source": [
        "'''\n",
        "TRAIN THE MODEL\n",
        "'''\n",
        "iteration_loss = []\n",
        "iter = 0\n",
        "for epoch in range(num_epochs):\n",
        "    for i, (images, labels) in enumerate(train_loader):\n",
        "\n",
        "        images = images.view(-1, 28*28).to(device)\n",
        "        labels = labels.to(device)\n",
        "\n",
        "        # Clear gradients w.r.t. parameters\n",
        "        optimizer.zero_grad()\n",
        "\n",
        "        # Forward pass to get output/logits\n",
        "        logits, probas = model(images) \n",
        "\n",
        "        # Calculate Loss: PyTorch implementation of CrossEntropyLoss works with logits, not probabilities\n",
        "        loss = F.cross_entropy(logits, labels)\n",
        "\n",
        "        # Getting gradients w.r.t. parameters\n",
        "        loss.backward()\n",
        "\n",
        "        # Updating parameters\n",
        "        optimizer.step()\n",
        "\n",
        "        iter += 1\n",
        "\n",
        "        if iter % 500 == 0:\n",
        "            # Calculate Accuracy         \n",
        "            correct = 0\n",
        "            total = 0\n",
        "            # Iterate through test dataset\n",
        "            for images, labels in test_loader:\n",
        "               \n",
        "                images = images.view(-1, 28*28).to(device)\n",
        "\n",
        "                # Forward pass only to get logits/output\n",
        "                logits, probas = model(images)\n",
        "\n",
        "                # Get predictions from the maximum value\n",
        "                _, predicted = torch.max(probas, 1)\n",
        "\n",
        "                # Total number of labels\n",
        "                total += labels.size(0)\n",
        "\n",
        "\n",
        "                # Total correct predictions\n",
        "                if torch.cuda.is_available():\n",
        "                    correct += (predicted.cpu() == labels.cpu()).sum() \n",
        "                else:\n",
        "                    correct += (predicted == labels).sum()\n",
        "\n",
        "            accuracy = 100 * correct.item() / total\n",
        "\n",
        "            # Print Loss\n",
        "            iteration_loss.append(loss.item())\n",
        "            print('Iteration: {}. Loss: {}. Accuracy: {}'.format(iter, loss.item(), accuracy))"
      ],
      "execution_count": null,
      "outputs": [
        {
          "output_type": "stream",
          "text": [
            "Iteration: 500. Loss: 0.6578286290168762. Accuracy: 58.57235984354629\n",
            "Iteration: 1000. Loss: 0.6593379974365234. Accuracy: 58.833116036505864\n"
          ],
          "name": "stdout"
        }
      ]
    },
    {
      "cell_type": "code",
      "metadata": {
        "id": "3l3Sk-GfsPVo"
      },
      "source": [
        "#settings 5\n",
        "save_model = True\n",
        "\n",
        "if save_model is True:\n",
        "    # Saves only parameters\n",
        "    # wights & biases\n",
        "    torch.save(model.state_dict(), PATH + 'model5.pkl') "
      ],
      "execution_count": null,
      "outputs": []
    },
    {
      "cell_type": "code",
      "metadata": {
        "id": "7JVa0OaqsPVo",
        "outputId": "5866db52-dc4e-4ac7-d9de-c23b541bfa2c"
      },
      "source": [
        "import matplotlib\n",
        "import matplotlib.pyplot as plt\n",
        "\n",
        "print (iteration_loss)\n",
        "plt.plot(iteration_loss)\n",
        "plt.ylabel('Cross Entropy Loss')\n",
        "plt.xlabel('Iteration (in every 500)')\n",
        "plt.show()"
      ],
      "execution_count": null,
      "outputs": [
        {
          "output_type": "stream",
          "text": [
            "[0.6578286290168762, 0.6593379974365234]\n"
          ],
          "name": "stdout"
        },
        {
          "output_type": "display_data",
          "data": {
            "image/png": "[encoded data removed]",
            "text/plain": [
              "<Figure size 432x288 with 1 Axes>"
            ]
          },
          "metadata": {
            "tags": [],
            "needs_background": "light"
          }
        }
      ]
    },
    {
      "cell_type": "code",
      "metadata": {
        "id": "Ir7OW2s1sPVo",
        "outputId": "a893527b-60f0-4592-b0b1-b678f5fb5861"
      },
      "source": [
        "#settings 5\n",
        "load_model = True\n",
        "\n",
        "if load_model is True:\n",
        "    model.load_state_dict(torch.load(PATH + 'model5.pkl'))\n",
        "    print('Trained Model Loaded')"
      ],
      "execution_count": null,
      "outputs": [
        {
          "output_type": "stream",
          "text": [
            "Trained Model Loaded\n"
          ],
          "name": "stdout"
        }
      ]
    },
    {
      "cell_type": "code",
      "metadata": {
        "id": "tRDyAAgQsPVp",
        "outputId": "7c96086a-e403-42fb-b1d0-8005956b0173"
      },
      "source": [
        "for images, labels in test_loader:\n",
        "   break\n",
        "    \n",
        "fig, ax = plt.subplots(1,5)\n",
        "for i in range(5):\n",
        "    ax[i].imshow(images[i].view(28, 28), cmap=matplotlib.cm.binary)\n",
        "    print(labels[i])\n",
        "\n",
        "plt.show()"
      ],
      "execution_count": null,
      "outputs": [
        {
          "output_type": "stream",
          "text": [
            "tensor(1)\n",
            "tensor(0)\n",
            "tensor(1)\n",
            "tensor(0)\n",
            "tensor(0)\n"
          ],
          "name": "stdout"
        },
        {
          "output_type": "display_data",
          "data": {
            "image/png": "[encoded data removed]",
            "text/plain": [
              "<Figure size 432x288 with 5 Axes>"
            ]
          },
          "metadata": {
            "tags": [],
            "needs_background": "light"
          }
        }
      ]
    },
    {
      "cell_type": "code",
      "metadata": {
        "id": "-JY24pyusPVp",
        "outputId": "e0056444-6c6f-4f62-f786-2d5851cab3fb"
      },
      "source": [
        "_, predictions = model.forward(images[:5].view(-1, 28*28).to(device))\n",
        "predictions = torch.argmax(predictions, dim=1)\n",
        "print('Predicted labels', predictions.cpu().numpy())"
      ],
      "execution_count": null,
      "outputs": [
        {
          "output_type": "stream",
          "text": [
            "Predicted labels [1 0 0 0 1]\n"
          ],
          "name": "stdout"
        }
      ]
    },
    {
      "cell_type": "code",
      "metadata": {
        "id": "vBa8CDqXsPVp"
      },
      "source": [
        ""
      ],
      "execution_count": null,
      "outputs": []
    },
    {
      "cell_type": "code",
      "metadata": {
        "id": "ZLry00gHsPVp"
      },
      "source": [
        ""
      ],
      "execution_count": null,
      "outputs": []
    },
    {
      "cell_type": "code",
      "metadata": {
        "id": "_uGxWqdZsPVp"
      },
      "source": [
        "#hyperparameter settings 6\n",
        "#here i take batch size 300,number of iteration 1000,input dimension 28*28,output dimension 2 as this is a binary clasification,learning rate 0.005 and number of epochs 15.\n",
        "batch_size = 300\n",
        "num_iters = 1000\n",
        "input_dim = 28*28 # num_features = 784\n",
        "output_dim = 2\n",
        "num_epochs = int(15)\n",
        "learning_rate = 0.005\n",
        "\n",
        "# Device\n",
        "device = torch.device(\"cuda:0\" if torch.cuda.is_available() else \"cpu\")"
      ],
      "execution_count": null,
      "outputs": []
    },
    {
      "cell_type": "code",
      "metadata": {
        "id": "kubduItasPVp",
        "outputId": "45d578f5-c193-46f4-a826-781a1fd19585"
      },
      "source": [
        "# split data 10% for testing\n",
        "test_size = 0.1\n",
        "\n",
        "# obtain training indices that will be used for validation\n",
        "num_train = len(train_data)\n",
        "\n",
        "# mix data\n",
        "# index of num of train\n",
        "indices = list(range(num_train))\n",
        "# random the index\n",
        "np.random.shuffle(indices)\n",
        "split = int(np.floor(test_size * num_train))\n",
        "print(split)\n",
        "# divied into two part\n",
        "train_idx, test_idx = indices[split:], indices[:split]\n",
        "\n",
        "# define the sampler\n",
        "train_sampler = SubsetRandomSampler(train_idx)\n",
        "test_sampler = SubsetRandomSampler(test_idx)\n",
        "\n",
        "# prepare loaders\n",
        "train_loader = torch.utils.data.DataLoader(\n",
        "    train_data, batch_size=batch_size,\n",
        "    sampler=train_sampler)\n",
        "\n",
        "test_loader = torch.utils.data.DataLoader(\n",
        "    test_data, batch_size=batch_size,\n",
        "    sampler=test_sampler)\n",
        "\n",
        "print(\"Train dataloader:{}\".format(len(train_loader)))\n",
        "print(\"Test dataloader:{}\".format(len(test_loader)))"
      ],
      "execution_count": null,
      "outputs": [
        {
          "output_type": "stream",
          "text": [
            "3068\n",
            "Train dataloader:93\n",
            "Test dataloader:11\n"
          ],
          "name": "stdout"
        }
      ]
    },
    {
      "cell_type": "code",
      "metadata": {
        "id": "kglu_3imsPVq",
        "outputId": "ce9b5660-f529-4bf9-e8f1-ae83667bcd7b"
      },
      "source": [
        "'''\n",
        "INSTANTIATE MODEL CLASS\n",
        "'''\n",
        "model = LogisticRegressionModel(input_size=input_dim,\n",
        "                                num_classes=output_dim)\n",
        "\n",
        "# To enable GPU\n",
        "model.to(device)"
      ],
      "execution_count": null,
      "outputs": [
        {
          "output_type": "execute_result",
          "data": {
            "text/plain": [
              "LogisticRegressionModel(\n",
              "  (linear): Linear(in_features=784, out_features=2, bias=True)\n",
              ")"
            ]
          },
          "metadata": {
            "tags": []
          },
          "execution_count": 80
        }
      ]
    },
    {
      "cell_type": "code",
      "metadata": {
        "id": "q5oG13ZEsPVq"
      },
      "source": [
        "# INSTANTIATE OPTIMIZER CLASS\n",
        "\n",
        "optimizer = torch.optim.Adam(model.parameters(), lr=learning_rate)\n"
      ],
      "execution_count": null,
      "outputs": []
    },
    {
      "cell_type": "code",
      "metadata": {
        "id": "pt-axpypsPVq",
        "outputId": "d71dd793-b47e-4adf-d3fa-78e295fcbe29"
      },
      "source": [
        "'''\n",
        "TRAIN THE MODEL\n",
        "'''\n",
        "iteration_loss = []\n",
        "iter = 0\n",
        "for epoch in range(num_epochs):\n",
        "    for i, (images, labels) in enumerate(train_loader):\n",
        "\n",
        "        images = images.view(-1, 28*28).to(device)\n",
        "        labels = labels.to(device)\n",
        "\n",
        "        # Clear gradients w.r.t. parameters\n",
        "        optimizer.zero_grad()\n",
        "\n",
        "        # Forward pass to get output/logits\n",
        "        logits, probas = model(images) \n",
        "\n",
        "        # Calculate Loss: PyTorch implementation of CrossEntropyLoss works with logits, not probabilities\n",
        "        loss = F.cross_entropy(logits, labels)\n",
        "\n",
        "        # Getting gradients w.r.t. parameters\n",
        "        loss.backward()\n",
        "\n",
        "        # Updating parameters\n",
        "        optimizer.step()\n",
        "\n",
        "        iter += 1\n",
        "\n",
        "        if iter % 500 == 0:\n",
        "            # Calculate Accuracy         \n",
        "            correct = 0\n",
        "            total = 0\n",
        "            # Iterate through test dataset\n",
        "            for images, labels in test_loader:\n",
        "               \n",
        "                images = images.view(-1, 28*28).to(device)\n",
        "\n",
        "                # Forward pass only to get logits/output\n",
        "                logits, probas = model(images)\n",
        "\n",
        "                # Get predictions from the maximum value\n",
        "                _, predicted = torch.max(probas, 1)\n",
        "\n",
        "                # Total number of labels\n",
        "                total += labels.size(0)\n",
        "\n",
        "\n",
        "                # Total correct predictions\n",
        "                if torch.cuda.is_available():\n",
        "                    correct += (predicted.cpu() == labels.cpu()).sum() \n",
        "                else:\n",
        "                    correct += (predicted == labels).sum()\n",
        "\n",
        "            accuracy = 100 * correct.item() / total\n",
        "\n",
        "            # Print Loss\n",
        "            iteration_loss.append(loss.item())\n",
        "            print('Iteration: {}. Loss: {}. Accuracy: {}'.format(iter, loss.item(), accuracy))"
      ],
      "execution_count": null,
      "outputs": [
        {
          "output_type": "stream",
          "text": [
            "Iteration: 500. Loss: 0.7362013459205627. Accuracy: 57.85528031290743\n",
            "Iteration: 1000. Loss: 0.7108064889907837. Accuracy: 54.43285528031291\n"
          ],
          "name": "stdout"
        }
      ]
    },
    {
      "cell_type": "code",
      "metadata": {
        "id": "4WUUhuPksPVq"
      },
      "source": [
        "#settings 6\n",
        "save_model = True\n",
        "\n",
        "if save_model is True:\n",
        "    # Saves only parameters\n",
        "    # wights & biases\n",
        "    torch.save(model.state_dict(), PATH + 'model6.pkl') "
      ],
      "execution_count": null,
      "outputs": []
    },
    {
      "cell_type": "code",
      "metadata": {
        "id": "cV4BR6OUsPVq",
        "outputId": "987f8079-3e04-40dd-fe87-a7a81c6bff2c"
      },
      "source": [
        "import matplotlib\n",
        "import matplotlib.pyplot as plt\n",
        "\n",
        "print (iteration_loss)\n",
        "plt.plot(iteration_loss)\n",
        "plt.ylabel('Cross Entropy Loss')\n",
        "plt.xlabel('Iteration (in every 500)')\n",
        "plt.show()"
      ],
      "execution_count": null,
      "outputs": [
        {
          "output_type": "stream",
          "text": [
            "[0.7362013459205627, 0.7108064889907837]\n"
          ],
          "name": "stdout"
        },
        {
          "output_type": "display_data",
          "data": {
            "image/png": "[encoded data removed]",
            "text/plain": [
              "<Figure size 432x288 with 1 Axes>"
            ]
          },
          "metadata": {
            "tags": [],
            "needs_background": "light"
          }
        }
      ]
    },
    {
      "cell_type": "code",
      "metadata": {
        "id": "u9ZuXQJFsPVt",
        "outputId": "ef617d0f-b429-4459-b91d-13ef74c64f70"
      },
      "source": [
        "#settings 6\n",
        "load_model = True\n",
        "\n",
        "if load_model is True:\n",
        "    model.load_state_dict(torch.load(PATH + 'model6.pkl'))\n",
        "    print('Trained Model Loaded')"
      ],
      "execution_count": null,
      "outputs": [
        {
          "output_type": "stream",
          "text": [
            "Trained Model Loaded\n"
          ],
          "name": "stdout"
        }
      ]
    },
    {
      "cell_type": "code",
      "metadata": {
        "id": "C6qql-V9sPVt",
        "outputId": "d9694036-2583-4e2d-e7ee-9a4b7793616c"
      },
      "source": [
        "for images, labels in test_loader:\n",
        "   break\n",
        "    \n",
        "fig, ax = plt.subplots(1,5)\n",
        "for i in range(5):\n",
        "    ax[i].imshow(images[i].view(28, 28), cmap=matplotlib.cm.binary)\n",
        "    print(labels[i])\n",
        "\n",
        "plt.show()"
      ],
      "execution_count": null,
      "outputs": [
        {
          "output_type": "stream",
          "text": [
            "tensor(1)\n",
            "tensor(0)\n",
            "tensor(0)\n",
            "tensor(1)\n",
            "tensor(1)\n"
          ],
          "name": "stdout"
        },
        {
          "output_type": "display_data",
          "data": {
            "image/png": "[encoded data removed]",
            "text/plain": [
              "<Figure size 432x288 with 5 Axes>"
            ]
          },
          "metadata": {
            "tags": [],
            "needs_background": "light"
          }
        }
      ]
    },
    {
      "cell_type": "code",
      "metadata": {
        "id": "klpr2exWsPVt",
        "outputId": "e88c9f5d-bcb7-4717-c299-c832fc84eb27"
      },
      "source": [
        "_, predictions = model.forward(images[:5].view(-1, 28*28).to(device))\n",
        "predictions = torch.argmax(predictions, dim=1)\n",
        "print('Predicted labels', predictions.cpu().numpy())"
      ],
      "execution_count": null,
      "outputs": [
        {
          "output_type": "stream",
          "text": [
            "Predicted labels [0 1 1 1 1]\n"
          ],
          "name": "stdout"
        }
      ]
    },
    {
      "cell_type": "code",
      "metadata": {
        "id": "j74SZx5YsPVt"
      },
      "source": [
        ""
      ],
      "execution_count": null,
      "outputs": []
    },
    {
      "cell_type": "code",
      "metadata": {
        "id": "r3vgYdfYsPVt"
      },
      "source": [
        ""
      ],
      "execution_count": null,
      "outputs": []
    },
    {
      "cell_type": "code",
      "metadata": {
        "id": "BFlFZn_XsPVu"
      },
      "source": [
        "#hyperparameter settings 7\n",
        "#here i take batch size 200,number of iteration 1000,input dimension 28*28,output dimension 2 as this is a binary clasification,learning rate 0.004 and number of epochs 15.\n",
        "batch_size = 200\n",
        "num_iters = 1000\n",
        "input_dim = 28*28 # num_features = 784\n",
        "output_dim = 2\n",
        "num_epochs = int(15)\n",
        "learning_rate = 0.004\n",
        "\n",
        "# Device\n",
        "device = torch.device(\"cuda:0\" if torch.cuda.is_available() else \"cpu\")"
      ],
      "execution_count": null,
      "outputs": []
    },
    {
      "cell_type": "code",
      "metadata": {
        "id": "H8CnIKFDsPVu",
        "outputId": "3ccb59e9-8d56-473b-ff15-cde6861c24b6"
      },
      "source": [
        "# split data 10% for testing\n",
        "test_size = 0.1\n",
        "\n",
        "# obtain training indices that will be used for validation\n",
        "num_train = len(train_data)\n",
        "\n",
        "# mix data\n",
        "# index of num of train\n",
        "indices = list(range(num_train))\n",
        "# random the index\n",
        "np.random.shuffle(indices)\n",
        "split = int(np.floor(test_size * num_train))\n",
        "print(split)\n",
        "# divied into two part\n",
        "train_idx, test_idx = indices[split:], indices[:split]\n",
        "\n",
        "# define the sampler\n",
        "train_sampler = SubsetRandomSampler(train_idx)\n",
        "test_sampler = SubsetRandomSampler(test_idx)\n",
        "\n",
        "# prepare loaders\n",
        "train_loader = torch.utils.data.DataLoader(\n",
        "    train_data, batch_size=batch_size,\n",
        "    sampler=train_sampler)\n",
        "\n",
        "test_loader = torch.utils.data.DataLoader(\n",
        "    test_data, batch_size=batch_size,\n",
        "    sampler=test_sampler)\n",
        "\n",
        "print(\"Train dataloader:{}\".format(len(train_loader)))\n",
        "print(\"Test dataloader:{}\".format(len(test_loader)))"
      ],
      "execution_count": null,
      "outputs": [
        {
          "output_type": "stream",
          "text": [
            "3068\n",
            "Train dataloader:139\n",
            "Test dataloader:16\n"
          ],
          "name": "stdout"
        }
      ]
    },
    {
      "cell_type": "code",
      "metadata": {
        "id": "o_0moHUusPVu",
        "outputId": "73d36bb5-9e3a-4160-85df-6188d57e8c04"
      },
      "source": [
        "'''\n",
        "INSTANTIATE MODEL CLASS\n",
        "'''\n",
        "model = LogisticRegressionModel(input_size=input_dim,\n",
        "                                num_classes=output_dim)\n",
        "\n",
        "# To enable GPU\n",
        "model.to(device)"
      ],
      "execution_count": null,
      "outputs": [
        {
          "output_type": "execute_result",
          "data": {
            "text/plain": [
              "LogisticRegressionModel(\n",
              "  (linear): Linear(in_features=784, out_features=2, bias=True)\n",
              ")"
            ]
          },
          "metadata": {
            "tags": []
          },
          "execution_count": 90
        }
      ]
    },
    {
      "cell_type": "code",
      "metadata": {
        "id": "Jb60oue3sPVu"
      },
      "source": [
        "# INSTANTIATE OPTIMIZER CLASS\n",
        "\n",
        "optimizer = torch.optim.Adam(model.parameters(), lr=learning_rate)\n"
      ],
      "execution_count": null,
      "outputs": []
    },
    {
      "cell_type": "code",
      "metadata": {
        "id": "BDTy5b3bsPVu",
        "outputId": "d03a407a-c919-4080-d8f0-f32ca1d07fe7"
      },
      "source": [
        "'''\n",
        "TRAIN THE MODEL\n",
        "'''\n",
        "iteration_loss = []\n",
        "iter = 0\n",
        "for epoch in range(num_epochs):\n",
        "    for i, (images, labels) in enumerate(train_loader):\n",
        "\n",
        "        images = images.view(-1, 28*28).to(device)\n",
        "        labels = labels.to(device)\n",
        "\n",
        "        # Clear gradients w.r.t. parameters\n",
        "        optimizer.zero_grad()\n",
        "\n",
        "        # Forward pass to get output/logits\n",
        "        logits, probas = model(images) \n",
        "\n",
        "        # Calculate Loss: PyTorch implementation of CrossEntropyLoss works with logits, not probabilities\n",
        "        loss = F.cross_entropy(logits, labels)\n",
        "\n",
        "        # Getting gradients w.r.t. parameters\n",
        "        loss.backward()\n",
        "\n",
        "        # Updating parameters\n",
        "        optimizer.step()\n",
        "\n",
        "        iter += 1\n",
        "\n",
        "        if iter % 500 == 0:\n",
        "            # Calculate Accuracy         \n",
        "            correct = 0\n",
        "            total = 0\n",
        "            # Iterate through test dataset\n",
        "            for images, labels in test_loader:\n",
        "               \n",
        "                images = images.view(-1, 28*28).to(device)\n",
        "\n",
        "                # Forward pass only to get logits/output\n",
        "                logits, probas = model(images)\n",
        "\n",
        "                # Get predictions from the maximum value\n",
        "                _, predicted = torch.max(probas, 1)\n",
        "\n",
        "                # Total number of labels\n",
        "                total += labels.size(0)\n",
        "\n",
        "\n",
        "                # Total correct predictions\n",
        "                if torch.cuda.is_available():\n",
        "                    correct += (predicted.cpu() == labels.cpu()).sum() \n",
        "                else:\n",
        "                    correct += (predicted == labels).sum()\n",
        "\n",
        "            accuracy = 100 * correct.item() / total\n",
        "\n",
        "            # Print Loss\n",
        "            iteration_loss.append(loss.item())\n",
        "            print('Iteration: {}. Loss: {}. Accuracy: {}'.format(iter, loss.item(), accuracy))"
      ],
      "execution_count": null,
      "outputs": [
        {
          "output_type": "stream",
          "text": [
            "Iteration: 500. Loss: 0.7225029468536377. Accuracy: 55.08474576271186\n",
            "Iteration: 1000. Loss: 0.7387209534645081. Accuracy: 57.00782268578879\n",
            "Iteration: 1500. Loss: 0.732646107673645. Accuracy: 57.69230769230769\n",
            "Iteration: 2000. Loss: 0.6848976612091064. Accuracy: 59.0612777053455\n"
          ],
          "name": "stdout"
        }
      ]
    },
    {
      "cell_type": "code",
      "metadata": {
        "id": "kpWqsaAmsPVv"
      },
      "source": [
        "#settings 7\n",
        "save_model = True\n",
        "\n",
        "if save_model is True:\n",
        "    # Saves only parameters\n",
        "    # wights & biases\n",
        "    torch.save(model.state_dict(), PATH + 'model7.pkl') "
      ],
      "execution_count": null,
      "outputs": []
    },
    {
      "cell_type": "code",
      "metadata": {
        "id": "2bFq63OFsPVv",
        "outputId": "f2d42faf-7e01-465f-c16a-ee30b7b29449"
      },
      "source": [
        "import matplotlib\n",
        "import matplotlib.pyplot as plt\n",
        "\n",
        "print (iteration_loss)\n",
        "plt.plot(iteration_loss)\n",
        "plt.ylabel('Cross Entropy Loss')\n",
        "plt.xlabel('Iteration (in every 500)')\n",
        "plt.show()"
      ],
      "execution_count": null,
      "outputs": [
        {
          "output_type": "stream",
          "text": [
            "[0.7225029468536377, 0.7387209534645081, 0.732646107673645, 0.6848976612091064]\n"
          ],
          "name": "stdout"
        },
        {
          "output_type": "display_data",
          "data": {
            "image/png": "[encoded data removed]",
            "text/plain": [
              "<Figure size 432x288 with 1 Axes>"
            ]
          },
          "metadata": {
            "tags": [],
            "needs_background": "light"
          }
        }
      ]
    },
    {
      "cell_type": "code",
      "metadata": {
        "id": "ikyOfCVWsPVv",
        "outputId": "62fe3b2e-fc9e-4344-a403-739718753f31"
      },
      "source": [
        "#settings 7\n",
        "load_model = True\n",
        "\n",
        "if load_model is True:\n",
        "    model.load_state_dict(torch.load(PATH + 'model7.pkl'))\n",
        "    print('Trained Model Loaded')"
      ],
      "execution_count": null,
      "outputs": [
        {
          "output_type": "stream",
          "text": [
            "Trained Model Loaded\n"
          ],
          "name": "stdout"
        }
      ]
    },
    {
      "cell_type": "code",
      "metadata": {
        "id": "2SWtT-4msPVv",
        "outputId": "95d1615d-9092-41ae-83cf-1c61299e666f"
      },
      "source": [
        "for images, labels in test_loader:\n",
        "   break\n",
        "    \n",
        "fig, ax = plt.subplots(1,5)\n",
        "for i in range(5):\n",
        "    ax[i].imshow(images[i].view(28, 28), cmap=matplotlib.cm.binary)\n",
        "    print(labels[i])\n",
        "\n",
        "plt.show()"
      ],
      "execution_count": null,
      "outputs": [
        {
          "output_type": "stream",
          "text": [
            "tensor(0)\n",
            "tensor(0)\n",
            "tensor(0)\n",
            "tensor(0)\n",
            "tensor(1)\n"
          ],
          "name": "stdout"
        },
        {
          "output_type": "display_data",
          "data": {
            "image/png": "[encoded data removed]",
            "text/plain": [
              "<Figure size 432x288 with 5 Axes>"
            ]
          },
          "metadata": {
            "tags": [],
            "needs_background": "light"
          }
        }
      ]
    },
    {
      "cell_type": "code",
      "metadata": {
        "id": "MoVsZv8asPVw",
        "outputId": "7a2cc405-7a2f-42d3-9514-45f8a77f47ae"
      },
      "source": [
        "_, predictions = model.forward(images[:5].view(-1, 28*28).to(device))\n",
        "predictions = torch.argmax(predictions, dim=1)\n",
        "print('Predicted labels', predictions.cpu().numpy())"
      ],
      "execution_count": null,
      "outputs": [
        {
          "output_type": "stream",
          "text": [
            "Predicted labels [1 1 0 1 1]\n"
          ],
          "name": "stdout"
        }
      ]
    },
    {
      "cell_type": "code",
      "metadata": {
        "id": "YlpwlGcgsPVw"
      },
      "source": [
        ""
      ],
      "execution_count": null,
      "outputs": []
    },
    {
      "cell_type": "code",
      "metadata": {
        "id": "PU3quNNQsPVw"
      },
      "source": [
        ""
      ],
      "execution_count": null,
      "outputs": []
    },
    {
      "cell_type": "code",
      "metadata": {
        "id": "DHbKeo8HsPVw"
      },
      "source": [
        "#hyperparameter settings 8\n",
        "#here i take batch size 200,number of iteration 1000,input dimension 28*28,output dimension 2 as this is a binary clasification,learning rate 0.005 and number of epochs 15.\n",
        "batch_size = 200\n",
        "num_iters = 1000\n",
        "input_dim = 28*28 # num_features = 784\n",
        "output_dim = 2\n",
        "num_epochs = int(15)\n",
        "learning_rate = 0.005\n",
        "\n",
        "# Device\n",
        "device = torch.device(\"cuda:0\" if torch.cuda.is_available() else \"cpu\")"
      ],
      "execution_count": null,
      "outputs": []
    },
    {
      "cell_type": "code",
      "metadata": {
        "id": "dWQPI2XxsPVw",
        "outputId": "4446184c-53a1-41ab-ef1f-280478d82bf4"
      },
      "source": [
        "# split data 10% for testing\n",
        "test_size = 0.1\n",
        "\n",
        "# obtain training indices that will be used for validation\n",
        "num_train = len(train_data)\n",
        "\n",
        "# mix data\n",
        "# index of num of train\n",
        "indices = list(range(num_train))\n",
        "# random the index\n",
        "np.random.shuffle(indices)\n",
        "split = int(np.floor(test_size * num_train))\n",
        "print(split)\n",
        "# divied into two part\n",
        "train_idx, test_idx = indices[split:], indices[:split]\n",
        "\n",
        "# define the sampler\n",
        "train_sampler = SubsetRandomSampler(train_idx)\n",
        "test_sampler = SubsetRandomSampler(test_idx)\n",
        "\n",
        "# prepare loaders\n",
        "train_loader = torch.utils.data.DataLoader(\n",
        "    train_data, batch_size=batch_size,\n",
        "    sampler=train_sampler)\n",
        "\n",
        "test_loader = torch.utils.data.DataLoader(\n",
        "    test_data, batch_size=batch_size,\n",
        "    sampler=test_sampler)\n",
        "\n",
        "print(\"Train dataloader:{}\".format(len(train_loader)))\n",
        "print(\"Test dataloader:{}\".format(len(test_loader)))"
      ],
      "execution_count": null,
      "outputs": [
        {
          "output_type": "stream",
          "text": [
            "3068\n",
            "Train dataloader:139\n",
            "Test dataloader:16\n"
          ],
          "name": "stdout"
        }
      ]
    },
    {
      "cell_type": "code",
      "metadata": {
        "id": "qVEYsluCsPVx",
        "outputId": "a1eb46dd-0aed-4f1e-a6c6-54b37dacba74"
      },
      "source": [
        "'''\n",
        "INSTANTIATE MODEL CLASS\n",
        "'''\n",
        "model = LogisticRegressionModel(input_size=input_dim,\n",
        "                                num_classes=output_dim)\n",
        "\n",
        "# To enable GPU\n",
        "model.to(device)"
      ],
      "execution_count": null,
      "outputs": [
        {
          "output_type": "execute_result",
          "data": {
            "text/plain": [
              "LogisticRegressionModel(\n",
              "  (linear): Linear(in_features=784, out_features=2, bias=True)\n",
              ")"
            ]
          },
          "metadata": {
            "tags": []
          },
          "execution_count": 100
        }
      ]
    },
    {
      "cell_type": "code",
      "metadata": {
        "id": "WI9KZeGasPVx"
      },
      "source": [
        "# INSTANTIATE OPTIMIZER CLASS\n",
        "\n",
        "optimizer = torch.optim.Adam(model.parameters(), lr=learning_rate)\n"
      ],
      "execution_count": null,
      "outputs": []
    },
    {
      "cell_type": "code",
      "metadata": {
        "id": "TQKUTrHLsPVx",
        "outputId": "c0c45d30-231e-449c-a0a9-7c2f2b72945a"
      },
      "source": [
        "'''\n",
        "TRAIN THE MODEL\n",
        "'''\n",
        "iteration_loss = []\n",
        "iter = 0\n",
        "for epoch in range(num_epochs):\n",
        "    for i, (images, labels) in enumerate(train_loader):\n",
        "\n",
        "        images = images.view(-1, 28*28).to(device)\n",
        "        labels = labels.to(device)\n",
        "\n",
        "        # Clear gradients w.r.t. parameters\n",
        "        optimizer.zero_grad()\n",
        "\n",
        "        # Forward pass to get output/logits\n",
        "        logits, probas = model(images) \n",
        "\n",
        "        # Calculate Loss: PyTorch implementation of CrossEntropyLoss works with logits, not probabilities\n",
        "        loss = F.cross_entropy(logits, labels)\n",
        "\n",
        "        # Getting gradients w.r.t. parameters\n",
        "        loss.backward()\n",
        "\n",
        "        # Updating parameters\n",
        "        optimizer.step()\n",
        "\n",
        "        iter += 1\n",
        "\n",
        "        if iter % 500 == 0:\n",
        "            # Calculate Accuracy         \n",
        "            correct = 0\n",
        "            total = 0\n",
        "            # Iterate through test dataset\n",
        "            for images, labels in test_loader:\n",
        "               \n",
        "                images = images.view(-1, 28*28).to(device)\n",
        "\n",
        "                # Forward pass only to get logits/output\n",
        "                logits, probas = model(images)\n",
        "\n",
        "                # Get predictions from the maximum value\n",
        "                _, predicted = torch.max(probas, 1)\n",
        "\n",
        "                # Total number of labels\n",
        "                total += labels.size(0)\n",
        "\n",
        "\n",
        "                # Total correct predictions\n",
        "                if torch.cuda.is_available():\n",
        "                    correct += (predicted.cpu() == labels.cpu()).sum() \n",
        "                else:\n",
        "                    correct += (predicted == labels).sum()\n",
        "\n",
        "            accuracy = 100 * correct.item() / total\n",
        "\n",
        "            # Print Loss\n",
        "            iteration_loss.append(loss.item())\n",
        "            print('Iteration: {}. Loss: {}. Accuracy: {}'.format(iter, loss.item(), accuracy))"
      ],
      "execution_count": null,
      "outputs": [
        {
          "output_type": "stream",
          "text": [
            "Iteration: 500. Loss: 0.7637618184089661. Accuracy: 56.551499348109516\n",
            "Iteration: 1000. Loss: 0.7097329497337341. Accuracy: 55.997392438070406\n",
            "Iteration: 1500. Loss: 0.6715256571769714. Accuracy: 56.160365058670145\n",
            "Iteration: 2000. Loss: 0.7061070799827576. Accuracy: 56.32333767926988\n"
          ],
          "name": "stdout"
        }
      ]
    },
    {
      "cell_type": "code",
      "metadata": {
        "id": "A56OHTwqsPVx"
      },
      "source": [
        "#settings 8\n",
        "save_model = True\n",
        "\n",
        "if save_model is True:\n",
        "    # Saves only parameters\n",
        "    # wights & biases\n",
        "    torch.save(model.state_dict(), PATH + 'model8.pkl') "
      ],
      "execution_count": null,
      "outputs": []
    },
    {
      "cell_type": "code",
      "metadata": {
        "id": "rMVEmOFfsPVx",
        "outputId": "e0a66466-b61e-46d8-bc9f-918fccde661a"
      },
      "source": [
        "import matplotlib\n",
        "import matplotlib.pyplot as plt\n",
        "\n",
        "print (iteration_loss)\n",
        "plt.plot(iteration_loss)\n",
        "plt.ylabel('Cross Entropy Loss')\n",
        "plt.xlabel('Iteration (in every 500)')\n",
        "plt.show()"
      ],
      "execution_count": null,
      "outputs": [
        {
          "output_type": "stream",
          "text": [
            "[0.7637618184089661, 0.7097329497337341, 0.6715256571769714, 0.7061070799827576]\n"
          ],
          "name": "stdout"
        },
        {
          "output_type": "display_data",
          "data": {
            "image/png": "[encoded data removed]",
            "text/plain": [
              "<Figure size 432x288 with 1 Axes>"
            ]
          },
          "metadata": {
            "tags": [],
            "needs_background": "light"
          }
        }
      ]
    },
    {
      "cell_type": "code",
      "metadata": {
        "id": "3l79NfzAsPVy",
        "outputId": "cbace9d8-449d-4807-8fd5-0206fbbcef4e"
      },
      "source": [
        "#settings 8\n",
        "load_model = True\n",
        "\n",
        "if load_model is True:\n",
        "    model.load_state_dict(torch.load(PATH + 'model8.pkl'))\n",
        "    print('Trained Model Loaded')"
      ],
      "execution_count": null,
      "outputs": [
        {
          "output_type": "stream",
          "text": [
            "Trained Model Loaded\n"
          ],
          "name": "stdout"
        }
      ]
    },
    {
      "cell_type": "code",
      "metadata": {
        "id": "GH98sL_XsPVy",
        "outputId": "5c5fda8d-95be-44f6-ab5e-8468ddc74b8a"
      },
      "source": [
        "for images, labels in test_loader:\n",
        "   break\n",
        "    \n",
        "fig, ax = plt.subplots(1,5)\n",
        "for i in range(5):\n",
        "    ax[i].imshow(images[i].view(28, 28), cmap=matplotlib.cm.binary)\n",
        "    print(labels[i])\n",
        "\n",
        "plt.show()"
      ],
      "execution_count": null,
      "outputs": [
        {
          "output_type": "stream",
          "text": [
            "tensor(1)\n",
            "tensor(1)\n",
            "tensor(0)\n",
            "tensor(0)\n",
            "tensor(1)\n"
          ],
          "name": "stdout"
        },
        {
          "output_type": "display_data",
          "data": {
            "image/png": "[encoded data removed]",
            "text/plain": [
              "<Figure size 432x288 with 5 Axes>"
            ]
          },
          "metadata": {
            "tags": [],
            "needs_background": "light"
          }
        }
      ]
    },
    {
      "cell_type": "code",
      "metadata": {
        "id": "1v9VMOu7sPVy",
        "outputId": "add691d1-f50d-4416-bd19-f7513a537df8"
      },
      "source": [
        "_, predictions = model.forward(images[:5].view(-1, 28*28).to(device))\n",
        "predictions = torch.argmax(predictions, dim=1)\n",
        "print('Predicted labels', predictions.cpu().numpy())"
      ],
      "execution_count": null,
      "outputs": [
        {
          "output_type": "stream",
          "text": [
            "Predicted labels [0 1 0 0 1]\n"
          ],
          "name": "stdout"
        }
      ]
    },
    {
      "cell_type": "code",
      "metadata": {
        "id": "-c2gH4EKsPVy"
      },
      "source": [
        ""
      ],
      "execution_count": null,
      "outputs": []
    },
    {
      "cell_type": "markdown",
      "metadata": {
        "id": "kaAi8BMm6agy"
      },
      "source": [
        "Here I take num_iteration 1000 for all the settings and input dimention 28*28 = 784 with output dimention 2.\r\n",
        "\r\n",
        "**Settings Table:-**\r\n",
        "\r\n",
        "| Settings| Batch Size      | Learning Rate |  Optimzer           |  Accuracy(%)|\r\n",
        "|:--------:| :----------: | : -----------:|:-----:      |:-----------:|\r\n",
        "| 1        | 100          | 0.001        |  ADAM    |  55.63    |\r\n",
        "| 2        | 200          | 0.001        |  ADAM    |  59.55  |\r\n",
        "| 3        | 256          | 0.001        |  ADAM   |  57.88     |\r\n",
        "| 4        | 256          | 0.0001        |  ADAM   |  58.18     |\r\n",
        "| 5        | 300          | 0.0001         |  ADAM    |  58.83     |\r\n",
        "| 6        | 300          | 0.005         |  ADAM    |  54.43     |\r\n",
        "| 7        | 200          | 0.004         |  ADAM    |  59.06     |\r\n",
        "| 8        | 200          | 0.005         |  ADAM    |  56.32     |\r\n",
        "\r\n",
        "From the table it can be seen that I got the highst accuracy for the Ekush dataset is 59.55 for the setting 2.\r\n"
      ]
    },
    {
      "cell_type": "markdown",
      "metadata": {
        "id": "9gImdIEuK2Vt"
      },
      "source": [
        "Here I Show the loss curve for setting 8 to 1 respectively.\r\n",
        "\r\n",
        "\r\n",
        "\r\n",
        "\r\n",
        "\r\n",
        "![8.png](data:image/png;base64,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)![7.png](data:image/png;base64,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)![6.png](data:image/png;base64,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)![5.png](data:image/png;base64,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)![4.png](data:image/png;base64,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)![3.png](data:image/png;base64,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)![2.png](data:image/png;base64,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)![1.png](data:image/png;base64,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)"
      ]
    }
  ]
}