{
  "nbformat": 4,
  "nbformat_minor": 0,
  "metadata": {
    "colab": {
      "name": "160204014_Problem#2_Assignment2.ipynb",
      "provenance": [],
      "collapsed_sections": []
    },
    "kernelspec": {
      "display_name": "Python 3",
      "language": "python",
      "name": "python3"
    },
    "language_info": {
      "codemirror_mode": {
        "name": "ipython",
        "version": 3
      },
      "file_extension": ".py",
      "mimetype": "text/x-python",
      "name": "python",
      "nbconvert_exporter": "python",
      "pygments_lexer": "ipython3",
      "version": "3.8.5"
    }
  },
  "cells": [
    {
      "cell_type": "code",
      "metadata": {
        "id": "xXi1R19Cfku1"
      },
      "source": [
        "#importing the necessary libraries\n",
        "import os\n",
        "from os import path\n",
        "import shutil\n",
        "import numpy as np\n",
        "import pandas as pd\n",
        "import torch\n",
        "import torch.nn as nn\n",
        "import torch.nn.functional as F\n",
        "import torch.optim as optim\n",
        "from torch.utils.data import Dataset\n",
        "from torch.utils.data.sampler import SubsetRandomSampler\n",
        "from PIL import Image\n",
        "from torchvision import datasets, transforms, models\n",
        "from torch.autograd import Variable\n",
        "import numpy as np\n",
        "from matplotlib import pyplot as plt\n"
      ],
      "execution_count": null,
      "outputs": []
    },
    {
      "cell_type": "code",
      "metadata": {
        "id": "S6kZkELlfrhl"
      },
      "source": [
        "path_folder='D:/Ekush/male'\n",
        "\n",
        "src = path_folder+\"/110\" #111,112,113,114,115,116,117,118,119\n",
        "dir_folders = os.listdir(src)\n",
        "for dir_name in dir_folders:\n",
        "    a='zero'+dir_name #zero,one,two,three,four,five,six,seven,eight,nine\n",
        "    os.rename(src+ \"/\" +dir_name, src+ \"/\" +a)"
      ],
      "execution_count": null,
      "outputs": []
    },
    {
      "cell_type": "code",
      "metadata": {
        "id": "TLqcowuAfrpA"
      },
      "source": [
        "#Male digit images folder 110-119 coppied to allmale folder\n",
        "\n",
        "path_folder='D:/Ekush/male'\n",
        "\n",
        "for i in range(0,10,1):\n",
        "    src = path_folder+\"/11\"+str(i)\n",
        "    path = 'D:/Ekush/allmale'\n",
        "    dir_folders = os.listdir(src)\n",
        "    for dir_name in dir_folders:\n",
        "        file_name = os.path.join(src, dir_name)\n",
        "        if os.path.isfile(file_name):\n",
        "            shutil.copy(file_name, path)"
      ],
      "execution_count": null,
      "outputs": []
    },
    {
      "cell_type": "code",
      "metadata": {
        "id": "N64LU-YGfms8"
      },
      "source": [
        "\n",
        "path_folder='D:/Ekush/female'\n",
        "\n",
        "src = path_folder+\"/110\" #111,112,113,114,115,116,117,118,119\n",
        "dir_folders = os.listdir(src)\n",
        "for dir_name in dir_folders:\n",
        "    a='zero'+dir_name #zero,one,two,three,four,five,six,seven,eight,nine\n",
        "    os.rename(src+ \"/\" +dir_name, src+ \"/\" +a)\n"
      ],
      "execution_count": null,
      "outputs": []
    },
    {
      "cell_type": "code",
      "metadata": {
        "id": "qLKspyY3fp6c"
      },
      "source": [
        "#Female digit images folder 110-119 coppied to allfemale folder\n",
        "\n",
        "path_folder='D:/Ekush/female'\n",
        "\n",
        "for i in range(0,10,1):\n",
        "    src = path_folder+\"/11\"+str(i)\n",
        "    path = 'D:/Ekush/allfemale1'\n",
        "    dir_folders = os.listdir(src)\n",
        "    for dir_name in dir_folders:\n",
        "        file_name = os.path.join(src, dir_name)\n",
        "        if os.path.isfile(file_name):\n",
        "            shutil.copy(file_name, path)\n"
      ],
      "execution_count": null,
      "outputs": []
    },
    {
      "cell_type": "code",
      "metadata": {
        "id": "KiT1GXGOfv0k"
      },
      "source": [
        "a=os.listdir('D:/Ekush/allmale')\n",
        "df = pd.DataFrame(data={\"digit\": 0, \"filename\": a})\n",
        "df.to_csv(\"D:/Ekush/allmale.csv\", sep=',',index=False)"
      ],
      "execution_count": null,
      "outputs": []
    },
    {
      "cell_type": "code",
      "metadata": {
        "id": "Uqt-m6n6fwSM"
      },
      "source": [
        "a=os.listdir('D:/Ekush/allfemale')\n",
        "df = pd.DataFrame(data={\"digit\": 1, \"filename\": a})\n",
        "df.to_csv(\"D:/Ekush/allfemale.csv\", sep=',',index=False)"
      ],
      "execution_count": null,
      "outputs": []
    },
    {
      "cell_type": "code",
      "metadata": {
        "id": "ryQ_ccDNfyCs",
        "outputId": "89d6b5d7-97e2-4f6e-a0f6-6f5e57c3cfb2"
      },
      "source": [
        "PATH = 'D:/Ekush/'\n",
        "os.listdir(PATH)"
      ],
      "execution_count": null,
      "outputs": [
        {
          "output_type": "execute_result",
          "data": {
            "text/plain": [
              "['allfemale',\n",
              " 'allfemale.csv',\n",
              " 'allmale',\n",
              " 'allmale.csv',\n",
              " 'female',\n",
              " 'female.zip',\n",
              " 'male',\n",
              " 'male.zip',\n",
              " 'modelassignment2',\n",
              " 'train']"
            ]
          },
          "metadata": {
            "tags": []
          },
          "execution_count": 9
        }
      ]
    },
    {
      "cell_type": "code",
      "metadata": {
        "id": "FKzlryo5fzbl"
      },
      "source": [
        "def showRawTrainingSamples(csv_filename):\n",
        "  df = pd.read_csv(PATH + csv_filename)\n",
        "  print(csv_filename)\n",
        "  print(df.columns)\n",
        "  return df"
      ],
      "execution_count": null,
      "outputs": []
    },
    {
      "cell_type": "code",
      "metadata": {
        "id": "L6va8pmLf0vJ",
        "outputId": "99d91022-4e3c-42fd-9281-5736b854ca80"
      },
      "source": [
        "a_csv = showRawTrainingSamples('allmale.csv')\n",
        "b_csv = showRawTrainingSamples('allfemale.csv')"
      ],
      "execution_count": null,
      "outputs": [
        {
          "output_type": "stream",
          "text": [
            "allmale.csv\n",
            "Index(['digit', 'filename'], dtype='object')\n",
            "allfemale.csv\n",
            "Index(['digit', 'filename'], dtype='object')\n"
          ],
          "name": "stdout"
        }
      ]
    },
    {
      "cell_type": "code",
      "metadata": {
        "id": "BEQ8mKzwf2QE"
      },
      "source": [
        "def dropColumns(csv_file):\n",
        "  csv_file = csv_file[['filename', 'digit']]\n",
        "  print(csv_file)\n",
        "  print(csv_file.iloc[:2, :])   \n",
        "  print(\"=============================\")\n",
        "  return csv_file"
      ],
      "execution_count": null,
      "outputs": []
    },
    {
      "cell_type": "code",
      "metadata": {
        "id": "9TddA_gaf3v0",
        "outputId": "fbfd23c3-10dd-4d95-b849-dbb320e125ce"
      },
      "source": [
        "a_csv = dropColumns(a_csv)\n",
        "b_csv = dropColumns(b_csv)"
      ],
      "execution_count": null,
      "outputs": [
        {
          "output_type": "stream",
          "text": [
            "                          filename  digit\n",
            "0          eight0_18_kis_2_361.jpg      0\n",
            "1      eight0_B.BARIA_14_1_362.jpg      0\n",
            "2      eight0_B.BARIA_17_2_363.jpg      0\n",
            "3        eight0_B.BARIA_20_3_1.jpg      0\n",
            "4      eight0_B.BARIA_20_3_364.jpg      0\n",
            "...                            ...    ...\n",
            "15063      zero0_THAK_20_3_345.jpg      0\n",
            "15064      zero0_THAK_20_3_346.jpg      0\n",
            "15065      zero0_THAK_21_3_347.jpg      0\n",
            "15066      zero0_THAK_21_3_348.jpg      0\n",
            "15067      zero0_THAK_22_3_349.jpg      0\n",
            "\n",
            "[15068 rows x 2 columns]\n",
            "                      filename  digit\n",
            "0      eight0_18_kis_2_361.jpg      0\n",
            "1  eight0_B.BARIA_14_1_362.jpg      0\n",
            "=============================\n",
            "                          filename  digit\n",
            "0          eight1_14_BOG_1_317.jpg      1\n",
            "1        eight1_22_Farid_3_318.jpg      1\n",
            "2      eight1_B.BARIA_11_1_319.jpg      1\n",
            "3      eight1_B.BARIA_11_1_320.jpg      1\n",
            "4      eight1_B.BARIA_11_1_321.jpg      1\n",
            "...                            ...    ...\n",
            "15615       zero1_TAN_1_1_1577.jpg      1\n",
            "15616        zero1_THAK_13_316.jpg      1\n",
            "15617     zero1_Tha_21_3_00032.jpg      1\n",
            "15618     zero1_Tha_22_3_00033.jpg      1\n",
            "15619     zero1_Tha_22_3_00035.jpg      1\n",
            "\n",
            "[15620 rows x 2 columns]\n",
            "                    filename  digit\n",
            "0    eight1_14_BOG_1_317.jpg      1\n",
            "1  eight1_22_Farid_3_318.jpg      1\n",
            "=============================\n"
          ],
          "name": "stdout"
        }
      ]
    },
    {
      "cell_type": "code",
      "metadata": {
        "id": "EHz1O3pEf5NM",
        "outputId": "87fbe245-300c-4ccf-deda-e0abf20990d3"
      },
      "source": [
        "#here i merge the two csv file\n",
        "total_csv = [a_csv, b_csv]\n",
        "merged_csv = pd.concat(total_csv)\n",
        "print(len(merged_csv))"
      ],
      "execution_count": null,
      "outputs": [
        {
          "output_type": "stream",
          "text": [
            "30688\n"
          ],
          "name": "stdout"
        }
      ]
    },
    {
      "cell_type": "code",
      "metadata": {
        "id": "FmnTKCjIf6-m"
      },
      "source": [
        "TRAIN_PATH = 'D:/Ekush/train'\n",
        "os.mkdir(TRAIN_PATH)"
      ],
      "execution_count": null,
      "outputs": []
    },
    {
      "cell_type": "code",
      "metadata": {
        "id": "3tcG7pXnf8Ux"
      },
      "source": [
        "def processImages(folder_name):\n",
        "  src = PATH + folder_name + '/'\n",
        "  dir_folders = os.listdir(src)\n",
        "  for dir_name in dir_folders:\n",
        "    file_name = os.path.join(src, dir_name)\n",
        "    if os.path.isfile(file_name):\n",
        "        shutil.copy(file_name, TRAIN_PATH)"
      ],
      "execution_count": null,
      "outputs": []
    },
    {
      "cell_type": "code",
      "metadata": {
        "id": "J67eccxBf9uN",
        "outputId": "26527632-c5f4-4e83-e193-e1099853e404"
      },
      "source": [
        "processImages('allmale')\n",
        "print('Male Done')\n",
        "processImages('allfemale')\n",
        "print('Female Done')"
      ],
      "execution_count": null,
      "outputs": [
        {
          "output_type": "stream",
          "text": [
            "Male Done\n",
            "Female Done\n"
          ],
          "name": "stdout"
        }
      ]
    },
    {
      "cell_type": "code",
      "metadata": {
        "id": "sypDZsMkf_FY"
      },
      "source": [
        "path_folder='D:/Ekush/train'\n",
        "#resizing the images\n",
        "dir_folders = os.listdir(src)\n",
        "for img_name in dir_folders:\n",
        "    image = Image.open(path_folder+'/'+img_name)\n",
        "    new_image = image.resize((28, 28))\n",
        "    new_image.save(path_folder+'/'+img_name)"
      ],
      "execution_count": null,
      "outputs": []
    },
    {
      "cell_type": "code",
      "metadata": {
        "id": "Xdnq33rigAaE"
      },
      "source": [
        "class Dataset(Dataset):\n",
        "    def __init__(self, df, root, transform=None):\n",
        "        self.data = df\n",
        "        self.root = root\n",
        "        self.transform = transform\n",
        "        \n",
        "    def __len__(self):\n",
        "        return len(self.data)\n",
        "    \n",
        "    def __getitem__(self, index):\n",
        "        item = self.data.iloc[index]\n",
        "        \n",
        "        path = self.root + \"/\" + item[0]\n",
        "        image = Image.open(path).convert('L')\n",
        "        label = item[1]\n",
        "        \n",
        "        if self.transform is not None:\n",
        "            image = self.transform(image)\n",
        "            \n",
        "        return image, label"
      ],
      "execution_count": null,
      "outputs": []
    },
    {
      "cell_type": "code",
      "metadata": {
        "id": "J-B4LErPgBz4",
        "outputId": "661b541a-267c-4fe7-e79c-799f8fbda4b0"
      },
      "source": [
        "mean = [0.5,]\n",
        "std = [0.5, ]\n",
        "\n",
        "train_transform = transforms.Compose([\n",
        "    transforms.Resize(28),\n",
        "    transforms.ToTensor(),\n",
        "    transforms.Normalize(mean, std)\n",
        "])\n",
        "\n",
        "test_transform = transforms.Compose([\n",
        "        transforms.Resize(28),\n",
        "        transforms.ToTensor(),\n",
        "        transforms.Normalize(mean, std)\n",
        "])\n",
        "\n",
        "train_data  = Dataset(merged_csv, TRAIN_PATH, train_transform)\n",
        "test_data = Dataset(merged_csv, TRAIN_PATH, test_transform)\n",
        "\n",
        "print(\"Trainig Samples: \",len(train_data))"
      ],
      "execution_count": null,
      "outputs": [
        {
          "output_type": "stream",
          "text": [
            "Trainig Samples:  30688\n"
          ],
          "name": "stdout"
        }
      ]
    },
    {
      "cell_type": "markdown",
      "metadata": {
        "id": "lD9TDjRXDVvC"
      },
      "source": [
        "#setting1\r\n",
        "Here I Take Batch Size 100,number of hidden nodes are 150 and learning rate is 0.001.Then by using the number of epoch formula I calculate the epochs.Here for the first best output I used 2 ReLU6 activation function with hidden layer."
      ]
    },
    {
      "cell_type": "code",
      "metadata": {
        "id": "mKpJfpizDVvC",
        "outputId": "33ab52ff-97c0-49cd-a9fb-08aaea60eac9"
      },
      "source": [
        "# Hyperparameters\n",
        "\n",
        "batch_size = 100\n",
        "num_iters = 5000\n",
        "input_dim = 28*28 # num_features = 784\n",
        "num_hidden = 150 # num of hidden nodes\n",
        "output_dim = 2\n",
        "\n",
        "learning_rate = 0.001  # More power so we can learn faster! previously it was 0.001\n",
        "\n",
        "num_epochs = num_iters / (len(train_data) / batch_size)\n",
        "num_epochs = int(num_epochs)\n",
        "print(num_epochs)\n",
        "\n",
        "# Device\n",
        "device = torch.device(\"cuda:0\" if torch.cuda.is_available() else \"cpu\")"
      ],
      "execution_count": null,
      "outputs": [
        {
          "output_type": "stream",
          "text": [
            "16\n"
          ],
          "name": "stdout"
        }
      ]
    },
    {
      "cell_type": "code",
      "metadata": {
        "id": "4zknC910DVvC",
        "outputId": "d730c859-a220-4024-dc71-7ce7bc16a3ee"
      },
      "source": [
        "\n",
        "# split data 10% for testing\n",
        "test_size = 0.1\n",
        "\n",
        "# obtain training indices that will be used for validation\n",
        "num_train = len(train_data)\n",
        "\n",
        "# mix data\n",
        "# index of num of train\n",
        "indices = list(range(num_train))\n",
        "# random the index\n",
        "np.random.shuffle(indices)\n",
        "split = int(np.floor(test_size * num_train))\n",
        "# divied into two part\n",
        "train_idx, test_idx = indices[split:], indices[:split]\n",
        "\n",
        "# define the sampler\n",
        "train_sampler = SubsetRandomSampler(train_idx)\n",
        "test_sampler = SubsetRandomSampler(test_idx)\n",
        "\n",
        "# prepare loaders\n",
        "train_loader = torch.utils.data.DataLoader(\n",
        "    train_data, batch_size=batch_size,\n",
        "    sampler=train_sampler)\n",
        "\n",
        "test_loader = torch.utils.data.DataLoader(\n",
        "    test_data, batch_size=batch_size,\n",
        "    sampler=test_sampler)\n",
        "\n",
        "print(\"Train dataloader:{}\".format(len(train_loader)))\n",
        "print(\"Test dataloader:{}\".format(len(test_loader)))\n"
      ],
      "execution_count": null,
      "outputs": [
        {
          "output_type": "stream",
          "text": [
            "Train dataloader:277\n",
            "Test dataloader:31\n"
          ],
          "name": "stdout"
        }
      ]
    },
    {
      "cell_type": "code",
      "metadata": {
        "id": "rfiDDLsmDVvD"
      },
      "source": [
        "class DeepNeuralNetworkModel(nn.Module):\n",
        "    def __init__(self, input_size, num_classes, num_hidden):\n",
        "        super().__init__()\n",
        "        ### 1st hidden layer: 784 --> 100\n",
        "        self.linear_1 = nn.Linear(input_size, num_hidden)\n",
        "        ### Non-linearity in 1st hidden layer\n",
        "        self.relu_1 = nn.ReLU6()\n",
        "\n",
        "        ### 2nd hidden layer: 100 --> 100\n",
        "        self.linear_2 = nn.Linear(num_hidden, num_hidden)\n",
        "        ### Non-linearity in 2nd hidden layer\n",
        "        self.relu_2 = nn.ReLU6()\n",
        "\n",
        "        ### Output layer: 100 --> 10\n",
        "        self.linear_out = nn.Linear(num_hidden, num_classes)\n",
        "\n",
        "    def forward(self, x):\n",
        "        ### 1st hidden layer\n",
        "        out  = self.linear_1(x)\n",
        "        ### Non-linearity in 1st hidden layer\n",
        "        out = self.relu_1(out)\n",
        "        \n",
        "        ### 2nd hidden layer\n",
        "        out  = self.linear_2(out)\n",
        "        ### Non-linearity in 2nd hidden layer\n",
        "        out = self.relu_2(out)\n",
        "        \n",
        "        # Linear layer (output)\n",
        "        probas  = self.linear_out(out)\n",
        "        return probas"
      ],
      "execution_count": null,
      "outputs": []
    },
    {
      "cell_type": "code",
      "metadata": {
        "id": "_XKsRNLfDVvD",
        "outputId": "6d578cb0-2d70-4859-df38-2e205cbca1ce"
      },
      "source": [
        "# INSTANTIATE MODEL CLASS\n",
        "\n",
        "model = DeepNeuralNetworkModel(input_size = input_dim,\n",
        "                               num_classes = output_dim,\n",
        "                               num_hidden = num_hidden)\n",
        "# To enable GPU\n",
        "model.to(device)\n"
      ],
      "execution_count": null,
      "outputs": [
        {
          "output_type": "execute_result",
          "data": {
            "text/plain": [
              "DeepNeuralNetworkModel(\n",
              "  (linear_1): Linear(in_features=784, out_features=150, bias=True)\n",
              "  (relu_1): ReLU6()\n",
              "  (linear_2): Linear(in_features=150, out_features=150, bias=True)\n",
              "  (relu_2): ReLU6()\n",
              "  (linear_out): Linear(in_features=150, out_features=2, bias=True)\n",
              ")"
            ]
          },
          "metadata": {
            "tags": []
          },
          "execution_count": 51
        }
      ]
    },
    {
      "cell_type": "code",
      "metadata": {
        "id": "mhA0_-75DVvD",
        "outputId": "7a42de56-9da0-4e5e-e2c5-395f32c29493"
      },
      "source": [
        "# INSTANTIATE LOSS & OPTIMIZER CLASS\n",
        "\n",
        "criterion = nn.CrossEntropyLoss()\n",
        "optimizer = torch.optim.Adam(model.parameters(), lr=learning_rate)\n",
        "iteration_loss = []\n",
        "iter = 0\n",
        "for epoch in range(num_epochs):\n",
        "    for i, (images, labels) in enumerate(train_loader):\n",
        "\n",
        "        images = images.view(-1, 28*28).to(device)\n",
        "        labels = labels.to(device)\n",
        "\n",
        "        # Clear gradients w.r.t. parameters\n",
        "        optimizer.zero_grad()\n",
        "\n",
        "        # Forward pass to get output/logits\n",
        "        outputs = model(images) \n",
        "\n",
        "        # Calculate Loss: softmax --> cross entropy loss\n",
        "        loss = criterion(outputs, labels)\n",
        "\n",
        "        # Getting gradients w.r.t. parameters\n",
        "        loss.backward()\n",
        "\n",
        "        # Updating parameters\n",
        "        optimizer.step()\n",
        "\n",
        "        iter += 1\n",
        "\n",
        "        if iter % 500 == 0:\n",
        "            # Calculate Accuracy         \n",
        "            correct = 0\n",
        "            total = 0\n",
        "            # Iterate through test dataset\n",
        "            for images, labels in test_loader:\n",
        "               \n",
        "                images = images.view(-1, 28*28).to(device)\n",
        "\n",
        "                # Forward pass only to get logits/output\n",
        "                outputs = model(images)\n",
        "\n",
        "                # Get predictions from the maximum value\n",
        "                _, predicted = torch.max(outputs, 1)\n",
        "\n",
        "                # Total number of labels\n",
        "                total += labels.size(0)\n",
        "\n",
        "\n",
        "                # Total correct predictions\n",
        "                if torch.cuda.is_available():\n",
        "                    correct += (predicted.cpu() == labels.cpu()).sum() \n",
        "                else:\n",
        "                    correct += (predicted == labels).sum()\n",
        "\n",
        "            accuracy = 100 * correct.item() / total\n",
        "\n",
        "            # Print Loss\n",
        "            iteration_loss.append(loss.item())\n",
        "            print('Iteration: {}. Loss: {}. Accuracy: {}'.format(iter, loss.item(), accuracy))"
      ],
      "execution_count": null,
      "outputs": [
        {
          "output_type": "stream",
          "text": [
            "Iteration: 500. Loss: 0.6725316047668457. Accuracy: 61.473272490221646\n",
            "Iteration: 1000. Loss: 0.5992047190666199. Accuracy: 62.54889178617992\n",
            "Iteration: 1500. Loss: 0.628337562084198. Accuracy: 61.3102998696219\n",
            "Iteration: 2000. Loss: 0.5357048511505127. Accuracy: 61.79921773142112\n",
            "Iteration: 2500. Loss: 0.5901457071304321. Accuracy: 62.1251629726206\n",
            "Iteration: 3000. Loss: 0.565665602684021. Accuracy: 61.27770534550196\n",
            "Iteration: 3500. Loss: 0.4572366774082184. Accuracy: 62.027379400260756\n",
            "Iteration: 4000. Loss: 0.4148126542568207. Accuracy: 60.821382007822685\n"
          ],
          "name": "stdout"
        }
      ]
    },
    {
      "cell_type": "code",
      "metadata": {
        "id": "vyXZH0_KDVvE"
      },
      "source": [
        "save_model = True\n",
        "\n",
        "if save_model is True:\n",
        "    # Saves only parameters\n",
        "    # wights & biases\n",
        "    torch.save(model.state_dict(), PATH + 'modelassignment2/model3.pkl') "
      ],
      "execution_count": null,
      "outputs": []
    },
    {
      "cell_type": "code",
      "metadata": {
        "id": "EpDTMqgSDVvE",
        "outputId": "44dca4ca-fcf3-42ea-da36-8421c137eb4c"
      },
      "source": [
        "import matplotlib\n",
        "import matplotlib.pyplot as plt\n",
        "\n",
        "print (iteration_loss)\n",
        "plt.plot(iteration_loss)\n",
        "plt.ylabel('Cross Entropy Loss')\n",
        "plt.xlabel('Iteration (in every 500)')\n",
        "plt.show()"
      ],
      "execution_count": null,
      "outputs": [
        {
          "output_type": "stream",
          "text": [
            "[0.6725316047668457, 0.5992047190666199, 0.628337562084198, 0.5357048511505127, 0.5901457071304321, 0.565665602684021, 0.4572366774082184, 0.4148126542568207]\n"
          ],
          "name": "stdout"
        },
        {
          "output_type": "display_data",
          "data": {
            "image/png": "[encoded data removed]",
            "text/plain": [
              "<Figure size 432x288 with 1 Axes>"
            ]
          },
          "metadata": {
            "tags": [],
            "needs_background": "light"
          }
        }
      ]
    },
    {
      "cell_type": "markdown",
      "metadata": {
        "id": "xL07sQyIDVvG"
      },
      "source": [
        "#setting2\r\n",
        "Here I Take Batch Size 200,number of hidden nodes are 150 and learning rate is 0.001.Then by using the number of epoch formula I calculate the epochs.Here for the first best output I used 2 RReLU activation function with hidden layer.\r\n"
      ]
    },
    {
      "cell_type": "code",
      "metadata": {
        "id": "31hu8NAUDVvG",
        "outputId": "d0ad1726-f131-492e-99fb-1da6fdf750a6"
      },
      "source": [
        "# Hyperparameters\n",
        "\n",
        "batch_size = 200\n",
        "num_iters = 5000\n",
        "input_dim = 28*28 # num_features = 784\n",
        "num_hidden = 150 # num of hidden nodes\n",
        "output_dim = 2\n",
        "\n",
        "learning_rate = 0.001  # More power so we can learn faster! previously it was 0.001\n",
        "\n",
        "num_epochs = num_iters / (len(train_data) / batch_size)\n",
        "num_epochs = int(num_epochs)\n",
        "print(num_epochs)\n",
        "\n",
        "# Device\n",
        "device = torch.device(\"cuda:0\" if torch.cuda.is_available() else \"cpu\")"
      ],
      "execution_count": null,
      "outputs": [
        {
          "output_type": "stream",
          "text": [
            "32\n"
          ],
          "name": "stdout"
        }
      ]
    },
    {
      "cell_type": "code",
      "metadata": {
        "id": "jUeJEkxGDVvG",
        "outputId": "5bbcbe42-290b-41a5-bf35-5d4d86908774"
      },
      "source": [
        "\n",
        "# split data 10% for testing\n",
        "test_size = 0.1\n",
        "\n",
        "# obtain training indices that will be used for validation\n",
        "num_train = len(train_data)\n",
        "\n",
        "# mix data\n",
        "# index of num of train\n",
        "indices = list(range(num_train))\n",
        "# random the index\n",
        "np.random.shuffle(indices)\n",
        "split = int(np.floor(test_size * num_train))\n",
        "# divied into two part\n",
        "train_idx, test_idx = indices[split:], indices[:split]\n",
        "\n",
        "# define the sampler\n",
        "train_sampler = SubsetRandomSampler(train_idx)\n",
        "test_sampler = SubsetRandomSampler(test_idx)\n",
        "\n",
        "# prepare loaders\n",
        "train_loader = torch.utils.data.DataLoader(\n",
        "    train_data, batch_size=batch_size,\n",
        "    sampler=train_sampler)\n",
        "\n",
        "test_loader = torch.utils.data.DataLoader(\n",
        "    test_data, batch_size=batch_size,\n",
        "    sampler=test_sampler)\n",
        "\n",
        "print(\"Train dataloader:{}\".format(len(train_loader)))\n",
        "print(\"Test dataloader:{}\".format(len(test_loader)))\n"
      ],
      "execution_count": null,
      "outputs": [
        {
          "output_type": "stream",
          "text": [
            "Train dataloader:139\n",
            "Test dataloader:16\n"
          ],
          "name": "stdout"
        }
      ]
    },
    {
      "cell_type": "code",
      "metadata": {
        "id": "fFWIIZ4nDVvG"
      },
      "source": [
        "class DeepNeuralNetworkModel(nn.Module):\n",
        "    def __init__(self, input_size, num_classes, num_hidden):\n",
        "        super().__init__()\n",
        "        ### 1st hidden layer: 784 --> 100\n",
        "        self.linear_1 = nn.Linear(input_size, num_hidden)\n",
        "        ### Non-linearity in 1st hidden layer\n",
        "        self.relu_1 = nn.RReLU()\n",
        "\n",
        "        ### 2nd hidden layer: 100 --> 100\n",
        "        self.linear_2 = nn.Linear(num_hidden, num_hidden)\n",
        "        ### Non-linearity in 2nd hidden layer\n",
        "        self.relu_2 = nn.RReLU()\n",
        "\n",
        "        ### Output layer: 100 --> 10\n",
        "        self.linear_out = nn.Linear(num_hidden, num_classes)\n",
        "\n",
        "    def forward(self, x):\n",
        "        ### 1st hidden layer\n",
        "        out  = self.linear_1(x)\n",
        "        ### Non-linearity in 1st hidden layer\n",
        "        out = self.relu_1(out)\n",
        "        \n",
        "        ### 2nd hidden layer\n",
        "        out  = self.linear_2(out)\n",
        "        ### Non-linearity in 2nd hidden layer\n",
        "        out = self.relu_2(out)\n",
        "        \n",
        "        # Linear layer (output)\n",
        "        probas  = self.linear_out(out)\n",
        "        return probas"
      ],
      "execution_count": null,
      "outputs": []
    },
    {
      "cell_type": "code",
      "metadata": {
        "id": "5FnPnVvJDVvG",
        "outputId": "42ec655d-8c06-4fb4-b0e1-0261f23f3669"
      },
      "source": [
        "# INSTANTIATE MODEL CLASS\n",
        "\n",
        "model = DeepNeuralNetworkModel(input_size = input_dim,\n",
        "                               num_classes = output_dim,\n",
        "                               num_hidden = num_hidden)\n",
        "# To enable GPU\n",
        "model.to(device)\n"
      ],
      "execution_count": null,
      "outputs": [
        {
          "output_type": "execute_result",
          "data": {
            "text/plain": [
              "DeepNeuralNetworkModel(\n",
              "  (linear_1): Linear(in_features=784, out_features=150, bias=True)\n",
              "  (relu_1): RReLU(lower=0.125, upper=0.3333333333333333)\n",
              "  (linear_2): Linear(in_features=150, out_features=150, bias=True)\n",
              "  (relu_2): RReLU(lower=0.125, upper=0.3333333333333333)\n",
              "  (linear_out): Linear(in_features=150, out_features=2, bias=True)\n",
              ")"
            ]
          },
          "metadata": {
            "tags": []
          },
          "execution_count": 65
        }
      ]
    },
    {
      "cell_type": "code",
      "metadata": {
        "id": "MbMpJ3IwDVvG",
        "outputId": "dae6d8a7-024d-42ed-b332-185b7bcab159"
      },
      "source": [
        "# INSTANTIATE LOSS & OPTIMIZER CLASS\n",
        "\n",
        "criterion = nn.CrossEntropyLoss()\n",
        "optimizer = torch.optim.Adam(model.parameters(), lr=learning_rate)\n",
        "iteration_loss = []\n",
        "iter = 0\n",
        "for epoch in range(num_epochs):\n",
        "    for i, (images, labels) in enumerate(train_loader):\n",
        "\n",
        "        images = images.view(-1, 28*28).to(device)\n",
        "        labels = labels.to(device)\n",
        "\n",
        "        # Clear gradients w.r.t. parameters\n",
        "        optimizer.zero_grad()\n",
        "\n",
        "        # Forward pass to get output/logits\n",
        "        outputs = model(images) \n",
        "\n",
        "        # Calculate Loss: softmax --> cross entropy loss\n",
        "        loss = criterion(outputs, labels)\n",
        "\n",
        "        # Getting gradients w.r.t. parameters\n",
        "        loss.backward()\n",
        "\n",
        "        # Updating parameters\n",
        "        optimizer.step()\n",
        "\n",
        "        iter += 1\n",
        "\n",
        "        if iter % 500 == 0:\n",
        "            # Calculate Accuracy         \n",
        "            correct = 0\n",
        "            total = 0\n",
        "            # Iterate through test dataset\n",
        "            for images, labels in test_loader:\n",
        "               \n",
        "                images = images.view(-1, 28*28).to(device)\n",
        "\n",
        "                # Forward pass only to get logits/output\n",
        "                outputs = model(images)\n",
        "\n",
        "                # Get predictions from the maximum value\n",
        "                _, predicted = torch.max(outputs, 1)\n",
        "\n",
        "                # Total number of labels\n",
        "                total += labels.size(0)\n",
        "\n",
        "\n",
        "                # Total correct predictions\n",
        "                if torch.cuda.is_available():\n",
        "                    correct += (predicted.cpu() == labels.cpu()).sum() \n",
        "                else:\n",
        "                    correct += (predicted == labels).sum()\n",
        "\n",
        "            accuracy = 100 * correct.item() / total\n",
        "\n",
        "            # Print Loss\n",
        "            iteration_loss.append(loss.item())\n",
        "            print('Iteration: {}. Loss: {}. Accuracy: {}'.format(iter, loss.item(), accuracy))"
      ],
      "execution_count": null,
      "outputs": [
        {
          "output_type": "stream",
          "text": [
            "Iteration: 500. Loss: 0.6284856200218201. Accuracy: 60.59322033898305\n",
            "Iteration: 1000. Loss: 0.6407042145729065. Accuracy: 61.994784876140805\n",
            "Iteration: 1500. Loss: 0.5953037738800049. Accuracy: 62.54889178617992\n",
            "Iteration: 2000. Loss: 0.5629770755767822. Accuracy: 61.92959582790091\n",
            "Iteration: 2500. Loss: 0.5530240535736084. Accuracy: 60.95176010430248\n",
            "Iteration: 3000. Loss: 0.461105078458786. Accuracy: 60.88657105606258\n",
            "Iteration: 3500. Loss: 0.38365936279296875. Accuracy: 60.39765319426336\n",
            "Iteration: 4000. Loss: 0.38014352321624756. Accuracy: 61.11473272490222\n"
          ],
          "name": "stdout"
        }
      ]
    },
    {
      "cell_type": "code",
      "metadata": {
        "id": "19e2jO6hDVvH"
      },
      "source": [
        "\n",
        "save_model = True\n",
        "\n",
        "if save_model is True:\n",
        "    # Saves only parameters\n",
        "    # wights & biases\n",
        "    torch.save(model.state_dict(), PATH + 'modelassignment2/model5.pkl') "
      ],
      "execution_count": null,
      "outputs": []
    },
    {
      "cell_type": "code",
      "metadata": {
        "id": "Q_DqftQhDVvH",
        "outputId": "aa38194b-b35c-4d00-9642-0dcd5c12cc68"
      },
      "source": [
        "import matplotlib\n",
        "import matplotlib.pyplot as plt\n",
        "\n",
        "print (iteration_loss)\n",
        "plt.plot(iteration_loss)\n",
        "plt.ylabel('Cross Entropy Loss')\n",
        "plt.xlabel('Iteration (in every 500)')\n",
        "plt.show()"
      ],
      "execution_count": null,
      "outputs": [
        {
          "output_type": "stream",
          "text": [
            "[0.6284856200218201, 0.6407042145729065, 0.5953037738800049, 0.5629770755767822, 0.5530240535736084, 0.461105078458786, 0.38365936279296875, 0.38014352321624756]\n"
          ],
          "name": "stdout"
        },
        {
          "output_type": "display_data",
          "data": {
            "image/png": "[encoded data removed]",
            "text/plain": [
              "<Figure size 432x288 with 1 Axes>"
            ]
          },
          "metadata": {
            "tags": [],
            "needs_background": "light"
          }
        }
      ]
    },
    {
      "cell_type": "markdown",
      "metadata": {
        "id": "6M9NfQptDVvH"
      },
      "source": [
        "#setting3\r\n",
        "Here I Take Batch Size 200,number of hidden nodes are 150 and learning rate is 0.001.Then by using the number of epoch formula I calculate the epochs.Here for the first best output I used 2 Sigmoid activation function with hidden layer.\r\n"
      ]
    },
    {
      "cell_type": "code",
      "metadata": {
        "id": "vTF-nVrXDVvH",
        "outputId": "9997e64e-f566-4ddf-c9eb-7491a3cb2614"
      },
      "source": [
        "# Hyperparameters\n",
        "\n",
        "batch_size = 200\n",
        "num_iters = 5000\n",
        "input_dim = 28*28 # num_features = 784\n",
        "num_hidden = 150 # num of hidden nodes\n",
        "output_dim = 2\n",
        "\n",
        "learning_rate = 0.001  # More power so we can learn faster! previously it was 0.001\n",
        "\n",
        "num_epochs = num_iters / (len(train_data) / batch_size)\n",
        "num_epochs = int(num_epochs)\n",
        "print(num_epochs)\n",
        "\n",
        "# Device\n",
        "device = torch.device(\"cuda:0\" if torch.cuda.is_available() else \"cpu\")"
      ],
      "execution_count": null,
      "outputs": [
        {
          "output_type": "stream",
          "text": [
            "32\n"
          ],
          "name": "stdout"
        }
      ]
    },
    {
      "cell_type": "code",
      "metadata": {
        "id": "LfJV7ntjDVvI",
        "outputId": "e0d425c3-7c83-47b5-f5f6-48053e9bf3af"
      },
      "source": [
        "\n",
        "# split data 10% for testing\n",
        "test_size = 0.1\n",
        "\n",
        "# obtain training indices that will be used for validation\n",
        "num_train = len(train_data)\n",
        "\n",
        "# mix data\n",
        "# index of num of train\n",
        "indices = list(range(num_train))\n",
        "# random the index\n",
        "np.random.shuffle(indices)\n",
        "split = int(np.floor(test_size * num_train))\n",
        "# divied into two part\n",
        "train_idx, test_idx = indices[split:], indices[:split]\n",
        "\n",
        "# define the sampler\n",
        "train_sampler = SubsetRandomSampler(train_idx)\n",
        "test_sampler = SubsetRandomSampler(test_idx)\n",
        "\n",
        "# prepare loaders\n",
        "train_loader = torch.utils.data.DataLoader(\n",
        "    train_data, batch_size=batch_size,\n",
        "    sampler=train_sampler)\n",
        "\n",
        "test_loader = torch.utils.data.DataLoader(\n",
        "    test_data, batch_size=batch_size,\n",
        "    sampler=test_sampler)\n",
        "\n",
        "print(\"Train dataloader:{}\".format(len(train_loader)))\n",
        "print(\"Test dataloader:{}\".format(len(test_loader)))\n"
      ],
      "execution_count": null,
      "outputs": [
        {
          "output_type": "stream",
          "text": [
            "Train dataloader:139\n",
            "Test dataloader:16\n"
          ],
          "name": "stdout"
        }
      ]
    },
    {
      "cell_type": "code",
      "metadata": {
        "id": "5rZRMUmSDVvI"
      },
      "source": [
        "class DeepNeuralNetworkModel(nn.Module):\n",
        "    def __init__(self, input_size, num_classes, num_hidden):\n",
        "        super().__init__()\n",
        "        ### 1st hidden layer: 784 --> 100\n",
        "        self.linear_1 = nn.Linear(input_size, num_hidden)\n",
        "        ### Non-linearity in 1st hidden layer\n",
        "        self.sigmoid_1 = nn.Sigmoid()\n",
        "\n",
        "        ### 2nd hidden layer: 100 --> 100\n",
        "        self.linear_2 = nn.Linear(num_hidden, num_hidden)\n",
        "        ### Non-linearity in 2nd hidden layer\n",
        "        self.sigmoid_2 = nn.Sigmoid()\n",
        "\n",
        "        ### Output layer: 100 --> 10\n",
        "        self.linear_out = nn.Linear(num_hidden, num_classes)\n",
        "\n",
        "    def forward(self, x):\n",
        "        ### 1st hidden layer\n",
        "        out  = self.linear_1(x)\n",
        "        ### Non-linearity in 1st hidden layer\n",
        "        out = self.sigmoid_1(out)\n",
        "        \n",
        "        ### 2nd hidden layer\n",
        "        out  = self.linear_2(out)\n",
        "        ### Non-linearity in 2nd hidden layer\n",
        "        out = self.sigmoid_2(out)\n",
        "        \n",
        "        # Linear layer (output)\n",
        "        probas  = self.linear_out(out)\n",
        "        return probas"
      ],
      "execution_count": null,
      "outputs": []
    },
    {
      "cell_type": "code",
      "metadata": {
        "id": "H10CbZWMDVvI",
        "outputId": "16f2970f-8aa3-4293-c063-d2215c3f25b2"
      },
      "source": [
        "# INSTANTIATE MODEL CLASS\n",
        "\n",
        "model = DeepNeuralNetworkModel(input_size = input_dim,\n",
        "                               num_classes = output_dim,\n",
        "                               num_hidden = num_hidden)\n",
        "# To enable GPU\n",
        "model.to(device)\n"
      ],
      "execution_count": null,
      "outputs": [
        {
          "output_type": "execute_result",
          "data": {
            "text/plain": [
              "DeepNeuralNetworkModel(\n",
              "  (linear_1): Linear(in_features=784, out_features=150, bias=True)\n",
              "  (sigmoid_1): Sigmoid()\n",
              "  (linear_2): Linear(in_features=150, out_features=150, bias=True)\n",
              "  (sigmoid_2): Sigmoid()\n",
              "  (linear_out): Linear(in_features=150, out_features=2, bias=True)\n",
              ")"
            ]
          },
          "metadata": {
            "tags": []
          },
          "execution_count": 79
        }
      ]
    },
    {
      "cell_type": "code",
      "metadata": {
        "id": "MmhQVVeuDVvI",
        "outputId": "296c7469-82aa-4faa-86bf-6d69a51e36cb"
      },
      "source": [
        "# INSTANTIATE LOSS & OPTIMIZER CLASS\n",
        "\n",
        "criterion = nn.CrossEntropyLoss()\n",
        "optimizer = torch.optim.Adam(model.parameters(), lr=learning_rate)\n",
        "iteration_loss = []\n",
        "iter = 0\n",
        "for epoch in range(num_epochs):\n",
        "    for i, (images, labels) in enumerate(train_loader):\n",
        "\n",
        "        images = images.view(-1, 28*28).to(device)\n",
        "        labels = labels.to(device)\n",
        "\n",
        "        # Clear gradients w.r.t. parameters\n",
        "        optimizer.zero_grad()\n",
        "\n",
        "        # Forward pass to get output/logits\n",
        "        outputs = model(images) \n",
        "\n",
        "        # Calculate Loss: softmax --> cross entropy loss\n",
        "        loss = criterion(outputs, labels)\n",
        "\n",
        "        # Getting gradients w.r.t. parameters\n",
        "        loss.backward()\n",
        "\n",
        "        # Updating parameters\n",
        "        optimizer.step()\n",
        "\n",
        "        iter += 1\n",
        "\n",
        "        if iter % 500 == 0:\n",
        "            # Calculate Accuracy         \n",
        "            correct = 0\n",
        "            total = 0\n",
        "            # Iterate through test dataset\n",
        "            for images, labels in test_loader:\n",
        "               \n",
        "                images = images.view(-1, 28*28).to(device)\n",
        "\n",
        "                # Forward pass only to get logits/output\n",
        "                outputs = model(images)\n",
        "\n",
        "                # Get predictions from the maximum value\n",
        "                _, predicted = torch.max(outputs, 1)\n",
        "\n",
        "                # Total number of labels\n",
        "                total += labels.size(0)\n",
        "\n",
        "\n",
        "                # Total correct predictions\n",
        "                if torch.cuda.is_available():\n",
        "                    correct += (predicted.cpu() == labels.cpu()).sum() \n",
        "                else:\n",
        "                    correct += (predicted == labels).sum()\n",
        "\n",
        "            accuracy = 100 * correct.item() / total\n",
        "\n",
        "            # Print Loss\n",
        "            iteration_loss.append(loss.item())\n",
        "            print('Iteration: {}. Loss: {}. Accuracy: {}'.format(iter, loss.item(), accuracy))"
      ],
      "execution_count": null,
      "outputs": [
        {
          "output_type": "stream",
          "text": [
            "Iteration: 500. Loss: 0.6351383924484253. Accuracy: 61.3754889178618\n",
            "Iteration: 1000. Loss: 0.5954489707946777. Accuracy: 63.363754889178615\n",
            "Iteration: 1500. Loss: 0.5778551697731018. Accuracy: 62.614080834419816\n",
            "Iteration: 2000. Loss: 0.5657685995101929. Accuracy: 62.09256844850065\n",
            "Iteration: 2500. Loss: 0.5064361691474915. Accuracy: 60.75619295958279\n",
            "Iteration: 3000. Loss: 0.3955766260623932. Accuracy: 61.96219035202086\n",
            "Iteration: 3500. Loss: 0.3358219861984253. Accuracy: 61.83181225554107\n",
            "Iteration: 4000. Loss: 0.22064530849456787. Accuracy: 61.408083441981745\n"
          ],
          "name": "stdout"
        }
      ]
    },
    {
      "cell_type": "code",
      "metadata": {
        "id": "HYIE69BwDVvI"
      },
      "source": [
        "\n",
        "save_model = True\n",
        "\n",
        "if save_model is True:\n",
        "    # Saves only parameters\n",
        "    # wights & biases\n",
        "    torch.save(model.state_dict(), PATH + 'modelassignment2/model7.pkl') "
      ],
      "execution_count": null,
      "outputs": []
    },
    {
      "cell_type": "code",
      "metadata": {
        "id": "5EQOhkeZDVvI",
        "outputId": "46e2dae9-b1ec-4ab5-8422-b707dbc89b9c"
      },
      "source": [
        "import matplotlib\n",
        "import matplotlib.pyplot as plt\n",
        "\n",
        "print (iteration_loss)\n",
        "plt.plot(iteration_loss)\n",
        "plt.ylabel('Cross Entropy Loss')\n",
        "plt.xlabel('Iteration (in every 500)')\n",
        "plt.show()"
      ],
      "execution_count": null,
      "outputs": [
        {
          "output_type": "stream",
          "text": [
            "[0.6650289297103882, 0.5804467797279358, 0.5906534790992737, 0.4903383255004883, 0.3718002736568451, 0.20101004838943481, 0.190901979804039, 0.13234025239944458]\n"
          ],
          "name": "stdout"
        },
        {
          "output_type": "display_data",
          "data": {
            "image/png": "[encoded data removed]",
            "text/plain": [
              "<Figure size 432x288 with 1 Axes>"
            ]
          },
          "metadata": {
            "tags": [],
            "needs_background": "light"
          }
        }
      ]
    },
    {
      "cell_type": "markdown",
      "metadata": {
        "id": "6MsFe9b0DVu_"
      },
      "source": [
        "#setting4\n",
        "Here I Take Batch Size 100,number of hidden nodes are 150 and learning rate is 0.001.Then by using the number of epoch formula I calculate the epochs.Here for the first best output I used 3 CELU activation function with hidden layer.\n"
      ]
    },
    {
      "cell_type": "code",
      "metadata": {
        "id": "SJCtYTwcgDZy",
        "outputId": "f2d852bf-ea69-4765-a778-2fa25d779557"
      },
      "source": [
        "# Hyperparameters\n",
        "\n",
        "batch_size = 100\n",
        "num_iters = 5000\n",
        "input_dim = 28*28 # num_features = 784\n",
        "num_hidden = 150 # num of hidden nodes\n",
        "output_dim = 2\n",
        "\n",
        "learning_rate = 0.001  # More power so we can learn faster! previously it was 0.001\n",
        "\n",
        "num_epochs = num_iters / (len(train_data) / batch_size)\n",
        "num_epochs = int(num_epochs)\n",
        "print(num_epochs)\n",
        "\n",
        "# Device\n",
        "device = torch.device(\"cuda:0\" if torch.cuda.is_available() else \"cpu\")"
      ],
      "execution_count": null,
      "outputs": [
        {
          "output_type": "stream",
          "text": [
            "16\n"
          ],
          "name": "stdout"
        }
      ]
    },
    {
      "cell_type": "code",
      "metadata": {
        "id": "i2X_253ugK2B",
        "outputId": "4d689600-6ee2-4e56-b564-ecf97f8e39b4"
      },
      "source": [
        "\n",
        "# split data 10% for testing\n",
        "test_size = 0.1\n",
        "\n",
        "# obtain training indices that will be used for validation\n",
        "num_train = len(train_data)\n",
        "\n",
        "# mix data\n",
        "# index of num of train\n",
        "indices = list(range(num_train))\n",
        "# random the index\n",
        "np.random.shuffle(indices)\n",
        "split = int(np.floor(test_size * num_train))\n",
        "# divied into two part\n",
        "train_idx, test_idx = indices[split:], indices[:split]\n",
        "\n",
        "# define the sampler\n",
        "train_sampler = SubsetRandomSampler(train_idx)\n",
        "test_sampler = SubsetRandomSampler(test_idx)\n",
        "\n",
        "# prepare loaders\n",
        "train_loader = torch.utils.data.DataLoader(\n",
        "    train_data, batch_size=batch_size,\n",
        "    sampler=train_sampler)\n",
        "\n",
        "test_loader = torch.utils.data.DataLoader(\n",
        "    test_data, batch_size=batch_size,\n",
        "    sampler=test_sampler)\n",
        "\n",
        "print(\"Train dataloader:{}\".format(len(train_loader)))\n",
        "print(\"Test dataloader:{}\".format(len(test_loader)))\n"
      ],
      "execution_count": null,
      "outputs": [
        {
          "output_type": "stream",
          "text": [
            "Train dataloader:277\n",
            "Test dataloader:31\n"
          ],
          "name": "stdout"
        }
      ]
    },
    {
      "cell_type": "code",
      "metadata": {
        "id": "BhhSb_m_gNdh"
      },
      "source": [
        "class DeepNeuralNetworkModel(nn.Module):\n",
        "    def __init__(self, input_size, num_classes, num_hidden):\n",
        "        super().__init__()\n",
        "        ### 1st hidden layer: 784 --> 100\n",
        "        self.linear_1 = nn.Linear(input_size, num_hidden)\n",
        "        ### Non-linearity in 1st hidden layer\n",
        "        self.celu_1 = nn.CELU()\n",
        "\n",
        "        ### 2nd hidden layer: 100 --> 100\n",
        "        self.linear_2 = nn.Linear(num_hidden, num_hidden)\n",
        "        ### Non-linearity in 2nd hidden layer\n",
        "        self.celu_2 = nn.CELU()\n",
        "        \n",
        "        ### 3rd hidden layer: 100 --> 100\n",
        "        self.linear_3 = nn.Linear(num_hidden, num_hidden)\n",
        "        ### Non-linearity in 3rd hidden layer\n",
        "        self.celu_3 = nn.CELU()\n",
        "\n",
        "        ### Output layer: 100 --> 10\n",
        "        self.linear_out = nn.Linear(num_hidden, num_classes)\n",
        "\n",
        "    def forward(self, x):\n",
        "        ### 1st hidden layer\n",
        "        out  = self.linear_1(x)\n",
        "        ### Non-linearity in 1st hidden layer\n",
        "        out = self.celu_1(out)\n",
        "        \n",
        "        ### 2nd hidden layer\n",
        "        out  = self.linear_2(out)\n",
        "        ### Non-linearity in 2nd hidden layer\n",
        "        out = self.celu_2(out)\n",
        "        \n",
        "        ### 3rd hidden layer\n",
        "        out  = self.linear_3(out)\n",
        "        ### Non-linearity in 3rd hidden layer\n",
        "        out = self.celu_3(out)\n",
        "        \n",
        "        # Linear layer (output)\n",
        "        probas  = self.linear_out(out)\n",
        "        return probas"
      ],
      "execution_count": null,
      "outputs": []
    },
    {
      "cell_type": "code",
      "metadata": {
        "id": "bwJ5jO6WgP66",
        "outputId": "8b3b6e04-e884-4c74-c041-8e94e1180e7f"
      },
      "source": [
        "# INSTANTIATE MODEL CLASS\n",
        "\n",
        "model = DeepNeuralNetworkModel(input_size = input_dim,\n",
        "                               num_classes = output_dim,\n",
        "                               num_hidden = num_hidden\n",
        "                              )\n",
        "# To enable GPU\n",
        "model.to(device)\n"
      ],
      "execution_count": null,
      "outputs": [
        {
          "output_type": "execute_result",
          "data": {
            "text/plain": [
              "DeepNeuralNetworkModel(\n",
              "  (linear_1): Linear(in_features=784, out_features=150, bias=True)\n",
              "  (celu_1): CELU(alpha=1.0)\n",
              "  (linear_2): Linear(in_features=150, out_features=150, bias=True)\n",
              "  (celu_2): CELU(alpha=1.0)\n",
              "  (linear_3): Linear(in_features=150, out_features=150, bias=True)\n",
              "  (celu_3): CELU(alpha=1.0)\n",
              "  (linear_out): Linear(in_features=150, out_features=2, bias=True)\n",
              ")"
            ]
          },
          "metadata": {
            "tags": []
          },
          "execution_count": 24
        }
      ]
    },
    {
      "cell_type": "code",
      "metadata": {
        "id": "SuRs3nIBgSc4",
        "outputId": "7864d5ea-3d01-444e-b14c-4cb414fc6dc7"
      },
      "source": [
        "# INSTANTIATE LOSS & OPTIMIZER CLASS\n",
        "\n",
        "criterion = nn.CrossEntropyLoss()\n",
        "optimizer = torch.optim.Adam(model.parameters(), lr=learning_rate)\n",
        "iteration_loss = []\n",
        "iter = 0\n",
        "for epoch in range(num_epochs):\n",
        "    for i, (images, labels) in enumerate(train_loader):\n",
        "\n",
        "        images = images.view(-1, 28*28).to(device)\n",
        "        labels = labels.to(device)\n",
        "\n",
        "        # Clear gradients w.r.t. parameters\n",
        "        optimizer.zero_grad()\n",
        "\n",
        "        # Forward pass to get output/logits\n",
        "        outputs = model(images) \n",
        "\n",
        "        # Calculate Loss: softmax --> cross entropy loss\n",
        "        loss = criterion(outputs, labels)\n",
        "\n",
        "        # Getting gradients w.r.t. parameters\n",
        "        loss.backward()\n",
        "\n",
        "        # Updating parameters\n",
        "        optimizer.step()\n",
        "\n",
        "        iter += 1\n",
        "\n",
        "        if iter % 500 == 0:\n",
        "            # Calculate Accuracy         \n",
        "            correct = 0\n",
        "            total = 0\n",
        "            # Iterate through test dataset\n",
        "            for images, labels in test_loader:\n",
        "               \n",
        "                images = images.view(-1, 28*28).to(device)\n",
        "\n",
        "                # Forward pass only to get logits/output\n",
        "                outputs = model(images)\n",
        "\n",
        "                # Get predictions from the maximum value\n",
        "                _, predicted = torch.max(outputs, 1)\n",
        "\n",
        "                # Total number of labels\n",
        "                total += labels.size(0)\n",
        "\n",
        "\n",
        "                # Total correct predictions\n",
        "                if torch.cuda.is_available():\n",
        "                    correct += (predicted.cpu() == labels.cpu()).sum() \n",
        "                else:\n",
        "                    correct += (predicted == labels).sum()\n",
        "\n",
        "            accuracy = 100 * correct.item() / total\n",
        "\n",
        "            # Print Loss\n",
        "            iteration_loss.append(loss.item())\n",
        "            print('Iteration: {}. Loss: {}. Accuracy: {}'.format(iter, loss.item(), accuracy))"
      ],
      "execution_count": null,
      "outputs": [
        {
          "output_type": "stream",
          "text": [
            "Iteration: 500. Loss: 0.69938063621521. Accuracy: 61.994784876140805\n",
            "Iteration: 1000. Loss: 0.6752460598945618. Accuracy: 63.13559322033898\n",
            "Iteration: 1500. Loss: 0.6665568351745605. Accuracy: 63.428943937418516\n",
            "Iteration: 2000. Loss: 0.6104181408882141. Accuracy: 62.972620599739244\n",
            "Iteration: 2500. Loss: 0.552032470703125. Accuracy: 61.83181225554107\n",
            "Iteration: 3000. Loss: 0.5329058170318604. Accuracy: 62.972620599739244\n",
            "Iteration: 3500. Loss: 0.5958788394927979. Accuracy: 61.83181225554107\n",
            "Iteration: 4000. Loss: 0.5270498394966125. Accuracy: 61.53846153846154\n"
          ],
          "name": "stdout"
        }
      ]
    },
    {
      "cell_type": "code",
      "metadata": {
        "id": "vUO7MoG7g2lF"
      },
      "source": [
        "save_model = True\n",
        "\n",
        "if save_model is True:\n",
        "    # Saves only parameters\n",
        "    # wights & biases\n",
        "    torch.save(model.state_dict(), PATH + 'modelassignment2/model1.pkl') "
      ],
      "execution_count": null,
      "outputs": []
    },
    {
      "cell_type": "code",
      "metadata": {
        "id": "OHeq26fNDVvB",
        "outputId": "093a8238-4579-44f0-ec24-392103b23e65"
      },
      "source": [
        "import matplotlib\n",
        "import matplotlib.pyplot as plt\n",
        "\n",
        "print (iteration_loss)\n",
        "plt.plot(iteration_loss)\n",
        "plt.ylabel('Cross Entropy Loss')\n",
        "plt.xlabel('Iteration (in every 500)')\n",
        "plt.show()"
      ],
      "execution_count": null,
      "outputs": [
        {
          "output_type": "stream",
          "text": [
            "[0.69938063621521, 0.6752460598945618, 0.6665568351745605, 0.6104181408882141, 0.552032470703125, 0.5329058170318604, 0.5958788394927979, 0.5270498394966125]\n"
          ],
          "name": "stdout"
        },
        {
          "output_type": "display_data",
          "data": {
            "image/png": "[encoded data removed]",
            "text/plain": [
              "<Figure size 432x288 with 1 Axes>"
            ]
          },
          "metadata": {
            "tags": [],
            "needs_background": "light"
          }
        }
      ]
    },
    {
      "cell_type": "markdown",
      "metadata": {
        "id": "aZn1XiVRfo23"
      },
      "source": [
        "Here I take num_iteration 5000 for all the settings and input dimention 28*28 = 784 with output dimention 2.Also I get better result using CELU,RReLU and Sigmoid activation function.\r\n",
        "\r\n",
        "**Settings Table:-**\r\n",
        "\r\n",
        "| Settings| Batch Size      | num_hidden nodes |  Number Of hidden Layer           |  Accuracy(%)|\r\n",
        "|:--------:| :----------: | : -----------:|:-----:      |:-----------:|\r\n",
        "| 1        | 100          | 150        |  2    |  60.82    |\r\n",
        "| 2        | 200          | 150        |  2    |  61.11  |\r\n",
        "| 3        | 200          | 150        |  2   |  61.40     |\r\n",
        "| 4        | 100          | 150        |  3   |  61.53     |\r\n",
        "\r\n",
        "\r\n",
        "From the table it can be seen that I got the highst accuracy for the Ekush dataset is 61.53 for the setting 4.So if the batch size is 100 and number of hidden nodes are 150 and also the increasing hidden layer then for this dataset I get better result."
      ]
    },
    {
      "cell_type": "markdown",
      "metadata": {
        "id": "y_vSxyLBh_Tl"
      },
      "source": [
        "Here I show the loss curves from setting 1 to 4 respectively.\r\n",
        "\r\n",
        "\r\n",
        "![as2 (1).jpg](data:image/jpeg;base64,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)"
      ]
    }
  ]
}